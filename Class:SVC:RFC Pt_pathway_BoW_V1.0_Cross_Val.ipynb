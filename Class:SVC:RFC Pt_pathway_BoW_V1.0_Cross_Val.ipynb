{
 "cells": [
  {
   "cell_type": "code",
   "execution_count": 1,
   "metadata": {},
   "outputs": [],
   "source": [
    "import numpy as np\n",
    "import pandas as pd\n",
    "import matplotlib.pyplot as plt\n",
    "import seaborn as sns\n",
    "from sklearn.linear_model import LogisticRegression\n",
    "from sklearn import metrics\n",
    "from sklearn.model_selection import train_test_split\n",
    "from sklearn.model_selection import cross_val_score\n",
    "from sklearn.metrics import accuracy_score"
   ]
  },
  {
   "cell_type": "code",
   "execution_count": 2,
   "metadata": {},
   "outputs": [
    {
     "data": {
      "text/html": [
       "<div>\n",
       "<style scoped>\n",
       "    .dataframe tbody tr th:only-of-type {\n",
       "        vertical-align: middle;\n",
       "    }\n",
       "\n",
       "    .dataframe tbody tr th {\n",
       "        vertical-align: top;\n",
       "    }\n",
       "\n",
       "    .dataframe thead th {\n",
       "        text-align: right;\n",
       "    }\n",
       "</style>\n",
       "<table border=\"1\" class=\"dataframe\">\n",
       "  <thead>\n",
       "    <tr style=\"text-align: right;\">\n",
       "      <th></th>\n",
       "      <th>id</th>\n",
       "      <th>Hospital LOS</th>\n",
       "      <th>Mean HLOS</th>\n",
       "      <th>admission_disposition</th>\n",
       "      <th>age</th>\n",
       "      <th>sex</th>\n",
       "      <th>Std Dev</th>\n",
       "      <th>Hypertension</th>\n",
       "      <th>Chronic cardiac disease (not hypertension)</th>\n",
       "      <th>N/A</th>\n",
       "      <th>...</th>\n",
       "      <th>affective</th>\n",
       "      <th>acoustic</th>\n",
       "      <th>neuroma</th>\n",
       "      <th>ear</th>\n",
       "      <th>drum</th>\n",
       "      <th>ercp</th>\n",
       "      <th>sept</th>\n",
       "      <th>antral</th>\n",
       "      <th>ulcers</th>\n",
       "      <th>ogd</th>\n",
       "    </tr>\n",
       "  </thead>\n",
       "  <tbody>\n",
       "    <tr>\n",
       "      <th>0</th>\n",
       "      <td>1</td>\n",
       "      <td>21</td>\n",
       "      <td>1</td>\n",
       "      <td>1</td>\n",
       "      <td>74</td>\n",
       "      <td>1</td>\n",
       "      <td>1</td>\n",
       "      <td>1</td>\n",
       "      <td>0</td>\n",
       "      <td>1</td>\n",
       "      <td>...</td>\n",
       "      <td>0.0</td>\n",
       "      <td>0.0</td>\n",
       "      <td>0.0</td>\n",
       "      <td>0.0</td>\n",
       "      <td>0.0</td>\n",
       "      <td>0.0</td>\n",
       "      <td>0.0</td>\n",
       "      <td>0.0</td>\n",
       "      <td>0.0</td>\n",
       "      <td>0.0</td>\n",
       "    </tr>\n",
       "    <tr>\n",
       "      <th>1</th>\n",
       "      <td>2</td>\n",
       "      <td>5</td>\n",
       "      <td>0</td>\n",
       "      <td>1</td>\n",
       "      <td>61</td>\n",
       "      <td>0</td>\n",
       "      <td>0</td>\n",
       "      <td>1</td>\n",
       "      <td>0</td>\n",
       "      <td>1</td>\n",
       "      <td>...</td>\n",
       "      <td>0.0</td>\n",
       "      <td>0.0</td>\n",
       "      <td>0.0</td>\n",
       "      <td>0.0</td>\n",
       "      <td>0.0</td>\n",
       "      <td>0.0</td>\n",
       "      <td>0.0</td>\n",
       "      <td>0.0</td>\n",
       "      <td>0.0</td>\n",
       "      <td>0.0</td>\n",
       "    </tr>\n",
       "    <tr>\n",
       "      <th>2</th>\n",
       "      <td>3</td>\n",
       "      <td>7</td>\n",
       "      <td>0</td>\n",
       "      <td>1</td>\n",
       "      <td>58</td>\n",
       "      <td>0</td>\n",
       "      <td>0</td>\n",
       "      <td>1</td>\n",
       "      <td>0</td>\n",
       "      <td>1</td>\n",
       "      <td>...</td>\n",
       "      <td>0.0</td>\n",
       "      <td>0.0</td>\n",
       "      <td>0.0</td>\n",
       "      <td>0.0</td>\n",
       "      <td>0.0</td>\n",
       "      <td>0.0</td>\n",
       "      <td>0.0</td>\n",
       "      <td>0.0</td>\n",
       "      <td>0.0</td>\n",
       "      <td>0.0</td>\n",
       "    </tr>\n",
       "    <tr>\n",
       "      <th>3</th>\n",
       "      <td>4</td>\n",
       "      <td>9</td>\n",
       "      <td>0</td>\n",
       "      <td>1</td>\n",
       "      <td>94</td>\n",
       "      <td>1</td>\n",
       "      <td>0</td>\n",
       "      <td>1</td>\n",
       "      <td>0</td>\n",
       "      <td>1</td>\n",
       "      <td>...</td>\n",
       "      <td>0.0</td>\n",
       "      <td>0.0</td>\n",
       "      <td>0.0</td>\n",
       "      <td>0.0</td>\n",
       "      <td>0.0</td>\n",
       "      <td>0.0</td>\n",
       "      <td>0.0</td>\n",
       "      <td>0.0</td>\n",
       "      <td>0.0</td>\n",
       "      <td>0.0</td>\n",
       "    </tr>\n",
       "    <tr>\n",
       "      <th>4</th>\n",
       "      <td>5</td>\n",
       "      <td>9</td>\n",
       "      <td>0</td>\n",
       "      <td>1</td>\n",
       "      <td>91</td>\n",
       "      <td>1</td>\n",
       "      <td>0</td>\n",
       "      <td>1</td>\n",
       "      <td>1</td>\n",
       "      <td>1</td>\n",
       "      <td>...</td>\n",
       "      <td>0.0</td>\n",
       "      <td>0.0</td>\n",
       "      <td>0.0</td>\n",
       "      <td>0.0</td>\n",
       "      <td>0.0</td>\n",
       "      <td>0.0</td>\n",
       "      <td>0.0</td>\n",
       "      <td>0.0</td>\n",
       "      <td>0.0</td>\n",
       "      <td>0.0</td>\n",
       "    </tr>\n",
       "  </tbody>\n",
       "</table>\n",
       "<p>5 rows × 1165 columns</p>\n",
       "</div>"
      ],
      "text/plain": [
       "   id  Hospital LOS  Mean HLOS  admission_disposition  age  sex  Std Dev  \\\n",
       "0   1            21          1                      1   74    1        1   \n",
       "1   2             5          0                      1   61    0        0   \n",
       "2   3             7          0                      1   58    0        0   \n",
       "3   4             9          0                      1   94    1        0   \n",
       "4   5             9          0                      1   91    1        0   \n",
       "\n",
       "   Hypertension  Chronic cardiac disease (not hypertension)  N/A  ...  \\\n",
       "0             1                                           0    1  ...   \n",
       "1             1                                           0    1  ...   \n",
       "2             1                                           0    1  ...   \n",
       "3             1                                           0    1  ...   \n",
       "4             1                                           1    1  ...   \n",
       "\n",
       "   affective  acoustic  neuroma  ear  drum  ercp  sept  antral  ulcers  ogd  \n",
       "0        0.0       0.0      0.0  0.0   0.0   0.0   0.0     0.0     0.0  0.0  \n",
       "1        0.0       0.0      0.0  0.0   0.0   0.0   0.0     0.0     0.0  0.0  \n",
       "2        0.0       0.0      0.0  0.0   0.0   0.0   0.0     0.0     0.0  0.0  \n",
       "3        0.0       0.0      0.0  0.0   0.0   0.0   0.0     0.0     0.0  0.0  \n",
       "4        0.0       0.0      0.0  0.0   0.0   0.0   0.0     0.0     0.0  0.0  \n",
       "\n",
       "[5 rows x 1165 columns]"
      ]
     },
     "execution_count": 2,
     "metadata": {},
     "output_type": "execute_result"
    }
   ],
   "source": [
    "df = pd.read_csv('Dataset/pt_pathways-bow-v1.csv')\n",
    "df.head()"
   ]
  },
  {
   "cell_type": "code",
   "execution_count": 4,
   "metadata": {},
   "outputs": [
    {
     "data": {
      "text/plain": [
       "(508, 1165)"
      ]
     },
     "execution_count": 4,
     "metadata": {},
     "output_type": "execute_result"
    }
   ],
   "source": [
    "df.shape"
   ]
  },
  {
   "cell_type": "code",
   "execution_count": 5,
   "metadata": {},
   "outputs": [],
   "source": [
    "df.drop(['id', 'Hospital LOS', 'Std Dev'], axis = 1, inplace=True)"
   ]
  },
  {
   "cell_type": "code",
   "execution_count": 6,
   "metadata": {},
   "outputs": [],
   "source": [
    "df.drop(['Mean HLOS.1', 'reason_for_admission_Atypical pneumonia [J18.9]', 'reason_for_admission_Fever of unknown origin [R50.9]','reason_for_admission_Hypoxic [R09.0]','reason_for_admission_Myalgia [M79.19]','reason_for_admission_Tachypnea [R06.8]', 'reason_for_admission_Viral pneumonia [J12.9]'], axis = 1, inplace=True)"
   ]
  },
  {
   "cell_type": "code",
   "execution_count": 7,
   "metadata": {},
   "outputs": [
    {
     "data": {
      "text/plain": [
       "(508, 1155)"
      ]
     },
     "execution_count": 7,
     "metadata": {},
     "output_type": "execute_result"
    }
   ],
   "source": [
    "df.shape"
   ]
  },
  {
   "cell_type": "code",
   "execution_count": 8,
   "metadata": {},
   "outputs": [
    {
     "data": {
      "text/html": [
       "<div>\n",
       "<style scoped>\n",
       "    .dataframe tbody tr th:only-of-type {\n",
       "        vertical-align: middle;\n",
       "    }\n",
       "\n",
       "    .dataframe tbody tr th {\n",
       "        vertical-align: top;\n",
       "    }\n",
       "\n",
       "    .dataframe thead th {\n",
       "        text-align: right;\n",
       "    }\n",
       "</style>\n",
       "<table border=\"1\" class=\"dataframe\">\n",
       "  <thead>\n",
       "    <tr style=\"text-align: right;\">\n",
       "      <th></th>\n",
       "      <th>Mean HLOS</th>\n",
       "      <th>admission_disposition</th>\n",
       "      <th>age</th>\n",
       "      <th>sex</th>\n",
       "      <th>Hypertension</th>\n",
       "      <th>Chronic cardiac disease (not hypertension)</th>\n",
       "      <th>N/A</th>\n",
       "      <th>Diabetes</th>\n",
       "      <th>History of cancer [now in remission]</th>\n",
       "      <th>Other</th>\n",
       "      <th>...</th>\n",
       "      <th>affective</th>\n",
       "      <th>acoustic</th>\n",
       "      <th>neuroma</th>\n",
       "      <th>ear</th>\n",
       "      <th>drum</th>\n",
       "      <th>ercp</th>\n",
       "      <th>sept</th>\n",
       "      <th>antral</th>\n",
       "      <th>ulcers</th>\n",
       "      <th>ogd</th>\n",
       "    </tr>\n",
       "  </thead>\n",
       "  <tbody>\n",
       "    <tr>\n",
       "      <th>0</th>\n",
       "      <td>1</td>\n",
       "      <td>1</td>\n",
       "      <td>74</td>\n",
       "      <td>1</td>\n",
       "      <td>1</td>\n",
       "      <td>0</td>\n",
       "      <td>1</td>\n",
       "      <td>1</td>\n",
       "      <td>0</td>\n",
       "      <td>1</td>\n",
       "      <td>...</td>\n",
       "      <td>0.0</td>\n",
       "      <td>0.0</td>\n",
       "      <td>0.0</td>\n",
       "      <td>0.0</td>\n",
       "      <td>0.0</td>\n",
       "      <td>0.0</td>\n",
       "      <td>0.0</td>\n",
       "      <td>0.0</td>\n",
       "      <td>0.0</td>\n",
       "      <td>0.0</td>\n",
       "    </tr>\n",
       "    <tr>\n",
       "      <th>1</th>\n",
       "      <td>0</td>\n",
       "      <td>1</td>\n",
       "      <td>61</td>\n",
       "      <td>0</td>\n",
       "      <td>1</td>\n",
       "      <td>0</td>\n",
       "      <td>1</td>\n",
       "      <td>0</td>\n",
       "      <td>0</td>\n",
       "      <td>1</td>\n",
       "      <td>...</td>\n",
       "      <td>0.0</td>\n",
       "      <td>0.0</td>\n",
       "      <td>0.0</td>\n",
       "      <td>0.0</td>\n",
       "      <td>0.0</td>\n",
       "      <td>0.0</td>\n",
       "      <td>0.0</td>\n",
       "      <td>0.0</td>\n",
       "      <td>0.0</td>\n",
       "      <td>0.0</td>\n",
       "    </tr>\n",
       "    <tr>\n",
       "      <th>2</th>\n",
       "      <td>0</td>\n",
       "      <td>1</td>\n",
       "      <td>58</td>\n",
       "      <td>0</td>\n",
       "      <td>1</td>\n",
       "      <td>0</td>\n",
       "      <td>1</td>\n",
       "      <td>0</td>\n",
       "      <td>0</td>\n",
       "      <td>0</td>\n",
       "      <td>...</td>\n",
       "      <td>0.0</td>\n",
       "      <td>0.0</td>\n",
       "      <td>0.0</td>\n",
       "      <td>0.0</td>\n",
       "      <td>0.0</td>\n",
       "      <td>0.0</td>\n",
       "      <td>0.0</td>\n",
       "      <td>0.0</td>\n",
       "      <td>0.0</td>\n",
       "      <td>0.0</td>\n",
       "    </tr>\n",
       "    <tr>\n",
       "      <th>3</th>\n",
       "      <td>0</td>\n",
       "      <td>1</td>\n",
       "      <td>94</td>\n",
       "      <td>1</td>\n",
       "      <td>1</td>\n",
       "      <td>0</td>\n",
       "      <td>1</td>\n",
       "      <td>0</td>\n",
       "      <td>0</td>\n",
       "      <td>1</td>\n",
       "      <td>...</td>\n",
       "      <td>0.0</td>\n",
       "      <td>0.0</td>\n",
       "      <td>0.0</td>\n",
       "      <td>0.0</td>\n",
       "      <td>0.0</td>\n",
       "      <td>0.0</td>\n",
       "      <td>0.0</td>\n",
       "      <td>0.0</td>\n",
       "      <td>0.0</td>\n",
       "      <td>0.0</td>\n",
       "    </tr>\n",
       "    <tr>\n",
       "      <th>4</th>\n",
       "      <td>0</td>\n",
       "      <td>1</td>\n",
       "      <td>91</td>\n",
       "      <td>1</td>\n",
       "      <td>1</td>\n",
       "      <td>1</td>\n",
       "      <td>1</td>\n",
       "      <td>1</td>\n",
       "      <td>0</td>\n",
       "      <td>1</td>\n",
       "      <td>...</td>\n",
       "      <td>0.0</td>\n",
       "      <td>0.0</td>\n",
       "      <td>0.0</td>\n",
       "      <td>0.0</td>\n",
       "      <td>0.0</td>\n",
       "      <td>0.0</td>\n",
       "      <td>0.0</td>\n",
       "      <td>0.0</td>\n",
       "      <td>0.0</td>\n",
       "      <td>0.0</td>\n",
       "    </tr>\n",
       "  </tbody>\n",
       "</table>\n",
       "<p>5 rows × 1155 columns</p>\n",
       "</div>"
      ],
      "text/plain": [
       "   Mean HLOS  admission_disposition  age  sex  Hypertension  \\\n",
       "0          1                      1   74    1             1   \n",
       "1          0                      1   61    0             1   \n",
       "2          0                      1   58    0             1   \n",
       "3          0                      1   94    1             1   \n",
       "4          0                      1   91    1             1   \n",
       "\n",
       "   Chronic cardiac disease (not hypertension)  N/A  Diabetes  \\\n",
       "0                                           0    1         1   \n",
       "1                                           0    1         0   \n",
       "2                                           0    1         0   \n",
       "3                                           0    1         0   \n",
       "4                                           1    1         1   \n",
       "\n",
       "   History of cancer [now in remission]  Other  ...  affective  acoustic  \\\n",
       "0                                     0      1  ...        0.0       0.0   \n",
       "1                                     0      1  ...        0.0       0.0   \n",
       "2                                     0      0  ...        0.0       0.0   \n",
       "3                                     0      1  ...        0.0       0.0   \n",
       "4                                     0      1  ...        0.0       0.0   \n",
       "\n",
       "   neuroma  ear  drum  ercp  sept  antral  ulcers  ogd  \n",
       "0      0.0  0.0   0.0   0.0   0.0     0.0     0.0  0.0  \n",
       "1      0.0  0.0   0.0   0.0   0.0     0.0     0.0  0.0  \n",
       "2      0.0  0.0   0.0   0.0   0.0     0.0     0.0  0.0  \n",
       "3      0.0  0.0   0.0   0.0   0.0     0.0     0.0  0.0  \n",
       "4      0.0  0.0   0.0   0.0   0.0     0.0     0.0  0.0  \n",
       "\n",
       "[5 rows x 1155 columns]"
      ]
     },
     "execution_count": 8,
     "metadata": {},
     "output_type": "execute_result"
    }
   ],
   "source": [
    "df.head()"
   ]
  },
  {
   "cell_type": "code",
   "execution_count": 23,
   "metadata": {
    "scrolled": true
   },
   "outputs": [],
   "source": [
    "X = df.drop(['Mean HLOS'], axis = 1)\n",
    "y = df[['Mean HLOS']].values.flatten()"
   ]
  },
  {
   "cell_type": "markdown",
   "metadata": {},
   "source": [
    "# Logistic"
   ]
  },
  {
   "cell_type": "code",
   "execution_count": 69,
   "metadata": {},
   "outputs": [],
   "source": [
    "model = LogisticRegression(max_iter=1000)"
   ]
  },
  {
   "cell_type": "code",
   "execution_count": 100,
   "metadata": {
    "scrolled": true
   },
   "outputs": [],
   "source": [
    "# CV just for trainig\n",
    "cv_score_lr = cross_val_score(model, X, y, cv = 10)"
   ]
  },
  {
   "cell_type": "code",
   "execution_count": 101,
   "metadata": {},
   "outputs": [
    {
     "name": "stdout",
     "output_type": "stream",
     "text": [
      "[0.66666667 0.60784314 0.62745098 0.64705882 0.66666667 0.62745098\n",
      " 0.62745098 0.54901961 0.66       0.68      ]\n"
     ]
    }
   ],
   "source": [
    "print(cv_score_lr)"
   ]
  },
  {
   "cell_type": "code",
   "execution_count": 102,
   "metadata": {},
   "outputs": [
    {
     "name": "stdout",
     "output_type": "stream",
     "text": [
      "63.6\n"
     ]
    }
   ],
   "source": [
    "mean_cv_score_lr = np.mean(cv_score_lr) * 100\n",
    "mean_cv_score_lr = round(mean_cv_score_lr, 2)\n",
    "print(mean_cv_score_lr)"
   ]
  },
  {
   "cell_type": "markdown",
   "metadata": {},
   "source": [
    "# SVM"
   ]
  },
  {
   "cell_type": "code",
   "execution_count": 103,
   "metadata": {},
   "outputs": [],
   "source": [
    "from sklearn.svm import SVC"
   ]
  },
  {
   "cell_type": "code",
   "execution_count": 104,
   "metadata": {},
   "outputs": [],
   "source": [
    "#Accuracy in test data\n",
    "cv_score_svc = cross_val_score(SVC(kernel = 'linear'), X, y, cv = 10)"
   ]
  },
  {
   "cell_type": "code",
   "execution_count": 105,
   "metadata": {},
   "outputs": [
    {
     "name": "stdout",
     "output_type": "stream",
     "text": [
      "62.8\n"
     ]
    }
   ],
   "source": [
    "mean_cv_score_svc = np.mean(cv_score_svc) * 100\n",
    "mean_cv_score_svc = round(mean_cv_score_svc, 2)\n",
    "print(mean_cv_score_svc)"
   ]
  },
  {
   "cell_type": "markdown",
   "metadata": {},
   "source": [
    "# Random Forest"
   ]
  },
  {
   "cell_type": "code",
   "execution_count": 110,
   "metadata": {},
   "outputs": [],
   "source": [
    "from sklearn.ensemble import RandomForestClassifier"
   ]
  },
  {
   "cell_type": "code",
   "execution_count": 111,
   "metadata": {},
   "outputs": [],
   "source": [
    "random = RandomForestClassifier()"
   ]
  },
  {
   "cell_type": "code",
   "execution_count": 112,
   "metadata": {},
   "outputs": [],
   "source": [
    "cv_score_rfc = cross_val_score(random, X, y, cv = 10)"
   ]
  },
  {
   "cell_type": "code",
   "execution_count": 113,
   "metadata": {},
   "outputs": [
    {
     "name": "stdout",
     "output_type": "stream",
     "text": [
      "[0.60784314 0.56862745 0.68627451 0.64705882 0.66666667 0.62745098\n",
      " 0.68627451 0.62745098 0.66       0.68      ]\n"
     ]
    }
   ],
   "source": [
    "print(cv_score_rfc)"
   ]
  },
  {
   "cell_type": "code",
   "execution_count": 114,
   "metadata": {},
   "outputs": [
    {
     "name": "stdout",
     "output_type": "stream",
     "text": [
      "64.58\n"
     ]
    }
   ],
   "source": [
    "mean_cv_score_rfc = np.mean(cv_score_rfc) * 100\n",
    "mean_cv_score_rfc = round(mean_cv_score_rfc, 2)\n",
    "print(mean_cv_score_rfc)"
   ]
  }
 ],
 "metadata": {
  "kernelspec": {
   "display_name": "Python 3 (ipykernel)",
   "language": "python",
   "name": "python3"
  },
  "language_info": {
   "codemirror_mode": {
    "name": "ipython",
    "version": 3
   },
   "file_extension": ".py",
   "mimetype": "text/x-python",
   "name": "python",
   "nbconvert_exporter": "python",
   "pygments_lexer": "ipython3",
   "version": "3.9.13"
  }
 },
 "nbformat": 4,
 "nbformat_minor": 2
}
