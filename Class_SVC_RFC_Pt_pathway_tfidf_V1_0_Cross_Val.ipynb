{
  "nbformat": 4,
  "nbformat_minor": 0,
  "metadata": {
    "colab": {
      "provenance": []
    },
    "kernelspec": {
      "name": "python3",
      "display_name": "Python 3"
    },
    "language_info": {
      "name": "python"
    }
  },
  "cells": [
    {
      "cell_type": "code",
      "execution_count": null,
      "metadata": {
        "id": "a9m5kt70SXQI",
        "colab": {
          "base_uri": "https://localhost:8080/"
        },
        "outputId": "5c93a000-9c4b-4dd6-a3ca-1510786e2965"
      },
      "outputs": [
        {
          "output_type": "stream",
          "name": "stdout",
          "text": [
            "Drive already mounted at /content/drive; to attempt to forcibly remount, call drive.mount(\"/content/drive\", force_remount=True).\n"
          ]
        }
      ],
      "source": [
        "import numpy as np\n",
        "import pandas as pd\n",
        "import matplotlib.pyplot as plt\n",
        "import seaborn as sns\n",
        "from sklearn.linear_model import LogisticRegression\n",
        "from sklearn import metrics\n",
        "from sklearn.model_selection import train_test_split\n",
        "from sklearn.model_selection import cross_val_score\n",
        "from sklearn.metrics import accuracy_score\n",
        "import os\n",
        "\n",
        "from google.colab import drive\n",
        "from pathlib import Path\n",
        "drive.mount(\"/content/drive\")"
      ]
    },
    {
      "cell_type": "code",
      "source": [
        "df = pd.read_csv('/content/drive/MyDrive/Colab Notebooks/HMCPW/data/pt_pathways-tfidf-v2.csv')\n",
        "df.head()"
      ],
      "metadata": {
        "colab": {
          "base_uri": "https://localhost:8080/",
          "height": 348
        },
        "id": "Is5BCpeQhGgv",
        "outputId": "11c774c3-5edc-47c4-a4c8-385576d50d6f"
      },
      "execution_count": null,
      "outputs": [
        {
          "output_type": "execute_result",
          "data": {
            "text/plain": [
              "   id  Hospital LOS  Mean HLOS  admission_disposition  age  sex  Std Dev  \\\n",
              "0   1            21          1                      1   74    1        1   \n",
              "1   2             5          0                      1   61    0        0   \n",
              "2   3             7          0                      1   58    0        0   \n",
              "3   4             9          0                      1   94    1        0   \n",
              "4   5             9          0                      1   91    1        0   \n",
              "\n",
              "   Hypertension  Chronic cardiac disease (not hypertension)  N/A  ...  \\\n",
              "0             1                                           0    1  ...   \n",
              "1             1                                           0    1  ...   \n",
              "2             1                                           0    1  ...   \n",
              "3             1                                           0    1  ...   \n",
              "4             1                                           1    1  ...   \n",
              "\n",
              "   vascular  vein  venous  vertebral   vertigo  vessel  visual  vitamin  wall  \\\n",
              "0       0.0   0.0     0.0        0.0  0.000000     0.0     0.0      0.0   0.0   \n",
              "1       0.0   0.0     0.0        0.0  0.454382     0.0     0.0      0.0   0.0   \n",
              "2       0.0   0.0     0.0        0.0  0.000000     0.0     0.0      0.0   0.0   \n",
              "3       0.0   0.0     0.0        0.0  0.000000     0.0     0.0      0.0   0.0   \n",
              "4       0.0   0.0     0.0        0.0  0.000000     0.0     0.0      0.0   0.0   \n",
              "\n",
              "   years  \n",
              "0    0.0  \n",
              "1    0.0  \n",
              "2    0.0  \n",
              "3    0.0  \n",
              "4    0.0  \n",
              "\n",
              "[5 rows x 490 columns]"
            ],
            "text/html": [
              "\n",
              "  <div id=\"df-715c93a2-41b4-4e51-bc50-116c3baf175d\">\n",
              "    <div class=\"colab-df-container\">\n",
              "      <div>\n",
              "<style scoped>\n",
              "    .dataframe tbody tr th:only-of-type {\n",
              "        vertical-align: middle;\n",
              "    }\n",
              "\n",
              "    .dataframe tbody tr th {\n",
              "        vertical-align: top;\n",
              "    }\n",
              "\n",
              "    .dataframe thead th {\n",
              "        text-align: right;\n",
              "    }\n",
              "</style>\n",
              "<table border=\"1\" class=\"dataframe\">\n",
              "  <thead>\n",
              "    <tr style=\"text-align: right;\">\n",
              "      <th></th>\n",
              "      <th>id</th>\n",
              "      <th>Hospital LOS</th>\n",
              "      <th>Mean HLOS</th>\n",
              "      <th>admission_disposition</th>\n",
              "      <th>age</th>\n",
              "      <th>sex</th>\n",
              "      <th>Std Dev</th>\n",
              "      <th>Hypertension</th>\n",
              "      <th>Chronic cardiac disease (not hypertension)</th>\n",
              "      <th>N/A</th>\n",
              "      <th>...</th>\n",
              "      <th>vascular</th>\n",
              "      <th>vein</th>\n",
              "      <th>venous</th>\n",
              "      <th>vertebral</th>\n",
              "      <th>vertigo</th>\n",
              "      <th>vessel</th>\n",
              "      <th>visual</th>\n",
              "      <th>vitamin</th>\n",
              "      <th>wall</th>\n",
              "      <th>years</th>\n",
              "    </tr>\n",
              "  </thead>\n",
              "  <tbody>\n",
              "    <tr>\n",
              "      <th>0</th>\n",
              "      <td>1</td>\n",
              "      <td>21</td>\n",
              "      <td>1</td>\n",
              "      <td>1</td>\n",
              "      <td>74</td>\n",
              "      <td>1</td>\n",
              "      <td>1</td>\n",
              "      <td>1</td>\n",
              "      <td>0</td>\n",
              "      <td>1</td>\n",
              "      <td>...</td>\n",
              "      <td>0.0</td>\n",
              "      <td>0.0</td>\n",
              "      <td>0.0</td>\n",
              "      <td>0.0</td>\n",
              "      <td>0.000000</td>\n",
              "      <td>0.0</td>\n",
              "      <td>0.0</td>\n",
              "      <td>0.0</td>\n",
              "      <td>0.0</td>\n",
              "      <td>0.0</td>\n",
              "    </tr>\n",
              "    <tr>\n",
              "      <th>1</th>\n",
              "      <td>2</td>\n",
              "      <td>5</td>\n",
              "      <td>0</td>\n",
              "      <td>1</td>\n",
              "      <td>61</td>\n",
              "      <td>0</td>\n",
              "      <td>0</td>\n",
              "      <td>1</td>\n",
              "      <td>0</td>\n",
              "      <td>1</td>\n",
              "      <td>...</td>\n",
              "      <td>0.0</td>\n",
              "      <td>0.0</td>\n",
              "      <td>0.0</td>\n",
              "      <td>0.0</td>\n",
              "      <td>0.454382</td>\n",
              "      <td>0.0</td>\n",
              "      <td>0.0</td>\n",
              "      <td>0.0</td>\n",
              "      <td>0.0</td>\n",
              "      <td>0.0</td>\n",
              "    </tr>\n",
              "    <tr>\n",
              "      <th>2</th>\n",
              "      <td>3</td>\n",
              "      <td>7</td>\n",
              "      <td>0</td>\n",
              "      <td>1</td>\n",
              "      <td>58</td>\n",
              "      <td>0</td>\n",
              "      <td>0</td>\n",
              "      <td>1</td>\n",
              "      <td>0</td>\n",
              "      <td>1</td>\n",
              "      <td>...</td>\n",
              "      <td>0.0</td>\n",
              "      <td>0.0</td>\n",
              "      <td>0.0</td>\n",
              "      <td>0.0</td>\n",
              "      <td>0.000000</td>\n",
              "      <td>0.0</td>\n",
              "      <td>0.0</td>\n",
              "      <td>0.0</td>\n",
              "      <td>0.0</td>\n",
              "      <td>0.0</td>\n",
              "    </tr>\n",
              "    <tr>\n",
              "      <th>3</th>\n",
              "      <td>4</td>\n",
              "      <td>9</td>\n",
              "      <td>0</td>\n",
              "      <td>1</td>\n",
              "      <td>94</td>\n",
              "      <td>1</td>\n",
              "      <td>0</td>\n",
              "      <td>1</td>\n",
              "      <td>0</td>\n",
              "      <td>1</td>\n",
              "      <td>...</td>\n",
              "      <td>0.0</td>\n",
              "      <td>0.0</td>\n",
              "      <td>0.0</td>\n",
              "      <td>0.0</td>\n",
              "      <td>0.000000</td>\n",
              "      <td>0.0</td>\n",
              "      <td>0.0</td>\n",
              "      <td>0.0</td>\n",
              "      <td>0.0</td>\n",
              "      <td>0.0</td>\n",
              "    </tr>\n",
              "    <tr>\n",
              "      <th>4</th>\n",
              "      <td>5</td>\n",
              "      <td>9</td>\n",
              "      <td>0</td>\n",
              "      <td>1</td>\n",
              "      <td>91</td>\n",
              "      <td>1</td>\n",
              "      <td>0</td>\n",
              "      <td>1</td>\n",
              "      <td>1</td>\n",
              "      <td>1</td>\n",
              "      <td>...</td>\n",
              "      <td>0.0</td>\n",
              "      <td>0.0</td>\n",
              "      <td>0.0</td>\n",
              "      <td>0.0</td>\n",
              "      <td>0.000000</td>\n",
              "      <td>0.0</td>\n",
              "      <td>0.0</td>\n",
              "      <td>0.0</td>\n",
              "      <td>0.0</td>\n",
              "      <td>0.0</td>\n",
              "    </tr>\n",
              "  </tbody>\n",
              "</table>\n",
              "<p>5 rows × 490 columns</p>\n",
              "</div>\n",
              "      <button class=\"colab-df-convert\" onclick=\"convertToInteractive('df-715c93a2-41b4-4e51-bc50-116c3baf175d')\"\n",
              "              title=\"Convert this dataframe to an interactive table.\"\n",
              "              style=\"display:none;\">\n",
              "        \n",
              "  <svg xmlns=\"http://www.w3.org/2000/svg\" height=\"24px\"viewBox=\"0 0 24 24\"\n",
              "       width=\"24px\">\n",
              "    <path d=\"M0 0h24v24H0V0z\" fill=\"none\"/>\n",
              "    <path d=\"M18.56 5.44l.94 2.06.94-2.06 2.06-.94-2.06-.94-.94-2.06-.94 2.06-2.06.94zm-11 1L8.5 8.5l.94-2.06 2.06-.94-2.06-.94L8.5 2.5l-.94 2.06-2.06.94zm10 10l.94 2.06.94-2.06 2.06-.94-2.06-.94-.94-2.06-.94 2.06-2.06.94z\"/><path d=\"M17.41 7.96l-1.37-1.37c-.4-.4-.92-.59-1.43-.59-.52 0-1.04.2-1.43.59L10.3 9.45l-7.72 7.72c-.78.78-.78 2.05 0 2.83L4 21.41c.39.39.9.59 1.41.59.51 0 1.02-.2 1.41-.59l7.78-7.78 2.81-2.81c.8-.78.8-2.07 0-2.86zM5.41 20L4 18.59l7.72-7.72 1.47 1.35L5.41 20z\"/>\n",
              "  </svg>\n",
              "      </button>\n",
              "      \n",
              "  <style>\n",
              "    .colab-df-container {\n",
              "      display:flex;\n",
              "      flex-wrap:wrap;\n",
              "      gap: 12px;\n",
              "    }\n",
              "\n",
              "    .colab-df-convert {\n",
              "      background-color: #E8F0FE;\n",
              "      border: none;\n",
              "      border-radius: 50%;\n",
              "      cursor: pointer;\n",
              "      display: none;\n",
              "      fill: #1967D2;\n",
              "      height: 32px;\n",
              "      padding: 0 0 0 0;\n",
              "      width: 32px;\n",
              "    }\n",
              "\n",
              "    .colab-df-convert:hover {\n",
              "      background-color: #E2EBFA;\n",
              "      box-shadow: 0px 1px 2px rgba(60, 64, 67, 0.3), 0px 1px 3px 1px rgba(60, 64, 67, 0.15);\n",
              "      fill: #174EA6;\n",
              "    }\n",
              "\n",
              "    [theme=dark] .colab-df-convert {\n",
              "      background-color: #3B4455;\n",
              "      fill: #D2E3FC;\n",
              "    }\n",
              "\n",
              "    [theme=dark] .colab-df-convert:hover {\n",
              "      background-color: #434B5C;\n",
              "      box-shadow: 0px 1px 3px 1px rgba(0, 0, 0, 0.15);\n",
              "      filter: drop-shadow(0px 1px 2px rgba(0, 0, 0, 0.3));\n",
              "      fill: #FFFFFF;\n",
              "    }\n",
              "  </style>\n",
              "\n",
              "      <script>\n",
              "        const buttonEl =\n",
              "          document.querySelector('#df-715c93a2-41b4-4e51-bc50-116c3baf175d button.colab-df-convert');\n",
              "        buttonEl.style.display =\n",
              "          google.colab.kernel.accessAllowed ? 'block' : 'none';\n",
              "\n",
              "        async function convertToInteractive(key) {\n",
              "          const element = document.querySelector('#df-715c93a2-41b4-4e51-bc50-116c3baf175d');\n",
              "          const dataTable =\n",
              "            await google.colab.kernel.invokeFunction('convertToInteractive',\n",
              "                                                     [key], {});\n",
              "          if (!dataTable) return;\n",
              "\n",
              "          const docLinkHtml = 'Like what you see? Visit the ' +\n",
              "            '<a target=\"_blank\" href=https://colab.research.google.com/notebooks/data_table.ipynb>data table notebook</a>'\n",
              "            + ' to learn more about interactive tables.';\n",
              "          element.innerHTML = '';\n",
              "          dataTable['output_type'] = 'display_data';\n",
              "          await google.colab.output.renderOutput(dataTable, element);\n",
              "          const docLink = document.createElement('div');\n",
              "          docLink.innerHTML = docLinkHtml;\n",
              "          element.appendChild(docLink);\n",
              "        }\n",
              "      </script>\n",
              "    </div>\n",
              "  </div>\n",
              "  "
            ]
          },
          "metadata": {},
          "execution_count": 9
        }
      ]
    },
    {
      "cell_type": "code",
      "source": [
        "df.shape"
      ],
      "metadata": {
        "colab": {
          "base_uri": "https://localhost:8080/"
        },
        "id": "4xTuixl4kXbw",
        "outputId": "7b0b8b3c-3b9c-42d3-fc95-6700bf3c375d"
      },
      "execution_count": null,
      "outputs": [
        {
          "output_type": "execute_result",
          "data": {
            "text/plain": [
              "(508, 490)"
            ]
          },
          "metadata": {},
          "execution_count": 10
        }
      ]
    },
    {
      "cell_type": "code",
      "source": [
        "df.drop(['id', 'Hospital LOS', 'Std Dev'], axis = 1, inplace = True)\n",
        "df.drop(['Mean HLOS.1', 'reason_for_admission_Atypical pneumonia [J18.9]', 'reason_for_admission_Fever of unknown origin [R50.9]','reason_for_admission_Hypoxic [R09.0]','reason_for_admission_Myalgia [M79.19]','reason_for_admission_Tachypnea [R06.8]', 'reason_for_admission_Viral pneumonia [J12.9]'], axis = 1, inplace=True)"
      ],
      "metadata": {
        "id": "GdZ4SKkhhGeT"
      },
      "execution_count": null,
      "outputs": []
    },
    {
      "cell_type": "code",
      "source": [
        "df.shape"
      ],
      "metadata": {
        "colab": {
          "base_uri": "https://localhost:8080/"
        },
        "id": "ZtMOUaE5kVem",
        "outputId": "5ced2c79-daea-47cd-9af6-b6a474711bd4"
      },
      "execution_count": null,
      "outputs": [
        {
          "output_type": "execute_result",
          "data": {
            "text/plain": [
              "(508, 480)"
            ]
          },
          "metadata": {},
          "execution_count": 12
        }
      ]
    },
    {
      "cell_type": "code",
      "source": [
        "X = df.drop(['Mean HLOS'], axis = 1)\n",
        "y = df[['Mean HLOS']].values.flatten()"
      ],
      "metadata": {
        "id": "jbba1R1mhGcC"
      },
      "execution_count": null,
      "outputs": []
    },
    {
      "cell_type": "markdown",
      "source": [
        "# Logistic\n",
        "\n"
      ],
      "metadata": {
        "id": "6AWcHNcRmWJs"
      }
    },
    {
      "cell_type": "code",
      "source": [
        "model = LogisticRegression(max_iter=1000)"
      ],
      "metadata": {
        "id": "kTQx5cmJhGZQ"
      },
      "execution_count": null,
      "outputs": []
    },
    {
      "cell_type": "code",
      "source": [
        "# CV just for trainig\n",
        "cv_score_lr = cross_val_score(model, X, y, cv = 10)"
      ],
      "metadata": {
        "id": "oKMupyQskmF9"
      },
      "execution_count": null,
      "outputs": []
    },
    {
      "cell_type": "code",
      "source": [
        "print(cv_score_lr)"
      ],
      "metadata": {
        "colab": {
          "base_uri": "https://localhost:8080/"
        },
        "id": "Kjh6qGpUkmBB",
        "outputId": "76f7df62-ac4f-4975-dcd1-5611af904a2e"
      },
      "execution_count": null,
      "outputs": [
        {
          "output_type": "stream",
          "name": "stdout",
          "text": [
            "[0.63636364 0.45454545 0.54545455 0.63636364 0.63636364 0.72727273\n",
            " 0.54545455 0.63636364 0.6        0.8        0.5        0.9\n",
            " 0.7        0.7        0.8        0.9        0.5        0.9\n",
            " 0.7        0.6        0.7        0.5        0.9        0.7\n",
            " 0.6        0.7        0.3        0.7        0.7        0.7\n",
            " 0.6        0.5        0.5        0.5        0.7        0.5\n",
            " 0.6        0.6        0.7        0.6        0.7        0.8\n",
            " 0.3        0.8        0.7        0.8        0.6        0.7\n",
            " 0.8        0.7       ]\n"
          ]
        }
      ]
    },
    {
      "cell_type": "code",
      "source": [
        "mean_cv_score_lr = sum(cv_score_lr)/len(cv_score_lr)\n",
        "mean_cv_score_lr = mean_cv_score_lr*100\n",
        "mean_cv_score_lr = round(mean_cv_score_lr, 2)\n",
        "print(mean_cv_score_lr)"
      ],
      "metadata": {
        "colab": {
          "base_uri": "https://localhost:8080/"
        },
        "id": "i7_KP2S4ks_c",
        "outputId": "fb5e4e25-b151-4d4d-ffe9-f3803a02f5eb"
      },
      "execution_count": null,
      "outputs": [
        {
          "output_type": "stream",
          "name": "stdout",
          "text": [
            "65.24\n"
          ]
        }
      ]
    },
    {
      "cell_type": "markdown",
      "source": [
        "# SVM Classifier"
      ],
      "metadata": {
        "id": "VTx2iFxWmyfl"
      }
    },
    {
      "cell_type": "code",
      "source": [
        "from sklearn.svm import SVC"
      ],
      "metadata": {
        "id": "wIq3G-Mam6Ik"
      },
      "execution_count": null,
      "outputs": []
    },
    {
      "cell_type": "code",
      "source": [
        "#Accuracy in test data\n",
        "cv_score_svc = cross_val_score(SVC(kernel='linear'), X, y, cv = 10)"
      ],
      "metadata": {
        "id": "DfdGx_yEm9NF"
      },
      "execution_count": null,
      "outputs": []
    },
    {
      "cell_type": "code",
      "source": [
        "mean_cv_score_svc = sum(cv_score_svc)/len(cv_score_svc)\n",
        "mean_cv_score_svc = mean_cv_score_svc*100\n",
        "mean_cv_score_svc = round(mean_cv_score_svc, 2)\n",
        "print(mean_cv_score_svc)"
      ],
      "metadata": {
        "colab": {
          "base_uri": "https://localhost:8080/"
        },
        "id": "7zHhajZgm_l9",
        "outputId": "a998dbb7-186e-494a-bd22-790577f4adec"
      },
      "execution_count": null,
      "outputs": [
        {
          "output_type": "stream",
          "name": "stdout",
          "text": [
            "66.4\n"
          ]
        }
      ]
    },
    {
      "cell_type": "markdown",
      "source": [
        "# Random Forest"
      ],
      "metadata": {
        "id": "4OXYrgXWnans"
      }
    },
    {
      "cell_type": "code",
      "source": [
        "from sklearn.ensemble import RandomForestClassifier"
      ],
      "metadata": {
        "id": "jnxxyW_2nBt5"
      },
      "execution_count": null,
      "outputs": []
    },
    {
      "cell_type": "code",
      "source": [
        "random = RandomForestClassifier()"
      ],
      "metadata": {
        "id": "oHKoh3KbniXk"
      },
      "execution_count": null,
      "outputs": []
    },
    {
      "cell_type": "code",
      "source": [
        "cv_score_rfc = cross_val_score(random, X, y, cv = 50)"
      ],
      "metadata": {
        "id": "sBnnMhwGnkMC"
      },
      "execution_count": null,
      "outputs": []
    },
    {
      "cell_type": "code",
      "source": [
        "print(cv_score_rfc)"
      ],
      "metadata": {
        "colab": {
          "base_uri": "https://localhost:8080/"
        },
        "id": "kiFtBh01noUg",
        "outputId": "4d44c143-687a-4b63-a8fc-1717ee2a1088"
      },
      "execution_count": null,
      "outputs": [
        {
          "output_type": "stream",
          "name": "stdout",
          "text": [
            "[0.54545455 0.45454545 0.45454545 0.72727273 0.45454545 0.45454545\n",
            " 0.63636364 0.72727273 0.6        0.7        0.7        0.8\n",
            " 0.8        0.7        0.6        0.8        0.7        0.8\n",
            " 0.6        0.6        0.7        0.7        0.6        0.8\n",
            " 0.7        0.8        0.7        0.7        0.8        0.6\n",
            " 0.7        0.7        0.6        0.7        0.8        0.6\n",
            " 0.6        0.5        0.7        0.8        0.7        0.7\n",
            " 0.4        0.7        0.7        0.6        0.6        0.7\n",
            " 0.7        0.6       ]\n"
          ]
        }
      ]
    },
    {
      "cell_type": "code",
      "source": [
        "mean_cv_score_rfc = sum(cv_score_rfc)/len(cv_score_rfc)\n",
        "mean_cv_score_rfc = mean_cv_score_rfc*100\n",
        "mean_cv_score_rfc = round(mean_cv_score_rfc, 2)\n",
        "print(mean_cv_score_rfc)"
      ],
      "metadata": {
        "colab": {
          "base_uri": "https://localhost:8080/"
        },
        "id": "VHJcsDj4nrV4",
        "outputId": "e2e6067e-f658-4c73-d852-cfbea57978f1"
      },
      "execution_count": null,
      "outputs": [
        {
          "output_type": "stream",
          "name": "stdout",
          "text": [
            "66.11\n"
          ]
        }
      ]
    }
  ]
}