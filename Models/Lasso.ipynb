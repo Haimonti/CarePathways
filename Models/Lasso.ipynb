{
 "cells": [
  {
   "cell_type": "markdown",
   "id": "51a18cd6",
   "metadata": {},
   "source": [
    "### Lasso Regression"
   ]
  },
  {
   "cell_type": "code",
   "execution_count": 1,
   "id": "cc157475",
   "metadata": {},
   "outputs": [],
   "source": [
    "import pandas as pd\n",
    "import matplotlib.pyplot as plt\n",
    "from sklearn.model_selection import train_test_split\n",
    "from sklearn.decomposition import PCA\n",
    "from sklearn.metrics import mean_squared_error\n",
    "import plotly.express as px"
   ]
  },
  {
   "cell_type": "code",
   "execution_count": 2,
   "id": "02e29145",
   "metadata": {},
   "outputs": [],
   "source": [
    "df = pd.read_csv(\"/Users/asheshlalshrestha/Desktop/UB/Research/CarePathways/Models/Datasets/preprocessed_dataset.csv\")"
   ]
  },
  {
   "cell_type": "code",
   "execution_count": 3,
   "id": "3e12d371",
   "metadata": {},
   "outputs": [
    {
     "data": {
      "text/html": [
       "<div>\n",
       "<style scoped>\n",
       "    .dataframe tbody tr th:only-of-type {\n",
       "        vertical-align: middle;\n",
       "    }\n",
       "\n",
       "    .dataframe tbody tr th {\n",
       "        vertical-align: top;\n",
       "    }\n",
       "\n",
       "    .dataframe thead th {\n",
       "        text-align: right;\n",
       "    }\n",
       "</style>\n",
       "<table border=\"1\" class=\"dataframe\">\n",
       "  <thead>\n",
       "    <tr style=\"text-align: right;\">\n",
       "      <th></th>\n",
       "      <th>hospital_length_of_stay</th>\n",
       "      <th>age</th>\n",
       "      <th>sex</th>\n",
       "      <th>height</th>\n",
       "      <th>weight</th>\n",
       "      <th>smoking_history</th>\n",
       "      <th>previous_er_visit_within_14_days</th>\n",
       "      <th>admission_disposition</th>\n",
       "      <th>Hypertension</th>\n",
       "      <th>Chronic cardiac disease (not hypertension)</th>\n",
       "      <th>...</th>\n",
       "      <th>Respiractin</th>\n",
       "      <th>Immunity Advance</th>\n",
       "      <th>Vesicare</th>\n",
       "      <th>Zaxine</th>\n",
       "      <th>Quinine Sulfate</th>\n",
       "      <th>Desvenlafaxine</th>\n",
       "      <th>Glucosamine</th>\n",
       "      <th>Turmeric</th>\n",
       "      <th>Cogentin Tab</th>\n",
       "      <th>Elavil</th>\n",
       "    </tr>\n",
       "  </thead>\n",
       "  <tbody>\n",
       "    <tr>\n",
       "      <th>0</th>\n",
       "      <td>21</td>\n",
       "      <td>0.485152</td>\n",
       "      <td>1</td>\n",
       "      <td>0.003233</td>\n",
       "      <td>0.001623</td>\n",
       "      <td>0.0</td>\n",
       "      <td>0</td>\n",
       "      <td>1</td>\n",
       "      <td>1</td>\n",
       "      <td>0</td>\n",
       "      <td>...</td>\n",
       "      <td>0.0</td>\n",
       "      <td>0.0</td>\n",
       "      <td>0.0</td>\n",
       "      <td>0.0</td>\n",
       "      <td>0.0</td>\n",
       "      <td>0.0</td>\n",
       "      <td>0.0</td>\n",
       "      <td>0.0</td>\n",
       "      <td>0.0</td>\n",
       "      <td>0.0</td>\n",
       "    </tr>\n",
       "    <tr>\n",
       "      <th>1</th>\n",
       "      <td>5</td>\n",
       "      <td>-0.308119</td>\n",
       "      <td>0</td>\n",
       "      <td>-1.497964</td>\n",
       "      <td>-0.362476</td>\n",
       "      <td>0.0</td>\n",
       "      <td>0</td>\n",
       "      <td>1</td>\n",
       "      <td>1</td>\n",
       "      <td>0</td>\n",
       "      <td>...</td>\n",
       "      <td>0.0</td>\n",
       "      <td>0.0</td>\n",
       "      <td>0.0</td>\n",
       "      <td>0.0</td>\n",
       "      <td>0.0</td>\n",
       "      <td>0.0</td>\n",
       "      <td>0.0</td>\n",
       "      <td>0.0</td>\n",
       "      <td>0.0</td>\n",
       "      <td>0.0</td>\n",
       "    </tr>\n",
       "    <tr>\n",
       "      <th>2</th>\n",
       "      <td>7</td>\n",
       "      <td>-0.491182</td>\n",
       "      <td>0</td>\n",
       "      <td>0.003233</td>\n",
       "      <td>0.001623</td>\n",
       "      <td>0.0</td>\n",
       "      <td>0</td>\n",
       "      <td>1</td>\n",
       "      <td>1</td>\n",
       "      <td>0</td>\n",
       "      <td>...</td>\n",
       "      <td>0.0</td>\n",
       "      <td>0.0</td>\n",
       "      <td>0.0</td>\n",
       "      <td>0.0</td>\n",
       "      <td>0.0</td>\n",
       "      <td>0.0</td>\n",
       "      <td>0.0</td>\n",
       "      <td>0.0</td>\n",
       "      <td>0.0</td>\n",
       "      <td>0.0</td>\n",
       "    </tr>\n",
       "    <tr>\n",
       "      <th>3</th>\n",
       "      <td>9</td>\n",
       "      <td>1.705571</td>\n",
       "      <td>1</td>\n",
       "      <td>1.989114</td>\n",
       "      <td>-0.766671</td>\n",
       "      <td>0.0</td>\n",
       "      <td>0</td>\n",
       "      <td>1</td>\n",
       "      <td>1</td>\n",
       "      <td>0</td>\n",
       "      <td>...</td>\n",
       "      <td>0.0</td>\n",
       "      <td>0.0</td>\n",
       "      <td>0.0</td>\n",
       "      <td>0.0</td>\n",
       "      <td>0.0</td>\n",
       "      <td>0.0</td>\n",
       "      <td>0.0</td>\n",
       "      <td>0.0</td>\n",
       "      <td>0.0</td>\n",
       "      <td>0.0</td>\n",
       "    </tr>\n",
       "    <tr>\n",
       "      <th>4</th>\n",
       "      <td>9</td>\n",
       "      <td>1.522508</td>\n",
       "      <td>1</td>\n",
       "      <td>0.003233</td>\n",
       "      <td>0.001623</td>\n",
       "      <td>1.0</td>\n",
       "      <td>0</td>\n",
       "      <td>1</td>\n",
       "      <td>1</td>\n",
       "      <td>1</td>\n",
       "      <td>...</td>\n",
       "      <td>0.0</td>\n",
       "      <td>0.0</td>\n",
       "      <td>0.0</td>\n",
       "      <td>0.0</td>\n",
       "      <td>0.0</td>\n",
       "      <td>0.0</td>\n",
       "      <td>0.0</td>\n",
       "      <td>0.0</td>\n",
       "      <td>0.0</td>\n",
       "      <td>0.0</td>\n",
       "    </tr>\n",
       "    <tr>\n",
       "      <th>...</th>\n",
       "      <td>...</td>\n",
       "      <td>...</td>\n",
       "      <td>...</td>\n",
       "      <td>...</td>\n",
       "      <td>...</td>\n",
       "      <td>...</td>\n",
       "      <td>...</td>\n",
       "      <td>...</td>\n",
       "      <td>...</td>\n",
       "      <td>...</td>\n",
       "      <td>...</td>\n",
       "      <td>...</td>\n",
       "      <td>...</td>\n",
       "      <td>...</td>\n",
       "      <td>...</td>\n",
       "      <td>...</td>\n",
       "      <td>...</td>\n",
       "      <td>...</td>\n",
       "      <td>...</td>\n",
       "      <td>...</td>\n",
       "      <td>...</td>\n",
       "    </tr>\n",
       "    <tr>\n",
       "      <th>501</th>\n",
       "      <td>2</td>\n",
       "      <td>-0.613224</td>\n",
       "      <td>0</td>\n",
       "      <td>-0.235617</td>\n",
       "      <td>-0.417097</td>\n",
       "      <td>0.0</td>\n",
       "      <td>0</td>\n",
       "      <td>1</td>\n",
       "      <td>0</td>\n",
       "      <td>0</td>\n",
       "      <td>...</td>\n",
       "      <td>0.0</td>\n",
       "      <td>0.0</td>\n",
       "      <td>0.0</td>\n",
       "      <td>0.0</td>\n",
       "      <td>0.0</td>\n",
       "      <td>0.0</td>\n",
       "      <td>0.0</td>\n",
       "      <td>0.0</td>\n",
       "      <td>1.0</td>\n",
       "      <td>0.0</td>\n",
       "    </tr>\n",
       "    <tr>\n",
       "      <th>502</th>\n",
       "      <td>13</td>\n",
       "      <td>0.485152</td>\n",
       "      <td>0</td>\n",
       "      <td>0.003233</td>\n",
       "      <td>-1.378426</td>\n",
       "      <td>0.0</td>\n",
       "      <td>1</td>\n",
       "      <td>1</td>\n",
       "      <td>0</td>\n",
       "      <td>0</td>\n",
       "      <td>...</td>\n",
       "      <td>0.0</td>\n",
       "      <td>0.0</td>\n",
       "      <td>0.0</td>\n",
       "      <td>0.0</td>\n",
       "      <td>0.0</td>\n",
       "      <td>0.0</td>\n",
       "      <td>0.0</td>\n",
       "      <td>0.0</td>\n",
       "      <td>0.0</td>\n",
       "      <td>1.0</td>\n",
       "    </tr>\n",
       "    <tr>\n",
       "      <th>503</th>\n",
       "      <td>19</td>\n",
       "      <td>0.912299</td>\n",
       "      <td>1</td>\n",
       "      <td>-1.110511</td>\n",
       "      <td>-0.832216</td>\n",
       "      <td>0.0</td>\n",
       "      <td>1</td>\n",
       "      <td>1</td>\n",
       "      <td>1</td>\n",
       "      <td>0</td>\n",
       "      <td>...</td>\n",
       "      <td>0.0</td>\n",
       "      <td>0.0</td>\n",
       "      <td>0.0</td>\n",
       "      <td>0.0</td>\n",
       "      <td>0.0</td>\n",
       "      <td>0.0</td>\n",
       "      <td>0.0</td>\n",
       "      <td>0.0</td>\n",
       "      <td>0.0</td>\n",
       "      <td>0.0</td>\n",
       "    </tr>\n",
       "    <tr>\n",
       "      <th>504</th>\n",
       "      <td>9</td>\n",
       "      <td>0.485152</td>\n",
       "      <td>1</td>\n",
       "      <td>0.003233</td>\n",
       "      <td>0.079954</td>\n",
       "      <td>0.0</td>\n",
       "      <td>1</td>\n",
       "      <td>1</td>\n",
       "      <td>1</td>\n",
       "      <td>0</td>\n",
       "      <td>...</td>\n",
       "      <td>0.0</td>\n",
       "      <td>0.0</td>\n",
       "      <td>0.0</td>\n",
       "      <td>0.0</td>\n",
       "      <td>0.0</td>\n",
       "      <td>0.0</td>\n",
       "      <td>1.0</td>\n",
       "      <td>0.0</td>\n",
       "      <td>0.0</td>\n",
       "      <td>0.0</td>\n",
       "    </tr>\n",
       "    <tr>\n",
       "      <th>505</th>\n",
       "      <td>9</td>\n",
       "      <td>0.607194</td>\n",
       "      <td>0</td>\n",
       "      <td>-0.610571</td>\n",
       "      <td>-0.417097</td>\n",
       "      <td>0.0</td>\n",
       "      <td>0</td>\n",
       "      <td>1</td>\n",
       "      <td>1</td>\n",
       "      <td>0</td>\n",
       "      <td>...</td>\n",
       "      <td>0.0</td>\n",
       "      <td>0.0</td>\n",
       "      <td>0.0</td>\n",
       "      <td>0.0</td>\n",
       "      <td>0.0</td>\n",
       "      <td>0.0</td>\n",
       "      <td>0.0</td>\n",
       "      <td>0.0</td>\n",
       "      <td>0.0</td>\n",
       "      <td>0.0</td>\n",
       "    </tr>\n",
       "  </tbody>\n",
       "</table>\n",
       "<p>506 rows × 746 columns</p>\n",
       "</div>"
      ],
      "text/plain": [
       "     hospital_length_of_stay       age  sex    height    weight  \\\n",
       "0                         21  0.485152    1  0.003233  0.001623   \n",
       "1                          5 -0.308119    0 -1.497964 -0.362476   \n",
       "2                          7 -0.491182    0  0.003233  0.001623   \n",
       "3                          9  1.705571    1  1.989114 -0.766671   \n",
       "4                          9  1.522508    1  0.003233  0.001623   \n",
       "..                       ...       ...  ...       ...       ...   \n",
       "501                        2 -0.613224    0 -0.235617 -0.417097   \n",
       "502                       13  0.485152    0  0.003233 -1.378426   \n",
       "503                       19  0.912299    1 -1.110511 -0.832216   \n",
       "504                        9  0.485152    1  0.003233  0.079954   \n",
       "505                        9  0.607194    0 -0.610571 -0.417097   \n",
       "\n",
       "     smoking_history  previous_er_visit_within_14_days  admission_disposition  \\\n",
       "0                0.0                                 0                      1   \n",
       "1                0.0                                 0                      1   \n",
       "2                0.0                                 0                      1   \n",
       "3                0.0                                 0                      1   \n",
       "4                1.0                                 0                      1   \n",
       "..               ...                               ...                    ...   \n",
       "501              0.0                                 0                      1   \n",
       "502              0.0                                 1                      1   \n",
       "503              0.0                                 1                      1   \n",
       "504              0.0                                 1                      1   \n",
       "505              0.0                                 0                      1   \n",
       "\n",
       "     Hypertension  Chronic cardiac disease (not hypertension)  ...  \\\n",
       "0               1                                           0  ...   \n",
       "1               1                                           0  ...   \n",
       "2               1                                           0  ...   \n",
       "3               1                                           0  ...   \n",
       "4               1                                           1  ...   \n",
       "..            ...                                         ...  ...   \n",
       "501             0                                           0  ...   \n",
       "502             0                                           0  ...   \n",
       "503             1                                           0  ...   \n",
       "504             1                                           0  ...   \n",
       "505             1                                           0  ...   \n",
       "\n",
       "     Respiractin  Immunity Advance  Vesicare  Zaxine  Quinine Sulfate  \\\n",
       "0            0.0               0.0       0.0     0.0              0.0   \n",
       "1            0.0               0.0       0.0     0.0              0.0   \n",
       "2            0.0               0.0       0.0     0.0              0.0   \n",
       "3            0.0               0.0       0.0     0.0              0.0   \n",
       "4            0.0               0.0       0.0     0.0              0.0   \n",
       "..           ...               ...       ...     ...              ...   \n",
       "501          0.0               0.0       0.0     0.0              0.0   \n",
       "502          0.0               0.0       0.0     0.0              0.0   \n",
       "503          0.0               0.0       0.0     0.0              0.0   \n",
       "504          0.0               0.0       0.0     0.0              0.0   \n",
       "505          0.0               0.0       0.0     0.0              0.0   \n",
       "\n",
       "     Desvenlafaxine  Glucosamine  Turmeric  Cogentin Tab  Elavil  \n",
       "0               0.0          0.0       0.0           0.0     0.0  \n",
       "1               0.0          0.0       0.0           0.0     0.0  \n",
       "2               0.0          0.0       0.0           0.0     0.0  \n",
       "3               0.0          0.0       0.0           0.0     0.0  \n",
       "4               0.0          0.0       0.0           0.0     0.0  \n",
       "..              ...          ...       ...           ...     ...  \n",
       "501             0.0          0.0       0.0           1.0     0.0  \n",
       "502             0.0          0.0       0.0           0.0     1.0  \n",
       "503             0.0          0.0       0.0           0.0     0.0  \n",
       "504             0.0          1.0       0.0           0.0     0.0  \n",
       "505             0.0          0.0       0.0           0.0     0.0  \n",
       "\n",
       "[506 rows x 746 columns]"
      ]
     },
     "execution_count": 3,
     "metadata": {},
     "output_type": "execute_result"
    }
   ],
   "source": [
    "df = df.drop([\"Unnamed: 0\",\"id\"],axis=1)\n",
    "df"
   ]
  },
  {
   "cell_type": "markdown",
   "id": "452b42c1",
   "metadata": {},
   "source": [
    "### Splitting X and y"
   ]
  },
  {
   "cell_type": "code",
   "execution_count": 4,
   "id": "82100706",
   "metadata": {},
   "outputs": [
    {
     "name": "stdout",
     "output_type": "stream",
     "text": [
      "X_train shape: (354, 745)\n",
      "X_test shape: (152, 745)\n",
      "y_train shape: (354,)\n",
      "y_test shape: (152,)\n"
     ]
    }
   ],
   "source": [
    "from sklearn.model_selection import train_test_split\n",
    "X = df.drop(\"hospital_length_of_stay\",axis =1)\n",
    "y = df['hospital_length_of_stay']\n",
    "\n",
    "X_train, X_test, y_train, y_test = train_test_split(X, y, test_size=0.3, random_state=42)\n",
    "print(\"X_train shape:\", X_train.shape)\n",
    "print(\"X_test shape:\", X_test.shape)\n",
    "print(\"y_train shape:\", y_train.shape)\n",
    "print(\"y_test shape:\", y_test.shape)"
   ]
  },
  {
   "cell_type": "code",
   "execution_count": 5,
   "id": "21aee14d",
   "metadata": {},
   "outputs": [
    {
     "data": {
      "text/html": [
       "<div>\n",
       "<style scoped>\n",
       "    .dataframe tbody tr th:only-of-type {\n",
       "        vertical-align: middle;\n",
       "    }\n",
       "\n",
       "    .dataframe tbody tr th {\n",
       "        vertical-align: top;\n",
       "    }\n",
       "\n",
       "    .dataframe thead th {\n",
       "        text-align: right;\n",
       "    }\n",
       "</style>\n",
       "<table border=\"1\" class=\"dataframe\">\n",
       "  <thead>\n",
       "    <tr style=\"text-align: right;\">\n",
       "      <th></th>\n",
       "      <th>age</th>\n",
       "      <th>sex</th>\n",
       "      <th>height</th>\n",
       "      <th>weight</th>\n",
       "      <th>smoking_history</th>\n",
       "      <th>previous_er_visit_within_14_days</th>\n",
       "      <th>admission_disposition</th>\n",
       "      <th>Hypertension</th>\n",
       "      <th>Chronic cardiac disease (not hypertension)</th>\n",
       "      <th>Diabetes</th>\n",
       "      <th>...</th>\n",
       "      <th>Respiractin</th>\n",
       "      <th>Immunity Advance</th>\n",
       "      <th>Vesicare</th>\n",
       "      <th>Zaxine</th>\n",
       "      <th>Quinine Sulfate</th>\n",
       "      <th>Desvenlafaxine</th>\n",
       "      <th>Glucosamine</th>\n",
       "      <th>Turmeric</th>\n",
       "      <th>Cogentin Tab</th>\n",
       "      <th>Elavil</th>\n",
       "    </tr>\n",
       "  </thead>\n",
       "  <tbody>\n",
       "    <tr>\n",
       "      <th>0</th>\n",
       "      <td>0.485152</td>\n",
       "      <td>1</td>\n",
       "      <td>0.003233</td>\n",
       "      <td>0.001623</td>\n",
       "      <td>0.0</td>\n",
       "      <td>0</td>\n",
       "      <td>1</td>\n",
       "      <td>1</td>\n",
       "      <td>0</td>\n",
       "      <td>1</td>\n",
       "      <td>...</td>\n",
       "      <td>0.0</td>\n",
       "      <td>0.0</td>\n",
       "      <td>0.0</td>\n",
       "      <td>0.0</td>\n",
       "      <td>0.0</td>\n",
       "      <td>0.0</td>\n",
       "      <td>0.0</td>\n",
       "      <td>0.0</td>\n",
       "      <td>0.0</td>\n",
       "      <td>0.0</td>\n",
       "    </tr>\n",
       "    <tr>\n",
       "      <th>1</th>\n",
       "      <td>-0.308119</td>\n",
       "      <td>0</td>\n",
       "      <td>-1.497964</td>\n",
       "      <td>-0.362476</td>\n",
       "      <td>0.0</td>\n",
       "      <td>0</td>\n",
       "      <td>1</td>\n",
       "      <td>1</td>\n",
       "      <td>0</td>\n",
       "      <td>0</td>\n",
       "      <td>...</td>\n",
       "      <td>0.0</td>\n",
       "      <td>0.0</td>\n",
       "      <td>0.0</td>\n",
       "      <td>0.0</td>\n",
       "      <td>0.0</td>\n",
       "      <td>0.0</td>\n",
       "      <td>0.0</td>\n",
       "      <td>0.0</td>\n",
       "      <td>0.0</td>\n",
       "      <td>0.0</td>\n",
       "    </tr>\n",
       "    <tr>\n",
       "      <th>2</th>\n",
       "      <td>-0.491182</td>\n",
       "      <td>0</td>\n",
       "      <td>0.003233</td>\n",
       "      <td>0.001623</td>\n",
       "      <td>0.0</td>\n",
       "      <td>0</td>\n",
       "      <td>1</td>\n",
       "      <td>1</td>\n",
       "      <td>0</td>\n",
       "      <td>0</td>\n",
       "      <td>...</td>\n",
       "      <td>0.0</td>\n",
       "      <td>0.0</td>\n",
       "      <td>0.0</td>\n",
       "      <td>0.0</td>\n",
       "      <td>0.0</td>\n",
       "      <td>0.0</td>\n",
       "      <td>0.0</td>\n",
       "      <td>0.0</td>\n",
       "      <td>0.0</td>\n",
       "      <td>0.0</td>\n",
       "    </tr>\n",
       "    <tr>\n",
       "      <th>3</th>\n",
       "      <td>1.705571</td>\n",
       "      <td>1</td>\n",
       "      <td>1.989114</td>\n",
       "      <td>-0.766671</td>\n",
       "      <td>0.0</td>\n",
       "      <td>0</td>\n",
       "      <td>1</td>\n",
       "      <td>1</td>\n",
       "      <td>0</td>\n",
       "      <td>0</td>\n",
       "      <td>...</td>\n",
       "      <td>0.0</td>\n",
       "      <td>0.0</td>\n",
       "      <td>0.0</td>\n",
       "      <td>0.0</td>\n",
       "      <td>0.0</td>\n",
       "      <td>0.0</td>\n",
       "      <td>0.0</td>\n",
       "      <td>0.0</td>\n",
       "      <td>0.0</td>\n",
       "      <td>0.0</td>\n",
       "    </tr>\n",
       "    <tr>\n",
       "      <th>4</th>\n",
       "      <td>1.522508</td>\n",
       "      <td>1</td>\n",
       "      <td>0.003233</td>\n",
       "      <td>0.001623</td>\n",
       "      <td>1.0</td>\n",
       "      <td>0</td>\n",
       "      <td>1</td>\n",
       "      <td>1</td>\n",
       "      <td>1</td>\n",
       "      <td>1</td>\n",
       "      <td>...</td>\n",
       "      <td>0.0</td>\n",
       "      <td>0.0</td>\n",
       "      <td>0.0</td>\n",
       "      <td>0.0</td>\n",
       "      <td>0.0</td>\n",
       "      <td>0.0</td>\n",
       "      <td>0.0</td>\n",
       "      <td>0.0</td>\n",
       "      <td>0.0</td>\n",
       "      <td>0.0</td>\n",
       "    </tr>\n",
       "    <tr>\n",
       "      <th>...</th>\n",
       "      <td>...</td>\n",
       "      <td>...</td>\n",
       "      <td>...</td>\n",
       "      <td>...</td>\n",
       "      <td>...</td>\n",
       "      <td>...</td>\n",
       "      <td>...</td>\n",
       "      <td>...</td>\n",
       "      <td>...</td>\n",
       "      <td>...</td>\n",
       "      <td>...</td>\n",
       "      <td>...</td>\n",
       "      <td>...</td>\n",
       "      <td>...</td>\n",
       "      <td>...</td>\n",
       "      <td>...</td>\n",
       "      <td>...</td>\n",
       "      <td>...</td>\n",
       "      <td>...</td>\n",
       "      <td>...</td>\n",
       "      <td>...</td>\n",
       "    </tr>\n",
       "    <tr>\n",
       "      <th>501</th>\n",
       "      <td>-0.613224</td>\n",
       "      <td>0</td>\n",
       "      <td>-0.235617</td>\n",
       "      <td>-0.417097</td>\n",
       "      <td>0.0</td>\n",
       "      <td>0</td>\n",
       "      <td>1</td>\n",
       "      <td>0</td>\n",
       "      <td>0</td>\n",
       "      <td>0</td>\n",
       "      <td>...</td>\n",
       "      <td>0.0</td>\n",
       "      <td>0.0</td>\n",
       "      <td>0.0</td>\n",
       "      <td>0.0</td>\n",
       "      <td>0.0</td>\n",
       "      <td>0.0</td>\n",
       "      <td>0.0</td>\n",
       "      <td>0.0</td>\n",
       "      <td>1.0</td>\n",
       "      <td>0.0</td>\n",
       "    </tr>\n",
       "    <tr>\n",
       "      <th>502</th>\n",
       "      <td>0.485152</td>\n",
       "      <td>0</td>\n",
       "      <td>0.003233</td>\n",
       "      <td>-1.378426</td>\n",
       "      <td>0.0</td>\n",
       "      <td>1</td>\n",
       "      <td>1</td>\n",
       "      <td>0</td>\n",
       "      <td>0</td>\n",
       "      <td>0</td>\n",
       "      <td>...</td>\n",
       "      <td>0.0</td>\n",
       "      <td>0.0</td>\n",
       "      <td>0.0</td>\n",
       "      <td>0.0</td>\n",
       "      <td>0.0</td>\n",
       "      <td>0.0</td>\n",
       "      <td>0.0</td>\n",
       "      <td>0.0</td>\n",
       "      <td>0.0</td>\n",
       "      <td>1.0</td>\n",
       "    </tr>\n",
       "    <tr>\n",
       "      <th>503</th>\n",
       "      <td>0.912299</td>\n",
       "      <td>1</td>\n",
       "      <td>-1.110511</td>\n",
       "      <td>-0.832216</td>\n",
       "      <td>0.0</td>\n",
       "      <td>1</td>\n",
       "      <td>1</td>\n",
       "      <td>1</td>\n",
       "      <td>0</td>\n",
       "      <td>1</td>\n",
       "      <td>...</td>\n",
       "      <td>0.0</td>\n",
       "      <td>0.0</td>\n",
       "      <td>0.0</td>\n",
       "      <td>0.0</td>\n",
       "      <td>0.0</td>\n",
       "      <td>0.0</td>\n",
       "      <td>0.0</td>\n",
       "      <td>0.0</td>\n",
       "      <td>0.0</td>\n",
       "      <td>0.0</td>\n",
       "    </tr>\n",
       "    <tr>\n",
       "      <th>504</th>\n",
       "      <td>0.485152</td>\n",
       "      <td>1</td>\n",
       "      <td>0.003233</td>\n",
       "      <td>0.079954</td>\n",
       "      <td>0.0</td>\n",
       "      <td>1</td>\n",
       "      <td>1</td>\n",
       "      <td>1</td>\n",
       "      <td>0</td>\n",
       "      <td>0</td>\n",
       "      <td>...</td>\n",
       "      <td>0.0</td>\n",
       "      <td>0.0</td>\n",
       "      <td>0.0</td>\n",
       "      <td>0.0</td>\n",
       "      <td>0.0</td>\n",
       "      <td>0.0</td>\n",
       "      <td>1.0</td>\n",
       "      <td>0.0</td>\n",
       "      <td>0.0</td>\n",
       "      <td>0.0</td>\n",
       "    </tr>\n",
       "    <tr>\n",
       "      <th>505</th>\n",
       "      <td>0.607194</td>\n",
       "      <td>0</td>\n",
       "      <td>-0.610571</td>\n",
       "      <td>-0.417097</td>\n",
       "      <td>0.0</td>\n",
       "      <td>0</td>\n",
       "      <td>1</td>\n",
       "      <td>1</td>\n",
       "      <td>0</td>\n",
       "      <td>1</td>\n",
       "      <td>...</td>\n",
       "      <td>0.0</td>\n",
       "      <td>0.0</td>\n",
       "      <td>0.0</td>\n",
       "      <td>0.0</td>\n",
       "      <td>0.0</td>\n",
       "      <td>0.0</td>\n",
       "      <td>0.0</td>\n",
       "      <td>0.0</td>\n",
       "      <td>0.0</td>\n",
       "      <td>0.0</td>\n",
       "    </tr>\n",
       "  </tbody>\n",
       "</table>\n",
       "<p>506 rows × 745 columns</p>\n",
       "</div>"
      ],
      "text/plain": [
       "          age  sex    height    weight  smoking_history  \\\n",
       "0    0.485152    1  0.003233  0.001623              0.0   \n",
       "1   -0.308119    0 -1.497964 -0.362476              0.0   \n",
       "2   -0.491182    0  0.003233  0.001623              0.0   \n",
       "3    1.705571    1  1.989114 -0.766671              0.0   \n",
       "4    1.522508    1  0.003233  0.001623              1.0   \n",
       "..        ...  ...       ...       ...              ...   \n",
       "501 -0.613224    0 -0.235617 -0.417097              0.0   \n",
       "502  0.485152    0  0.003233 -1.378426              0.0   \n",
       "503  0.912299    1 -1.110511 -0.832216              0.0   \n",
       "504  0.485152    1  0.003233  0.079954              0.0   \n",
       "505  0.607194    0 -0.610571 -0.417097              0.0   \n",
       "\n",
       "     previous_er_visit_within_14_days  admission_disposition  Hypertension  \\\n",
       "0                                   0                      1             1   \n",
       "1                                   0                      1             1   \n",
       "2                                   0                      1             1   \n",
       "3                                   0                      1             1   \n",
       "4                                   0                      1             1   \n",
       "..                                ...                    ...           ...   \n",
       "501                                 0                      1             0   \n",
       "502                                 1                      1             0   \n",
       "503                                 1                      1             1   \n",
       "504                                 1                      1             1   \n",
       "505                                 0                      1             1   \n",
       "\n",
       "     Chronic cardiac disease (not hypertension)  Diabetes  ...  Respiractin  \\\n",
       "0                                             0         1  ...          0.0   \n",
       "1                                             0         0  ...          0.0   \n",
       "2                                             0         0  ...          0.0   \n",
       "3                                             0         0  ...          0.0   \n",
       "4                                             1         1  ...          0.0   \n",
       "..                                          ...       ...  ...          ...   \n",
       "501                                           0         0  ...          0.0   \n",
       "502                                           0         0  ...          0.0   \n",
       "503                                           0         1  ...          0.0   \n",
       "504                                           0         0  ...          0.0   \n",
       "505                                           0         1  ...          0.0   \n",
       "\n",
       "     Immunity Advance  Vesicare  Zaxine  Quinine Sulfate  Desvenlafaxine  \\\n",
       "0                 0.0       0.0     0.0              0.0             0.0   \n",
       "1                 0.0       0.0     0.0              0.0             0.0   \n",
       "2                 0.0       0.0     0.0              0.0             0.0   \n",
       "3                 0.0       0.0     0.0              0.0             0.0   \n",
       "4                 0.0       0.0     0.0              0.0             0.0   \n",
       "..                ...       ...     ...              ...             ...   \n",
       "501               0.0       0.0     0.0              0.0             0.0   \n",
       "502               0.0       0.0     0.0              0.0             0.0   \n",
       "503               0.0       0.0     0.0              0.0             0.0   \n",
       "504               0.0       0.0     0.0              0.0             0.0   \n",
       "505               0.0       0.0     0.0              0.0             0.0   \n",
       "\n",
       "     Glucosamine  Turmeric  Cogentin Tab  Elavil  \n",
       "0            0.0       0.0           0.0     0.0  \n",
       "1            0.0       0.0           0.0     0.0  \n",
       "2            0.0       0.0           0.0     0.0  \n",
       "3            0.0       0.0           0.0     0.0  \n",
       "4            0.0       0.0           0.0     0.0  \n",
       "..           ...       ...           ...     ...  \n",
       "501          0.0       0.0           1.0     0.0  \n",
       "502          0.0       0.0           0.0     1.0  \n",
       "503          0.0       0.0           0.0     0.0  \n",
       "504          1.0       0.0           0.0     0.0  \n",
       "505          0.0       0.0           0.0     0.0  \n",
       "\n",
       "[506 rows x 745 columns]"
      ]
     },
     "execution_count": 5,
     "metadata": {},
     "output_type": "execute_result"
    }
   ],
   "source": [
    "X"
   ]
  },
  {
   "cell_type": "code",
   "execution_count": 279,
   "id": "77cbb945",
   "metadata": {},
   "outputs": [
    {
     "data": {
      "text/html": [
       "<div>\n",
       "<style scoped>\n",
       "    .dataframe tbody tr th:only-of-type {\n",
       "        vertical-align: middle;\n",
       "    }\n",
       "\n",
       "    .dataframe tbody tr th {\n",
       "        vertical-align: top;\n",
       "    }\n",
       "\n",
       "    .dataframe thead th {\n",
       "        text-align: right;\n",
       "    }\n",
       "</style>\n",
       "<table border=\"1\" class=\"dataframe\">\n",
       "  <thead>\n",
       "    <tr style=\"text-align: right;\">\n",
       "      <th></th>\n",
       "      <th>age</th>\n",
       "      <th>sex</th>\n",
       "      <th>height</th>\n",
       "      <th>weight</th>\n",
       "      <th>smoking_history</th>\n",
       "      <th>previous_er_visit_within_14_days</th>\n",
       "      <th>admission_disposition</th>\n",
       "      <th>Hypertension</th>\n",
       "      <th>Chronic cardiac disease (not hypertension)</th>\n",
       "      <th>Diabetes</th>\n",
       "      <th>...</th>\n",
       "      <th>Respiractin</th>\n",
       "      <th>Immunity Advance</th>\n",
       "      <th>Vesicare</th>\n",
       "      <th>Zaxine</th>\n",
       "      <th>Quinine Sulfate</th>\n",
       "      <th>Desvenlafaxine</th>\n",
       "      <th>Glucosamine</th>\n",
       "      <th>Turmeric</th>\n",
       "      <th>Cogentin Tab</th>\n",
       "      <th>Elavil</th>\n",
       "    </tr>\n",
       "  </thead>\n",
       "  <tbody>\n",
       "    <tr>\n",
       "      <th>5</th>\n",
       "      <td>-1.345475</td>\n",
       "      <td>1</td>\n",
       "      <td>1.264202</td>\n",
       "      <td>1.734969</td>\n",
       "      <td>0.0</td>\n",
       "      <td>0</td>\n",
       "      <td>0</td>\n",
       "      <td>1</td>\n",
       "      <td>0</td>\n",
       "      <td>0</td>\n",
       "      <td>...</td>\n",
       "      <td>0.0</td>\n",
       "      <td>0.0</td>\n",
       "      <td>0.0</td>\n",
       "      <td>0.0</td>\n",
       "      <td>0.0</td>\n",
       "      <td>0.0</td>\n",
       "      <td>0.0</td>\n",
       "      <td>0.0</td>\n",
       "      <td>0.0</td>\n",
       "      <td>0.0</td>\n",
       "    </tr>\n",
       "    <tr>\n",
       "      <th>116</th>\n",
       "      <td>1.400466</td>\n",
       "      <td>1</td>\n",
       "      <td>0.003233</td>\n",
       "      <td>0.001623</td>\n",
       "      <td>0.0</td>\n",
       "      <td>0</td>\n",
       "      <td>1</td>\n",
       "      <td>1</td>\n",
       "      <td>1</td>\n",
       "      <td>0</td>\n",
       "      <td>...</td>\n",
       "      <td>0.0</td>\n",
       "      <td>0.0</td>\n",
       "      <td>0.0</td>\n",
       "      <td>0.0</td>\n",
       "      <td>0.0</td>\n",
       "      <td>0.0</td>\n",
       "      <td>0.0</td>\n",
       "      <td>0.0</td>\n",
       "      <td>0.0</td>\n",
       "      <td>0.0</td>\n",
       "    </tr>\n",
       "    <tr>\n",
       "      <th>45</th>\n",
       "      <td>-0.796287</td>\n",
       "      <td>0</td>\n",
       "      <td>0.003233</td>\n",
       "      <td>-0.417097</td>\n",
       "      <td>0.0</td>\n",
       "      <td>0</td>\n",
       "      <td>1</td>\n",
       "      <td>1</td>\n",
       "      <td>1</td>\n",
       "      <td>1</td>\n",
       "      <td>...</td>\n",
       "      <td>0.0</td>\n",
       "      <td>0.0</td>\n",
       "      <td>0.0</td>\n",
       "      <td>0.0</td>\n",
       "      <td>0.0</td>\n",
       "      <td>0.0</td>\n",
       "      <td>0.0</td>\n",
       "      <td>0.0</td>\n",
       "      <td>0.0</td>\n",
       "      <td>0.0</td>\n",
       "    </tr>\n",
       "    <tr>\n",
       "      <th>16</th>\n",
       "      <td>1.278424</td>\n",
       "      <td>0</td>\n",
       "      <td>-0.110632</td>\n",
       "      <td>-0.378862</td>\n",
       "      <td>0.0</td>\n",
       "      <td>0</td>\n",
       "      <td>1</td>\n",
       "      <td>1</td>\n",
       "      <td>0</td>\n",
       "      <td>0</td>\n",
       "      <td>...</td>\n",
       "      <td>0.0</td>\n",
       "      <td>0.0</td>\n",
       "      <td>0.0</td>\n",
       "      <td>0.0</td>\n",
       "      <td>0.0</td>\n",
       "      <td>0.0</td>\n",
       "      <td>0.0</td>\n",
       "      <td>0.0</td>\n",
       "      <td>0.0</td>\n",
       "      <td>0.0</td>\n",
       "    </tr>\n",
       "    <tr>\n",
       "      <th>468</th>\n",
       "      <td>0.058006</td>\n",
       "      <td>1</td>\n",
       "      <td>1.014232</td>\n",
       "      <td>0.451376</td>\n",
       "      <td>0.0</td>\n",
       "      <td>0</td>\n",
       "      <td>1</td>\n",
       "      <td>1</td>\n",
       "      <td>0</td>\n",
       "      <td>1</td>\n",
       "      <td>...</td>\n",
       "      <td>0.0</td>\n",
       "      <td>0.0</td>\n",
       "      <td>0.0</td>\n",
       "      <td>0.0</td>\n",
       "      <td>0.0</td>\n",
       "      <td>0.0</td>\n",
       "      <td>0.0</td>\n",
       "      <td>0.0</td>\n",
       "      <td>0.0</td>\n",
       "      <td>0.0</td>\n",
       "    </tr>\n",
       "    <tr>\n",
       "      <th>...</th>\n",
       "      <td>...</td>\n",
       "      <td>...</td>\n",
       "      <td>...</td>\n",
       "      <td>...</td>\n",
       "      <td>...</td>\n",
       "      <td>...</td>\n",
       "      <td>...</td>\n",
       "      <td>...</td>\n",
       "      <td>...</td>\n",
       "      <td>...</td>\n",
       "      <td>...</td>\n",
       "      <td>...</td>\n",
       "      <td>...</td>\n",
       "      <td>...</td>\n",
       "      <td>...</td>\n",
       "      <td>...</td>\n",
       "      <td>...</td>\n",
       "      <td>...</td>\n",
       "      <td>...</td>\n",
       "      <td>...</td>\n",
       "      <td>...</td>\n",
       "    </tr>\n",
       "    <tr>\n",
       "      <th>106</th>\n",
       "      <td>1.644550</td>\n",
       "      <td>1</td>\n",
       "      <td>0.003233</td>\n",
       "      <td>0.001623</td>\n",
       "      <td>0.0</td>\n",
       "      <td>0</td>\n",
       "      <td>1</td>\n",
       "      <td>0</td>\n",
       "      <td>0</td>\n",
       "      <td>0</td>\n",
       "      <td>...</td>\n",
       "      <td>0.0</td>\n",
       "      <td>0.0</td>\n",
       "      <td>0.0</td>\n",
       "      <td>0.0</td>\n",
       "      <td>0.0</td>\n",
       "      <td>0.0</td>\n",
       "      <td>0.0</td>\n",
       "      <td>0.0</td>\n",
       "      <td>0.0</td>\n",
       "      <td>0.0</td>\n",
       "    </tr>\n",
       "    <tr>\n",
       "      <th>270</th>\n",
       "      <td>0.119027</td>\n",
       "      <td>1</td>\n",
       "      <td>0.003233</td>\n",
       "      <td>0.001623</td>\n",
       "      <td>0.0</td>\n",
       "      <td>0</td>\n",
       "      <td>1</td>\n",
       "      <td>1</td>\n",
       "      <td>0</td>\n",
       "      <td>0</td>\n",
       "      <td>...</td>\n",
       "      <td>0.0</td>\n",
       "      <td>0.0</td>\n",
       "      <td>0.0</td>\n",
       "      <td>0.0</td>\n",
       "      <td>0.0</td>\n",
       "      <td>0.0</td>\n",
       "      <td>0.0</td>\n",
       "      <td>0.0</td>\n",
       "      <td>0.0</td>\n",
       "      <td>0.0</td>\n",
       "    </tr>\n",
       "    <tr>\n",
       "      <th>348</th>\n",
       "      <td>1.095362</td>\n",
       "      <td>1</td>\n",
       "      <td>2.001612</td>\n",
       "      <td>0.571542</td>\n",
       "      <td>0.0</td>\n",
       "      <td>0</td>\n",
       "      <td>1</td>\n",
       "      <td>1</td>\n",
       "      <td>0</td>\n",
       "      <td>0</td>\n",
       "      <td>...</td>\n",
       "      <td>0.0</td>\n",
       "      <td>0.0</td>\n",
       "      <td>0.0</td>\n",
       "      <td>0.0</td>\n",
       "      <td>0.0</td>\n",
       "      <td>0.0</td>\n",
       "      <td>0.0</td>\n",
       "      <td>0.0</td>\n",
       "      <td>0.0</td>\n",
       "      <td>0.0</td>\n",
       "    </tr>\n",
       "    <tr>\n",
       "      <th>435</th>\n",
       "      <td>0.546173</td>\n",
       "      <td>1</td>\n",
       "      <td>0.089344</td>\n",
       "      <td>-0.837679</td>\n",
       "      <td>1.0</td>\n",
       "      <td>0</td>\n",
       "      <td>1</td>\n",
       "      <td>1</td>\n",
       "      <td>0</td>\n",
       "      <td>0</td>\n",
       "      <td>...</td>\n",
       "      <td>0.0</td>\n",
       "      <td>0.0</td>\n",
       "      <td>0.0</td>\n",
       "      <td>0.0</td>\n",
       "      <td>0.0</td>\n",
       "      <td>0.0</td>\n",
       "      <td>0.0</td>\n",
       "      <td>0.0</td>\n",
       "      <td>0.0</td>\n",
       "      <td>0.0</td>\n",
       "    </tr>\n",
       "    <tr>\n",
       "      <th>102</th>\n",
       "      <td>1.644550</td>\n",
       "      <td>0</td>\n",
       "      <td>0.003233</td>\n",
       "      <td>-0.657429</td>\n",
       "      <td>0.0</td>\n",
       "      <td>0</td>\n",
       "      <td>1</td>\n",
       "      <td>1</td>\n",
       "      <td>1</td>\n",
       "      <td>0</td>\n",
       "      <td>...</td>\n",
       "      <td>0.0</td>\n",
       "      <td>0.0</td>\n",
       "      <td>0.0</td>\n",
       "      <td>0.0</td>\n",
       "      <td>0.0</td>\n",
       "      <td>0.0</td>\n",
       "      <td>0.0</td>\n",
       "      <td>0.0</td>\n",
       "      <td>0.0</td>\n",
       "      <td>0.0</td>\n",
       "    </tr>\n",
       "  </tbody>\n",
       "</table>\n",
       "<p>354 rows × 745 columns</p>\n",
       "</div>"
      ],
      "text/plain": [
       "          age  sex    height    weight  smoking_history  \\\n",
       "5   -1.345475    1  1.264202  1.734969              0.0   \n",
       "116  1.400466    1  0.003233  0.001623              0.0   \n",
       "45  -0.796287    0  0.003233 -0.417097              0.0   \n",
       "16   1.278424    0 -0.110632 -0.378862              0.0   \n",
       "468  0.058006    1  1.014232  0.451376              0.0   \n",
       "..        ...  ...       ...       ...              ...   \n",
       "106  1.644550    1  0.003233  0.001623              0.0   \n",
       "270  0.119027    1  0.003233  0.001623              0.0   \n",
       "348  1.095362    1  2.001612  0.571542              0.0   \n",
       "435  0.546173    1  0.089344 -0.837679              1.0   \n",
       "102  1.644550    0  0.003233 -0.657429              0.0   \n",
       "\n",
       "     previous_er_visit_within_14_days  admission_disposition  Hypertension  \\\n",
       "5                                   0                      0             1   \n",
       "116                                 0                      1             1   \n",
       "45                                  0                      1             1   \n",
       "16                                  0                      1             1   \n",
       "468                                 0                      1             1   \n",
       "..                                ...                    ...           ...   \n",
       "106                                 0                      1             0   \n",
       "270                                 0                      1             1   \n",
       "348                                 0                      1             1   \n",
       "435                                 0                      1             1   \n",
       "102                                 0                      1             1   \n",
       "\n",
       "     Chronic cardiac disease (not hypertension)  Diabetes  ...  Respiractin  \\\n",
       "5                                             0         0  ...          0.0   \n",
       "116                                           1         0  ...          0.0   \n",
       "45                                            1         1  ...          0.0   \n",
       "16                                            0         0  ...          0.0   \n",
       "468                                           0         1  ...          0.0   \n",
       "..                                          ...       ...  ...          ...   \n",
       "106                                           0         0  ...          0.0   \n",
       "270                                           0         0  ...          0.0   \n",
       "348                                           0         0  ...          0.0   \n",
       "435                                           0         0  ...          0.0   \n",
       "102                                           1         0  ...          0.0   \n",
       "\n",
       "     Immunity Advance  Vesicare  Zaxine  Quinine Sulfate  Desvenlafaxine  \\\n",
       "5                 0.0       0.0     0.0              0.0             0.0   \n",
       "116               0.0       0.0     0.0              0.0             0.0   \n",
       "45                0.0       0.0     0.0              0.0             0.0   \n",
       "16                0.0       0.0     0.0              0.0             0.0   \n",
       "468               0.0       0.0     0.0              0.0             0.0   \n",
       "..                ...       ...     ...              ...             ...   \n",
       "106               0.0       0.0     0.0              0.0             0.0   \n",
       "270               0.0       0.0     0.0              0.0             0.0   \n",
       "348               0.0       0.0     0.0              0.0             0.0   \n",
       "435               0.0       0.0     0.0              0.0             0.0   \n",
       "102               0.0       0.0     0.0              0.0             0.0   \n",
       "\n",
       "     Glucosamine  Turmeric  Cogentin Tab  Elavil  \n",
       "5            0.0       0.0           0.0     0.0  \n",
       "116          0.0       0.0           0.0     0.0  \n",
       "45           0.0       0.0           0.0     0.0  \n",
       "16           0.0       0.0           0.0     0.0  \n",
       "468          0.0       0.0           0.0     0.0  \n",
       "..           ...       ...           ...     ...  \n",
       "106          0.0       0.0           0.0     0.0  \n",
       "270          0.0       0.0           0.0     0.0  \n",
       "348          0.0       0.0           0.0     0.0  \n",
       "435          0.0       0.0           0.0     0.0  \n",
       "102          0.0       0.0           0.0     0.0  \n",
       "\n",
       "[354 rows x 745 columns]"
      ]
     },
     "execution_count": 279,
     "metadata": {},
     "output_type": "execute_result"
    }
   ],
   "source": [
    "X_train"
   ]
  },
  {
   "cell_type": "markdown",
   "id": "3bc551d9",
   "metadata": {},
   "source": [
    "### Implenting lasso regression to the original dataset"
   ]
  },
  {
   "cell_type": "code",
   "execution_count": 281,
   "id": "c7628a12",
   "metadata": {},
   "outputs": [
    {
     "data": {
      "text/html": [
       "<div>\n",
       "<style scoped>\n",
       "    .dataframe tbody tr th:only-of-type {\n",
       "        vertical-align: middle;\n",
       "    }\n",
       "\n",
       "    .dataframe tbody tr th {\n",
       "        vertical-align: top;\n",
       "    }\n",
       "\n",
       "    .dataframe thead th {\n",
       "        text-align: right;\n",
       "    }\n",
       "</style>\n",
       "<table border=\"1\" class=\"dataframe\">\n",
       "  <thead>\n",
       "    <tr style=\"text-align: right;\">\n",
       "      <th></th>\n",
       "      <th>index</th>\n",
       "      <th>Feature</th>\n",
       "      <th>Importance</th>\n",
       "    </tr>\n",
       "  </thead>\n",
       "  <tbody>\n",
       "    <tr>\n",
       "      <th>0</th>\n",
       "      <td>496</td>\n",
       "      <td>Lansoprazole</td>\n",
       "      <td>28.768409</td>\n",
       "    </tr>\n",
       "    <tr>\n",
       "      <th>1</th>\n",
       "      <td>554</td>\n",
       "      <td>Isordil</td>\n",
       "      <td>18.525977</td>\n",
       "    </tr>\n",
       "    <tr>\n",
       "      <th>2</th>\n",
       "      <td>123</td>\n",
       "      <td>Polyethylene Glycol</td>\n",
       "      <td>8.727072</td>\n",
       "    </tr>\n",
       "    <tr>\n",
       "      <th>3</th>\n",
       "      <td>12</td>\n",
       "      <td>Kidney disease</td>\n",
       "      <td>4.337360</td>\n",
       "    </tr>\n",
       "    <tr>\n",
       "      <th>4</th>\n",
       "      <td>85</td>\n",
       "      <td>Amlodipine</td>\n",
       "      <td>4.228977</td>\n",
       "    </tr>\n",
       "    <tr>\n",
       "      <th>5</th>\n",
       "      <td>185</td>\n",
       "      <td>Avapro</td>\n",
       "      <td>3.333709</td>\n",
       "    </tr>\n",
       "    <tr>\n",
       "      <th>6</th>\n",
       "      <td>36</td>\n",
       "      <td>reason_for_admission_Fever of unknown origin [...</td>\n",
       "      <td>2.839970</td>\n",
       "    </tr>\n",
       "    <tr>\n",
       "      <th>7</th>\n",
       "      <td>211</td>\n",
       "      <td>Atacand</td>\n",
       "      <td>2.645734</td>\n",
       "    </tr>\n",
       "    <tr>\n",
       "      <th>8</th>\n",
       "      <td>227</td>\n",
       "      <td>Allopurinol</td>\n",
       "      <td>2.485787</td>\n",
       "    </tr>\n",
       "    <tr>\n",
       "      <th>9</th>\n",
       "      <td>24</td>\n",
       "      <td>Hematological</td>\n",
       "      <td>2.052317</td>\n",
       "    </tr>\n",
       "    <tr>\n",
       "      <th>10</th>\n",
       "      <td>7</td>\n",
       "      <td>Hypertension</td>\n",
       "      <td>1.864212</td>\n",
       "    </tr>\n",
       "    <tr>\n",
       "      <th>11</th>\n",
       "      <td>0</td>\n",
       "      <td>age</td>\n",
       "      <td>1.763252</td>\n",
       "    </tr>\n",
       "    <tr>\n",
       "      <th>12</th>\n",
       "      <td>147</td>\n",
       "      <td>Janumet</td>\n",
       "      <td>1.730641</td>\n",
       "    </tr>\n",
       "    <tr>\n",
       "      <th>13</th>\n",
       "      <td>126</td>\n",
       "      <td>Acetaminophen Tab</td>\n",
       "      <td>1.701273</td>\n",
       "    </tr>\n",
       "    <tr>\n",
       "      <th>14</th>\n",
       "      <td>22</td>\n",
       "      <td>Chronic renal</td>\n",
       "      <td>1.531756</td>\n",
       "    </tr>\n",
       "    <tr>\n",
       "      <th>15</th>\n",
       "      <td>188</td>\n",
       "      <td>Ezetrol</td>\n",
       "      <td>1.327963</td>\n",
       "    </tr>\n",
       "    <tr>\n",
       "      <th>16</th>\n",
       "      <td>257</td>\n",
       "      <td>Cipralex</td>\n",
       "      <td>1.094009</td>\n",
       "    </tr>\n",
       "    <tr>\n",
       "      <th>17</th>\n",
       "      <td>275</td>\n",
       "      <td>Calcitriol</td>\n",
       "      <td>1.067282</td>\n",
       "    </tr>\n",
       "    <tr>\n",
       "      <th>18</th>\n",
       "      <td>186</td>\n",
       "      <td>Aspirin Tablets</td>\n",
       "      <td>1.051153</td>\n",
       "    </tr>\n",
       "    <tr>\n",
       "      <th>19</th>\n",
       "      <td>16</td>\n",
       "      <td>Dementia [any etiology]</td>\n",
       "      <td>0.981257</td>\n",
       "    </tr>\n",
       "    <tr>\n",
       "      <th>20</th>\n",
       "      <td>19</td>\n",
       "      <td>Stroke</td>\n",
       "      <td>0.865468</td>\n",
       "    </tr>\n",
       "    <tr>\n",
       "      <th>21</th>\n",
       "      <td>324</td>\n",
       "      <td>Tylenol W Codeine No Tab</td>\n",
       "      <td>0.846515</td>\n",
       "    </tr>\n",
       "    <tr>\n",
       "      <th>22</th>\n",
       "      <td>1</td>\n",
       "      <td>sex</td>\n",
       "      <td>0.824107</td>\n",
       "    </tr>\n",
       "    <tr>\n",
       "      <th>23</th>\n",
       "      <td>135</td>\n",
       "      <td>Metoprolol</td>\n",
       "      <td>0.680577</td>\n",
       "    </tr>\n",
       "    <tr>\n",
       "      <th>24</th>\n",
       "      <td>183</td>\n",
       "      <td>Olmetec</td>\n",
       "      <td>0.675824</td>\n",
       "    </tr>\n",
       "    <tr>\n",
       "      <th>25</th>\n",
       "      <td>41</td>\n",
       "      <td>reason_for_admission_Pneumonia [J18.9]</td>\n",
       "      <td>0.325713</td>\n",
       "    </tr>\n",
       "    <tr>\n",
       "      <th>26</th>\n",
       "      <td>58</td>\n",
       "      <td>Cholecalciferol</td>\n",
       "      <td>0.290459</td>\n",
       "    </tr>\n",
       "    <tr>\n",
       "      <th>27</th>\n",
       "      <td>130</td>\n",
       "      <td>Eliquis</td>\n",
       "      <td>0.246958</td>\n",
       "    </tr>\n",
       "  </tbody>\n",
       "</table>\n",
       "</div>"
      ],
      "text/plain": [
       "    index                                            Feature  Importance\n",
       "0     496                                       Lansoprazole   28.768409\n",
       "1     554                                            Isordil   18.525977\n",
       "2     123                                Polyethylene Glycol    8.727072\n",
       "3      12                                     Kidney disease    4.337360\n",
       "4      85                                         Amlodipine    4.228977\n",
       "5     185                                             Avapro    3.333709\n",
       "6      36  reason_for_admission_Fever of unknown origin [...    2.839970\n",
       "7     211                                            Atacand    2.645734\n",
       "8     227                                        Allopurinol    2.485787\n",
       "9      24                                      Hematological    2.052317\n",
       "10      7                                       Hypertension    1.864212\n",
       "11      0                                                age    1.763252\n",
       "12    147                                            Janumet    1.730641\n",
       "13    126                                  Acetaminophen Tab    1.701273\n",
       "14     22                                      Chronic renal    1.531756\n",
       "15    188                                            Ezetrol    1.327963\n",
       "16    257                                           Cipralex    1.094009\n",
       "17    275                                         Calcitriol    1.067282\n",
       "18    186                                    Aspirin Tablets    1.051153\n",
       "19     16                            Dementia [any etiology]    0.981257\n",
       "20     19                                             Stroke    0.865468\n",
       "21    324                           Tylenol W Codeine No Tab    0.846515\n",
       "22      1                                                sex    0.824107\n",
       "23    135                                         Metoprolol    0.680577\n",
       "24    183                                            Olmetec    0.675824\n",
       "25     41             reason_for_admission_Pneumonia [J18.9]    0.325713\n",
       "26     58                                    Cholecalciferol    0.290459\n",
       "27    130                                            Eliquis    0.246958"
      ]
     },
     "execution_count": 281,
     "metadata": {},
     "output_type": "execute_result"
    }
   ],
   "source": [
    "from sklearn.linear_model import Lasso\n",
    "\n",
    "# Apply Lasso Regression\n",
    "lasso = Lasso(alpha=0.1)  # Specify the regularization parameter alpha\n",
    "lasso.fit(X_train, y_train)\n",
    "df_importance = pd.DataFrame({'Feature': X.columns, 'Importance': lasso.coef_}).sort_values(by='Importance', ascending=False)\n",
    "important_features = df_importance[df_importance['Importance']>0]\n",
    "important_features.reset_index()"
   ]
  },
  {
   "cell_type": "markdown",
   "id": "67d6bf99",
   "metadata": {},
   "source": [
    "### Important features are those which have importance of more than 0"
   ]
  },
  {
   "cell_type": "code",
   "execution_count": 282,
   "id": "0722f5ac",
   "metadata": {},
   "outputs": [
    {
     "name": "stdout",
     "output_type": "stream",
     "text": [
      "Total important features: 28\n"
     ]
    },
    {
     "data": {
      "text/html": [
       "<div>\n",
       "<style scoped>\n",
       "    .dataframe tbody tr th:only-of-type {\n",
       "        vertical-align: middle;\n",
       "    }\n",
       "\n",
       "    .dataframe tbody tr th {\n",
       "        vertical-align: top;\n",
       "    }\n",
       "\n",
       "    .dataframe thead th {\n",
       "        text-align: right;\n",
       "    }\n",
       "</style>\n",
       "<table border=\"1\" class=\"dataframe\">\n",
       "  <thead>\n",
       "    <tr style=\"text-align: right;\">\n",
       "      <th></th>\n",
       "      <th>Feature</th>\n",
       "      <th>Importance</th>\n",
       "    </tr>\n",
       "  </thead>\n",
       "  <tbody>\n",
       "    <tr>\n",
       "      <th>496</th>\n",
       "      <td>Lansoprazole</td>\n",
       "      <td>28.768409</td>\n",
       "    </tr>\n",
       "    <tr>\n",
       "      <th>554</th>\n",
       "      <td>Isordil</td>\n",
       "      <td>18.525977</td>\n",
       "    </tr>\n",
       "    <tr>\n",
       "      <th>123</th>\n",
       "      <td>Polyethylene Glycol</td>\n",
       "      <td>8.727072</td>\n",
       "    </tr>\n",
       "    <tr>\n",
       "      <th>12</th>\n",
       "      <td>Kidney disease</td>\n",
       "      <td>4.337360</td>\n",
       "    </tr>\n",
       "    <tr>\n",
       "      <th>85</th>\n",
       "      <td>Amlodipine</td>\n",
       "      <td>4.228977</td>\n",
       "    </tr>\n",
       "    <tr>\n",
       "      <th>185</th>\n",
       "      <td>Avapro</td>\n",
       "      <td>3.333709</td>\n",
       "    </tr>\n",
       "    <tr>\n",
       "      <th>36</th>\n",
       "      <td>reason_for_admission_Fever of unknown origin [...</td>\n",
       "      <td>2.839970</td>\n",
       "    </tr>\n",
       "    <tr>\n",
       "      <th>211</th>\n",
       "      <td>Atacand</td>\n",
       "      <td>2.645734</td>\n",
       "    </tr>\n",
       "    <tr>\n",
       "      <th>227</th>\n",
       "      <td>Allopurinol</td>\n",
       "      <td>2.485787</td>\n",
       "    </tr>\n",
       "    <tr>\n",
       "      <th>24</th>\n",
       "      <td>Hematological</td>\n",
       "      <td>2.052317</td>\n",
       "    </tr>\n",
       "    <tr>\n",
       "      <th>7</th>\n",
       "      <td>Hypertension</td>\n",
       "      <td>1.864212</td>\n",
       "    </tr>\n",
       "    <tr>\n",
       "      <th>0</th>\n",
       "      <td>age</td>\n",
       "      <td>1.763252</td>\n",
       "    </tr>\n",
       "    <tr>\n",
       "      <th>147</th>\n",
       "      <td>Janumet</td>\n",
       "      <td>1.730641</td>\n",
       "    </tr>\n",
       "    <tr>\n",
       "      <th>126</th>\n",
       "      <td>Acetaminophen Tab</td>\n",
       "      <td>1.701273</td>\n",
       "    </tr>\n",
       "    <tr>\n",
       "      <th>22</th>\n",
       "      <td>Chronic renal</td>\n",
       "      <td>1.531756</td>\n",
       "    </tr>\n",
       "    <tr>\n",
       "      <th>188</th>\n",
       "      <td>Ezetrol</td>\n",
       "      <td>1.327963</td>\n",
       "    </tr>\n",
       "    <tr>\n",
       "      <th>257</th>\n",
       "      <td>Cipralex</td>\n",
       "      <td>1.094009</td>\n",
       "    </tr>\n",
       "    <tr>\n",
       "      <th>275</th>\n",
       "      <td>Calcitriol</td>\n",
       "      <td>1.067282</td>\n",
       "    </tr>\n",
       "    <tr>\n",
       "      <th>186</th>\n",
       "      <td>Aspirin Tablets</td>\n",
       "      <td>1.051153</td>\n",
       "    </tr>\n",
       "    <tr>\n",
       "      <th>16</th>\n",
       "      <td>Dementia [any etiology]</td>\n",
       "      <td>0.981257</td>\n",
       "    </tr>\n",
       "    <tr>\n",
       "      <th>19</th>\n",
       "      <td>Stroke</td>\n",
       "      <td>0.865468</td>\n",
       "    </tr>\n",
       "    <tr>\n",
       "      <th>324</th>\n",
       "      <td>Tylenol W Codeine No Tab</td>\n",
       "      <td>0.846515</td>\n",
       "    </tr>\n",
       "    <tr>\n",
       "      <th>1</th>\n",
       "      <td>sex</td>\n",
       "      <td>0.824107</td>\n",
       "    </tr>\n",
       "    <tr>\n",
       "      <th>135</th>\n",
       "      <td>Metoprolol</td>\n",
       "      <td>0.680577</td>\n",
       "    </tr>\n",
       "    <tr>\n",
       "      <th>183</th>\n",
       "      <td>Olmetec</td>\n",
       "      <td>0.675824</td>\n",
       "    </tr>\n",
       "    <tr>\n",
       "      <th>41</th>\n",
       "      <td>reason_for_admission_Pneumonia [J18.9]</td>\n",
       "      <td>0.325713</td>\n",
       "    </tr>\n",
       "    <tr>\n",
       "      <th>58</th>\n",
       "      <td>Cholecalciferol</td>\n",
       "      <td>0.290459</td>\n",
       "    </tr>\n",
       "    <tr>\n",
       "      <th>130</th>\n",
       "      <td>Eliquis</td>\n",
       "      <td>0.246958</td>\n",
       "    </tr>\n",
       "  </tbody>\n",
       "</table>\n",
       "</div>"
      ],
      "text/plain": [
       "                                               Feature  Importance\n",
       "496                                       Lansoprazole   28.768409\n",
       "554                                            Isordil   18.525977\n",
       "123                                Polyethylene Glycol    8.727072\n",
       "12                                      Kidney disease    4.337360\n",
       "85                                          Amlodipine    4.228977\n",
       "185                                             Avapro    3.333709\n",
       "36   reason_for_admission_Fever of unknown origin [...    2.839970\n",
       "211                                            Atacand    2.645734\n",
       "227                                        Allopurinol    2.485787\n",
       "24                                       Hematological    2.052317\n",
       "7                                         Hypertension    1.864212\n",
       "0                                                  age    1.763252\n",
       "147                                            Janumet    1.730641\n",
       "126                                  Acetaminophen Tab    1.701273\n",
       "22                                       Chronic renal    1.531756\n",
       "188                                            Ezetrol    1.327963\n",
       "257                                           Cipralex    1.094009\n",
       "275                                         Calcitriol    1.067282\n",
       "186                                    Aspirin Tablets    1.051153\n",
       "16                             Dementia [any etiology]    0.981257\n",
       "19                                              Stroke    0.865468\n",
       "324                           Tylenol W Codeine No Tab    0.846515\n",
       "1                                                  sex    0.824107\n",
       "135                                         Metoprolol    0.680577\n",
       "183                                            Olmetec    0.675824\n",
       "41              reason_for_admission_Pneumonia [J18.9]    0.325713\n",
       "58                                     Cholecalciferol    0.290459\n",
       "130                                            Eliquis    0.246958"
      ]
     },
     "execution_count": 282,
     "metadata": {},
     "output_type": "execute_result"
    }
   ],
   "source": [
    "# Print feature importances\n",
    "important_features = df_importance[df_importance['Importance']>0]\n",
    "print(\"Total important features:\",len(important_features))\n",
    "important_features"
   ]
  },
  {
   "cell_type": "markdown",
   "id": "c517d1d5",
   "metadata": {},
   "source": [
    "### Dropping the unimportant features from X"
   ]
  },
  {
   "cell_type": "code",
   "execution_count": 283,
   "id": "0f9d6ce3",
   "metadata": {},
   "outputs": [
    {
     "data": {
      "text/html": [
       "<div>\n",
       "<style scoped>\n",
       "    .dataframe tbody tr th:only-of-type {\n",
       "        vertical-align: middle;\n",
       "    }\n",
       "\n",
       "    .dataframe tbody tr th {\n",
       "        vertical-align: top;\n",
       "    }\n",
       "\n",
       "    .dataframe thead th {\n",
       "        text-align: right;\n",
       "    }\n",
       "</style>\n",
       "<table border=\"1\" class=\"dataframe\">\n",
       "  <thead>\n",
       "    <tr style=\"text-align: right;\">\n",
       "      <th></th>\n",
       "      <th>age</th>\n",
       "      <th>sex</th>\n",
       "      <th>Hypertension</th>\n",
       "      <th>Kidney disease</th>\n",
       "      <th>Dementia [any etiology]</th>\n",
       "      <th>Stroke</th>\n",
       "      <th>Chronic renal</th>\n",
       "      <th>Hematological</th>\n",
       "      <th>reason_for_admission_Fever of unknown origin [R50.9]</th>\n",
       "      <th>reason_for_admission_Pneumonia [J18.9]</th>\n",
       "      <th>...</th>\n",
       "      <th>Avapro</th>\n",
       "      <th>Aspirin Tablets</th>\n",
       "      <th>Ezetrol</th>\n",
       "      <th>Atacand</th>\n",
       "      <th>Allopurinol</th>\n",
       "      <th>Cipralex</th>\n",
       "      <th>Calcitriol</th>\n",
       "      <th>Tylenol W Codeine No Tab</th>\n",
       "      <th>Lansoprazole</th>\n",
       "      <th>Isordil</th>\n",
       "    </tr>\n",
       "  </thead>\n",
       "  <tbody>\n",
       "    <tr>\n",
       "      <th>0</th>\n",
       "      <td>0.485152</td>\n",
       "      <td>1</td>\n",
       "      <td>1</td>\n",
       "      <td>0</td>\n",
       "      <td>0</td>\n",
       "      <td>0</td>\n",
       "      <td>0</td>\n",
       "      <td>0</td>\n",
       "      <td>0</td>\n",
       "      <td>0</td>\n",
       "      <td>...</td>\n",
       "      <td>0.0</td>\n",
       "      <td>0.0</td>\n",
       "      <td>0.0</td>\n",
       "      <td>0.0</td>\n",
       "      <td>0.0</td>\n",
       "      <td>0.0</td>\n",
       "      <td>0.0</td>\n",
       "      <td>0.0</td>\n",
       "      <td>0.0</td>\n",
       "      <td>0.0</td>\n",
       "    </tr>\n",
       "    <tr>\n",
       "      <th>1</th>\n",
       "      <td>-0.308119</td>\n",
       "      <td>0</td>\n",
       "      <td>1</td>\n",
       "      <td>0</td>\n",
       "      <td>0</td>\n",
       "      <td>0</td>\n",
       "      <td>0</td>\n",
       "      <td>0</td>\n",
       "      <td>0</td>\n",
       "      <td>1</td>\n",
       "      <td>...</td>\n",
       "      <td>0.0</td>\n",
       "      <td>0.0</td>\n",
       "      <td>0.0</td>\n",
       "      <td>0.0</td>\n",
       "      <td>0.0</td>\n",
       "      <td>0.0</td>\n",
       "      <td>0.0</td>\n",
       "      <td>0.0</td>\n",
       "      <td>0.0</td>\n",
       "      <td>0.0</td>\n",
       "    </tr>\n",
       "    <tr>\n",
       "      <th>2</th>\n",
       "      <td>-0.491182</td>\n",
       "      <td>0</td>\n",
       "      <td>1</td>\n",
       "      <td>0</td>\n",
       "      <td>0</td>\n",
       "      <td>0</td>\n",
       "      <td>0</td>\n",
       "      <td>0</td>\n",
       "      <td>0</td>\n",
       "      <td>1</td>\n",
       "      <td>...</td>\n",
       "      <td>0.0</td>\n",
       "      <td>0.0</td>\n",
       "      <td>0.0</td>\n",
       "      <td>0.0</td>\n",
       "      <td>0.0</td>\n",
       "      <td>0.0</td>\n",
       "      <td>0.0</td>\n",
       "      <td>0.0</td>\n",
       "      <td>0.0</td>\n",
       "      <td>0.0</td>\n",
       "    </tr>\n",
       "    <tr>\n",
       "      <th>3</th>\n",
       "      <td>1.705571</td>\n",
       "      <td>1</td>\n",
       "      <td>1</td>\n",
       "      <td>0</td>\n",
       "      <td>0</td>\n",
       "      <td>0</td>\n",
       "      <td>0</td>\n",
       "      <td>0</td>\n",
       "      <td>0</td>\n",
       "      <td>0</td>\n",
       "      <td>...</td>\n",
       "      <td>0.0</td>\n",
       "      <td>0.0</td>\n",
       "      <td>0.0</td>\n",
       "      <td>0.0</td>\n",
       "      <td>0.0</td>\n",
       "      <td>0.0</td>\n",
       "      <td>0.0</td>\n",
       "      <td>0.0</td>\n",
       "      <td>0.0</td>\n",
       "      <td>0.0</td>\n",
       "    </tr>\n",
       "    <tr>\n",
       "      <th>4</th>\n",
       "      <td>1.522508</td>\n",
       "      <td>1</td>\n",
       "      <td>1</td>\n",
       "      <td>0</td>\n",
       "      <td>0</td>\n",
       "      <td>0</td>\n",
       "      <td>0</td>\n",
       "      <td>0</td>\n",
       "      <td>0</td>\n",
       "      <td>0</td>\n",
       "      <td>...</td>\n",
       "      <td>0.0</td>\n",
       "      <td>0.0</td>\n",
       "      <td>0.0</td>\n",
       "      <td>0.0</td>\n",
       "      <td>0.0</td>\n",
       "      <td>0.0</td>\n",
       "      <td>0.0</td>\n",
       "      <td>0.0</td>\n",
       "      <td>0.0</td>\n",
       "      <td>0.0</td>\n",
       "    </tr>\n",
       "    <tr>\n",
       "      <th>...</th>\n",
       "      <td>...</td>\n",
       "      <td>...</td>\n",
       "      <td>...</td>\n",
       "      <td>...</td>\n",
       "      <td>...</td>\n",
       "      <td>...</td>\n",
       "      <td>...</td>\n",
       "      <td>...</td>\n",
       "      <td>...</td>\n",
       "      <td>...</td>\n",
       "      <td>...</td>\n",
       "      <td>...</td>\n",
       "      <td>...</td>\n",
       "      <td>...</td>\n",
       "      <td>...</td>\n",
       "      <td>...</td>\n",
       "      <td>...</td>\n",
       "      <td>...</td>\n",
       "      <td>...</td>\n",
       "      <td>...</td>\n",
       "      <td>...</td>\n",
       "    </tr>\n",
       "    <tr>\n",
       "      <th>501</th>\n",
       "      <td>-0.613224</td>\n",
       "      <td>0</td>\n",
       "      <td>0</td>\n",
       "      <td>0</td>\n",
       "      <td>0</td>\n",
       "      <td>0</td>\n",
       "      <td>0</td>\n",
       "      <td>0</td>\n",
       "      <td>0</td>\n",
       "      <td>1</td>\n",
       "      <td>...</td>\n",
       "      <td>0.0</td>\n",
       "      <td>0.0</td>\n",
       "      <td>0.0</td>\n",
       "      <td>0.0</td>\n",
       "      <td>0.0</td>\n",
       "      <td>0.0</td>\n",
       "      <td>0.0</td>\n",
       "      <td>0.0</td>\n",
       "      <td>0.0</td>\n",
       "      <td>0.0</td>\n",
       "    </tr>\n",
       "    <tr>\n",
       "      <th>502</th>\n",
       "      <td>0.485152</td>\n",
       "      <td>0</td>\n",
       "      <td>0</td>\n",
       "      <td>0</td>\n",
       "      <td>0</td>\n",
       "      <td>0</td>\n",
       "      <td>0</td>\n",
       "      <td>0</td>\n",
       "      <td>0</td>\n",
       "      <td>0</td>\n",
       "      <td>...</td>\n",
       "      <td>0.0</td>\n",
       "      <td>0.0</td>\n",
       "      <td>0.0</td>\n",
       "      <td>0.0</td>\n",
       "      <td>0.0</td>\n",
       "      <td>0.0</td>\n",
       "      <td>0.0</td>\n",
       "      <td>0.0</td>\n",
       "      <td>0.0</td>\n",
       "      <td>0.0</td>\n",
       "    </tr>\n",
       "    <tr>\n",
       "      <th>503</th>\n",
       "      <td>0.912299</td>\n",
       "      <td>1</td>\n",
       "      <td>1</td>\n",
       "      <td>0</td>\n",
       "      <td>0</td>\n",
       "      <td>0</td>\n",
       "      <td>1</td>\n",
       "      <td>0</td>\n",
       "      <td>0</td>\n",
       "      <td>0</td>\n",
       "      <td>...</td>\n",
       "      <td>0.0</td>\n",
       "      <td>0.0</td>\n",
       "      <td>0.0</td>\n",
       "      <td>0.0</td>\n",
       "      <td>0.0</td>\n",
       "      <td>0.0</td>\n",
       "      <td>0.0</td>\n",
       "      <td>0.0</td>\n",
       "      <td>0.0</td>\n",
       "      <td>0.0</td>\n",
       "    </tr>\n",
       "    <tr>\n",
       "      <th>504</th>\n",
       "      <td>0.485152</td>\n",
       "      <td>1</td>\n",
       "      <td>1</td>\n",
       "      <td>0</td>\n",
       "      <td>0</td>\n",
       "      <td>0</td>\n",
       "      <td>0</td>\n",
       "      <td>0</td>\n",
       "      <td>0</td>\n",
       "      <td>0</td>\n",
       "      <td>...</td>\n",
       "      <td>0.0</td>\n",
       "      <td>0.0</td>\n",
       "      <td>0.0</td>\n",
       "      <td>0.0</td>\n",
       "      <td>0.0</td>\n",
       "      <td>0.0</td>\n",
       "      <td>0.0</td>\n",
       "      <td>0.0</td>\n",
       "      <td>0.0</td>\n",
       "      <td>0.0</td>\n",
       "    </tr>\n",
       "    <tr>\n",
       "      <th>505</th>\n",
       "      <td>0.607194</td>\n",
       "      <td>0</td>\n",
       "      <td>1</td>\n",
       "      <td>0</td>\n",
       "      <td>0</td>\n",
       "      <td>0</td>\n",
       "      <td>0</td>\n",
       "      <td>0</td>\n",
       "      <td>0</td>\n",
       "      <td>0</td>\n",
       "      <td>...</td>\n",
       "      <td>0.0</td>\n",
       "      <td>0.0</td>\n",
       "      <td>0.0</td>\n",
       "      <td>0.0</td>\n",
       "      <td>0.0</td>\n",
       "      <td>0.0</td>\n",
       "      <td>0.0</td>\n",
       "      <td>0.0</td>\n",
       "      <td>0.0</td>\n",
       "      <td>0.0</td>\n",
       "    </tr>\n",
       "  </tbody>\n",
       "</table>\n",
       "<p>506 rows × 28 columns</p>\n",
       "</div>"
      ],
      "text/plain": [
       "          age  sex  Hypertension  Kidney disease  Dementia [any etiology]  \\\n",
       "0    0.485152    1             1               0                        0   \n",
       "1   -0.308119    0             1               0                        0   \n",
       "2   -0.491182    0             1               0                        0   \n",
       "3    1.705571    1             1               0                        0   \n",
       "4    1.522508    1             1               0                        0   \n",
       "..        ...  ...           ...             ...                      ...   \n",
       "501 -0.613224    0             0               0                        0   \n",
       "502  0.485152    0             0               0                        0   \n",
       "503  0.912299    1             1               0                        0   \n",
       "504  0.485152    1             1               0                        0   \n",
       "505  0.607194    0             1               0                        0   \n",
       "\n",
       "     Stroke  Chronic renal  Hematological  \\\n",
       "0         0              0              0   \n",
       "1         0              0              0   \n",
       "2         0              0              0   \n",
       "3         0              0              0   \n",
       "4         0              0              0   \n",
       "..      ...            ...            ...   \n",
       "501       0              0              0   \n",
       "502       0              0              0   \n",
       "503       0              1              0   \n",
       "504       0              0              0   \n",
       "505       0              0              0   \n",
       "\n",
       "     reason_for_admission_Fever of unknown origin [R50.9]  \\\n",
       "0                                                    0      \n",
       "1                                                    0      \n",
       "2                                                    0      \n",
       "3                                                    0      \n",
       "4                                                    0      \n",
       "..                                                 ...      \n",
       "501                                                  0      \n",
       "502                                                  0      \n",
       "503                                                  0      \n",
       "504                                                  0      \n",
       "505                                                  0      \n",
       "\n",
       "     reason_for_admission_Pneumonia [J18.9]  ...  Avapro  Aspirin Tablets  \\\n",
       "0                                         0  ...     0.0              0.0   \n",
       "1                                         1  ...     0.0              0.0   \n",
       "2                                         1  ...     0.0              0.0   \n",
       "3                                         0  ...     0.0              0.0   \n",
       "4                                         0  ...     0.0              0.0   \n",
       "..                                      ...  ...     ...              ...   \n",
       "501                                       1  ...     0.0              0.0   \n",
       "502                                       0  ...     0.0              0.0   \n",
       "503                                       0  ...     0.0              0.0   \n",
       "504                                       0  ...     0.0              0.0   \n",
       "505                                       0  ...     0.0              0.0   \n",
       "\n",
       "     Ezetrol  Atacand  Allopurinol  Cipralex  Calcitriol  \\\n",
       "0        0.0      0.0          0.0       0.0         0.0   \n",
       "1        0.0      0.0          0.0       0.0         0.0   \n",
       "2        0.0      0.0          0.0       0.0         0.0   \n",
       "3        0.0      0.0          0.0       0.0         0.0   \n",
       "4        0.0      0.0          0.0       0.0         0.0   \n",
       "..       ...      ...          ...       ...         ...   \n",
       "501      0.0      0.0          0.0       0.0         0.0   \n",
       "502      0.0      0.0          0.0       0.0         0.0   \n",
       "503      0.0      0.0          0.0       0.0         0.0   \n",
       "504      0.0      0.0          0.0       0.0         0.0   \n",
       "505      0.0      0.0          0.0       0.0         0.0   \n",
       "\n",
       "     Tylenol W Codeine No Tab  Lansoprazole  Isordil  \n",
       "0                         0.0           0.0      0.0  \n",
       "1                         0.0           0.0      0.0  \n",
       "2                         0.0           0.0      0.0  \n",
       "3                         0.0           0.0      0.0  \n",
       "4                         0.0           0.0      0.0  \n",
       "..                        ...           ...      ...  \n",
       "501                       0.0           0.0      0.0  \n",
       "502                       0.0           0.0      0.0  \n",
       "503                       0.0           0.0      0.0  \n",
       "504                       0.0           0.0      0.0  \n",
       "505                       0.0           0.0      0.0  \n",
       "\n",
       "[506 rows x 28 columns]"
      ]
     },
     "execution_count": 283,
     "metadata": {},
     "output_type": "execute_result"
    }
   ],
   "source": [
    "feature_array = important_features['Feature'].values\n",
    "\n",
    "cols_to_drop = [col for col in X.columns if col not in feature_array]\n",
    "\n",
    "new_x_for_lasso = X.drop(cols_to_drop,axis=1)\n",
    "new_x_for_lasso"
   ]
  },
  {
   "cell_type": "markdown",
   "id": "2da95feb",
   "metadata": {},
   "source": [
    "### Using the important features in the model "
   ]
  },
  {
   "cell_type": "code",
   "execution_count": 284,
   "id": "e456199f",
   "metadata": {},
   "outputs": [
    {
     "name": "stdout",
     "output_type": "stream",
     "text": [
      "Mean Squared Error train: 95.95209765992696\n",
      "Mean Squared Error test: 179.8218392640842\n"
     ]
    }
   ],
   "source": [
    "X_train, X_test, y_train, y_test = train_test_split(new_x_for_lasso, y, test_size=0.3, random_state=42)\n",
    "lasso.fit(X_train, y_train)\n",
    "y_pred_train = lasso.predict(X_train)\n",
    "y_pred_test = lasso.predict(X_test)\n",
    "mse_y_test = mean_squared_error(y_test, y_pred_test)\n",
    "mse_y_train = mean_squared_error(y_train, y_pred_train)\n",
    "print(\"Mean Squared Error train:\", mse_y_train)\n",
    "print(\"Mean Squared Error test:\", mse_y_test)"
   ]
  },
  {
   "cell_type": "code",
   "execution_count": 285,
   "id": "c6fc7b3e",
   "metadata": {},
   "outputs": [
    {
     "data": {
      "application/vnd.plotly.v1+json": {
       "config": {
        "plotlyServerURL": "https://plot.ly"
       },
       "data": [
        {
         "hovertemplate": "y_train=%{x}<br>y_pred_train=%{y}<extra></extra>",
         "legendgroup": "",
         "marker": {
          "color": "#636efa",
          "symbol": "circle"
         },
         "mode": "markers",
         "name": "",
         "orientation": "v",
         "showlegend": false,
         "type": "scatter",
         "x": [
          32,
          1,
          7,
          5,
          36,
          5,
          9,
          6,
          3,
          2,
          30,
          11,
          4,
          5,
          18,
          10,
          6,
          10,
          3,
          2,
          34,
          12,
          4,
          5,
          11,
          10,
          23,
          5,
          19,
          4,
          15,
          10,
          35,
          3,
          8,
          4,
          13,
          2,
          18,
          6,
          2,
          28,
          19,
          8,
          10,
          8,
          7,
          7,
          9,
          13,
          4,
          5,
          5,
          53,
          13,
          14,
          9,
          3,
          17,
          33,
          4,
          5,
          33,
          6,
          41,
          7,
          10,
          6,
          34,
          10,
          6,
          7,
          3,
          9,
          10,
          16,
          15,
          3,
          2,
          3,
          23,
          9,
          4,
          10,
          4,
          33,
          19,
          7,
          4,
          10,
          13,
          15,
          13,
          21,
          4,
          1,
          9,
          34,
          20,
          7,
          12,
          4,
          6,
          4,
          3,
          14,
          4,
          2,
          4,
          2,
          29,
          10,
          21,
          16,
          1,
          6,
          8,
          5,
          17,
          8,
          3,
          7,
          15,
          8,
          37,
          36,
          8,
          8,
          11,
          6,
          44,
          8,
          17,
          9,
          2,
          5,
          5,
          2,
          16,
          11,
          6,
          8,
          10,
          12,
          3,
          3,
          2,
          49,
          10,
          8,
          7,
          7,
          12,
          9,
          10,
          3,
          3,
          3,
          6,
          4,
          20,
          8,
          10,
          10,
          19,
          5,
          7,
          5,
          11,
          6,
          3,
          19,
          1,
          19,
          10,
          8,
          42,
          17,
          16,
          12,
          30,
          12,
          33,
          17,
          13,
          59,
          3,
          8,
          12,
          3,
          11,
          6,
          12,
          6,
          3,
          3,
          10,
          3,
          7,
          8,
          8,
          5,
          4,
          9,
          81,
          14,
          18,
          10,
          32,
          6,
          8,
          33,
          25,
          16,
          9,
          3,
          2,
          3,
          29,
          6,
          10,
          10,
          4,
          10,
          5,
          5,
          4,
          25,
          5,
          3,
          3,
          3,
          8,
          14,
          11,
          7,
          3,
          12,
          60,
          3,
          7,
          13,
          26,
          6,
          1,
          8,
          18,
          13,
          9,
          4,
          6,
          24,
          9,
          3,
          6,
          2,
          5,
          6,
          26,
          39,
          10,
          11,
          8,
          13,
          7,
          7,
          8,
          25,
          5,
          5,
          2,
          12,
          5,
          39,
          9,
          18,
          14,
          22,
          6,
          3,
          5,
          43,
          8,
          2,
          4,
          3,
          8,
          6,
          14,
          10,
          13,
          34,
          20,
          39,
          10,
          2,
          12,
          21,
          11,
          11,
          22,
          7,
          7,
          5,
          3,
          6,
          6,
          9,
          4,
          9,
          13,
          13,
          4,
          7,
          5,
          12,
          38,
          2,
          42,
          12,
          8,
          7,
          3,
          57,
          16,
          8,
          9,
          7,
          42,
          44,
          2,
          7,
          9,
          1,
          17,
          11,
          22,
          6,
          12,
          8,
          6,
          10,
          6,
          6,
          13,
          9,
          4,
          9,
          3,
          7,
          7,
          27,
          8,
          22
         ],
         "xaxis": "x",
         "y": [
          13.460886704628217,
          16.312313428405577,
          11.669861313972117,
          15.54089638606603,
          33.65907174971211,
          13.18379872487673,
          14.062212098134442,
          9.640249805667603,
          10.653210581492479,
          7.115722876946602,
          10.454314512510816,
          7.776300944018002,
          15.021205555267795,
          9.544352817751786,
          16.038571063567886,
          8.639373835260345,
          10.215631733162498,
          17.20816711125712,
          8.47708490230856,
          5.474773234038422,
          12.354870510190294,
          14.145252021104104,
          11.941777515647184,
          8.447579859428714,
          13.157233115643,
          10.119734745246681,
          16.259870082279367,
          16.435513580170262,
          12.044848943341565,
          6.24194913736495,
          11.34026425897557,
          11.366395588152288,
          12.89028237924691,
          8.543476847344529,
          9.352558841920155,
          9.531951769382534,
          16.74049624513266,
          13.044339163523784,
          7.680403956102187,
          12.517159443142079,
          10.820518703537239,
          14.822060866824787,
          16.020768122078547,
          7.488609980270555,
          9.21475576275524,
          11.174601612320657,
          7.1050220286072925,
          8.255785883597081,
          13.036850273940313,
          17.658147007956348,
          9.790137690250136,
          9.861548824379081,
          10.599219684825762,
          17.599693062593214,
          15.534436676739741,
          12.4771893847038,
          10.791013660657393,
          9.723745745214167,
          9.772334748760796,
          9.790137690250136,
          9.915539721045798,
          13.505634365180084,
          16.09054856145522,
          8.30106568854931,
          11.641685503530484,
          9.21475576275524,
          13.217943401432636,
          11.108209667284687,
          11.108209667284687,
          8.735270823176162,
          10.756868984101489,
          15.477538494389735,
          6.271454180244796,
          8.639373835260345,
          7.7099089989820335,
          10.653210581492479,
          9.886034678165952,
          16.724199337295342,
          17.588502892166225,
          6.817331064859845,
          20.34036367901299,
          10.749107569408295,
          7.009125040691476,
          11.49179761894795,
          8.447579859428714,
          14.163182999783329,
          13.044339163523784,
          13.521409127252465,
          9.02296178692361,
          17.95267044227817,
          8.927064799007793,
          16.750725051455607,
          16.20571559215045,
          11.710013481377274,
          9.118858774839424,
          10.365519617745031,
          16.039514417683634,
          10.311528721078314,
          12.812575129253872,
          15.031906403607104,
          10.88691064857321,
          10.583798102921335,
          8.189393938561112,
          7.614012011066217,
          8.159888895681267,
          9.981931666081767,
          9.981931666081767,
          13.284335346468605,
          10.871489066668783,
          10.407425708994129,
          17.151342644782503,
          9.981931666081767,
          14.283534694821114,
          10.66898534356486,
          10.764882331480674,
          12.930252437685189,
          10.599219684825762,
          10.70676713392281,
          13.188438358552789,
          15.246745712992293,
          11.845880527731367,
          8.351682871512898,
          11.49179761894795,
          13.904187882170872,
          13.657816034757893,
          12.930252437685189,
          7.530516071519655,
          10.628724727705608,
          10.736435789076047,
          6.433743113196581,
          19.526665259666718,
          6.529640101112397,
          13.834644445262,
          12.258973522274477,
          12.32064473374533,
          9.790137690250136,
          9.73614679358342,
          9.477960872715817,
          10.778612612288141,
          13.12204641351682,
          9.448455829835972,
          9.388746797097532,
          12.860252984199416,
          12.756648199776336,
          15.485268912942448,
          7.872197931933819,
          8.255785883597081,
          18.045244960354037,
          9.915539721045798,
          20.42391703984299,
          13.191002875511062,
          9.02296178692361,
          9.310652750671057,
          10.352847837412783,
          14.578690970176837,
          9.210035029190125,
          11.353994539783036,
          10.514023545249255,
          14.449182662433817,
          12.996644382721158,
          11.833479479362115,
          13.12204641351682,
          10.88691064857321,
          10.119734745246681,
          17.93040749086639,
          12.804850406889527,
          11.55818956398392,
          8.813364869602637,
          11.245425771534972,
          12.834355449769372,
          11.270498600236472,
          10.503322696909946,
          10.791013660657393,
          15.858311402523615,
          9.544352817751786,
          10.749107569408295,
          18.313953721258287,
          14.716637684897735,
          11.638664969995311,
          9.21475576275524,
          10.119734745246681,
          10.1737256419134,
          23.06439027355018,
          11.270498600236472,
          14.653368787701718,
          21.045975069356146,
          11.654086551899736,
          17.565760020774956,
          11.108209667284687,
          6.9132280527756595,
          10.775592078752968,
          10.88691064857321,
          12.037674503563,
          9.73614679358342,
          12.133571491478815,
          8.255785883597081,
          10.461416605660848,
          21.143565948970043,
          10.73041040517495,
          12.325365467310448,
          9.02296178692361,
          9.310652750671057,
          11.503611692402574,
          13.774521134386994,
          45.59999963866946,
          12.852545187692153,
          9.92794076941505,
          11.174601612320657,
          10.088529502336893,
          12.037674503563,
          8.639373835260345,
          11.270498600236472,
          14.594465732249217,
          14.15810908605026,
          7.872197931933819,
          12.325365467310448,
          11.174601612320657,
          9.938054642839731,
          19.395017216755537,
          6.817331064859845,
          10.88691064857321,
          9.830343581469293,
          12.04837535190231,
          11.97128255852703,
          12.354870510190294,
          7.584506968186371,
          13.667923298131868,
          10.311528721078314,
          12.41956225519632,
          13.844295692059074,
          10.311528721078314,
          11.54855667163302,
          10.461416605660848,
          13.409737377264268,
          13.476129322300237,
          14.081016292674978,
          13.420438225603577,
          16.909617648658816,
          26.940928250287865,
          10.023837757330867,
          10.653210581492479,
          8.831167811091976,
          8.255785883597081,
          12.336066315649758,
          13.31962907890198,
          10.311528721078314,
          8.927064799007793,
          10.724621715621424,
          11.749983539815553,
          12.533648981034915,
          11.837884211837334,
          14.424991938084421,
          13.391882795565653,
          9.448455829835972,
          12.564854223944703,
          8.255785883597081,
          10.10733369687743,
          10.407425708994129,
          15.291142708897643,
          14.158132664025452,
          13.915119851273392,
          12.336066315649758,
          7.1050220286072925,
          9.02296178692361,
          6.721434076944028,
          12.45076749810611,
          8.255785883597081,
          12.642561473937741,
          13.505634365180084,
          8.447579859428714,
          6.050155161533318,
          15.37537191638321,
          11.204106655200503,
          15.947529671282851,
          11.49179761894795,
          14.575466797581583,
          14.901864739135384,
          18.281576896421825,
          8.968970890256891,
          8.735270823176162,
          13.271934298099353,
          16.290269347903216,
          8.351682871512898,
          8.927064799007793,
          13.505634365180084,
          11.366395588152288,
          9.502446726502688,
          7.614012011066217,
          12.546664486021925,
          14.23530890973273,
          11.955860976622604,
          20.384324947665213,
          16.538701477327802,
          17.48499957615371,
          11.108209667284687,
          13.380232334384422,
          10.557313593576662,
          7.80580598689785,
          14.287775833834136,
          11.462292576068105,
          13.284335346468605,
          6.817331064859845,
          9.406549738586872,
          8.901991970306295,
          12.037674503563,
          9.832043781499234,
          7.584506968186371,
          11.132695521071557,
          9.886034678165952,
          11.49179761894795,
          12.229468479394631,
          10.749107569408295,
          11.97128255852703,
          10.88691064857321,
          8.255785883597081,
          11.55818956398392,
          12.6218858017395,
          8.764775866056008,
          15.511391343186183,
          10.532827739789791,
          9.310652750671057,
          11.036798533155743,
          7.901702974813665,
          11.462292576068105,
          18.671644138491505,
          14.298707802936654,
          12.672418992290769,
          9.640249805667603,
          12.930252437685189,
          12.40886140685701,
          6.9132280527756595,
          15.088620259442862,
          13.774544712362188,
          7.392712992354739,
          12.133571491478815,
          14.19187884591832,
          10.10733369687743,
          10.119734745246681,
          16.877803704306018,
          11.270498600236472,
          11.55818956398392,
          15.535245873484598,
          11.516283472734822,
          11.213170927082947,
          10.637788999588054,
          11.941777515647184,
          8.159888895681267,
          12.70895341897371,
          7.584506968186371,
          13.666223098101927,
          11.710013481377274,
          22.24595981024349,
          12.546664486021925,
          16.465403866709245
         ],
         "yaxis": "y"
        }
       ],
       "layout": {
        "legend": {
         "tracegroupgap": 0
        },
        "template": {
         "data": {
          "bar": [
           {
            "error_x": {
             "color": "#2a3f5f"
            },
            "error_y": {
             "color": "#2a3f5f"
            },
            "marker": {
             "line": {
              "color": "#E5ECF6",
              "width": 0.5
             },
             "pattern": {
              "fillmode": "overlay",
              "size": 10,
              "solidity": 0.2
             }
            },
            "type": "bar"
           }
          ],
          "barpolar": [
           {
            "marker": {
             "line": {
              "color": "#E5ECF6",
              "width": 0.5
             },
             "pattern": {
              "fillmode": "overlay",
              "size": 10,
              "solidity": 0.2
             }
            },
            "type": "barpolar"
           }
          ],
          "carpet": [
           {
            "aaxis": {
             "endlinecolor": "#2a3f5f",
             "gridcolor": "white",
             "linecolor": "white",
             "minorgridcolor": "white",
             "startlinecolor": "#2a3f5f"
            },
            "baxis": {
             "endlinecolor": "#2a3f5f",
             "gridcolor": "white",
             "linecolor": "white",
             "minorgridcolor": "white",
             "startlinecolor": "#2a3f5f"
            },
            "type": "carpet"
           }
          ],
          "choropleth": [
           {
            "colorbar": {
             "outlinewidth": 0,
             "ticks": ""
            },
            "type": "choropleth"
           }
          ],
          "contour": [
           {
            "colorbar": {
             "outlinewidth": 0,
             "ticks": ""
            },
            "colorscale": [
             [
              0,
              "#0d0887"
             ],
             [
              0.1111111111111111,
              "#46039f"
             ],
             [
              0.2222222222222222,
              "#7201a8"
             ],
             [
              0.3333333333333333,
              "#9c179e"
             ],
             [
              0.4444444444444444,
              "#bd3786"
             ],
             [
              0.5555555555555556,
              "#d8576b"
             ],
             [
              0.6666666666666666,
              "#ed7953"
             ],
             [
              0.7777777777777778,
              "#fb9f3a"
             ],
             [
              0.8888888888888888,
              "#fdca26"
             ],
             [
              1,
              "#f0f921"
             ]
            ],
            "type": "contour"
           }
          ],
          "contourcarpet": [
           {
            "colorbar": {
             "outlinewidth": 0,
             "ticks": ""
            },
            "type": "contourcarpet"
           }
          ],
          "heatmap": [
           {
            "colorbar": {
             "outlinewidth": 0,
             "ticks": ""
            },
            "colorscale": [
             [
              0,
              "#0d0887"
             ],
             [
              0.1111111111111111,
              "#46039f"
             ],
             [
              0.2222222222222222,
              "#7201a8"
             ],
             [
              0.3333333333333333,
              "#9c179e"
             ],
             [
              0.4444444444444444,
              "#bd3786"
             ],
             [
              0.5555555555555556,
              "#d8576b"
             ],
             [
              0.6666666666666666,
              "#ed7953"
             ],
             [
              0.7777777777777778,
              "#fb9f3a"
             ],
             [
              0.8888888888888888,
              "#fdca26"
             ],
             [
              1,
              "#f0f921"
             ]
            ],
            "type": "heatmap"
           }
          ],
          "heatmapgl": [
           {
            "colorbar": {
             "outlinewidth": 0,
             "ticks": ""
            },
            "colorscale": [
             [
              0,
              "#0d0887"
             ],
             [
              0.1111111111111111,
              "#46039f"
             ],
             [
              0.2222222222222222,
              "#7201a8"
             ],
             [
              0.3333333333333333,
              "#9c179e"
             ],
             [
              0.4444444444444444,
              "#bd3786"
             ],
             [
              0.5555555555555556,
              "#d8576b"
             ],
             [
              0.6666666666666666,
              "#ed7953"
             ],
             [
              0.7777777777777778,
              "#fb9f3a"
             ],
             [
              0.8888888888888888,
              "#fdca26"
             ],
             [
              1,
              "#f0f921"
             ]
            ],
            "type": "heatmapgl"
           }
          ],
          "histogram": [
           {
            "marker": {
             "pattern": {
              "fillmode": "overlay",
              "size": 10,
              "solidity": 0.2
             }
            },
            "type": "histogram"
           }
          ],
          "histogram2d": [
           {
            "colorbar": {
             "outlinewidth": 0,
             "ticks": ""
            },
            "colorscale": [
             [
              0,
              "#0d0887"
             ],
             [
              0.1111111111111111,
              "#46039f"
             ],
             [
              0.2222222222222222,
              "#7201a8"
             ],
             [
              0.3333333333333333,
              "#9c179e"
             ],
             [
              0.4444444444444444,
              "#bd3786"
             ],
             [
              0.5555555555555556,
              "#d8576b"
             ],
             [
              0.6666666666666666,
              "#ed7953"
             ],
             [
              0.7777777777777778,
              "#fb9f3a"
             ],
             [
              0.8888888888888888,
              "#fdca26"
             ],
             [
              1,
              "#f0f921"
             ]
            ],
            "type": "histogram2d"
           }
          ],
          "histogram2dcontour": [
           {
            "colorbar": {
             "outlinewidth": 0,
             "ticks": ""
            },
            "colorscale": [
             [
              0,
              "#0d0887"
             ],
             [
              0.1111111111111111,
              "#46039f"
             ],
             [
              0.2222222222222222,
              "#7201a8"
             ],
             [
              0.3333333333333333,
              "#9c179e"
             ],
             [
              0.4444444444444444,
              "#bd3786"
             ],
             [
              0.5555555555555556,
              "#d8576b"
             ],
             [
              0.6666666666666666,
              "#ed7953"
             ],
             [
              0.7777777777777778,
              "#fb9f3a"
             ],
             [
              0.8888888888888888,
              "#fdca26"
             ],
             [
              1,
              "#f0f921"
             ]
            ],
            "type": "histogram2dcontour"
           }
          ],
          "mesh3d": [
           {
            "colorbar": {
             "outlinewidth": 0,
             "ticks": ""
            },
            "type": "mesh3d"
           }
          ],
          "parcoords": [
           {
            "line": {
             "colorbar": {
              "outlinewidth": 0,
              "ticks": ""
             }
            },
            "type": "parcoords"
           }
          ],
          "pie": [
           {
            "automargin": true,
            "type": "pie"
           }
          ],
          "scatter": [
           {
            "fillpattern": {
             "fillmode": "overlay",
             "size": 10,
             "solidity": 0.2
            },
            "type": "scatter"
           }
          ],
          "scatter3d": [
           {
            "line": {
             "colorbar": {
              "outlinewidth": 0,
              "ticks": ""
             }
            },
            "marker": {
             "colorbar": {
              "outlinewidth": 0,
              "ticks": ""
             }
            },
            "type": "scatter3d"
           }
          ],
          "scattercarpet": [
           {
            "marker": {
             "colorbar": {
              "outlinewidth": 0,
              "ticks": ""
             }
            },
            "type": "scattercarpet"
           }
          ],
          "scattergeo": [
           {
            "marker": {
             "colorbar": {
              "outlinewidth": 0,
              "ticks": ""
             }
            },
            "type": "scattergeo"
           }
          ],
          "scattergl": [
           {
            "marker": {
             "colorbar": {
              "outlinewidth": 0,
              "ticks": ""
             }
            },
            "type": "scattergl"
           }
          ],
          "scattermapbox": [
           {
            "marker": {
             "colorbar": {
              "outlinewidth": 0,
              "ticks": ""
             }
            },
            "type": "scattermapbox"
           }
          ],
          "scatterpolar": [
           {
            "marker": {
             "colorbar": {
              "outlinewidth": 0,
              "ticks": ""
             }
            },
            "type": "scatterpolar"
           }
          ],
          "scatterpolargl": [
           {
            "marker": {
             "colorbar": {
              "outlinewidth": 0,
              "ticks": ""
             }
            },
            "type": "scatterpolargl"
           }
          ],
          "scatterternary": [
           {
            "marker": {
             "colorbar": {
              "outlinewidth": 0,
              "ticks": ""
             }
            },
            "type": "scatterternary"
           }
          ],
          "surface": [
           {
            "colorbar": {
             "outlinewidth": 0,
             "ticks": ""
            },
            "colorscale": [
             [
              0,
              "#0d0887"
             ],
             [
              0.1111111111111111,
              "#46039f"
             ],
             [
              0.2222222222222222,
              "#7201a8"
             ],
             [
              0.3333333333333333,
              "#9c179e"
             ],
             [
              0.4444444444444444,
              "#bd3786"
             ],
             [
              0.5555555555555556,
              "#d8576b"
             ],
             [
              0.6666666666666666,
              "#ed7953"
             ],
             [
              0.7777777777777778,
              "#fb9f3a"
             ],
             [
              0.8888888888888888,
              "#fdca26"
             ],
             [
              1,
              "#f0f921"
             ]
            ],
            "type": "surface"
           }
          ],
          "table": [
           {
            "cells": {
             "fill": {
              "color": "#EBF0F8"
             },
             "line": {
              "color": "white"
             }
            },
            "header": {
             "fill": {
              "color": "#C8D4E3"
             },
             "line": {
              "color": "white"
             }
            },
            "type": "table"
           }
          ]
         },
         "layout": {
          "annotationdefaults": {
           "arrowcolor": "#2a3f5f",
           "arrowhead": 0,
           "arrowwidth": 1
          },
          "autotypenumbers": "strict",
          "coloraxis": {
           "colorbar": {
            "outlinewidth": 0,
            "ticks": ""
           }
          },
          "colorscale": {
           "diverging": [
            [
             0,
             "#8e0152"
            ],
            [
             0.1,
             "#c51b7d"
            ],
            [
             0.2,
             "#de77ae"
            ],
            [
             0.3,
             "#f1b6da"
            ],
            [
             0.4,
             "#fde0ef"
            ],
            [
             0.5,
             "#f7f7f7"
            ],
            [
             0.6,
             "#e6f5d0"
            ],
            [
             0.7,
             "#b8e186"
            ],
            [
             0.8,
             "#7fbc41"
            ],
            [
             0.9,
             "#4d9221"
            ],
            [
             1,
             "#276419"
            ]
           ],
           "sequential": [
            [
             0,
             "#0d0887"
            ],
            [
             0.1111111111111111,
             "#46039f"
            ],
            [
             0.2222222222222222,
             "#7201a8"
            ],
            [
             0.3333333333333333,
             "#9c179e"
            ],
            [
             0.4444444444444444,
             "#bd3786"
            ],
            [
             0.5555555555555556,
             "#d8576b"
            ],
            [
             0.6666666666666666,
             "#ed7953"
            ],
            [
             0.7777777777777778,
             "#fb9f3a"
            ],
            [
             0.8888888888888888,
             "#fdca26"
            ],
            [
             1,
             "#f0f921"
            ]
           ],
           "sequentialminus": [
            [
             0,
             "#0d0887"
            ],
            [
             0.1111111111111111,
             "#46039f"
            ],
            [
             0.2222222222222222,
             "#7201a8"
            ],
            [
             0.3333333333333333,
             "#9c179e"
            ],
            [
             0.4444444444444444,
             "#bd3786"
            ],
            [
             0.5555555555555556,
             "#d8576b"
            ],
            [
             0.6666666666666666,
             "#ed7953"
            ],
            [
             0.7777777777777778,
             "#fb9f3a"
            ],
            [
             0.8888888888888888,
             "#fdca26"
            ],
            [
             1,
             "#f0f921"
            ]
           ]
          },
          "colorway": [
           "#636efa",
           "#EF553B",
           "#00cc96",
           "#ab63fa",
           "#FFA15A",
           "#19d3f3",
           "#FF6692",
           "#B6E880",
           "#FF97FF",
           "#FECB52"
          ],
          "font": {
           "color": "#2a3f5f"
          },
          "geo": {
           "bgcolor": "white",
           "lakecolor": "white",
           "landcolor": "#E5ECF6",
           "showlakes": true,
           "showland": true,
           "subunitcolor": "white"
          },
          "hoverlabel": {
           "align": "left"
          },
          "hovermode": "closest",
          "mapbox": {
           "style": "light"
          },
          "paper_bgcolor": "white",
          "plot_bgcolor": "#E5ECF6",
          "polar": {
           "angularaxis": {
            "gridcolor": "white",
            "linecolor": "white",
            "ticks": ""
           },
           "bgcolor": "#E5ECF6",
           "radialaxis": {
            "gridcolor": "white",
            "linecolor": "white",
            "ticks": ""
           }
          },
          "scene": {
           "xaxis": {
            "backgroundcolor": "#E5ECF6",
            "gridcolor": "white",
            "gridwidth": 2,
            "linecolor": "white",
            "showbackground": true,
            "ticks": "",
            "zerolinecolor": "white"
           },
           "yaxis": {
            "backgroundcolor": "#E5ECF6",
            "gridcolor": "white",
            "gridwidth": 2,
            "linecolor": "white",
            "showbackground": true,
            "ticks": "",
            "zerolinecolor": "white"
           },
           "zaxis": {
            "backgroundcolor": "#E5ECF6",
            "gridcolor": "white",
            "gridwidth": 2,
            "linecolor": "white",
            "showbackground": true,
            "ticks": "",
            "zerolinecolor": "white"
           }
          },
          "shapedefaults": {
           "line": {
            "color": "#2a3f5f"
           }
          },
          "ternary": {
           "aaxis": {
            "gridcolor": "white",
            "linecolor": "white",
            "ticks": ""
           },
           "baxis": {
            "gridcolor": "white",
            "linecolor": "white",
            "ticks": ""
           },
           "bgcolor": "#E5ECF6",
           "caxis": {
            "gridcolor": "white",
            "linecolor": "white",
            "ticks": ""
           }
          },
          "title": {
           "x": 0.05
          },
          "xaxis": {
           "automargin": true,
           "gridcolor": "white",
           "linecolor": "white",
           "ticks": "",
           "title": {
            "standoff": 15
           },
           "zerolinecolor": "white",
           "zerolinewidth": 2
          },
          "yaxis": {
           "automargin": true,
           "gridcolor": "white",
           "linecolor": "white",
           "ticks": "",
           "title": {
            "standoff": 15
           },
           "zerolinecolor": "white",
           "zerolinewidth": 2
          }
         }
        },
        "title": {
         "text": "y_train vs y_pred_train"
        },
        "xaxis": {
         "anchor": "y",
         "domain": [
          0,
          1
         ],
         "title": {
          "text": "y_train"
         }
        },
        "yaxis": {
         "anchor": "x",
         "domain": [
          0,
          1
         ],
         "title": {
          "text": "y_pred_train"
         }
        }
       }
      },
      "text/html": [
       "<div>                            <div id=\"fceaf95a-eac6-4b01-b914-59a6a7dbbc82\" class=\"plotly-graph-div\" style=\"height:525px; width:100%;\"></div>            <script type=\"text/javascript\">                require([\"plotly\"], function(Plotly) {                    window.PLOTLYENV=window.PLOTLYENV || {};                                    if (document.getElementById(\"fceaf95a-eac6-4b01-b914-59a6a7dbbc82\")) {                    Plotly.newPlot(                        \"fceaf95a-eac6-4b01-b914-59a6a7dbbc82\",                        [{\"hovertemplate\":\"y_train=%{x}<br>y_pred_train=%{y}<extra></extra>\",\"legendgroup\":\"\",\"marker\":{\"color\":\"#636efa\",\"symbol\":\"circle\"},\"mode\":\"markers\",\"name\":\"\",\"orientation\":\"v\",\"showlegend\":false,\"x\":[32,1,7,5,36,5,9,6,3,2,30,11,4,5,18,10,6,10,3,2,34,12,4,5,11,10,23,5,19,4,15,10,35,3,8,4,13,2,18,6,2,28,19,8,10,8,7,7,9,13,4,5,5,53,13,14,9,3,17,33,4,5,33,6,41,7,10,6,34,10,6,7,3,9,10,16,15,3,2,3,23,9,4,10,4,33,19,7,4,10,13,15,13,21,4,1,9,34,20,7,12,4,6,4,3,14,4,2,4,2,29,10,21,16,1,6,8,5,17,8,3,7,15,8,37,36,8,8,11,6,44,8,17,9,2,5,5,2,16,11,6,8,10,12,3,3,2,49,10,8,7,7,12,9,10,3,3,3,6,4,20,8,10,10,19,5,7,5,11,6,3,19,1,19,10,8,42,17,16,12,30,12,33,17,13,59,3,8,12,3,11,6,12,6,3,3,10,3,7,8,8,5,4,9,81,14,18,10,32,6,8,33,25,16,9,3,2,3,29,6,10,10,4,10,5,5,4,25,5,3,3,3,8,14,11,7,3,12,60,3,7,13,26,6,1,8,18,13,9,4,6,24,9,3,6,2,5,6,26,39,10,11,8,13,7,7,8,25,5,5,2,12,5,39,9,18,14,22,6,3,5,43,8,2,4,3,8,6,14,10,13,34,20,39,10,2,12,21,11,11,22,7,7,5,3,6,6,9,4,9,13,13,4,7,5,12,38,2,42,12,8,7,3,57,16,8,9,7,42,44,2,7,9,1,17,11,22,6,12,8,6,10,6,6,13,9,4,9,3,7,7,27,8,22],\"xaxis\":\"x\",\"y\":[13.460886704628217,16.312313428405577,11.669861313972117,15.54089638606603,33.65907174971211,13.18379872487673,14.062212098134442,9.640249805667603,10.653210581492479,7.115722876946602,10.454314512510816,7.776300944018002,15.021205555267795,9.544352817751786,16.038571063567886,8.639373835260345,10.215631733162498,17.20816711125712,8.47708490230856,5.474773234038422,12.354870510190294,14.145252021104104,11.941777515647184,8.447579859428714,13.157233115643,10.119734745246681,16.259870082279367,16.435513580170262,12.044848943341565,6.24194913736495,11.34026425897557,11.366395588152288,12.89028237924691,8.543476847344529,9.352558841920155,9.531951769382534,16.74049624513266,13.044339163523784,7.680403956102187,12.517159443142079,10.820518703537239,14.822060866824787,16.020768122078547,7.488609980270555,9.21475576275524,11.174601612320657,7.1050220286072925,8.255785883597081,13.036850273940313,17.658147007956348,9.790137690250136,9.861548824379081,10.599219684825762,17.599693062593214,15.534436676739741,12.4771893847038,10.791013660657393,9.723745745214167,9.772334748760796,9.790137690250136,9.915539721045798,13.505634365180084,16.09054856145522,8.30106568854931,11.641685503530484,9.21475576275524,13.217943401432636,11.108209667284687,11.108209667284687,8.735270823176162,10.756868984101489,15.477538494389735,6.271454180244796,8.639373835260345,7.7099089989820335,10.653210581492479,9.886034678165952,16.724199337295342,17.588502892166225,6.817331064859845,20.34036367901299,10.749107569408295,7.009125040691476,11.49179761894795,8.447579859428714,14.163182999783329,13.044339163523784,13.521409127252465,9.02296178692361,17.95267044227817,8.927064799007793,16.750725051455607,16.20571559215045,11.710013481377274,9.118858774839424,10.365519617745031,16.039514417683634,10.311528721078314,12.812575129253872,15.031906403607104,10.88691064857321,10.583798102921335,8.189393938561112,7.614012011066217,8.159888895681267,9.981931666081767,9.981931666081767,13.284335346468605,10.871489066668783,10.407425708994129,17.151342644782503,9.981931666081767,14.283534694821114,10.66898534356486,10.764882331480674,12.930252437685189,10.599219684825762,10.70676713392281,13.188438358552789,15.246745712992293,11.845880527731367,8.351682871512898,11.49179761894795,13.904187882170872,13.657816034757893,12.930252437685189,7.530516071519655,10.628724727705608,10.736435789076047,6.433743113196581,19.526665259666718,6.529640101112397,13.834644445262,12.258973522274477,12.32064473374533,9.790137690250136,9.73614679358342,9.477960872715817,10.778612612288141,13.12204641351682,9.448455829835972,9.388746797097532,12.860252984199416,12.756648199776336,15.485268912942448,7.872197931933819,8.255785883597081,18.045244960354037,9.915539721045798,20.42391703984299,13.191002875511062,9.02296178692361,9.310652750671057,10.352847837412783,14.578690970176837,9.210035029190125,11.353994539783036,10.514023545249255,14.449182662433817,12.996644382721158,11.833479479362115,13.12204641351682,10.88691064857321,10.119734745246681,17.93040749086639,12.804850406889527,11.55818956398392,8.813364869602637,11.245425771534972,12.834355449769372,11.270498600236472,10.503322696909946,10.791013660657393,15.858311402523615,9.544352817751786,10.749107569408295,18.313953721258287,14.716637684897735,11.638664969995311,9.21475576275524,10.119734745246681,10.1737256419134,23.06439027355018,11.270498600236472,14.653368787701718,21.045975069356146,11.654086551899736,17.565760020774956,11.108209667284687,6.9132280527756595,10.775592078752968,10.88691064857321,12.037674503563,9.73614679358342,12.133571491478815,8.255785883597081,10.461416605660848,21.143565948970043,10.73041040517495,12.325365467310448,9.02296178692361,9.310652750671057,11.503611692402574,13.774521134386994,45.59999963866946,12.852545187692153,9.92794076941505,11.174601612320657,10.088529502336893,12.037674503563,8.639373835260345,11.270498600236472,14.594465732249217,14.15810908605026,7.872197931933819,12.325365467310448,11.174601612320657,9.938054642839731,19.395017216755537,6.817331064859845,10.88691064857321,9.830343581469293,12.04837535190231,11.97128255852703,12.354870510190294,7.584506968186371,13.667923298131868,10.311528721078314,12.41956225519632,13.844295692059074,10.311528721078314,11.54855667163302,10.461416605660848,13.409737377264268,13.476129322300237,14.081016292674978,13.420438225603577,16.909617648658816,26.940928250287865,10.023837757330867,10.653210581492479,8.831167811091976,8.255785883597081,12.336066315649758,13.31962907890198,10.311528721078314,8.927064799007793,10.724621715621424,11.749983539815553,12.533648981034915,11.837884211837334,14.424991938084421,13.391882795565653,9.448455829835972,12.564854223944703,8.255785883597081,10.10733369687743,10.407425708994129,15.291142708897643,14.158132664025452,13.915119851273392,12.336066315649758,7.1050220286072925,9.02296178692361,6.721434076944028,12.45076749810611,8.255785883597081,12.642561473937741,13.505634365180084,8.447579859428714,6.050155161533318,15.37537191638321,11.204106655200503,15.947529671282851,11.49179761894795,14.575466797581583,14.901864739135384,18.281576896421825,8.968970890256891,8.735270823176162,13.271934298099353,16.290269347903216,8.351682871512898,8.927064799007793,13.505634365180084,11.366395588152288,9.502446726502688,7.614012011066217,12.546664486021925,14.23530890973273,11.955860976622604,20.384324947665213,16.538701477327802,17.48499957615371,11.108209667284687,13.380232334384422,10.557313593576662,7.80580598689785,14.287775833834136,11.462292576068105,13.284335346468605,6.817331064859845,9.406549738586872,8.901991970306295,12.037674503563,9.832043781499234,7.584506968186371,11.132695521071557,9.886034678165952,11.49179761894795,12.229468479394631,10.749107569408295,11.97128255852703,10.88691064857321,8.255785883597081,11.55818956398392,12.6218858017395,8.764775866056008,15.511391343186183,10.532827739789791,9.310652750671057,11.036798533155743,7.901702974813665,11.462292576068105,18.671644138491505,14.298707802936654,12.672418992290769,9.640249805667603,12.930252437685189,12.40886140685701,6.9132280527756595,15.088620259442862,13.774544712362188,7.392712992354739,12.133571491478815,14.19187884591832,10.10733369687743,10.119734745246681,16.877803704306018,11.270498600236472,11.55818956398392,15.535245873484598,11.516283472734822,11.213170927082947,10.637788999588054,11.941777515647184,8.159888895681267,12.70895341897371,7.584506968186371,13.666223098101927,11.710013481377274,22.24595981024349,12.546664486021925,16.465403866709245],\"yaxis\":\"y\",\"type\":\"scatter\"}],                        {\"template\":{\"data\":{\"histogram2dcontour\":[{\"type\":\"histogram2dcontour\",\"colorbar\":{\"outlinewidth\":0,\"ticks\":\"\"},\"colorscale\":[[0.0,\"#0d0887\"],[0.1111111111111111,\"#46039f\"],[0.2222222222222222,\"#7201a8\"],[0.3333333333333333,\"#9c179e\"],[0.4444444444444444,\"#bd3786\"],[0.5555555555555556,\"#d8576b\"],[0.6666666666666666,\"#ed7953\"],[0.7777777777777778,\"#fb9f3a\"],[0.8888888888888888,\"#fdca26\"],[1.0,\"#f0f921\"]]}],\"choropleth\":[{\"type\":\"choropleth\",\"colorbar\":{\"outlinewidth\":0,\"ticks\":\"\"}}],\"histogram2d\":[{\"type\":\"histogram2d\",\"colorbar\":{\"outlinewidth\":0,\"ticks\":\"\"},\"colorscale\":[[0.0,\"#0d0887\"],[0.1111111111111111,\"#46039f\"],[0.2222222222222222,\"#7201a8\"],[0.3333333333333333,\"#9c179e\"],[0.4444444444444444,\"#bd3786\"],[0.5555555555555556,\"#d8576b\"],[0.6666666666666666,\"#ed7953\"],[0.7777777777777778,\"#fb9f3a\"],[0.8888888888888888,\"#fdca26\"],[1.0,\"#f0f921\"]]}],\"heatmap\":[{\"type\":\"heatmap\",\"colorbar\":{\"outlinewidth\":0,\"ticks\":\"\"},\"colorscale\":[[0.0,\"#0d0887\"],[0.1111111111111111,\"#46039f\"],[0.2222222222222222,\"#7201a8\"],[0.3333333333333333,\"#9c179e\"],[0.4444444444444444,\"#bd3786\"],[0.5555555555555556,\"#d8576b\"],[0.6666666666666666,\"#ed7953\"],[0.7777777777777778,\"#fb9f3a\"],[0.8888888888888888,\"#fdca26\"],[1.0,\"#f0f921\"]]}],\"heatmapgl\":[{\"type\":\"heatmapgl\",\"colorbar\":{\"outlinewidth\":0,\"ticks\":\"\"},\"colorscale\":[[0.0,\"#0d0887\"],[0.1111111111111111,\"#46039f\"],[0.2222222222222222,\"#7201a8\"],[0.3333333333333333,\"#9c179e\"],[0.4444444444444444,\"#bd3786\"],[0.5555555555555556,\"#d8576b\"],[0.6666666666666666,\"#ed7953\"],[0.7777777777777778,\"#fb9f3a\"],[0.8888888888888888,\"#fdca26\"],[1.0,\"#f0f921\"]]}],\"contourcarpet\":[{\"type\":\"contourcarpet\",\"colorbar\":{\"outlinewidth\":0,\"ticks\":\"\"}}],\"contour\":[{\"type\":\"contour\",\"colorbar\":{\"outlinewidth\":0,\"ticks\":\"\"},\"colorscale\":[[0.0,\"#0d0887\"],[0.1111111111111111,\"#46039f\"],[0.2222222222222222,\"#7201a8\"],[0.3333333333333333,\"#9c179e\"],[0.4444444444444444,\"#bd3786\"],[0.5555555555555556,\"#d8576b\"],[0.6666666666666666,\"#ed7953\"],[0.7777777777777778,\"#fb9f3a\"],[0.8888888888888888,\"#fdca26\"],[1.0,\"#f0f921\"]]}],\"surface\":[{\"type\":\"surface\",\"colorbar\":{\"outlinewidth\":0,\"ticks\":\"\"},\"colorscale\":[[0.0,\"#0d0887\"],[0.1111111111111111,\"#46039f\"],[0.2222222222222222,\"#7201a8\"],[0.3333333333333333,\"#9c179e\"],[0.4444444444444444,\"#bd3786\"],[0.5555555555555556,\"#d8576b\"],[0.6666666666666666,\"#ed7953\"],[0.7777777777777778,\"#fb9f3a\"],[0.8888888888888888,\"#fdca26\"],[1.0,\"#f0f921\"]]}],\"mesh3d\":[{\"type\":\"mesh3d\",\"colorbar\":{\"outlinewidth\":0,\"ticks\":\"\"}}],\"scatter\":[{\"fillpattern\":{\"fillmode\":\"overlay\",\"size\":10,\"solidity\":0.2},\"type\":\"scatter\"}],\"parcoords\":[{\"type\":\"parcoords\",\"line\":{\"colorbar\":{\"outlinewidth\":0,\"ticks\":\"\"}}}],\"scatterpolargl\":[{\"type\":\"scatterpolargl\",\"marker\":{\"colorbar\":{\"outlinewidth\":0,\"ticks\":\"\"}}}],\"bar\":[{\"error_x\":{\"color\":\"#2a3f5f\"},\"error_y\":{\"color\":\"#2a3f5f\"},\"marker\":{\"line\":{\"color\":\"#E5ECF6\",\"width\":0.5},\"pattern\":{\"fillmode\":\"overlay\",\"size\":10,\"solidity\":0.2}},\"type\":\"bar\"}],\"scattergeo\":[{\"type\":\"scattergeo\",\"marker\":{\"colorbar\":{\"outlinewidth\":0,\"ticks\":\"\"}}}],\"scatterpolar\":[{\"type\":\"scatterpolar\",\"marker\":{\"colorbar\":{\"outlinewidth\":0,\"ticks\":\"\"}}}],\"histogram\":[{\"marker\":{\"pattern\":{\"fillmode\":\"overlay\",\"size\":10,\"solidity\":0.2}},\"type\":\"histogram\"}],\"scattergl\":[{\"type\":\"scattergl\",\"marker\":{\"colorbar\":{\"outlinewidth\":0,\"ticks\":\"\"}}}],\"scatter3d\":[{\"type\":\"scatter3d\",\"line\":{\"colorbar\":{\"outlinewidth\":0,\"ticks\":\"\"}},\"marker\":{\"colorbar\":{\"outlinewidth\":0,\"ticks\":\"\"}}}],\"scattermapbox\":[{\"type\":\"scattermapbox\",\"marker\":{\"colorbar\":{\"outlinewidth\":0,\"ticks\":\"\"}}}],\"scatterternary\":[{\"type\":\"scatterternary\",\"marker\":{\"colorbar\":{\"outlinewidth\":0,\"ticks\":\"\"}}}],\"scattercarpet\":[{\"type\":\"scattercarpet\",\"marker\":{\"colorbar\":{\"outlinewidth\":0,\"ticks\":\"\"}}}],\"carpet\":[{\"aaxis\":{\"endlinecolor\":\"#2a3f5f\",\"gridcolor\":\"white\",\"linecolor\":\"white\",\"minorgridcolor\":\"white\",\"startlinecolor\":\"#2a3f5f\"},\"baxis\":{\"endlinecolor\":\"#2a3f5f\",\"gridcolor\":\"white\",\"linecolor\":\"white\",\"minorgridcolor\":\"white\",\"startlinecolor\":\"#2a3f5f\"},\"type\":\"carpet\"}],\"table\":[{\"cells\":{\"fill\":{\"color\":\"#EBF0F8\"},\"line\":{\"color\":\"white\"}},\"header\":{\"fill\":{\"color\":\"#C8D4E3\"},\"line\":{\"color\":\"white\"}},\"type\":\"table\"}],\"barpolar\":[{\"marker\":{\"line\":{\"color\":\"#E5ECF6\",\"width\":0.5},\"pattern\":{\"fillmode\":\"overlay\",\"size\":10,\"solidity\":0.2}},\"type\":\"barpolar\"}],\"pie\":[{\"automargin\":true,\"type\":\"pie\"}]},\"layout\":{\"autotypenumbers\":\"strict\",\"colorway\":[\"#636efa\",\"#EF553B\",\"#00cc96\",\"#ab63fa\",\"#FFA15A\",\"#19d3f3\",\"#FF6692\",\"#B6E880\",\"#FF97FF\",\"#FECB52\"],\"font\":{\"color\":\"#2a3f5f\"},\"hovermode\":\"closest\",\"hoverlabel\":{\"align\":\"left\"},\"paper_bgcolor\":\"white\",\"plot_bgcolor\":\"#E5ECF6\",\"polar\":{\"bgcolor\":\"#E5ECF6\",\"angularaxis\":{\"gridcolor\":\"white\",\"linecolor\":\"white\",\"ticks\":\"\"},\"radialaxis\":{\"gridcolor\":\"white\",\"linecolor\":\"white\",\"ticks\":\"\"}},\"ternary\":{\"bgcolor\":\"#E5ECF6\",\"aaxis\":{\"gridcolor\":\"white\",\"linecolor\":\"white\",\"ticks\":\"\"},\"baxis\":{\"gridcolor\":\"white\",\"linecolor\":\"white\",\"ticks\":\"\"},\"caxis\":{\"gridcolor\":\"white\",\"linecolor\":\"white\",\"ticks\":\"\"}},\"coloraxis\":{\"colorbar\":{\"outlinewidth\":0,\"ticks\":\"\"}},\"colorscale\":{\"sequential\":[[0.0,\"#0d0887\"],[0.1111111111111111,\"#46039f\"],[0.2222222222222222,\"#7201a8\"],[0.3333333333333333,\"#9c179e\"],[0.4444444444444444,\"#bd3786\"],[0.5555555555555556,\"#d8576b\"],[0.6666666666666666,\"#ed7953\"],[0.7777777777777778,\"#fb9f3a\"],[0.8888888888888888,\"#fdca26\"],[1.0,\"#f0f921\"]],\"sequentialminus\":[[0.0,\"#0d0887\"],[0.1111111111111111,\"#46039f\"],[0.2222222222222222,\"#7201a8\"],[0.3333333333333333,\"#9c179e\"],[0.4444444444444444,\"#bd3786\"],[0.5555555555555556,\"#d8576b\"],[0.6666666666666666,\"#ed7953\"],[0.7777777777777778,\"#fb9f3a\"],[0.8888888888888888,\"#fdca26\"],[1.0,\"#f0f921\"]],\"diverging\":[[0,\"#8e0152\"],[0.1,\"#c51b7d\"],[0.2,\"#de77ae\"],[0.3,\"#f1b6da\"],[0.4,\"#fde0ef\"],[0.5,\"#f7f7f7\"],[0.6,\"#e6f5d0\"],[0.7,\"#b8e186\"],[0.8,\"#7fbc41\"],[0.9,\"#4d9221\"],[1,\"#276419\"]]},\"xaxis\":{\"gridcolor\":\"white\",\"linecolor\":\"white\",\"ticks\":\"\",\"title\":{\"standoff\":15},\"zerolinecolor\":\"white\",\"automargin\":true,\"zerolinewidth\":2},\"yaxis\":{\"gridcolor\":\"white\",\"linecolor\":\"white\",\"ticks\":\"\",\"title\":{\"standoff\":15},\"zerolinecolor\":\"white\",\"automargin\":true,\"zerolinewidth\":2},\"scene\":{\"xaxis\":{\"backgroundcolor\":\"#E5ECF6\",\"gridcolor\":\"white\",\"linecolor\":\"white\",\"showbackground\":true,\"ticks\":\"\",\"zerolinecolor\":\"white\",\"gridwidth\":2},\"yaxis\":{\"backgroundcolor\":\"#E5ECF6\",\"gridcolor\":\"white\",\"linecolor\":\"white\",\"showbackground\":true,\"ticks\":\"\",\"zerolinecolor\":\"white\",\"gridwidth\":2},\"zaxis\":{\"backgroundcolor\":\"#E5ECF6\",\"gridcolor\":\"white\",\"linecolor\":\"white\",\"showbackground\":true,\"ticks\":\"\",\"zerolinecolor\":\"white\",\"gridwidth\":2}},\"shapedefaults\":{\"line\":{\"color\":\"#2a3f5f\"}},\"annotationdefaults\":{\"arrowcolor\":\"#2a3f5f\",\"arrowhead\":0,\"arrowwidth\":1},\"geo\":{\"bgcolor\":\"white\",\"landcolor\":\"#E5ECF6\",\"subunitcolor\":\"white\",\"showland\":true,\"showlakes\":true,\"lakecolor\":\"white\"},\"title\":{\"x\":0.05},\"mapbox\":{\"style\":\"light\"}}},\"xaxis\":{\"anchor\":\"y\",\"domain\":[0.0,1.0],\"title\":{\"text\":\"y_train\"}},\"yaxis\":{\"anchor\":\"x\",\"domain\":[0.0,1.0],\"title\":{\"text\":\"y_pred_train\"}},\"legend\":{\"tracegroupgap\":0},\"title\":{\"text\":\"y_train vs y_pred_train\"}},                        {\"responsive\": true}                    ).then(function(){\n",
       "                            \n",
       "var gd = document.getElementById('fceaf95a-eac6-4b01-b914-59a6a7dbbc82');\n",
       "var x = new MutationObserver(function (mutations, observer) {{\n",
       "        var display = window.getComputedStyle(gd).display;\n",
       "        if (!display || display === 'none') {{\n",
       "            console.log([gd, 'removed!']);\n",
       "            Plotly.purge(gd);\n",
       "            observer.disconnect();\n",
       "        }}\n",
       "}});\n",
       "\n",
       "// Listen for the removal of the full notebook cells\n",
       "var notebookContainer = gd.closest('#notebook-container');\n",
       "if (notebookContainer) {{\n",
       "    x.observe(notebookContainer, {childList: true});\n",
       "}}\n",
       "\n",
       "// Listen for the clearing of the current output cell\n",
       "var outputEl = gd.closest('.output');\n",
       "if (outputEl) {{\n",
       "    x.observe(outputEl, {childList: true});\n",
       "}}\n",
       "\n",
       "                        })                };                });            </script>        </div>"
      ]
     },
     "metadata": {},
     "output_type": "display_data"
    },
    {
     "data": {
      "application/vnd.plotly.v1+json": {
       "config": {
        "plotlyServerURL": "https://plot.ly"
       },
       "data": [
        {
         "hovertemplate": "y_test=%{x}<br>y_pred_test=%{y}<extra></extra>",
         "legendgroup": "",
         "marker": {
          "color": "green",
          "symbol": "circle"
         },
         "mode": "markers",
         "name": "",
         "orientation": "v",
         "showlegend": false,
         "type": "scatter",
         "x": [
          4,
          22,
          4,
          15,
          34,
          4,
          8,
          3,
          4,
          4,
          1,
          29,
          4,
          17,
          10,
          26,
          7,
          13,
          2,
          25,
          21,
          12,
          2,
          2,
          28,
          7,
          38,
          31,
          1,
          18,
          19,
          17,
          25,
          8,
          10,
          2,
          7,
          37,
          8,
          1,
          12,
          43,
          13,
          19,
          10,
          2,
          7,
          2,
          6,
          21,
          8,
          9,
          12,
          22,
          5,
          8,
          27,
          3,
          5,
          9,
          3,
          7,
          10,
          7,
          8,
          35,
          3,
          5,
          38,
          10,
          40,
          5,
          2,
          52,
          14,
          16,
          16,
          21,
          25,
          12,
          5,
          9,
          15,
          17,
          10,
          4,
          5,
          24,
          38,
          9,
          9,
          9,
          9,
          3,
          15,
          2,
          5,
          13,
          10,
          7,
          58,
          4,
          7,
          15,
          2,
          9,
          2,
          6,
          23,
          5,
          4,
          13,
          24,
          7,
          3,
          3,
          3,
          8,
          9,
          8,
          3,
          8,
          17,
          42,
          5,
          11,
          3,
          24,
          2,
          16,
          9,
          6,
          5,
          37,
          8,
          4,
          69,
          5,
          4,
          6,
          11,
          14,
          6,
          12,
          28,
          6,
          12,
          10,
          72,
          41,
          24,
          11
         ],
         "xaxis": "x",
         "y": [
          10.940901545239926,
          9.118858774839424,
          11.03050241729165,
          10.599219684825762,
          11.910572272737395,
          11.55818956398392,
          13.325654462803076,
          8.447579859428714,
          11.204106655200503,
          14.254955686807996,
          12.945218003012712,
          11.683591594779582,
          8.968970890256891,
          15.293466038177833,
          9.915539721045798,
          12.517159443142079,
          12.804850406889527,
          7.392712992354739,
          7.722310047351286,
          11.366395588152288,
          12.421262455226262,
          14.763019634400193,
          9.321353599010367,
          9.723745745214167,
          13.401657609038235,
          15.404793506931057,
          11.654086551899736,
          13.22975747488726,
          10.749107569408295,
          13.775470747228917,
          9.981931666081767,
          12.354870510190294,
          11.97128255852703,
          11.654086551899736,
          8.639373835260345,
          9.544352817751786,
          10.916415691453055,
          9.886034678165952,
          13.044339163523784,
          9.29523116876663,
          11.749983539815553,
          10.869107707083868,
          10.791013660657393,
          9.448455829835972,
          7.584506968186371,
          8.189393938561112,
          13.604342186315364,
          15.644310261724216,
          10.405725508964188,
          12.144272339818125,
          12.900747394805343,
          11.3351903452425,
          9.598343714418505,
          10.646914465628388,
          12.45076749810611,
          14.001608842652,
          13.828535609028904,
          7.872197931933819,
          11.749983539815553,
          9.254961653974398,
          9.02296178692361,
          8.77717691442526,
          9.406549738586872,
          8.351682871512898,
          9.598343714418505,
          13.918112903105436,
          14.954813610231824,
          9.790137690250136,
          12.992873261997964,
          12.517159443142079,
          10.311528721078314,
          9.502446726502688,
          12.258973522274477,
          12.984243334351905,
          9.118858774839424,
          14.63854363847126,
          13.97703953653313,
          15.607288331102,
          9.118858774839424,
          13.834644445262,
          8.24948976773299,
          16.12146906541587,
          8.351682871512898,
          10.599219684825762,
          13.355159505682922,
          9.03704524789903,
          13.026149425601005,
          12.900747394805343,
          13.471408588735121,
          17.14520590776452,
          10.1737256419134,
          10.490921648540693,
          11.494565774966304,
          15.754236782038415,
          44.34920559593972,
          10.951602393579236,
          7.009125040691476,
          13.050635279387876,
          14.176913280590794,
          13.97703953653313,
          14.736888305223474,
          8.927064799007793,
          13.309119655783336,
          12.003529827007094,
          17.134477288309068,
          13.409737377264268,
          8.06399190776545,
          10.599219684825762,
          9.981931666081767,
          8.159888895681267,
          16.77382694816417,
          9.640249805667603,
          10.1737256419134,
          11.749983539815553,
          13.804026177266842,
          18.537167546092178,
          10.723273991064662,
          6.817331064859845,
          11.749983539815553,
          11.701781332702362,
          11.81974919855465,
          12.479658084368198,
          11.952478363986494,
          12.948442175607967,
          7.392712992354739,
          13.92443259694472,
          13.889222316843346,
          10.48790111500552,
          8.351682871512898,
          16.536888195846405,
          7.009125040691476,
          8.255785883597081,
          8.927064799007793,
          11.875385570611215,
          11.420386484819005,
          12.840144139322899,
          10.311528721078314,
          14.183182870681504,
          19.033636430060042,
          12.373060248113072,
          10.843033625331174,
          13.390956760698923,
          8.681279926509443,
          9.02296178692361,
          8.351682871512898,
          12.133571491478815,
          13.092541370636974,
          17.06734349855703,
          10.791013660657393,
          14.081016292674978,
          13.037963499055628,
          8.543476847344529
         ],
         "yaxis": "y"
        }
       ],
       "layout": {
        "legend": {
         "tracegroupgap": 0
        },
        "template": {
         "data": {
          "bar": [
           {
            "error_x": {
             "color": "#2a3f5f"
            },
            "error_y": {
             "color": "#2a3f5f"
            },
            "marker": {
             "line": {
              "color": "#E5ECF6",
              "width": 0.5
             },
             "pattern": {
              "fillmode": "overlay",
              "size": 10,
              "solidity": 0.2
             }
            },
            "type": "bar"
           }
          ],
          "barpolar": [
           {
            "marker": {
             "line": {
              "color": "#E5ECF6",
              "width": 0.5
             },
             "pattern": {
              "fillmode": "overlay",
              "size": 10,
              "solidity": 0.2
             }
            },
            "type": "barpolar"
           }
          ],
          "carpet": [
           {
            "aaxis": {
             "endlinecolor": "#2a3f5f",
             "gridcolor": "white",
             "linecolor": "white",
             "minorgridcolor": "white",
             "startlinecolor": "#2a3f5f"
            },
            "baxis": {
             "endlinecolor": "#2a3f5f",
             "gridcolor": "white",
             "linecolor": "white",
             "minorgridcolor": "white",
             "startlinecolor": "#2a3f5f"
            },
            "type": "carpet"
           }
          ],
          "choropleth": [
           {
            "colorbar": {
             "outlinewidth": 0,
             "ticks": ""
            },
            "type": "choropleth"
           }
          ],
          "contour": [
           {
            "colorbar": {
             "outlinewidth": 0,
             "ticks": ""
            },
            "colorscale": [
             [
              0,
              "#0d0887"
             ],
             [
              0.1111111111111111,
              "#46039f"
             ],
             [
              0.2222222222222222,
              "#7201a8"
             ],
             [
              0.3333333333333333,
              "#9c179e"
             ],
             [
              0.4444444444444444,
              "#bd3786"
             ],
             [
              0.5555555555555556,
              "#d8576b"
             ],
             [
              0.6666666666666666,
              "#ed7953"
             ],
             [
              0.7777777777777778,
              "#fb9f3a"
             ],
             [
              0.8888888888888888,
              "#fdca26"
             ],
             [
              1,
              "#f0f921"
             ]
            ],
            "type": "contour"
           }
          ],
          "contourcarpet": [
           {
            "colorbar": {
             "outlinewidth": 0,
             "ticks": ""
            },
            "type": "contourcarpet"
           }
          ],
          "heatmap": [
           {
            "colorbar": {
             "outlinewidth": 0,
             "ticks": ""
            },
            "colorscale": [
             [
              0,
              "#0d0887"
             ],
             [
              0.1111111111111111,
              "#46039f"
             ],
             [
              0.2222222222222222,
              "#7201a8"
             ],
             [
              0.3333333333333333,
              "#9c179e"
             ],
             [
              0.4444444444444444,
              "#bd3786"
             ],
             [
              0.5555555555555556,
              "#d8576b"
             ],
             [
              0.6666666666666666,
              "#ed7953"
             ],
             [
              0.7777777777777778,
              "#fb9f3a"
             ],
             [
              0.8888888888888888,
              "#fdca26"
             ],
             [
              1,
              "#f0f921"
             ]
            ],
            "type": "heatmap"
           }
          ],
          "heatmapgl": [
           {
            "colorbar": {
             "outlinewidth": 0,
             "ticks": ""
            },
            "colorscale": [
             [
              0,
              "#0d0887"
             ],
             [
              0.1111111111111111,
              "#46039f"
             ],
             [
              0.2222222222222222,
              "#7201a8"
             ],
             [
              0.3333333333333333,
              "#9c179e"
             ],
             [
              0.4444444444444444,
              "#bd3786"
             ],
             [
              0.5555555555555556,
              "#d8576b"
             ],
             [
              0.6666666666666666,
              "#ed7953"
             ],
             [
              0.7777777777777778,
              "#fb9f3a"
             ],
             [
              0.8888888888888888,
              "#fdca26"
             ],
             [
              1,
              "#f0f921"
             ]
            ],
            "type": "heatmapgl"
           }
          ],
          "histogram": [
           {
            "marker": {
             "pattern": {
              "fillmode": "overlay",
              "size": 10,
              "solidity": 0.2
             }
            },
            "type": "histogram"
           }
          ],
          "histogram2d": [
           {
            "colorbar": {
             "outlinewidth": 0,
             "ticks": ""
            },
            "colorscale": [
             [
              0,
              "#0d0887"
             ],
             [
              0.1111111111111111,
              "#46039f"
             ],
             [
              0.2222222222222222,
              "#7201a8"
             ],
             [
              0.3333333333333333,
              "#9c179e"
             ],
             [
              0.4444444444444444,
              "#bd3786"
             ],
             [
              0.5555555555555556,
              "#d8576b"
             ],
             [
              0.6666666666666666,
              "#ed7953"
             ],
             [
              0.7777777777777778,
              "#fb9f3a"
             ],
             [
              0.8888888888888888,
              "#fdca26"
             ],
             [
              1,
              "#f0f921"
             ]
            ],
            "type": "histogram2d"
           }
          ],
          "histogram2dcontour": [
           {
            "colorbar": {
             "outlinewidth": 0,
             "ticks": ""
            },
            "colorscale": [
             [
              0,
              "#0d0887"
             ],
             [
              0.1111111111111111,
              "#46039f"
             ],
             [
              0.2222222222222222,
              "#7201a8"
             ],
             [
              0.3333333333333333,
              "#9c179e"
             ],
             [
              0.4444444444444444,
              "#bd3786"
             ],
             [
              0.5555555555555556,
              "#d8576b"
             ],
             [
              0.6666666666666666,
              "#ed7953"
             ],
             [
              0.7777777777777778,
              "#fb9f3a"
             ],
             [
              0.8888888888888888,
              "#fdca26"
             ],
             [
              1,
              "#f0f921"
             ]
            ],
            "type": "histogram2dcontour"
           }
          ],
          "mesh3d": [
           {
            "colorbar": {
             "outlinewidth": 0,
             "ticks": ""
            },
            "type": "mesh3d"
           }
          ],
          "parcoords": [
           {
            "line": {
             "colorbar": {
              "outlinewidth": 0,
              "ticks": ""
             }
            },
            "type": "parcoords"
           }
          ],
          "pie": [
           {
            "automargin": true,
            "type": "pie"
           }
          ],
          "scatter": [
           {
            "fillpattern": {
             "fillmode": "overlay",
             "size": 10,
             "solidity": 0.2
            },
            "type": "scatter"
           }
          ],
          "scatter3d": [
           {
            "line": {
             "colorbar": {
              "outlinewidth": 0,
              "ticks": ""
             }
            },
            "marker": {
             "colorbar": {
              "outlinewidth": 0,
              "ticks": ""
             }
            },
            "type": "scatter3d"
           }
          ],
          "scattercarpet": [
           {
            "marker": {
             "colorbar": {
              "outlinewidth": 0,
              "ticks": ""
             }
            },
            "type": "scattercarpet"
           }
          ],
          "scattergeo": [
           {
            "marker": {
             "colorbar": {
              "outlinewidth": 0,
              "ticks": ""
             }
            },
            "type": "scattergeo"
           }
          ],
          "scattergl": [
           {
            "marker": {
             "colorbar": {
              "outlinewidth": 0,
              "ticks": ""
             }
            },
            "type": "scattergl"
           }
          ],
          "scattermapbox": [
           {
            "marker": {
             "colorbar": {
              "outlinewidth": 0,
              "ticks": ""
             }
            },
            "type": "scattermapbox"
           }
          ],
          "scatterpolar": [
           {
            "marker": {
             "colorbar": {
              "outlinewidth": 0,
              "ticks": ""
             }
            },
            "type": "scatterpolar"
           }
          ],
          "scatterpolargl": [
           {
            "marker": {
             "colorbar": {
              "outlinewidth": 0,
              "ticks": ""
             }
            },
            "type": "scatterpolargl"
           }
          ],
          "scatterternary": [
           {
            "marker": {
             "colorbar": {
              "outlinewidth": 0,
              "ticks": ""
             }
            },
            "type": "scatterternary"
           }
          ],
          "surface": [
           {
            "colorbar": {
             "outlinewidth": 0,
             "ticks": ""
            },
            "colorscale": [
             [
              0,
              "#0d0887"
             ],
             [
              0.1111111111111111,
              "#46039f"
             ],
             [
              0.2222222222222222,
              "#7201a8"
             ],
             [
              0.3333333333333333,
              "#9c179e"
             ],
             [
              0.4444444444444444,
              "#bd3786"
             ],
             [
              0.5555555555555556,
              "#d8576b"
             ],
             [
              0.6666666666666666,
              "#ed7953"
             ],
             [
              0.7777777777777778,
              "#fb9f3a"
             ],
             [
              0.8888888888888888,
              "#fdca26"
             ],
             [
              1,
              "#f0f921"
             ]
            ],
            "type": "surface"
           }
          ],
          "table": [
           {
            "cells": {
             "fill": {
              "color": "#EBF0F8"
             },
             "line": {
              "color": "white"
             }
            },
            "header": {
             "fill": {
              "color": "#C8D4E3"
             },
             "line": {
              "color": "white"
             }
            },
            "type": "table"
           }
          ]
         },
         "layout": {
          "annotationdefaults": {
           "arrowcolor": "#2a3f5f",
           "arrowhead": 0,
           "arrowwidth": 1
          },
          "autotypenumbers": "strict",
          "coloraxis": {
           "colorbar": {
            "outlinewidth": 0,
            "ticks": ""
           }
          },
          "colorscale": {
           "diverging": [
            [
             0,
             "#8e0152"
            ],
            [
             0.1,
             "#c51b7d"
            ],
            [
             0.2,
             "#de77ae"
            ],
            [
             0.3,
             "#f1b6da"
            ],
            [
             0.4,
             "#fde0ef"
            ],
            [
             0.5,
             "#f7f7f7"
            ],
            [
             0.6,
             "#e6f5d0"
            ],
            [
             0.7,
             "#b8e186"
            ],
            [
             0.8,
             "#7fbc41"
            ],
            [
             0.9,
             "#4d9221"
            ],
            [
             1,
             "#276419"
            ]
           ],
           "sequential": [
            [
             0,
             "#0d0887"
            ],
            [
             0.1111111111111111,
             "#46039f"
            ],
            [
             0.2222222222222222,
             "#7201a8"
            ],
            [
             0.3333333333333333,
             "#9c179e"
            ],
            [
             0.4444444444444444,
             "#bd3786"
            ],
            [
             0.5555555555555556,
             "#d8576b"
            ],
            [
             0.6666666666666666,
             "#ed7953"
            ],
            [
             0.7777777777777778,
             "#fb9f3a"
            ],
            [
             0.8888888888888888,
             "#fdca26"
            ],
            [
             1,
             "#f0f921"
            ]
           ],
           "sequentialminus": [
            [
             0,
             "#0d0887"
            ],
            [
             0.1111111111111111,
             "#46039f"
            ],
            [
             0.2222222222222222,
             "#7201a8"
            ],
            [
             0.3333333333333333,
             "#9c179e"
            ],
            [
             0.4444444444444444,
             "#bd3786"
            ],
            [
             0.5555555555555556,
             "#d8576b"
            ],
            [
             0.6666666666666666,
             "#ed7953"
            ],
            [
             0.7777777777777778,
             "#fb9f3a"
            ],
            [
             0.8888888888888888,
             "#fdca26"
            ],
            [
             1,
             "#f0f921"
            ]
           ]
          },
          "colorway": [
           "#636efa",
           "#EF553B",
           "#00cc96",
           "#ab63fa",
           "#FFA15A",
           "#19d3f3",
           "#FF6692",
           "#B6E880",
           "#FF97FF",
           "#FECB52"
          ],
          "font": {
           "color": "#2a3f5f"
          },
          "geo": {
           "bgcolor": "white",
           "lakecolor": "white",
           "landcolor": "#E5ECF6",
           "showlakes": true,
           "showland": true,
           "subunitcolor": "white"
          },
          "hoverlabel": {
           "align": "left"
          },
          "hovermode": "closest",
          "mapbox": {
           "style": "light"
          },
          "paper_bgcolor": "white",
          "plot_bgcolor": "#E5ECF6",
          "polar": {
           "angularaxis": {
            "gridcolor": "white",
            "linecolor": "white",
            "ticks": ""
           },
           "bgcolor": "#E5ECF6",
           "radialaxis": {
            "gridcolor": "white",
            "linecolor": "white",
            "ticks": ""
           }
          },
          "scene": {
           "xaxis": {
            "backgroundcolor": "#E5ECF6",
            "gridcolor": "white",
            "gridwidth": 2,
            "linecolor": "white",
            "showbackground": true,
            "ticks": "",
            "zerolinecolor": "white"
           },
           "yaxis": {
            "backgroundcolor": "#E5ECF6",
            "gridcolor": "white",
            "gridwidth": 2,
            "linecolor": "white",
            "showbackground": true,
            "ticks": "",
            "zerolinecolor": "white"
           },
           "zaxis": {
            "backgroundcolor": "#E5ECF6",
            "gridcolor": "white",
            "gridwidth": 2,
            "linecolor": "white",
            "showbackground": true,
            "ticks": "",
            "zerolinecolor": "white"
           }
          },
          "shapedefaults": {
           "line": {
            "color": "#2a3f5f"
           }
          },
          "ternary": {
           "aaxis": {
            "gridcolor": "white",
            "linecolor": "white",
            "ticks": ""
           },
           "baxis": {
            "gridcolor": "white",
            "linecolor": "white",
            "ticks": ""
           },
           "bgcolor": "#E5ECF6",
           "caxis": {
            "gridcolor": "white",
            "linecolor": "white",
            "ticks": ""
           }
          },
          "title": {
           "x": 0.05
          },
          "xaxis": {
           "automargin": true,
           "gridcolor": "white",
           "linecolor": "white",
           "ticks": "",
           "title": {
            "standoff": 15
           },
           "zerolinecolor": "white",
           "zerolinewidth": 2
          },
          "yaxis": {
           "automargin": true,
           "gridcolor": "white",
           "linecolor": "white",
           "ticks": "",
           "title": {
            "standoff": 15
           },
           "zerolinecolor": "white",
           "zerolinewidth": 2
          }
         }
        },
        "title": {
         "text": "y_test vs y_pred_test"
        },
        "xaxis": {
         "anchor": "y",
         "domain": [
          0,
          1
         ],
         "title": {
          "text": "y_test"
         }
        },
        "yaxis": {
         "anchor": "x",
         "domain": [
          0,
          1
         ],
         "title": {
          "text": "y_pred_test"
         }
        }
       }
      },
      "text/html": [
       "<div>                            <div id=\"ea23fae7-cf10-4ac9-8520-e7540957ef3f\" class=\"plotly-graph-div\" style=\"height:525px; width:100%;\"></div>            <script type=\"text/javascript\">                require([\"plotly\"], function(Plotly) {                    window.PLOTLYENV=window.PLOTLYENV || {};                                    if (document.getElementById(\"ea23fae7-cf10-4ac9-8520-e7540957ef3f\")) {                    Plotly.newPlot(                        \"ea23fae7-cf10-4ac9-8520-e7540957ef3f\",                        [{\"hovertemplate\":\"y_test=%{x}<br>y_pred_test=%{y}<extra></extra>\",\"legendgroup\":\"\",\"marker\":{\"color\":\"green\",\"symbol\":\"circle\"},\"mode\":\"markers\",\"name\":\"\",\"orientation\":\"v\",\"showlegend\":false,\"x\":[4,22,4,15,34,4,8,3,4,4,1,29,4,17,10,26,7,13,2,25,21,12,2,2,28,7,38,31,1,18,19,17,25,8,10,2,7,37,8,1,12,43,13,19,10,2,7,2,6,21,8,9,12,22,5,8,27,3,5,9,3,7,10,7,8,35,3,5,38,10,40,5,2,52,14,16,16,21,25,12,5,9,15,17,10,4,5,24,38,9,9,9,9,3,15,2,5,13,10,7,58,4,7,15,2,9,2,6,23,5,4,13,24,7,3,3,3,8,9,8,3,8,17,42,5,11,3,24,2,16,9,6,5,37,8,4,69,5,4,6,11,14,6,12,28,6,12,10,72,41,24,11],\"xaxis\":\"x\",\"y\":[10.940901545239926,9.118858774839424,11.03050241729165,10.599219684825762,11.910572272737395,11.55818956398392,13.325654462803076,8.447579859428714,11.204106655200503,14.254955686807996,12.945218003012712,11.683591594779582,8.968970890256891,15.293466038177833,9.915539721045798,12.517159443142079,12.804850406889527,7.392712992354739,7.722310047351286,11.366395588152288,12.421262455226262,14.763019634400193,9.321353599010367,9.723745745214167,13.401657609038235,15.404793506931057,11.654086551899736,13.22975747488726,10.749107569408295,13.775470747228917,9.981931666081767,12.354870510190294,11.97128255852703,11.654086551899736,8.639373835260345,9.544352817751786,10.916415691453055,9.886034678165952,13.044339163523784,9.29523116876663,11.749983539815553,10.869107707083868,10.791013660657393,9.448455829835972,7.584506968186371,8.189393938561112,13.604342186315364,15.644310261724216,10.405725508964188,12.144272339818125,12.900747394805343,11.3351903452425,9.598343714418505,10.646914465628388,12.45076749810611,14.001608842652,13.828535609028904,7.872197931933819,11.749983539815553,9.254961653974398,9.02296178692361,8.77717691442526,9.406549738586872,8.351682871512898,9.598343714418505,13.918112903105436,14.954813610231824,9.790137690250136,12.992873261997964,12.517159443142079,10.311528721078314,9.502446726502688,12.258973522274477,12.984243334351905,9.118858774839424,14.63854363847126,13.97703953653313,15.607288331102,9.118858774839424,13.834644445262,8.24948976773299,16.12146906541587,8.351682871512898,10.599219684825762,13.355159505682922,9.03704524789903,13.026149425601005,12.900747394805343,13.471408588735121,17.14520590776452,10.1737256419134,10.490921648540693,11.494565774966304,15.754236782038415,44.34920559593972,10.951602393579236,7.009125040691476,13.050635279387876,14.176913280590794,13.97703953653313,14.736888305223474,8.927064799007793,13.309119655783336,12.003529827007094,17.134477288309068,13.409737377264268,8.06399190776545,10.599219684825762,9.981931666081767,8.159888895681267,16.77382694816417,9.640249805667603,10.1737256419134,11.749983539815553,13.804026177266842,18.537167546092178,10.723273991064662,6.817331064859845,11.749983539815553,11.701781332702362,11.81974919855465,12.479658084368198,11.952478363986494,12.948442175607967,7.392712992354739,13.92443259694472,13.889222316843346,10.48790111500552,8.351682871512898,16.536888195846405,7.009125040691476,8.255785883597081,8.927064799007793,11.875385570611215,11.420386484819005,12.840144139322899,10.311528721078314,14.183182870681504,19.033636430060042,12.373060248113072,10.843033625331174,13.390956760698923,8.681279926509443,9.02296178692361,8.351682871512898,12.133571491478815,13.092541370636974,17.06734349855703,10.791013660657393,14.081016292674978,13.037963499055628,8.543476847344529],\"yaxis\":\"y\",\"type\":\"scatter\"}],                        {\"template\":{\"data\":{\"histogram2dcontour\":[{\"type\":\"histogram2dcontour\",\"colorbar\":{\"outlinewidth\":0,\"ticks\":\"\"},\"colorscale\":[[0.0,\"#0d0887\"],[0.1111111111111111,\"#46039f\"],[0.2222222222222222,\"#7201a8\"],[0.3333333333333333,\"#9c179e\"],[0.4444444444444444,\"#bd3786\"],[0.5555555555555556,\"#d8576b\"],[0.6666666666666666,\"#ed7953\"],[0.7777777777777778,\"#fb9f3a\"],[0.8888888888888888,\"#fdca26\"],[1.0,\"#f0f921\"]]}],\"choropleth\":[{\"type\":\"choropleth\",\"colorbar\":{\"outlinewidth\":0,\"ticks\":\"\"}}],\"histogram2d\":[{\"type\":\"histogram2d\",\"colorbar\":{\"outlinewidth\":0,\"ticks\":\"\"},\"colorscale\":[[0.0,\"#0d0887\"],[0.1111111111111111,\"#46039f\"],[0.2222222222222222,\"#7201a8\"],[0.3333333333333333,\"#9c179e\"],[0.4444444444444444,\"#bd3786\"],[0.5555555555555556,\"#d8576b\"],[0.6666666666666666,\"#ed7953\"],[0.7777777777777778,\"#fb9f3a\"],[0.8888888888888888,\"#fdca26\"],[1.0,\"#f0f921\"]]}],\"heatmap\":[{\"type\":\"heatmap\",\"colorbar\":{\"outlinewidth\":0,\"ticks\":\"\"},\"colorscale\":[[0.0,\"#0d0887\"],[0.1111111111111111,\"#46039f\"],[0.2222222222222222,\"#7201a8\"],[0.3333333333333333,\"#9c179e\"],[0.4444444444444444,\"#bd3786\"],[0.5555555555555556,\"#d8576b\"],[0.6666666666666666,\"#ed7953\"],[0.7777777777777778,\"#fb9f3a\"],[0.8888888888888888,\"#fdca26\"],[1.0,\"#f0f921\"]]}],\"heatmapgl\":[{\"type\":\"heatmapgl\",\"colorbar\":{\"outlinewidth\":0,\"ticks\":\"\"},\"colorscale\":[[0.0,\"#0d0887\"],[0.1111111111111111,\"#46039f\"],[0.2222222222222222,\"#7201a8\"],[0.3333333333333333,\"#9c179e\"],[0.4444444444444444,\"#bd3786\"],[0.5555555555555556,\"#d8576b\"],[0.6666666666666666,\"#ed7953\"],[0.7777777777777778,\"#fb9f3a\"],[0.8888888888888888,\"#fdca26\"],[1.0,\"#f0f921\"]]}],\"contourcarpet\":[{\"type\":\"contourcarpet\",\"colorbar\":{\"outlinewidth\":0,\"ticks\":\"\"}}],\"contour\":[{\"type\":\"contour\",\"colorbar\":{\"outlinewidth\":0,\"ticks\":\"\"},\"colorscale\":[[0.0,\"#0d0887\"],[0.1111111111111111,\"#46039f\"],[0.2222222222222222,\"#7201a8\"],[0.3333333333333333,\"#9c179e\"],[0.4444444444444444,\"#bd3786\"],[0.5555555555555556,\"#d8576b\"],[0.6666666666666666,\"#ed7953\"],[0.7777777777777778,\"#fb9f3a\"],[0.8888888888888888,\"#fdca26\"],[1.0,\"#f0f921\"]]}],\"surface\":[{\"type\":\"surface\",\"colorbar\":{\"outlinewidth\":0,\"ticks\":\"\"},\"colorscale\":[[0.0,\"#0d0887\"],[0.1111111111111111,\"#46039f\"],[0.2222222222222222,\"#7201a8\"],[0.3333333333333333,\"#9c179e\"],[0.4444444444444444,\"#bd3786\"],[0.5555555555555556,\"#d8576b\"],[0.6666666666666666,\"#ed7953\"],[0.7777777777777778,\"#fb9f3a\"],[0.8888888888888888,\"#fdca26\"],[1.0,\"#f0f921\"]]}],\"mesh3d\":[{\"type\":\"mesh3d\",\"colorbar\":{\"outlinewidth\":0,\"ticks\":\"\"}}],\"scatter\":[{\"fillpattern\":{\"fillmode\":\"overlay\",\"size\":10,\"solidity\":0.2},\"type\":\"scatter\"}],\"parcoords\":[{\"type\":\"parcoords\",\"line\":{\"colorbar\":{\"outlinewidth\":0,\"ticks\":\"\"}}}],\"scatterpolargl\":[{\"type\":\"scatterpolargl\",\"marker\":{\"colorbar\":{\"outlinewidth\":0,\"ticks\":\"\"}}}],\"bar\":[{\"error_x\":{\"color\":\"#2a3f5f\"},\"error_y\":{\"color\":\"#2a3f5f\"},\"marker\":{\"line\":{\"color\":\"#E5ECF6\",\"width\":0.5},\"pattern\":{\"fillmode\":\"overlay\",\"size\":10,\"solidity\":0.2}},\"type\":\"bar\"}],\"scattergeo\":[{\"type\":\"scattergeo\",\"marker\":{\"colorbar\":{\"outlinewidth\":0,\"ticks\":\"\"}}}],\"scatterpolar\":[{\"type\":\"scatterpolar\",\"marker\":{\"colorbar\":{\"outlinewidth\":0,\"ticks\":\"\"}}}],\"histogram\":[{\"marker\":{\"pattern\":{\"fillmode\":\"overlay\",\"size\":10,\"solidity\":0.2}},\"type\":\"histogram\"}],\"scattergl\":[{\"type\":\"scattergl\",\"marker\":{\"colorbar\":{\"outlinewidth\":0,\"ticks\":\"\"}}}],\"scatter3d\":[{\"type\":\"scatter3d\",\"line\":{\"colorbar\":{\"outlinewidth\":0,\"ticks\":\"\"}},\"marker\":{\"colorbar\":{\"outlinewidth\":0,\"ticks\":\"\"}}}],\"scattermapbox\":[{\"type\":\"scattermapbox\",\"marker\":{\"colorbar\":{\"outlinewidth\":0,\"ticks\":\"\"}}}],\"scatterternary\":[{\"type\":\"scatterternary\",\"marker\":{\"colorbar\":{\"outlinewidth\":0,\"ticks\":\"\"}}}],\"scattercarpet\":[{\"type\":\"scattercarpet\",\"marker\":{\"colorbar\":{\"outlinewidth\":0,\"ticks\":\"\"}}}],\"carpet\":[{\"aaxis\":{\"endlinecolor\":\"#2a3f5f\",\"gridcolor\":\"white\",\"linecolor\":\"white\",\"minorgridcolor\":\"white\",\"startlinecolor\":\"#2a3f5f\"},\"baxis\":{\"endlinecolor\":\"#2a3f5f\",\"gridcolor\":\"white\",\"linecolor\":\"white\",\"minorgridcolor\":\"white\",\"startlinecolor\":\"#2a3f5f\"},\"type\":\"carpet\"}],\"table\":[{\"cells\":{\"fill\":{\"color\":\"#EBF0F8\"},\"line\":{\"color\":\"white\"}},\"header\":{\"fill\":{\"color\":\"#C8D4E3\"},\"line\":{\"color\":\"white\"}},\"type\":\"table\"}],\"barpolar\":[{\"marker\":{\"line\":{\"color\":\"#E5ECF6\",\"width\":0.5},\"pattern\":{\"fillmode\":\"overlay\",\"size\":10,\"solidity\":0.2}},\"type\":\"barpolar\"}],\"pie\":[{\"automargin\":true,\"type\":\"pie\"}]},\"layout\":{\"autotypenumbers\":\"strict\",\"colorway\":[\"#636efa\",\"#EF553B\",\"#00cc96\",\"#ab63fa\",\"#FFA15A\",\"#19d3f3\",\"#FF6692\",\"#B6E880\",\"#FF97FF\",\"#FECB52\"],\"font\":{\"color\":\"#2a3f5f\"},\"hovermode\":\"closest\",\"hoverlabel\":{\"align\":\"left\"},\"paper_bgcolor\":\"white\",\"plot_bgcolor\":\"#E5ECF6\",\"polar\":{\"bgcolor\":\"#E5ECF6\",\"angularaxis\":{\"gridcolor\":\"white\",\"linecolor\":\"white\",\"ticks\":\"\"},\"radialaxis\":{\"gridcolor\":\"white\",\"linecolor\":\"white\",\"ticks\":\"\"}},\"ternary\":{\"bgcolor\":\"#E5ECF6\",\"aaxis\":{\"gridcolor\":\"white\",\"linecolor\":\"white\",\"ticks\":\"\"},\"baxis\":{\"gridcolor\":\"white\",\"linecolor\":\"white\",\"ticks\":\"\"},\"caxis\":{\"gridcolor\":\"white\",\"linecolor\":\"white\",\"ticks\":\"\"}},\"coloraxis\":{\"colorbar\":{\"outlinewidth\":0,\"ticks\":\"\"}},\"colorscale\":{\"sequential\":[[0.0,\"#0d0887\"],[0.1111111111111111,\"#46039f\"],[0.2222222222222222,\"#7201a8\"],[0.3333333333333333,\"#9c179e\"],[0.4444444444444444,\"#bd3786\"],[0.5555555555555556,\"#d8576b\"],[0.6666666666666666,\"#ed7953\"],[0.7777777777777778,\"#fb9f3a\"],[0.8888888888888888,\"#fdca26\"],[1.0,\"#f0f921\"]],\"sequentialminus\":[[0.0,\"#0d0887\"],[0.1111111111111111,\"#46039f\"],[0.2222222222222222,\"#7201a8\"],[0.3333333333333333,\"#9c179e\"],[0.4444444444444444,\"#bd3786\"],[0.5555555555555556,\"#d8576b\"],[0.6666666666666666,\"#ed7953\"],[0.7777777777777778,\"#fb9f3a\"],[0.8888888888888888,\"#fdca26\"],[1.0,\"#f0f921\"]],\"diverging\":[[0,\"#8e0152\"],[0.1,\"#c51b7d\"],[0.2,\"#de77ae\"],[0.3,\"#f1b6da\"],[0.4,\"#fde0ef\"],[0.5,\"#f7f7f7\"],[0.6,\"#e6f5d0\"],[0.7,\"#b8e186\"],[0.8,\"#7fbc41\"],[0.9,\"#4d9221\"],[1,\"#276419\"]]},\"xaxis\":{\"gridcolor\":\"white\",\"linecolor\":\"white\",\"ticks\":\"\",\"title\":{\"standoff\":15},\"zerolinecolor\":\"white\",\"automargin\":true,\"zerolinewidth\":2},\"yaxis\":{\"gridcolor\":\"white\",\"linecolor\":\"white\",\"ticks\":\"\",\"title\":{\"standoff\":15},\"zerolinecolor\":\"white\",\"automargin\":true,\"zerolinewidth\":2},\"scene\":{\"xaxis\":{\"backgroundcolor\":\"#E5ECF6\",\"gridcolor\":\"white\",\"linecolor\":\"white\",\"showbackground\":true,\"ticks\":\"\",\"zerolinecolor\":\"white\",\"gridwidth\":2},\"yaxis\":{\"backgroundcolor\":\"#E5ECF6\",\"gridcolor\":\"white\",\"linecolor\":\"white\",\"showbackground\":true,\"ticks\":\"\",\"zerolinecolor\":\"white\",\"gridwidth\":2},\"zaxis\":{\"backgroundcolor\":\"#E5ECF6\",\"gridcolor\":\"white\",\"linecolor\":\"white\",\"showbackground\":true,\"ticks\":\"\",\"zerolinecolor\":\"white\",\"gridwidth\":2}},\"shapedefaults\":{\"line\":{\"color\":\"#2a3f5f\"}},\"annotationdefaults\":{\"arrowcolor\":\"#2a3f5f\",\"arrowhead\":0,\"arrowwidth\":1},\"geo\":{\"bgcolor\":\"white\",\"landcolor\":\"#E5ECF6\",\"subunitcolor\":\"white\",\"showland\":true,\"showlakes\":true,\"lakecolor\":\"white\"},\"title\":{\"x\":0.05},\"mapbox\":{\"style\":\"light\"}}},\"xaxis\":{\"anchor\":\"y\",\"domain\":[0.0,1.0],\"title\":{\"text\":\"y_test\"}},\"yaxis\":{\"anchor\":\"x\",\"domain\":[0.0,1.0],\"title\":{\"text\":\"y_pred_test\"}},\"legend\":{\"tracegroupgap\":0},\"title\":{\"text\":\"y_test vs y_pred_test\"}},                        {\"responsive\": true}                    ).then(function(){\n",
       "                            \n",
       "var gd = document.getElementById('ea23fae7-cf10-4ac9-8520-e7540957ef3f');\n",
       "var x = new MutationObserver(function (mutations, observer) {{\n",
       "        var display = window.getComputedStyle(gd).display;\n",
       "        if (!display || display === 'none') {{\n",
       "            console.log([gd, 'removed!']);\n",
       "            Plotly.purge(gd);\n",
       "            observer.disconnect();\n",
       "        }}\n",
       "}});\n",
       "\n",
       "// Listen for the removal of the full notebook cells\n",
       "var notebookContainer = gd.closest('#notebook-container');\n",
       "if (notebookContainer) {{\n",
       "    x.observe(notebookContainer, {childList: true});\n",
       "}}\n",
       "\n",
       "// Listen for the clearing of the current output cell\n",
       "var outputEl = gd.closest('.output');\n",
       "if (outputEl) {{\n",
       "    x.observe(outputEl, {childList: true});\n",
       "}}\n",
       "\n",
       "                        })                };                });            </script>        </div>"
      ]
     },
     "metadata": {},
     "output_type": "display_data"
    }
   ],
   "source": [
    "df_train = pd.DataFrame({'y_train': y_train, 'y_pred_train': y_pred_train})\n",
    "\n",
    "# Create a scatter plot using Plotly Express\n",
    "fig = px.scatter(df_train, x='y_train', y='y_pred_train', title='y_train vs y_pred_train')\n",
    "fig.update_layout(xaxis_title='y_train', yaxis_title='y_pred_train')\n",
    "fig.show()\n",
    "\n",
    "df_test = pd.DataFrame({'y_test': y_test, 'y_pred_test': y_pred_test})\n",
    "\n",
    "# Create a scatter plot using Plotly Express\n",
    "fig = px.scatter(df_test, x='y_test', y='y_pred_test', color_discrete_sequence=['green'], title='y_test vs y_pred_test')\n",
    "fig.update_layout(xaxis_title='y_test', yaxis_title='y_pred_test')\n",
    "fig.show()"
   ]
  },
  {
   "cell_type": "markdown",
   "id": "7759b996",
   "metadata": {},
   "source": [
    "### Working on the final df to show the predicted and the actual values"
   ]
  },
  {
   "cell_type": "code",
   "execution_count": 286,
   "id": "5301bacc",
   "metadata": {},
   "outputs": [],
   "source": [
    "## final_df is the df consisting of the id and the original data values\n",
    "final_df = pd.read_csv('Datasets/new.csv')\n",
    "final_df = final_df.drop([\"Unnamed: 0\"],axis=1)"
   ]
  },
  {
   "cell_type": "code",
   "execution_count": 287,
   "id": "a9509a39",
   "metadata": {},
   "outputs": [
    {
     "data": {
      "text/html": [
       "<div>\n",
       "<style scoped>\n",
       "    .dataframe tbody tr th:only-of-type {\n",
       "        vertical-align: middle;\n",
       "    }\n",
       "\n",
       "    .dataframe tbody tr th {\n",
       "        vertical-align: top;\n",
       "    }\n",
       "\n",
       "    .dataframe thead th {\n",
       "        text-align: right;\n",
       "    }\n",
       "</style>\n",
       "<table border=\"1\" class=\"dataframe\">\n",
       "  <thead>\n",
       "    <tr style=\"text-align: right;\">\n",
       "      <th></th>\n",
       "      <th>id</th>\n",
       "      <th>hospital_length_of_stay</th>\n",
       "      <th>age</th>\n",
       "      <th>sex</th>\n",
       "      <th>height</th>\n",
       "      <th>weight</th>\n",
       "      <th>smoking_history</th>\n",
       "      <th>previous_er_visit_within_14_days</th>\n",
       "      <th>admission_disposition</th>\n",
       "      <th>Hypertension</th>\n",
       "      <th>...</th>\n",
       "      <th>Respiractin</th>\n",
       "      <th>Immunity Advance</th>\n",
       "      <th>Vesicare</th>\n",
       "      <th>Zaxine</th>\n",
       "      <th>Quinine Sulfate</th>\n",
       "      <th>Desvenlafaxine</th>\n",
       "      <th>Glucosamine</th>\n",
       "      <th>Turmeric</th>\n",
       "      <th>Cogentin Tab</th>\n",
       "      <th>Elavil</th>\n",
       "    </tr>\n",
       "  </thead>\n",
       "  <tbody>\n",
       "    <tr>\n",
       "      <th>0</th>\n",
       "      <td>1</td>\n",
       "      <td>21</td>\n",
       "      <td>74</td>\n",
       "      <td>1</td>\n",
       "      <td>166.911029</td>\n",
       "      <td>80.265922</td>\n",
       "      <td>0.0</td>\n",
       "      <td>0</td>\n",
       "      <td>1</td>\n",
       "      <td>1</td>\n",
       "      <td>...</td>\n",
       "      <td>0.0</td>\n",
       "      <td>0.0</td>\n",
       "      <td>0.0</td>\n",
       "      <td>0.0</td>\n",
       "      <td>0.0</td>\n",
       "      <td>0.0</td>\n",
       "      <td>0.0</td>\n",
       "      <td>0.0</td>\n",
       "      <td>0.0</td>\n",
       "      <td>0.0</td>\n",
       "    </tr>\n",
       "    <tr>\n",
       "      <th>1</th>\n",
       "      <td>2</td>\n",
       "      <td>5</td>\n",
       "      <td>61</td>\n",
       "      <td>0</td>\n",
       "      <td>154.900000</td>\n",
       "      <td>73.600000</td>\n",
       "      <td>0.0</td>\n",
       "      <td>0</td>\n",
       "      <td>1</td>\n",
       "      <td>1</td>\n",
       "      <td>...</td>\n",
       "      <td>0.0</td>\n",
       "      <td>0.0</td>\n",
       "      <td>0.0</td>\n",
       "      <td>0.0</td>\n",
       "      <td>0.0</td>\n",
       "      <td>0.0</td>\n",
       "      <td>0.0</td>\n",
       "      <td>0.0</td>\n",
       "      <td>0.0</td>\n",
       "      <td>0.0</td>\n",
       "    </tr>\n",
       "    <tr>\n",
       "      <th>2</th>\n",
       "      <td>3</td>\n",
       "      <td>7</td>\n",
       "      <td>58</td>\n",
       "      <td>0</td>\n",
       "      <td>166.911029</td>\n",
       "      <td>80.265922</td>\n",
       "      <td>0.0</td>\n",
       "      <td>0</td>\n",
       "      <td>1</td>\n",
       "      <td>1</td>\n",
       "      <td>...</td>\n",
       "      <td>0.0</td>\n",
       "      <td>0.0</td>\n",
       "      <td>0.0</td>\n",
       "      <td>0.0</td>\n",
       "      <td>0.0</td>\n",
       "      <td>0.0</td>\n",
       "      <td>0.0</td>\n",
       "      <td>0.0</td>\n",
       "      <td>0.0</td>\n",
       "      <td>0.0</td>\n",
       "    </tr>\n",
       "    <tr>\n",
       "      <th>3</th>\n",
       "      <td>4</td>\n",
       "      <td>9</td>\n",
       "      <td>94</td>\n",
       "      <td>1</td>\n",
       "      <td>182.800000</td>\n",
       "      <td>66.200000</td>\n",
       "      <td>0.0</td>\n",
       "      <td>0</td>\n",
       "      <td>1</td>\n",
       "      <td>1</td>\n",
       "      <td>...</td>\n",
       "      <td>0.0</td>\n",
       "      <td>0.0</td>\n",
       "      <td>0.0</td>\n",
       "      <td>0.0</td>\n",
       "      <td>0.0</td>\n",
       "      <td>0.0</td>\n",
       "      <td>0.0</td>\n",
       "      <td>0.0</td>\n",
       "      <td>0.0</td>\n",
       "      <td>0.0</td>\n",
       "    </tr>\n",
       "    <tr>\n",
       "      <th>4</th>\n",
       "      <td>5</td>\n",
       "      <td>9</td>\n",
       "      <td>91</td>\n",
       "      <td>1</td>\n",
       "      <td>166.911029</td>\n",
       "      <td>80.265922</td>\n",
       "      <td>1.0</td>\n",
       "      <td>0</td>\n",
       "      <td>1</td>\n",
       "      <td>1</td>\n",
       "      <td>...</td>\n",
       "      <td>0.0</td>\n",
       "      <td>0.0</td>\n",
       "      <td>0.0</td>\n",
       "      <td>0.0</td>\n",
       "      <td>0.0</td>\n",
       "      <td>0.0</td>\n",
       "      <td>0.0</td>\n",
       "      <td>0.0</td>\n",
       "      <td>0.0</td>\n",
       "      <td>0.0</td>\n",
       "    </tr>\n",
       "  </tbody>\n",
       "</table>\n",
       "<p>5 rows × 747 columns</p>\n",
       "</div>"
      ],
      "text/plain": [
       "   id  hospital_length_of_stay  age  sex      height     weight  \\\n",
       "0   1                       21   74    1  166.911029  80.265922   \n",
       "1   2                        5   61    0  154.900000  73.600000   \n",
       "2   3                        7   58    0  166.911029  80.265922   \n",
       "3   4                        9   94    1  182.800000  66.200000   \n",
       "4   5                        9   91    1  166.911029  80.265922   \n",
       "\n",
       "   smoking_history  previous_er_visit_within_14_days  admission_disposition  \\\n",
       "0              0.0                                 0                      1   \n",
       "1              0.0                                 0                      1   \n",
       "2              0.0                                 0                      1   \n",
       "3              0.0                                 0                      1   \n",
       "4              1.0                                 0                      1   \n",
       "\n",
       "   Hypertension  ...  Respiractin  Immunity Advance  Vesicare  Zaxine  \\\n",
       "0             1  ...          0.0               0.0       0.0     0.0   \n",
       "1             1  ...          0.0               0.0       0.0     0.0   \n",
       "2             1  ...          0.0               0.0       0.0     0.0   \n",
       "3             1  ...          0.0               0.0       0.0     0.0   \n",
       "4             1  ...          0.0               0.0       0.0     0.0   \n",
       "\n",
       "   Quinine Sulfate  Desvenlafaxine  Glucosamine  Turmeric  Cogentin Tab  \\\n",
       "0              0.0             0.0          0.0       0.0           0.0   \n",
       "1              0.0             0.0          0.0       0.0           0.0   \n",
       "2              0.0             0.0          0.0       0.0           0.0   \n",
       "3              0.0             0.0          0.0       0.0           0.0   \n",
       "4              0.0             0.0          0.0       0.0           0.0   \n",
       "\n",
       "   Elavil  \n",
       "0     0.0  \n",
       "1     0.0  \n",
       "2     0.0  \n",
       "3     0.0  \n",
       "4     0.0  \n",
       "\n",
       "[5 rows x 747 columns]"
      ]
     },
     "execution_count": 287,
     "metadata": {},
     "output_type": "execute_result"
    }
   ],
   "source": [
    "final_df.head()"
   ]
  },
  {
   "cell_type": "code",
   "execution_count": 288,
   "id": "55edc93a",
   "metadata": {},
   "outputs": [
    {
     "data": {
      "text/html": [
       "<div>\n",
       "<style scoped>\n",
       "    .dataframe tbody tr th:only-of-type {\n",
       "        vertical-align: middle;\n",
       "    }\n",
       "\n",
       "    .dataframe tbody tr th {\n",
       "        vertical-align: top;\n",
       "    }\n",
       "\n",
       "    .dataframe thead th {\n",
       "        text-align: right;\n",
       "    }\n",
       "</style>\n",
       "<table border=\"1\" class=\"dataframe\">\n",
       "  <thead>\n",
       "    <tr style=\"text-align: right;\">\n",
       "      <th></th>\n",
       "      <th>id</th>\n",
       "      <th>age</th>\n",
       "      <th>sex</th>\n",
       "      <th>height</th>\n",
       "      <th>weight</th>\n",
       "      <th>smoking_history</th>\n",
       "      <th>previous_er_visit_within_14_days</th>\n",
       "      <th>admission_disposition</th>\n",
       "      <th>Hypertension</th>\n",
       "      <th>Chronic cardiac disease (not hypertension)</th>\n",
       "      <th>...</th>\n",
       "      <th>Vesicare</th>\n",
       "      <th>Zaxine</th>\n",
       "      <th>Quinine Sulfate</th>\n",
       "      <th>Desvenlafaxine</th>\n",
       "      <th>Glucosamine</th>\n",
       "      <th>Turmeric</th>\n",
       "      <th>Cogentin Tab</th>\n",
       "      <th>Elavil</th>\n",
       "      <th>HLOS</th>\n",
       "      <th>predicted</th>\n",
       "    </tr>\n",
       "  </thead>\n",
       "  <tbody>\n",
       "    <tr>\n",
       "      <th>0</th>\n",
       "      <td>1</td>\n",
       "      <td>74</td>\n",
       "      <td>1</td>\n",
       "      <td>166.911029</td>\n",
       "      <td>80.265922</td>\n",
       "      <td>0.0</td>\n",
       "      <td>0</td>\n",
       "      <td>1</td>\n",
       "      <td>1</td>\n",
       "      <td>0</td>\n",
       "      <td>...</td>\n",
       "      <td>0.0</td>\n",
       "      <td>0.0</td>\n",
       "      <td>0.0</td>\n",
       "      <td>0.0</td>\n",
       "      <td>0.0</td>\n",
       "      <td>0.0</td>\n",
       "      <td>0.0</td>\n",
       "      <td>0.0</td>\n",
       "      <td>21</td>\n",
       "      <td>12.144272</td>\n",
       "    </tr>\n",
       "    <tr>\n",
       "      <th>1</th>\n",
       "      <td>2</td>\n",
       "      <td>61</td>\n",
       "      <td>0</td>\n",
       "      <td>154.900000</td>\n",
       "      <td>73.600000</td>\n",
       "      <td>0.0</td>\n",
       "      <td>0</td>\n",
       "      <td>1</td>\n",
       "      <td>1</td>\n",
       "      <td>0</td>\n",
       "      <td>...</td>\n",
       "      <td>0.0</td>\n",
       "      <td>0.0</td>\n",
       "      <td>0.0</td>\n",
       "      <td>0.0</td>\n",
       "      <td>0.0</td>\n",
       "      <td>0.0</td>\n",
       "      <td>0.0</td>\n",
       "      <td>0.0</td>\n",
       "      <td>5</td>\n",
       "      <td>11.204107</td>\n",
       "    </tr>\n",
       "    <tr>\n",
       "      <th>2</th>\n",
       "      <td>3</td>\n",
       "      <td>58</td>\n",
       "      <td>0</td>\n",
       "      <td>166.911029</td>\n",
       "      <td>80.265922</td>\n",
       "      <td>0.0</td>\n",
       "      <td>0</td>\n",
       "      <td>1</td>\n",
       "      <td>1</td>\n",
       "      <td>0</td>\n",
       "      <td>...</td>\n",
       "      <td>0.0</td>\n",
       "      <td>0.0</td>\n",
       "      <td>0.0</td>\n",
       "      <td>0.0</td>\n",
       "      <td>0.0</td>\n",
       "      <td>0.0</td>\n",
       "      <td>0.0</td>\n",
       "      <td>0.0</td>\n",
       "      <td>7</td>\n",
       "      <td>10.916416</td>\n",
       "    </tr>\n",
       "    <tr>\n",
       "      <th>3</th>\n",
       "      <td>4</td>\n",
       "      <td>94</td>\n",
       "      <td>1</td>\n",
       "      <td>182.800000</td>\n",
       "      <td>66.200000</td>\n",
       "      <td>0.0</td>\n",
       "      <td>0</td>\n",
       "      <td>1</td>\n",
       "      <td>1</td>\n",
       "      <td>0</td>\n",
       "      <td>...</td>\n",
       "      <td>0.0</td>\n",
       "      <td>0.0</td>\n",
       "      <td>0.0</td>\n",
       "      <td>0.0</td>\n",
       "      <td>0.0</td>\n",
       "      <td>0.0</td>\n",
       "      <td>0.0</td>\n",
       "      <td>0.0</td>\n",
       "      <td>9</td>\n",
       "      <td>14.062212</td>\n",
       "    </tr>\n",
       "    <tr>\n",
       "      <th>4</th>\n",
       "      <td>5</td>\n",
       "      <td>91</td>\n",
       "      <td>1</td>\n",
       "      <td>166.911029</td>\n",
       "      <td>80.265922</td>\n",
       "      <td>1.0</td>\n",
       "      <td>0</td>\n",
       "      <td>1</td>\n",
       "      <td>1</td>\n",
       "      <td>1</td>\n",
       "      <td>...</td>\n",
       "      <td>0.0</td>\n",
       "      <td>0.0</td>\n",
       "      <td>0.0</td>\n",
       "      <td>0.0</td>\n",
       "      <td>0.0</td>\n",
       "      <td>0.0</td>\n",
       "      <td>0.0</td>\n",
       "      <td>0.0</td>\n",
       "      <td>9</td>\n",
       "      <td>13.774521</td>\n",
       "    </tr>\n",
       "  </tbody>\n",
       "</table>\n",
       "<p>5 rows × 748 columns</p>\n",
       "</div>"
      ],
      "text/plain": [
       "   id  age  sex      height     weight  smoking_history  \\\n",
       "0   1   74    1  166.911029  80.265922              0.0   \n",
       "1   2   61    0  154.900000  73.600000              0.0   \n",
       "2   3   58    0  166.911029  80.265922              0.0   \n",
       "3   4   94    1  182.800000  66.200000              0.0   \n",
       "4   5   91    1  166.911029  80.265922              1.0   \n",
       "\n",
       "   previous_er_visit_within_14_days  admission_disposition  Hypertension  \\\n",
       "0                                 0                      1             1   \n",
       "1                                 0                      1             1   \n",
       "2                                 0                      1             1   \n",
       "3                                 0                      1             1   \n",
       "4                                 0                      1             1   \n",
       "\n",
       "   Chronic cardiac disease (not hypertension)  ...  Vesicare  Zaxine  \\\n",
       "0                                           0  ...       0.0     0.0   \n",
       "1                                           0  ...       0.0     0.0   \n",
       "2                                           0  ...       0.0     0.0   \n",
       "3                                           0  ...       0.0     0.0   \n",
       "4                                           1  ...       0.0     0.0   \n",
       "\n",
       "   Quinine Sulfate  Desvenlafaxine  Glucosamine  Turmeric  Cogentin Tab  \\\n",
       "0              0.0             0.0          0.0       0.0           0.0   \n",
       "1              0.0             0.0          0.0       0.0           0.0   \n",
       "2              0.0             0.0          0.0       0.0           0.0   \n",
       "3              0.0             0.0          0.0       0.0           0.0   \n",
       "4              0.0             0.0          0.0       0.0           0.0   \n",
       "\n",
       "   Elavil  HLOS  predicted  \n",
       "0     0.0    21  12.144272  \n",
       "1     0.0     5  11.204107  \n",
       "2     0.0     7  10.916416  \n",
       "3     0.0     9  14.062212  \n",
       "4     0.0     9  13.774521  \n",
       "\n",
       "[5 rows x 748 columns]"
      ]
     },
     "execution_count": 288,
     "metadata": {},
     "output_type": "execute_result"
    }
   ],
   "source": [
    "## we already have dataframe named df_test and df_train created above to plot the scatter plot\n",
    "\n",
    "## we will rename the columns initially\n",
    "df_test.rename(columns={'y_test': 'HLOS','y_pred_test':'predicted'}, inplace=True)\n",
    "df_train.rename(columns={'y_train': 'HLOS','y_pred_train':'predicted'}, inplace=True)\n",
    "\n",
    "## concat the two dataframes\n",
    "combined_df = pd.concat([df_test, df_train])\n",
    "\n",
    "## finally merge the combined_df based on index with the with the final_df\n",
    "final_df = pd.merge(final_df, combined_df, left_index=True, right_index=True, suffixes=('', '_combined'))\n",
    "\n",
    "## dropping the column hospital_length_of_stay to avoid confusion as HOLS has already been added \n",
    "final_df = final_df.drop('hospital_length_of_stay',axis = 1)\n",
    "final_df.head()"
   ]
  },
  {
   "cell_type": "code",
   "execution_count": 255,
   "id": "3c2c533a",
   "metadata": {},
   "outputs": [],
   "source": [
    "# final_df.to_csv(\"Datasets/df_with_predicted_values\")"
   ]
  },
  {
   "cell_type": "code",
   "execution_count": null,
   "id": "eb54edb9",
   "metadata": {},
   "outputs": [],
   "source": []
  }
 ],
 "metadata": {
  "kernelspec": {
   "display_name": "Python 3 (ipykernel)",
   "language": "python",
   "name": "python3"
  },
  "language_info": {
   "codemirror_mode": {
    "name": "ipython",
    "version": 3
   },
   "file_extension": ".py",
   "mimetype": "text/x-python",
   "name": "python",
   "nbconvert_exporter": "python",
   "pygments_lexer": "ipython3",
   "version": "3.11.5"
  }
 },
 "nbformat": 4,
 "nbformat_minor": 5
}
