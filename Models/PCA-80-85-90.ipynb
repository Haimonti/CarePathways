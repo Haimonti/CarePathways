{
 "cells": [
  {
   "cell_type": "markdown",
   "id": "ecbeff79",
   "metadata": {},
   "source": [
    "### PCA"
   ]
  },
  {
   "cell_type": "code",
   "execution_count": 164,
   "id": "a11df995",
   "metadata": {},
   "outputs": [],
   "source": [
    "import pandas as pd\n",
    "import matplotlib.pyplot as plt\n",
    "from sklearn.model_selection import train_test_split\n",
    "from sklearn.decomposition import PCA\n",
    "from sklearn.metrics import mean_squared_error\n",
    "import plotly.express as px"
   ]
  },
  {
   "cell_type": "code",
   "execution_count": 165,
   "id": "91d25dff",
   "metadata": {},
   "outputs": [],
   "source": [
    "df = pd.read_csv(\"/Users/asheshlalshrestha/Desktop/UB/Research/Hospital prediction/CarePathways-main/Models/Datasets/preprocessed_dataset.csv\")"
   ]
  },
  {
   "cell_type": "code",
   "execution_count": 166,
   "id": "745cff88",
   "metadata": {},
   "outputs": [],
   "source": [
    "df = df.drop(\"Unnamed: 0\",axis=1)"
   ]
  },
  {
   "cell_type": "code",
   "execution_count": 167,
   "id": "c3cb28bc",
   "metadata": {},
   "outputs": [
    {
     "data": {
      "text/html": [
       "<div>\n",
       "<style scoped>\n",
       "    .dataframe tbody tr th:only-of-type {\n",
       "        vertical-align: middle;\n",
       "    }\n",
       "\n",
       "    .dataframe tbody tr th {\n",
       "        vertical-align: top;\n",
       "    }\n",
       "\n",
       "    .dataframe thead th {\n",
       "        text-align: right;\n",
       "    }\n",
       "</style>\n",
       "<table border=\"1\" class=\"dataframe\">\n",
       "  <thead>\n",
       "    <tr style=\"text-align: right;\">\n",
       "      <th></th>\n",
       "      <th>age</th>\n",
       "      <th>sex</th>\n",
       "      <th>height</th>\n",
       "      <th>weight</th>\n",
       "      <th>smoking_history</th>\n",
       "      <th>previous_er_visit_within_14_days</th>\n",
       "      <th>admission_disposition</th>\n",
       "      <th>Hypertension</th>\n",
       "      <th>Chronic cardiac disease (not hypertension)</th>\n",
       "      <th>Diabetes</th>\n",
       "      <th>...</th>\n",
       "      <th>Immunity Advance</th>\n",
       "      <th>Vesicare</th>\n",
       "      <th>Zaxine</th>\n",
       "      <th>Quinine Sulfate</th>\n",
       "      <th>Desvenlafaxine</th>\n",
       "      <th>Glucosamine</th>\n",
       "      <th>Turmeric</th>\n",
       "      <th>Cogentin Tab</th>\n",
       "      <th>Elavil</th>\n",
       "      <th>hospital_length_of_stay</th>\n",
       "    </tr>\n",
       "  </thead>\n",
       "  <tbody>\n",
       "    <tr>\n",
       "      <th>0</th>\n",
       "      <td>0.485152</td>\n",
       "      <td>1</td>\n",
       "      <td>0.003233</td>\n",
       "      <td>0.001623</td>\n",
       "      <td>0.0</td>\n",
       "      <td>0</td>\n",
       "      <td>1</td>\n",
       "      <td>1</td>\n",
       "      <td>0</td>\n",
       "      <td>1</td>\n",
       "      <td>...</td>\n",
       "      <td>0.0</td>\n",
       "      <td>0.0</td>\n",
       "      <td>0.0</td>\n",
       "      <td>0.0</td>\n",
       "      <td>0.0</td>\n",
       "      <td>0.0</td>\n",
       "      <td>0.0</td>\n",
       "      <td>0.0</td>\n",
       "      <td>0.0</td>\n",
       "      <td>21</td>\n",
       "    </tr>\n",
       "    <tr>\n",
       "      <th>1</th>\n",
       "      <td>-0.308119</td>\n",
       "      <td>0</td>\n",
       "      <td>-1.497964</td>\n",
       "      <td>-0.362476</td>\n",
       "      <td>0.0</td>\n",
       "      <td>0</td>\n",
       "      <td>1</td>\n",
       "      <td>1</td>\n",
       "      <td>0</td>\n",
       "      <td>0</td>\n",
       "      <td>...</td>\n",
       "      <td>0.0</td>\n",
       "      <td>0.0</td>\n",
       "      <td>0.0</td>\n",
       "      <td>0.0</td>\n",
       "      <td>0.0</td>\n",
       "      <td>0.0</td>\n",
       "      <td>0.0</td>\n",
       "      <td>0.0</td>\n",
       "      <td>0.0</td>\n",
       "      <td>5</td>\n",
       "    </tr>\n",
       "    <tr>\n",
       "      <th>2</th>\n",
       "      <td>-0.491182</td>\n",
       "      <td>0</td>\n",
       "      <td>0.003233</td>\n",
       "      <td>0.001623</td>\n",
       "      <td>0.0</td>\n",
       "      <td>0</td>\n",
       "      <td>1</td>\n",
       "      <td>1</td>\n",
       "      <td>0</td>\n",
       "      <td>0</td>\n",
       "      <td>...</td>\n",
       "      <td>0.0</td>\n",
       "      <td>0.0</td>\n",
       "      <td>0.0</td>\n",
       "      <td>0.0</td>\n",
       "      <td>0.0</td>\n",
       "      <td>0.0</td>\n",
       "      <td>0.0</td>\n",
       "      <td>0.0</td>\n",
       "      <td>0.0</td>\n",
       "      <td>7</td>\n",
       "    </tr>\n",
       "    <tr>\n",
       "      <th>3</th>\n",
       "      <td>1.705571</td>\n",
       "      <td>1</td>\n",
       "      <td>1.989114</td>\n",
       "      <td>-0.766671</td>\n",
       "      <td>0.0</td>\n",
       "      <td>0</td>\n",
       "      <td>1</td>\n",
       "      <td>1</td>\n",
       "      <td>0</td>\n",
       "      <td>0</td>\n",
       "      <td>...</td>\n",
       "      <td>0.0</td>\n",
       "      <td>0.0</td>\n",
       "      <td>0.0</td>\n",
       "      <td>0.0</td>\n",
       "      <td>0.0</td>\n",
       "      <td>0.0</td>\n",
       "      <td>0.0</td>\n",
       "      <td>0.0</td>\n",
       "      <td>0.0</td>\n",
       "      <td>9</td>\n",
       "    </tr>\n",
       "    <tr>\n",
       "      <th>4</th>\n",
       "      <td>1.522508</td>\n",
       "      <td>1</td>\n",
       "      <td>0.003233</td>\n",
       "      <td>0.001623</td>\n",
       "      <td>1.0</td>\n",
       "      <td>0</td>\n",
       "      <td>1</td>\n",
       "      <td>1</td>\n",
       "      <td>1</td>\n",
       "      <td>1</td>\n",
       "      <td>...</td>\n",
       "      <td>0.0</td>\n",
       "      <td>0.0</td>\n",
       "      <td>0.0</td>\n",
       "      <td>0.0</td>\n",
       "      <td>0.0</td>\n",
       "      <td>0.0</td>\n",
       "      <td>0.0</td>\n",
       "      <td>0.0</td>\n",
       "      <td>0.0</td>\n",
       "      <td>9</td>\n",
       "    </tr>\n",
       "    <tr>\n",
       "      <th>...</th>\n",
       "      <td>...</td>\n",
       "      <td>...</td>\n",
       "      <td>...</td>\n",
       "      <td>...</td>\n",
       "      <td>...</td>\n",
       "      <td>...</td>\n",
       "      <td>...</td>\n",
       "      <td>...</td>\n",
       "      <td>...</td>\n",
       "      <td>...</td>\n",
       "      <td>...</td>\n",
       "      <td>...</td>\n",
       "      <td>...</td>\n",
       "      <td>...</td>\n",
       "      <td>...</td>\n",
       "      <td>...</td>\n",
       "      <td>...</td>\n",
       "      <td>...</td>\n",
       "      <td>...</td>\n",
       "      <td>...</td>\n",
       "      <td>...</td>\n",
       "    </tr>\n",
       "    <tr>\n",
       "      <th>501</th>\n",
       "      <td>0.119027</td>\n",
       "      <td>0</td>\n",
       "      <td>-0.360602</td>\n",
       "      <td>-0.171303</td>\n",
       "      <td>0.0</td>\n",
       "      <td>1</td>\n",
       "      <td>1</td>\n",
       "      <td>1</td>\n",
       "      <td>0</td>\n",
       "      <td>1</td>\n",
       "      <td>...</td>\n",
       "      <td>0.0</td>\n",
       "      <td>0.0</td>\n",
       "      <td>0.0</td>\n",
       "      <td>0.0</td>\n",
       "      <td>0.0</td>\n",
       "      <td>1.0</td>\n",
       "      <td>0.0</td>\n",
       "      <td>0.0</td>\n",
       "      <td>0.0</td>\n",
       "      <td>2</td>\n",
       "    </tr>\n",
       "    <tr>\n",
       "      <th>502</th>\n",
       "      <td>-0.613224</td>\n",
       "      <td>0</td>\n",
       "      <td>-0.235617</td>\n",
       "      <td>-0.417097</td>\n",
       "      <td>0.0</td>\n",
       "      <td>0</td>\n",
       "      <td>1</td>\n",
       "      <td>0</td>\n",
       "      <td>0</td>\n",
       "      <td>0</td>\n",
       "      <td>...</td>\n",
       "      <td>0.0</td>\n",
       "      <td>0.0</td>\n",
       "      <td>0.0</td>\n",
       "      <td>0.0</td>\n",
       "      <td>0.0</td>\n",
       "      <td>0.0</td>\n",
       "      <td>0.0</td>\n",
       "      <td>1.0</td>\n",
       "      <td>0.0</td>\n",
       "      <td>13</td>\n",
       "    </tr>\n",
       "    <tr>\n",
       "      <th>503</th>\n",
       "      <td>0.485152</td>\n",
       "      <td>0</td>\n",
       "      <td>0.003233</td>\n",
       "      <td>-1.378426</td>\n",
       "      <td>0.0</td>\n",
       "      <td>1</td>\n",
       "      <td>1</td>\n",
       "      <td>0</td>\n",
       "      <td>0</td>\n",
       "      <td>0</td>\n",
       "      <td>...</td>\n",
       "      <td>0.0</td>\n",
       "      <td>0.0</td>\n",
       "      <td>0.0</td>\n",
       "      <td>0.0</td>\n",
       "      <td>0.0</td>\n",
       "      <td>0.0</td>\n",
       "      <td>0.0</td>\n",
       "      <td>0.0</td>\n",
       "      <td>1.0</td>\n",
       "      <td>19</td>\n",
       "    </tr>\n",
       "    <tr>\n",
       "      <th>504</th>\n",
       "      <td>0.912299</td>\n",
       "      <td>1</td>\n",
       "      <td>-1.110511</td>\n",
       "      <td>-0.832216</td>\n",
       "      <td>0.0</td>\n",
       "      <td>1</td>\n",
       "      <td>1</td>\n",
       "      <td>1</td>\n",
       "      <td>0</td>\n",
       "      <td>1</td>\n",
       "      <td>...</td>\n",
       "      <td>0.0</td>\n",
       "      <td>0.0</td>\n",
       "      <td>0.0</td>\n",
       "      <td>0.0</td>\n",
       "      <td>0.0</td>\n",
       "      <td>0.0</td>\n",
       "      <td>0.0</td>\n",
       "      <td>0.0</td>\n",
       "      <td>0.0</td>\n",
       "      <td>9</td>\n",
       "    </tr>\n",
       "    <tr>\n",
       "      <th>505</th>\n",
       "      <td>0.485152</td>\n",
       "      <td>1</td>\n",
       "      <td>0.003233</td>\n",
       "      <td>0.079954</td>\n",
       "      <td>0.0</td>\n",
       "      <td>1</td>\n",
       "      <td>1</td>\n",
       "      <td>1</td>\n",
       "      <td>0</td>\n",
       "      <td>0</td>\n",
       "      <td>...</td>\n",
       "      <td>0.0</td>\n",
       "      <td>0.0</td>\n",
       "      <td>0.0</td>\n",
       "      <td>0.0</td>\n",
       "      <td>0.0</td>\n",
       "      <td>1.0</td>\n",
       "      <td>0.0</td>\n",
       "      <td>0.0</td>\n",
       "      <td>0.0</td>\n",
       "      <td>7</td>\n",
       "    </tr>\n",
       "  </tbody>\n",
       "</table>\n",
       "<p>506 rows × 746 columns</p>\n",
       "</div>"
      ],
      "text/plain": [
       "          age  sex    height    weight  smoking_history  \\\n",
       "0    0.485152    1  0.003233  0.001623              0.0   \n",
       "1   -0.308119    0 -1.497964 -0.362476              0.0   \n",
       "2   -0.491182    0  0.003233  0.001623              0.0   \n",
       "3    1.705571    1  1.989114 -0.766671              0.0   \n",
       "4    1.522508    1  0.003233  0.001623              1.0   \n",
       "..        ...  ...       ...       ...              ...   \n",
       "501  0.119027    0 -0.360602 -0.171303              0.0   \n",
       "502 -0.613224    0 -0.235617 -0.417097              0.0   \n",
       "503  0.485152    0  0.003233 -1.378426              0.0   \n",
       "504  0.912299    1 -1.110511 -0.832216              0.0   \n",
       "505  0.485152    1  0.003233  0.079954              0.0   \n",
       "\n",
       "     previous_er_visit_within_14_days  admission_disposition  Hypertension  \\\n",
       "0                                   0                      1             1   \n",
       "1                                   0                      1             1   \n",
       "2                                   0                      1             1   \n",
       "3                                   0                      1             1   \n",
       "4                                   0                      1             1   \n",
       "..                                ...                    ...           ...   \n",
       "501                                 1                      1             1   \n",
       "502                                 0                      1             0   \n",
       "503                                 1                      1             0   \n",
       "504                                 1                      1             1   \n",
       "505                                 1                      1             1   \n",
       "\n",
       "     Chronic cardiac disease (not hypertension)  Diabetes  ...  \\\n",
       "0                                             0         1  ...   \n",
       "1                                             0         0  ...   \n",
       "2                                             0         0  ...   \n",
       "3                                             0         0  ...   \n",
       "4                                             1         1  ...   \n",
       "..                                          ...       ...  ...   \n",
       "501                                           0         1  ...   \n",
       "502                                           0         0  ...   \n",
       "503                                           0         0  ...   \n",
       "504                                           0         1  ...   \n",
       "505                                           0         0  ...   \n",
       "\n",
       "     Immunity Advance  Vesicare  Zaxine  Quinine Sulfate  Desvenlafaxine  \\\n",
       "0                 0.0       0.0     0.0              0.0             0.0   \n",
       "1                 0.0       0.0     0.0              0.0             0.0   \n",
       "2                 0.0       0.0     0.0              0.0             0.0   \n",
       "3                 0.0       0.0     0.0              0.0             0.0   \n",
       "4                 0.0       0.0     0.0              0.0             0.0   \n",
       "..                ...       ...     ...              ...             ...   \n",
       "501               0.0       0.0     0.0              0.0             0.0   \n",
       "502               0.0       0.0     0.0              0.0             0.0   \n",
       "503               0.0       0.0     0.0              0.0             0.0   \n",
       "504               0.0       0.0     0.0              0.0             0.0   \n",
       "505               0.0       0.0     0.0              0.0             0.0   \n",
       "\n",
       "     Glucosamine  Turmeric  Cogentin Tab  Elavil  hospital_length_of_stay  \n",
       "0            0.0       0.0           0.0     0.0                       21  \n",
       "1            0.0       0.0           0.0     0.0                        5  \n",
       "2            0.0       0.0           0.0     0.0                        7  \n",
       "3            0.0       0.0           0.0     0.0                        9  \n",
       "4            0.0       0.0           0.0     0.0                        9  \n",
       "..           ...       ...           ...     ...                      ...  \n",
       "501          1.0       0.0           0.0     0.0                        2  \n",
       "502          0.0       0.0           1.0     0.0                       13  \n",
       "503          0.0       0.0           0.0     1.0                       19  \n",
       "504          0.0       0.0           0.0     0.0                        9  \n",
       "505          1.0       0.0           0.0     0.0                        7  \n",
       "\n",
       "[506 rows x 746 columns]"
      ]
     },
     "execution_count": 167,
     "metadata": {},
     "output_type": "execute_result"
    }
   ],
   "source": [
    "df"
   ]
  },
  {
   "cell_type": "markdown",
   "id": "e92ec200",
   "metadata": {},
   "source": [
    "### Splitting X and y"
   ]
  },
  {
   "cell_type": "code",
   "execution_count": 168,
   "id": "9d4fd3ce",
   "metadata": {},
   "outputs": [
    {
     "name": "stdout",
     "output_type": "stream",
     "text": [
      "X_train shape: (354, 745)\n",
      "X_test shape: (152, 745)\n",
      "y_train shape: (354,)\n",
      "y_test shape: (152,)\n"
     ]
    }
   ],
   "source": [
    "from sklearn.model_selection import train_test_split\n",
    "X = df.drop(\"hospital_length_of_stay\",axis =1)\n",
    "y = df['hospital_length_of_stay']\n",
    "\n",
    "X_train, X_test, y_train, y_test = train_test_split(X, y, test_size=0.3, random_state=42)\n",
    "print(\"X_train shape:\", X_train.shape)\n",
    "print(\"X_test shape:\", X_test.shape)\n",
    "print(\"y_train shape:\", y_train.shape)\n",
    "print(\"y_test shape:\", y_test.shape)"
   ]
  },
  {
   "cell_type": "markdown",
   "id": "e50e950b",
   "metadata": {},
   "source": [
    "### Implenting lasso regression to the original dataset"
   ]
  },
  {
   "cell_type": "code",
   "execution_count": 169,
   "id": "ffba83e8",
   "metadata": {},
   "outputs": [
    {
     "name": "stdout",
     "output_type": "stream",
     "text": [
      "Mean Squared Error: 176.3511644220652\n"
     ]
    }
   ],
   "source": [
    "from sklearn.linear_model import Lasso\n",
    "\n",
    "# Apply Lasso Regression\n",
    "lasso = Lasso(alpha=0.1)  # Specify the regularization parameter alpha\n",
    "lasso.fit(X_train, y_train)\n",
    "\n",
    "# Make predictions\n",
    "y_pred = lasso.predict(X_test)\n",
    "\n",
    "# Evaluate the model\n",
    "mse = mean_squared_error(y_test, y_pred)\n",
    "print(\"Mean Squared Error:\", mse)"
   ]
  },
  {
   "cell_type": "markdown",
   "id": "437e96ad",
   "metadata": {},
   "source": [
    "### Applying PCA to reduce to a certain dimension capturing 80 percent variance"
   ]
  },
  {
   "cell_type": "code",
   "execution_count": 170,
   "id": "5ad0501c",
   "metadata": {},
   "outputs": [
    {
     "name": "stdout",
     "output_type": "stream",
     "text": [
      "[[-0.46285071 -0.80303111  0.24250365 ... -0.13712022 -0.00572361\n",
      "   0.3373084 ]\n",
      " [-0.9975716   1.1140011   0.58913239 ... -0.00206211 -0.14404004\n",
      "  -0.04527687]\n",
      " [ 0.22524502  0.47810389 -0.08194292 ... -0.03423155  0.00237681\n",
      "   0.03962781]\n",
      " ...\n",
      " [-1.03783024  0.30983398 -1.04257951 ...  0.14820322  0.20558615\n",
      "  -0.35055458]\n",
      " [-1.63111708  0.02813337  0.0998959  ...  0.07954721 -0.11065731\n",
      "  -0.16348336]\n",
      " [-0.18036953 -0.36818808  0.12110351 ...  0.08684669 -0.44488044\n",
      "   0.21553678]]\n",
      "(506, 80)\n"
     ]
    }
   ],
   "source": [
    "pca = PCA(n_components = 80)\n",
    "# Transform data\n",
    "pca_trans = pca.fit_transform(X)     \n",
    "print(pca_trans)                                                  \n",
    "print(pca_trans.shape) "
   ]
  },
  {
   "cell_type": "code",
   "execution_count": 171,
   "id": "d1e7dba9",
   "metadata": {},
   "outputs": [
    {
     "name": "stdout",
     "output_type": "stream",
     "text": [
      "Total variance captured: 0.8104598796559431\n"
     ]
    },
    {
     "data": {
      "image/png": "[encoded data removed]",
      "text/plain": [
       "<Figure size 640x480 with 1 Axes>"
      ]
     },
     "metadata": {},
     "output_type": "display_data"
    }
   ],
   "source": [
    "# Get the explained variance ratios for each principal component\n",
    "explained_variance_ratios = pca.explained_variance_ratio_\n",
    "\n",
    "# Print the explained variance ratios for each component\n",
    "# print(\"Explained Variance Ratios for each component:\")\n",
    "# for i, var_ratio in enumerate(explained_variance_ratios):\n",
    "#     print(f\"Component {i+1}: {var_ratio}\")\n",
    "print(\"Total variance captured:\",sum(explained_variance_ratios))\n",
    "# Plotting the explained variance ratios\n",
    "plt.bar(range(1, len(explained_variance_ratios) + 1), explained_variance_ratios, align='center')\n",
    "plt.xticks(range(1, len(explained_variance_ratios) + 1))\n",
    "plt.xlabel('Principal Component')\n",
    "plt.ylabel('Explained Variance Ratio')\n",
    "plt.title('Explained Variance Ratio for Each Principal Component')\n",
    "plt.show()"
   ]
  },
  {
   "cell_type": "markdown",
   "id": "cf52825d",
   "metadata": {},
   "source": [
    "#### Applying lasso to the 80 percent variance captured pca components"
   ]
  },
  {
   "cell_type": "code",
   "execution_count": 172,
   "id": "84b5591c",
   "metadata": {},
   "outputs": [
    {
     "name": "stdout",
     "output_type": "stream",
     "text": [
      "Mean Squared Error for training: 113.43747827442814\n",
      "Mean Squared Error for testing: 176.7316408907595\n"
     ]
    }
   ],
   "source": [
    "# Apply Lasso Regression to the 80 variance captured pca components\n",
    "X_train, X_test, y_train, y_test = train_test_split(pca_trans, y, test_size=0.3, random_state=42)\n",
    "\n",
    "lasso = Lasso(alpha=0.1)  # Specify the regularization parameter alpha\n",
    "lasso.fit(X_train, y_train)\n",
    "\n",
    "# Make predictions\n",
    "y_pred_train = lasso.predict(X_train)\n",
    "y_pred_test = lasso.predict(X_test)\n",
    "\n",
    "# Evaluate the model\n",
    "mse_train = mean_squared_error(y_train, y_pred_train)\n",
    "mse_test = mean_squared_error(y_test, y_pred_test)\n",
    "print(\"Mean Squared Error for training:\", mse_train)\n",
    "print(\"Mean Squared Error for testing:\", mse_test)"
   ]
  },
  {
   "cell_type": "code",
   "execution_count": 173,
   "id": "cb5e292c",
   "metadata": {},
   "outputs": [
    {
     "data": {
      "application/vnd.plotly.v1+json": {
       "config": {
        "plotlyServerURL": "https://plot.ly"
       },
       "data": [
        {
         "hovertemplate": "y_train=%{x}<br>y_pred_train=%{y}<extra></extra>",
         "legendgroup": "",
         "marker": {
          "color": "#636efa",
          "symbol": "circle"
         },
         "mode": "markers",
         "name": "",
         "orientation": "v",
         "showlegend": false,
         "type": "scatter",
         "x": [
          32,
          1,
          7,
          5,
          36,
          5,
          9,
          6,
          3,
          2,
          30,
          11,
          4,
          5,
          18,
          10,
          6,
          10,
          3,
          2,
          34,
          12,
          4,
          5,
          11,
          10,
          23,
          5,
          19,
          4,
          15,
          10,
          35,
          3,
          8,
          4,
          13,
          2,
          18,
          6,
          2,
          28,
          19,
          8,
          10,
          8,
          7,
          7,
          9,
          13,
          4,
          5,
          5,
          53,
          13,
          14,
          9,
          3,
          17,
          33,
          4,
          5,
          33,
          6,
          41,
          7,
          10,
          6,
          34,
          10,
          6,
          7,
          3,
          9,
          10,
          16,
          15,
          3,
          2,
          3,
          23,
          9,
          4,
          10,
          4,
          33,
          19,
          7,
          4,
          10,
          13,
          15,
          13,
          21,
          4,
          1,
          9,
          34,
          20,
          7,
          12,
          4,
          6,
          4,
          3,
          14,
          4,
          2,
          4,
          2,
          29,
          10,
          21,
          16,
          1,
          6,
          8,
          5,
          17,
          8,
          3,
          7,
          15,
          8,
          37,
          36,
          8,
          8,
          11,
          6,
          44,
          8,
          17,
          9,
          2,
          5,
          5,
          2,
          16,
          11,
          6,
          8,
          10,
          12,
          3,
          3,
          2,
          49,
          10,
          8,
          7,
          7,
          12,
          9,
          10,
          3,
          3,
          3,
          6,
          4,
          20,
          8,
          10,
          10,
          19,
          5,
          7,
          5,
          11,
          6,
          3,
          19,
          1,
          19,
          10,
          8,
          42,
          17,
          16,
          12,
          30,
          12,
          33,
          17,
          13,
          59,
          3,
          8,
          12,
          3,
          11,
          6,
          12,
          6,
          3,
          3,
          10,
          3,
          7,
          8,
          8,
          5,
          4,
          9,
          81,
          14,
          18,
          10,
          32,
          6,
          8,
          33,
          25,
          16,
          9,
          3,
          2,
          3,
          29,
          6,
          10,
          10,
          4,
          10,
          5,
          5,
          4,
          25,
          5,
          3,
          3,
          3,
          8,
          14,
          11,
          7,
          3,
          12,
          60,
          3,
          7,
          13,
          26,
          6,
          1,
          8,
          18,
          13,
          9,
          4,
          6,
          24,
          9,
          3,
          6,
          2,
          5,
          6,
          26,
          39,
          10,
          11,
          8,
          13,
          7,
          7,
          8,
          25,
          5,
          5,
          2,
          12,
          5,
          39,
          9,
          18,
          14,
          22,
          6,
          3,
          5,
          43,
          8,
          2,
          4,
          3,
          8,
          6,
          14,
          10,
          13,
          34,
          20,
          39,
          10,
          2,
          12,
          21,
          11,
          11,
          22,
          7,
          7,
          5,
          3,
          6,
          6,
          9,
          4,
          9,
          13,
          13,
          4,
          7,
          5,
          12,
          38,
          2,
          42,
          12,
          8,
          7,
          3,
          57,
          16,
          8,
          9,
          7,
          42,
          44,
          2,
          7,
          9,
          1,
          17,
          11,
          22,
          6,
          12,
          8,
          6,
          10,
          6,
          6,
          13,
          7,
          4,
          9,
          3,
          7,
          7,
          27,
          8,
          22
         ],
         "xaxis": "x",
         "y": [
          15.199286137780595,
          11.806208869066362,
          12.50473606615849,
          15.154952756863239,
          13.620781257470938,
          10.664244349245514,
          6.275653420725516,
          14.117384539548969,
          11.657748809636972,
          11.187034899397576,
          12.08288009976295,
          11.769606009586589,
          14.072682445501657,
          8.71735834387874,
          12.600308805703746,
          11.628908349152681,
          11.422943714297256,
          17.121579756516645,
          5.701797945655835,
          8.040269367859711,
          11.00713678872151,
          11.451044956803033,
          11.368479345613,
          9.292009449569818,
          7.09875696379029,
          12.807232104763502,
          11.503974852441692,
          11.219132032791576,
          13.18863694051405,
          7.302588494262652,
          15.793807526984336,
          10.761765521154036,
          11.022311689438427,
          7.804093043557023,
          12.016745705381522,
          12.292292370592657,
          15.182320371842238,
          9.113036813425841,
          13.715934824720867,
          12.652256930829669,
          10.968397324461817,
          18.045189413722575,
          12.335771716171049,
          11.318878842533694,
          11.796981198040216,
          7.681226044646783,
          8.575794694876777,
          11.157915591440256,
          14.681001278856064,
          11.51156987661631,
          10.9241108733188,
          10.468044335089026,
          12.639966135791004,
          17.984462233844603,
          14.753616657822134,
          14.959900253906223,
          13.75315746536711,
          6.978920563502598,
          8.752838332968743,
          17.360900178874747,
          11.858604976783601,
          9.996851910222468,
          11.780084609049933,
          18.758473840432263,
          16.207586432842067,
          7.009615753977989,
          11.940192783603353,
          15.242654364102187,
          18.486616601879053,
          8.90594128916321,
          11.452549671877073,
          15.054941693946324,
          16.3611195752248,
          9.631645120517652,
          10.873725241510542,
          17.301298340602585,
          11.585896097354032,
          10.146786342611515,
          9.066686082586523,
          14.362420237797712,
          12.780977830212787,
          9.681552827542092,
          12.750993387383375,
          12.383906589455421,
          10.744709215327168,
          11.896647727504046,
          15.018394181664954,
          10.843868102152712,
          9.348188129222407,
          9.320883367936945,
          12.32528926075515,
          14.687655285481613,
          12.299554772637087,
          12.917358959003527,
          9.686352431721858,
          4.182811102100278,
          10.143528568658887,
          13.774954390186505,
          15.19471456711716,
          9.110354868085672,
          12.618539383120938,
          9.458961227497698,
          11.430299632068728,
          12.01854570066266,
          10.595955108992673,
          13.14719855978306,
          10.844921937903543,
          12.122429190664876,
          10.316130398869296,
          15.41240121944127,
          8.830549394036497,
          13.165426272821264,
          10.097700906605729,
          10.364957398752786,
          10.919757567953647,
          4.6825297116630935,
          14.18632020241163,
          10.897359906587388,
          9.992526524563697,
          12.479847556539543,
          8.050203367757081,
          11.045821524829343,
          16.162819711561408,
          10.544571689863252,
          12.32918162957896,
          17.10053187074121,
          12.994934434228362,
          9.93451170575807,
          13.281297894307329,
          14.567535393858567,
          13.902158062904977,
          10.822205599471634,
          10.752157873650393,
          16.657496091351838,
          12.284422639038326,
          12.7533564163953,
          9.940589622100214,
          13.303471256693125,
          12.152753852372916,
          10.009193090441599,
          5.212380734107272,
          12.591444205040421,
          15.296799099788393,
          12.492146068107676,
          5.456447656019675,
          9.463642780530872,
          11.20513619798855,
          17.288672333297896,
          11.577359614397716,
          14.814109288024907,
          10.63323404964348,
          10.639341742955802,
          15.738012496889732,
          10.928281026993613,
          7.756441422364442,
          10.828746907160129,
          12.450999813851627,
          9.810089896797084,
          13.400696717921473,
          13.19328855119036,
          11.523510105070299,
          11.420605531587835,
          10.157909898174065,
          10.762109056726727,
          9.341181506529512,
          9.612794235180555,
          10.751071379787696,
          12.142194078131318,
          6.868888750427551,
          14.650986068905958,
          12.202940316582335,
          11.888108384014235,
          11.8301548094814,
          12.787813520383418,
          9.285062303692984,
          11.733375894397511,
          14.104437226095438,
          11.904349602546858,
          9.799033516247775,
          12.783177911916916,
          10.275260426912249,
          14.064525584330816,
          11.812587871522055,
          12.562149669549717,
          17.349223851712324,
          15.101293278238723,
          10.82364022929787,
          13.317505791170387,
          11.759361521791313,
          13.098516022716602,
          12.17354990994073,
          7.976266985660589,
          9.977827643426673,
          10.868757862268733,
          10.883684284700553,
          12.017031238487325,
          8.942569006677594,
          12.427870765658103,
          9.456130235939062,
          11.266778884853702,
          13.406733056672731,
          12.36166405370757,
          12.661257605720605,
          13.16117344480355,
          16.41227425853656,
          10.585572748541281,
          13.921619783723083,
          10.882692573473161,
          18.36734693618949,
          9.975985712841611,
          11.759293710830649,
          15.213224017931116,
          6.216103027380209,
          9.937805158244212,
          11.531474038453064,
          10.003168583316857,
          13.356791820997408,
          9.77828776497217,
          14.465725545759222,
          11.130690971115383,
          14.178420842164758,
          13.388247024586972,
          12.11777629778406,
          16.455816847843725,
          11.305962148200035,
          11.940304479033426,
          10.73567128832879,
          11.335130950968509,
          16.715873688031152,
          9.031774414421715,
          11.854173288494207,
          4.205517679537273,
          10.843000429463157,
          8.004546894937537,
          8.978670718578734,
          16.748684554573686,
          10.14731726690171,
          11.772684394414268,
          12.766762811241536,
          11.060500544572132,
          12.355213419642105,
          13.514317893960452,
          14.82703832923458,
          11.288438545822368,
          12.160590458382103,
          11.858437752297034,
          12.368439784686924,
          14.342072571754265,
          12.323791284604953,
          13.303263003497186,
          15.009557120593497,
          15.576289504517975,
          14.495975949614225,
          10.113563940847845,
          15.09922817535505,
          12.136389902544318,
          14.86632160001122,
          12.011373853534934,
          11.187420882003595,
          16.168828587618503,
          11.62520839259836,
          11.304395367990832,
          10.75619145080363,
          11.459751050240516,
          12.688342518570124,
          4.133871540588109,
          4.150618234362066,
          13.853715652261581,
          13.31332157773047,
          6.211586091102169,
          11.525242244741987,
          12.983981394270756,
          13.68563178121973,
          10.127353034751305,
          9.881184028551889,
          10.580045394565563,
          10.933856490489905,
          12.577590497086703,
          12.67430258625118,
          12.156517038656297,
          12.384735348882613,
          18.01669048553719,
          14.80914022585482,
          14.077213018597023,
          12.705699744889365,
          10.547040088855168,
          8.184490589667387,
          12.935212235818039,
          11.395247491762031,
          11.434939044941048,
          12.034264993299278,
          14.417282075597683,
          15.349296893085253,
          13.111957860320297,
          15.328853367055768,
          10.78177320829872,
          13.561282508025442,
          12.388178522228491,
          12.329546602872405,
          9.825322792454605,
          15.794483168094356,
          14.478921570027259,
          11.488708434939333,
          11.413249643864457,
          7.964381564096969,
          11.294488250393933,
          9.605831865471153,
          10.410053343461543,
          10.0749278831951,
          11.898609750796162,
          11.934086025031581,
          13.348538892273627,
          10.840723454136835,
          13.051084070830926,
          12.388095339399307,
          12.551402407124534,
          15.847603332449907,
          14.056866340355423,
          14.047728040689119,
          10.414354609295783,
          10.878600289556669,
          9.09686723045809,
          13.758195117813631,
          14.008672485935755,
          14.551496648108925,
          6.425240587693306,
          11.164295014017737,
          13.224278251468528,
          15.278429575200303,
          14.710801899804054,
          11.26525273878207,
          11.234019515388281,
          8.656111443521059,
          11.622595766026462,
          12.508587276155623,
          18.27600595743546,
          13.71061968345345,
          12.64234624680628,
          12.485545594741163,
          12.736516581020496,
          10.940278658292009,
          13.987656541289866,
          10.065958317412461,
          8.127359433613043,
          14.41070172588655,
          13.030790174268601,
          11.037249491803543,
          14.605680354987854,
          12.009471576731066,
          12.146844765629995,
          12.164924428684527,
          15.340901351600472,
          9.34970151395528,
          15.322688869100677
         ],
         "yaxis": "y"
        }
       ],
       "layout": {
        "legend": {
         "tracegroupgap": 0
        },
        "template": {
         "data": {
          "bar": [
           {
            "error_x": {
             "color": "#2a3f5f"
            },
            "error_y": {
             "color": "#2a3f5f"
            },
            "marker": {
             "line": {
              "color": "#E5ECF6",
              "width": 0.5
             },
             "pattern": {
              "fillmode": "overlay",
              "size": 10,
              "solidity": 0.2
             }
            },
            "type": "bar"
           }
          ],
          "barpolar": [
           {
            "marker": {
             "line": {
              "color": "#E5ECF6",
              "width": 0.5
             },
             "pattern": {
              "fillmode": "overlay",
              "size": 10,
              "solidity": 0.2
             }
            },
            "type": "barpolar"
           }
          ],
          "carpet": [
           {
            "aaxis": {
             "endlinecolor": "#2a3f5f",
             "gridcolor": "white",
             "linecolor": "white",
             "minorgridcolor": "white",
             "startlinecolor": "#2a3f5f"
            },
            "baxis": {
             "endlinecolor": "#2a3f5f",
             "gridcolor": "white",
             "linecolor": "white",
             "minorgridcolor": "white",
             "startlinecolor": "#2a3f5f"
            },
            "type": "carpet"
           }
          ],
          "choropleth": [
           {
            "colorbar": {
             "outlinewidth": 0,
             "ticks": ""
            },
            "type": "choropleth"
           }
          ],
          "contour": [
           {
            "colorbar": {
             "outlinewidth": 0,
             "ticks": ""
            },
            "colorscale": [
             [
              0,
              "#0d0887"
             ],
             [
              0.1111111111111111,
              "#46039f"
             ],
             [
              0.2222222222222222,
              "#7201a8"
             ],
             [
              0.3333333333333333,
              "#9c179e"
             ],
             [
              0.4444444444444444,
              "#bd3786"
             ],
             [
              0.5555555555555556,
              "#d8576b"
             ],
             [
              0.6666666666666666,
              "#ed7953"
             ],
             [
              0.7777777777777778,
              "#fb9f3a"
             ],
             [
              0.8888888888888888,
              "#fdca26"
             ],
             [
              1,
              "#f0f921"
             ]
            ],
            "type": "contour"
           }
          ],
          "contourcarpet": [
           {
            "colorbar": {
             "outlinewidth": 0,
             "ticks": ""
            },
            "type": "contourcarpet"
           }
          ],
          "heatmap": [
           {
            "colorbar": {
             "outlinewidth": 0,
             "ticks": ""
            },
            "colorscale": [
             [
              0,
              "#0d0887"
             ],
             [
              0.1111111111111111,
              "#46039f"
             ],
             [
              0.2222222222222222,
              "#7201a8"
             ],
             [
              0.3333333333333333,
              "#9c179e"
             ],
             [
              0.4444444444444444,
              "#bd3786"
             ],
             [
              0.5555555555555556,
              "#d8576b"
             ],
             [
              0.6666666666666666,
              "#ed7953"
             ],
             [
              0.7777777777777778,
              "#fb9f3a"
             ],
             [
              0.8888888888888888,
              "#fdca26"
             ],
             [
              1,
              "#f0f921"
             ]
            ],
            "type": "heatmap"
           }
          ],
          "heatmapgl": [
           {
            "colorbar": {
             "outlinewidth": 0,
             "ticks": ""
            },
            "colorscale": [
             [
              0,
              "#0d0887"
             ],
             [
              0.1111111111111111,
              "#46039f"
             ],
             [
              0.2222222222222222,
              "#7201a8"
             ],
             [
              0.3333333333333333,
              "#9c179e"
             ],
             [
              0.4444444444444444,
              "#bd3786"
             ],
             [
              0.5555555555555556,
              "#d8576b"
             ],
             [
              0.6666666666666666,
              "#ed7953"
             ],
             [
              0.7777777777777778,
              "#fb9f3a"
             ],
             [
              0.8888888888888888,
              "#fdca26"
             ],
             [
              1,
              "#f0f921"
             ]
            ],
            "type": "heatmapgl"
           }
          ],
          "histogram": [
           {
            "marker": {
             "pattern": {
              "fillmode": "overlay",
              "size": 10,
              "solidity": 0.2
             }
            },
            "type": "histogram"
           }
          ],
          "histogram2d": [
           {
            "colorbar": {
             "outlinewidth": 0,
             "ticks": ""
            },
            "colorscale": [
             [
              0,
              "#0d0887"
             ],
             [
              0.1111111111111111,
              "#46039f"
             ],
             [
              0.2222222222222222,
              "#7201a8"
             ],
             [
              0.3333333333333333,
              "#9c179e"
             ],
             [
              0.4444444444444444,
              "#bd3786"
             ],
             [
              0.5555555555555556,
              "#d8576b"
             ],
             [
              0.6666666666666666,
              "#ed7953"
             ],
             [
              0.7777777777777778,
              "#fb9f3a"
             ],
             [
              0.8888888888888888,
              "#fdca26"
             ],
             [
              1,
              "#f0f921"
             ]
            ],
            "type": "histogram2d"
           }
          ],
          "histogram2dcontour": [
           {
            "colorbar": {
             "outlinewidth": 0,
             "ticks": ""
            },
            "colorscale": [
             [
              0,
              "#0d0887"
             ],
             [
              0.1111111111111111,
              "#46039f"
             ],
             [
              0.2222222222222222,
              "#7201a8"
             ],
             [
              0.3333333333333333,
              "#9c179e"
             ],
             [
              0.4444444444444444,
              "#bd3786"
             ],
             [
              0.5555555555555556,
              "#d8576b"
             ],
             [
              0.6666666666666666,
              "#ed7953"
             ],
             [
              0.7777777777777778,
              "#fb9f3a"
             ],
             [
              0.8888888888888888,
              "#fdca26"
             ],
             [
              1,
              "#f0f921"
             ]
            ],
            "type": "histogram2dcontour"
           }
          ],
          "mesh3d": [
           {
            "colorbar": {
             "outlinewidth": 0,
             "ticks": ""
            },
            "type": "mesh3d"
           }
          ],
          "parcoords": [
           {
            "line": {
             "colorbar": {
              "outlinewidth": 0,
              "ticks": ""
             }
            },
            "type": "parcoords"
           }
          ],
          "pie": [
           {
            "automargin": true,
            "type": "pie"
           }
          ],
          "scatter": [
           {
            "fillpattern": {
             "fillmode": "overlay",
             "size": 10,
             "solidity": 0.2
            },
            "type": "scatter"
           }
          ],
          "scatter3d": [
           {
            "line": {
             "colorbar": {
              "outlinewidth": 0,
              "ticks": ""
             }
            },
            "marker": {
             "colorbar": {
              "outlinewidth": 0,
              "ticks": ""
             }
            },
            "type": "scatter3d"
           }
          ],
          "scattercarpet": [
           {
            "marker": {
             "colorbar": {
              "outlinewidth": 0,
              "ticks": ""
             }
            },
            "type": "scattercarpet"
           }
          ],
          "scattergeo": [
           {
            "marker": {
             "colorbar": {
              "outlinewidth": 0,
              "ticks": ""
             }
            },
            "type": "scattergeo"
           }
          ],
          "scattergl": [
           {
            "marker": {
             "colorbar": {
              "outlinewidth": 0,
              "ticks": ""
             }
            },
            "type": "scattergl"
           }
          ],
          "scattermapbox": [
           {
            "marker": {
             "colorbar": {
              "outlinewidth": 0,
              "ticks": ""
             }
            },
            "type": "scattermapbox"
           }
          ],
          "scatterpolar": [
           {
            "marker": {
             "colorbar": {
              "outlinewidth": 0,
              "ticks": ""
             }
            },
            "type": "scatterpolar"
           }
          ],
          "scatterpolargl": [
           {
            "marker": {
             "colorbar": {
              "outlinewidth": 0,
              "ticks": ""
             }
            },
            "type": "scatterpolargl"
           }
          ],
          "scatterternary": [
           {
            "marker": {
             "colorbar": {
              "outlinewidth": 0,
              "ticks": ""
             }
            },
            "type": "scatterternary"
           }
          ],
          "surface": [
           {
            "colorbar": {
             "outlinewidth": 0,
             "ticks": ""
            },
            "colorscale": [
             [
              0,
              "#0d0887"
             ],
             [
              0.1111111111111111,
              "#46039f"
             ],
             [
              0.2222222222222222,
              "#7201a8"
             ],
             [
              0.3333333333333333,
              "#9c179e"
             ],
             [
              0.4444444444444444,
              "#bd3786"
             ],
             [
              0.5555555555555556,
              "#d8576b"
             ],
             [
              0.6666666666666666,
              "#ed7953"
             ],
             [
              0.7777777777777778,
              "#fb9f3a"
             ],
             [
              0.8888888888888888,
              "#fdca26"
             ],
             [
              1,
              "#f0f921"
             ]
            ],
            "type": "surface"
           }
          ],
          "table": [
           {
            "cells": {
             "fill": {
              "color": "#EBF0F8"
             },
             "line": {
              "color": "white"
             }
            },
            "header": {
             "fill": {
              "color": "#C8D4E3"
             },
             "line": {
              "color": "white"
             }
            },
            "type": "table"
           }
          ]
         },
         "layout": {
          "annotationdefaults": {
           "arrowcolor": "#2a3f5f",
           "arrowhead": 0,
           "arrowwidth": 1
          },
          "autotypenumbers": "strict",
          "coloraxis": {
           "colorbar": {
            "outlinewidth": 0,
            "ticks": ""
           }
          },
          "colorscale": {
           "diverging": [
            [
             0,
             "#8e0152"
            ],
            [
             0.1,
             "#c51b7d"
            ],
            [
             0.2,
             "#de77ae"
            ],
            [
             0.3,
             "#f1b6da"
            ],
            [
             0.4,
             "#fde0ef"
            ],
            [
             0.5,
             "#f7f7f7"
            ],
            [
             0.6,
             "#e6f5d0"
            ],
            [
             0.7,
             "#b8e186"
            ],
            [
             0.8,
             "#7fbc41"
            ],
            [
             0.9,
             "#4d9221"
            ],
            [
             1,
             "#276419"
            ]
           ],
           "sequential": [
            [
             0,
             "#0d0887"
            ],
            [
             0.1111111111111111,
             "#46039f"
            ],
            [
             0.2222222222222222,
             "#7201a8"
            ],
            [
             0.3333333333333333,
             "#9c179e"
            ],
            [
             0.4444444444444444,
             "#bd3786"
            ],
            [
             0.5555555555555556,
             "#d8576b"
            ],
            [
             0.6666666666666666,
             "#ed7953"
            ],
            [
             0.7777777777777778,
             "#fb9f3a"
            ],
            [
             0.8888888888888888,
             "#fdca26"
            ],
            [
             1,
             "#f0f921"
            ]
           ],
           "sequentialminus": [
            [
             0,
             "#0d0887"
            ],
            [
             0.1111111111111111,
             "#46039f"
            ],
            [
             0.2222222222222222,
             "#7201a8"
            ],
            [
             0.3333333333333333,
             "#9c179e"
            ],
            [
             0.4444444444444444,
             "#bd3786"
            ],
            [
             0.5555555555555556,
             "#d8576b"
            ],
            [
             0.6666666666666666,
             "#ed7953"
            ],
            [
             0.7777777777777778,
             "#fb9f3a"
            ],
            [
             0.8888888888888888,
             "#fdca26"
            ],
            [
             1,
             "#f0f921"
            ]
           ]
          },
          "colorway": [
           "#636efa",
           "#EF553B",
           "#00cc96",
           "#ab63fa",
           "#FFA15A",
           "#19d3f3",
           "#FF6692",
           "#B6E880",
           "#FF97FF",
           "#FECB52"
          ],
          "font": {
           "color": "#2a3f5f"
          },
          "geo": {
           "bgcolor": "white",
           "lakecolor": "white",
           "landcolor": "#E5ECF6",
           "showlakes": true,
           "showland": true,
           "subunitcolor": "white"
          },
          "hoverlabel": {
           "align": "left"
          },
          "hovermode": "closest",
          "mapbox": {
           "style": "light"
          },
          "paper_bgcolor": "white",
          "plot_bgcolor": "#E5ECF6",
          "polar": {
           "angularaxis": {
            "gridcolor": "white",
            "linecolor": "white",
            "ticks": ""
           },
           "bgcolor": "#E5ECF6",
           "radialaxis": {
            "gridcolor": "white",
            "linecolor": "white",
            "ticks": ""
           }
          },
          "scene": {
           "xaxis": {
            "backgroundcolor": "#E5ECF6",
            "gridcolor": "white",
            "gridwidth": 2,
            "linecolor": "white",
            "showbackground": true,
            "ticks": "",
            "zerolinecolor": "white"
           },
           "yaxis": {
            "backgroundcolor": "#E5ECF6",
            "gridcolor": "white",
            "gridwidth": 2,
            "linecolor": "white",
            "showbackground": true,
            "ticks": "",
            "zerolinecolor": "white"
           },
           "zaxis": {
            "backgroundcolor": "#E5ECF6",
            "gridcolor": "white",
            "gridwidth": 2,
            "linecolor": "white",
            "showbackground": true,
            "ticks": "",
            "zerolinecolor": "white"
           }
          },
          "shapedefaults": {
           "line": {
            "color": "#2a3f5f"
           }
          },
          "ternary": {
           "aaxis": {
            "gridcolor": "white",
            "linecolor": "white",
            "ticks": ""
           },
           "baxis": {
            "gridcolor": "white",
            "linecolor": "white",
            "ticks": ""
           },
           "bgcolor": "#E5ECF6",
           "caxis": {
            "gridcolor": "white",
            "linecolor": "white",
            "ticks": ""
           }
          },
          "title": {
           "x": 0.05
          },
          "xaxis": {
           "automargin": true,
           "gridcolor": "white",
           "linecolor": "white",
           "ticks": "",
           "title": {
            "standoff": 15
           },
           "zerolinecolor": "white",
           "zerolinewidth": 2
          },
          "yaxis": {
           "automargin": true,
           "gridcolor": "white",
           "linecolor": "white",
           "ticks": "",
           "title": {
            "standoff": 15
           },
           "zerolinecolor": "white",
           "zerolinewidth": 2
          }
         }
        },
        "title": {
         "text": "y_train vs y_pred_train"
        },
        "xaxis": {
         "anchor": "y",
         "domain": [
          0,
          1
         ],
         "title": {
          "text": "y_train"
         }
        },
        "yaxis": {
         "anchor": "x",
         "domain": [
          0,
          1
         ],
         "title": {
          "text": "y_pred_train"
         }
        }
       }
      },
      "text/html": [
       "<div>                            <div id=\"a16cd25d-3ea5-4469-933d-64134c62165b\" class=\"plotly-graph-div\" style=\"height:525px; width:100%;\"></div>            <script type=\"text/javascript\">                require([\"plotly\"], function(Plotly) {                    window.PLOTLYENV=window.PLOTLYENV || {};                                    if (document.getElementById(\"a16cd25d-3ea5-4469-933d-64134c62165b\")) {                    Plotly.newPlot(                        \"a16cd25d-3ea5-4469-933d-64134c62165b\",                        [{\"hovertemplate\":\"y_train=%{x}<br>y_pred_train=%{y}<extra></extra>\",\"legendgroup\":\"\",\"marker\":{\"color\":\"#636efa\",\"symbol\":\"circle\"},\"mode\":\"markers\",\"name\":\"\",\"orientation\":\"v\",\"showlegend\":false,\"x\":[32,1,7,5,36,5,9,6,3,2,30,11,4,5,18,10,6,10,3,2,34,12,4,5,11,10,23,5,19,4,15,10,35,3,8,4,13,2,18,6,2,28,19,8,10,8,7,7,9,13,4,5,5,53,13,14,9,3,17,33,4,5,33,6,41,7,10,6,34,10,6,7,3,9,10,16,15,3,2,3,23,9,4,10,4,33,19,7,4,10,13,15,13,21,4,1,9,34,20,7,12,4,6,4,3,14,4,2,4,2,29,10,21,16,1,6,8,5,17,8,3,7,15,8,37,36,8,8,11,6,44,8,17,9,2,5,5,2,16,11,6,8,10,12,3,3,2,49,10,8,7,7,12,9,10,3,3,3,6,4,20,8,10,10,19,5,7,5,11,6,3,19,1,19,10,8,42,17,16,12,30,12,33,17,13,59,3,8,12,3,11,6,12,6,3,3,10,3,7,8,8,5,4,9,81,14,18,10,32,6,8,33,25,16,9,3,2,3,29,6,10,10,4,10,5,5,4,25,5,3,3,3,8,14,11,7,3,12,60,3,7,13,26,6,1,8,18,13,9,4,6,24,9,3,6,2,5,6,26,39,10,11,8,13,7,7,8,25,5,5,2,12,5,39,9,18,14,22,6,3,5,43,8,2,4,3,8,6,14,10,13,34,20,39,10,2,12,21,11,11,22,7,7,5,3,6,6,9,4,9,13,13,4,7,5,12,38,2,42,12,8,7,3,57,16,8,9,7,42,44,2,7,9,1,17,11,22,6,12,8,6,10,6,6,13,7,4,9,3,7,7,27,8,22],\"xaxis\":\"x\",\"y\":[15.199286137780595,11.806208869066362,12.50473606615849,15.154952756863239,13.620781257470938,10.664244349245514,6.275653420725516,14.117384539548969,11.657748809636972,11.187034899397576,12.08288009976295,11.769606009586589,14.072682445501657,8.71735834387874,12.600308805703746,11.628908349152681,11.422943714297256,17.121579756516645,5.701797945655835,8.040269367859711,11.00713678872151,11.451044956803033,11.368479345613,9.292009449569818,7.09875696379029,12.807232104763502,11.503974852441692,11.219132032791576,13.18863694051405,7.302588494262652,15.793807526984336,10.761765521154036,11.022311689438427,7.804093043557023,12.016745705381522,12.292292370592657,15.182320371842238,9.113036813425841,13.715934824720867,12.652256930829669,10.968397324461817,18.045189413722575,12.335771716171049,11.318878842533694,11.796981198040216,7.681226044646783,8.575794694876777,11.157915591440256,14.681001278856064,11.51156987661631,10.9241108733188,10.468044335089026,12.639966135791004,17.984462233844603,14.753616657822134,14.959900253906223,13.75315746536711,6.978920563502598,8.752838332968743,17.360900178874747,11.858604976783601,9.996851910222468,11.780084609049933,18.758473840432263,16.207586432842067,7.009615753977989,11.940192783603353,15.242654364102187,18.486616601879053,8.90594128916321,11.452549671877073,15.054941693946324,16.3611195752248,9.631645120517652,10.873725241510542,17.301298340602585,11.585896097354032,10.146786342611515,9.066686082586523,14.362420237797712,12.780977830212787,9.681552827542092,12.750993387383375,12.383906589455421,10.744709215327168,11.896647727504046,15.018394181664954,10.843868102152712,9.348188129222407,9.320883367936945,12.32528926075515,14.687655285481613,12.299554772637087,12.917358959003527,9.686352431721858,4.182811102100278,10.143528568658887,13.774954390186505,15.19471456711716,9.110354868085672,12.618539383120938,9.458961227497698,11.430299632068728,12.01854570066266,10.595955108992673,13.14719855978306,10.844921937903543,12.122429190664876,10.316130398869296,15.41240121944127,8.830549394036497,13.165426272821264,10.097700906605729,10.364957398752786,10.919757567953647,4.6825297116630935,14.18632020241163,10.897359906587388,9.992526524563697,12.479847556539543,8.050203367757081,11.045821524829343,16.162819711561408,10.544571689863252,12.32918162957896,17.10053187074121,12.994934434228362,9.93451170575807,13.281297894307329,14.567535393858567,13.902158062904977,10.822205599471634,10.752157873650393,16.657496091351838,12.284422639038326,12.7533564163953,9.940589622100214,13.303471256693125,12.152753852372916,10.009193090441599,5.212380734107272,12.591444205040421,15.296799099788393,12.492146068107676,5.456447656019675,9.463642780530872,11.20513619798855,17.288672333297896,11.577359614397716,14.814109288024907,10.63323404964348,10.639341742955802,15.738012496889732,10.928281026993613,7.756441422364442,10.828746907160129,12.450999813851627,9.810089896797084,13.400696717921473,13.19328855119036,11.523510105070299,11.420605531587835,10.157909898174065,10.762109056726727,9.341181506529512,9.612794235180555,10.751071379787696,12.142194078131318,6.868888750427551,14.650986068905958,12.202940316582335,11.888108384014235,11.8301548094814,12.787813520383418,9.285062303692984,11.733375894397511,14.104437226095438,11.904349602546858,9.799033516247775,12.783177911916916,10.275260426912249,14.064525584330816,11.812587871522055,12.562149669549717,17.349223851712324,15.101293278238723,10.82364022929787,13.317505791170387,11.759361521791313,13.098516022716602,12.17354990994073,7.976266985660589,9.977827643426673,10.868757862268733,10.883684284700553,12.017031238487325,8.942569006677594,12.427870765658103,9.456130235939062,11.266778884853702,13.406733056672731,12.36166405370757,12.661257605720605,13.16117344480355,16.41227425853656,10.585572748541281,13.921619783723083,10.882692573473161,18.36734693618949,9.975985712841611,11.759293710830649,15.213224017931116,6.216103027380209,9.937805158244212,11.531474038453064,10.003168583316857,13.356791820997408,9.77828776497217,14.465725545759222,11.130690971115383,14.178420842164758,13.388247024586972,12.11777629778406,16.455816847843725,11.305962148200035,11.940304479033426,10.73567128832879,11.335130950968509,16.715873688031152,9.031774414421715,11.854173288494207,4.205517679537273,10.843000429463157,8.004546894937537,8.978670718578734,16.748684554573686,10.14731726690171,11.772684394414268,12.766762811241536,11.060500544572132,12.355213419642105,13.514317893960452,14.82703832923458,11.288438545822368,12.160590458382103,11.858437752297034,12.368439784686924,14.342072571754265,12.323791284604953,13.303263003497186,15.009557120593497,15.576289504517975,14.495975949614225,10.113563940847845,15.09922817535505,12.136389902544318,14.86632160001122,12.011373853534934,11.187420882003595,16.168828587618503,11.62520839259836,11.304395367990832,10.75619145080363,11.459751050240516,12.688342518570124,4.133871540588109,4.150618234362066,13.853715652261581,13.31332157773047,6.211586091102169,11.525242244741987,12.983981394270756,13.68563178121973,10.127353034751305,9.881184028551889,10.580045394565563,10.933856490489905,12.577590497086703,12.67430258625118,12.156517038656297,12.384735348882613,18.01669048553719,14.80914022585482,14.077213018597023,12.705699744889365,10.547040088855168,8.184490589667387,12.935212235818039,11.395247491762031,11.434939044941048,12.034264993299278,14.417282075597683,15.349296893085253,13.111957860320297,15.328853367055768,10.78177320829872,13.561282508025442,12.388178522228491,12.329546602872405,9.825322792454605,15.794483168094356,14.478921570027259,11.488708434939333,11.413249643864457,7.964381564096969,11.294488250393933,9.605831865471153,10.410053343461543,10.0749278831951,11.898609750796162,11.934086025031581,13.348538892273627,10.840723454136835,13.051084070830926,12.388095339399307,12.551402407124534,15.847603332449907,14.056866340355423,14.047728040689119,10.414354609295783,10.878600289556669,9.09686723045809,13.758195117813631,14.008672485935755,14.551496648108925,6.425240587693306,11.164295014017737,13.224278251468528,15.278429575200303,14.710801899804054,11.26525273878207,11.234019515388281,8.656111443521059,11.622595766026462,12.508587276155623,18.27600595743546,13.71061968345345,12.64234624680628,12.485545594741163,12.736516581020496,10.940278658292009,13.987656541289866,10.065958317412461,8.127359433613043,14.41070172588655,13.030790174268601,11.037249491803543,14.605680354987854,12.009471576731066,12.146844765629995,12.164924428684527,15.340901351600472,9.34970151395528,15.322688869100677],\"yaxis\":\"y\",\"type\":\"scatter\"}],                        {\"template\":{\"data\":{\"histogram2dcontour\":[{\"type\":\"histogram2dcontour\",\"colorbar\":{\"outlinewidth\":0,\"ticks\":\"\"},\"colorscale\":[[0.0,\"#0d0887\"],[0.1111111111111111,\"#46039f\"],[0.2222222222222222,\"#7201a8\"],[0.3333333333333333,\"#9c179e\"],[0.4444444444444444,\"#bd3786\"],[0.5555555555555556,\"#d8576b\"],[0.6666666666666666,\"#ed7953\"],[0.7777777777777778,\"#fb9f3a\"],[0.8888888888888888,\"#fdca26\"],[1.0,\"#f0f921\"]]}],\"choropleth\":[{\"type\":\"choropleth\",\"colorbar\":{\"outlinewidth\":0,\"ticks\":\"\"}}],\"histogram2d\":[{\"type\":\"histogram2d\",\"colorbar\":{\"outlinewidth\":0,\"ticks\":\"\"},\"colorscale\":[[0.0,\"#0d0887\"],[0.1111111111111111,\"#46039f\"],[0.2222222222222222,\"#7201a8\"],[0.3333333333333333,\"#9c179e\"],[0.4444444444444444,\"#bd3786\"],[0.5555555555555556,\"#d8576b\"],[0.6666666666666666,\"#ed7953\"],[0.7777777777777778,\"#fb9f3a\"],[0.8888888888888888,\"#fdca26\"],[1.0,\"#f0f921\"]]}],\"heatmap\":[{\"type\":\"heatmap\",\"colorbar\":{\"outlinewidth\":0,\"ticks\":\"\"},\"colorscale\":[[0.0,\"#0d0887\"],[0.1111111111111111,\"#46039f\"],[0.2222222222222222,\"#7201a8\"],[0.3333333333333333,\"#9c179e\"],[0.4444444444444444,\"#bd3786\"],[0.5555555555555556,\"#d8576b\"],[0.6666666666666666,\"#ed7953\"],[0.7777777777777778,\"#fb9f3a\"],[0.8888888888888888,\"#fdca26\"],[1.0,\"#f0f921\"]]}],\"heatmapgl\":[{\"type\":\"heatmapgl\",\"colorbar\":{\"outlinewidth\":0,\"ticks\":\"\"},\"colorscale\":[[0.0,\"#0d0887\"],[0.1111111111111111,\"#46039f\"],[0.2222222222222222,\"#7201a8\"],[0.3333333333333333,\"#9c179e\"],[0.4444444444444444,\"#bd3786\"],[0.5555555555555556,\"#d8576b\"],[0.6666666666666666,\"#ed7953\"],[0.7777777777777778,\"#fb9f3a\"],[0.8888888888888888,\"#fdca26\"],[1.0,\"#f0f921\"]]}],\"contourcarpet\":[{\"type\":\"contourcarpet\",\"colorbar\":{\"outlinewidth\":0,\"ticks\":\"\"}}],\"contour\":[{\"type\":\"contour\",\"colorbar\":{\"outlinewidth\":0,\"ticks\":\"\"},\"colorscale\":[[0.0,\"#0d0887\"],[0.1111111111111111,\"#46039f\"],[0.2222222222222222,\"#7201a8\"],[0.3333333333333333,\"#9c179e\"],[0.4444444444444444,\"#bd3786\"],[0.5555555555555556,\"#d8576b\"],[0.6666666666666666,\"#ed7953\"],[0.7777777777777778,\"#fb9f3a\"],[0.8888888888888888,\"#fdca26\"],[1.0,\"#f0f921\"]]}],\"surface\":[{\"type\":\"surface\",\"colorbar\":{\"outlinewidth\":0,\"ticks\":\"\"},\"colorscale\":[[0.0,\"#0d0887\"],[0.1111111111111111,\"#46039f\"],[0.2222222222222222,\"#7201a8\"],[0.3333333333333333,\"#9c179e\"],[0.4444444444444444,\"#bd3786\"],[0.5555555555555556,\"#d8576b\"],[0.6666666666666666,\"#ed7953\"],[0.7777777777777778,\"#fb9f3a\"],[0.8888888888888888,\"#fdca26\"],[1.0,\"#f0f921\"]]}],\"mesh3d\":[{\"type\":\"mesh3d\",\"colorbar\":{\"outlinewidth\":0,\"ticks\":\"\"}}],\"scatter\":[{\"fillpattern\":{\"fillmode\":\"overlay\",\"size\":10,\"solidity\":0.2},\"type\":\"scatter\"}],\"parcoords\":[{\"type\":\"parcoords\",\"line\":{\"colorbar\":{\"outlinewidth\":0,\"ticks\":\"\"}}}],\"scatterpolargl\":[{\"type\":\"scatterpolargl\",\"marker\":{\"colorbar\":{\"outlinewidth\":0,\"ticks\":\"\"}}}],\"bar\":[{\"error_x\":{\"color\":\"#2a3f5f\"},\"error_y\":{\"color\":\"#2a3f5f\"},\"marker\":{\"line\":{\"color\":\"#E5ECF6\",\"width\":0.5},\"pattern\":{\"fillmode\":\"overlay\",\"size\":10,\"solidity\":0.2}},\"type\":\"bar\"}],\"scattergeo\":[{\"type\":\"scattergeo\",\"marker\":{\"colorbar\":{\"outlinewidth\":0,\"ticks\":\"\"}}}],\"scatterpolar\":[{\"type\":\"scatterpolar\",\"marker\":{\"colorbar\":{\"outlinewidth\":0,\"ticks\":\"\"}}}],\"histogram\":[{\"marker\":{\"pattern\":{\"fillmode\":\"overlay\",\"size\":10,\"solidity\":0.2}},\"type\":\"histogram\"}],\"scattergl\":[{\"type\":\"scattergl\",\"marker\":{\"colorbar\":{\"outlinewidth\":0,\"ticks\":\"\"}}}],\"scatter3d\":[{\"type\":\"scatter3d\",\"line\":{\"colorbar\":{\"outlinewidth\":0,\"ticks\":\"\"}},\"marker\":{\"colorbar\":{\"outlinewidth\":0,\"ticks\":\"\"}}}],\"scattermapbox\":[{\"type\":\"scattermapbox\",\"marker\":{\"colorbar\":{\"outlinewidth\":0,\"ticks\":\"\"}}}],\"scatterternary\":[{\"type\":\"scatterternary\",\"marker\":{\"colorbar\":{\"outlinewidth\":0,\"ticks\":\"\"}}}],\"scattercarpet\":[{\"type\":\"scattercarpet\",\"marker\":{\"colorbar\":{\"outlinewidth\":0,\"ticks\":\"\"}}}],\"carpet\":[{\"aaxis\":{\"endlinecolor\":\"#2a3f5f\",\"gridcolor\":\"white\",\"linecolor\":\"white\",\"minorgridcolor\":\"white\",\"startlinecolor\":\"#2a3f5f\"},\"baxis\":{\"endlinecolor\":\"#2a3f5f\",\"gridcolor\":\"white\",\"linecolor\":\"white\",\"minorgridcolor\":\"white\",\"startlinecolor\":\"#2a3f5f\"},\"type\":\"carpet\"}],\"table\":[{\"cells\":{\"fill\":{\"color\":\"#EBF0F8\"},\"line\":{\"color\":\"white\"}},\"header\":{\"fill\":{\"color\":\"#C8D4E3\"},\"line\":{\"color\":\"white\"}},\"type\":\"table\"}],\"barpolar\":[{\"marker\":{\"line\":{\"color\":\"#E5ECF6\",\"width\":0.5},\"pattern\":{\"fillmode\":\"overlay\",\"size\":10,\"solidity\":0.2}},\"type\":\"barpolar\"}],\"pie\":[{\"automargin\":true,\"type\":\"pie\"}]},\"layout\":{\"autotypenumbers\":\"strict\",\"colorway\":[\"#636efa\",\"#EF553B\",\"#00cc96\",\"#ab63fa\",\"#FFA15A\",\"#19d3f3\",\"#FF6692\",\"#B6E880\",\"#FF97FF\",\"#FECB52\"],\"font\":{\"color\":\"#2a3f5f\"},\"hovermode\":\"closest\",\"hoverlabel\":{\"align\":\"left\"},\"paper_bgcolor\":\"white\",\"plot_bgcolor\":\"#E5ECF6\",\"polar\":{\"bgcolor\":\"#E5ECF6\",\"angularaxis\":{\"gridcolor\":\"white\",\"linecolor\":\"white\",\"ticks\":\"\"},\"radialaxis\":{\"gridcolor\":\"white\",\"linecolor\":\"white\",\"ticks\":\"\"}},\"ternary\":{\"bgcolor\":\"#E5ECF6\",\"aaxis\":{\"gridcolor\":\"white\",\"linecolor\":\"white\",\"ticks\":\"\"},\"baxis\":{\"gridcolor\":\"white\",\"linecolor\":\"white\",\"ticks\":\"\"},\"caxis\":{\"gridcolor\":\"white\",\"linecolor\":\"white\",\"ticks\":\"\"}},\"coloraxis\":{\"colorbar\":{\"outlinewidth\":0,\"ticks\":\"\"}},\"colorscale\":{\"sequential\":[[0.0,\"#0d0887\"],[0.1111111111111111,\"#46039f\"],[0.2222222222222222,\"#7201a8\"],[0.3333333333333333,\"#9c179e\"],[0.4444444444444444,\"#bd3786\"],[0.5555555555555556,\"#d8576b\"],[0.6666666666666666,\"#ed7953\"],[0.7777777777777778,\"#fb9f3a\"],[0.8888888888888888,\"#fdca26\"],[1.0,\"#f0f921\"]],\"sequentialminus\":[[0.0,\"#0d0887\"],[0.1111111111111111,\"#46039f\"],[0.2222222222222222,\"#7201a8\"],[0.3333333333333333,\"#9c179e\"],[0.4444444444444444,\"#bd3786\"],[0.5555555555555556,\"#d8576b\"],[0.6666666666666666,\"#ed7953\"],[0.7777777777777778,\"#fb9f3a\"],[0.8888888888888888,\"#fdca26\"],[1.0,\"#f0f921\"]],\"diverging\":[[0,\"#8e0152\"],[0.1,\"#c51b7d\"],[0.2,\"#de77ae\"],[0.3,\"#f1b6da\"],[0.4,\"#fde0ef\"],[0.5,\"#f7f7f7\"],[0.6,\"#e6f5d0\"],[0.7,\"#b8e186\"],[0.8,\"#7fbc41\"],[0.9,\"#4d9221\"],[1,\"#276419\"]]},\"xaxis\":{\"gridcolor\":\"white\",\"linecolor\":\"white\",\"ticks\":\"\",\"title\":{\"standoff\":15},\"zerolinecolor\":\"white\",\"automargin\":true,\"zerolinewidth\":2},\"yaxis\":{\"gridcolor\":\"white\",\"linecolor\":\"white\",\"ticks\":\"\",\"title\":{\"standoff\":15},\"zerolinecolor\":\"white\",\"automargin\":true,\"zerolinewidth\":2},\"scene\":{\"xaxis\":{\"backgroundcolor\":\"#E5ECF6\",\"gridcolor\":\"white\",\"linecolor\":\"white\",\"showbackground\":true,\"ticks\":\"\",\"zerolinecolor\":\"white\",\"gridwidth\":2},\"yaxis\":{\"backgroundcolor\":\"#E5ECF6\",\"gridcolor\":\"white\",\"linecolor\":\"white\",\"showbackground\":true,\"ticks\":\"\",\"zerolinecolor\":\"white\",\"gridwidth\":2},\"zaxis\":{\"backgroundcolor\":\"#E5ECF6\",\"gridcolor\":\"white\",\"linecolor\":\"white\",\"showbackground\":true,\"ticks\":\"\",\"zerolinecolor\":\"white\",\"gridwidth\":2}},\"shapedefaults\":{\"line\":{\"color\":\"#2a3f5f\"}},\"annotationdefaults\":{\"arrowcolor\":\"#2a3f5f\",\"arrowhead\":0,\"arrowwidth\":1},\"geo\":{\"bgcolor\":\"white\",\"landcolor\":\"#E5ECF6\",\"subunitcolor\":\"white\",\"showland\":true,\"showlakes\":true,\"lakecolor\":\"white\"},\"title\":{\"x\":0.05},\"mapbox\":{\"style\":\"light\"}}},\"xaxis\":{\"anchor\":\"y\",\"domain\":[0.0,1.0],\"title\":{\"text\":\"y_train\"}},\"yaxis\":{\"anchor\":\"x\",\"domain\":[0.0,1.0],\"title\":{\"text\":\"y_pred_train\"}},\"legend\":{\"tracegroupgap\":0},\"title\":{\"text\":\"y_train vs y_pred_train\"}},                        {\"responsive\": true}                    ).then(function(){\n",
       "                            \n",
       "var gd = document.getElementById('a16cd25d-3ea5-4469-933d-64134c62165b');\n",
       "var x = new MutationObserver(function (mutations, observer) {{\n",
       "        var display = window.getComputedStyle(gd).display;\n",
       "        if (!display || display === 'none') {{\n",
       "            console.log([gd, 'removed!']);\n",
       "            Plotly.purge(gd);\n",
       "            observer.disconnect();\n",
       "        }}\n",
       "}});\n",
       "\n",
       "// Listen for the removal of the full notebook cells\n",
       "var notebookContainer = gd.closest('#notebook-container');\n",
       "if (notebookContainer) {{\n",
       "    x.observe(notebookContainer, {childList: true});\n",
       "}}\n",
       "\n",
       "// Listen for the clearing of the current output cell\n",
       "var outputEl = gd.closest('.output');\n",
       "if (outputEl) {{\n",
       "    x.observe(outputEl, {childList: true});\n",
       "}}\n",
       "\n",
       "                        })                };                });            </script>        </div>"
      ]
     },
     "metadata": {},
     "output_type": "display_data"
    },
    {
     "data": {
      "application/vnd.plotly.v1+json": {
       "config": {
        "plotlyServerURL": "https://plot.ly"
       },
       "data": [
        {
         "hovertemplate": "y_test=%{x}<br>y_pred_test=%{y}<extra></extra>",
         "legendgroup": "",
         "marker": {
          "color": "green",
          "symbol": "circle"
         },
         "mode": "markers",
         "name": "",
         "orientation": "v",
         "showlegend": false,
         "type": "scatter",
         "x": [
          4,
          22,
          4,
          15,
          34,
          4,
          8,
          3,
          4,
          4,
          1,
          29,
          4,
          17,
          10,
          26,
          7,
          13,
          2,
          25,
          21,
          12,
          2,
          2,
          28,
          7,
          38,
          31,
          1,
          18,
          19,
          17,
          25,
          8,
          10,
          2,
          7,
          37,
          8,
          1,
          12,
          43,
          13,
          19,
          10,
          2,
          7,
          2,
          6,
          21,
          8,
          9,
          12,
          22,
          5,
          8,
          27,
          3,
          5,
          9,
          3,
          7,
          10,
          7,
          8,
          35,
          3,
          5,
          38,
          10,
          40,
          5,
          2,
          52,
          14,
          16,
          16,
          21,
          25,
          12,
          5,
          9,
          15,
          17,
          10,
          4,
          5,
          24,
          38,
          9,
          9,
          9,
          9,
          3,
          15,
          2,
          5,
          13,
          10,
          7,
          58,
          4,
          7,
          15,
          2,
          9,
          2,
          6,
          23,
          5,
          4,
          13,
          24,
          7,
          3,
          3,
          3,
          8,
          9,
          8,
          3,
          8,
          17,
          42,
          5,
          11,
          3,
          24,
          2,
          16,
          9,
          6,
          5,
          37,
          8,
          4,
          69,
          5,
          4,
          6,
          11,
          14,
          6,
          12,
          28,
          6,
          12,
          10,
          72,
          41,
          24,
          11
         ],
         "xaxis": "x",
         "y": [
          8.38479567748834,
          12.886325710429698,
          10.012079883409069,
          14.301160680140661,
          13.165341856365876,
          11.979479870401635,
          11.037996890561898,
          10.22107289466774,
          12.437770973781967,
          7.2151438132803225,
          13.39794252666251,
          14.276070654210715,
          11.04371350984727,
          12.027832283749662,
          10.19331998991024,
          13.349727246814119,
          10.20515716776586,
          11.814346477559747,
          12.277489131230894,
          16.223296491255258,
          10.778168351712177,
          16.32193546480742,
          13.181855150257672,
          9.10618424138309,
          14.028022626238933,
          12.82159561272968,
          9.471277928933985,
          11.594833849623555,
          13.310224868678315,
          17.429632971397062,
          12.086973279406966,
          11.704883351557001,
          10.7786886933624,
          12.57508702344313,
          11.294097458930047,
          12.85350934004124,
          12.161774965628876,
          10.855714289535207,
          13.805186265678719,
          12.654947467074246,
          9.765954605506407,
          7.500144055553232,
          10.10285103084875,
          12.72167612102303,
          13.34977438526898,
          12.750963315863165,
          12.485689499706085,
          12.43836812692147,
          17.77039622875116,
          11.187488787641836,
          10.931503794343449,
          11.620077312148494,
          12.15824871068942,
          11.849392339381854,
          7.061334254195628,
          13.5907065257325,
          19.79980877958736,
          10.942816276794053,
          7.934298233592896,
          10.503724316717673,
          12.293797475320536,
          13.681188204281474,
          12.857897854420926,
          8.9969761917712,
          13.503388238210032,
          8.209740707866676,
          10.691515013685274,
          10.899542491400814,
          12.027683993301414,
          11.239693259095617,
          8.601837217372955,
          9.774653479249562,
          5.487357454138009,
          10.914724050489824,
          11.313472394679334,
          11.30867889372356,
          8.4765327493024,
          12.172767699862936,
          11.167756674047101,
          9.620927610682763,
          14.378445117554865,
          10.04558117806048,
          12.08884109456164,
          14.236165428564473,
          10.843221023320039,
          13.419262446818433,
          11.690676495862155,
          14.520599046042227,
          11.578546435934573,
          12.854273299409183,
          11.807045571520778,
          9.58245620182088,
          11.757956577606242,
          10.46651498119277,
          11.344156086605583,
          13.531430595961089,
          11.806666335545824,
          13.438296977389133,
          12.085980489515117,
          5.596074651348593,
          6.854783900032243,
          10.576600816205852,
          12.487700490342245,
          10.182656121891366,
          11.31362524854281,
          9.826046279334085,
          10.862773663096078,
          15.342162713069685,
          15.74692264239791,
          8.164824270158693,
          15.723371608322932,
          5.6701608538073245,
          16.143586653998813,
          9.565164554211961,
          12.381669311026718,
          15.702846068776232,
          14.322458447308616,
          10.612792053893882,
          8.069388903995485,
          13.845986060400715,
          8.578231806151813,
          10.857754092498103,
          9.45876683900091,
          12.626176464860912,
          12.229128097973916,
          15.352357151424382,
          12.36849254123285,
          11.937765162308056,
          12.38732053724065,
          10.686273790844789,
          12.219511998380646,
          11.201959088488472,
          10.401741529678024,
          11.357711404370495,
          6.06676325642238,
          11.290223310721883,
          16.157830622215933,
          12.696305709838047,
          13.373637169850966,
          15.06766568416385,
          13.089018785522061,
          11.463986514547724,
          15.369242123869792,
          10.817534768797652,
          12.967495802764196,
          11.269509581431558,
          11.464336979035117,
          7.181188726982565,
          11.701424698519379,
          9.509110342797594,
          15.281160573741142,
          9.03522546132083
         ],
         "yaxis": "y"
        }
       ],
       "layout": {
        "legend": {
         "tracegroupgap": 0
        },
        "template": {
         "data": {
          "bar": [
           {
            "error_x": {
             "color": "#2a3f5f"
            },
            "error_y": {
             "color": "#2a3f5f"
            },
            "marker": {
             "line": {
              "color": "#E5ECF6",
              "width": 0.5
             },
             "pattern": {
              "fillmode": "overlay",
              "size": 10,
              "solidity": 0.2
             }
            },
            "type": "bar"
           }
          ],
          "barpolar": [
           {
            "marker": {
             "line": {
              "color": "#E5ECF6",
              "width": 0.5
             },
             "pattern": {
              "fillmode": "overlay",
              "size": 10,
              "solidity": 0.2
             }
            },
            "type": "barpolar"
           }
          ],
          "carpet": [
           {
            "aaxis": {
             "endlinecolor": "#2a3f5f",
             "gridcolor": "white",
             "linecolor": "white",
             "minorgridcolor": "white",
             "startlinecolor": "#2a3f5f"
            },
            "baxis": {
             "endlinecolor": "#2a3f5f",
             "gridcolor": "white",
             "linecolor": "white",
             "minorgridcolor": "white",
             "startlinecolor": "#2a3f5f"
            },
            "type": "carpet"
           }
          ],
          "choropleth": [
           {
            "colorbar": {
             "outlinewidth": 0,
             "ticks": ""
            },
            "type": "choropleth"
           }
          ],
          "contour": [
           {
            "colorbar": {
             "outlinewidth": 0,
             "ticks": ""
            },
            "colorscale": [
             [
              0,
              "#0d0887"
             ],
             [
              0.1111111111111111,
              "#46039f"
             ],
             [
              0.2222222222222222,
              "#7201a8"
             ],
             [
              0.3333333333333333,
              "#9c179e"
             ],
             [
              0.4444444444444444,
              "#bd3786"
             ],
             [
              0.5555555555555556,
              "#d8576b"
             ],
             [
              0.6666666666666666,
              "#ed7953"
             ],
             [
              0.7777777777777778,
              "#fb9f3a"
             ],
             [
              0.8888888888888888,
              "#fdca26"
             ],
             [
              1,
              "#f0f921"
             ]
            ],
            "type": "contour"
           }
          ],
          "contourcarpet": [
           {
            "colorbar": {
             "outlinewidth": 0,
             "ticks": ""
            },
            "type": "contourcarpet"
           }
          ],
          "heatmap": [
           {
            "colorbar": {
             "outlinewidth": 0,
             "ticks": ""
            },
            "colorscale": [
             [
              0,
              "#0d0887"
             ],
             [
              0.1111111111111111,
              "#46039f"
             ],
             [
              0.2222222222222222,
              "#7201a8"
             ],
             [
              0.3333333333333333,
              "#9c179e"
             ],
             [
              0.4444444444444444,
              "#bd3786"
             ],
             [
              0.5555555555555556,
              "#d8576b"
             ],
             [
              0.6666666666666666,
              "#ed7953"
             ],
             [
              0.7777777777777778,
              "#fb9f3a"
             ],
             [
              0.8888888888888888,
              "#fdca26"
             ],
             [
              1,
              "#f0f921"
             ]
            ],
            "type": "heatmap"
           }
          ],
          "heatmapgl": [
           {
            "colorbar": {
             "outlinewidth": 0,
             "ticks": ""
            },
            "colorscale": [
             [
              0,
              "#0d0887"
             ],
             [
              0.1111111111111111,
              "#46039f"
             ],
             [
              0.2222222222222222,
              "#7201a8"
             ],
             [
              0.3333333333333333,
              "#9c179e"
             ],
             [
              0.4444444444444444,
              "#bd3786"
             ],
             [
              0.5555555555555556,
              "#d8576b"
             ],
             [
              0.6666666666666666,
              "#ed7953"
             ],
             [
              0.7777777777777778,
              "#fb9f3a"
             ],
             [
              0.8888888888888888,
              "#fdca26"
             ],
             [
              1,
              "#f0f921"
             ]
            ],
            "type": "heatmapgl"
           }
          ],
          "histogram": [
           {
            "marker": {
             "pattern": {
              "fillmode": "overlay",
              "size": 10,
              "solidity": 0.2
             }
            },
            "type": "histogram"
           }
          ],
          "histogram2d": [
           {
            "colorbar": {
             "outlinewidth": 0,
             "ticks": ""
            },
            "colorscale": [
             [
              0,
              "#0d0887"
             ],
             [
              0.1111111111111111,
              "#46039f"
             ],
             [
              0.2222222222222222,
              "#7201a8"
             ],
             [
              0.3333333333333333,
              "#9c179e"
             ],
             [
              0.4444444444444444,
              "#bd3786"
             ],
             [
              0.5555555555555556,
              "#d8576b"
             ],
             [
              0.6666666666666666,
              "#ed7953"
             ],
             [
              0.7777777777777778,
              "#fb9f3a"
             ],
             [
              0.8888888888888888,
              "#fdca26"
             ],
             [
              1,
              "#f0f921"
             ]
            ],
            "type": "histogram2d"
           }
          ],
          "histogram2dcontour": [
           {
            "colorbar": {
             "outlinewidth": 0,
             "ticks": ""
            },
            "colorscale": [
             [
              0,
              "#0d0887"
             ],
             [
              0.1111111111111111,
              "#46039f"
             ],
             [
              0.2222222222222222,
              "#7201a8"
             ],
             [
              0.3333333333333333,
              "#9c179e"
             ],
             [
              0.4444444444444444,
              "#bd3786"
             ],
             [
              0.5555555555555556,
              "#d8576b"
             ],
             [
              0.6666666666666666,
              "#ed7953"
             ],
             [
              0.7777777777777778,
              "#fb9f3a"
             ],
             [
              0.8888888888888888,
              "#fdca26"
             ],
             [
              1,
              "#f0f921"
             ]
            ],
            "type": "histogram2dcontour"
           }
          ],
          "mesh3d": [
           {
            "colorbar": {
             "outlinewidth": 0,
             "ticks": ""
            },
            "type": "mesh3d"
           }
          ],
          "parcoords": [
           {
            "line": {
             "colorbar": {
              "outlinewidth": 0,
              "ticks": ""
             }
            },
            "type": "parcoords"
           }
          ],
          "pie": [
           {
            "automargin": true,
            "type": "pie"
           }
          ],
          "scatter": [
           {
            "fillpattern": {
             "fillmode": "overlay",
             "size": 10,
             "solidity": 0.2
            },
            "type": "scatter"
           }
          ],
          "scatter3d": [
           {
            "line": {
             "colorbar": {
              "outlinewidth": 0,
              "ticks": ""
             }
            },
            "marker": {
             "colorbar": {
              "outlinewidth": 0,
              "ticks": ""
             }
            },
            "type": "scatter3d"
           }
          ],
          "scattercarpet": [
           {
            "marker": {
             "colorbar": {
              "outlinewidth": 0,
              "ticks": ""
             }
            },
            "type": "scattercarpet"
           }
          ],
          "scattergeo": [
           {
            "marker": {
             "colorbar": {
              "outlinewidth": 0,
              "ticks": ""
             }
            },
            "type": "scattergeo"
           }
          ],
          "scattergl": [
           {
            "marker": {
             "colorbar": {
              "outlinewidth": 0,
              "ticks": ""
             }
            },
            "type": "scattergl"
           }
          ],
          "scattermapbox": [
           {
            "marker": {
             "colorbar": {
              "outlinewidth": 0,
              "ticks": ""
             }
            },
            "type": "scattermapbox"
           }
          ],
          "scatterpolar": [
           {
            "marker": {
             "colorbar": {
              "outlinewidth": 0,
              "ticks": ""
             }
            },
            "type": "scatterpolar"
           }
          ],
          "scatterpolargl": [
           {
            "marker": {
             "colorbar": {
              "outlinewidth": 0,
              "ticks": ""
             }
            },
            "type": "scatterpolargl"
           }
          ],
          "scatterternary": [
           {
            "marker": {
             "colorbar": {
              "outlinewidth": 0,
              "ticks": ""
             }
            },
            "type": "scatterternary"
           }
          ],
          "surface": [
           {
            "colorbar": {
             "outlinewidth": 0,
             "ticks": ""
            },
            "colorscale": [
             [
              0,
              "#0d0887"
             ],
             [
              0.1111111111111111,
              "#46039f"
             ],
             [
              0.2222222222222222,
              "#7201a8"
             ],
             [
              0.3333333333333333,
              "#9c179e"
             ],
             [
              0.4444444444444444,
              "#bd3786"
             ],
             [
              0.5555555555555556,
              "#d8576b"
             ],
             [
              0.6666666666666666,
              "#ed7953"
             ],
             [
              0.7777777777777778,
              "#fb9f3a"
             ],
             [
              0.8888888888888888,
              "#fdca26"
             ],
             [
              1,
              "#f0f921"
             ]
            ],
            "type": "surface"
           }
          ],
          "table": [
           {
            "cells": {
             "fill": {
              "color": "#EBF0F8"
             },
             "line": {
              "color": "white"
             }
            },
            "header": {
             "fill": {
              "color": "#C8D4E3"
             },
             "line": {
              "color": "white"
             }
            },
            "type": "table"
           }
          ]
         },
         "layout": {
          "annotationdefaults": {
           "arrowcolor": "#2a3f5f",
           "arrowhead": 0,
           "arrowwidth": 1
          },
          "autotypenumbers": "strict",
          "coloraxis": {
           "colorbar": {
            "outlinewidth": 0,
            "ticks": ""
           }
          },
          "colorscale": {
           "diverging": [
            [
             0,
             "#8e0152"
            ],
            [
             0.1,
             "#c51b7d"
            ],
            [
             0.2,
             "#de77ae"
            ],
            [
             0.3,
             "#f1b6da"
            ],
            [
             0.4,
             "#fde0ef"
            ],
            [
             0.5,
             "#f7f7f7"
            ],
            [
             0.6,
             "#e6f5d0"
            ],
            [
             0.7,
             "#b8e186"
            ],
            [
             0.8,
             "#7fbc41"
            ],
            [
             0.9,
             "#4d9221"
            ],
            [
             1,
             "#276419"
            ]
           ],
           "sequential": [
            [
             0,
             "#0d0887"
            ],
            [
             0.1111111111111111,
             "#46039f"
            ],
            [
             0.2222222222222222,
             "#7201a8"
            ],
            [
             0.3333333333333333,
             "#9c179e"
            ],
            [
             0.4444444444444444,
             "#bd3786"
            ],
            [
             0.5555555555555556,
             "#d8576b"
            ],
            [
             0.6666666666666666,
             "#ed7953"
            ],
            [
             0.7777777777777778,
             "#fb9f3a"
            ],
            [
             0.8888888888888888,
             "#fdca26"
            ],
            [
             1,
             "#f0f921"
            ]
           ],
           "sequentialminus": [
            [
             0,
             "#0d0887"
            ],
            [
             0.1111111111111111,
             "#46039f"
            ],
            [
             0.2222222222222222,
             "#7201a8"
            ],
            [
             0.3333333333333333,
             "#9c179e"
            ],
            [
             0.4444444444444444,
             "#bd3786"
            ],
            [
             0.5555555555555556,
             "#d8576b"
            ],
            [
             0.6666666666666666,
             "#ed7953"
            ],
            [
             0.7777777777777778,
             "#fb9f3a"
            ],
            [
             0.8888888888888888,
             "#fdca26"
            ],
            [
             1,
             "#f0f921"
            ]
           ]
          },
          "colorway": [
           "#636efa",
           "#EF553B",
           "#00cc96",
           "#ab63fa",
           "#FFA15A",
           "#19d3f3",
           "#FF6692",
           "#B6E880",
           "#FF97FF",
           "#FECB52"
          ],
          "font": {
           "color": "#2a3f5f"
          },
          "geo": {
           "bgcolor": "white",
           "lakecolor": "white",
           "landcolor": "#E5ECF6",
           "showlakes": true,
           "showland": true,
           "subunitcolor": "white"
          },
          "hoverlabel": {
           "align": "left"
          },
          "hovermode": "closest",
          "mapbox": {
           "style": "light"
          },
          "paper_bgcolor": "white",
          "plot_bgcolor": "#E5ECF6",
          "polar": {
           "angularaxis": {
            "gridcolor": "white",
            "linecolor": "white",
            "ticks": ""
           },
           "bgcolor": "#E5ECF6",
           "radialaxis": {
            "gridcolor": "white",
            "linecolor": "white",
            "ticks": ""
           }
          },
          "scene": {
           "xaxis": {
            "backgroundcolor": "#E5ECF6",
            "gridcolor": "white",
            "gridwidth": 2,
            "linecolor": "white",
            "showbackground": true,
            "ticks": "",
            "zerolinecolor": "white"
           },
           "yaxis": {
            "backgroundcolor": "#E5ECF6",
            "gridcolor": "white",
            "gridwidth": 2,
            "linecolor": "white",
            "showbackground": true,
            "ticks": "",
            "zerolinecolor": "white"
           },
           "zaxis": {
            "backgroundcolor": "#E5ECF6",
            "gridcolor": "white",
            "gridwidth": 2,
            "linecolor": "white",
            "showbackground": true,
            "ticks": "",
            "zerolinecolor": "white"
           }
          },
          "shapedefaults": {
           "line": {
            "color": "#2a3f5f"
           }
          },
          "ternary": {
           "aaxis": {
            "gridcolor": "white",
            "linecolor": "white",
            "ticks": ""
           },
           "baxis": {
            "gridcolor": "white",
            "linecolor": "white",
            "ticks": ""
           },
           "bgcolor": "#E5ECF6",
           "caxis": {
            "gridcolor": "white",
            "linecolor": "white",
            "ticks": ""
           }
          },
          "title": {
           "x": 0.05
          },
          "xaxis": {
           "automargin": true,
           "gridcolor": "white",
           "linecolor": "white",
           "ticks": "",
           "title": {
            "standoff": 15
           },
           "zerolinecolor": "white",
           "zerolinewidth": 2
          },
          "yaxis": {
           "automargin": true,
           "gridcolor": "white",
           "linecolor": "white",
           "ticks": "",
           "title": {
            "standoff": 15
           },
           "zerolinecolor": "white",
           "zerolinewidth": 2
          }
         }
        },
        "title": {
         "text": "y_test vs y_pred_test"
        },
        "xaxis": {
         "anchor": "y",
         "domain": [
          0,
          1
         ],
         "title": {
          "text": "y_test"
         }
        },
        "yaxis": {
         "anchor": "x",
         "domain": [
          0,
          1
         ],
         "title": {
          "text": "y_pred_test"
         }
        }
       }
      },
      "text/html": [
       "<div>                            <div id=\"03e96e15-3211-449e-b5b9-abc9b00e53e2\" class=\"plotly-graph-div\" style=\"height:525px; width:100%;\"></div>            <script type=\"text/javascript\">                require([\"plotly\"], function(Plotly) {                    window.PLOTLYENV=window.PLOTLYENV || {};                                    if (document.getElementById(\"03e96e15-3211-449e-b5b9-abc9b00e53e2\")) {                    Plotly.newPlot(                        \"03e96e15-3211-449e-b5b9-abc9b00e53e2\",                        [{\"hovertemplate\":\"y_test=%{x}<br>y_pred_test=%{y}<extra></extra>\",\"legendgroup\":\"\",\"marker\":{\"color\":\"green\",\"symbol\":\"circle\"},\"mode\":\"markers\",\"name\":\"\",\"orientation\":\"v\",\"showlegend\":false,\"x\":[4,22,4,15,34,4,8,3,4,4,1,29,4,17,10,26,7,13,2,25,21,12,2,2,28,7,38,31,1,18,19,17,25,8,10,2,7,37,8,1,12,43,13,19,10,2,7,2,6,21,8,9,12,22,5,8,27,3,5,9,3,7,10,7,8,35,3,5,38,10,40,5,2,52,14,16,16,21,25,12,5,9,15,17,10,4,5,24,38,9,9,9,9,3,15,2,5,13,10,7,58,4,7,15,2,9,2,6,23,5,4,13,24,7,3,3,3,8,9,8,3,8,17,42,5,11,3,24,2,16,9,6,5,37,8,4,69,5,4,6,11,14,6,12,28,6,12,10,72,41,24,11],\"xaxis\":\"x\",\"y\":[8.38479567748834,12.886325710429698,10.012079883409069,14.301160680140661,13.165341856365876,11.979479870401635,11.037996890561898,10.22107289466774,12.437770973781967,7.2151438132803225,13.39794252666251,14.276070654210715,11.04371350984727,12.027832283749662,10.19331998991024,13.349727246814119,10.20515716776586,11.814346477559747,12.277489131230894,16.223296491255258,10.778168351712177,16.32193546480742,13.181855150257672,9.10618424138309,14.028022626238933,12.82159561272968,9.471277928933985,11.594833849623555,13.310224868678315,17.429632971397062,12.086973279406966,11.704883351557001,10.7786886933624,12.57508702344313,11.294097458930047,12.85350934004124,12.161774965628876,10.855714289535207,13.805186265678719,12.654947467074246,9.765954605506407,7.500144055553232,10.10285103084875,12.72167612102303,13.34977438526898,12.750963315863165,12.485689499706085,12.43836812692147,17.77039622875116,11.187488787641836,10.931503794343449,11.620077312148494,12.15824871068942,11.849392339381854,7.061334254195628,13.5907065257325,19.79980877958736,10.942816276794053,7.934298233592896,10.503724316717673,12.293797475320536,13.681188204281474,12.857897854420926,8.9969761917712,13.503388238210032,8.209740707866676,10.691515013685274,10.899542491400814,12.027683993301414,11.239693259095617,8.601837217372955,9.774653479249562,5.487357454138009,10.914724050489824,11.313472394679334,11.30867889372356,8.4765327493024,12.172767699862936,11.167756674047101,9.620927610682763,14.378445117554865,10.04558117806048,12.08884109456164,14.236165428564473,10.843221023320039,13.419262446818433,11.690676495862155,14.520599046042227,11.578546435934573,12.854273299409183,11.807045571520778,9.58245620182088,11.757956577606242,10.46651498119277,11.344156086605583,13.531430595961089,11.806666335545824,13.438296977389133,12.085980489515117,5.596074651348593,6.854783900032243,10.576600816205852,12.487700490342245,10.182656121891366,11.31362524854281,9.826046279334085,10.862773663096078,15.342162713069685,15.74692264239791,8.164824270158693,15.723371608322932,5.6701608538073245,16.143586653998813,9.565164554211961,12.381669311026718,15.702846068776232,14.322458447308616,10.612792053893882,8.069388903995485,13.845986060400715,8.578231806151813,10.857754092498103,9.45876683900091,12.626176464860912,12.229128097973916,15.352357151424382,12.36849254123285,11.937765162308056,12.38732053724065,10.686273790844789,12.219511998380646,11.201959088488472,10.401741529678024,11.357711404370495,6.06676325642238,11.290223310721883,16.157830622215933,12.696305709838047,13.373637169850966,15.06766568416385,13.089018785522061,11.463986514547724,15.369242123869792,10.817534768797652,12.967495802764196,11.269509581431558,11.464336979035117,7.181188726982565,11.701424698519379,9.509110342797594,15.281160573741142,9.03522546132083],\"yaxis\":\"y\",\"type\":\"scatter\"}],                        {\"template\":{\"data\":{\"histogram2dcontour\":[{\"type\":\"histogram2dcontour\",\"colorbar\":{\"outlinewidth\":0,\"ticks\":\"\"},\"colorscale\":[[0.0,\"#0d0887\"],[0.1111111111111111,\"#46039f\"],[0.2222222222222222,\"#7201a8\"],[0.3333333333333333,\"#9c179e\"],[0.4444444444444444,\"#bd3786\"],[0.5555555555555556,\"#d8576b\"],[0.6666666666666666,\"#ed7953\"],[0.7777777777777778,\"#fb9f3a\"],[0.8888888888888888,\"#fdca26\"],[1.0,\"#f0f921\"]]}],\"choropleth\":[{\"type\":\"choropleth\",\"colorbar\":{\"outlinewidth\":0,\"ticks\":\"\"}}],\"histogram2d\":[{\"type\":\"histogram2d\",\"colorbar\":{\"outlinewidth\":0,\"ticks\":\"\"},\"colorscale\":[[0.0,\"#0d0887\"],[0.1111111111111111,\"#46039f\"],[0.2222222222222222,\"#7201a8\"],[0.3333333333333333,\"#9c179e\"],[0.4444444444444444,\"#bd3786\"],[0.5555555555555556,\"#d8576b\"],[0.6666666666666666,\"#ed7953\"],[0.7777777777777778,\"#fb9f3a\"],[0.8888888888888888,\"#fdca26\"],[1.0,\"#f0f921\"]]}],\"heatmap\":[{\"type\":\"heatmap\",\"colorbar\":{\"outlinewidth\":0,\"ticks\":\"\"},\"colorscale\":[[0.0,\"#0d0887\"],[0.1111111111111111,\"#46039f\"],[0.2222222222222222,\"#7201a8\"],[0.3333333333333333,\"#9c179e\"],[0.4444444444444444,\"#bd3786\"],[0.5555555555555556,\"#d8576b\"],[0.6666666666666666,\"#ed7953\"],[0.7777777777777778,\"#fb9f3a\"],[0.8888888888888888,\"#fdca26\"],[1.0,\"#f0f921\"]]}],\"heatmapgl\":[{\"type\":\"heatmapgl\",\"colorbar\":{\"outlinewidth\":0,\"ticks\":\"\"},\"colorscale\":[[0.0,\"#0d0887\"],[0.1111111111111111,\"#46039f\"],[0.2222222222222222,\"#7201a8\"],[0.3333333333333333,\"#9c179e\"],[0.4444444444444444,\"#bd3786\"],[0.5555555555555556,\"#d8576b\"],[0.6666666666666666,\"#ed7953\"],[0.7777777777777778,\"#fb9f3a\"],[0.8888888888888888,\"#fdca26\"],[1.0,\"#f0f921\"]]}],\"contourcarpet\":[{\"type\":\"contourcarpet\",\"colorbar\":{\"outlinewidth\":0,\"ticks\":\"\"}}],\"contour\":[{\"type\":\"contour\",\"colorbar\":{\"outlinewidth\":0,\"ticks\":\"\"},\"colorscale\":[[0.0,\"#0d0887\"],[0.1111111111111111,\"#46039f\"],[0.2222222222222222,\"#7201a8\"],[0.3333333333333333,\"#9c179e\"],[0.4444444444444444,\"#bd3786\"],[0.5555555555555556,\"#d8576b\"],[0.6666666666666666,\"#ed7953\"],[0.7777777777777778,\"#fb9f3a\"],[0.8888888888888888,\"#fdca26\"],[1.0,\"#f0f921\"]]}],\"surface\":[{\"type\":\"surface\",\"colorbar\":{\"outlinewidth\":0,\"ticks\":\"\"},\"colorscale\":[[0.0,\"#0d0887\"],[0.1111111111111111,\"#46039f\"],[0.2222222222222222,\"#7201a8\"],[0.3333333333333333,\"#9c179e\"],[0.4444444444444444,\"#bd3786\"],[0.5555555555555556,\"#d8576b\"],[0.6666666666666666,\"#ed7953\"],[0.7777777777777778,\"#fb9f3a\"],[0.8888888888888888,\"#fdca26\"],[1.0,\"#f0f921\"]]}],\"mesh3d\":[{\"type\":\"mesh3d\",\"colorbar\":{\"outlinewidth\":0,\"ticks\":\"\"}}],\"scatter\":[{\"fillpattern\":{\"fillmode\":\"overlay\",\"size\":10,\"solidity\":0.2},\"type\":\"scatter\"}],\"parcoords\":[{\"type\":\"parcoords\",\"line\":{\"colorbar\":{\"outlinewidth\":0,\"ticks\":\"\"}}}],\"scatterpolargl\":[{\"type\":\"scatterpolargl\",\"marker\":{\"colorbar\":{\"outlinewidth\":0,\"ticks\":\"\"}}}],\"bar\":[{\"error_x\":{\"color\":\"#2a3f5f\"},\"error_y\":{\"color\":\"#2a3f5f\"},\"marker\":{\"line\":{\"color\":\"#E5ECF6\",\"width\":0.5},\"pattern\":{\"fillmode\":\"overlay\",\"size\":10,\"solidity\":0.2}},\"type\":\"bar\"}],\"scattergeo\":[{\"type\":\"scattergeo\",\"marker\":{\"colorbar\":{\"outlinewidth\":0,\"ticks\":\"\"}}}],\"scatterpolar\":[{\"type\":\"scatterpolar\",\"marker\":{\"colorbar\":{\"outlinewidth\":0,\"ticks\":\"\"}}}],\"histogram\":[{\"marker\":{\"pattern\":{\"fillmode\":\"overlay\",\"size\":10,\"solidity\":0.2}},\"type\":\"histogram\"}],\"scattergl\":[{\"type\":\"scattergl\",\"marker\":{\"colorbar\":{\"outlinewidth\":0,\"ticks\":\"\"}}}],\"scatter3d\":[{\"type\":\"scatter3d\",\"line\":{\"colorbar\":{\"outlinewidth\":0,\"ticks\":\"\"}},\"marker\":{\"colorbar\":{\"outlinewidth\":0,\"ticks\":\"\"}}}],\"scattermapbox\":[{\"type\":\"scattermapbox\",\"marker\":{\"colorbar\":{\"outlinewidth\":0,\"ticks\":\"\"}}}],\"scatterternary\":[{\"type\":\"scatterternary\",\"marker\":{\"colorbar\":{\"outlinewidth\":0,\"ticks\":\"\"}}}],\"scattercarpet\":[{\"type\":\"scattercarpet\",\"marker\":{\"colorbar\":{\"outlinewidth\":0,\"ticks\":\"\"}}}],\"carpet\":[{\"aaxis\":{\"endlinecolor\":\"#2a3f5f\",\"gridcolor\":\"white\",\"linecolor\":\"white\",\"minorgridcolor\":\"white\",\"startlinecolor\":\"#2a3f5f\"},\"baxis\":{\"endlinecolor\":\"#2a3f5f\",\"gridcolor\":\"white\",\"linecolor\":\"white\",\"minorgridcolor\":\"white\",\"startlinecolor\":\"#2a3f5f\"},\"type\":\"carpet\"}],\"table\":[{\"cells\":{\"fill\":{\"color\":\"#EBF0F8\"},\"line\":{\"color\":\"white\"}},\"header\":{\"fill\":{\"color\":\"#C8D4E3\"},\"line\":{\"color\":\"white\"}},\"type\":\"table\"}],\"barpolar\":[{\"marker\":{\"line\":{\"color\":\"#E5ECF6\",\"width\":0.5},\"pattern\":{\"fillmode\":\"overlay\",\"size\":10,\"solidity\":0.2}},\"type\":\"barpolar\"}],\"pie\":[{\"automargin\":true,\"type\":\"pie\"}]},\"layout\":{\"autotypenumbers\":\"strict\",\"colorway\":[\"#636efa\",\"#EF553B\",\"#00cc96\",\"#ab63fa\",\"#FFA15A\",\"#19d3f3\",\"#FF6692\",\"#B6E880\",\"#FF97FF\",\"#FECB52\"],\"font\":{\"color\":\"#2a3f5f\"},\"hovermode\":\"closest\",\"hoverlabel\":{\"align\":\"left\"},\"paper_bgcolor\":\"white\",\"plot_bgcolor\":\"#E5ECF6\",\"polar\":{\"bgcolor\":\"#E5ECF6\",\"angularaxis\":{\"gridcolor\":\"white\",\"linecolor\":\"white\",\"ticks\":\"\"},\"radialaxis\":{\"gridcolor\":\"white\",\"linecolor\":\"white\",\"ticks\":\"\"}},\"ternary\":{\"bgcolor\":\"#E5ECF6\",\"aaxis\":{\"gridcolor\":\"white\",\"linecolor\":\"white\",\"ticks\":\"\"},\"baxis\":{\"gridcolor\":\"white\",\"linecolor\":\"white\",\"ticks\":\"\"},\"caxis\":{\"gridcolor\":\"white\",\"linecolor\":\"white\",\"ticks\":\"\"}},\"coloraxis\":{\"colorbar\":{\"outlinewidth\":0,\"ticks\":\"\"}},\"colorscale\":{\"sequential\":[[0.0,\"#0d0887\"],[0.1111111111111111,\"#46039f\"],[0.2222222222222222,\"#7201a8\"],[0.3333333333333333,\"#9c179e\"],[0.4444444444444444,\"#bd3786\"],[0.5555555555555556,\"#d8576b\"],[0.6666666666666666,\"#ed7953\"],[0.7777777777777778,\"#fb9f3a\"],[0.8888888888888888,\"#fdca26\"],[1.0,\"#f0f921\"]],\"sequentialminus\":[[0.0,\"#0d0887\"],[0.1111111111111111,\"#46039f\"],[0.2222222222222222,\"#7201a8\"],[0.3333333333333333,\"#9c179e\"],[0.4444444444444444,\"#bd3786\"],[0.5555555555555556,\"#d8576b\"],[0.6666666666666666,\"#ed7953\"],[0.7777777777777778,\"#fb9f3a\"],[0.8888888888888888,\"#fdca26\"],[1.0,\"#f0f921\"]],\"diverging\":[[0,\"#8e0152\"],[0.1,\"#c51b7d\"],[0.2,\"#de77ae\"],[0.3,\"#f1b6da\"],[0.4,\"#fde0ef\"],[0.5,\"#f7f7f7\"],[0.6,\"#e6f5d0\"],[0.7,\"#b8e186\"],[0.8,\"#7fbc41\"],[0.9,\"#4d9221\"],[1,\"#276419\"]]},\"xaxis\":{\"gridcolor\":\"white\",\"linecolor\":\"white\",\"ticks\":\"\",\"title\":{\"standoff\":15},\"zerolinecolor\":\"white\",\"automargin\":true,\"zerolinewidth\":2},\"yaxis\":{\"gridcolor\":\"white\",\"linecolor\":\"white\",\"ticks\":\"\",\"title\":{\"standoff\":15},\"zerolinecolor\":\"white\",\"automargin\":true,\"zerolinewidth\":2},\"scene\":{\"xaxis\":{\"backgroundcolor\":\"#E5ECF6\",\"gridcolor\":\"white\",\"linecolor\":\"white\",\"showbackground\":true,\"ticks\":\"\",\"zerolinecolor\":\"white\",\"gridwidth\":2},\"yaxis\":{\"backgroundcolor\":\"#E5ECF6\",\"gridcolor\":\"white\",\"linecolor\":\"white\",\"showbackground\":true,\"ticks\":\"\",\"zerolinecolor\":\"white\",\"gridwidth\":2},\"zaxis\":{\"backgroundcolor\":\"#E5ECF6\",\"gridcolor\":\"white\",\"linecolor\":\"white\",\"showbackground\":true,\"ticks\":\"\",\"zerolinecolor\":\"white\",\"gridwidth\":2}},\"shapedefaults\":{\"line\":{\"color\":\"#2a3f5f\"}},\"annotationdefaults\":{\"arrowcolor\":\"#2a3f5f\",\"arrowhead\":0,\"arrowwidth\":1},\"geo\":{\"bgcolor\":\"white\",\"landcolor\":\"#E5ECF6\",\"subunitcolor\":\"white\",\"showland\":true,\"showlakes\":true,\"lakecolor\":\"white\"},\"title\":{\"x\":0.05},\"mapbox\":{\"style\":\"light\"}}},\"xaxis\":{\"anchor\":\"y\",\"domain\":[0.0,1.0],\"title\":{\"text\":\"y_test\"}},\"yaxis\":{\"anchor\":\"x\",\"domain\":[0.0,1.0],\"title\":{\"text\":\"y_pred_test\"}},\"legend\":{\"tracegroupgap\":0},\"title\":{\"text\":\"y_test vs y_pred_test\"}},                        {\"responsive\": true}                    ).then(function(){\n",
       "                            \n",
       "var gd = document.getElementById('03e96e15-3211-449e-b5b9-abc9b00e53e2');\n",
       "var x = new MutationObserver(function (mutations, observer) {{\n",
       "        var display = window.getComputedStyle(gd).display;\n",
       "        if (!display || display === 'none') {{\n",
       "            console.log([gd, 'removed!']);\n",
       "            Plotly.purge(gd);\n",
       "            observer.disconnect();\n",
       "        }}\n",
       "}});\n",
       "\n",
       "// Listen for the removal of the full notebook cells\n",
       "var notebookContainer = gd.closest('#notebook-container');\n",
       "if (notebookContainer) {{\n",
       "    x.observe(notebookContainer, {childList: true});\n",
       "}}\n",
       "\n",
       "// Listen for the clearing of the current output cell\n",
       "var outputEl = gd.closest('.output');\n",
       "if (outputEl) {{\n",
       "    x.observe(outputEl, {childList: true});\n",
       "}}\n",
       "\n",
       "                        })                };                });            </script>        </div>"
      ]
     },
     "metadata": {},
     "output_type": "display_data"
    }
   ],
   "source": [
    "df_train = pd.DataFrame({'y_train': y_train, 'y_pred_train': y_pred_train})\n",
    "\n",
    "# Create a scatter plot using Plotly Express\n",
    "fig = px.scatter(df_train, x='y_train', y='y_pred_train', title='y_train vs y_pred_train')\n",
    "fig.update_layout(xaxis_title='y_train', yaxis_title='y_pred_train')\n",
    "fig.show()\n",
    "\n",
    "df_test = pd.DataFrame({'y_test': y_test, 'y_pred_test': y_pred_test})\n",
    "\n",
    "# Create a scatter plot using Plotly Express\n",
    "fig = px.scatter(df_test, x='y_test', y='y_pred_test', color_discrete_sequence=['green'], title='y_test vs y_pred_test')\n",
    "fig.update_layout(xaxis_title='y_test', yaxis_title='y_pred_test')\n",
    "fig.show()"
   ]
  },
  {
   "cell_type": "markdown",
   "id": "ce1b3630",
   "metadata": {},
   "source": [
    "### Applying PCA to reduce to a certain dimension capturing 85 percent variance"
   ]
  },
  {
   "cell_type": "code",
   "execution_count": 174,
   "id": "d746a30f",
   "metadata": {},
   "outputs": [
    {
     "name": "stdout",
     "output_type": "stream",
     "text": [
      "[[-0.46285071 -0.80303111  0.24250358 ...  0.17246793  0.22236664\n",
      "   0.16170498]\n",
      " [-0.9975716   1.1140011   0.5891324  ... -0.06205886  0.1183537\n",
      "  -0.08828504]\n",
      " [ 0.22524502  0.47810389 -0.08194291 ... -0.01081949  0.01686081\n",
      "   0.02437757]\n",
      " ...\n",
      " [-1.03783024  0.30983397 -1.04257954 ...  0.05692957  0.02593434\n",
      "  -0.25678332]\n",
      " [-1.63111708  0.02813336  0.0998959  ... -0.07370686  0.06647789\n",
      "   0.02230647]\n",
      " [-0.18036953 -0.36818808  0.12110349 ...  0.22385591  0.14756844\n",
      "   0.0488578 ]]\n",
      "(506, 105)\n"
     ]
    }
   ],
   "source": [
    "pca = PCA(n_components = 105)\n",
    "# Transform data\n",
    "pca_trans = pca.fit_transform(X)     \n",
    "print(pca_trans)                                                  \n",
    "print(pca_trans.shape) "
   ]
  },
  {
   "cell_type": "code",
   "execution_count": 175,
   "id": "415d529f",
   "metadata": {},
   "outputs": [
    {
     "name": "stdout",
     "output_type": "stream",
     "text": [
      "Total variance captured: 0.8579112437679746\n"
     ]
    },
    {
     "data": {
      "image/png": "[encoded data removed]",
      "text/plain": [
       "<Figure size 640x480 with 1 Axes>"
      ]
     },
     "metadata": {},
     "output_type": "display_data"
    }
   ],
   "source": [
    "# Get the explained variance ratios for each principal component\n",
    "explained_variance_ratios = pca.explained_variance_ratio_\n",
    "\n",
    "print(\"Total variance captured:\",sum(explained_variance_ratios))\n",
    "# Plotting the explained variance ratios\n",
    "plt.bar(range(1, len(explained_variance_ratios) + 1), explained_variance_ratios, align='center')\n",
    "plt.xticks(range(1, len(explained_variance_ratios) + 1))\n",
    "plt.xlabel('Principal Component')\n",
    "plt.ylabel('Explained Variance Ratio')\n",
    "plt.title('Explained Variance Ratio for Each Principal Component')\n",
    "plt.show()"
   ]
  },
  {
   "cell_type": "markdown",
   "id": "d5299aab",
   "metadata": {},
   "source": [
    "#### Applying lasso to the 85 percent variance captured pca components"
   ]
  },
  {
   "cell_type": "code",
   "execution_count": 176,
   "id": "e25c312e",
   "metadata": {},
   "outputs": [
    {
     "name": "stdout",
     "output_type": "stream",
     "text": [
      "Mean Squared Error for training: 110.509238038359\n",
      "Mean Squared Error for testing: 175.94147441787882\n"
     ]
    }
   ],
   "source": [
    "# Apply Lasso Regression to the 80 variance captured pca components\n",
    "X_train, X_test, y_train, y_test = train_test_split(pca_trans, y, test_size=0.3, random_state=42)\n",
    "\n",
    "lasso = Lasso(alpha=0.1)  \n",
    "lasso.fit(X_train, y_train)\n",
    "\n",
    "# Make predictions\n",
    "y_pred_train = lasso.predict(X_train)\n",
    "y_pred_test = lasso.predict(X_test)\n",
    "\n",
    "# Evaluate the model\n",
    "mse_train = mean_squared_error(y_train, y_pred_train)\n",
    "mse_test = mean_squared_error(y_test, y_pred_test)\n",
    "print(\"Mean Squared Error for training:\", mse_train)\n",
    "print(\"Mean Squared Error for testing:\", mse_test)"
   ]
  },
  {
   "cell_type": "code",
   "execution_count": 177,
   "id": "de34c4b9",
   "metadata": {},
   "outputs": [
    {
     "data": {
      "application/vnd.plotly.v1+json": {
       "config": {
        "plotlyServerURL": "https://plot.ly"
       },
       "data": [
        {
         "hovertemplate": "y_train=%{x}<br>y_pred_train=%{y}<extra></extra>",
         "legendgroup": "",
         "marker": {
          "color": "#636efa",
          "symbol": "circle"
         },
         "mode": "markers",
         "name": "",
         "orientation": "v",
         "showlegend": false,
         "type": "scatter",
         "x": [
          32,
          1,
          7,
          5,
          36,
          5,
          9,
          6,
          3,
          2,
          30,
          11,
          4,
          5,
          18,
          10,
          6,
          10,
          3,
          2,
          34,
          12,
          4,
          5,
          11,
          10,
          23,
          5,
          19,
          4,
          15,
          10,
          35,
          3,
          8,
          4,
          13,
          2,
          18,
          6,
          2,
          28,
          19,
          8,
          10,
          8,
          7,
          7,
          9,
          13,
          4,
          5,
          5,
          53,
          13,
          14,
          9,
          3,
          17,
          33,
          4,
          5,
          33,
          6,
          41,
          7,
          10,
          6,
          34,
          10,
          6,
          7,
          3,
          9,
          10,
          16,
          15,
          3,
          2,
          3,
          23,
          9,
          4,
          10,
          4,
          33,
          19,
          7,
          4,
          10,
          13,
          15,
          13,
          21,
          4,
          1,
          9,
          34,
          20,
          7,
          12,
          4,
          6,
          4,
          3,
          14,
          4,
          2,
          4,
          2,
          29,
          10,
          21,
          16,
          1,
          6,
          8,
          5,
          17,
          8,
          3,
          7,
          15,
          8,
          37,
          36,
          8,
          8,
          11,
          6,
          44,
          8,
          17,
          9,
          2,
          5,
          5,
          2,
          16,
          11,
          6,
          8,
          10,
          12,
          3,
          3,
          2,
          49,
          10,
          8,
          7,
          7,
          12,
          9,
          10,
          3,
          3,
          3,
          6,
          4,
          20,
          8,
          10,
          10,
          19,
          5,
          7,
          5,
          11,
          6,
          3,
          19,
          1,
          19,
          10,
          8,
          42,
          17,
          16,
          12,
          30,
          12,
          33,
          17,
          13,
          59,
          3,
          8,
          12,
          3,
          11,
          6,
          12,
          6,
          3,
          3,
          10,
          3,
          7,
          8,
          8,
          5,
          4,
          9,
          81,
          14,
          18,
          10,
          32,
          6,
          8,
          33,
          25,
          16,
          9,
          3,
          2,
          3,
          29,
          6,
          10,
          10,
          4,
          10,
          5,
          5,
          4,
          25,
          5,
          3,
          3,
          3,
          8,
          14,
          11,
          7,
          3,
          12,
          60,
          3,
          7,
          13,
          26,
          6,
          1,
          8,
          18,
          13,
          9,
          4,
          6,
          24,
          9,
          3,
          6,
          2,
          5,
          6,
          26,
          39,
          10,
          11,
          8,
          13,
          7,
          7,
          8,
          25,
          5,
          5,
          2,
          12,
          5,
          39,
          9,
          18,
          14,
          22,
          6,
          3,
          5,
          43,
          8,
          2,
          4,
          3,
          8,
          6,
          14,
          10,
          13,
          34,
          20,
          39,
          10,
          2,
          12,
          21,
          11,
          11,
          22,
          7,
          7,
          5,
          3,
          6,
          6,
          9,
          4,
          9,
          13,
          13,
          4,
          7,
          5,
          12,
          38,
          2,
          42,
          12,
          8,
          7,
          3,
          57,
          16,
          8,
          9,
          7,
          42,
          44,
          2,
          7,
          9,
          1,
          17,
          11,
          22,
          6,
          12,
          8,
          6,
          10,
          6,
          6,
          13,
          7,
          4,
          9,
          3,
          7,
          7,
          27,
          8,
          22
         ],
         "xaxis": "x",
         "y": [
          12.86080346042962,
          10.159782731355289,
          10.313512056631781,
          16.45250114785295,
          12.812012016585586,
          10.67130736625661,
          9.420349594263747,
          15.090035993854409,
          11.822252737351507,
          10.384622769565711,
          12.09370168015855,
          10.611902220205499,
          13.819332743089259,
          13.75681820512756,
          12.049417354904152,
          12.262286760394346,
          11.550593211007259,
          12.722234586735548,
          6.919609241029244,
          7.473025578338367,
          11.310792453389274,
          12.095862445606349,
          12.470490619296788,
          6.712634560327047,
          7.08632274878182,
          13.399886606078567,
          14.002632447906112,
          11.850353964601828,
          13.61145500432538,
          8.304199274371982,
          12.093475498753632,
          11.859179953501862,
          13.128334591753749,
          7.965587364141484,
          11.161825055805823,
          12.254620869350646,
          15.363028812126444,
          9.390409868966483,
          13.33554998570793,
          12.515546435392404,
          11.786692733717343,
          20.43112643308195,
          14.295837040706097,
          7.54361919040607,
          13.559130423553519,
          7.847744042709536,
          8.313218702523999,
          9.956550890816908,
          14.478163155186362,
          10.789303796252232,
          10.7414032625489,
          11.469143486009315,
          12.311728206173324,
          19.376280349379243,
          14.080524936742364,
          15.712263422345526,
          13.738678019368805,
          6.970218295662317,
          8.975074481762812,
          15.619030025976482,
          12.67376496046953,
          6.839108391053173,
          12.869876477409534,
          19.408638822733668,
          14.65459355486922,
          7.795118625796138,
          14.019668552164323,
          13.829180890434344,
          18.32476951842541,
          9.497187209597088,
          11.615185192069884,
          14.445361363104043,
          14.909903325988585,
          8.357447551600718,
          10.592206686529321,
          15.156841043221581,
          10.799090198675113,
          11.928739040061288,
          8.490655930262147,
          15.035558219909216,
          15.772562430850126,
          8.801576265697172,
          13.44667081856417,
          17.101469130057946,
          10.702764817984043,
          13.718458391574288,
          14.312037740935004,
          9.327726528644053,
          8.333494397478859,
          9.410458772866491,
          12.39554355784311,
          14.835126768909642,
          11.668519263216078,
          13.642778591504465,
          9.683027302157344,
          3.116824098477643,
          10.419229283350987,
          18.665194420233714,
          15.222695688222473,
          9.326487035638689,
          11.532345738142773,
          11.39619511973821,
          11.812268603293662,
          11.676757630959061,
          10.702575533628687,
          11.742719199292118,
          10.77241978969926,
          11.779861437231341,
          10.342965259472466,
          16.026311938034468,
          9.96226164201444,
          11.424707555808109,
          11.441082198060684,
          9.82109942167068,
          9.250827027570708,
          5.7136383925185354,
          14.374242836855169,
          10.025781822372199,
          10.161277639935374,
          13.431922088967433,
          8.702979069463627,
          11.681734479309693,
          16.465819622694994,
          11.046894397234889,
          12.539477081105726,
          16.90387795394777,
          12.798523098229508,
          8.924794145941906,
          11.47047107936013,
          11.945789140780832,
          15.180712639495917,
          10.996192785314406,
          11.496072125314319,
          14.701369151688665,
          12.760164946363712,
          13.121873177398921,
          9.694747571098851,
          9.464102997663755,
          12.346445834049709,
          9.537887392848774,
          5.409325575547658,
          12.14522697570154,
          16.294379778832344,
          12.05603371812423,
          4.409129919297398,
          10.342366443640476,
          11.253283958006664,
          20.910713786714446,
          10.542822165884983,
          13.425976773576489,
          11.488694817457295,
          10.396143644618286,
          16.177020092441442,
          10.652732817513561,
          7.99340820513943,
          9.005275868541496,
          12.143925683983571,
          9.137814621511968,
          13.45031035943931,
          9.350673340565404,
          9.77123160664187,
          11.448583447659642,
          10.20863555218212,
          11.40382605958879,
          11.402508327226602,
          9.473426340160799,
          10.342419459353083,
          9.39373848132902,
          7.208371211671348,
          14.108450664739495,
          11.989333044930966,
          11.170872524117739,
          13.55131935575193,
          11.303644195508038,
          11.560272659624912,
          12.331136282232482,
          14.119038716485035,
          10.6645932035511,
          8.348666577710032,
          13.030781127408268,
          10.92831447573453,
          16.24010315886646,
          11.819273603438143,
          11.911499201314241,
          14.7829772330056,
          15.086142661692946,
          10.771255195573222,
          11.681457373445813,
          11.121748341453976,
          13.254401085909583,
          11.614804333339556,
          7.9124742108584005,
          10.283914413707224,
          9.027673029226307,
          10.885242367273642,
          11.927440185987974,
          9.249121724814563,
          14.003509240665352,
          9.445283441672792,
          11.31411935316608,
          12.688479486721878,
          13.965921457691671,
          12.409938841325213,
          13.23320554483587,
          17.48620379593644,
          14.184451783134055,
          14.28060439964843,
          12.040633075225667,
          21.458422746540144,
          10.247019905362707,
          11.552319768841285,
          15.966553786587511,
          7.563721692872386,
          10.343337396409003,
          11.71996330666162,
          10.124198633999667,
          14.143975229715629,
          9.543185935661636,
          12.545033359515534,
          12.26263169446901,
          13.569421935147105,
          13.17951843915427,
          11.845375593372044,
          16.242765499218866,
          11.153563239004944,
          10.850955123309646,
          10.989625949098635,
          11.364328068133991,
          16.518867753120233,
          8.853213839771026,
          12.135189921063573,
          5.468414914618304,
          9.630401288187588,
          7.314677212062236,
          7.862229472140049,
          15.836736062152786,
          12.066407651057744,
          11.67545907245857,
          12.593613936331137,
          10.69009474446903,
          12.90609151505761,
          14.207984925354253,
          13.608181903851031,
          10.981214913716382,
          12.348116069497813,
          12.20340309793411,
          12.169670864547479,
          13.231405038911177,
          11.812523002906763,
          13.138148652761572,
          14.03186250199811,
          16.055188902592775,
          14.425378191594952,
          10.916877832875212,
          13.527697872707979,
          11.43528144861373,
          14.315514012113793,
          11.772435776929814,
          11.264123905400067,
          17.497355941645786,
          11.387466974190716,
          11.075079067295627,
          10.796718261943237,
          11.49541594514849,
          13.005539443912967,
          5.294690892625743,
          5.32933380848593,
          13.46930369339933,
          13.071674116402546,
          8.669668423797663,
          11.53678175260381,
          12.02980041420982,
          14.559237202112744,
          10.5144453522722,
          12.210670932265854,
          11.400089081087371,
          16.313647999091977,
          12.325789070024655,
          12.605545060159494,
          12.973615743246192,
          14.772025468356837,
          18.03793370096286,
          14.409182992869205,
          10.423377784408597,
          12.241917015944582,
          11.878648181447224,
          8.403116572041672,
          15.659899783179796,
          11.425737642476484,
          10.769740761837234,
          11.841619438577014,
          11.766852958037378,
          15.33667423184176,
          12.71444836697747,
          16.29223094817373,
          8.687789863531766,
          12.112310829705644,
          12.22075314603568,
          12.256306299508672,
          10.147978013070418,
          17.450691576482786,
          15.945525876157639,
          10.809754946376978,
          13.614516619332736,
          8.859777888580913,
          12.405436823534533,
          7.194172599089998,
          12.064055931082834,
          10.237945929254986,
          7.674118073479944,
          11.13449036181426,
          13.346531832725484,
          7.678957950301944,
          13.627109392042303,
          13.601805469517679,
          14.208294730301205,
          16.32738422511695,
          13.641645661508793,
          12.896896592383753,
          10.440827237584251,
          10.840685863098853,
          9.190335097456726,
          12.143713911176132,
          14.168425167412071,
          13.845370031678426,
          7.074491385605832,
          11.3402245324912,
          13.055097417081694,
          16.691598113477895,
          13.261878682256107,
          11.31469353234916,
          10.730894644213429,
          8.20787043727863,
          12.011193389450796,
          10.344928718791067,
          18.544301077783096,
          14.632406201870234,
          10.637377375489635,
          12.19006260296947,
          11.95888018815702,
          11.130483538475836,
          13.530012932271687,
          9.174469713619152,
          7.46333054593981,
          14.053001368668568,
          12.648230476341181,
          11.042101882064518,
          15.10239508832234,
          12.058976766472258,
          11.361028795877955,
          12.099892898843528,
          17.183863156274516,
          9.434527248509093,
          15.31352899330907
         ],
         "yaxis": "y"
        }
       ],
       "layout": {
        "legend": {
         "tracegroupgap": 0
        },
        "template": {
         "data": {
          "bar": [
           {
            "error_x": {
             "color": "#2a3f5f"
            },
            "error_y": {
             "color": "#2a3f5f"
            },
            "marker": {
             "line": {
              "color": "#E5ECF6",
              "width": 0.5
             },
             "pattern": {
              "fillmode": "overlay",
              "size": 10,
              "solidity": 0.2
             }
            },
            "type": "bar"
           }
          ],
          "barpolar": [
           {
            "marker": {
             "line": {
              "color": "#E5ECF6",
              "width": 0.5
             },
             "pattern": {
              "fillmode": "overlay",
              "size": 10,
              "solidity": 0.2
             }
            },
            "type": "barpolar"
           }
          ],
          "carpet": [
           {
            "aaxis": {
             "endlinecolor": "#2a3f5f",
             "gridcolor": "white",
             "linecolor": "white",
             "minorgridcolor": "white",
             "startlinecolor": "#2a3f5f"
            },
            "baxis": {
             "endlinecolor": "#2a3f5f",
             "gridcolor": "white",
             "linecolor": "white",
             "minorgridcolor": "white",
             "startlinecolor": "#2a3f5f"
            },
            "type": "carpet"
           }
          ],
          "choropleth": [
           {
            "colorbar": {
             "outlinewidth": 0,
             "ticks": ""
            },
            "type": "choropleth"
           }
          ],
          "contour": [
           {
            "colorbar": {
             "outlinewidth": 0,
             "ticks": ""
            },
            "colorscale": [
             [
              0,
              "#0d0887"
             ],
             [
              0.1111111111111111,
              "#46039f"
             ],
             [
              0.2222222222222222,
              "#7201a8"
             ],
             [
              0.3333333333333333,
              "#9c179e"
             ],
             [
              0.4444444444444444,
              "#bd3786"
             ],
             [
              0.5555555555555556,
              "#d8576b"
             ],
             [
              0.6666666666666666,
              "#ed7953"
             ],
             [
              0.7777777777777778,
              "#fb9f3a"
             ],
             [
              0.8888888888888888,
              "#fdca26"
             ],
             [
              1,
              "#f0f921"
             ]
            ],
            "type": "contour"
           }
          ],
          "contourcarpet": [
           {
            "colorbar": {
             "outlinewidth": 0,
             "ticks": ""
            },
            "type": "contourcarpet"
           }
          ],
          "heatmap": [
           {
            "colorbar": {
             "outlinewidth": 0,
             "ticks": ""
            },
            "colorscale": [
             [
              0,
              "#0d0887"
             ],
             [
              0.1111111111111111,
              "#46039f"
             ],
             [
              0.2222222222222222,
              "#7201a8"
             ],
             [
              0.3333333333333333,
              "#9c179e"
             ],
             [
              0.4444444444444444,
              "#bd3786"
             ],
             [
              0.5555555555555556,
              "#d8576b"
             ],
             [
              0.6666666666666666,
              "#ed7953"
             ],
             [
              0.7777777777777778,
              "#fb9f3a"
             ],
             [
              0.8888888888888888,
              "#fdca26"
             ],
             [
              1,
              "#f0f921"
             ]
            ],
            "type": "heatmap"
           }
          ],
          "heatmapgl": [
           {
            "colorbar": {
             "outlinewidth": 0,
             "ticks": ""
            },
            "colorscale": [
             [
              0,
              "#0d0887"
             ],
             [
              0.1111111111111111,
              "#46039f"
             ],
             [
              0.2222222222222222,
              "#7201a8"
             ],
             [
              0.3333333333333333,
              "#9c179e"
             ],
             [
              0.4444444444444444,
              "#bd3786"
             ],
             [
              0.5555555555555556,
              "#d8576b"
             ],
             [
              0.6666666666666666,
              "#ed7953"
             ],
             [
              0.7777777777777778,
              "#fb9f3a"
             ],
             [
              0.8888888888888888,
              "#fdca26"
             ],
             [
              1,
              "#f0f921"
             ]
            ],
            "type": "heatmapgl"
           }
          ],
          "histogram": [
           {
            "marker": {
             "pattern": {
              "fillmode": "overlay",
              "size": 10,
              "solidity": 0.2
             }
            },
            "type": "histogram"
           }
          ],
          "histogram2d": [
           {
            "colorbar": {
             "outlinewidth": 0,
             "ticks": ""
            },
            "colorscale": [
             [
              0,
              "#0d0887"
             ],
             [
              0.1111111111111111,
              "#46039f"
             ],
             [
              0.2222222222222222,
              "#7201a8"
             ],
             [
              0.3333333333333333,
              "#9c179e"
             ],
             [
              0.4444444444444444,
              "#bd3786"
             ],
             [
              0.5555555555555556,
              "#d8576b"
             ],
             [
              0.6666666666666666,
              "#ed7953"
             ],
             [
              0.7777777777777778,
              "#fb9f3a"
             ],
             [
              0.8888888888888888,
              "#fdca26"
             ],
             [
              1,
              "#f0f921"
             ]
            ],
            "type": "histogram2d"
           }
          ],
          "histogram2dcontour": [
           {
            "colorbar": {
             "outlinewidth": 0,
             "ticks": ""
            },
            "colorscale": [
             [
              0,
              "#0d0887"
             ],
             [
              0.1111111111111111,
              "#46039f"
             ],
             [
              0.2222222222222222,
              "#7201a8"
             ],
             [
              0.3333333333333333,
              "#9c179e"
             ],
             [
              0.4444444444444444,
              "#bd3786"
             ],
             [
              0.5555555555555556,
              "#d8576b"
             ],
             [
              0.6666666666666666,
              "#ed7953"
             ],
             [
              0.7777777777777778,
              "#fb9f3a"
             ],
             [
              0.8888888888888888,
              "#fdca26"
             ],
             [
              1,
              "#f0f921"
             ]
            ],
            "type": "histogram2dcontour"
           }
          ],
          "mesh3d": [
           {
            "colorbar": {
             "outlinewidth": 0,
             "ticks": ""
            },
            "type": "mesh3d"
           }
          ],
          "parcoords": [
           {
            "line": {
             "colorbar": {
              "outlinewidth": 0,
              "ticks": ""
             }
            },
            "type": "parcoords"
           }
          ],
          "pie": [
           {
            "automargin": true,
            "type": "pie"
           }
          ],
          "scatter": [
           {
            "fillpattern": {
             "fillmode": "overlay",
             "size": 10,
             "solidity": 0.2
            },
            "type": "scatter"
           }
          ],
          "scatter3d": [
           {
            "line": {
             "colorbar": {
              "outlinewidth": 0,
              "ticks": ""
             }
            },
            "marker": {
             "colorbar": {
              "outlinewidth": 0,
              "ticks": ""
             }
            },
            "type": "scatter3d"
           }
          ],
          "scattercarpet": [
           {
            "marker": {
             "colorbar": {
              "outlinewidth": 0,
              "ticks": ""
             }
            },
            "type": "scattercarpet"
           }
          ],
          "scattergeo": [
           {
            "marker": {
             "colorbar": {
              "outlinewidth": 0,
              "ticks": ""
             }
            },
            "type": "scattergeo"
           }
          ],
          "scattergl": [
           {
            "marker": {
             "colorbar": {
              "outlinewidth": 0,
              "ticks": ""
             }
            },
            "type": "scattergl"
           }
          ],
          "scattermapbox": [
           {
            "marker": {
             "colorbar": {
              "outlinewidth": 0,
              "ticks": ""
             }
            },
            "type": "scattermapbox"
           }
          ],
          "scatterpolar": [
           {
            "marker": {
             "colorbar": {
              "outlinewidth": 0,
              "ticks": ""
             }
            },
            "type": "scatterpolar"
           }
          ],
          "scatterpolargl": [
           {
            "marker": {
             "colorbar": {
              "outlinewidth": 0,
              "ticks": ""
             }
            },
            "type": "scatterpolargl"
           }
          ],
          "scatterternary": [
           {
            "marker": {
             "colorbar": {
              "outlinewidth": 0,
              "ticks": ""
             }
            },
            "type": "scatterternary"
           }
          ],
          "surface": [
           {
            "colorbar": {
             "outlinewidth": 0,
             "ticks": ""
            },
            "colorscale": [
             [
              0,
              "#0d0887"
             ],
             [
              0.1111111111111111,
              "#46039f"
             ],
             [
              0.2222222222222222,
              "#7201a8"
             ],
             [
              0.3333333333333333,
              "#9c179e"
             ],
             [
              0.4444444444444444,
              "#bd3786"
             ],
             [
              0.5555555555555556,
              "#d8576b"
             ],
             [
              0.6666666666666666,
              "#ed7953"
             ],
             [
              0.7777777777777778,
              "#fb9f3a"
             ],
             [
              0.8888888888888888,
              "#fdca26"
             ],
             [
              1,
              "#f0f921"
             ]
            ],
            "type": "surface"
           }
          ],
          "table": [
           {
            "cells": {
             "fill": {
              "color": "#EBF0F8"
             },
             "line": {
              "color": "white"
             }
            },
            "header": {
             "fill": {
              "color": "#C8D4E3"
             },
             "line": {
              "color": "white"
             }
            },
            "type": "table"
           }
          ]
         },
         "layout": {
          "annotationdefaults": {
           "arrowcolor": "#2a3f5f",
           "arrowhead": 0,
           "arrowwidth": 1
          },
          "autotypenumbers": "strict",
          "coloraxis": {
           "colorbar": {
            "outlinewidth": 0,
            "ticks": ""
           }
          },
          "colorscale": {
           "diverging": [
            [
             0,
             "#8e0152"
            ],
            [
             0.1,
             "#c51b7d"
            ],
            [
             0.2,
             "#de77ae"
            ],
            [
             0.3,
             "#f1b6da"
            ],
            [
             0.4,
             "#fde0ef"
            ],
            [
             0.5,
             "#f7f7f7"
            ],
            [
             0.6,
             "#e6f5d0"
            ],
            [
             0.7,
             "#b8e186"
            ],
            [
             0.8,
             "#7fbc41"
            ],
            [
             0.9,
             "#4d9221"
            ],
            [
             1,
             "#276419"
            ]
           ],
           "sequential": [
            [
             0,
             "#0d0887"
            ],
            [
             0.1111111111111111,
             "#46039f"
            ],
            [
             0.2222222222222222,
             "#7201a8"
            ],
            [
             0.3333333333333333,
             "#9c179e"
            ],
            [
             0.4444444444444444,
             "#bd3786"
            ],
            [
             0.5555555555555556,
             "#d8576b"
            ],
            [
             0.6666666666666666,
             "#ed7953"
            ],
            [
             0.7777777777777778,
             "#fb9f3a"
            ],
            [
             0.8888888888888888,
             "#fdca26"
            ],
            [
             1,
             "#f0f921"
            ]
           ],
           "sequentialminus": [
            [
             0,
             "#0d0887"
            ],
            [
             0.1111111111111111,
             "#46039f"
            ],
            [
             0.2222222222222222,
             "#7201a8"
            ],
            [
             0.3333333333333333,
             "#9c179e"
            ],
            [
             0.4444444444444444,
             "#bd3786"
            ],
            [
             0.5555555555555556,
             "#d8576b"
            ],
            [
             0.6666666666666666,
             "#ed7953"
            ],
            [
             0.7777777777777778,
             "#fb9f3a"
            ],
            [
             0.8888888888888888,
             "#fdca26"
            ],
            [
             1,
             "#f0f921"
            ]
           ]
          },
          "colorway": [
           "#636efa",
           "#EF553B",
           "#00cc96",
           "#ab63fa",
           "#FFA15A",
           "#19d3f3",
           "#FF6692",
           "#B6E880",
           "#FF97FF",
           "#FECB52"
          ],
          "font": {
           "color": "#2a3f5f"
          },
          "geo": {
           "bgcolor": "white",
           "lakecolor": "white",
           "landcolor": "#E5ECF6",
           "showlakes": true,
           "showland": true,
           "subunitcolor": "white"
          },
          "hoverlabel": {
           "align": "left"
          },
          "hovermode": "closest",
          "mapbox": {
           "style": "light"
          },
          "paper_bgcolor": "white",
          "plot_bgcolor": "#E5ECF6",
          "polar": {
           "angularaxis": {
            "gridcolor": "white",
            "linecolor": "white",
            "ticks": ""
           },
           "bgcolor": "#E5ECF6",
           "radialaxis": {
            "gridcolor": "white",
            "linecolor": "white",
            "ticks": ""
           }
          },
          "scene": {
           "xaxis": {
            "backgroundcolor": "#E5ECF6",
            "gridcolor": "white",
            "gridwidth": 2,
            "linecolor": "white",
            "showbackground": true,
            "ticks": "",
            "zerolinecolor": "white"
           },
           "yaxis": {
            "backgroundcolor": "#E5ECF6",
            "gridcolor": "white",
            "gridwidth": 2,
            "linecolor": "white",
            "showbackground": true,
            "ticks": "",
            "zerolinecolor": "white"
           },
           "zaxis": {
            "backgroundcolor": "#E5ECF6",
            "gridcolor": "white",
            "gridwidth": 2,
            "linecolor": "white",
            "showbackground": true,
            "ticks": "",
            "zerolinecolor": "white"
           }
          },
          "shapedefaults": {
           "line": {
            "color": "#2a3f5f"
           }
          },
          "ternary": {
           "aaxis": {
            "gridcolor": "white",
            "linecolor": "white",
            "ticks": ""
           },
           "baxis": {
            "gridcolor": "white",
            "linecolor": "white",
            "ticks": ""
           },
           "bgcolor": "#E5ECF6",
           "caxis": {
            "gridcolor": "white",
            "linecolor": "white",
            "ticks": ""
           }
          },
          "title": {
           "x": 0.05
          },
          "xaxis": {
           "automargin": true,
           "gridcolor": "white",
           "linecolor": "white",
           "ticks": "",
           "title": {
            "standoff": 15
           },
           "zerolinecolor": "white",
           "zerolinewidth": 2
          },
          "yaxis": {
           "automargin": true,
           "gridcolor": "white",
           "linecolor": "white",
           "ticks": "",
           "title": {
            "standoff": 15
           },
           "zerolinecolor": "white",
           "zerolinewidth": 2
          }
         }
        },
        "title": {
         "text": "y_train vs y_pred_train"
        },
        "xaxis": {
         "anchor": "y",
         "domain": [
          0,
          1
         ],
         "title": {
          "text": "y_train"
         }
        },
        "yaxis": {
         "anchor": "x",
         "domain": [
          0,
          1
         ],
         "title": {
          "text": "y_pred_train"
         }
        }
       }
      },
      "text/html": [
       "<div>                            <div id=\"c32a578e-825a-4689-ace8-517655f6e4ab\" class=\"plotly-graph-div\" style=\"height:525px; width:100%;\"></div>            <script type=\"text/javascript\">                require([\"plotly\"], function(Plotly) {                    window.PLOTLYENV=window.PLOTLYENV || {};                                    if (document.getElementById(\"c32a578e-825a-4689-ace8-517655f6e4ab\")) {                    Plotly.newPlot(                        \"c32a578e-825a-4689-ace8-517655f6e4ab\",                        [{\"hovertemplate\":\"y_train=%{x}<br>y_pred_train=%{y}<extra></extra>\",\"legendgroup\":\"\",\"marker\":{\"color\":\"#636efa\",\"symbol\":\"circle\"},\"mode\":\"markers\",\"name\":\"\",\"orientation\":\"v\",\"showlegend\":false,\"x\":[32,1,7,5,36,5,9,6,3,2,30,11,4,5,18,10,6,10,3,2,34,12,4,5,11,10,23,5,19,4,15,10,35,3,8,4,13,2,18,6,2,28,19,8,10,8,7,7,9,13,4,5,5,53,13,14,9,3,17,33,4,5,33,6,41,7,10,6,34,10,6,7,3,9,10,16,15,3,2,3,23,9,4,10,4,33,19,7,4,10,13,15,13,21,4,1,9,34,20,7,12,4,6,4,3,14,4,2,4,2,29,10,21,16,1,6,8,5,17,8,3,7,15,8,37,36,8,8,11,6,44,8,17,9,2,5,5,2,16,11,6,8,10,12,3,3,2,49,10,8,7,7,12,9,10,3,3,3,6,4,20,8,10,10,19,5,7,5,11,6,3,19,1,19,10,8,42,17,16,12,30,12,33,17,13,59,3,8,12,3,11,6,12,6,3,3,10,3,7,8,8,5,4,9,81,14,18,10,32,6,8,33,25,16,9,3,2,3,29,6,10,10,4,10,5,5,4,25,5,3,3,3,8,14,11,7,3,12,60,3,7,13,26,6,1,8,18,13,9,4,6,24,9,3,6,2,5,6,26,39,10,11,8,13,7,7,8,25,5,5,2,12,5,39,9,18,14,22,6,3,5,43,8,2,4,3,8,6,14,10,13,34,20,39,10,2,12,21,11,11,22,7,7,5,3,6,6,9,4,9,13,13,4,7,5,12,38,2,42,12,8,7,3,57,16,8,9,7,42,44,2,7,9,1,17,11,22,6,12,8,6,10,6,6,13,7,4,9,3,7,7,27,8,22],\"xaxis\":\"x\",\"y\":[12.86080346042962,10.159782731355289,10.313512056631781,16.45250114785295,12.812012016585586,10.67130736625661,9.420349594263747,15.090035993854409,11.822252737351507,10.384622769565711,12.09370168015855,10.611902220205499,13.819332743089259,13.75681820512756,12.049417354904152,12.262286760394346,11.550593211007259,12.722234586735548,6.919609241029244,7.473025578338367,11.310792453389274,12.095862445606349,12.470490619296788,6.712634560327047,7.08632274878182,13.399886606078567,14.002632447906112,11.850353964601828,13.61145500432538,8.304199274371982,12.093475498753632,11.859179953501862,13.128334591753749,7.965587364141484,11.161825055805823,12.254620869350646,15.363028812126444,9.390409868966483,13.33554998570793,12.515546435392404,11.786692733717343,20.43112643308195,14.295837040706097,7.54361919040607,13.559130423553519,7.847744042709536,8.313218702523999,9.956550890816908,14.478163155186362,10.789303796252232,10.7414032625489,11.469143486009315,12.311728206173324,19.376280349379243,14.080524936742364,15.712263422345526,13.738678019368805,6.970218295662317,8.975074481762812,15.619030025976482,12.67376496046953,6.839108391053173,12.869876477409534,19.408638822733668,14.65459355486922,7.795118625796138,14.019668552164323,13.829180890434344,18.32476951842541,9.497187209597088,11.615185192069884,14.445361363104043,14.909903325988585,8.357447551600718,10.592206686529321,15.156841043221581,10.799090198675113,11.928739040061288,8.490655930262147,15.035558219909216,15.772562430850126,8.801576265697172,13.44667081856417,17.101469130057946,10.702764817984043,13.718458391574288,14.312037740935004,9.327726528644053,8.333494397478859,9.410458772866491,12.39554355784311,14.835126768909642,11.668519263216078,13.642778591504465,9.683027302157344,3.116824098477643,10.419229283350987,18.665194420233714,15.222695688222473,9.326487035638689,11.532345738142773,11.39619511973821,11.812268603293662,11.676757630959061,10.702575533628687,11.742719199292118,10.77241978969926,11.779861437231341,10.342965259472466,16.026311938034468,9.96226164201444,11.424707555808109,11.441082198060684,9.82109942167068,9.250827027570708,5.7136383925185354,14.374242836855169,10.025781822372199,10.161277639935374,13.431922088967433,8.702979069463627,11.681734479309693,16.465819622694994,11.046894397234889,12.539477081105726,16.90387795394777,12.798523098229508,8.924794145941906,11.47047107936013,11.945789140780832,15.180712639495917,10.996192785314406,11.496072125314319,14.701369151688665,12.760164946363712,13.121873177398921,9.694747571098851,9.464102997663755,12.346445834049709,9.537887392848774,5.409325575547658,12.14522697570154,16.294379778832344,12.05603371812423,4.409129919297398,10.342366443640476,11.253283958006664,20.910713786714446,10.542822165884983,13.425976773576489,11.488694817457295,10.396143644618286,16.177020092441442,10.652732817513561,7.99340820513943,9.005275868541496,12.143925683983571,9.137814621511968,13.45031035943931,9.350673340565404,9.77123160664187,11.448583447659642,10.20863555218212,11.40382605958879,11.402508327226602,9.473426340160799,10.342419459353083,9.39373848132902,7.208371211671348,14.108450664739495,11.989333044930966,11.170872524117739,13.55131935575193,11.303644195508038,11.560272659624912,12.331136282232482,14.119038716485035,10.6645932035511,8.348666577710032,13.030781127408268,10.92831447573453,16.24010315886646,11.819273603438143,11.911499201314241,14.7829772330056,15.086142661692946,10.771255195573222,11.681457373445813,11.121748341453976,13.254401085909583,11.614804333339556,7.9124742108584005,10.283914413707224,9.027673029226307,10.885242367273642,11.927440185987974,9.249121724814563,14.003509240665352,9.445283441672792,11.31411935316608,12.688479486721878,13.965921457691671,12.409938841325213,13.23320554483587,17.48620379593644,14.184451783134055,14.28060439964843,12.040633075225667,21.458422746540144,10.247019905362707,11.552319768841285,15.966553786587511,7.563721692872386,10.343337396409003,11.71996330666162,10.124198633999667,14.143975229715629,9.543185935661636,12.545033359515534,12.26263169446901,13.569421935147105,13.17951843915427,11.845375593372044,16.242765499218866,11.153563239004944,10.850955123309646,10.989625949098635,11.364328068133991,16.518867753120233,8.853213839771026,12.135189921063573,5.468414914618304,9.630401288187588,7.314677212062236,7.862229472140049,15.836736062152786,12.066407651057744,11.67545907245857,12.593613936331137,10.69009474446903,12.90609151505761,14.207984925354253,13.608181903851031,10.981214913716382,12.348116069497813,12.20340309793411,12.169670864547479,13.231405038911177,11.812523002906763,13.138148652761572,14.03186250199811,16.055188902592775,14.425378191594952,10.916877832875212,13.527697872707979,11.43528144861373,14.315514012113793,11.772435776929814,11.264123905400067,17.497355941645786,11.387466974190716,11.075079067295627,10.796718261943237,11.49541594514849,13.005539443912967,5.294690892625743,5.32933380848593,13.46930369339933,13.071674116402546,8.669668423797663,11.53678175260381,12.02980041420982,14.559237202112744,10.5144453522722,12.210670932265854,11.400089081087371,16.313647999091977,12.325789070024655,12.605545060159494,12.973615743246192,14.772025468356837,18.03793370096286,14.409182992869205,10.423377784408597,12.241917015944582,11.878648181447224,8.403116572041672,15.659899783179796,11.425737642476484,10.769740761837234,11.841619438577014,11.766852958037378,15.33667423184176,12.71444836697747,16.29223094817373,8.687789863531766,12.112310829705644,12.22075314603568,12.256306299508672,10.147978013070418,17.450691576482786,15.945525876157639,10.809754946376978,13.614516619332736,8.859777888580913,12.405436823534533,7.194172599089998,12.064055931082834,10.237945929254986,7.674118073479944,11.13449036181426,13.346531832725484,7.678957950301944,13.627109392042303,13.601805469517679,14.208294730301205,16.32738422511695,13.641645661508793,12.896896592383753,10.440827237584251,10.840685863098853,9.190335097456726,12.143713911176132,14.168425167412071,13.845370031678426,7.074491385605832,11.3402245324912,13.055097417081694,16.691598113477895,13.261878682256107,11.31469353234916,10.730894644213429,8.20787043727863,12.011193389450796,10.344928718791067,18.544301077783096,14.632406201870234,10.637377375489635,12.19006260296947,11.95888018815702,11.130483538475836,13.530012932271687,9.174469713619152,7.46333054593981,14.053001368668568,12.648230476341181,11.042101882064518,15.10239508832234,12.058976766472258,11.361028795877955,12.099892898843528,17.183863156274516,9.434527248509093,15.31352899330907],\"yaxis\":\"y\",\"type\":\"scatter\"}],                        {\"template\":{\"data\":{\"histogram2dcontour\":[{\"type\":\"histogram2dcontour\",\"colorbar\":{\"outlinewidth\":0,\"ticks\":\"\"},\"colorscale\":[[0.0,\"#0d0887\"],[0.1111111111111111,\"#46039f\"],[0.2222222222222222,\"#7201a8\"],[0.3333333333333333,\"#9c179e\"],[0.4444444444444444,\"#bd3786\"],[0.5555555555555556,\"#d8576b\"],[0.6666666666666666,\"#ed7953\"],[0.7777777777777778,\"#fb9f3a\"],[0.8888888888888888,\"#fdca26\"],[1.0,\"#f0f921\"]]}],\"choropleth\":[{\"type\":\"choropleth\",\"colorbar\":{\"outlinewidth\":0,\"ticks\":\"\"}}],\"histogram2d\":[{\"type\":\"histogram2d\",\"colorbar\":{\"outlinewidth\":0,\"ticks\":\"\"},\"colorscale\":[[0.0,\"#0d0887\"],[0.1111111111111111,\"#46039f\"],[0.2222222222222222,\"#7201a8\"],[0.3333333333333333,\"#9c179e\"],[0.4444444444444444,\"#bd3786\"],[0.5555555555555556,\"#d8576b\"],[0.6666666666666666,\"#ed7953\"],[0.7777777777777778,\"#fb9f3a\"],[0.8888888888888888,\"#fdca26\"],[1.0,\"#f0f921\"]]}],\"heatmap\":[{\"type\":\"heatmap\",\"colorbar\":{\"outlinewidth\":0,\"ticks\":\"\"},\"colorscale\":[[0.0,\"#0d0887\"],[0.1111111111111111,\"#46039f\"],[0.2222222222222222,\"#7201a8\"],[0.3333333333333333,\"#9c179e\"],[0.4444444444444444,\"#bd3786\"],[0.5555555555555556,\"#d8576b\"],[0.6666666666666666,\"#ed7953\"],[0.7777777777777778,\"#fb9f3a\"],[0.8888888888888888,\"#fdca26\"],[1.0,\"#f0f921\"]]}],\"heatmapgl\":[{\"type\":\"heatmapgl\",\"colorbar\":{\"outlinewidth\":0,\"ticks\":\"\"},\"colorscale\":[[0.0,\"#0d0887\"],[0.1111111111111111,\"#46039f\"],[0.2222222222222222,\"#7201a8\"],[0.3333333333333333,\"#9c179e\"],[0.4444444444444444,\"#bd3786\"],[0.5555555555555556,\"#d8576b\"],[0.6666666666666666,\"#ed7953\"],[0.7777777777777778,\"#fb9f3a\"],[0.8888888888888888,\"#fdca26\"],[1.0,\"#f0f921\"]]}],\"contourcarpet\":[{\"type\":\"contourcarpet\",\"colorbar\":{\"outlinewidth\":0,\"ticks\":\"\"}}],\"contour\":[{\"type\":\"contour\",\"colorbar\":{\"outlinewidth\":0,\"ticks\":\"\"},\"colorscale\":[[0.0,\"#0d0887\"],[0.1111111111111111,\"#46039f\"],[0.2222222222222222,\"#7201a8\"],[0.3333333333333333,\"#9c179e\"],[0.4444444444444444,\"#bd3786\"],[0.5555555555555556,\"#d8576b\"],[0.6666666666666666,\"#ed7953\"],[0.7777777777777778,\"#fb9f3a\"],[0.8888888888888888,\"#fdca26\"],[1.0,\"#f0f921\"]]}],\"surface\":[{\"type\":\"surface\",\"colorbar\":{\"outlinewidth\":0,\"ticks\":\"\"},\"colorscale\":[[0.0,\"#0d0887\"],[0.1111111111111111,\"#46039f\"],[0.2222222222222222,\"#7201a8\"],[0.3333333333333333,\"#9c179e\"],[0.4444444444444444,\"#bd3786\"],[0.5555555555555556,\"#d8576b\"],[0.6666666666666666,\"#ed7953\"],[0.7777777777777778,\"#fb9f3a\"],[0.8888888888888888,\"#fdca26\"],[1.0,\"#f0f921\"]]}],\"mesh3d\":[{\"type\":\"mesh3d\",\"colorbar\":{\"outlinewidth\":0,\"ticks\":\"\"}}],\"scatter\":[{\"fillpattern\":{\"fillmode\":\"overlay\",\"size\":10,\"solidity\":0.2},\"type\":\"scatter\"}],\"parcoords\":[{\"type\":\"parcoords\",\"line\":{\"colorbar\":{\"outlinewidth\":0,\"ticks\":\"\"}}}],\"scatterpolargl\":[{\"type\":\"scatterpolargl\",\"marker\":{\"colorbar\":{\"outlinewidth\":0,\"ticks\":\"\"}}}],\"bar\":[{\"error_x\":{\"color\":\"#2a3f5f\"},\"error_y\":{\"color\":\"#2a3f5f\"},\"marker\":{\"line\":{\"color\":\"#E5ECF6\",\"width\":0.5},\"pattern\":{\"fillmode\":\"overlay\",\"size\":10,\"solidity\":0.2}},\"type\":\"bar\"}],\"scattergeo\":[{\"type\":\"scattergeo\",\"marker\":{\"colorbar\":{\"outlinewidth\":0,\"ticks\":\"\"}}}],\"scatterpolar\":[{\"type\":\"scatterpolar\",\"marker\":{\"colorbar\":{\"outlinewidth\":0,\"ticks\":\"\"}}}],\"histogram\":[{\"marker\":{\"pattern\":{\"fillmode\":\"overlay\",\"size\":10,\"solidity\":0.2}},\"type\":\"histogram\"}],\"scattergl\":[{\"type\":\"scattergl\",\"marker\":{\"colorbar\":{\"outlinewidth\":0,\"ticks\":\"\"}}}],\"scatter3d\":[{\"type\":\"scatter3d\",\"line\":{\"colorbar\":{\"outlinewidth\":0,\"ticks\":\"\"}},\"marker\":{\"colorbar\":{\"outlinewidth\":0,\"ticks\":\"\"}}}],\"scattermapbox\":[{\"type\":\"scattermapbox\",\"marker\":{\"colorbar\":{\"outlinewidth\":0,\"ticks\":\"\"}}}],\"scatterternary\":[{\"type\":\"scatterternary\",\"marker\":{\"colorbar\":{\"outlinewidth\":0,\"ticks\":\"\"}}}],\"scattercarpet\":[{\"type\":\"scattercarpet\",\"marker\":{\"colorbar\":{\"outlinewidth\":0,\"ticks\":\"\"}}}],\"carpet\":[{\"aaxis\":{\"endlinecolor\":\"#2a3f5f\",\"gridcolor\":\"white\",\"linecolor\":\"white\",\"minorgridcolor\":\"white\",\"startlinecolor\":\"#2a3f5f\"},\"baxis\":{\"endlinecolor\":\"#2a3f5f\",\"gridcolor\":\"white\",\"linecolor\":\"white\",\"minorgridcolor\":\"white\",\"startlinecolor\":\"#2a3f5f\"},\"type\":\"carpet\"}],\"table\":[{\"cells\":{\"fill\":{\"color\":\"#EBF0F8\"},\"line\":{\"color\":\"white\"}},\"header\":{\"fill\":{\"color\":\"#C8D4E3\"},\"line\":{\"color\":\"white\"}},\"type\":\"table\"}],\"barpolar\":[{\"marker\":{\"line\":{\"color\":\"#E5ECF6\",\"width\":0.5},\"pattern\":{\"fillmode\":\"overlay\",\"size\":10,\"solidity\":0.2}},\"type\":\"barpolar\"}],\"pie\":[{\"automargin\":true,\"type\":\"pie\"}]},\"layout\":{\"autotypenumbers\":\"strict\",\"colorway\":[\"#636efa\",\"#EF553B\",\"#00cc96\",\"#ab63fa\",\"#FFA15A\",\"#19d3f3\",\"#FF6692\",\"#B6E880\",\"#FF97FF\",\"#FECB52\"],\"font\":{\"color\":\"#2a3f5f\"},\"hovermode\":\"closest\",\"hoverlabel\":{\"align\":\"left\"},\"paper_bgcolor\":\"white\",\"plot_bgcolor\":\"#E5ECF6\",\"polar\":{\"bgcolor\":\"#E5ECF6\",\"angularaxis\":{\"gridcolor\":\"white\",\"linecolor\":\"white\",\"ticks\":\"\"},\"radialaxis\":{\"gridcolor\":\"white\",\"linecolor\":\"white\",\"ticks\":\"\"}},\"ternary\":{\"bgcolor\":\"#E5ECF6\",\"aaxis\":{\"gridcolor\":\"white\",\"linecolor\":\"white\",\"ticks\":\"\"},\"baxis\":{\"gridcolor\":\"white\",\"linecolor\":\"white\",\"ticks\":\"\"},\"caxis\":{\"gridcolor\":\"white\",\"linecolor\":\"white\",\"ticks\":\"\"}},\"coloraxis\":{\"colorbar\":{\"outlinewidth\":0,\"ticks\":\"\"}},\"colorscale\":{\"sequential\":[[0.0,\"#0d0887\"],[0.1111111111111111,\"#46039f\"],[0.2222222222222222,\"#7201a8\"],[0.3333333333333333,\"#9c179e\"],[0.4444444444444444,\"#bd3786\"],[0.5555555555555556,\"#d8576b\"],[0.6666666666666666,\"#ed7953\"],[0.7777777777777778,\"#fb9f3a\"],[0.8888888888888888,\"#fdca26\"],[1.0,\"#f0f921\"]],\"sequentialminus\":[[0.0,\"#0d0887\"],[0.1111111111111111,\"#46039f\"],[0.2222222222222222,\"#7201a8\"],[0.3333333333333333,\"#9c179e\"],[0.4444444444444444,\"#bd3786\"],[0.5555555555555556,\"#d8576b\"],[0.6666666666666666,\"#ed7953\"],[0.7777777777777778,\"#fb9f3a\"],[0.8888888888888888,\"#fdca26\"],[1.0,\"#f0f921\"]],\"diverging\":[[0,\"#8e0152\"],[0.1,\"#c51b7d\"],[0.2,\"#de77ae\"],[0.3,\"#f1b6da\"],[0.4,\"#fde0ef\"],[0.5,\"#f7f7f7\"],[0.6,\"#e6f5d0\"],[0.7,\"#b8e186\"],[0.8,\"#7fbc41\"],[0.9,\"#4d9221\"],[1,\"#276419\"]]},\"xaxis\":{\"gridcolor\":\"white\",\"linecolor\":\"white\",\"ticks\":\"\",\"title\":{\"standoff\":15},\"zerolinecolor\":\"white\",\"automargin\":true,\"zerolinewidth\":2},\"yaxis\":{\"gridcolor\":\"white\",\"linecolor\":\"white\",\"ticks\":\"\",\"title\":{\"standoff\":15},\"zerolinecolor\":\"white\",\"automargin\":true,\"zerolinewidth\":2},\"scene\":{\"xaxis\":{\"backgroundcolor\":\"#E5ECF6\",\"gridcolor\":\"white\",\"linecolor\":\"white\",\"showbackground\":true,\"ticks\":\"\",\"zerolinecolor\":\"white\",\"gridwidth\":2},\"yaxis\":{\"backgroundcolor\":\"#E5ECF6\",\"gridcolor\":\"white\",\"linecolor\":\"white\",\"showbackground\":true,\"ticks\":\"\",\"zerolinecolor\":\"white\",\"gridwidth\":2},\"zaxis\":{\"backgroundcolor\":\"#E5ECF6\",\"gridcolor\":\"white\",\"linecolor\":\"white\",\"showbackground\":true,\"ticks\":\"\",\"zerolinecolor\":\"white\",\"gridwidth\":2}},\"shapedefaults\":{\"line\":{\"color\":\"#2a3f5f\"}},\"annotationdefaults\":{\"arrowcolor\":\"#2a3f5f\",\"arrowhead\":0,\"arrowwidth\":1},\"geo\":{\"bgcolor\":\"white\",\"landcolor\":\"#E5ECF6\",\"subunitcolor\":\"white\",\"showland\":true,\"showlakes\":true,\"lakecolor\":\"white\"},\"title\":{\"x\":0.05},\"mapbox\":{\"style\":\"light\"}}},\"xaxis\":{\"anchor\":\"y\",\"domain\":[0.0,1.0],\"title\":{\"text\":\"y_train\"}},\"yaxis\":{\"anchor\":\"x\",\"domain\":[0.0,1.0],\"title\":{\"text\":\"y_pred_train\"}},\"legend\":{\"tracegroupgap\":0},\"title\":{\"text\":\"y_train vs y_pred_train\"}},                        {\"responsive\": true}                    ).then(function(){\n",
       "                            \n",
       "var gd = document.getElementById('c32a578e-825a-4689-ace8-517655f6e4ab');\n",
       "var x = new MutationObserver(function (mutations, observer) {{\n",
       "        var display = window.getComputedStyle(gd).display;\n",
       "        if (!display || display === 'none') {{\n",
       "            console.log([gd, 'removed!']);\n",
       "            Plotly.purge(gd);\n",
       "            observer.disconnect();\n",
       "        }}\n",
       "}});\n",
       "\n",
       "// Listen for the removal of the full notebook cells\n",
       "var notebookContainer = gd.closest('#notebook-container');\n",
       "if (notebookContainer) {{\n",
       "    x.observe(notebookContainer, {childList: true});\n",
       "}}\n",
       "\n",
       "// Listen for the clearing of the current output cell\n",
       "var outputEl = gd.closest('.output');\n",
       "if (outputEl) {{\n",
       "    x.observe(outputEl, {childList: true});\n",
       "}}\n",
       "\n",
       "                        })                };                });            </script>        </div>"
      ]
     },
     "metadata": {},
     "output_type": "display_data"
    },
    {
     "data": {
      "application/vnd.plotly.v1+json": {
       "config": {
        "plotlyServerURL": "https://plot.ly"
       },
       "data": [
        {
         "hovertemplate": "y_test=%{x}<br>y_pred_test=%{y}<extra></extra>",
         "legendgroup": "",
         "marker": {
          "color": "green",
          "symbol": "circle"
         },
         "mode": "markers",
         "name": "",
         "orientation": "v",
         "showlegend": false,
         "type": "scatter",
         "x": [
          4,
          22,
          4,
          15,
          34,
          4,
          8,
          3,
          4,
          4,
          1,
          29,
          4,
          17,
          10,
          26,
          7,
          13,
          2,
          25,
          21,
          12,
          2,
          2,
          28,
          7,
          38,
          31,
          1,
          18,
          19,
          17,
          25,
          8,
          10,
          2,
          7,
          37,
          8,
          1,
          12,
          43,
          13,
          19,
          10,
          2,
          7,
          2,
          6,
          21,
          8,
          9,
          12,
          22,
          5,
          8,
          27,
          3,
          5,
          9,
          3,
          7,
          10,
          7,
          8,
          35,
          3,
          5,
          38,
          10,
          40,
          5,
          2,
          52,
          14,
          16,
          16,
          21,
          25,
          12,
          5,
          9,
          15,
          17,
          10,
          4,
          5,
          24,
          38,
          9,
          9,
          9,
          9,
          3,
          15,
          2,
          5,
          13,
          10,
          7,
          58,
          4,
          7,
          15,
          2,
          9,
          2,
          6,
          23,
          5,
          4,
          13,
          24,
          7,
          3,
          3,
          3,
          8,
          9,
          8,
          3,
          8,
          17,
          42,
          5,
          11,
          3,
          24,
          2,
          16,
          9,
          6,
          5,
          37,
          8,
          4,
          69,
          5,
          4,
          6,
          11,
          14,
          6,
          12,
          28,
          6,
          12,
          10,
          72,
          41,
          24,
          11
         ],
         "xaxis": "x",
         "y": [
          8.670919559611011,
          12.936529077932397,
          11.411882286843795,
          14.418274415198553,
          14.660345144446072,
          12.290844504669376,
          11.851990092930453,
          10.476227876891127,
          13.131284846052798,
          4.832422276324397,
          13.607487283000424,
          13.232056402516163,
          11.201834926348498,
          12.533050199209018,
          8.527914202878911,
          14.122837344581209,
          10.409459275093027,
          10.010527234360755,
          8.857798531695959,
          16.525372600003216,
          10.121411740848746,
          15.098769582429505,
          13.056033330904445,
          12.637266686756979,
          13.379830582327758,
          13.117652562267578,
          9.33806418782906,
          12.198085578223878,
          12.47232040253855,
          17.066262384201096,
          11.466153493341194,
          11.292845229113684,
          11.764987983196828,
          12.24422777328441,
          12.885272385122155,
          14.105159985257796,
          12.158106460560099,
          10.89270671408212,
          12.433859836849207,
          10.636741512120526,
          10.72078534577521,
          12.649898778883633,
          7.388695535308475,
          11.700776104728606,
          12.354517881163172,
          12.383555528517945,
          12.445119592011473,
          12.10868130026974,
          17.788953155416095,
          13.628296512345518,
          12.156109469821232,
          14.101508730338987,
          12.190235416780384,
          12.974577652468474,
          8.449561264092857,
          11.912920233915703,
          21.329735374219915,
          13.927142127019458,
          8.875990915614771,
          10.155389174269922,
          12.286108021345784,
          14.211620389950172,
          13.813215268731325,
          8.718516419235396,
          14.025641035183995,
          10.159027622328875,
          10.565572949195788,
          7.84448377684747,
          9.077677691291859,
          11.035999613943682,
          12.288047018799247,
          11.188925655977346,
          3.899702687437438,
          11.844801145991582,
          11.960738306852484,
          12.010079964793016,
          11.421879710034657,
          12.182048635579848,
          11.231410449753666,
          9.969527580235853,
          13.21134963878267,
          7.553796739225644,
          12.526051111214324,
          14.09158439784829,
          9.566945464349981,
          14.427650167303462,
          12.436734122247154,
          13.878342946645391,
          11.671921505723509,
          13.25350602244403,
          11.900126453075597,
          7.658436138213441,
          10.50358929971273,
          8.34233952125713,
          11.160029788323506,
          15.934726917458239,
          8.203699412530415,
          11.558671052427387,
          10.916140152457222,
          7.577716430520649,
          8.71521517864239,
          10.78578359753256,
          12.404181061248192,
          10.332358260030102,
          12.25817712383843,
          10.49472964250083,
          11.045050151945475,
          16.32634755328527,
          12.913685899272828,
          9.352414068790155,
          17.306780781052595,
          3.9460369547746748,
          14.503029642902597,
          13.55720484421322,
          11.305108114086915,
          15.347488184446103,
          13.530218258841469,
          10.533262592823906,
          5.285655791518066,
          11.488633202025227,
          7.763459309508791,
          7.671836900320016,
          10.964750131526692,
          10.592537218492135,
          12.133250650520525,
          15.077186046246442,
          11.101272519426765,
          11.942980667022942,
          12.813651997229993,
          10.865126359213923,
          12.169225532837952,
          11.194227551408732,
          11.423391714756574,
          11.352216307628433,
          7.10732693347322,
          10.05843861889499,
          11.29625883564672,
          13.637792080773789,
          11.613984225900944,
          17.39579585318962,
          12.403739996944534,
          10.615980007961248,
          16.20129686291449,
          10.113846234035968,
          13.485145454404215,
          10.209588739175363,
          10.86763229049302,
          11.745584865812173,
          12.694804745950893,
          9.650731498147874,
          13.43849812517819,
          8.18798607327249
         ],
         "yaxis": "y"
        }
       ],
       "layout": {
        "legend": {
         "tracegroupgap": 0
        },
        "template": {
         "data": {
          "bar": [
           {
            "error_x": {
             "color": "#2a3f5f"
            },
            "error_y": {
             "color": "#2a3f5f"
            },
            "marker": {
             "line": {
              "color": "#E5ECF6",
              "width": 0.5
             },
             "pattern": {
              "fillmode": "overlay",
              "size": 10,
              "solidity": 0.2
             }
            },
            "type": "bar"
           }
          ],
          "barpolar": [
           {
            "marker": {
             "line": {
              "color": "#E5ECF6",
              "width": 0.5
             },
             "pattern": {
              "fillmode": "overlay",
              "size": 10,
              "solidity": 0.2
             }
            },
            "type": "barpolar"
           }
          ],
          "carpet": [
           {
            "aaxis": {
             "endlinecolor": "#2a3f5f",
             "gridcolor": "white",
             "linecolor": "white",
             "minorgridcolor": "white",
             "startlinecolor": "#2a3f5f"
            },
            "baxis": {
             "endlinecolor": "#2a3f5f",
             "gridcolor": "white",
             "linecolor": "white",
             "minorgridcolor": "white",
             "startlinecolor": "#2a3f5f"
            },
            "type": "carpet"
           }
          ],
          "choropleth": [
           {
            "colorbar": {
             "outlinewidth": 0,
             "ticks": ""
            },
            "type": "choropleth"
           }
          ],
          "contour": [
           {
            "colorbar": {
             "outlinewidth": 0,
             "ticks": ""
            },
            "colorscale": [
             [
              0,
              "#0d0887"
             ],
             [
              0.1111111111111111,
              "#46039f"
             ],
             [
              0.2222222222222222,
              "#7201a8"
             ],
             [
              0.3333333333333333,
              "#9c179e"
             ],
             [
              0.4444444444444444,
              "#bd3786"
             ],
             [
              0.5555555555555556,
              "#d8576b"
             ],
             [
              0.6666666666666666,
              "#ed7953"
             ],
             [
              0.7777777777777778,
              "#fb9f3a"
             ],
             [
              0.8888888888888888,
              "#fdca26"
             ],
             [
              1,
              "#f0f921"
             ]
            ],
            "type": "contour"
           }
          ],
          "contourcarpet": [
           {
            "colorbar": {
             "outlinewidth": 0,
             "ticks": ""
            },
            "type": "contourcarpet"
           }
          ],
          "heatmap": [
           {
            "colorbar": {
             "outlinewidth": 0,
             "ticks": ""
            },
            "colorscale": [
             [
              0,
              "#0d0887"
             ],
             [
              0.1111111111111111,
              "#46039f"
             ],
             [
              0.2222222222222222,
              "#7201a8"
             ],
             [
              0.3333333333333333,
              "#9c179e"
             ],
             [
              0.4444444444444444,
              "#bd3786"
             ],
             [
              0.5555555555555556,
              "#d8576b"
             ],
             [
              0.6666666666666666,
              "#ed7953"
             ],
             [
              0.7777777777777778,
              "#fb9f3a"
             ],
             [
              0.8888888888888888,
              "#fdca26"
             ],
             [
              1,
              "#f0f921"
             ]
            ],
            "type": "heatmap"
           }
          ],
          "heatmapgl": [
           {
            "colorbar": {
             "outlinewidth": 0,
             "ticks": ""
            },
            "colorscale": [
             [
              0,
              "#0d0887"
             ],
             [
              0.1111111111111111,
              "#46039f"
             ],
             [
              0.2222222222222222,
              "#7201a8"
             ],
             [
              0.3333333333333333,
              "#9c179e"
             ],
             [
              0.4444444444444444,
              "#bd3786"
             ],
             [
              0.5555555555555556,
              "#d8576b"
             ],
             [
              0.6666666666666666,
              "#ed7953"
             ],
             [
              0.7777777777777778,
              "#fb9f3a"
             ],
             [
              0.8888888888888888,
              "#fdca26"
             ],
             [
              1,
              "#f0f921"
             ]
            ],
            "type": "heatmapgl"
           }
          ],
          "histogram": [
           {
            "marker": {
             "pattern": {
              "fillmode": "overlay",
              "size": 10,
              "solidity": 0.2
             }
            },
            "type": "histogram"
           }
          ],
          "histogram2d": [
           {
            "colorbar": {
             "outlinewidth": 0,
             "ticks": ""
            },
            "colorscale": [
             [
              0,
              "#0d0887"
             ],
             [
              0.1111111111111111,
              "#46039f"
             ],
             [
              0.2222222222222222,
              "#7201a8"
             ],
             [
              0.3333333333333333,
              "#9c179e"
             ],
             [
              0.4444444444444444,
              "#bd3786"
             ],
             [
              0.5555555555555556,
              "#d8576b"
             ],
             [
              0.6666666666666666,
              "#ed7953"
             ],
             [
              0.7777777777777778,
              "#fb9f3a"
             ],
             [
              0.8888888888888888,
              "#fdca26"
             ],
             [
              1,
              "#f0f921"
             ]
            ],
            "type": "histogram2d"
           }
          ],
          "histogram2dcontour": [
           {
            "colorbar": {
             "outlinewidth": 0,
             "ticks": ""
            },
            "colorscale": [
             [
              0,
              "#0d0887"
             ],
             [
              0.1111111111111111,
              "#46039f"
             ],
             [
              0.2222222222222222,
              "#7201a8"
             ],
             [
              0.3333333333333333,
              "#9c179e"
             ],
             [
              0.4444444444444444,
              "#bd3786"
             ],
             [
              0.5555555555555556,
              "#d8576b"
             ],
             [
              0.6666666666666666,
              "#ed7953"
             ],
             [
              0.7777777777777778,
              "#fb9f3a"
             ],
             [
              0.8888888888888888,
              "#fdca26"
             ],
             [
              1,
              "#f0f921"
             ]
            ],
            "type": "histogram2dcontour"
           }
          ],
          "mesh3d": [
           {
            "colorbar": {
             "outlinewidth": 0,
             "ticks": ""
            },
            "type": "mesh3d"
           }
          ],
          "parcoords": [
           {
            "line": {
             "colorbar": {
              "outlinewidth": 0,
              "ticks": ""
             }
            },
            "type": "parcoords"
           }
          ],
          "pie": [
           {
            "automargin": true,
            "type": "pie"
           }
          ],
          "scatter": [
           {
            "fillpattern": {
             "fillmode": "overlay",
             "size": 10,
             "solidity": 0.2
            },
            "type": "scatter"
           }
          ],
          "scatter3d": [
           {
            "line": {
             "colorbar": {
              "outlinewidth": 0,
              "ticks": ""
             }
            },
            "marker": {
             "colorbar": {
              "outlinewidth": 0,
              "ticks": ""
             }
            },
            "type": "scatter3d"
           }
          ],
          "scattercarpet": [
           {
            "marker": {
             "colorbar": {
              "outlinewidth": 0,
              "ticks": ""
             }
            },
            "type": "scattercarpet"
           }
          ],
          "scattergeo": [
           {
            "marker": {
             "colorbar": {
              "outlinewidth": 0,
              "ticks": ""
             }
            },
            "type": "scattergeo"
           }
          ],
          "scattergl": [
           {
            "marker": {
             "colorbar": {
              "outlinewidth": 0,
              "ticks": ""
             }
            },
            "type": "scattergl"
           }
          ],
          "scattermapbox": [
           {
            "marker": {
             "colorbar": {
              "outlinewidth": 0,
              "ticks": ""
             }
            },
            "type": "scattermapbox"
           }
          ],
          "scatterpolar": [
           {
            "marker": {
             "colorbar": {
              "outlinewidth": 0,
              "ticks": ""
             }
            },
            "type": "scatterpolar"
           }
          ],
          "scatterpolargl": [
           {
            "marker": {
             "colorbar": {
              "outlinewidth": 0,
              "ticks": ""
             }
            },
            "type": "scatterpolargl"
           }
          ],
          "scatterternary": [
           {
            "marker": {
             "colorbar": {
              "outlinewidth": 0,
              "ticks": ""
             }
            },
            "type": "scatterternary"
           }
          ],
          "surface": [
           {
            "colorbar": {
             "outlinewidth": 0,
             "ticks": ""
            },
            "colorscale": [
             [
              0,
              "#0d0887"
             ],
             [
              0.1111111111111111,
              "#46039f"
             ],
             [
              0.2222222222222222,
              "#7201a8"
             ],
             [
              0.3333333333333333,
              "#9c179e"
             ],
             [
              0.4444444444444444,
              "#bd3786"
             ],
             [
              0.5555555555555556,
              "#d8576b"
             ],
             [
              0.6666666666666666,
              "#ed7953"
             ],
             [
              0.7777777777777778,
              "#fb9f3a"
             ],
             [
              0.8888888888888888,
              "#fdca26"
             ],
             [
              1,
              "#f0f921"
             ]
            ],
            "type": "surface"
           }
          ],
          "table": [
           {
            "cells": {
             "fill": {
              "color": "#EBF0F8"
             },
             "line": {
              "color": "white"
             }
            },
            "header": {
             "fill": {
              "color": "#C8D4E3"
             },
             "line": {
              "color": "white"
             }
            },
            "type": "table"
           }
          ]
         },
         "layout": {
          "annotationdefaults": {
           "arrowcolor": "#2a3f5f",
           "arrowhead": 0,
           "arrowwidth": 1
          },
          "autotypenumbers": "strict",
          "coloraxis": {
           "colorbar": {
            "outlinewidth": 0,
            "ticks": ""
           }
          },
          "colorscale": {
           "diverging": [
            [
             0,
             "#8e0152"
            ],
            [
             0.1,
             "#c51b7d"
            ],
            [
             0.2,
             "#de77ae"
            ],
            [
             0.3,
             "#f1b6da"
            ],
            [
             0.4,
             "#fde0ef"
            ],
            [
             0.5,
             "#f7f7f7"
            ],
            [
             0.6,
             "#e6f5d0"
            ],
            [
             0.7,
             "#b8e186"
            ],
            [
             0.8,
             "#7fbc41"
            ],
            [
             0.9,
             "#4d9221"
            ],
            [
             1,
             "#276419"
            ]
           ],
           "sequential": [
            [
             0,
             "#0d0887"
            ],
            [
             0.1111111111111111,
             "#46039f"
            ],
            [
             0.2222222222222222,
             "#7201a8"
            ],
            [
             0.3333333333333333,
             "#9c179e"
            ],
            [
             0.4444444444444444,
             "#bd3786"
            ],
            [
             0.5555555555555556,
             "#d8576b"
            ],
            [
             0.6666666666666666,
             "#ed7953"
            ],
            [
             0.7777777777777778,
             "#fb9f3a"
            ],
            [
             0.8888888888888888,
             "#fdca26"
            ],
            [
             1,
             "#f0f921"
            ]
           ],
           "sequentialminus": [
            [
             0,
             "#0d0887"
            ],
            [
             0.1111111111111111,
             "#46039f"
            ],
            [
             0.2222222222222222,
             "#7201a8"
            ],
            [
             0.3333333333333333,
             "#9c179e"
            ],
            [
             0.4444444444444444,
             "#bd3786"
            ],
            [
             0.5555555555555556,
             "#d8576b"
            ],
            [
             0.6666666666666666,
             "#ed7953"
            ],
            [
             0.7777777777777778,
             "#fb9f3a"
            ],
            [
             0.8888888888888888,
             "#fdca26"
            ],
            [
             1,
             "#f0f921"
            ]
           ]
          },
          "colorway": [
           "#636efa",
           "#EF553B",
           "#00cc96",
           "#ab63fa",
           "#FFA15A",
           "#19d3f3",
           "#FF6692",
           "#B6E880",
           "#FF97FF",
           "#FECB52"
          ],
          "font": {
           "color": "#2a3f5f"
          },
          "geo": {
           "bgcolor": "white",
           "lakecolor": "white",
           "landcolor": "#E5ECF6",
           "showlakes": true,
           "showland": true,
           "subunitcolor": "white"
          },
          "hoverlabel": {
           "align": "left"
          },
          "hovermode": "closest",
          "mapbox": {
           "style": "light"
          },
          "paper_bgcolor": "white",
          "plot_bgcolor": "#E5ECF6",
          "polar": {
           "angularaxis": {
            "gridcolor": "white",
            "linecolor": "white",
            "ticks": ""
           },
           "bgcolor": "#E5ECF6",
           "radialaxis": {
            "gridcolor": "white",
            "linecolor": "white",
            "ticks": ""
           }
          },
          "scene": {
           "xaxis": {
            "backgroundcolor": "#E5ECF6",
            "gridcolor": "white",
            "gridwidth": 2,
            "linecolor": "white",
            "showbackground": true,
            "ticks": "",
            "zerolinecolor": "white"
           },
           "yaxis": {
            "backgroundcolor": "#E5ECF6",
            "gridcolor": "white",
            "gridwidth": 2,
            "linecolor": "white",
            "showbackground": true,
            "ticks": "",
            "zerolinecolor": "white"
           },
           "zaxis": {
            "backgroundcolor": "#E5ECF6",
            "gridcolor": "white",
            "gridwidth": 2,
            "linecolor": "white",
            "showbackground": true,
            "ticks": "",
            "zerolinecolor": "white"
           }
          },
          "shapedefaults": {
           "line": {
            "color": "#2a3f5f"
           }
          },
          "ternary": {
           "aaxis": {
            "gridcolor": "white",
            "linecolor": "white",
            "ticks": ""
           },
           "baxis": {
            "gridcolor": "white",
            "linecolor": "white",
            "ticks": ""
           },
           "bgcolor": "#E5ECF6",
           "caxis": {
            "gridcolor": "white",
            "linecolor": "white",
            "ticks": ""
           }
          },
          "title": {
           "x": 0.05
          },
          "xaxis": {
           "automargin": true,
           "gridcolor": "white",
           "linecolor": "white",
           "ticks": "",
           "title": {
            "standoff": 15
           },
           "zerolinecolor": "white",
           "zerolinewidth": 2
          },
          "yaxis": {
           "automargin": true,
           "gridcolor": "white",
           "linecolor": "white",
           "ticks": "",
           "title": {
            "standoff": 15
           },
           "zerolinecolor": "white",
           "zerolinewidth": 2
          }
         }
        },
        "title": {
         "text": "y_test vs y_pred_test"
        },
        "xaxis": {
         "anchor": "y",
         "domain": [
          0,
          1
         ],
         "title": {
          "text": "y_test"
         }
        },
        "yaxis": {
         "anchor": "x",
         "domain": [
          0,
          1
         ],
         "title": {
          "text": "y_pred_test"
         }
        }
       }
      },
      "text/html": [
       "<div>                            <div id=\"4b2bfb8d-d246-45df-85dd-3de1d9647592\" class=\"plotly-graph-div\" style=\"height:525px; width:100%;\"></div>            <script type=\"text/javascript\">                require([\"plotly\"], function(Plotly) {                    window.PLOTLYENV=window.PLOTLYENV || {};                                    if (document.getElementById(\"4b2bfb8d-d246-45df-85dd-3de1d9647592\")) {                    Plotly.newPlot(                        \"4b2bfb8d-d246-45df-85dd-3de1d9647592\",                        [{\"hovertemplate\":\"y_test=%{x}<br>y_pred_test=%{y}<extra></extra>\",\"legendgroup\":\"\",\"marker\":{\"color\":\"green\",\"symbol\":\"circle\"},\"mode\":\"markers\",\"name\":\"\",\"orientation\":\"v\",\"showlegend\":false,\"x\":[4,22,4,15,34,4,8,3,4,4,1,29,4,17,10,26,7,13,2,25,21,12,2,2,28,7,38,31,1,18,19,17,25,8,10,2,7,37,8,1,12,43,13,19,10,2,7,2,6,21,8,9,12,22,5,8,27,3,5,9,3,7,10,7,8,35,3,5,38,10,40,5,2,52,14,16,16,21,25,12,5,9,15,17,10,4,5,24,38,9,9,9,9,3,15,2,5,13,10,7,58,4,7,15,2,9,2,6,23,5,4,13,24,7,3,3,3,8,9,8,3,8,17,42,5,11,3,24,2,16,9,6,5,37,8,4,69,5,4,6,11,14,6,12,28,6,12,10,72,41,24,11],\"xaxis\":\"x\",\"y\":[8.670919559611011,12.936529077932397,11.411882286843795,14.418274415198553,14.660345144446072,12.290844504669376,11.851990092930453,10.476227876891127,13.131284846052798,4.832422276324397,13.607487283000424,13.232056402516163,11.201834926348498,12.533050199209018,8.527914202878911,14.122837344581209,10.409459275093027,10.010527234360755,8.857798531695959,16.525372600003216,10.121411740848746,15.098769582429505,13.056033330904445,12.637266686756979,13.379830582327758,13.117652562267578,9.33806418782906,12.198085578223878,12.47232040253855,17.066262384201096,11.466153493341194,11.292845229113684,11.764987983196828,12.24422777328441,12.885272385122155,14.105159985257796,12.158106460560099,10.89270671408212,12.433859836849207,10.636741512120526,10.72078534577521,12.649898778883633,7.388695535308475,11.700776104728606,12.354517881163172,12.383555528517945,12.445119592011473,12.10868130026974,17.788953155416095,13.628296512345518,12.156109469821232,14.101508730338987,12.190235416780384,12.974577652468474,8.449561264092857,11.912920233915703,21.329735374219915,13.927142127019458,8.875990915614771,10.155389174269922,12.286108021345784,14.211620389950172,13.813215268731325,8.718516419235396,14.025641035183995,10.159027622328875,10.565572949195788,7.84448377684747,9.077677691291859,11.035999613943682,12.288047018799247,11.188925655977346,3.899702687437438,11.844801145991582,11.960738306852484,12.010079964793016,11.421879710034657,12.182048635579848,11.231410449753666,9.969527580235853,13.21134963878267,7.553796739225644,12.526051111214324,14.09158439784829,9.566945464349981,14.427650167303462,12.436734122247154,13.878342946645391,11.671921505723509,13.25350602244403,11.900126453075597,7.658436138213441,10.50358929971273,8.34233952125713,11.160029788323506,15.934726917458239,8.203699412530415,11.558671052427387,10.916140152457222,7.577716430520649,8.71521517864239,10.78578359753256,12.404181061248192,10.332358260030102,12.25817712383843,10.49472964250083,11.045050151945475,16.32634755328527,12.913685899272828,9.352414068790155,17.306780781052595,3.9460369547746748,14.503029642902597,13.55720484421322,11.305108114086915,15.347488184446103,13.530218258841469,10.533262592823906,5.285655791518066,11.488633202025227,7.763459309508791,7.671836900320016,10.964750131526692,10.592537218492135,12.133250650520525,15.077186046246442,11.101272519426765,11.942980667022942,12.813651997229993,10.865126359213923,12.169225532837952,11.194227551408732,11.423391714756574,11.352216307628433,7.10732693347322,10.05843861889499,11.29625883564672,13.637792080773789,11.613984225900944,17.39579585318962,12.403739996944534,10.615980007961248,16.20129686291449,10.113846234035968,13.485145454404215,10.209588739175363,10.86763229049302,11.745584865812173,12.694804745950893,9.650731498147874,13.43849812517819,8.18798607327249],\"yaxis\":\"y\",\"type\":\"scatter\"}],                        {\"template\":{\"data\":{\"histogram2dcontour\":[{\"type\":\"histogram2dcontour\",\"colorbar\":{\"outlinewidth\":0,\"ticks\":\"\"},\"colorscale\":[[0.0,\"#0d0887\"],[0.1111111111111111,\"#46039f\"],[0.2222222222222222,\"#7201a8\"],[0.3333333333333333,\"#9c179e\"],[0.4444444444444444,\"#bd3786\"],[0.5555555555555556,\"#d8576b\"],[0.6666666666666666,\"#ed7953\"],[0.7777777777777778,\"#fb9f3a\"],[0.8888888888888888,\"#fdca26\"],[1.0,\"#f0f921\"]]}],\"choropleth\":[{\"type\":\"choropleth\",\"colorbar\":{\"outlinewidth\":0,\"ticks\":\"\"}}],\"histogram2d\":[{\"type\":\"histogram2d\",\"colorbar\":{\"outlinewidth\":0,\"ticks\":\"\"},\"colorscale\":[[0.0,\"#0d0887\"],[0.1111111111111111,\"#46039f\"],[0.2222222222222222,\"#7201a8\"],[0.3333333333333333,\"#9c179e\"],[0.4444444444444444,\"#bd3786\"],[0.5555555555555556,\"#d8576b\"],[0.6666666666666666,\"#ed7953\"],[0.7777777777777778,\"#fb9f3a\"],[0.8888888888888888,\"#fdca26\"],[1.0,\"#f0f921\"]]}],\"heatmap\":[{\"type\":\"heatmap\",\"colorbar\":{\"outlinewidth\":0,\"ticks\":\"\"},\"colorscale\":[[0.0,\"#0d0887\"],[0.1111111111111111,\"#46039f\"],[0.2222222222222222,\"#7201a8\"],[0.3333333333333333,\"#9c179e\"],[0.4444444444444444,\"#bd3786\"],[0.5555555555555556,\"#d8576b\"],[0.6666666666666666,\"#ed7953\"],[0.7777777777777778,\"#fb9f3a\"],[0.8888888888888888,\"#fdca26\"],[1.0,\"#f0f921\"]]}],\"heatmapgl\":[{\"type\":\"heatmapgl\",\"colorbar\":{\"outlinewidth\":0,\"ticks\":\"\"},\"colorscale\":[[0.0,\"#0d0887\"],[0.1111111111111111,\"#46039f\"],[0.2222222222222222,\"#7201a8\"],[0.3333333333333333,\"#9c179e\"],[0.4444444444444444,\"#bd3786\"],[0.5555555555555556,\"#d8576b\"],[0.6666666666666666,\"#ed7953\"],[0.7777777777777778,\"#fb9f3a\"],[0.8888888888888888,\"#fdca26\"],[1.0,\"#f0f921\"]]}],\"contourcarpet\":[{\"type\":\"contourcarpet\",\"colorbar\":{\"outlinewidth\":0,\"ticks\":\"\"}}],\"contour\":[{\"type\":\"contour\",\"colorbar\":{\"outlinewidth\":0,\"ticks\":\"\"},\"colorscale\":[[0.0,\"#0d0887\"],[0.1111111111111111,\"#46039f\"],[0.2222222222222222,\"#7201a8\"],[0.3333333333333333,\"#9c179e\"],[0.4444444444444444,\"#bd3786\"],[0.5555555555555556,\"#d8576b\"],[0.6666666666666666,\"#ed7953\"],[0.7777777777777778,\"#fb9f3a\"],[0.8888888888888888,\"#fdca26\"],[1.0,\"#f0f921\"]]}],\"surface\":[{\"type\":\"surface\",\"colorbar\":{\"outlinewidth\":0,\"ticks\":\"\"},\"colorscale\":[[0.0,\"#0d0887\"],[0.1111111111111111,\"#46039f\"],[0.2222222222222222,\"#7201a8\"],[0.3333333333333333,\"#9c179e\"],[0.4444444444444444,\"#bd3786\"],[0.5555555555555556,\"#d8576b\"],[0.6666666666666666,\"#ed7953\"],[0.7777777777777778,\"#fb9f3a\"],[0.8888888888888888,\"#fdca26\"],[1.0,\"#f0f921\"]]}],\"mesh3d\":[{\"type\":\"mesh3d\",\"colorbar\":{\"outlinewidth\":0,\"ticks\":\"\"}}],\"scatter\":[{\"fillpattern\":{\"fillmode\":\"overlay\",\"size\":10,\"solidity\":0.2},\"type\":\"scatter\"}],\"parcoords\":[{\"type\":\"parcoords\",\"line\":{\"colorbar\":{\"outlinewidth\":0,\"ticks\":\"\"}}}],\"scatterpolargl\":[{\"type\":\"scatterpolargl\",\"marker\":{\"colorbar\":{\"outlinewidth\":0,\"ticks\":\"\"}}}],\"bar\":[{\"error_x\":{\"color\":\"#2a3f5f\"},\"error_y\":{\"color\":\"#2a3f5f\"},\"marker\":{\"line\":{\"color\":\"#E5ECF6\",\"width\":0.5},\"pattern\":{\"fillmode\":\"overlay\",\"size\":10,\"solidity\":0.2}},\"type\":\"bar\"}],\"scattergeo\":[{\"type\":\"scattergeo\",\"marker\":{\"colorbar\":{\"outlinewidth\":0,\"ticks\":\"\"}}}],\"scatterpolar\":[{\"type\":\"scatterpolar\",\"marker\":{\"colorbar\":{\"outlinewidth\":0,\"ticks\":\"\"}}}],\"histogram\":[{\"marker\":{\"pattern\":{\"fillmode\":\"overlay\",\"size\":10,\"solidity\":0.2}},\"type\":\"histogram\"}],\"scattergl\":[{\"type\":\"scattergl\",\"marker\":{\"colorbar\":{\"outlinewidth\":0,\"ticks\":\"\"}}}],\"scatter3d\":[{\"type\":\"scatter3d\",\"line\":{\"colorbar\":{\"outlinewidth\":0,\"ticks\":\"\"}},\"marker\":{\"colorbar\":{\"outlinewidth\":0,\"ticks\":\"\"}}}],\"scattermapbox\":[{\"type\":\"scattermapbox\",\"marker\":{\"colorbar\":{\"outlinewidth\":0,\"ticks\":\"\"}}}],\"scatterternary\":[{\"type\":\"scatterternary\",\"marker\":{\"colorbar\":{\"outlinewidth\":0,\"ticks\":\"\"}}}],\"scattercarpet\":[{\"type\":\"scattercarpet\",\"marker\":{\"colorbar\":{\"outlinewidth\":0,\"ticks\":\"\"}}}],\"carpet\":[{\"aaxis\":{\"endlinecolor\":\"#2a3f5f\",\"gridcolor\":\"white\",\"linecolor\":\"white\",\"minorgridcolor\":\"white\",\"startlinecolor\":\"#2a3f5f\"},\"baxis\":{\"endlinecolor\":\"#2a3f5f\",\"gridcolor\":\"white\",\"linecolor\":\"white\",\"minorgridcolor\":\"white\",\"startlinecolor\":\"#2a3f5f\"},\"type\":\"carpet\"}],\"table\":[{\"cells\":{\"fill\":{\"color\":\"#EBF0F8\"},\"line\":{\"color\":\"white\"}},\"header\":{\"fill\":{\"color\":\"#C8D4E3\"},\"line\":{\"color\":\"white\"}},\"type\":\"table\"}],\"barpolar\":[{\"marker\":{\"line\":{\"color\":\"#E5ECF6\",\"width\":0.5},\"pattern\":{\"fillmode\":\"overlay\",\"size\":10,\"solidity\":0.2}},\"type\":\"barpolar\"}],\"pie\":[{\"automargin\":true,\"type\":\"pie\"}]},\"layout\":{\"autotypenumbers\":\"strict\",\"colorway\":[\"#636efa\",\"#EF553B\",\"#00cc96\",\"#ab63fa\",\"#FFA15A\",\"#19d3f3\",\"#FF6692\",\"#B6E880\",\"#FF97FF\",\"#FECB52\"],\"font\":{\"color\":\"#2a3f5f\"},\"hovermode\":\"closest\",\"hoverlabel\":{\"align\":\"left\"},\"paper_bgcolor\":\"white\",\"plot_bgcolor\":\"#E5ECF6\",\"polar\":{\"bgcolor\":\"#E5ECF6\",\"angularaxis\":{\"gridcolor\":\"white\",\"linecolor\":\"white\",\"ticks\":\"\"},\"radialaxis\":{\"gridcolor\":\"white\",\"linecolor\":\"white\",\"ticks\":\"\"}},\"ternary\":{\"bgcolor\":\"#E5ECF6\",\"aaxis\":{\"gridcolor\":\"white\",\"linecolor\":\"white\",\"ticks\":\"\"},\"baxis\":{\"gridcolor\":\"white\",\"linecolor\":\"white\",\"ticks\":\"\"},\"caxis\":{\"gridcolor\":\"white\",\"linecolor\":\"white\",\"ticks\":\"\"}},\"coloraxis\":{\"colorbar\":{\"outlinewidth\":0,\"ticks\":\"\"}},\"colorscale\":{\"sequential\":[[0.0,\"#0d0887\"],[0.1111111111111111,\"#46039f\"],[0.2222222222222222,\"#7201a8\"],[0.3333333333333333,\"#9c179e\"],[0.4444444444444444,\"#bd3786\"],[0.5555555555555556,\"#d8576b\"],[0.6666666666666666,\"#ed7953\"],[0.7777777777777778,\"#fb9f3a\"],[0.8888888888888888,\"#fdca26\"],[1.0,\"#f0f921\"]],\"sequentialminus\":[[0.0,\"#0d0887\"],[0.1111111111111111,\"#46039f\"],[0.2222222222222222,\"#7201a8\"],[0.3333333333333333,\"#9c179e\"],[0.4444444444444444,\"#bd3786\"],[0.5555555555555556,\"#d8576b\"],[0.6666666666666666,\"#ed7953\"],[0.7777777777777778,\"#fb9f3a\"],[0.8888888888888888,\"#fdca26\"],[1.0,\"#f0f921\"]],\"diverging\":[[0,\"#8e0152\"],[0.1,\"#c51b7d\"],[0.2,\"#de77ae\"],[0.3,\"#f1b6da\"],[0.4,\"#fde0ef\"],[0.5,\"#f7f7f7\"],[0.6,\"#e6f5d0\"],[0.7,\"#b8e186\"],[0.8,\"#7fbc41\"],[0.9,\"#4d9221\"],[1,\"#276419\"]]},\"xaxis\":{\"gridcolor\":\"white\",\"linecolor\":\"white\",\"ticks\":\"\",\"title\":{\"standoff\":15},\"zerolinecolor\":\"white\",\"automargin\":true,\"zerolinewidth\":2},\"yaxis\":{\"gridcolor\":\"white\",\"linecolor\":\"white\",\"ticks\":\"\",\"title\":{\"standoff\":15},\"zerolinecolor\":\"white\",\"automargin\":true,\"zerolinewidth\":2},\"scene\":{\"xaxis\":{\"backgroundcolor\":\"#E5ECF6\",\"gridcolor\":\"white\",\"linecolor\":\"white\",\"showbackground\":true,\"ticks\":\"\",\"zerolinecolor\":\"white\",\"gridwidth\":2},\"yaxis\":{\"backgroundcolor\":\"#E5ECF6\",\"gridcolor\":\"white\",\"linecolor\":\"white\",\"showbackground\":true,\"ticks\":\"\",\"zerolinecolor\":\"white\",\"gridwidth\":2},\"zaxis\":{\"backgroundcolor\":\"#E5ECF6\",\"gridcolor\":\"white\",\"linecolor\":\"white\",\"showbackground\":true,\"ticks\":\"\",\"zerolinecolor\":\"white\",\"gridwidth\":2}},\"shapedefaults\":{\"line\":{\"color\":\"#2a3f5f\"}},\"annotationdefaults\":{\"arrowcolor\":\"#2a3f5f\",\"arrowhead\":0,\"arrowwidth\":1},\"geo\":{\"bgcolor\":\"white\",\"landcolor\":\"#E5ECF6\",\"subunitcolor\":\"white\",\"showland\":true,\"showlakes\":true,\"lakecolor\":\"white\"},\"title\":{\"x\":0.05},\"mapbox\":{\"style\":\"light\"}}},\"xaxis\":{\"anchor\":\"y\",\"domain\":[0.0,1.0],\"title\":{\"text\":\"y_test\"}},\"yaxis\":{\"anchor\":\"x\",\"domain\":[0.0,1.0],\"title\":{\"text\":\"y_pred_test\"}},\"legend\":{\"tracegroupgap\":0},\"title\":{\"text\":\"y_test vs y_pred_test\"}},                        {\"responsive\": true}                    ).then(function(){\n",
       "                            \n",
       "var gd = document.getElementById('4b2bfb8d-d246-45df-85dd-3de1d9647592');\n",
       "var x = new MutationObserver(function (mutations, observer) {{\n",
       "        var display = window.getComputedStyle(gd).display;\n",
       "        if (!display || display === 'none') {{\n",
       "            console.log([gd, 'removed!']);\n",
       "            Plotly.purge(gd);\n",
       "            observer.disconnect();\n",
       "        }}\n",
       "}});\n",
       "\n",
       "// Listen for the removal of the full notebook cells\n",
       "var notebookContainer = gd.closest('#notebook-container');\n",
       "if (notebookContainer) {{\n",
       "    x.observe(notebookContainer, {childList: true});\n",
       "}}\n",
       "\n",
       "// Listen for the clearing of the current output cell\n",
       "var outputEl = gd.closest('.output');\n",
       "if (outputEl) {{\n",
       "    x.observe(outputEl, {childList: true});\n",
       "}}\n",
       "\n",
       "                        })                };                });            </script>        </div>"
      ]
     },
     "metadata": {},
     "output_type": "display_data"
    }
   ],
   "source": [
    "df_train = pd.DataFrame({'y_train': y_train, 'y_pred_train': y_pred_train})\n",
    "\n",
    "# Create a scatter plot using Plotly Express\n",
    "fig = px.scatter(df_train, x='y_train', y='y_pred_train', title='y_train vs y_pred_train')\n",
    "fig.update_layout(xaxis_title='y_train', yaxis_title='y_pred_train')\n",
    "fig.show()\n",
    "\n",
    "df_test = pd.DataFrame({'y_test': y_test, 'y_pred_test': y_pred_test})\n",
    "\n",
    "# Create a scatter plot using Plotly Express\n",
    "fig = px.scatter(df_test, x='y_test', y='y_pred_test', color_discrete_sequence=['green'], title='y_test vs y_pred_test')\n",
    "fig.update_layout(xaxis_title='y_test', yaxis_title='y_pred_test')\n",
    "fig.show()"
   ]
  },
  {
   "cell_type": "markdown",
   "id": "96a2dc09",
   "metadata": {},
   "source": [
    "### Applying PCA to reduce to a certain dimension capturing 90 percent variance"
   ]
  },
  {
   "cell_type": "code",
   "execution_count": 178,
   "id": "61bb2430",
   "metadata": {},
   "outputs": [
    {
     "name": "stdout",
     "output_type": "stream",
     "text": [
      "[[-0.46285071 -0.80303111  0.24250358 ...  0.06769509  0.05284686\n",
      "  -0.18626179]\n",
      " [-0.9975716   1.1140011   0.5891324  ... -0.00359666  0.12053252\n",
      "  -0.1588557 ]\n",
      " [ 0.22524502  0.47810389 -0.08194291 ... -0.00347433  0.00887474\n",
      "  -0.0189117 ]\n",
      " ...\n",
      " [-1.03783024  0.30983397 -1.04257954 ...  0.06034273 -0.00492269\n",
      "  -0.05228832]\n",
      " [-1.63111708  0.02813336  0.09989589 ...  0.08665021 -0.03273394\n",
      "   0.02357102]\n",
      " [-0.18036953 -0.36818808  0.12110349 ... -0.01174863  0.15075363\n",
      "   0.01193948]]\n",
      "(506, 140)\n"
     ]
    }
   ],
   "source": [
    "pca = PCA(n_components = 140)\n",
    "# Transform data\n",
    "pca_trans = pca.fit_transform(X)     \n",
    "print(pca_trans)                                                  \n",
    "print(pca_trans.shape) "
   ]
  },
  {
   "cell_type": "code",
   "execution_count": 179,
   "id": "f08c13a7",
   "metadata": {},
   "outputs": [
    {
     "name": "stdout",
     "output_type": "stream",
     "text": [
      "Total variance captured: 0.9038469961300765\n"
     ]
    },
    {
     "data": {
      "image/png": "[encoded data removed]",
      "text/plain": [
       "<Figure size 640x480 with 1 Axes>"
      ]
     },
     "metadata": {},
     "output_type": "display_data"
    }
   ],
   "source": [
    "# Get the explained variance ratios for each principal component\n",
    "explained_variance_ratios = pca.explained_variance_ratio_\n",
    "\n",
    "print(\"Total variance captured:\",sum(explained_variance_ratios))\n",
    "# Plotting the explained variance ratios\n",
    "plt.bar(range(1, len(explained_variance_ratios) + 1), explained_variance_ratios, align='center')\n",
    "plt.xticks(range(1, len(explained_variance_ratios) + 1))\n",
    "plt.xlabel('Principal Component')\n",
    "plt.ylabel('Explained Variance Ratio')\n",
    "plt.title('Explained Variance Ratio for Each Principal Component')\n",
    "plt.show()"
   ]
  },
  {
   "cell_type": "markdown",
   "id": "06397098",
   "metadata": {},
   "source": [
    "#### Applying lasso to the 85 percent variance captured pca components"
   ]
  },
  {
   "cell_type": "code",
   "execution_count": 180,
   "id": "29c61a0c",
   "metadata": {},
   "outputs": [
    {
     "name": "stdout",
     "output_type": "stream",
     "text": [
      "Mean Squared Error for training: 106.83501460014685\n",
      "Mean Squared Error for testing: 177.86817100344763\n"
     ]
    }
   ],
   "source": [
    "# Apply Lasso Regression to the 80 variance captured pca components\n",
    "X_train, X_test, y_train, y_test = train_test_split(pca_trans, y, test_size=0.3, random_state=42)\n",
    "\n",
    "lasso = Lasso(alpha=0.1)  \n",
    "lasso.fit(X_train, y_train)\n",
    "\n",
    "# Make predictions\n",
    "y_pred_train = lasso.predict(X_train)\n",
    "y_pred_test = lasso.predict(X_test)\n",
    "\n",
    "# Evaluate the model\n",
    "mse_train = mean_squared_error(y_train, y_pred_train)\n",
    "mse_test = mean_squared_error(y_test, y_pred_test)\n",
    "print(\"Mean Squared Error for training:\", mse_train)\n",
    "print(\"Mean Squared Error for testing:\", mse_test)"
   ]
  },
  {
   "cell_type": "code",
   "execution_count": 181,
   "id": "b0b9be11",
   "metadata": {},
   "outputs": [
    {
     "data": {
      "application/vnd.plotly.v1+json": {
       "config": {
        "plotlyServerURL": "https://plot.ly"
       },
       "data": [
        {
         "hovertemplate": "y_train=%{x}<br>y_pred_train=%{y}<extra></extra>",
         "legendgroup": "",
         "marker": {
          "color": "#636efa",
          "symbol": "circle"
         },
         "mode": "markers",
         "name": "",
         "orientation": "v",
         "showlegend": false,
         "type": "scatter",
         "x": [
          32,
          1,
          7,
          5,
          36,
          5,
          9,
          6,
          3,
          2,
          30,
          11,
          4,
          5,
          18,
          10,
          6,
          10,
          3,
          2,
          34,
          12,
          4,
          5,
          11,
          10,
          23,
          5,
          19,
          4,
          15,
          10,
          35,
          3,
          8,
          4,
          13,
          2,
          18,
          6,
          2,
          28,
          19,
          8,
          10,
          8,
          7,
          7,
          9,
          13,
          4,
          5,
          5,
          53,
          13,
          14,
          9,
          3,
          17,
          33,
          4,
          5,
          33,
          6,
          41,
          7,
          10,
          6,
          34,
          10,
          6,
          7,
          3,
          9,
          10,
          16,
          15,
          3,
          2,
          3,
          23,
          9,
          4,
          10,
          4,
          33,
          19,
          7,
          4,
          10,
          13,
          15,
          13,
          21,
          4,
          1,
          9,
          34,
          20,
          7,
          12,
          4,
          6,
          4,
          3,
          14,
          4,
          2,
          4,
          2,
          29,
          10,
          21,
          16,
          1,
          6,
          8,
          5,
          17,
          8,
          3,
          7,
          15,
          8,
          37,
          36,
          8,
          8,
          11,
          6,
          44,
          8,
          17,
          9,
          2,
          5,
          5,
          2,
          16,
          11,
          6,
          8,
          10,
          12,
          3,
          3,
          2,
          49,
          10,
          8,
          7,
          7,
          12,
          9,
          10,
          3,
          3,
          3,
          6,
          4,
          20,
          8,
          10,
          10,
          19,
          5,
          7,
          5,
          11,
          6,
          3,
          19,
          1,
          19,
          10,
          8,
          42,
          17,
          16,
          12,
          30,
          12,
          33,
          17,
          13,
          59,
          3,
          8,
          12,
          3,
          11,
          6,
          12,
          6,
          3,
          3,
          10,
          3,
          7,
          8,
          8,
          5,
          4,
          9,
          81,
          14,
          18,
          10,
          32,
          6,
          8,
          33,
          25,
          16,
          9,
          3,
          2,
          3,
          29,
          6,
          10,
          10,
          4,
          10,
          5,
          5,
          4,
          25,
          5,
          3,
          3,
          3,
          8,
          14,
          11,
          7,
          3,
          12,
          60,
          3,
          7,
          13,
          26,
          6,
          1,
          8,
          18,
          13,
          9,
          4,
          6,
          24,
          9,
          3,
          6,
          2,
          5,
          6,
          26,
          39,
          10,
          11,
          8,
          13,
          7,
          7,
          8,
          25,
          5,
          5,
          2,
          12,
          5,
          39,
          9,
          18,
          14,
          22,
          6,
          3,
          5,
          43,
          8,
          2,
          4,
          3,
          8,
          6,
          14,
          10,
          13,
          34,
          20,
          39,
          10,
          2,
          12,
          21,
          11,
          11,
          22,
          7,
          7,
          5,
          3,
          6,
          6,
          9,
          4,
          9,
          13,
          13,
          4,
          7,
          5,
          12,
          38,
          2,
          42,
          12,
          8,
          7,
          3,
          57,
          16,
          8,
          9,
          7,
          42,
          44,
          2,
          7,
          9,
          1,
          17,
          11,
          22,
          6,
          12,
          8,
          6,
          10,
          6,
          6,
          13,
          7,
          4,
          9,
          3,
          7,
          7,
          27,
          8,
          22
         ],
         "xaxis": "x",
         "y": [
          13.376967494322951,
          10.672241192844545,
          11.592552201745999,
          14.5620579953025,
          14.27446602601302,
          10.707430839061661,
          9.699090802456766,
          15.546560777291273,
          13.59631023370147,
          10.598730595709924,
          11.916408253697309,
          10.011572135762542,
          13.967433391324683,
          15.323755746910539,
          11.672719188740679,
          11.727874955048222,
          11.096443437759227,
          16.844159245727333,
          4.19715459667357,
          7.4110956520653435,
          13.022861960765155,
          11.274292751124081,
          11.54826351443619,
          5.536396316160228,
          6.608882279285577,
          12.897957696424044,
          15.657136428093935,
          11.575359748978508,
          12.418515080282992,
          8.500561715057184,
          14.407540781340145,
          12.735249311086337,
          11.734733339363403,
          7.162797036040187,
          11.42246098931444,
          12.171481773644993,
          17.04485201735099,
          9.602392346349752,
          13.006278149864348,
          12.709030635361676,
          11.778002159996815,
          19.935164657727093,
          13.718080455153162,
          7.3511900152571545,
          11.494189657974488,
          8.415395502237926,
          7.14992711182384,
          10.729297729200686,
          11.453946299612753,
          10.946186914274369,
          10.77815693681784,
          11.433410662696076,
          12.566053328454005,
          19.88880874228731,
          14.465435419364201,
          15.48712151792144,
          13.701553275062691,
          6.926643002113452,
          7.865715778627676,
          17.686839846218717,
          14.63092180047322,
          10.671795778693687,
          13.494898462112815,
          19.0827019636307,
          15.5397910163319,
          7.731020010560437,
          9.486777548746652,
          16.072156623530468,
          18.954038886071412,
          9.383024219447709,
          8.261370471911949,
          15.635933168745964,
          15.117400130638964,
          9.868950483332444,
          11.258469170281042,
          14.989417238438225,
          10.981288216162206,
          5.412384671432212,
          8.699234769067072,
          13.317597700301278,
          12.932476574862221,
          9.880594670736466,
          12.462435664987211,
          13.387415898459537,
          10.514865551791388,
          15.543344051729386,
          14.114021460432813,
          12.381186244234174,
          8.859343855328042,
          9.549552556255936,
          12.550431271673032,
          17.60400511272391,
          11.25277640511789,
          9.228634476003267,
          9.679362907242997,
          2.6299213647060267,
          11.318156903397018,
          16.944116731663122,
          15.178895251061945,
          9.268871242176303,
          12.684174241424092,
          8.32793286824641,
          10.24387726233616,
          12.00936907517843,
          10.555184980320734,
          11.226302922323812,
          9.771560460376616,
          12.050878612196048,
          9.616439262608855,
          14.719558516778346,
          7.748095882510879,
          12.84447151452687,
          11.736273363540471,
          9.06019709708332,
          9.315081831733975,
          5.041884877569897,
          14.291095957880758,
          10.731476942169452,
          10.418224761133787,
          12.478149455630493,
          9.03675276930459,
          11.367347336776792,
          13.358095883623932,
          9.81477770422141,
          14.594642252147075,
          17.026136880200625,
          12.586200383973885,
          8.144211784187931,
          12.166292841197457,
          8.273684923259164,
          16.763281125197633,
          11.210360128780662,
          12.612597361154576,
          15.977086385636529,
          12.275223078810809,
          12.821448252514088,
          9.587939381748448,
          9.875186101634913,
          12.325309757868613,
          9.81663380779236,
          5.467792444786884,
          11.947185916816991,
          13.388875620166422,
          10.882013925087495,
          4.697602740687209,
          8.995801855183432,
          11.305162332438927,
          20.56983412798077,
          12.493877424677898,
          12.908311549749003,
          11.049314218521678,
          13.116672843131811,
          15.586219479403809,
          10.700249543149967,
          9.359560917094557,
          8.688937586646194,
          11.681970029995012,
          9.970719816156057,
          13.270446050017133,
          10.696913565028035,
          14.248376270545899,
          13.203292442470852,
          10.121811001788604,
          12.44002306502184,
          11.387467047541744,
          9.276423435180178,
          10.45535237250999,
          11.379042453691666,
          6.124894071083565,
          14.666880612653912,
          9.964217853967437,
          12.024655010745068,
          13.586474624670158,
          11.279369927217434,
          9.01638740540228,
          11.74572368386235,
          14.112484803028458,
          11.566808693151774,
          9.80707744804451,
          12.241063425154849,
          10.510794344962257,
          15.708789482590763,
          12.638461891259597,
          12.14411022788109,
          12.828416230361636,
          16.42507496983473,
          9.64592701686146,
          12.107224651269469,
          9.609983848878283,
          13.11398111736463,
          11.846104659834085,
          7.6985301554753045,
          10.572649810625647,
          10.398027838055226,
          11.091890111305949,
          12.239055352802112,
          9.601678406448771,
          12.447278178961785,
          9.335634364783283,
          11.688729685420586,
          11.386183902371345,
          12.547659457203073,
          11.532432083226402,
          11.331184190188663,
          17.884424229359794,
          13.674319726118712,
          15.220328632535043,
          14.049676727881694,
          20.358843453983702,
          8.37777145412343,
          11.874654880652278,
          14.718082156732086,
          7.6072825764091085,
          12.620314641660311,
          11.663111769526141,
          9.907776811829239,
          13.230979191803396,
          9.52734082620378,
          11.749145303803198,
          11.43685118019049,
          13.221972257274183,
          13.547195011991935,
          12.391787845616497,
          16.69929794263907,
          11.821515675927868,
          12.320564407625918,
          8.45263118229489,
          11.377267538649336,
          15.356641882785201,
          11.378381998015007,
          12.863830289594391,
          3.872739968841131,
          10.48487123152333,
          7.995296098899249,
          8.23453104252092,
          16.290298370391426,
          10.182869584568264,
          11.8912175657915,
          12.736518900061448,
          12.914555266177992,
          11.90131358519586,
          12.983915681269552,
          13.730327686319765,
          11.356848456573223,
          13.275892376903059,
          11.148273960495226,
          15.475802365341924,
          14.817088977423754,
          12.931646051648316,
          13.257365374526477,
          11.64731408137233,
          16.53746155956283,
          13.21823308741113,
          11.580497314387141,
          13.27827628033987,
          11.348406652092208,
          14.706283744129802,
          13.398919875683653,
          11.60359199005191,
          16.863716548070624,
          12.185416892743941,
          10.517968734520306,
          11.127819834900054,
          11.581235522328228,
          12.967334100530369,
          10.051692814575391,
          4.15281226876572,
          13.554211143392866,
          12.034612203059504,
          6.321549107777757,
          11.694818212726192,
          12.191528215480407,
          11.990658710235039,
          11.016545331935093,
          10.975539028366246,
          11.425005037897213,
          12.54728245989636,
          10.464838538431433,
          12.965961612466058,
          12.214894711987872,
          16.007378231645006,
          19.036999164902383,
          14.018137728151576,
          11.165335603454901,
          12.650362967511235,
          11.642254988952851,
          7.39921893479973,
          16.059140974967182,
          11.62271300651578,
          11.877518364584414,
          13.132688817949457,
          14.029234391709306,
          15.752743902635013,
          12.744945999568392,
          13.772165612971143,
          9.06800710751178,
          13.85198899058354,
          11.792894760913935,
          11.662298072616236,
          10.982605062399829,
          15.339144775613294,
          15.071570491705561,
          11.616427633351138,
          13.691643271887136,
          8.204259376161215,
          13.479191072728261,
          9.239456613234807,
          12.467471759736945,
          9.950800343702552,
          10.376392599326856,
          11.676342590146215,
          13.1152435114872,
          11.171654456702603,
          13.361692045482638,
          12.90922442393928,
          14.104827343998586,
          15.915656900507631,
          13.766535631100231,
          17.914119901062175,
          9.440219137732118,
          10.689852376760353,
          8.987857276326242,
          11.204503735243826,
          14.223443031267736,
          14.03998966587541,
          6.5360945935067996,
          12.400716276175348,
          12.70602897966693,
          17.03613784443623,
          15.102390868235434,
          11.550607800305372,
          10.856574085382851,
          9.795514917445981,
          11.820376073581887,
          10.765753014805652,
          16.243969285093268,
          14.172494317286016,
          8.55167240361789,
          12.42853815473452,
          10.27647739825348,
          11.034566754629033,
          13.84542049294351,
          9.585751152284708,
          9.678617349172697,
          14.054331150565407,
          12.930055244820492,
          10.981216407197174,
          15.150804208631296,
          10.32789420571708,
          11.489594669191673,
          12.393109593385295,
          18.984472443070985,
          9.98242452278735,
          16.26315958101779
         ],
         "yaxis": "y"
        }
       ],
       "layout": {
        "legend": {
         "tracegroupgap": 0
        },
        "template": {
         "data": {
          "bar": [
           {
            "error_x": {
             "color": "#2a3f5f"
            },
            "error_y": {
             "color": "#2a3f5f"
            },
            "marker": {
             "line": {
              "color": "#E5ECF6",
              "width": 0.5
             },
             "pattern": {
              "fillmode": "overlay",
              "size": 10,
              "solidity": 0.2
             }
            },
            "type": "bar"
           }
          ],
          "barpolar": [
           {
            "marker": {
             "line": {
              "color": "#E5ECF6",
              "width": 0.5
             },
             "pattern": {
              "fillmode": "overlay",
              "size": 10,
              "solidity": 0.2
             }
            },
            "type": "barpolar"
           }
          ],
          "carpet": [
           {
            "aaxis": {
             "endlinecolor": "#2a3f5f",
             "gridcolor": "white",
             "linecolor": "white",
             "minorgridcolor": "white",
             "startlinecolor": "#2a3f5f"
            },
            "baxis": {
             "endlinecolor": "#2a3f5f",
             "gridcolor": "white",
             "linecolor": "white",
             "minorgridcolor": "white",
             "startlinecolor": "#2a3f5f"
            },
            "type": "carpet"
           }
          ],
          "choropleth": [
           {
            "colorbar": {
             "outlinewidth": 0,
             "ticks": ""
            },
            "type": "choropleth"
           }
          ],
          "contour": [
           {
            "colorbar": {
             "outlinewidth": 0,
             "ticks": ""
            },
            "colorscale": [
             [
              0,
              "#0d0887"
             ],
             [
              0.1111111111111111,
              "#46039f"
             ],
             [
              0.2222222222222222,
              "#7201a8"
             ],
             [
              0.3333333333333333,
              "#9c179e"
             ],
             [
              0.4444444444444444,
              "#bd3786"
             ],
             [
              0.5555555555555556,
              "#d8576b"
             ],
             [
              0.6666666666666666,
              "#ed7953"
             ],
             [
              0.7777777777777778,
              "#fb9f3a"
             ],
             [
              0.8888888888888888,
              "#fdca26"
             ],
             [
              1,
              "#f0f921"
             ]
            ],
            "type": "contour"
           }
          ],
          "contourcarpet": [
           {
            "colorbar": {
             "outlinewidth": 0,
             "ticks": ""
            },
            "type": "contourcarpet"
           }
          ],
          "heatmap": [
           {
            "colorbar": {
             "outlinewidth": 0,
             "ticks": ""
            },
            "colorscale": [
             [
              0,
              "#0d0887"
             ],
             [
              0.1111111111111111,
              "#46039f"
             ],
             [
              0.2222222222222222,
              "#7201a8"
             ],
             [
              0.3333333333333333,
              "#9c179e"
             ],
             [
              0.4444444444444444,
              "#bd3786"
             ],
             [
              0.5555555555555556,
              "#d8576b"
             ],
             [
              0.6666666666666666,
              "#ed7953"
             ],
             [
              0.7777777777777778,
              "#fb9f3a"
             ],
             [
              0.8888888888888888,
              "#fdca26"
             ],
             [
              1,
              "#f0f921"
             ]
            ],
            "type": "heatmap"
           }
          ],
          "heatmapgl": [
           {
            "colorbar": {
             "outlinewidth": 0,
             "ticks": ""
            },
            "colorscale": [
             [
              0,
              "#0d0887"
             ],
             [
              0.1111111111111111,
              "#46039f"
             ],
             [
              0.2222222222222222,
              "#7201a8"
             ],
             [
              0.3333333333333333,
              "#9c179e"
             ],
             [
              0.4444444444444444,
              "#bd3786"
             ],
             [
              0.5555555555555556,
              "#d8576b"
             ],
             [
              0.6666666666666666,
              "#ed7953"
             ],
             [
              0.7777777777777778,
              "#fb9f3a"
             ],
             [
              0.8888888888888888,
              "#fdca26"
             ],
             [
              1,
              "#f0f921"
             ]
            ],
            "type": "heatmapgl"
           }
          ],
          "histogram": [
           {
            "marker": {
             "pattern": {
              "fillmode": "overlay",
              "size": 10,
              "solidity": 0.2
             }
            },
            "type": "histogram"
           }
          ],
          "histogram2d": [
           {
            "colorbar": {
             "outlinewidth": 0,
             "ticks": ""
            },
            "colorscale": [
             [
              0,
              "#0d0887"
             ],
             [
              0.1111111111111111,
              "#46039f"
             ],
             [
              0.2222222222222222,
              "#7201a8"
             ],
             [
              0.3333333333333333,
              "#9c179e"
             ],
             [
              0.4444444444444444,
              "#bd3786"
             ],
             [
              0.5555555555555556,
              "#d8576b"
             ],
             [
              0.6666666666666666,
              "#ed7953"
             ],
             [
              0.7777777777777778,
              "#fb9f3a"
             ],
             [
              0.8888888888888888,
              "#fdca26"
             ],
             [
              1,
              "#f0f921"
             ]
            ],
            "type": "histogram2d"
           }
          ],
          "histogram2dcontour": [
           {
            "colorbar": {
             "outlinewidth": 0,
             "ticks": ""
            },
            "colorscale": [
             [
              0,
              "#0d0887"
             ],
             [
              0.1111111111111111,
              "#46039f"
             ],
             [
              0.2222222222222222,
              "#7201a8"
             ],
             [
              0.3333333333333333,
              "#9c179e"
             ],
             [
              0.4444444444444444,
              "#bd3786"
             ],
             [
              0.5555555555555556,
              "#d8576b"
             ],
             [
              0.6666666666666666,
              "#ed7953"
             ],
             [
              0.7777777777777778,
              "#fb9f3a"
             ],
             [
              0.8888888888888888,
              "#fdca26"
             ],
             [
              1,
              "#f0f921"
             ]
            ],
            "type": "histogram2dcontour"
           }
          ],
          "mesh3d": [
           {
            "colorbar": {
             "outlinewidth": 0,
             "ticks": ""
            },
            "type": "mesh3d"
           }
          ],
          "parcoords": [
           {
            "line": {
             "colorbar": {
              "outlinewidth": 0,
              "ticks": ""
             }
            },
            "type": "parcoords"
           }
          ],
          "pie": [
           {
            "automargin": true,
            "type": "pie"
           }
          ],
          "scatter": [
           {
            "fillpattern": {
             "fillmode": "overlay",
             "size": 10,
             "solidity": 0.2
            },
            "type": "scatter"
           }
          ],
          "scatter3d": [
           {
            "line": {
             "colorbar": {
              "outlinewidth": 0,
              "ticks": ""
             }
            },
            "marker": {
             "colorbar": {
              "outlinewidth": 0,
              "ticks": ""
             }
            },
            "type": "scatter3d"
           }
          ],
          "scattercarpet": [
           {
            "marker": {
             "colorbar": {
              "outlinewidth": 0,
              "ticks": ""
             }
            },
            "type": "scattercarpet"
           }
          ],
          "scattergeo": [
           {
            "marker": {
             "colorbar": {
              "outlinewidth": 0,
              "ticks": ""
             }
            },
            "type": "scattergeo"
           }
          ],
          "scattergl": [
           {
            "marker": {
             "colorbar": {
              "outlinewidth": 0,
              "ticks": ""
             }
            },
            "type": "scattergl"
           }
          ],
          "scattermapbox": [
           {
            "marker": {
             "colorbar": {
              "outlinewidth": 0,
              "ticks": ""
             }
            },
            "type": "scattermapbox"
           }
          ],
          "scatterpolar": [
           {
            "marker": {
             "colorbar": {
              "outlinewidth": 0,
              "ticks": ""
             }
            },
            "type": "scatterpolar"
           }
          ],
          "scatterpolargl": [
           {
            "marker": {
             "colorbar": {
              "outlinewidth": 0,
              "ticks": ""
             }
            },
            "type": "scatterpolargl"
           }
          ],
          "scatterternary": [
           {
            "marker": {
             "colorbar": {
              "outlinewidth": 0,
              "ticks": ""
             }
            },
            "type": "scatterternary"
           }
          ],
          "surface": [
           {
            "colorbar": {
             "outlinewidth": 0,
             "ticks": ""
            },
            "colorscale": [
             [
              0,
              "#0d0887"
             ],
             [
              0.1111111111111111,
              "#46039f"
             ],
             [
              0.2222222222222222,
              "#7201a8"
             ],
             [
              0.3333333333333333,
              "#9c179e"
             ],
             [
              0.4444444444444444,
              "#bd3786"
             ],
             [
              0.5555555555555556,
              "#d8576b"
             ],
             [
              0.6666666666666666,
              "#ed7953"
             ],
             [
              0.7777777777777778,
              "#fb9f3a"
             ],
             [
              0.8888888888888888,
              "#fdca26"
             ],
             [
              1,
              "#f0f921"
             ]
            ],
            "type": "surface"
           }
          ],
          "table": [
           {
            "cells": {
             "fill": {
              "color": "#EBF0F8"
             },
             "line": {
              "color": "white"
             }
            },
            "header": {
             "fill": {
              "color": "#C8D4E3"
             },
             "line": {
              "color": "white"
             }
            },
            "type": "table"
           }
          ]
         },
         "layout": {
          "annotationdefaults": {
           "arrowcolor": "#2a3f5f",
           "arrowhead": 0,
           "arrowwidth": 1
          },
          "autotypenumbers": "strict",
          "coloraxis": {
           "colorbar": {
            "outlinewidth": 0,
            "ticks": ""
           }
          },
          "colorscale": {
           "diverging": [
            [
             0,
             "#8e0152"
            ],
            [
             0.1,
             "#c51b7d"
            ],
            [
             0.2,
             "#de77ae"
            ],
            [
             0.3,
             "#f1b6da"
            ],
            [
             0.4,
             "#fde0ef"
            ],
            [
             0.5,
             "#f7f7f7"
            ],
            [
             0.6,
             "#e6f5d0"
            ],
            [
             0.7,
             "#b8e186"
            ],
            [
             0.8,
             "#7fbc41"
            ],
            [
             0.9,
             "#4d9221"
            ],
            [
             1,
             "#276419"
            ]
           ],
           "sequential": [
            [
             0,
             "#0d0887"
            ],
            [
             0.1111111111111111,
             "#46039f"
            ],
            [
             0.2222222222222222,
             "#7201a8"
            ],
            [
             0.3333333333333333,
             "#9c179e"
            ],
            [
             0.4444444444444444,
             "#bd3786"
            ],
            [
             0.5555555555555556,
             "#d8576b"
            ],
            [
             0.6666666666666666,
             "#ed7953"
            ],
            [
             0.7777777777777778,
             "#fb9f3a"
            ],
            [
             0.8888888888888888,
             "#fdca26"
            ],
            [
             1,
             "#f0f921"
            ]
           ],
           "sequentialminus": [
            [
             0,
             "#0d0887"
            ],
            [
             0.1111111111111111,
             "#46039f"
            ],
            [
             0.2222222222222222,
             "#7201a8"
            ],
            [
             0.3333333333333333,
             "#9c179e"
            ],
            [
             0.4444444444444444,
             "#bd3786"
            ],
            [
             0.5555555555555556,
             "#d8576b"
            ],
            [
             0.6666666666666666,
             "#ed7953"
            ],
            [
             0.7777777777777778,
             "#fb9f3a"
            ],
            [
             0.8888888888888888,
             "#fdca26"
            ],
            [
             1,
             "#f0f921"
            ]
           ]
          },
          "colorway": [
           "#636efa",
           "#EF553B",
           "#00cc96",
           "#ab63fa",
           "#FFA15A",
           "#19d3f3",
           "#FF6692",
           "#B6E880",
           "#FF97FF",
           "#FECB52"
          ],
          "font": {
           "color": "#2a3f5f"
          },
          "geo": {
           "bgcolor": "white",
           "lakecolor": "white",
           "landcolor": "#E5ECF6",
           "showlakes": true,
           "showland": true,
           "subunitcolor": "white"
          },
          "hoverlabel": {
           "align": "left"
          },
          "hovermode": "closest",
          "mapbox": {
           "style": "light"
          },
          "paper_bgcolor": "white",
          "plot_bgcolor": "#E5ECF6",
          "polar": {
           "angularaxis": {
            "gridcolor": "white",
            "linecolor": "white",
            "ticks": ""
           },
           "bgcolor": "#E5ECF6",
           "radialaxis": {
            "gridcolor": "white",
            "linecolor": "white",
            "ticks": ""
           }
          },
          "scene": {
           "xaxis": {
            "backgroundcolor": "#E5ECF6",
            "gridcolor": "white",
            "gridwidth": 2,
            "linecolor": "white",
            "showbackground": true,
            "ticks": "",
            "zerolinecolor": "white"
           },
           "yaxis": {
            "backgroundcolor": "#E5ECF6",
            "gridcolor": "white",
            "gridwidth": 2,
            "linecolor": "white",
            "showbackground": true,
            "ticks": "",
            "zerolinecolor": "white"
           },
           "zaxis": {
            "backgroundcolor": "#E5ECF6",
            "gridcolor": "white",
            "gridwidth": 2,
            "linecolor": "white",
            "showbackground": true,
            "ticks": "",
            "zerolinecolor": "white"
           }
          },
          "shapedefaults": {
           "line": {
            "color": "#2a3f5f"
           }
          },
          "ternary": {
           "aaxis": {
            "gridcolor": "white",
            "linecolor": "white",
            "ticks": ""
           },
           "baxis": {
            "gridcolor": "white",
            "linecolor": "white",
            "ticks": ""
           },
           "bgcolor": "#E5ECF6",
           "caxis": {
            "gridcolor": "white",
            "linecolor": "white",
            "ticks": ""
           }
          },
          "title": {
           "x": 0.05
          },
          "xaxis": {
           "automargin": true,
           "gridcolor": "white",
           "linecolor": "white",
           "ticks": "",
           "title": {
            "standoff": 15
           },
           "zerolinecolor": "white",
           "zerolinewidth": 2
          },
          "yaxis": {
           "automargin": true,
           "gridcolor": "white",
           "linecolor": "white",
           "ticks": "",
           "title": {
            "standoff": 15
           },
           "zerolinecolor": "white",
           "zerolinewidth": 2
          }
         }
        },
        "title": {
         "text": "y_train vs y_pred_train"
        },
        "xaxis": {
         "anchor": "y",
         "domain": [
          0,
          1
         ],
         "title": {
          "text": "y_train"
         }
        },
        "yaxis": {
         "anchor": "x",
         "domain": [
          0,
          1
         ],
         "title": {
          "text": "y_pred_train"
         }
        }
       }
      },
      "text/html": [
       "<div>                            <div id=\"f7466068-98c0-439d-815e-f4d94093e293\" class=\"plotly-graph-div\" style=\"height:525px; width:100%;\"></div>            <script type=\"text/javascript\">                require([\"plotly\"], function(Plotly) {                    window.PLOTLYENV=window.PLOTLYENV || {};                                    if (document.getElementById(\"f7466068-98c0-439d-815e-f4d94093e293\")) {                    Plotly.newPlot(                        \"f7466068-98c0-439d-815e-f4d94093e293\",                        [{\"hovertemplate\":\"y_train=%{x}<br>y_pred_train=%{y}<extra></extra>\",\"legendgroup\":\"\",\"marker\":{\"color\":\"#636efa\",\"symbol\":\"circle\"},\"mode\":\"markers\",\"name\":\"\",\"orientation\":\"v\",\"showlegend\":false,\"x\":[32,1,7,5,36,5,9,6,3,2,30,11,4,5,18,10,6,10,3,2,34,12,4,5,11,10,23,5,19,4,15,10,35,3,8,4,13,2,18,6,2,28,19,8,10,8,7,7,9,13,4,5,5,53,13,14,9,3,17,33,4,5,33,6,41,7,10,6,34,10,6,7,3,9,10,16,15,3,2,3,23,9,4,10,4,33,19,7,4,10,13,15,13,21,4,1,9,34,20,7,12,4,6,4,3,14,4,2,4,2,29,10,21,16,1,6,8,5,17,8,3,7,15,8,37,36,8,8,11,6,44,8,17,9,2,5,5,2,16,11,6,8,10,12,3,3,2,49,10,8,7,7,12,9,10,3,3,3,6,4,20,8,10,10,19,5,7,5,11,6,3,19,1,19,10,8,42,17,16,12,30,12,33,17,13,59,3,8,12,3,11,6,12,6,3,3,10,3,7,8,8,5,4,9,81,14,18,10,32,6,8,33,25,16,9,3,2,3,29,6,10,10,4,10,5,5,4,25,5,3,3,3,8,14,11,7,3,12,60,3,7,13,26,6,1,8,18,13,9,4,6,24,9,3,6,2,5,6,26,39,10,11,8,13,7,7,8,25,5,5,2,12,5,39,9,18,14,22,6,3,5,43,8,2,4,3,8,6,14,10,13,34,20,39,10,2,12,21,11,11,22,7,7,5,3,6,6,9,4,9,13,13,4,7,5,12,38,2,42,12,8,7,3,57,16,8,9,7,42,44,2,7,9,1,17,11,22,6,12,8,6,10,6,6,13,7,4,9,3,7,7,27,8,22],\"xaxis\":\"x\",\"y\":[13.376967494322951,10.672241192844545,11.592552201745999,14.5620579953025,14.27446602601302,10.707430839061661,9.699090802456766,15.546560777291273,13.59631023370147,10.598730595709924,11.916408253697309,10.011572135762542,13.967433391324683,15.323755746910539,11.672719188740679,11.727874955048222,11.096443437759227,16.844159245727333,4.19715459667357,7.4110956520653435,13.022861960765155,11.274292751124081,11.54826351443619,5.536396316160228,6.608882279285577,12.897957696424044,15.657136428093935,11.575359748978508,12.418515080282992,8.500561715057184,14.407540781340145,12.735249311086337,11.734733339363403,7.162797036040187,11.42246098931444,12.171481773644993,17.04485201735099,9.602392346349752,13.006278149864348,12.709030635361676,11.778002159996815,19.935164657727093,13.718080455153162,7.3511900152571545,11.494189657974488,8.415395502237926,7.14992711182384,10.729297729200686,11.453946299612753,10.946186914274369,10.77815693681784,11.433410662696076,12.566053328454005,19.88880874228731,14.465435419364201,15.48712151792144,13.701553275062691,6.926643002113452,7.865715778627676,17.686839846218717,14.63092180047322,10.671795778693687,13.494898462112815,19.0827019636307,15.5397910163319,7.731020010560437,9.486777548746652,16.072156623530468,18.954038886071412,9.383024219447709,8.261370471911949,15.635933168745964,15.117400130638964,9.868950483332444,11.258469170281042,14.989417238438225,10.981288216162206,5.412384671432212,8.699234769067072,13.317597700301278,12.932476574862221,9.880594670736466,12.462435664987211,13.387415898459537,10.514865551791388,15.543344051729386,14.114021460432813,12.381186244234174,8.859343855328042,9.549552556255936,12.550431271673032,17.60400511272391,11.25277640511789,9.228634476003267,9.679362907242997,2.6299213647060267,11.318156903397018,16.944116731663122,15.178895251061945,9.268871242176303,12.684174241424092,8.32793286824641,10.24387726233616,12.00936907517843,10.555184980320734,11.226302922323812,9.771560460376616,12.050878612196048,9.616439262608855,14.719558516778346,7.748095882510879,12.84447151452687,11.736273363540471,9.06019709708332,9.315081831733975,5.041884877569897,14.291095957880758,10.731476942169452,10.418224761133787,12.478149455630493,9.03675276930459,11.367347336776792,13.358095883623932,9.81477770422141,14.594642252147075,17.026136880200625,12.586200383973885,8.144211784187931,12.166292841197457,8.273684923259164,16.763281125197633,11.210360128780662,12.612597361154576,15.977086385636529,12.275223078810809,12.821448252514088,9.587939381748448,9.875186101634913,12.325309757868613,9.81663380779236,5.467792444786884,11.947185916816991,13.388875620166422,10.882013925087495,4.697602740687209,8.995801855183432,11.305162332438927,20.56983412798077,12.493877424677898,12.908311549749003,11.049314218521678,13.116672843131811,15.586219479403809,10.700249543149967,9.359560917094557,8.688937586646194,11.681970029995012,9.970719816156057,13.270446050017133,10.696913565028035,14.248376270545899,13.203292442470852,10.121811001788604,12.44002306502184,11.387467047541744,9.276423435180178,10.45535237250999,11.379042453691666,6.124894071083565,14.666880612653912,9.964217853967437,12.024655010745068,13.586474624670158,11.279369927217434,9.01638740540228,11.74572368386235,14.112484803028458,11.566808693151774,9.80707744804451,12.241063425154849,10.510794344962257,15.708789482590763,12.638461891259597,12.14411022788109,12.828416230361636,16.42507496983473,9.64592701686146,12.107224651269469,9.609983848878283,13.11398111736463,11.846104659834085,7.6985301554753045,10.572649810625647,10.398027838055226,11.091890111305949,12.239055352802112,9.601678406448771,12.447278178961785,9.335634364783283,11.688729685420586,11.386183902371345,12.547659457203073,11.532432083226402,11.331184190188663,17.884424229359794,13.674319726118712,15.220328632535043,14.049676727881694,20.358843453983702,8.37777145412343,11.874654880652278,14.718082156732086,7.6072825764091085,12.620314641660311,11.663111769526141,9.907776811829239,13.230979191803396,9.52734082620378,11.749145303803198,11.43685118019049,13.221972257274183,13.547195011991935,12.391787845616497,16.69929794263907,11.821515675927868,12.320564407625918,8.45263118229489,11.377267538649336,15.356641882785201,11.378381998015007,12.863830289594391,3.872739968841131,10.48487123152333,7.995296098899249,8.23453104252092,16.290298370391426,10.182869584568264,11.8912175657915,12.736518900061448,12.914555266177992,11.90131358519586,12.983915681269552,13.730327686319765,11.356848456573223,13.275892376903059,11.148273960495226,15.475802365341924,14.817088977423754,12.931646051648316,13.257365374526477,11.64731408137233,16.53746155956283,13.21823308741113,11.580497314387141,13.27827628033987,11.348406652092208,14.706283744129802,13.398919875683653,11.60359199005191,16.863716548070624,12.185416892743941,10.517968734520306,11.127819834900054,11.581235522328228,12.967334100530369,10.051692814575391,4.15281226876572,13.554211143392866,12.034612203059504,6.321549107777757,11.694818212726192,12.191528215480407,11.990658710235039,11.016545331935093,10.975539028366246,11.425005037897213,12.54728245989636,10.464838538431433,12.965961612466058,12.214894711987872,16.007378231645006,19.036999164902383,14.018137728151576,11.165335603454901,12.650362967511235,11.642254988952851,7.39921893479973,16.059140974967182,11.62271300651578,11.877518364584414,13.132688817949457,14.029234391709306,15.752743902635013,12.744945999568392,13.772165612971143,9.06800710751178,13.85198899058354,11.792894760913935,11.662298072616236,10.982605062399829,15.339144775613294,15.071570491705561,11.616427633351138,13.691643271887136,8.204259376161215,13.479191072728261,9.239456613234807,12.467471759736945,9.950800343702552,10.376392599326856,11.676342590146215,13.1152435114872,11.171654456702603,13.361692045482638,12.90922442393928,14.104827343998586,15.915656900507631,13.766535631100231,17.914119901062175,9.440219137732118,10.689852376760353,8.987857276326242,11.204503735243826,14.223443031267736,14.03998966587541,6.5360945935067996,12.400716276175348,12.70602897966693,17.03613784443623,15.102390868235434,11.550607800305372,10.856574085382851,9.795514917445981,11.820376073581887,10.765753014805652,16.243969285093268,14.172494317286016,8.55167240361789,12.42853815473452,10.27647739825348,11.034566754629033,13.84542049294351,9.585751152284708,9.678617349172697,14.054331150565407,12.930055244820492,10.981216407197174,15.150804208631296,10.32789420571708,11.489594669191673,12.393109593385295,18.984472443070985,9.98242452278735,16.26315958101779],\"yaxis\":\"y\",\"type\":\"scatter\"}],                        {\"template\":{\"data\":{\"histogram2dcontour\":[{\"type\":\"histogram2dcontour\",\"colorbar\":{\"outlinewidth\":0,\"ticks\":\"\"},\"colorscale\":[[0.0,\"#0d0887\"],[0.1111111111111111,\"#46039f\"],[0.2222222222222222,\"#7201a8\"],[0.3333333333333333,\"#9c179e\"],[0.4444444444444444,\"#bd3786\"],[0.5555555555555556,\"#d8576b\"],[0.6666666666666666,\"#ed7953\"],[0.7777777777777778,\"#fb9f3a\"],[0.8888888888888888,\"#fdca26\"],[1.0,\"#f0f921\"]]}],\"choropleth\":[{\"type\":\"choropleth\",\"colorbar\":{\"outlinewidth\":0,\"ticks\":\"\"}}],\"histogram2d\":[{\"type\":\"histogram2d\",\"colorbar\":{\"outlinewidth\":0,\"ticks\":\"\"},\"colorscale\":[[0.0,\"#0d0887\"],[0.1111111111111111,\"#46039f\"],[0.2222222222222222,\"#7201a8\"],[0.3333333333333333,\"#9c179e\"],[0.4444444444444444,\"#bd3786\"],[0.5555555555555556,\"#d8576b\"],[0.6666666666666666,\"#ed7953\"],[0.7777777777777778,\"#fb9f3a\"],[0.8888888888888888,\"#fdca26\"],[1.0,\"#f0f921\"]]}],\"heatmap\":[{\"type\":\"heatmap\",\"colorbar\":{\"outlinewidth\":0,\"ticks\":\"\"},\"colorscale\":[[0.0,\"#0d0887\"],[0.1111111111111111,\"#46039f\"],[0.2222222222222222,\"#7201a8\"],[0.3333333333333333,\"#9c179e\"],[0.4444444444444444,\"#bd3786\"],[0.5555555555555556,\"#d8576b\"],[0.6666666666666666,\"#ed7953\"],[0.7777777777777778,\"#fb9f3a\"],[0.8888888888888888,\"#fdca26\"],[1.0,\"#f0f921\"]]}],\"heatmapgl\":[{\"type\":\"heatmapgl\",\"colorbar\":{\"outlinewidth\":0,\"ticks\":\"\"},\"colorscale\":[[0.0,\"#0d0887\"],[0.1111111111111111,\"#46039f\"],[0.2222222222222222,\"#7201a8\"],[0.3333333333333333,\"#9c179e\"],[0.4444444444444444,\"#bd3786\"],[0.5555555555555556,\"#d8576b\"],[0.6666666666666666,\"#ed7953\"],[0.7777777777777778,\"#fb9f3a\"],[0.8888888888888888,\"#fdca26\"],[1.0,\"#f0f921\"]]}],\"contourcarpet\":[{\"type\":\"contourcarpet\",\"colorbar\":{\"outlinewidth\":0,\"ticks\":\"\"}}],\"contour\":[{\"type\":\"contour\",\"colorbar\":{\"outlinewidth\":0,\"ticks\":\"\"},\"colorscale\":[[0.0,\"#0d0887\"],[0.1111111111111111,\"#46039f\"],[0.2222222222222222,\"#7201a8\"],[0.3333333333333333,\"#9c179e\"],[0.4444444444444444,\"#bd3786\"],[0.5555555555555556,\"#d8576b\"],[0.6666666666666666,\"#ed7953\"],[0.7777777777777778,\"#fb9f3a\"],[0.8888888888888888,\"#fdca26\"],[1.0,\"#f0f921\"]]}],\"surface\":[{\"type\":\"surface\",\"colorbar\":{\"outlinewidth\":0,\"ticks\":\"\"},\"colorscale\":[[0.0,\"#0d0887\"],[0.1111111111111111,\"#46039f\"],[0.2222222222222222,\"#7201a8\"],[0.3333333333333333,\"#9c179e\"],[0.4444444444444444,\"#bd3786\"],[0.5555555555555556,\"#d8576b\"],[0.6666666666666666,\"#ed7953\"],[0.7777777777777778,\"#fb9f3a\"],[0.8888888888888888,\"#fdca26\"],[1.0,\"#f0f921\"]]}],\"mesh3d\":[{\"type\":\"mesh3d\",\"colorbar\":{\"outlinewidth\":0,\"ticks\":\"\"}}],\"scatter\":[{\"fillpattern\":{\"fillmode\":\"overlay\",\"size\":10,\"solidity\":0.2},\"type\":\"scatter\"}],\"parcoords\":[{\"type\":\"parcoords\",\"line\":{\"colorbar\":{\"outlinewidth\":0,\"ticks\":\"\"}}}],\"scatterpolargl\":[{\"type\":\"scatterpolargl\",\"marker\":{\"colorbar\":{\"outlinewidth\":0,\"ticks\":\"\"}}}],\"bar\":[{\"error_x\":{\"color\":\"#2a3f5f\"},\"error_y\":{\"color\":\"#2a3f5f\"},\"marker\":{\"line\":{\"color\":\"#E5ECF6\",\"width\":0.5},\"pattern\":{\"fillmode\":\"overlay\",\"size\":10,\"solidity\":0.2}},\"type\":\"bar\"}],\"scattergeo\":[{\"type\":\"scattergeo\",\"marker\":{\"colorbar\":{\"outlinewidth\":0,\"ticks\":\"\"}}}],\"scatterpolar\":[{\"type\":\"scatterpolar\",\"marker\":{\"colorbar\":{\"outlinewidth\":0,\"ticks\":\"\"}}}],\"histogram\":[{\"marker\":{\"pattern\":{\"fillmode\":\"overlay\",\"size\":10,\"solidity\":0.2}},\"type\":\"histogram\"}],\"scattergl\":[{\"type\":\"scattergl\",\"marker\":{\"colorbar\":{\"outlinewidth\":0,\"ticks\":\"\"}}}],\"scatter3d\":[{\"type\":\"scatter3d\",\"line\":{\"colorbar\":{\"outlinewidth\":0,\"ticks\":\"\"}},\"marker\":{\"colorbar\":{\"outlinewidth\":0,\"ticks\":\"\"}}}],\"scattermapbox\":[{\"type\":\"scattermapbox\",\"marker\":{\"colorbar\":{\"outlinewidth\":0,\"ticks\":\"\"}}}],\"scatterternary\":[{\"type\":\"scatterternary\",\"marker\":{\"colorbar\":{\"outlinewidth\":0,\"ticks\":\"\"}}}],\"scattercarpet\":[{\"type\":\"scattercarpet\",\"marker\":{\"colorbar\":{\"outlinewidth\":0,\"ticks\":\"\"}}}],\"carpet\":[{\"aaxis\":{\"endlinecolor\":\"#2a3f5f\",\"gridcolor\":\"white\",\"linecolor\":\"white\",\"minorgridcolor\":\"white\",\"startlinecolor\":\"#2a3f5f\"},\"baxis\":{\"endlinecolor\":\"#2a3f5f\",\"gridcolor\":\"white\",\"linecolor\":\"white\",\"minorgridcolor\":\"white\",\"startlinecolor\":\"#2a3f5f\"},\"type\":\"carpet\"}],\"table\":[{\"cells\":{\"fill\":{\"color\":\"#EBF0F8\"},\"line\":{\"color\":\"white\"}},\"header\":{\"fill\":{\"color\":\"#C8D4E3\"},\"line\":{\"color\":\"white\"}},\"type\":\"table\"}],\"barpolar\":[{\"marker\":{\"line\":{\"color\":\"#E5ECF6\",\"width\":0.5},\"pattern\":{\"fillmode\":\"overlay\",\"size\":10,\"solidity\":0.2}},\"type\":\"barpolar\"}],\"pie\":[{\"automargin\":true,\"type\":\"pie\"}]},\"layout\":{\"autotypenumbers\":\"strict\",\"colorway\":[\"#636efa\",\"#EF553B\",\"#00cc96\",\"#ab63fa\",\"#FFA15A\",\"#19d3f3\",\"#FF6692\",\"#B6E880\",\"#FF97FF\",\"#FECB52\"],\"font\":{\"color\":\"#2a3f5f\"},\"hovermode\":\"closest\",\"hoverlabel\":{\"align\":\"left\"},\"paper_bgcolor\":\"white\",\"plot_bgcolor\":\"#E5ECF6\",\"polar\":{\"bgcolor\":\"#E5ECF6\",\"angularaxis\":{\"gridcolor\":\"white\",\"linecolor\":\"white\",\"ticks\":\"\"},\"radialaxis\":{\"gridcolor\":\"white\",\"linecolor\":\"white\",\"ticks\":\"\"}},\"ternary\":{\"bgcolor\":\"#E5ECF6\",\"aaxis\":{\"gridcolor\":\"white\",\"linecolor\":\"white\",\"ticks\":\"\"},\"baxis\":{\"gridcolor\":\"white\",\"linecolor\":\"white\",\"ticks\":\"\"},\"caxis\":{\"gridcolor\":\"white\",\"linecolor\":\"white\",\"ticks\":\"\"}},\"coloraxis\":{\"colorbar\":{\"outlinewidth\":0,\"ticks\":\"\"}},\"colorscale\":{\"sequential\":[[0.0,\"#0d0887\"],[0.1111111111111111,\"#46039f\"],[0.2222222222222222,\"#7201a8\"],[0.3333333333333333,\"#9c179e\"],[0.4444444444444444,\"#bd3786\"],[0.5555555555555556,\"#d8576b\"],[0.6666666666666666,\"#ed7953\"],[0.7777777777777778,\"#fb9f3a\"],[0.8888888888888888,\"#fdca26\"],[1.0,\"#f0f921\"]],\"sequentialminus\":[[0.0,\"#0d0887\"],[0.1111111111111111,\"#46039f\"],[0.2222222222222222,\"#7201a8\"],[0.3333333333333333,\"#9c179e\"],[0.4444444444444444,\"#bd3786\"],[0.5555555555555556,\"#d8576b\"],[0.6666666666666666,\"#ed7953\"],[0.7777777777777778,\"#fb9f3a\"],[0.8888888888888888,\"#fdca26\"],[1.0,\"#f0f921\"]],\"diverging\":[[0,\"#8e0152\"],[0.1,\"#c51b7d\"],[0.2,\"#de77ae\"],[0.3,\"#f1b6da\"],[0.4,\"#fde0ef\"],[0.5,\"#f7f7f7\"],[0.6,\"#e6f5d0\"],[0.7,\"#b8e186\"],[0.8,\"#7fbc41\"],[0.9,\"#4d9221\"],[1,\"#276419\"]]},\"xaxis\":{\"gridcolor\":\"white\",\"linecolor\":\"white\",\"ticks\":\"\",\"title\":{\"standoff\":15},\"zerolinecolor\":\"white\",\"automargin\":true,\"zerolinewidth\":2},\"yaxis\":{\"gridcolor\":\"white\",\"linecolor\":\"white\",\"ticks\":\"\",\"title\":{\"standoff\":15},\"zerolinecolor\":\"white\",\"automargin\":true,\"zerolinewidth\":2},\"scene\":{\"xaxis\":{\"backgroundcolor\":\"#E5ECF6\",\"gridcolor\":\"white\",\"linecolor\":\"white\",\"showbackground\":true,\"ticks\":\"\",\"zerolinecolor\":\"white\",\"gridwidth\":2},\"yaxis\":{\"backgroundcolor\":\"#E5ECF6\",\"gridcolor\":\"white\",\"linecolor\":\"white\",\"showbackground\":true,\"ticks\":\"\",\"zerolinecolor\":\"white\",\"gridwidth\":2},\"zaxis\":{\"backgroundcolor\":\"#E5ECF6\",\"gridcolor\":\"white\",\"linecolor\":\"white\",\"showbackground\":true,\"ticks\":\"\",\"zerolinecolor\":\"white\",\"gridwidth\":2}},\"shapedefaults\":{\"line\":{\"color\":\"#2a3f5f\"}},\"annotationdefaults\":{\"arrowcolor\":\"#2a3f5f\",\"arrowhead\":0,\"arrowwidth\":1},\"geo\":{\"bgcolor\":\"white\",\"landcolor\":\"#E5ECF6\",\"subunitcolor\":\"white\",\"showland\":true,\"showlakes\":true,\"lakecolor\":\"white\"},\"title\":{\"x\":0.05},\"mapbox\":{\"style\":\"light\"}}},\"xaxis\":{\"anchor\":\"y\",\"domain\":[0.0,1.0],\"title\":{\"text\":\"y_train\"}},\"yaxis\":{\"anchor\":\"x\",\"domain\":[0.0,1.0],\"title\":{\"text\":\"y_pred_train\"}},\"legend\":{\"tracegroupgap\":0},\"title\":{\"text\":\"y_train vs y_pred_train\"}},                        {\"responsive\": true}                    ).then(function(){\n",
       "                            \n",
       "var gd = document.getElementById('f7466068-98c0-439d-815e-f4d94093e293');\n",
       "var x = new MutationObserver(function (mutations, observer) {{\n",
       "        var display = window.getComputedStyle(gd).display;\n",
       "        if (!display || display === 'none') {{\n",
       "            console.log([gd, 'removed!']);\n",
       "            Plotly.purge(gd);\n",
       "            observer.disconnect();\n",
       "        }}\n",
       "}});\n",
       "\n",
       "// Listen for the removal of the full notebook cells\n",
       "var notebookContainer = gd.closest('#notebook-container');\n",
       "if (notebookContainer) {{\n",
       "    x.observe(notebookContainer, {childList: true});\n",
       "}}\n",
       "\n",
       "// Listen for the clearing of the current output cell\n",
       "var outputEl = gd.closest('.output');\n",
       "if (outputEl) {{\n",
       "    x.observe(outputEl, {childList: true});\n",
       "}}\n",
       "\n",
       "                        })                };                });            </script>        </div>"
      ]
     },
     "metadata": {},
     "output_type": "display_data"
    },
    {
     "data": {
      "application/vnd.plotly.v1+json": {
       "config": {
        "plotlyServerURL": "https://plot.ly"
       },
       "data": [
        {
         "hovertemplate": "y_test=%{x}<br>y_pred_test=%{y}<extra></extra>",
         "legendgroup": "",
         "marker": {
          "color": "green",
          "symbol": "circle"
         },
         "mode": "markers",
         "name": "",
         "orientation": "v",
         "showlegend": false,
         "type": "scatter",
         "x": [
          4,
          22,
          4,
          15,
          34,
          4,
          8,
          3,
          4,
          4,
          1,
          29,
          4,
          17,
          10,
          26,
          7,
          13,
          2,
          25,
          21,
          12,
          2,
          2,
          28,
          7,
          38,
          31,
          1,
          18,
          19,
          17,
          25,
          8,
          10,
          2,
          7,
          37,
          8,
          1,
          12,
          43,
          13,
          19,
          10,
          2,
          7,
          2,
          6,
          21,
          8,
          9,
          12,
          22,
          5,
          8,
          27,
          3,
          5,
          9,
          3,
          7,
          10,
          7,
          8,
          35,
          3,
          5,
          38,
          10,
          40,
          5,
          2,
          52,
          14,
          16,
          16,
          21,
          25,
          12,
          5,
          9,
          15,
          17,
          10,
          4,
          5,
          24,
          38,
          9,
          9,
          9,
          9,
          3,
          15,
          2,
          5,
          13,
          10,
          7,
          58,
          4,
          7,
          15,
          2,
          9,
          2,
          6,
          23,
          5,
          4,
          13,
          24,
          7,
          3,
          3,
          3,
          8,
          9,
          8,
          3,
          8,
          17,
          42,
          5,
          11,
          3,
          24,
          2,
          16,
          9,
          6,
          5,
          37,
          8,
          4,
          69,
          5,
          4,
          6,
          11,
          14,
          6,
          12,
          28,
          6,
          12,
          10,
          72,
          41,
          24,
          11
         ],
         "xaxis": "x",
         "y": [
          8.953299556326028,
          12.348830157482483,
          12.48007957037763,
          14.385679745241156,
          13.748803487775882,
          11.751802351735549,
          10.797867128802013,
          10.405285191582589,
          12.997548259665233,
          5.1720915073599985,
          13.230904125589785,
          15.101584289794037,
          10.070371825102505,
          14.08106718238064,
          10.573764019410515,
          13.80566744639245,
          9.496014841777116,
          14.011860420353312,
          8.073676497331887,
          15.85807810057658,
          10.869308598405492,
          16.363125437367128,
          12.423200448791652,
          8.933375303922256,
          13.515191275240506,
          13.945927504401329,
          10.357588286671623,
          12.493336838863437,
          14.536993721969665,
          16.110416401081405,
          11.910276602043167,
          11.512129656221756,
          10.029142915670668,
          12.39733254531998,
          12.79855974358913,
          13.625667069104122,
          12.5424069747266,
          10.913696435824377,
          11.09872925165893,
          11.125257051489802,
          10.84305562136354,
          15.297249491977206,
          11.123613752222749,
          15.734863409784243,
          12.399457948729552,
          14.06636109693834,
          14.506525970072895,
          11.557172172121335,
          15.731353327441768,
          12.682529282768117,
          13.09042818896832,
          14.54562977017104,
          12.192881751667356,
          12.208121801551505,
          6.504975632611785,
          13.526314973366787,
          19.27373446128181,
          12.842919183310954,
          8.63996959126145,
          10.401571614326363,
          11.963019509294577,
          13.038924993693156,
          13.836181621417388,
          10.061737786085496,
          15.813598831120057,
          10.189265058545878,
          10.743325703094634,
          4.430117014393052,
          9.04939523833733,
          11.143135317414938,
          14.17441236688612,
          13.964561261078604,
          2.3043993091177306,
          14.345098382831388,
          11.416957435219691,
          7.1523329167462,
          14.30398725476206,
          12.109893071230571,
          11.496528895647565,
          9.158929542725312,
          13.810714131121141,
          9.151636255786137,
          14.133710848888576,
          14.655728608115563,
          10.162717022188133,
          12.5564506189946,
          12.706066898670178,
          13.689629061795404,
          11.094904628509362,
          12.209756506755292,
          12.015561685304416,
          7.319408594505409,
          9.808389153394094,
          8.223189209991892,
          11.16790344435925,
          18.163392386198066,
          9.340308415806208,
          11.2944089503677,
          11.37618024171635,
          5.636568686484952,
          9.822384611230856,
          10.616336966343155,
          12.297878201437895,
          10.539289566444705,
          14.310665411914226,
          11.790041354904346,
          11.323590221341563,
          14.193187307516627,
          18.43914414945027,
          9.821128352433835,
          11.309617671429152,
          4.974556064762192,
          10.573720547443097,
          12.530537191477922,
          14.027641833503116,
          16.215905002631086,
          13.719508337169326,
          8.401786670597371,
          6.652854578761695,
          13.915934808148926,
          9.24537025490595,
          9.196126936045225,
          11.836249325817924,
          8.538941822776724,
          11.922183330748874,
          15.195208373325766,
          13.446562521408936,
          12.363737245256988,
          11.426651992560092,
          10.96349390841368,
          12.370841499904392,
          11.222422287854437,
          11.048212573909098,
          11.396637830631203,
          6.409982798922366,
          12.53996651984338,
          8.691140387181022,
          12.124628278258331,
          16.332861268426484,
          16.733275555735176,
          10.596335652288762,
          11.192276176554182,
          15.415344001722461,
          10.487073143738186,
          13.741875039178819,
          10.62083329972382,
          10.27633322547927,
          12.396838510482226,
          11.885019064719181,
          6.888875509568894,
          10.979052108837628,
          9.529427601049576
         ],
         "yaxis": "y"
        }
       ],
       "layout": {
        "legend": {
         "tracegroupgap": 0
        },
        "template": {
         "data": {
          "bar": [
           {
            "error_x": {
             "color": "#2a3f5f"
            },
            "error_y": {
             "color": "#2a3f5f"
            },
            "marker": {
             "line": {
              "color": "#E5ECF6",
              "width": 0.5
             },
             "pattern": {
              "fillmode": "overlay",
              "size": 10,
              "solidity": 0.2
             }
            },
            "type": "bar"
           }
          ],
          "barpolar": [
           {
            "marker": {
             "line": {
              "color": "#E5ECF6",
              "width": 0.5
             },
             "pattern": {
              "fillmode": "overlay",
              "size": 10,
              "solidity": 0.2
             }
            },
            "type": "barpolar"
           }
          ],
          "carpet": [
           {
            "aaxis": {
             "endlinecolor": "#2a3f5f",
             "gridcolor": "white",
             "linecolor": "white",
             "minorgridcolor": "white",
             "startlinecolor": "#2a3f5f"
            },
            "baxis": {
             "endlinecolor": "#2a3f5f",
             "gridcolor": "white",
             "linecolor": "white",
             "minorgridcolor": "white",
             "startlinecolor": "#2a3f5f"
            },
            "type": "carpet"
           }
          ],
          "choropleth": [
           {
            "colorbar": {
             "outlinewidth": 0,
             "ticks": ""
            },
            "type": "choropleth"
           }
          ],
          "contour": [
           {
            "colorbar": {
             "outlinewidth": 0,
             "ticks": ""
            },
            "colorscale": [
             [
              0,
              "#0d0887"
             ],
             [
              0.1111111111111111,
              "#46039f"
             ],
             [
              0.2222222222222222,
              "#7201a8"
             ],
             [
              0.3333333333333333,
              "#9c179e"
             ],
             [
              0.4444444444444444,
              "#bd3786"
             ],
             [
              0.5555555555555556,
              "#d8576b"
             ],
             [
              0.6666666666666666,
              "#ed7953"
             ],
             [
              0.7777777777777778,
              "#fb9f3a"
             ],
             [
              0.8888888888888888,
              "#fdca26"
             ],
             [
              1,
              "#f0f921"
             ]
            ],
            "type": "contour"
           }
          ],
          "contourcarpet": [
           {
            "colorbar": {
             "outlinewidth": 0,
             "ticks": ""
            },
            "type": "contourcarpet"
           }
          ],
          "heatmap": [
           {
            "colorbar": {
             "outlinewidth": 0,
             "ticks": ""
            },
            "colorscale": [
             [
              0,
              "#0d0887"
             ],
             [
              0.1111111111111111,
              "#46039f"
             ],
             [
              0.2222222222222222,
              "#7201a8"
             ],
             [
              0.3333333333333333,
              "#9c179e"
             ],
             [
              0.4444444444444444,
              "#bd3786"
             ],
             [
              0.5555555555555556,
              "#d8576b"
             ],
             [
              0.6666666666666666,
              "#ed7953"
             ],
             [
              0.7777777777777778,
              "#fb9f3a"
             ],
             [
              0.8888888888888888,
              "#fdca26"
             ],
             [
              1,
              "#f0f921"
             ]
            ],
            "type": "heatmap"
           }
          ],
          "heatmapgl": [
           {
            "colorbar": {
             "outlinewidth": 0,
             "ticks": ""
            },
            "colorscale": [
             [
              0,
              "#0d0887"
             ],
             [
              0.1111111111111111,
              "#46039f"
             ],
             [
              0.2222222222222222,
              "#7201a8"
             ],
             [
              0.3333333333333333,
              "#9c179e"
             ],
             [
              0.4444444444444444,
              "#bd3786"
             ],
             [
              0.5555555555555556,
              "#d8576b"
             ],
             [
              0.6666666666666666,
              "#ed7953"
             ],
             [
              0.7777777777777778,
              "#fb9f3a"
             ],
             [
              0.8888888888888888,
              "#fdca26"
             ],
             [
              1,
              "#f0f921"
             ]
            ],
            "type": "heatmapgl"
           }
          ],
          "histogram": [
           {
            "marker": {
             "pattern": {
              "fillmode": "overlay",
              "size": 10,
              "solidity": 0.2
             }
            },
            "type": "histogram"
           }
          ],
          "histogram2d": [
           {
            "colorbar": {
             "outlinewidth": 0,
             "ticks": ""
            },
            "colorscale": [
             [
              0,
              "#0d0887"
             ],
             [
              0.1111111111111111,
              "#46039f"
             ],
             [
              0.2222222222222222,
              "#7201a8"
             ],
             [
              0.3333333333333333,
              "#9c179e"
             ],
             [
              0.4444444444444444,
              "#bd3786"
             ],
             [
              0.5555555555555556,
              "#d8576b"
             ],
             [
              0.6666666666666666,
              "#ed7953"
             ],
             [
              0.7777777777777778,
              "#fb9f3a"
             ],
             [
              0.8888888888888888,
              "#fdca26"
             ],
             [
              1,
              "#f0f921"
             ]
            ],
            "type": "histogram2d"
           }
          ],
          "histogram2dcontour": [
           {
            "colorbar": {
             "outlinewidth": 0,
             "ticks": ""
            },
            "colorscale": [
             [
              0,
              "#0d0887"
             ],
             [
              0.1111111111111111,
              "#46039f"
             ],
             [
              0.2222222222222222,
              "#7201a8"
             ],
             [
              0.3333333333333333,
              "#9c179e"
             ],
             [
              0.4444444444444444,
              "#bd3786"
             ],
             [
              0.5555555555555556,
              "#d8576b"
             ],
             [
              0.6666666666666666,
              "#ed7953"
             ],
             [
              0.7777777777777778,
              "#fb9f3a"
             ],
             [
              0.8888888888888888,
              "#fdca26"
             ],
             [
              1,
              "#f0f921"
             ]
            ],
            "type": "histogram2dcontour"
           }
          ],
          "mesh3d": [
           {
            "colorbar": {
             "outlinewidth": 0,
             "ticks": ""
            },
            "type": "mesh3d"
           }
          ],
          "parcoords": [
           {
            "line": {
             "colorbar": {
              "outlinewidth": 0,
              "ticks": ""
             }
            },
            "type": "parcoords"
           }
          ],
          "pie": [
           {
            "automargin": true,
            "type": "pie"
           }
          ],
          "scatter": [
           {
            "fillpattern": {
             "fillmode": "overlay",
             "size": 10,
             "solidity": 0.2
            },
            "type": "scatter"
           }
          ],
          "scatter3d": [
           {
            "line": {
             "colorbar": {
              "outlinewidth": 0,
              "ticks": ""
             }
            },
            "marker": {
             "colorbar": {
              "outlinewidth": 0,
              "ticks": ""
             }
            },
            "type": "scatter3d"
           }
          ],
          "scattercarpet": [
           {
            "marker": {
             "colorbar": {
              "outlinewidth": 0,
              "ticks": ""
             }
            },
            "type": "scattercarpet"
           }
          ],
          "scattergeo": [
           {
            "marker": {
             "colorbar": {
              "outlinewidth": 0,
              "ticks": ""
             }
            },
            "type": "scattergeo"
           }
          ],
          "scattergl": [
           {
            "marker": {
             "colorbar": {
              "outlinewidth": 0,
              "ticks": ""
             }
            },
            "type": "scattergl"
           }
          ],
          "scattermapbox": [
           {
            "marker": {
             "colorbar": {
              "outlinewidth": 0,
              "ticks": ""
             }
            },
            "type": "scattermapbox"
           }
          ],
          "scatterpolar": [
           {
            "marker": {
             "colorbar": {
              "outlinewidth": 0,
              "ticks": ""
             }
            },
            "type": "scatterpolar"
           }
          ],
          "scatterpolargl": [
           {
            "marker": {
             "colorbar": {
              "outlinewidth": 0,
              "ticks": ""
             }
            },
            "type": "scatterpolargl"
           }
          ],
          "scatterternary": [
           {
            "marker": {
             "colorbar": {
              "outlinewidth": 0,
              "ticks": ""
             }
            },
            "type": "scatterternary"
           }
          ],
          "surface": [
           {
            "colorbar": {
             "outlinewidth": 0,
             "ticks": ""
            },
            "colorscale": [
             [
              0,
              "#0d0887"
             ],
             [
              0.1111111111111111,
              "#46039f"
             ],
             [
              0.2222222222222222,
              "#7201a8"
             ],
             [
              0.3333333333333333,
              "#9c179e"
             ],
             [
              0.4444444444444444,
              "#bd3786"
             ],
             [
              0.5555555555555556,
              "#d8576b"
             ],
             [
              0.6666666666666666,
              "#ed7953"
             ],
             [
              0.7777777777777778,
              "#fb9f3a"
             ],
             [
              0.8888888888888888,
              "#fdca26"
             ],
             [
              1,
              "#f0f921"
             ]
            ],
            "type": "surface"
           }
          ],
          "table": [
           {
            "cells": {
             "fill": {
              "color": "#EBF0F8"
             },
             "line": {
              "color": "white"
             }
            },
            "header": {
             "fill": {
              "color": "#C8D4E3"
             },
             "line": {
              "color": "white"
             }
            },
            "type": "table"
           }
          ]
         },
         "layout": {
          "annotationdefaults": {
           "arrowcolor": "#2a3f5f",
           "arrowhead": 0,
           "arrowwidth": 1
          },
          "autotypenumbers": "strict",
          "coloraxis": {
           "colorbar": {
            "outlinewidth": 0,
            "ticks": ""
           }
          },
          "colorscale": {
           "diverging": [
            [
             0,
             "#8e0152"
            ],
            [
             0.1,
             "#c51b7d"
            ],
            [
             0.2,
             "#de77ae"
            ],
            [
             0.3,
             "#f1b6da"
            ],
            [
             0.4,
             "#fde0ef"
            ],
            [
             0.5,
             "#f7f7f7"
            ],
            [
             0.6,
             "#e6f5d0"
            ],
            [
             0.7,
             "#b8e186"
            ],
            [
             0.8,
             "#7fbc41"
            ],
            [
             0.9,
             "#4d9221"
            ],
            [
             1,
             "#276419"
            ]
           ],
           "sequential": [
            [
             0,
             "#0d0887"
            ],
            [
             0.1111111111111111,
             "#46039f"
            ],
            [
             0.2222222222222222,
             "#7201a8"
            ],
            [
             0.3333333333333333,
             "#9c179e"
            ],
            [
             0.4444444444444444,
             "#bd3786"
            ],
            [
             0.5555555555555556,
             "#d8576b"
            ],
            [
             0.6666666666666666,
             "#ed7953"
            ],
            [
             0.7777777777777778,
             "#fb9f3a"
            ],
            [
             0.8888888888888888,
             "#fdca26"
            ],
            [
             1,
             "#f0f921"
            ]
           ],
           "sequentialminus": [
            [
             0,
             "#0d0887"
            ],
            [
             0.1111111111111111,
             "#46039f"
            ],
            [
             0.2222222222222222,
             "#7201a8"
            ],
            [
             0.3333333333333333,
             "#9c179e"
            ],
            [
             0.4444444444444444,
             "#bd3786"
            ],
            [
             0.5555555555555556,
             "#d8576b"
            ],
            [
             0.6666666666666666,
             "#ed7953"
            ],
            [
             0.7777777777777778,
             "#fb9f3a"
            ],
            [
             0.8888888888888888,
             "#fdca26"
            ],
            [
             1,
             "#f0f921"
            ]
           ]
          },
          "colorway": [
           "#636efa",
           "#EF553B",
           "#00cc96",
           "#ab63fa",
           "#FFA15A",
           "#19d3f3",
           "#FF6692",
           "#B6E880",
           "#FF97FF",
           "#FECB52"
          ],
          "font": {
           "color": "#2a3f5f"
          },
          "geo": {
           "bgcolor": "white",
           "lakecolor": "white",
           "landcolor": "#E5ECF6",
           "showlakes": true,
           "showland": true,
           "subunitcolor": "white"
          },
          "hoverlabel": {
           "align": "left"
          },
          "hovermode": "closest",
          "mapbox": {
           "style": "light"
          },
          "paper_bgcolor": "white",
          "plot_bgcolor": "#E5ECF6",
          "polar": {
           "angularaxis": {
            "gridcolor": "white",
            "linecolor": "white",
            "ticks": ""
           },
           "bgcolor": "#E5ECF6",
           "radialaxis": {
            "gridcolor": "white",
            "linecolor": "white",
            "ticks": ""
           }
          },
          "scene": {
           "xaxis": {
            "backgroundcolor": "#E5ECF6",
            "gridcolor": "white",
            "gridwidth": 2,
            "linecolor": "white",
            "showbackground": true,
            "ticks": "",
            "zerolinecolor": "white"
           },
           "yaxis": {
            "backgroundcolor": "#E5ECF6",
            "gridcolor": "white",
            "gridwidth": 2,
            "linecolor": "white",
            "showbackground": true,
            "ticks": "",
            "zerolinecolor": "white"
           },
           "zaxis": {
            "backgroundcolor": "#E5ECF6",
            "gridcolor": "white",
            "gridwidth": 2,
            "linecolor": "white",
            "showbackground": true,
            "ticks": "",
            "zerolinecolor": "white"
           }
          },
          "shapedefaults": {
           "line": {
            "color": "#2a3f5f"
           }
          },
          "ternary": {
           "aaxis": {
            "gridcolor": "white",
            "linecolor": "white",
            "ticks": ""
           },
           "baxis": {
            "gridcolor": "white",
            "linecolor": "white",
            "ticks": ""
           },
           "bgcolor": "#E5ECF6",
           "caxis": {
            "gridcolor": "white",
            "linecolor": "white",
            "ticks": ""
           }
          },
          "title": {
           "x": 0.05
          },
          "xaxis": {
           "automargin": true,
           "gridcolor": "white",
           "linecolor": "white",
           "ticks": "",
           "title": {
            "standoff": 15
           },
           "zerolinecolor": "white",
           "zerolinewidth": 2
          },
          "yaxis": {
           "automargin": true,
           "gridcolor": "white",
           "linecolor": "white",
           "ticks": "",
           "title": {
            "standoff": 15
           },
           "zerolinecolor": "white",
           "zerolinewidth": 2
          }
         }
        },
        "title": {
         "text": "y_test vs y_pred_test"
        },
        "xaxis": {
         "anchor": "y",
         "domain": [
          0,
          1
         ],
         "title": {
          "text": "y_test"
         }
        },
        "yaxis": {
         "anchor": "x",
         "domain": [
          0,
          1
         ],
         "title": {
          "text": "y_pred_test"
         }
        }
       }
      },
      "text/html": [
       "<div>                            <div id=\"15d2b882-003d-431f-b9c7-21206d3a6341\" class=\"plotly-graph-div\" style=\"height:525px; width:100%;\"></div>            <script type=\"text/javascript\">                require([\"plotly\"], function(Plotly) {                    window.PLOTLYENV=window.PLOTLYENV || {};                                    if (document.getElementById(\"15d2b882-003d-431f-b9c7-21206d3a6341\")) {                    Plotly.newPlot(                        \"15d2b882-003d-431f-b9c7-21206d3a6341\",                        [{\"hovertemplate\":\"y_test=%{x}<br>y_pred_test=%{y}<extra></extra>\",\"legendgroup\":\"\",\"marker\":{\"color\":\"green\",\"symbol\":\"circle\"},\"mode\":\"markers\",\"name\":\"\",\"orientation\":\"v\",\"showlegend\":false,\"x\":[4,22,4,15,34,4,8,3,4,4,1,29,4,17,10,26,7,13,2,25,21,12,2,2,28,7,38,31,1,18,19,17,25,8,10,2,7,37,8,1,12,43,13,19,10,2,7,2,6,21,8,9,12,22,5,8,27,3,5,9,3,7,10,7,8,35,3,5,38,10,40,5,2,52,14,16,16,21,25,12,5,9,15,17,10,4,5,24,38,9,9,9,9,3,15,2,5,13,10,7,58,4,7,15,2,9,2,6,23,5,4,13,24,7,3,3,3,8,9,8,3,8,17,42,5,11,3,24,2,16,9,6,5,37,8,4,69,5,4,6,11,14,6,12,28,6,12,10,72,41,24,11],\"xaxis\":\"x\",\"y\":[8.953299556326028,12.348830157482483,12.48007957037763,14.385679745241156,13.748803487775882,11.751802351735549,10.797867128802013,10.405285191582589,12.997548259665233,5.1720915073599985,13.230904125589785,15.101584289794037,10.070371825102505,14.08106718238064,10.573764019410515,13.80566744639245,9.496014841777116,14.011860420353312,8.073676497331887,15.85807810057658,10.869308598405492,16.363125437367128,12.423200448791652,8.933375303922256,13.515191275240506,13.945927504401329,10.357588286671623,12.493336838863437,14.536993721969665,16.110416401081405,11.910276602043167,11.512129656221756,10.029142915670668,12.39733254531998,12.79855974358913,13.625667069104122,12.5424069747266,10.913696435824377,11.09872925165893,11.125257051489802,10.84305562136354,15.297249491977206,11.123613752222749,15.734863409784243,12.399457948729552,14.06636109693834,14.506525970072895,11.557172172121335,15.731353327441768,12.682529282768117,13.09042818896832,14.54562977017104,12.192881751667356,12.208121801551505,6.504975632611785,13.526314973366787,19.27373446128181,12.842919183310954,8.63996959126145,10.401571614326363,11.963019509294577,13.038924993693156,13.836181621417388,10.061737786085496,15.813598831120057,10.189265058545878,10.743325703094634,4.430117014393052,9.04939523833733,11.143135317414938,14.17441236688612,13.964561261078604,2.3043993091177306,14.345098382831388,11.416957435219691,7.1523329167462,14.30398725476206,12.109893071230571,11.496528895647565,9.158929542725312,13.810714131121141,9.151636255786137,14.133710848888576,14.655728608115563,10.162717022188133,12.5564506189946,12.706066898670178,13.689629061795404,11.094904628509362,12.209756506755292,12.015561685304416,7.319408594505409,9.808389153394094,8.223189209991892,11.16790344435925,18.163392386198066,9.340308415806208,11.2944089503677,11.37618024171635,5.636568686484952,9.822384611230856,10.616336966343155,12.297878201437895,10.539289566444705,14.310665411914226,11.790041354904346,11.323590221341563,14.193187307516627,18.43914414945027,9.821128352433835,11.309617671429152,4.974556064762192,10.573720547443097,12.530537191477922,14.027641833503116,16.215905002631086,13.719508337169326,8.401786670597371,6.652854578761695,13.915934808148926,9.24537025490595,9.196126936045225,11.836249325817924,8.538941822776724,11.922183330748874,15.195208373325766,13.446562521408936,12.363737245256988,11.426651992560092,10.96349390841368,12.370841499904392,11.222422287854437,11.048212573909098,11.396637830631203,6.409982798922366,12.53996651984338,8.691140387181022,12.124628278258331,16.332861268426484,16.733275555735176,10.596335652288762,11.192276176554182,15.415344001722461,10.487073143738186,13.741875039178819,10.62083329972382,10.27633322547927,12.396838510482226,11.885019064719181,6.888875509568894,10.979052108837628,9.529427601049576],\"yaxis\":\"y\",\"type\":\"scatter\"}],                        {\"template\":{\"data\":{\"histogram2dcontour\":[{\"type\":\"histogram2dcontour\",\"colorbar\":{\"outlinewidth\":0,\"ticks\":\"\"},\"colorscale\":[[0.0,\"#0d0887\"],[0.1111111111111111,\"#46039f\"],[0.2222222222222222,\"#7201a8\"],[0.3333333333333333,\"#9c179e\"],[0.4444444444444444,\"#bd3786\"],[0.5555555555555556,\"#d8576b\"],[0.6666666666666666,\"#ed7953\"],[0.7777777777777778,\"#fb9f3a\"],[0.8888888888888888,\"#fdca26\"],[1.0,\"#f0f921\"]]}],\"choropleth\":[{\"type\":\"choropleth\",\"colorbar\":{\"outlinewidth\":0,\"ticks\":\"\"}}],\"histogram2d\":[{\"type\":\"histogram2d\",\"colorbar\":{\"outlinewidth\":0,\"ticks\":\"\"},\"colorscale\":[[0.0,\"#0d0887\"],[0.1111111111111111,\"#46039f\"],[0.2222222222222222,\"#7201a8\"],[0.3333333333333333,\"#9c179e\"],[0.4444444444444444,\"#bd3786\"],[0.5555555555555556,\"#d8576b\"],[0.6666666666666666,\"#ed7953\"],[0.7777777777777778,\"#fb9f3a\"],[0.8888888888888888,\"#fdca26\"],[1.0,\"#f0f921\"]]}],\"heatmap\":[{\"type\":\"heatmap\",\"colorbar\":{\"outlinewidth\":0,\"ticks\":\"\"},\"colorscale\":[[0.0,\"#0d0887\"],[0.1111111111111111,\"#46039f\"],[0.2222222222222222,\"#7201a8\"],[0.3333333333333333,\"#9c179e\"],[0.4444444444444444,\"#bd3786\"],[0.5555555555555556,\"#d8576b\"],[0.6666666666666666,\"#ed7953\"],[0.7777777777777778,\"#fb9f3a\"],[0.8888888888888888,\"#fdca26\"],[1.0,\"#f0f921\"]]}],\"heatmapgl\":[{\"type\":\"heatmapgl\",\"colorbar\":{\"outlinewidth\":0,\"ticks\":\"\"},\"colorscale\":[[0.0,\"#0d0887\"],[0.1111111111111111,\"#46039f\"],[0.2222222222222222,\"#7201a8\"],[0.3333333333333333,\"#9c179e\"],[0.4444444444444444,\"#bd3786\"],[0.5555555555555556,\"#d8576b\"],[0.6666666666666666,\"#ed7953\"],[0.7777777777777778,\"#fb9f3a\"],[0.8888888888888888,\"#fdca26\"],[1.0,\"#f0f921\"]]}],\"contourcarpet\":[{\"type\":\"contourcarpet\",\"colorbar\":{\"outlinewidth\":0,\"ticks\":\"\"}}],\"contour\":[{\"type\":\"contour\",\"colorbar\":{\"outlinewidth\":0,\"ticks\":\"\"},\"colorscale\":[[0.0,\"#0d0887\"],[0.1111111111111111,\"#46039f\"],[0.2222222222222222,\"#7201a8\"],[0.3333333333333333,\"#9c179e\"],[0.4444444444444444,\"#bd3786\"],[0.5555555555555556,\"#d8576b\"],[0.6666666666666666,\"#ed7953\"],[0.7777777777777778,\"#fb9f3a\"],[0.8888888888888888,\"#fdca26\"],[1.0,\"#f0f921\"]]}],\"surface\":[{\"type\":\"surface\",\"colorbar\":{\"outlinewidth\":0,\"ticks\":\"\"},\"colorscale\":[[0.0,\"#0d0887\"],[0.1111111111111111,\"#46039f\"],[0.2222222222222222,\"#7201a8\"],[0.3333333333333333,\"#9c179e\"],[0.4444444444444444,\"#bd3786\"],[0.5555555555555556,\"#d8576b\"],[0.6666666666666666,\"#ed7953\"],[0.7777777777777778,\"#fb9f3a\"],[0.8888888888888888,\"#fdca26\"],[1.0,\"#f0f921\"]]}],\"mesh3d\":[{\"type\":\"mesh3d\",\"colorbar\":{\"outlinewidth\":0,\"ticks\":\"\"}}],\"scatter\":[{\"fillpattern\":{\"fillmode\":\"overlay\",\"size\":10,\"solidity\":0.2},\"type\":\"scatter\"}],\"parcoords\":[{\"type\":\"parcoords\",\"line\":{\"colorbar\":{\"outlinewidth\":0,\"ticks\":\"\"}}}],\"scatterpolargl\":[{\"type\":\"scatterpolargl\",\"marker\":{\"colorbar\":{\"outlinewidth\":0,\"ticks\":\"\"}}}],\"bar\":[{\"error_x\":{\"color\":\"#2a3f5f\"},\"error_y\":{\"color\":\"#2a3f5f\"},\"marker\":{\"line\":{\"color\":\"#E5ECF6\",\"width\":0.5},\"pattern\":{\"fillmode\":\"overlay\",\"size\":10,\"solidity\":0.2}},\"type\":\"bar\"}],\"scattergeo\":[{\"type\":\"scattergeo\",\"marker\":{\"colorbar\":{\"outlinewidth\":0,\"ticks\":\"\"}}}],\"scatterpolar\":[{\"type\":\"scatterpolar\",\"marker\":{\"colorbar\":{\"outlinewidth\":0,\"ticks\":\"\"}}}],\"histogram\":[{\"marker\":{\"pattern\":{\"fillmode\":\"overlay\",\"size\":10,\"solidity\":0.2}},\"type\":\"histogram\"}],\"scattergl\":[{\"type\":\"scattergl\",\"marker\":{\"colorbar\":{\"outlinewidth\":0,\"ticks\":\"\"}}}],\"scatter3d\":[{\"type\":\"scatter3d\",\"line\":{\"colorbar\":{\"outlinewidth\":0,\"ticks\":\"\"}},\"marker\":{\"colorbar\":{\"outlinewidth\":0,\"ticks\":\"\"}}}],\"scattermapbox\":[{\"type\":\"scattermapbox\",\"marker\":{\"colorbar\":{\"outlinewidth\":0,\"ticks\":\"\"}}}],\"scatterternary\":[{\"type\":\"scatterternary\",\"marker\":{\"colorbar\":{\"outlinewidth\":0,\"ticks\":\"\"}}}],\"scattercarpet\":[{\"type\":\"scattercarpet\",\"marker\":{\"colorbar\":{\"outlinewidth\":0,\"ticks\":\"\"}}}],\"carpet\":[{\"aaxis\":{\"endlinecolor\":\"#2a3f5f\",\"gridcolor\":\"white\",\"linecolor\":\"white\",\"minorgridcolor\":\"white\",\"startlinecolor\":\"#2a3f5f\"},\"baxis\":{\"endlinecolor\":\"#2a3f5f\",\"gridcolor\":\"white\",\"linecolor\":\"white\",\"minorgridcolor\":\"white\",\"startlinecolor\":\"#2a3f5f\"},\"type\":\"carpet\"}],\"table\":[{\"cells\":{\"fill\":{\"color\":\"#EBF0F8\"},\"line\":{\"color\":\"white\"}},\"header\":{\"fill\":{\"color\":\"#C8D4E3\"},\"line\":{\"color\":\"white\"}},\"type\":\"table\"}],\"barpolar\":[{\"marker\":{\"line\":{\"color\":\"#E5ECF6\",\"width\":0.5},\"pattern\":{\"fillmode\":\"overlay\",\"size\":10,\"solidity\":0.2}},\"type\":\"barpolar\"}],\"pie\":[{\"automargin\":true,\"type\":\"pie\"}]},\"layout\":{\"autotypenumbers\":\"strict\",\"colorway\":[\"#636efa\",\"#EF553B\",\"#00cc96\",\"#ab63fa\",\"#FFA15A\",\"#19d3f3\",\"#FF6692\",\"#B6E880\",\"#FF97FF\",\"#FECB52\"],\"font\":{\"color\":\"#2a3f5f\"},\"hovermode\":\"closest\",\"hoverlabel\":{\"align\":\"left\"},\"paper_bgcolor\":\"white\",\"plot_bgcolor\":\"#E5ECF6\",\"polar\":{\"bgcolor\":\"#E5ECF6\",\"angularaxis\":{\"gridcolor\":\"white\",\"linecolor\":\"white\",\"ticks\":\"\"},\"radialaxis\":{\"gridcolor\":\"white\",\"linecolor\":\"white\",\"ticks\":\"\"}},\"ternary\":{\"bgcolor\":\"#E5ECF6\",\"aaxis\":{\"gridcolor\":\"white\",\"linecolor\":\"white\",\"ticks\":\"\"},\"baxis\":{\"gridcolor\":\"white\",\"linecolor\":\"white\",\"ticks\":\"\"},\"caxis\":{\"gridcolor\":\"white\",\"linecolor\":\"white\",\"ticks\":\"\"}},\"coloraxis\":{\"colorbar\":{\"outlinewidth\":0,\"ticks\":\"\"}},\"colorscale\":{\"sequential\":[[0.0,\"#0d0887\"],[0.1111111111111111,\"#46039f\"],[0.2222222222222222,\"#7201a8\"],[0.3333333333333333,\"#9c179e\"],[0.4444444444444444,\"#bd3786\"],[0.5555555555555556,\"#d8576b\"],[0.6666666666666666,\"#ed7953\"],[0.7777777777777778,\"#fb9f3a\"],[0.8888888888888888,\"#fdca26\"],[1.0,\"#f0f921\"]],\"sequentialminus\":[[0.0,\"#0d0887\"],[0.1111111111111111,\"#46039f\"],[0.2222222222222222,\"#7201a8\"],[0.3333333333333333,\"#9c179e\"],[0.4444444444444444,\"#bd3786\"],[0.5555555555555556,\"#d8576b\"],[0.6666666666666666,\"#ed7953\"],[0.7777777777777778,\"#fb9f3a\"],[0.8888888888888888,\"#fdca26\"],[1.0,\"#f0f921\"]],\"diverging\":[[0,\"#8e0152\"],[0.1,\"#c51b7d\"],[0.2,\"#de77ae\"],[0.3,\"#f1b6da\"],[0.4,\"#fde0ef\"],[0.5,\"#f7f7f7\"],[0.6,\"#e6f5d0\"],[0.7,\"#b8e186\"],[0.8,\"#7fbc41\"],[0.9,\"#4d9221\"],[1,\"#276419\"]]},\"xaxis\":{\"gridcolor\":\"white\",\"linecolor\":\"white\",\"ticks\":\"\",\"title\":{\"standoff\":15},\"zerolinecolor\":\"white\",\"automargin\":true,\"zerolinewidth\":2},\"yaxis\":{\"gridcolor\":\"white\",\"linecolor\":\"white\",\"ticks\":\"\",\"title\":{\"standoff\":15},\"zerolinecolor\":\"white\",\"automargin\":true,\"zerolinewidth\":2},\"scene\":{\"xaxis\":{\"backgroundcolor\":\"#E5ECF6\",\"gridcolor\":\"white\",\"linecolor\":\"white\",\"showbackground\":true,\"ticks\":\"\",\"zerolinecolor\":\"white\",\"gridwidth\":2},\"yaxis\":{\"backgroundcolor\":\"#E5ECF6\",\"gridcolor\":\"white\",\"linecolor\":\"white\",\"showbackground\":true,\"ticks\":\"\",\"zerolinecolor\":\"white\",\"gridwidth\":2},\"zaxis\":{\"backgroundcolor\":\"#E5ECF6\",\"gridcolor\":\"white\",\"linecolor\":\"white\",\"showbackground\":true,\"ticks\":\"\",\"zerolinecolor\":\"white\",\"gridwidth\":2}},\"shapedefaults\":{\"line\":{\"color\":\"#2a3f5f\"}},\"annotationdefaults\":{\"arrowcolor\":\"#2a3f5f\",\"arrowhead\":0,\"arrowwidth\":1},\"geo\":{\"bgcolor\":\"white\",\"landcolor\":\"#E5ECF6\",\"subunitcolor\":\"white\",\"showland\":true,\"showlakes\":true,\"lakecolor\":\"white\"},\"title\":{\"x\":0.05},\"mapbox\":{\"style\":\"light\"}}},\"xaxis\":{\"anchor\":\"y\",\"domain\":[0.0,1.0],\"title\":{\"text\":\"y_test\"}},\"yaxis\":{\"anchor\":\"x\",\"domain\":[0.0,1.0],\"title\":{\"text\":\"y_pred_test\"}},\"legend\":{\"tracegroupgap\":0},\"title\":{\"text\":\"y_test vs y_pred_test\"}},                        {\"responsive\": true}                    ).then(function(){\n",
       "                            \n",
       "var gd = document.getElementById('15d2b882-003d-431f-b9c7-21206d3a6341');\n",
       "var x = new MutationObserver(function (mutations, observer) {{\n",
       "        var display = window.getComputedStyle(gd).display;\n",
       "        if (!display || display === 'none') {{\n",
       "            console.log([gd, 'removed!']);\n",
       "            Plotly.purge(gd);\n",
       "            observer.disconnect();\n",
       "        }}\n",
       "}});\n",
       "\n",
       "// Listen for the removal of the full notebook cells\n",
       "var notebookContainer = gd.closest('#notebook-container');\n",
       "if (notebookContainer) {{\n",
       "    x.observe(notebookContainer, {childList: true});\n",
       "}}\n",
       "\n",
       "// Listen for the clearing of the current output cell\n",
       "var outputEl = gd.closest('.output');\n",
       "if (outputEl) {{\n",
       "    x.observe(outputEl, {childList: true});\n",
       "}}\n",
       "\n",
       "                        })                };                });            </script>        </div>"
      ]
     },
     "metadata": {},
     "output_type": "display_data"
    }
   ],
   "source": [
    "df_train = pd.DataFrame({'y_train': y_train, 'y_pred_train': y_pred_train})\n",
    "\n",
    "# Create a scatter plot using Plotly Express\n",
    "fig = px.scatter(df_train, x='y_train', y='y_pred_train', title='y_train vs y_pred_train')\n",
    "fig.update_layout(xaxis_title='y_train', yaxis_title='y_pred_train')\n",
    "fig.show()\n",
    "\n",
    "df_test = pd.DataFrame({'y_test': y_test, 'y_pred_test': y_pred_test})\n",
    "\n",
    "# Create a scatter plot using Plotly Express\n",
    "fig = px.scatter(df_test, x='y_test', y='y_pred_test', color_discrete_sequence=['green'], title='y_test vs y_pred_test')\n",
    "fig.update_layout(xaxis_title='y_test', yaxis_title='y_pred_test')\n",
    "fig.show()"
   ]
  },
  {
   "cell_type": "code",
   "execution_count": null,
   "id": "f7fd54c6",
   "metadata": {},
   "outputs": [],
   "source": []
  }
 ],
 "metadata": {
  "kernelspec": {
   "display_name": "Python 3 (ipykernel)",
   "language": "python",
   "name": "python3"
  },
  "language_info": {
   "codemirror_mode": {
    "name": "ipython",
    "version": 3
   },
   "file_extension": ".py",
   "mimetype": "text/x-python",
   "name": "python",
   "nbconvert_exporter": "python",
   "pygments_lexer": "ipython3",
   "version": "3.11.5"
  }
 },
 "nbformat": 4,
 "nbformat_minor": 5
}
