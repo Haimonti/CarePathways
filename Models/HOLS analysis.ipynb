{
 "cells": [
  {
   "cell_type": "code",
   "execution_count": 2,
   "id": "b914d6eb",
   "metadata": {},
   "outputs": [],
   "source": [
    "import pandas as pd"
   ]
  },
  {
   "cell_type": "code",
   "execution_count": 119,
   "id": "496a71b3",
   "metadata": {},
   "outputs": [],
   "source": [
    "xcel = \"Experiment/SMOTERegressionCases.xlsx\"\n",
    "\n",
    "# Load each sheet separately\n",
    "df1 = pd.read_excel(xcel, sheet_name='Seed410_thr0.77_perc0.2')\n",
    "df2 = pd.read_excel(xcel, sheet_name='Seed527_thr0.77_perc0.2')\n",
    "df3 = pd.read_excel(xcel, sheet_name='Seed222_thr0.77_perc0.2')\n",
    "df4 = pd.read_excel(xcel, sheet_name='Seed326_thr0.77_perc0.2')\n",
    "df5 = pd.read_excel(xcel, sheet_name='Seed832_thr0.77_perc0.2')\n",
    "\n",
    "# ## dropping column X, as it is unwanted\n",
    "# df1 = df1.drop(['X'],axis=1)\n",
    "# df2 = df2.drop(['X'],axis=1)\n",
    "# df3 = df3.drop(['X'],axis=1)\n",
    "# df4 = df4.drop(['X'],axis=1)\n",
    "# df5 = df5.drop(['X'],axis=1)"
   ]
  },
  {
   "cell_type": "code",
   "execution_count": 120,
   "id": "ae06abad",
   "metadata": {},
   "outputs": [
    {
     "data": {
      "text/html": [
       "<div>\n",
       "<style scoped>\n",
       "    .dataframe tbody tr th:only-of-type {\n",
       "        vertical-align: middle;\n",
       "    }\n",
       "\n",
       "    .dataframe tbody tr th {\n",
       "        vertical-align: top;\n",
       "    }\n",
       "\n",
       "    .dataframe thead th {\n",
       "        text-align: right;\n",
       "    }\n",
       "</style>\n",
       "<table border=\"1\" class=\"dataframe\">\n",
       "  <thead>\n",
       "    <tr style=\"text-align: right;\">\n",
       "      <th></th>\n",
       "      <th>id</th>\n",
       "      <th>hospital_length_of_stay</th>\n",
       "      <th>age</th>\n",
       "      <th>sex</th>\n",
       "      <th>height</th>\n",
       "      <th>weight</th>\n",
       "      <th>smoking_history</th>\n",
       "      <th>previous_er_visit_within_14_days</th>\n",
       "      <th>admission_disposition</th>\n",
       "      <th>Hypertension</th>\n",
       "      <th>...</th>\n",
       "      <th>Respiractin</th>\n",
       "      <th>Immunity Advance</th>\n",
       "      <th>Vesicare</th>\n",
       "      <th>Zaxine</th>\n",
       "      <th>Quinine Sulfate</th>\n",
       "      <th>Desvenlafaxine</th>\n",
       "      <th>Glucosamine</th>\n",
       "      <th>Turmeric</th>\n",
       "      <th>Cogentin Tab</th>\n",
       "      <th>Elavil</th>\n",
       "    </tr>\n",
       "  </thead>\n",
       "  <tbody>\n",
       "    <tr>\n",
       "      <th>0</th>\n",
       "      <td>1</td>\n",
       "      <td>21</td>\n",
       "      <td>74</td>\n",
       "      <td>1</td>\n",
       "      <td>166.911029</td>\n",
       "      <td>80.265922</td>\n",
       "      <td>0.0</td>\n",
       "      <td>0</td>\n",
       "      <td>1</td>\n",
       "      <td>1</td>\n",
       "      <td>...</td>\n",
       "      <td>0.0</td>\n",
       "      <td>0.0</td>\n",
       "      <td>0.0</td>\n",
       "      <td>0.0</td>\n",
       "      <td>0.0</td>\n",
       "      <td>0.0</td>\n",
       "      <td>0.0</td>\n",
       "      <td>0.0</td>\n",
       "      <td>0.0</td>\n",
       "      <td>0.0</td>\n",
       "    </tr>\n",
       "    <tr>\n",
       "      <th>1</th>\n",
       "      <td>2</td>\n",
       "      <td>5</td>\n",
       "      <td>61</td>\n",
       "      <td>0</td>\n",
       "      <td>154.900000</td>\n",
       "      <td>73.600000</td>\n",
       "      <td>0.0</td>\n",
       "      <td>0</td>\n",
       "      <td>1</td>\n",
       "      <td>1</td>\n",
       "      <td>...</td>\n",
       "      <td>0.0</td>\n",
       "      <td>0.0</td>\n",
       "      <td>0.0</td>\n",
       "      <td>0.0</td>\n",
       "      <td>0.0</td>\n",
       "      <td>0.0</td>\n",
       "      <td>0.0</td>\n",
       "      <td>0.0</td>\n",
       "      <td>0.0</td>\n",
       "      <td>0.0</td>\n",
       "    </tr>\n",
       "    <tr>\n",
       "      <th>2</th>\n",
       "      <td>3</td>\n",
       "      <td>7</td>\n",
       "      <td>58</td>\n",
       "      <td>0</td>\n",
       "      <td>166.911029</td>\n",
       "      <td>80.265922</td>\n",
       "      <td>0.0</td>\n",
       "      <td>0</td>\n",
       "      <td>1</td>\n",
       "      <td>1</td>\n",
       "      <td>...</td>\n",
       "      <td>0.0</td>\n",
       "      <td>0.0</td>\n",
       "      <td>0.0</td>\n",
       "      <td>0.0</td>\n",
       "      <td>0.0</td>\n",
       "      <td>0.0</td>\n",
       "      <td>0.0</td>\n",
       "      <td>0.0</td>\n",
       "      <td>0.0</td>\n",
       "      <td>0.0</td>\n",
       "    </tr>\n",
       "    <tr>\n",
       "      <th>3</th>\n",
       "      <td>4</td>\n",
       "      <td>9</td>\n",
       "      <td>94</td>\n",
       "      <td>1</td>\n",
       "      <td>182.800000</td>\n",
       "      <td>66.200000</td>\n",
       "      <td>0.0</td>\n",
       "      <td>0</td>\n",
       "      <td>1</td>\n",
       "      <td>1</td>\n",
       "      <td>...</td>\n",
       "      <td>0.0</td>\n",
       "      <td>0.0</td>\n",
       "      <td>0.0</td>\n",
       "      <td>0.0</td>\n",
       "      <td>0.0</td>\n",
       "      <td>0.0</td>\n",
       "      <td>0.0</td>\n",
       "      <td>0.0</td>\n",
       "      <td>0.0</td>\n",
       "      <td>0.0</td>\n",
       "    </tr>\n",
       "    <tr>\n",
       "      <th>4</th>\n",
       "      <td>5</td>\n",
       "      <td>9</td>\n",
       "      <td>91</td>\n",
       "      <td>1</td>\n",
       "      <td>166.911029</td>\n",
       "      <td>80.265922</td>\n",
       "      <td>1.0</td>\n",
       "      <td>0</td>\n",
       "      <td>1</td>\n",
       "      <td>1</td>\n",
       "      <td>...</td>\n",
       "      <td>0.0</td>\n",
       "      <td>0.0</td>\n",
       "      <td>0.0</td>\n",
       "      <td>0.0</td>\n",
       "      <td>0.0</td>\n",
       "      <td>0.0</td>\n",
       "      <td>0.0</td>\n",
       "      <td>0.0</td>\n",
       "      <td>0.0</td>\n",
       "      <td>0.0</td>\n",
       "    </tr>\n",
       "    <tr>\n",
       "      <th>...</th>\n",
       "      <td>...</td>\n",
       "      <td>...</td>\n",
       "      <td>...</td>\n",
       "      <td>...</td>\n",
       "      <td>...</td>\n",
       "      <td>...</td>\n",
       "      <td>...</td>\n",
       "      <td>...</td>\n",
       "      <td>...</td>\n",
       "      <td>...</td>\n",
       "      <td>...</td>\n",
       "      <td>...</td>\n",
       "      <td>...</td>\n",
       "      <td>...</td>\n",
       "      <td>...</td>\n",
       "      <td>...</td>\n",
       "      <td>...</td>\n",
       "      <td>...</td>\n",
       "      <td>...</td>\n",
       "      <td>...</td>\n",
       "      <td>...</td>\n",
       "    </tr>\n",
       "    <tr>\n",
       "      <th>501</th>\n",
       "      <td>515</td>\n",
       "      <td>2</td>\n",
       "      <td>56</td>\n",
       "      <td>0</td>\n",
       "      <td>165.000000</td>\n",
       "      <td>72.600000</td>\n",
       "      <td>0.0</td>\n",
       "      <td>0</td>\n",
       "      <td>1</td>\n",
       "      <td>0</td>\n",
       "      <td>...</td>\n",
       "      <td>0.0</td>\n",
       "      <td>0.0</td>\n",
       "      <td>0.0</td>\n",
       "      <td>0.0</td>\n",
       "      <td>0.0</td>\n",
       "      <td>0.0</td>\n",
       "      <td>0.0</td>\n",
       "      <td>0.0</td>\n",
       "      <td>1.0</td>\n",
       "      <td>0.0</td>\n",
       "    </tr>\n",
       "    <tr>\n",
       "      <th>502</th>\n",
       "      <td>516</td>\n",
       "      <td>13</td>\n",
       "      <td>74</td>\n",
       "      <td>0</td>\n",
       "      <td>166.911029</td>\n",
       "      <td>55.000000</td>\n",
       "      <td>0.0</td>\n",
       "      <td>1</td>\n",
       "      <td>1</td>\n",
       "      <td>0</td>\n",
       "      <td>...</td>\n",
       "      <td>0.0</td>\n",
       "      <td>0.0</td>\n",
       "      <td>0.0</td>\n",
       "      <td>0.0</td>\n",
       "      <td>0.0</td>\n",
       "      <td>0.0</td>\n",
       "      <td>0.0</td>\n",
       "      <td>0.0</td>\n",
       "      <td>0.0</td>\n",
       "      <td>1.0</td>\n",
       "    </tr>\n",
       "    <tr>\n",
       "      <th>503</th>\n",
       "      <td>517</td>\n",
       "      <td>19</td>\n",
       "      <td>81</td>\n",
       "      <td>1</td>\n",
       "      <td>158.000000</td>\n",
       "      <td>65.000000</td>\n",
       "      <td>0.0</td>\n",
       "      <td>1</td>\n",
       "      <td>1</td>\n",
       "      <td>1</td>\n",
       "      <td>...</td>\n",
       "      <td>0.0</td>\n",
       "      <td>0.0</td>\n",
       "      <td>0.0</td>\n",
       "      <td>0.0</td>\n",
       "      <td>0.0</td>\n",
       "      <td>0.0</td>\n",
       "      <td>0.0</td>\n",
       "      <td>0.0</td>\n",
       "      <td>0.0</td>\n",
       "      <td>0.0</td>\n",
       "    </tr>\n",
       "    <tr>\n",
       "      <th>504</th>\n",
       "      <td>519</td>\n",
       "      <td>9</td>\n",
       "      <td>74</td>\n",
       "      <td>1</td>\n",
       "      <td>166.911029</td>\n",
       "      <td>81.700000</td>\n",
       "      <td>0.0</td>\n",
       "      <td>1</td>\n",
       "      <td>1</td>\n",
       "      <td>1</td>\n",
       "      <td>...</td>\n",
       "      <td>0.0</td>\n",
       "      <td>0.0</td>\n",
       "      <td>0.0</td>\n",
       "      <td>0.0</td>\n",
       "      <td>0.0</td>\n",
       "      <td>0.0</td>\n",
       "      <td>1.0</td>\n",
       "      <td>0.0</td>\n",
       "      <td>0.0</td>\n",
       "      <td>0.0</td>\n",
       "    </tr>\n",
       "    <tr>\n",
       "      <th>505</th>\n",
       "      <td>12</td>\n",
       "      <td>9</td>\n",
       "      <td>76</td>\n",
       "      <td>0</td>\n",
       "      <td>162.000000</td>\n",
       "      <td>72.600000</td>\n",
       "      <td>0.0</td>\n",
       "      <td>0</td>\n",
       "      <td>1</td>\n",
       "      <td>1</td>\n",
       "      <td>...</td>\n",
       "      <td>0.0</td>\n",
       "      <td>0.0</td>\n",
       "      <td>0.0</td>\n",
       "      <td>0.0</td>\n",
       "      <td>0.0</td>\n",
       "      <td>0.0</td>\n",
       "      <td>0.0</td>\n",
       "      <td>0.0</td>\n",
       "      <td>0.0</td>\n",
       "      <td>0.0</td>\n",
       "    </tr>\n",
       "  </tbody>\n",
       "</table>\n",
       "<p>506 rows × 747 columns</p>\n",
       "</div>"
      ],
      "text/plain": [
       "      id  hospital_length_of_stay  age  sex      height     weight  \\\n",
       "0      1                       21   74    1  166.911029  80.265922   \n",
       "1      2                        5   61    0  154.900000  73.600000   \n",
       "2      3                        7   58    0  166.911029  80.265922   \n",
       "3      4                        9   94    1  182.800000  66.200000   \n",
       "4      5                        9   91    1  166.911029  80.265922   \n",
       "..   ...                      ...  ...  ...         ...        ...   \n",
       "501  515                        2   56    0  165.000000  72.600000   \n",
       "502  516                       13   74    0  166.911029  55.000000   \n",
       "503  517                       19   81    1  158.000000  65.000000   \n",
       "504  519                        9   74    1  166.911029  81.700000   \n",
       "505   12                        9   76    0  162.000000  72.600000   \n",
       "\n",
       "     smoking_history  previous_er_visit_within_14_days  admission_disposition  \\\n",
       "0                0.0                                 0                      1   \n",
       "1                0.0                                 0                      1   \n",
       "2                0.0                                 0                      1   \n",
       "3                0.0                                 0                      1   \n",
       "4                1.0                                 0                      1   \n",
       "..               ...                               ...                    ...   \n",
       "501              0.0                                 0                      1   \n",
       "502              0.0                                 1                      1   \n",
       "503              0.0                                 1                      1   \n",
       "504              0.0                                 1                      1   \n",
       "505              0.0                                 0                      1   \n",
       "\n",
       "     Hypertension  ...  Respiractin  Immunity Advance  Vesicare  Zaxine  \\\n",
       "0               1  ...          0.0               0.0       0.0     0.0   \n",
       "1               1  ...          0.0               0.0       0.0     0.0   \n",
       "2               1  ...          0.0               0.0       0.0     0.0   \n",
       "3               1  ...          0.0               0.0       0.0     0.0   \n",
       "4               1  ...          0.0               0.0       0.0     0.0   \n",
       "..            ...  ...          ...               ...       ...     ...   \n",
       "501             0  ...          0.0               0.0       0.0     0.0   \n",
       "502             0  ...          0.0               0.0       0.0     0.0   \n",
       "503             1  ...          0.0               0.0       0.0     0.0   \n",
       "504             1  ...          0.0               0.0       0.0     0.0   \n",
       "505             1  ...          0.0               0.0       0.0     0.0   \n",
       "\n",
       "     Quinine Sulfate  Desvenlafaxine  Glucosamine  Turmeric  Cogentin Tab  \\\n",
       "0                0.0             0.0          0.0       0.0           0.0   \n",
       "1                0.0             0.0          0.0       0.0           0.0   \n",
       "2                0.0             0.0          0.0       0.0           0.0   \n",
       "3                0.0             0.0          0.0       0.0           0.0   \n",
       "4                0.0             0.0          0.0       0.0           0.0   \n",
       "..               ...             ...          ...       ...           ...   \n",
       "501              0.0             0.0          0.0       0.0           1.0   \n",
       "502              0.0             0.0          0.0       0.0           0.0   \n",
       "503              0.0             0.0          0.0       0.0           0.0   \n",
       "504              0.0             0.0          1.0       0.0           0.0   \n",
       "505              0.0             0.0          0.0       0.0           0.0   \n",
       "\n",
       "     Elavil  \n",
       "0       0.0  \n",
       "1       0.0  \n",
       "2       0.0  \n",
       "3       0.0  \n",
       "4       0.0  \n",
       "..      ...  \n",
       "501     0.0  \n",
       "502     1.0  \n",
       "503     0.0  \n",
       "504     0.0  \n",
       "505     0.0  \n",
       "\n",
       "[506 rows x 747 columns]"
      ]
     },
     "execution_count": 120,
     "metadata": {},
     "output_type": "execute_result"
    }
   ],
   "source": [
    "df = pd.read_csv(\"Datasets/new.csv\")\n",
    "df = df.drop(\"Unnamed: 0\",axis=1)\n",
    "df"
   ]
  },
  {
   "cell_type": "markdown",
   "id": "3fd6e091",
   "metadata": {},
   "source": [
    "### Function to plot histogram of original dataset and the synthetic dataset"
   ]
  },
  {
   "cell_type": "code",
   "execution_count": 121,
   "id": "68566319",
   "metadata": {},
   "outputs": [
    {
     "data": {
      "application/vnd.plotly.v1+json": {
       "config": {
        "plotlyServerURL": "https://plot.ly"
       },
       "data": [
        {
         "alignmentgroup": "True",
         "bingroup": "x",
         "histnorm": "density",
         "hovertemplate": "hospital_length_of_stay=%{x}<br>density=%{y}<extra></extra>",
         "legendgroup": "",
         "marker": {
          "color": "#636efa",
          "line": {
           "color": "black",
           "width": 1
          },
          "pattern": {
           "shape": ""
          }
         },
         "name": "",
         "nbinsx": 10,
         "offsetgroup": "",
         "orientation": "v",
         "showlegend": false,
         "type": "histogram",
         "x": [
          21,
          5,
          7,
          9,
          9,
          32,
          4,
          10,
          11,
          29,
          4,
          8,
          33,
          34,
          3,
          15,
          5,
          11,
          7,
          2,
          4,
          8,
          12,
          72,
          6,
          8,
          6,
          4,
          13,
          5,
          2,
          5,
          3,
          7,
          3,
          17,
          9,
          34,
          20,
          38,
          13,
          10,
          5,
          13,
          19,
          7,
          40,
          2,
          38,
          18,
          6,
          6,
          6,
          2,
          3,
          7,
          5,
          5,
          12,
          23,
          2,
          3,
          3,
          3,
          12,
          8,
          6,
          2,
          19,
          5,
          2,
          3,
          15,
          1,
          17,
          4,
          4,
          14,
          17,
          38,
          22,
          34,
          5,
          5,
          5,
          17,
          58,
          8,
          39,
          4,
          10,
          4,
          9,
          38,
          6,
          11,
          16,
          5,
          25,
          6,
          18,
          22,
          22,
          9,
          16,
          5,
          7,
          11,
          2,
          8,
          30,
          9,
          3,
          37,
          11,
          4,
          1,
          42,
          5,
          33,
          20,
          13,
          8,
          10,
          7,
          6,
          9,
          5,
          8,
          2,
          17,
          9,
          2,
          19,
          11,
          3,
          3,
          9,
          3,
          16,
          3,
          4,
          3,
          1,
          19,
          7,
          4,
          4,
          8,
          1,
          10,
          11,
          13,
          2,
          12,
          2,
          7,
          12,
          4,
          12,
          57,
          8,
          25,
          14,
          10,
          13,
          12,
          12,
          6,
          5,
          59,
          33,
          19,
          4,
          4,
          10,
          9,
          13,
          3,
          2,
          3,
          7,
          24,
          3,
          13,
          3,
          12,
          7,
          9,
          13,
          8,
          9,
          23,
          8,
          4,
          2,
          10,
          3,
          3,
          9,
          10,
          11,
          7,
          21,
          13,
          6,
          8,
          24,
          8,
          35,
          1,
          12,
          9,
          6,
          6,
          9,
          8,
          7,
          1,
          9,
          3,
          3,
          4,
          8,
          10,
          41,
          10,
          3,
          34,
          10,
          5,
          3,
          6,
          12,
          4,
          42,
          6,
          6,
          8,
          6,
          12,
          13,
          16,
          5,
          3,
          9,
          15,
          3,
          53,
          10,
          8,
          2,
          12,
          5,
          5,
          15,
          81,
          7,
          3,
          5,
          5,
          10,
          18,
          43,
          10,
          4,
          10,
          29,
          5,
          10,
          7,
          21,
          5,
          2,
          22,
          8,
          16,
          35,
          12,
          18,
          16,
          9,
          8,
          42,
          6,
          7,
          11,
          2,
          4,
          29,
          3,
          5,
          16,
          42,
          10,
          3,
          4,
          8,
          14,
          6,
          60,
          37,
          41,
          26,
          5,
          44,
          22,
          43,
          9,
          25,
          49,
          33,
          10,
          7,
          9,
          20,
          8,
          7,
          21,
          7,
          17,
          11,
          11,
          10,
          24,
          6,
          7,
          6,
          21,
          6,
          10,
          2,
          2,
          8,
          24,
          23,
          37,
          4,
          69,
          3,
          19,
          7,
          10,
          2,
          2,
          14,
          3,
          3,
          27,
          12,
          39,
          8,
          8,
          17,
          36,
          52,
          10,
          10,
          6,
          22,
          5,
          18,
          8,
          6,
          33,
          15,
          2,
          1,
          15,
          13,
          12,
          5,
          12,
          4,
          6,
          25,
          6,
          14,
          3,
          26,
          16,
          25,
          3,
          15,
          1,
          7,
          7,
          10,
          13,
          12,
          2,
          7,
          17,
          10,
          28,
          3,
          2,
          15,
          16,
          8,
          19,
          7,
          8,
          6,
          28,
          6,
          10,
          1,
          9,
          13,
          8,
          7,
          13,
          44,
          4,
          5,
          4,
          9,
          17,
          14,
          7,
          28,
          17,
          9,
          5,
          30,
          8,
          8,
          2,
          5,
          5,
          32,
          4,
          24,
          3,
          8,
          10,
          4,
          3,
          13,
          3,
          10,
          27,
          8,
          2,
          9,
          39,
          11,
          25,
          3,
          8,
          10,
          34,
          14,
          31,
          4,
          10,
          7,
          6,
          3,
          5,
          9,
          6,
          4,
          6,
          6,
          6,
          10,
          36,
          3,
          6,
          4,
          4,
          26,
          7,
          4,
          3,
          7,
          10,
          8,
          11,
          5,
          14,
          7,
          8,
          8,
          7,
          7,
          9,
          12,
          21,
          4,
          3,
          9,
          5,
          10,
          12,
          18,
          11,
          2,
          4,
          2,
          13,
          19,
          9,
          9
         ],
         "xaxis": "x",
         "yaxis": "y"
        },
        {
         "alignmentgroup": "True",
         "hovertemplate": "hospital_length_of_stay=%{x}<extra></extra>",
         "legendgroup": "",
         "marker": {
          "color": "#636efa",
          "line": {
           "color": "black",
           "width": 1
          }
         },
         "name": "",
         "notched": true,
         "offsetgroup": "",
         "showlegend": false,
         "type": "box",
         "x": [
          21,
          5,
          7,
          9,
          9,
          32,
          4,
          10,
          11,
          29,
          4,
          8,
          33,
          34,
          3,
          15,
          5,
          11,
          7,
          2,
          4,
          8,
          12,
          72,
          6,
          8,
          6,
          4,
          13,
          5,
          2,
          5,
          3,
          7,
          3,
          17,
          9,
          34,
          20,
          38,
          13,
          10,
          5,
          13,
          19,
          7,
          40,
          2,
          38,
          18,
          6,
          6,
          6,
          2,
          3,
          7,
          5,
          5,
          12,
          23,
          2,
          3,
          3,
          3,
          12,
          8,
          6,
          2,
          19,
          5,
          2,
          3,
          15,
          1,
          17,
          4,
          4,
          14,
          17,
          38,
          22,
          34,
          5,
          5,
          5,
          17,
          58,
          8,
          39,
          4,
          10,
          4,
          9,
          38,
          6,
          11,
          16,
          5,
          25,
          6,
          18,
          22,
          22,
          9,
          16,
          5,
          7,
          11,
          2,
          8,
          30,
          9,
          3,
          37,
          11,
          4,
          1,
          42,
          5,
          33,
          20,
          13,
          8,
          10,
          7,
          6,
          9,
          5,
          8,
          2,
          17,
          9,
          2,
          19,
          11,
          3,
          3,
          9,
          3,
          16,
          3,
          4,
          3,
          1,
          19,
          7,
          4,
          4,
          8,
          1,
          10,
          11,
          13,
          2,
          12,
          2,
          7,
          12,
          4,
          12,
          57,
          8,
          25,
          14,
          10,
          13,
          12,
          12,
          6,
          5,
          59,
          33,
          19,
          4,
          4,
          10,
          9,
          13,
          3,
          2,
          3,
          7,
          24,
          3,
          13,
          3,
          12,
          7,
          9,
          13,
          8,
          9,
          23,
          8,
          4,
          2,
          10,
          3,
          3,
          9,
          10,
          11,
          7,
          21,
          13,
          6,
          8,
          24,
          8,
          35,
          1,
          12,
          9,
          6,
          6,
          9,
          8,
          7,
          1,
          9,
          3,
          3,
          4,
          8,
          10,
          41,
          10,
          3,
          34,
          10,
          5,
          3,
          6,
          12,
          4,
          42,
          6,
          6,
          8,
          6,
          12,
          13,
          16,
          5,
          3,
          9,
          15,
          3,
          53,
          10,
          8,
          2,
          12,
          5,
          5,
          15,
          81,
          7,
          3,
          5,
          5,
          10,
          18,
          43,
          10,
          4,
          10,
          29,
          5,
          10,
          7,
          21,
          5,
          2,
          22,
          8,
          16,
          35,
          12,
          18,
          16,
          9,
          8,
          42,
          6,
          7,
          11,
          2,
          4,
          29,
          3,
          5,
          16,
          42,
          10,
          3,
          4,
          8,
          14,
          6,
          60,
          37,
          41,
          26,
          5,
          44,
          22,
          43,
          9,
          25,
          49,
          33,
          10,
          7,
          9,
          20,
          8,
          7,
          21,
          7,
          17,
          11,
          11,
          10,
          24,
          6,
          7,
          6,
          21,
          6,
          10,
          2,
          2,
          8,
          24,
          23,
          37,
          4,
          69,
          3,
          19,
          7,
          10,
          2,
          2,
          14,
          3,
          3,
          27,
          12,
          39,
          8,
          8,
          17,
          36,
          52,
          10,
          10,
          6,
          22,
          5,
          18,
          8,
          6,
          33,
          15,
          2,
          1,
          15,
          13,
          12,
          5,
          12,
          4,
          6,
          25,
          6,
          14,
          3,
          26,
          16,
          25,
          3,
          15,
          1,
          7,
          7,
          10,
          13,
          12,
          2,
          7,
          17,
          10,
          28,
          3,
          2,
          15,
          16,
          8,
          19,
          7,
          8,
          6,
          28,
          6,
          10,
          1,
          9,
          13,
          8,
          7,
          13,
          44,
          4,
          5,
          4,
          9,
          17,
          14,
          7,
          28,
          17,
          9,
          5,
          30,
          8,
          8,
          2,
          5,
          5,
          32,
          4,
          24,
          3,
          8,
          10,
          4,
          3,
          13,
          3,
          10,
          27,
          8,
          2,
          9,
          39,
          11,
          25,
          3,
          8,
          10,
          34,
          14,
          31,
          4,
          10,
          7,
          6,
          3,
          5,
          9,
          6,
          4,
          6,
          6,
          6,
          10,
          36,
          3,
          6,
          4,
          4,
          26,
          7,
          4,
          3,
          7,
          10,
          8,
          11,
          5,
          14,
          7,
          8,
          8,
          7,
          7,
          9,
          12,
          21,
          4,
          3,
          9,
          5,
          10,
          12,
          18,
          11,
          2,
          4,
          2,
          13,
          19,
          9,
          9
         ],
         "xaxis": "x2",
         "yaxis": "y2"
        }
       ],
       "layout": {
        "barmode": "relative",
        "legend": {
         "tracegroupgap": 0
        },
        "template": {
         "data": {
          "bar": [
           {
            "error_x": {
             "color": "#2a3f5f"
            },
            "error_y": {
             "color": "#2a3f5f"
            },
            "marker": {
             "line": {
              "color": "#E5ECF6",
              "width": 0.5
             },
             "pattern": {
              "fillmode": "overlay",
              "size": 10,
              "solidity": 0.2
             }
            },
            "type": "bar"
           }
          ],
          "barpolar": [
           {
            "marker": {
             "line": {
              "color": "#E5ECF6",
              "width": 0.5
             },
             "pattern": {
              "fillmode": "overlay",
              "size": 10,
              "solidity": 0.2
             }
            },
            "type": "barpolar"
           }
          ],
          "carpet": [
           {
            "aaxis": {
             "endlinecolor": "#2a3f5f",
             "gridcolor": "white",
             "linecolor": "white",
             "minorgridcolor": "white",
             "startlinecolor": "#2a3f5f"
            },
            "baxis": {
             "endlinecolor": "#2a3f5f",
             "gridcolor": "white",
             "linecolor": "white",
             "minorgridcolor": "white",
             "startlinecolor": "#2a3f5f"
            },
            "type": "carpet"
           }
          ],
          "choropleth": [
           {
            "colorbar": {
             "outlinewidth": 0,
             "ticks": ""
            },
            "type": "choropleth"
           }
          ],
          "contour": [
           {
            "colorbar": {
             "outlinewidth": 0,
             "ticks": ""
            },
            "colorscale": [
             [
              0,
              "#0d0887"
             ],
             [
              0.1111111111111111,
              "#46039f"
             ],
             [
              0.2222222222222222,
              "#7201a8"
             ],
             [
              0.3333333333333333,
              "#9c179e"
             ],
             [
              0.4444444444444444,
              "#bd3786"
             ],
             [
              0.5555555555555556,
              "#d8576b"
             ],
             [
              0.6666666666666666,
              "#ed7953"
             ],
             [
              0.7777777777777778,
              "#fb9f3a"
             ],
             [
              0.8888888888888888,
              "#fdca26"
             ],
             [
              1,
              "#f0f921"
             ]
            ],
            "type": "contour"
           }
          ],
          "contourcarpet": [
           {
            "colorbar": {
             "outlinewidth": 0,
             "ticks": ""
            },
            "type": "contourcarpet"
           }
          ],
          "heatmap": [
           {
            "colorbar": {
             "outlinewidth": 0,
             "ticks": ""
            },
            "colorscale": [
             [
              0,
              "#0d0887"
             ],
             [
              0.1111111111111111,
              "#46039f"
             ],
             [
              0.2222222222222222,
              "#7201a8"
             ],
             [
              0.3333333333333333,
              "#9c179e"
             ],
             [
              0.4444444444444444,
              "#bd3786"
             ],
             [
              0.5555555555555556,
              "#d8576b"
             ],
             [
              0.6666666666666666,
              "#ed7953"
             ],
             [
              0.7777777777777778,
              "#fb9f3a"
             ],
             [
              0.8888888888888888,
              "#fdca26"
             ],
             [
              1,
              "#f0f921"
             ]
            ],
            "type": "heatmap"
           }
          ],
          "heatmapgl": [
           {
            "colorbar": {
             "outlinewidth": 0,
             "ticks": ""
            },
            "colorscale": [
             [
              0,
              "#0d0887"
             ],
             [
              0.1111111111111111,
              "#46039f"
             ],
             [
              0.2222222222222222,
              "#7201a8"
             ],
             [
              0.3333333333333333,
              "#9c179e"
             ],
             [
              0.4444444444444444,
              "#bd3786"
             ],
             [
              0.5555555555555556,
              "#d8576b"
             ],
             [
              0.6666666666666666,
              "#ed7953"
             ],
             [
              0.7777777777777778,
              "#fb9f3a"
             ],
             [
              0.8888888888888888,
              "#fdca26"
             ],
             [
              1,
              "#f0f921"
             ]
            ],
            "type": "heatmapgl"
           }
          ],
          "histogram": [
           {
            "marker": {
             "pattern": {
              "fillmode": "overlay",
              "size": 10,
              "solidity": 0.2
             }
            },
            "type": "histogram"
           }
          ],
          "histogram2d": [
           {
            "colorbar": {
             "outlinewidth": 0,
             "ticks": ""
            },
            "colorscale": [
             [
              0,
              "#0d0887"
             ],
             [
              0.1111111111111111,
              "#46039f"
             ],
             [
              0.2222222222222222,
              "#7201a8"
             ],
             [
              0.3333333333333333,
              "#9c179e"
             ],
             [
              0.4444444444444444,
              "#bd3786"
             ],
             [
              0.5555555555555556,
              "#d8576b"
             ],
             [
              0.6666666666666666,
              "#ed7953"
             ],
             [
              0.7777777777777778,
              "#fb9f3a"
             ],
             [
              0.8888888888888888,
              "#fdca26"
             ],
             [
              1,
              "#f0f921"
             ]
            ],
            "type": "histogram2d"
           }
          ],
          "histogram2dcontour": [
           {
            "colorbar": {
             "outlinewidth": 0,
             "ticks": ""
            },
            "colorscale": [
             [
              0,
              "#0d0887"
             ],
             [
              0.1111111111111111,
              "#46039f"
             ],
             [
              0.2222222222222222,
              "#7201a8"
             ],
             [
              0.3333333333333333,
              "#9c179e"
             ],
             [
              0.4444444444444444,
              "#bd3786"
             ],
             [
              0.5555555555555556,
              "#d8576b"
             ],
             [
              0.6666666666666666,
              "#ed7953"
             ],
             [
              0.7777777777777778,
              "#fb9f3a"
             ],
             [
              0.8888888888888888,
              "#fdca26"
             ],
             [
              1,
              "#f0f921"
             ]
            ],
            "type": "histogram2dcontour"
           }
          ],
          "mesh3d": [
           {
            "colorbar": {
             "outlinewidth": 0,
             "ticks": ""
            },
            "type": "mesh3d"
           }
          ],
          "parcoords": [
           {
            "line": {
             "colorbar": {
              "outlinewidth": 0,
              "ticks": ""
             }
            },
            "type": "parcoords"
           }
          ],
          "pie": [
           {
            "automargin": true,
            "type": "pie"
           }
          ],
          "scatter": [
           {
            "fillpattern": {
             "fillmode": "overlay",
             "size": 10,
             "solidity": 0.2
            },
            "type": "scatter"
           }
          ],
          "scatter3d": [
           {
            "line": {
             "colorbar": {
              "outlinewidth": 0,
              "ticks": ""
             }
            },
            "marker": {
             "colorbar": {
              "outlinewidth": 0,
              "ticks": ""
             }
            },
            "type": "scatter3d"
           }
          ],
          "scattercarpet": [
           {
            "marker": {
             "colorbar": {
              "outlinewidth": 0,
              "ticks": ""
             }
            },
            "type": "scattercarpet"
           }
          ],
          "scattergeo": [
           {
            "marker": {
             "colorbar": {
              "outlinewidth": 0,
              "ticks": ""
             }
            },
            "type": "scattergeo"
           }
          ],
          "scattergl": [
           {
            "marker": {
             "colorbar": {
              "outlinewidth": 0,
              "ticks": ""
             }
            },
            "type": "scattergl"
           }
          ],
          "scattermapbox": [
           {
            "marker": {
             "colorbar": {
              "outlinewidth": 0,
              "ticks": ""
             }
            },
            "type": "scattermapbox"
           }
          ],
          "scatterpolar": [
           {
            "marker": {
             "colorbar": {
              "outlinewidth": 0,
              "ticks": ""
             }
            },
            "type": "scatterpolar"
           }
          ],
          "scatterpolargl": [
           {
            "marker": {
             "colorbar": {
              "outlinewidth": 0,
              "ticks": ""
             }
            },
            "type": "scatterpolargl"
           }
          ],
          "scatterternary": [
           {
            "marker": {
             "colorbar": {
              "outlinewidth": 0,
              "ticks": ""
             }
            },
            "type": "scatterternary"
           }
          ],
          "surface": [
           {
            "colorbar": {
             "outlinewidth": 0,
             "ticks": ""
            },
            "colorscale": [
             [
              0,
              "#0d0887"
             ],
             [
              0.1111111111111111,
              "#46039f"
             ],
             [
              0.2222222222222222,
              "#7201a8"
             ],
             [
              0.3333333333333333,
              "#9c179e"
             ],
             [
              0.4444444444444444,
              "#bd3786"
             ],
             [
              0.5555555555555556,
              "#d8576b"
             ],
             [
              0.6666666666666666,
              "#ed7953"
             ],
             [
              0.7777777777777778,
              "#fb9f3a"
             ],
             [
              0.8888888888888888,
              "#fdca26"
             ],
             [
              1,
              "#f0f921"
             ]
            ],
            "type": "surface"
           }
          ],
          "table": [
           {
            "cells": {
             "fill": {
              "color": "#EBF0F8"
             },
             "line": {
              "color": "white"
             }
            },
            "header": {
             "fill": {
              "color": "#C8D4E3"
             },
             "line": {
              "color": "white"
             }
            },
            "type": "table"
           }
          ]
         },
         "layout": {
          "annotationdefaults": {
           "arrowcolor": "#2a3f5f",
           "arrowhead": 0,
           "arrowwidth": 1
          },
          "autotypenumbers": "strict",
          "coloraxis": {
           "colorbar": {
            "outlinewidth": 0,
            "ticks": ""
           }
          },
          "colorscale": {
           "diverging": [
            [
             0,
             "#8e0152"
            ],
            [
             0.1,
             "#c51b7d"
            ],
            [
             0.2,
             "#de77ae"
            ],
            [
             0.3,
             "#f1b6da"
            ],
            [
             0.4,
             "#fde0ef"
            ],
            [
             0.5,
             "#f7f7f7"
            ],
            [
             0.6,
             "#e6f5d0"
            ],
            [
             0.7,
             "#b8e186"
            ],
            [
             0.8,
             "#7fbc41"
            ],
            [
             0.9,
             "#4d9221"
            ],
            [
             1,
             "#276419"
            ]
           ],
           "sequential": [
            [
             0,
             "#0d0887"
            ],
            [
             0.1111111111111111,
             "#46039f"
            ],
            [
             0.2222222222222222,
             "#7201a8"
            ],
            [
             0.3333333333333333,
             "#9c179e"
            ],
            [
             0.4444444444444444,
             "#bd3786"
            ],
            [
             0.5555555555555556,
             "#d8576b"
            ],
            [
             0.6666666666666666,
             "#ed7953"
            ],
            [
             0.7777777777777778,
             "#fb9f3a"
            ],
            [
             0.8888888888888888,
             "#fdca26"
            ],
            [
             1,
             "#f0f921"
            ]
           ],
           "sequentialminus": [
            [
             0,
             "#0d0887"
            ],
            [
             0.1111111111111111,
             "#46039f"
            ],
            [
             0.2222222222222222,
             "#7201a8"
            ],
            [
             0.3333333333333333,
             "#9c179e"
            ],
            [
             0.4444444444444444,
             "#bd3786"
            ],
            [
             0.5555555555555556,
             "#d8576b"
            ],
            [
             0.6666666666666666,
             "#ed7953"
            ],
            [
             0.7777777777777778,
             "#fb9f3a"
            ],
            [
             0.8888888888888888,
             "#fdca26"
            ],
            [
             1,
             "#f0f921"
            ]
           ]
          },
          "colorway": [
           "#636efa",
           "#EF553B",
           "#00cc96",
           "#ab63fa",
           "#FFA15A",
           "#19d3f3",
           "#FF6692",
           "#B6E880",
           "#FF97FF",
           "#FECB52"
          ],
          "font": {
           "color": "#2a3f5f"
          },
          "geo": {
           "bgcolor": "white",
           "lakecolor": "white",
           "landcolor": "#E5ECF6",
           "showlakes": true,
           "showland": true,
           "subunitcolor": "white"
          },
          "hoverlabel": {
           "align": "left"
          },
          "hovermode": "closest",
          "mapbox": {
           "style": "light"
          },
          "paper_bgcolor": "white",
          "plot_bgcolor": "#E5ECF6",
          "polar": {
           "angularaxis": {
            "gridcolor": "white",
            "linecolor": "white",
            "ticks": ""
           },
           "bgcolor": "#E5ECF6",
           "radialaxis": {
            "gridcolor": "white",
            "linecolor": "white",
            "ticks": ""
           }
          },
          "scene": {
           "xaxis": {
            "backgroundcolor": "#E5ECF6",
            "gridcolor": "white",
            "gridwidth": 2,
            "linecolor": "white",
            "showbackground": true,
            "ticks": "",
            "zerolinecolor": "white"
           },
           "yaxis": {
            "backgroundcolor": "#E5ECF6",
            "gridcolor": "white",
            "gridwidth": 2,
            "linecolor": "white",
            "showbackground": true,
            "ticks": "",
            "zerolinecolor": "white"
           },
           "zaxis": {
            "backgroundcolor": "#E5ECF6",
            "gridcolor": "white",
            "gridwidth": 2,
            "linecolor": "white",
            "showbackground": true,
            "ticks": "",
            "zerolinecolor": "white"
           }
          },
          "shapedefaults": {
           "line": {
            "color": "#2a3f5f"
           }
          },
          "ternary": {
           "aaxis": {
            "gridcolor": "white",
            "linecolor": "white",
            "ticks": ""
           },
           "baxis": {
            "gridcolor": "white",
            "linecolor": "white",
            "ticks": ""
           },
           "bgcolor": "#E5ECF6",
           "caxis": {
            "gridcolor": "white",
            "linecolor": "white",
            "ticks": ""
           }
          },
          "title": {
           "x": 0.05
          },
          "xaxis": {
           "automargin": true,
           "gridcolor": "white",
           "linecolor": "white",
           "ticks": "",
           "title": {
            "standoff": 15
           },
           "zerolinecolor": "white",
           "zerolinewidth": 2
          },
          "yaxis": {
           "automargin": true,
           "gridcolor": "white",
           "linecolor": "white",
           "ticks": "",
           "title": {
            "standoff": 15
           },
           "zerolinecolor": "white",
           "zerolinewidth": 2
          }
         }
        },
        "title": {
         "text": "Hospital Length of Stay Distribution (Original Dataset)"
        },
        "xaxis": {
         "anchor": "y",
         "domain": [
          0,
          1
         ],
         "title": {
          "text": "hospital_length_of_stay"
         }
        },
        "xaxis2": {
         "anchor": "y2",
         "domain": [
          0,
          1
         ],
         "matches": "x",
         "showgrid": true,
         "showticklabels": false
        },
        "yaxis": {
         "anchor": "x",
         "domain": [
          0,
          0.8316
         ],
         "title": {
          "text": "density"
         }
        },
        "yaxis2": {
         "anchor": "x2",
         "domain": [
          0.8416,
          1
         ],
         "matches": "y2",
         "showgrid": false,
         "showline": false,
         "showticklabels": false,
         "ticks": ""
        }
       }
      },
      "text/html": [
       "<div>                            <div id=\"bf9dbf72-4327-43c3-bd6d-62c1e9a3199b\" class=\"plotly-graph-div\" style=\"height:525px; width:100%;\"></div>            <script type=\"text/javascript\">                require([\"plotly\"], function(Plotly) {                    window.PLOTLYENV=window.PLOTLYENV || {};                                    if (document.getElementById(\"bf9dbf72-4327-43c3-bd6d-62c1e9a3199b\")) {                    Plotly.newPlot(                        \"bf9dbf72-4327-43c3-bd6d-62c1e9a3199b\",                        [{\"alignmentgroup\":\"True\",\"bingroup\":\"x\",\"histnorm\":\"density\",\"hovertemplate\":\"hospital_length_of_stay=%{x}<br>density=%{y}<extra></extra>\",\"legendgroup\":\"\",\"marker\":{\"color\":\"#636efa\",\"pattern\":{\"shape\":\"\"},\"line\":{\"color\":\"black\",\"width\":1}},\"name\":\"\",\"nbinsx\":10,\"offsetgroup\":\"\",\"orientation\":\"v\",\"showlegend\":false,\"x\":[21,5,7,9,9,32,4,10,11,29,4,8,33,34,3,15,5,11,7,2,4,8,12,72,6,8,6,4,13,5,2,5,3,7,3,17,9,34,20,38,13,10,5,13,19,7,40,2,38,18,6,6,6,2,3,7,5,5,12,23,2,3,3,3,12,8,6,2,19,5,2,3,15,1,17,4,4,14,17,38,22,34,5,5,5,17,58,8,39,4,10,4,9,38,6,11,16,5,25,6,18,22,22,9,16,5,7,11,2,8,30,9,3,37,11,4,1,42,5,33,20,13,8,10,7,6,9,5,8,2,17,9,2,19,11,3,3,9,3,16,3,4,3,1,19,7,4,4,8,1,10,11,13,2,12,2,7,12,4,12,57,8,25,14,10,13,12,12,6,5,59,33,19,4,4,10,9,13,3,2,3,7,24,3,13,3,12,7,9,13,8,9,23,8,4,2,10,3,3,9,10,11,7,21,13,6,8,24,8,35,1,12,9,6,6,9,8,7,1,9,3,3,4,8,10,41,10,3,34,10,5,3,6,12,4,42,6,6,8,6,12,13,16,5,3,9,15,3,53,10,8,2,12,5,5,15,81,7,3,5,5,10,18,43,10,4,10,29,5,10,7,21,5,2,22,8,16,35,12,18,16,9,8,42,6,7,11,2,4,29,3,5,16,42,10,3,4,8,14,6,60,37,41,26,5,44,22,43,9,25,49,33,10,7,9,20,8,7,21,7,17,11,11,10,24,6,7,6,21,6,10,2,2,8,24,23,37,4,69,3,19,7,10,2,2,14,3,3,27,12,39,8,8,17,36,52,10,10,6,22,5,18,8,6,33,15,2,1,15,13,12,5,12,4,6,25,6,14,3,26,16,25,3,15,1,7,7,10,13,12,2,7,17,10,28,3,2,15,16,8,19,7,8,6,28,6,10,1,9,13,8,7,13,44,4,5,4,9,17,14,7,28,17,9,5,30,8,8,2,5,5,32,4,24,3,8,10,4,3,13,3,10,27,8,2,9,39,11,25,3,8,10,34,14,31,4,10,7,6,3,5,9,6,4,6,6,6,10,36,3,6,4,4,26,7,4,3,7,10,8,11,5,14,7,8,8,7,7,9,12,21,4,3,9,5,10,12,18,11,2,4,2,13,19,9,9],\"xaxis\":\"x\",\"yaxis\":\"y\",\"type\":\"histogram\"},{\"alignmentgroup\":\"True\",\"hovertemplate\":\"hospital_length_of_stay=%{x}<extra></extra>\",\"legendgroup\":\"\",\"marker\":{\"color\":\"#636efa\",\"line\":{\"color\":\"black\",\"width\":1}},\"name\":\"\",\"notched\":true,\"offsetgroup\":\"\",\"showlegend\":false,\"x\":[21,5,7,9,9,32,4,10,11,29,4,8,33,34,3,15,5,11,7,2,4,8,12,72,6,8,6,4,13,5,2,5,3,7,3,17,9,34,20,38,13,10,5,13,19,7,40,2,38,18,6,6,6,2,3,7,5,5,12,23,2,3,3,3,12,8,6,2,19,5,2,3,15,1,17,4,4,14,17,38,22,34,5,5,5,17,58,8,39,4,10,4,9,38,6,11,16,5,25,6,18,22,22,9,16,5,7,11,2,8,30,9,3,37,11,4,1,42,5,33,20,13,8,10,7,6,9,5,8,2,17,9,2,19,11,3,3,9,3,16,3,4,3,1,19,7,4,4,8,1,10,11,13,2,12,2,7,12,4,12,57,8,25,14,10,13,12,12,6,5,59,33,19,4,4,10,9,13,3,2,3,7,24,3,13,3,12,7,9,13,8,9,23,8,4,2,10,3,3,9,10,11,7,21,13,6,8,24,8,35,1,12,9,6,6,9,8,7,1,9,3,3,4,8,10,41,10,3,34,10,5,3,6,12,4,42,6,6,8,6,12,13,16,5,3,9,15,3,53,10,8,2,12,5,5,15,81,7,3,5,5,10,18,43,10,4,10,29,5,10,7,21,5,2,22,8,16,35,12,18,16,9,8,42,6,7,11,2,4,29,3,5,16,42,10,3,4,8,14,6,60,37,41,26,5,44,22,43,9,25,49,33,10,7,9,20,8,7,21,7,17,11,11,10,24,6,7,6,21,6,10,2,2,8,24,23,37,4,69,3,19,7,10,2,2,14,3,3,27,12,39,8,8,17,36,52,10,10,6,22,5,18,8,6,33,15,2,1,15,13,12,5,12,4,6,25,6,14,3,26,16,25,3,15,1,7,7,10,13,12,2,7,17,10,28,3,2,15,16,8,19,7,8,6,28,6,10,1,9,13,8,7,13,44,4,5,4,9,17,14,7,28,17,9,5,30,8,8,2,5,5,32,4,24,3,8,10,4,3,13,3,10,27,8,2,9,39,11,25,3,8,10,34,14,31,4,10,7,6,3,5,9,6,4,6,6,6,10,36,3,6,4,4,26,7,4,3,7,10,8,11,5,14,7,8,8,7,7,9,12,21,4,3,9,5,10,12,18,11,2,4,2,13,19,9,9],\"xaxis\":\"x2\",\"yaxis\":\"y2\",\"type\":\"box\"}],                        {\"template\":{\"data\":{\"histogram2dcontour\":[{\"type\":\"histogram2dcontour\",\"colorbar\":{\"outlinewidth\":0,\"ticks\":\"\"},\"colorscale\":[[0.0,\"#0d0887\"],[0.1111111111111111,\"#46039f\"],[0.2222222222222222,\"#7201a8\"],[0.3333333333333333,\"#9c179e\"],[0.4444444444444444,\"#bd3786\"],[0.5555555555555556,\"#d8576b\"],[0.6666666666666666,\"#ed7953\"],[0.7777777777777778,\"#fb9f3a\"],[0.8888888888888888,\"#fdca26\"],[1.0,\"#f0f921\"]]}],\"choropleth\":[{\"type\":\"choropleth\",\"colorbar\":{\"outlinewidth\":0,\"ticks\":\"\"}}],\"histogram2d\":[{\"type\":\"histogram2d\",\"colorbar\":{\"outlinewidth\":0,\"ticks\":\"\"},\"colorscale\":[[0.0,\"#0d0887\"],[0.1111111111111111,\"#46039f\"],[0.2222222222222222,\"#7201a8\"],[0.3333333333333333,\"#9c179e\"],[0.4444444444444444,\"#bd3786\"],[0.5555555555555556,\"#d8576b\"],[0.6666666666666666,\"#ed7953\"],[0.7777777777777778,\"#fb9f3a\"],[0.8888888888888888,\"#fdca26\"],[1.0,\"#f0f921\"]]}],\"heatmap\":[{\"type\":\"heatmap\",\"colorbar\":{\"outlinewidth\":0,\"ticks\":\"\"},\"colorscale\":[[0.0,\"#0d0887\"],[0.1111111111111111,\"#46039f\"],[0.2222222222222222,\"#7201a8\"],[0.3333333333333333,\"#9c179e\"],[0.4444444444444444,\"#bd3786\"],[0.5555555555555556,\"#d8576b\"],[0.6666666666666666,\"#ed7953\"],[0.7777777777777778,\"#fb9f3a\"],[0.8888888888888888,\"#fdca26\"],[1.0,\"#f0f921\"]]}],\"heatmapgl\":[{\"type\":\"heatmapgl\",\"colorbar\":{\"outlinewidth\":0,\"ticks\":\"\"},\"colorscale\":[[0.0,\"#0d0887\"],[0.1111111111111111,\"#46039f\"],[0.2222222222222222,\"#7201a8\"],[0.3333333333333333,\"#9c179e\"],[0.4444444444444444,\"#bd3786\"],[0.5555555555555556,\"#d8576b\"],[0.6666666666666666,\"#ed7953\"],[0.7777777777777778,\"#fb9f3a\"],[0.8888888888888888,\"#fdca26\"],[1.0,\"#f0f921\"]]}],\"contourcarpet\":[{\"type\":\"contourcarpet\",\"colorbar\":{\"outlinewidth\":0,\"ticks\":\"\"}}],\"contour\":[{\"type\":\"contour\",\"colorbar\":{\"outlinewidth\":0,\"ticks\":\"\"},\"colorscale\":[[0.0,\"#0d0887\"],[0.1111111111111111,\"#46039f\"],[0.2222222222222222,\"#7201a8\"],[0.3333333333333333,\"#9c179e\"],[0.4444444444444444,\"#bd3786\"],[0.5555555555555556,\"#d8576b\"],[0.6666666666666666,\"#ed7953\"],[0.7777777777777778,\"#fb9f3a\"],[0.8888888888888888,\"#fdca26\"],[1.0,\"#f0f921\"]]}],\"surface\":[{\"type\":\"surface\",\"colorbar\":{\"outlinewidth\":0,\"ticks\":\"\"},\"colorscale\":[[0.0,\"#0d0887\"],[0.1111111111111111,\"#46039f\"],[0.2222222222222222,\"#7201a8\"],[0.3333333333333333,\"#9c179e\"],[0.4444444444444444,\"#bd3786\"],[0.5555555555555556,\"#d8576b\"],[0.6666666666666666,\"#ed7953\"],[0.7777777777777778,\"#fb9f3a\"],[0.8888888888888888,\"#fdca26\"],[1.0,\"#f0f921\"]]}],\"mesh3d\":[{\"type\":\"mesh3d\",\"colorbar\":{\"outlinewidth\":0,\"ticks\":\"\"}}],\"scatter\":[{\"fillpattern\":{\"fillmode\":\"overlay\",\"size\":10,\"solidity\":0.2},\"type\":\"scatter\"}],\"parcoords\":[{\"type\":\"parcoords\",\"line\":{\"colorbar\":{\"outlinewidth\":0,\"ticks\":\"\"}}}],\"scatterpolargl\":[{\"type\":\"scatterpolargl\",\"marker\":{\"colorbar\":{\"outlinewidth\":0,\"ticks\":\"\"}}}],\"bar\":[{\"error_x\":{\"color\":\"#2a3f5f\"},\"error_y\":{\"color\":\"#2a3f5f\"},\"marker\":{\"line\":{\"color\":\"#E5ECF6\",\"width\":0.5},\"pattern\":{\"fillmode\":\"overlay\",\"size\":10,\"solidity\":0.2}},\"type\":\"bar\"}],\"scattergeo\":[{\"type\":\"scattergeo\",\"marker\":{\"colorbar\":{\"outlinewidth\":0,\"ticks\":\"\"}}}],\"scatterpolar\":[{\"type\":\"scatterpolar\",\"marker\":{\"colorbar\":{\"outlinewidth\":0,\"ticks\":\"\"}}}],\"histogram\":[{\"marker\":{\"pattern\":{\"fillmode\":\"overlay\",\"size\":10,\"solidity\":0.2}},\"type\":\"histogram\"}],\"scattergl\":[{\"type\":\"scattergl\",\"marker\":{\"colorbar\":{\"outlinewidth\":0,\"ticks\":\"\"}}}],\"scatter3d\":[{\"type\":\"scatter3d\",\"line\":{\"colorbar\":{\"outlinewidth\":0,\"ticks\":\"\"}},\"marker\":{\"colorbar\":{\"outlinewidth\":0,\"ticks\":\"\"}}}],\"scattermapbox\":[{\"type\":\"scattermapbox\",\"marker\":{\"colorbar\":{\"outlinewidth\":0,\"ticks\":\"\"}}}],\"scatterternary\":[{\"type\":\"scatterternary\",\"marker\":{\"colorbar\":{\"outlinewidth\":0,\"ticks\":\"\"}}}],\"scattercarpet\":[{\"type\":\"scattercarpet\",\"marker\":{\"colorbar\":{\"outlinewidth\":0,\"ticks\":\"\"}}}],\"carpet\":[{\"aaxis\":{\"endlinecolor\":\"#2a3f5f\",\"gridcolor\":\"white\",\"linecolor\":\"white\",\"minorgridcolor\":\"white\",\"startlinecolor\":\"#2a3f5f\"},\"baxis\":{\"endlinecolor\":\"#2a3f5f\",\"gridcolor\":\"white\",\"linecolor\":\"white\",\"minorgridcolor\":\"white\",\"startlinecolor\":\"#2a3f5f\"},\"type\":\"carpet\"}],\"table\":[{\"cells\":{\"fill\":{\"color\":\"#EBF0F8\"},\"line\":{\"color\":\"white\"}},\"header\":{\"fill\":{\"color\":\"#C8D4E3\"},\"line\":{\"color\":\"white\"}},\"type\":\"table\"}],\"barpolar\":[{\"marker\":{\"line\":{\"color\":\"#E5ECF6\",\"width\":0.5},\"pattern\":{\"fillmode\":\"overlay\",\"size\":10,\"solidity\":0.2}},\"type\":\"barpolar\"}],\"pie\":[{\"automargin\":true,\"type\":\"pie\"}]},\"layout\":{\"autotypenumbers\":\"strict\",\"colorway\":[\"#636efa\",\"#EF553B\",\"#00cc96\",\"#ab63fa\",\"#FFA15A\",\"#19d3f3\",\"#FF6692\",\"#B6E880\",\"#FF97FF\",\"#FECB52\"],\"font\":{\"color\":\"#2a3f5f\"},\"hovermode\":\"closest\",\"hoverlabel\":{\"align\":\"left\"},\"paper_bgcolor\":\"white\",\"plot_bgcolor\":\"#E5ECF6\",\"polar\":{\"bgcolor\":\"#E5ECF6\",\"angularaxis\":{\"gridcolor\":\"white\",\"linecolor\":\"white\",\"ticks\":\"\"},\"radialaxis\":{\"gridcolor\":\"white\",\"linecolor\":\"white\",\"ticks\":\"\"}},\"ternary\":{\"bgcolor\":\"#E5ECF6\",\"aaxis\":{\"gridcolor\":\"white\",\"linecolor\":\"white\",\"ticks\":\"\"},\"baxis\":{\"gridcolor\":\"white\",\"linecolor\":\"white\",\"ticks\":\"\"},\"caxis\":{\"gridcolor\":\"white\",\"linecolor\":\"white\",\"ticks\":\"\"}},\"coloraxis\":{\"colorbar\":{\"outlinewidth\":0,\"ticks\":\"\"}},\"colorscale\":{\"sequential\":[[0.0,\"#0d0887\"],[0.1111111111111111,\"#46039f\"],[0.2222222222222222,\"#7201a8\"],[0.3333333333333333,\"#9c179e\"],[0.4444444444444444,\"#bd3786\"],[0.5555555555555556,\"#d8576b\"],[0.6666666666666666,\"#ed7953\"],[0.7777777777777778,\"#fb9f3a\"],[0.8888888888888888,\"#fdca26\"],[1.0,\"#f0f921\"]],\"sequentialminus\":[[0.0,\"#0d0887\"],[0.1111111111111111,\"#46039f\"],[0.2222222222222222,\"#7201a8\"],[0.3333333333333333,\"#9c179e\"],[0.4444444444444444,\"#bd3786\"],[0.5555555555555556,\"#d8576b\"],[0.6666666666666666,\"#ed7953\"],[0.7777777777777778,\"#fb9f3a\"],[0.8888888888888888,\"#fdca26\"],[1.0,\"#f0f921\"]],\"diverging\":[[0,\"#8e0152\"],[0.1,\"#c51b7d\"],[0.2,\"#de77ae\"],[0.3,\"#f1b6da\"],[0.4,\"#fde0ef\"],[0.5,\"#f7f7f7\"],[0.6,\"#e6f5d0\"],[0.7,\"#b8e186\"],[0.8,\"#7fbc41\"],[0.9,\"#4d9221\"],[1,\"#276419\"]]},\"xaxis\":{\"gridcolor\":\"white\",\"linecolor\":\"white\",\"ticks\":\"\",\"title\":{\"standoff\":15},\"zerolinecolor\":\"white\",\"automargin\":true,\"zerolinewidth\":2},\"yaxis\":{\"gridcolor\":\"white\",\"linecolor\":\"white\",\"ticks\":\"\",\"title\":{\"standoff\":15},\"zerolinecolor\":\"white\",\"automargin\":true,\"zerolinewidth\":2},\"scene\":{\"xaxis\":{\"backgroundcolor\":\"#E5ECF6\",\"gridcolor\":\"white\",\"linecolor\":\"white\",\"showbackground\":true,\"ticks\":\"\",\"zerolinecolor\":\"white\",\"gridwidth\":2},\"yaxis\":{\"backgroundcolor\":\"#E5ECF6\",\"gridcolor\":\"white\",\"linecolor\":\"white\",\"showbackground\":true,\"ticks\":\"\",\"zerolinecolor\":\"white\",\"gridwidth\":2},\"zaxis\":{\"backgroundcolor\":\"#E5ECF6\",\"gridcolor\":\"white\",\"linecolor\":\"white\",\"showbackground\":true,\"ticks\":\"\",\"zerolinecolor\":\"white\",\"gridwidth\":2}},\"shapedefaults\":{\"line\":{\"color\":\"#2a3f5f\"}},\"annotationdefaults\":{\"arrowcolor\":\"#2a3f5f\",\"arrowhead\":0,\"arrowwidth\":1},\"geo\":{\"bgcolor\":\"white\",\"landcolor\":\"#E5ECF6\",\"subunitcolor\":\"white\",\"showland\":true,\"showlakes\":true,\"lakecolor\":\"white\"},\"title\":{\"x\":0.05},\"mapbox\":{\"style\":\"light\"}}},\"xaxis\":{\"anchor\":\"y\",\"domain\":[0.0,1.0],\"title\":{\"text\":\"hospital_length_of_stay\"}},\"yaxis\":{\"anchor\":\"x\",\"domain\":[0.0,0.8316],\"title\":{\"text\":\"density\"}},\"xaxis2\":{\"anchor\":\"y2\",\"domain\":[0.0,1.0],\"matches\":\"x\",\"showticklabels\":false,\"showgrid\":true},\"yaxis2\":{\"anchor\":\"x2\",\"domain\":[0.8416,1.0],\"matches\":\"y2\",\"showticklabels\":false,\"showline\":false,\"ticks\":\"\",\"showgrid\":false},\"legend\":{\"tracegroupgap\":0},\"title\":{\"text\":\"Hospital Length of Stay Distribution (Original Dataset)\"},\"barmode\":\"relative\"},                        {\"responsive\": true}                    ).then(function(){\n",
       "                            \n",
       "var gd = document.getElementById('bf9dbf72-4327-43c3-bd6d-62c1e9a3199b');\n",
       "var x = new MutationObserver(function (mutations, observer) {{\n",
       "        var display = window.getComputedStyle(gd).display;\n",
       "        if (!display || display === 'none') {{\n",
       "            console.log([gd, 'removed!']);\n",
       "            Plotly.purge(gd);\n",
       "            observer.disconnect();\n",
       "        }}\n",
       "}});\n",
       "\n",
       "// Listen for the removal of the full notebook cells\n",
       "var notebookContainer = gd.closest('#notebook-container');\n",
       "if (notebookContainer) {{\n",
       "    x.observe(notebookContainer, {childList: true});\n",
       "}}\n",
       "\n",
       "// Listen for the clearing of the current output cell\n",
       "var outputEl = gd.closest('.output');\n",
       "if (outputEl) {{\n",
       "    x.observe(outputEl, {childList: true});\n",
       "}}\n",
       "\n",
       "                        })                };                });            </script>        </div>"
      ]
     },
     "metadata": {},
     "output_type": "display_data"
    },
    {
     "data": {
      "application/vnd.plotly.v1+json": {
       "config": {
        "plotlyServerURL": "https://plot.ly"
       },
       "data": [
        {
         "alignmentgroup": "True",
         "bingroup": "x",
         "histnorm": "density",
         "hovertemplate": "hospital_length_of_stay=%{x}<br>density=%{y}<extra></extra>",
         "legendgroup": "",
         "marker": {
          "color": "#636efa",
          "line": {
           "color": "black",
           "width": 1
          },
          "pattern": {
           "shape": ""
          }
         },
         "name": "",
         "nbinsx": 10,
         "offsetgroup": "",
         "orientation": "v",
         "showlegend": false,
         "type": "histogram",
         "x": [
          18,
          10,
          6,
          15,
          8,
          3,
          6,
          12,
          4,
          12,
          18,
          15,
          9,
          5,
          10,
          13,
          1,
          8,
          9,
          2,
          3,
          7,
          5,
          12,
          12,
          8,
          21,
          3,
          3,
          10,
          10,
          18,
          16,
          4,
          5,
          5,
          17,
          9,
          8,
          10,
          8,
          3,
          13,
          2,
          7,
          1,
          20,
          11,
          14,
          9,
          11,
          15,
          10,
          9,
          6,
          9,
          21,
          3,
          4,
          5,
          8,
          10,
          19,
          16,
          8,
          3,
          6,
          7,
          6,
          19,
          21,
          3,
          5,
          22,
          10,
          5,
          16,
          8,
          6,
          2,
          10,
          8,
          10,
          6,
          11,
          8,
          28.5,
          28.5,
          28.5,
          28.5,
          28.5,
          32.5,
          29.5,
          32.5,
          32.5,
          29.5,
          25,
          30.5,
          30.5,
          25,
          30.5,
          30.5,
          46.5,
          46.5,
          46.5,
          30.5,
          26,
          26,
          28,
          26,
          28,
          31.5,
          31.5,
          31.5,
          31.5,
          31.5,
          29,
          41,
          29,
          29,
          41,
          33,
          37,
          37,
          37,
          37,
          25.5,
          25,
          25.5,
          25.5,
          25,
          25,
          25,
          25,
          25.5,
          25,
          32,
          32,
          32,
          32,
          32,
          34,
          33.5,
          33.5,
          33.5,
          34,
          25.5,
          25.5,
          25.5,
          25.5,
          25.5,
          27.67343107284978,
          31.09499951731414,
          28.5,
          35.18118715751916,
          28.5,
          31.5,
          31.5,
          31.5,
          31.5,
          31.5,
          33,
          29,
          33,
          29,
          29,
          26.5,
          26.5,
          26.5,
          26.5,
          36,
          26.5,
          28,
          28,
          26.5,
          28,
          29,
          36,
          36,
          29,
          36,
          31.5,
          31,
          31,
          31.5,
          31,
          55,
          32,
          55,
          55,
          32,
          35.5,
          35.5,
          33,
          35.5,
          35.5,
          33.5,
          36,
          36,
          33.5,
          36,
          31,
          31,
          29,
          31,
          31,
          35,
          35,
          28.5,
          28.5,
          28.5,
          35,
          52,
          35,
          35,
          52,
          30,
          31,
          31,
          30,
          30,
          33.5,
          33.5,
          33.5,
          33.5,
          33.5,
          35,
          37.5,
          35,
          37.5,
          35,
          29,
          45,
          45,
          45,
          29,
          37,
          37,
          37,
          41,
          41,
          42.5,
          34.5,
          42.5,
          42.5,
          42.5,
          33.5,
          31.5,
          31.5,
          33.5,
          31.5,
          36,
          36,
          36,
          36,
          36,
          36.5,
          36,
          36.5,
          36,
          36,
          43.5,
          43.5,
          37.5,
          43.5,
          37.5,
          36.5,
          32.5,
          36.5,
          32.5,
          36.5,
          29.5,
          38,
          29.5,
          38,
          38,
          38.5,
          38.5,
          38.5,
          38.5,
          38.5,
          37.5,
          37.5,
          44,
          37.5,
          37.5,
          33.87984300171956,
          34.1334333284758,
          28.54169031977654,
          32.85097518959083,
          34.14629080938175,
          39.5,
          35,
          39.5,
          39.5,
          35,
          40,
          40,
          40,
          40,
          40,
          30.5,
          53,
          53,
          53,
          53,
          36,
          39,
          39,
          36,
          39,
          36,
          36,
          39,
          36,
          39,
          38.5,
          31.5,
          38.5,
          38.5,
          38.5,
          38.5,
          31.5,
          31.5,
          31.5,
          38.5,
          38.5,
          38.5,
          38.5,
          38.5,
          38.5,
          31.5,
          31.5,
          31.5,
          31.5,
          31.5,
          33,
          35,
          33,
          33,
          35,
          39,
          39,
          39,
          39,
          39,
          38,
          41.5,
          38,
          38,
          41.5,
          33,
          33,
          33,
          45,
          33,
          37.5,
          37.5,
          33.5,
          33.5,
          37.5,
          61.5,
          41.5,
          41.5,
          61.5,
          61.5,
          41.5,
          41.5,
          38.5,
          41.5,
          38.5,
          41.5,
          34,
          41.5,
          34,
          34,
          62,
          62,
          62,
          42.5,
          42.5,
          40,
          38,
          38,
          40,
          38,
          52,
          52,
          38.5,
          52,
          52,
          36,
          34,
          36,
          36,
          36,
          37,
          37,
          37,
          37,
          37,
          39.5,
          44,
          39.5,
          44,
          44,
          47.5,
          47.5,
          67,
          47.5,
          67,
          58,
          58,
          41,
          41,
          41,
          48,
          41.5,
          48,
          41.5,
          41.5,
          41.5,
          58,
          41.5,
          41.5,
          58,
          52,
          50.5,
          50.5,
          52,
          50.5,
          53,
          53,
          53,
          46.5,
          53,
          53,
          53,
          56,
          53,
          56,
          62,
          62,
          62,
          62,
          61.5,
          24,
          24,
          24,
          24,
          24,
          25,
          25,
          25,
          25,
          25,
          25,
          26,
          26,
          26,
          27,
          27,
          28,
          28,
          28,
          29,
          29,
          29,
          30,
          30,
          31,
          32,
          32,
          33,
          33,
          33,
          33,
          33,
          34,
          34,
          34,
          34,
          34,
          35,
          35,
          36,
          36,
          37,
          37,
          37,
          38,
          38,
          38,
          38,
          39,
          39,
          39,
          40,
          41,
          41,
          42,
          42,
          42,
          42,
          43,
          43,
          44,
          44,
          49,
          52,
          53,
          57,
          58,
          59,
          60,
          69,
          72,
          81
         ],
         "xaxis": "x",
         "yaxis": "y"
        },
        {
         "alignmentgroup": "True",
         "hovertemplate": "hospital_length_of_stay=%{x}<extra></extra>",
         "legendgroup": "",
         "marker": {
          "color": "#636efa",
          "line": {
           "color": "black",
           "width": 1
          }
         },
         "name": "",
         "notched": true,
         "offsetgroup": "",
         "showlegend": false,
         "type": "box",
         "x": [
          18,
          10,
          6,
          15,
          8,
          3,
          6,
          12,
          4,
          12,
          18,
          15,
          9,
          5,
          10,
          13,
          1,
          8,
          9,
          2,
          3,
          7,
          5,
          12,
          12,
          8,
          21,
          3,
          3,
          10,
          10,
          18,
          16,
          4,
          5,
          5,
          17,
          9,
          8,
          10,
          8,
          3,
          13,
          2,
          7,
          1,
          20,
          11,
          14,
          9,
          11,
          15,
          10,
          9,
          6,
          9,
          21,
          3,
          4,
          5,
          8,
          10,
          19,
          16,
          8,
          3,
          6,
          7,
          6,
          19,
          21,
          3,
          5,
          22,
          10,
          5,
          16,
          8,
          6,
          2,
          10,
          8,
          10,
          6,
          11,
          8,
          28.5,
          28.5,
          28.5,
          28.5,
          28.5,
          32.5,
          29.5,
          32.5,
          32.5,
          29.5,
          25,
          30.5,
          30.5,
          25,
          30.5,
          30.5,
          46.5,
          46.5,
          46.5,
          30.5,
          26,
          26,
          28,
          26,
          28,
          31.5,
          31.5,
          31.5,
          31.5,
          31.5,
          29,
          41,
          29,
          29,
          41,
          33,
          37,
          37,
          37,
          37,
          25.5,
          25,
          25.5,
          25.5,
          25,
          25,
          25,
          25,
          25.5,
          25,
          32,
          32,
          32,
          32,
          32,
          34,
          33.5,
          33.5,
          33.5,
          34,
          25.5,
          25.5,
          25.5,
          25.5,
          25.5,
          27.67343107284978,
          31.09499951731414,
          28.5,
          35.18118715751916,
          28.5,
          31.5,
          31.5,
          31.5,
          31.5,
          31.5,
          33,
          29,
          33,
          29,
          29,
          26.5,
          26.5,
          26.5,
          26.5,
          36,
          26.5,
          28,
          28,
          26.5,
          28,
          29,
          36,
          36,
          29,
          36,
          31.5,
          31,
          31,
          31.5,
          31,
          55,
          32,
          55,
          55,
          32,
          35.5,
          35.5,
          33,
          35.5,
          35.5,
          33.5,
          36,
          36,
          33.5,
          36,
          31,
          31,
          29,
          31,
          31,
          35,
          35,
          28.5,
          28.5,
          28.5,
          35,
          52,
          35,
          35,
          52,
          30,
          31,
          31,
          30,
          30,
          33.5,
          33.5,
          33.5,
          33.5,
          33.5,
          35,
          37.5,
          35,
          37.5,
          35,
          29,
          45,
          45,
          45,
          29,
          37,
          37,
          37,
          41,
          41,
          42.5,
          34.5,
          42.5,
          42.5,
          42.5,
          33.5,
          31.5,
          31.5,
          33.5,
          31.5,
          36,
          36,
          36,
          36,
          36,
          36.5,
          36,
          36.5,
          36,
          36,
          43.5,
          43.5,
          37.5,
          43.5,
          37.5,
          36.5,
          32.5,
          36.5,
          32.5,
          36.5,
          29.5,
          38,
          29.5,
          38,
          38,
          38.5,
          38.5,
          38.5,
          38.5,
          38.5,
          37.5,
          37.5,
          44,
          37.5,
          37.5,
          33.87984300171956,
          34.1334333284758,
          28.54169031977654,
          32.85097518959083,
          34.14629080938175,
          39.5,
          35,
          39.5,
          39.5,
          35,
          40,
          40,
          40,
          40,
          40,
          30.5,
          53,
          53,
          53,
          53,
          36,
          39,
          39,
          36,
          39,
          36,
          36,
          39,
          36,
          39,
          38.5,
          31.5,
          38.5,
          38.5,
          38.5,
          38.5,
          31.5,
          31.5,
          31.5,
          38.5,
          38.5,
          38.5,
          38.5,
          38.5,
          38.5,
          31.5,
          31.5,
          31.5,
          31.5,
          31.5,
          33,
          35,
          33,
          33,
          35,
          39,
          39,
          39,
          39,
          39,
          38,
          41.5,
          38,
          38,
          41.5,
          33,
          33,
          33,
          45,
          33,
          37.5,
          37.5,
          33.5,
          33.5,
          37.5,
          61.5,
          41.5,
          41.5,
          61.5,
          61.5,
          41.5,
          41.5,
          38.5,
          41.5,
          38.5,
          41.5,
          34,
          41.5,
          34,
          34,
          62,
          62,
          62,
          42.5,
          42.5,
          40,
          38,
          38,
          40,
          38,
          52,
          52,
          38.5,
          52,
          52,
          36,
          34,
          36,
          36,
          36,
          37,
          37,
          37,
          37,
          37,
          39.5,
          44,
          39.5,
          44,
          44,
          47.5,
          47.5,
          67,
          47.5,
          67,
          58,
          58,
          41,
          41,
          41,
          48,
          41.5,
          48,
          41.5,
          41.5,
          41.5,
          58,
          41.5,
          41.5,
          58,
          52,
          50.5,
          50.5,
          52,
          50.5,
          53,
          53,
          53,
          46.5,
          53,
          53,
          53,
          56,
          53,
          56,
          62,
          62,
          62,
          62,
          61.5,
          24,
          24,
          24,
          24,
          24,
          25,
          25,
          25,
          25,
          25,
          25,
          26,
          26,
          26,
          27,
          27,
          28,
          28,
          28,
          29,
          29,
          29,
          30,
          30,
          31,
          32,
          32,
          33,
          33,
          33,
          33,
          33,
          34,
          34,
          34,
          34,
          34,
          35,
          35,
          36,
          36,
          37,
          37,
          37,
          38,
          38,
          38,
          38,
          39,
          39,
          39,
          40,
          41,
          41,
          42,
          42,
          42,
          42,
          43,
          43,
          44,
          44,
          49,
          52,
          53,
          57,
          58,
          59,
          60,
          69,
          72,
          81
         ],
         "xaxis": "x2",
         "yaxis": "y2"
        }
       ],
       "layout": {
        "barmode": "relative",
        "legend": {
         "tracegroupgap": 0
        },
        "template": {
         "data": {
          "bar": [
           {
            "error_x": {
             "color": "#2a3f5f"
            },
            "error_y": {
             "color": "#2a3f5f"
            },
            "marker": {
             "line": {
              "color": "#E5ECF6",
              "width": 0.5
             },
             "pattern": {
              "fillmode": "overlay",
              "size": 10,
              "solidity": 0.2
             }
            },
            "type": "bar"
           }
          ],
          "barpolar": [
           {
            "marker": {
             "line": {
              "color": "#E5ECF6",
              "width": 0.5
             },
             "pattern": {
              "fillmode": "overlay",
              "size": 10,
              "solidity": 0.2
             }
            },
            "type": "barpolar"
           }
          ],
          "carpet": [
           {
            "aaxis": {
             "endlinecolor": "#2a3f5f",
             "gridcolor": "white",
             "linecolor": "white",
             "minorgridcolor": "white",
             "startlinecolor": "#2a3f5f"
            },
            "baxis": {
             "endlinecolor": "#2a3f5f",
             "gridcolor": "white",
             "linecolor": "white",
             "minorgridcolor": "white",
             "startlinecolor": "#2a3f5f"
            },
            "type": "carpet"
           }
          ],
          "choropleth": [
           {
            "colorbar": {
             "outlinewidth": 0,
             "ticks": ""
            },
            "type": "choropleth"
           }
          ],
          "contour": [
           {
            "colorbar": {
             "outlinewidth": 0,
             "ticks": ""
            },
            "colorscale": [
             [
              0,
              "#0d0887"
             ],
             [
              0.1111111111111111,
              "#46039f"
             ],
             [
              0.2222222222222222,
              "#7201a8"
             ],
             [
              0.3333333333333333,
              "#9c179e"
             ],
             [
              0.4444444444444444,
              "#bd3786"
             ],
             [
              0.5555555555555556,
              "#d8576b"
             ],
             [
              0.6666666666666666,
              "#ed7953"
             ],
             [
              0.7777777777777778,
              "#fb9f3a"
             ],
             [
              0.8888888888888888,
              "#fdca26"
             ],
             [
              1,
              "#f0f921"
             ]
            ],
            "type": "contour"
           }
          ],
          "contourcarpet": [
           {
            "colorbar": {
             "outlinewidth": 0,
             "ticks": ""
            },
            "type": "contourcarpet"
           }
          ],
          "heatmap": [
           {
            "colorbar": {
             "outlinewidth": 0,
             "ticks": ""
            },
            "colorscale": [
             [
              0,
              "#0d0887"
             ],
             [
              0.1111111111111111,
              "#46039f"
             ],
             [
              0.2222222222222222,
              "#7201a8"
             ],
             [
              0.3333333333333333,
              "#9c179e"
             ],
             [
              0.4444444444444444,
              "#bd3786"
             ],
             [
              0.5555555555555556,
              "#d8576b"
             ],
             [
              0.6666666666666666,
              "#ed7953"
             ],
             [
              0.7777777777777778,
              "#fb9f3a"
             ],
             [
              0.8888888888888888,
              "#fdca26"
             ],
             [
              1,
              "#f0f921"
             ]
            ],
            "type": "heatmap"
           }
          ],
          "heatmapgl": [
           {
            "colorbar": {
             "outlinewidth": 0,
             "ticks": ""
            },
            "colorscale": [
             [
              0,
              "#0d0887"
             ],
             [
              0.1111111111111111,
              "#46039f"
             ],
             [
              0.2222222222222222,
              "#7201a8"
             ],
             [
              0.3333333333333333,
              "#9c179e"
             ],
             [
              0.4444444444444444,
              "#bd3786"
             ],
             [
              0.5555555555555556,
              "#d8576b"
             ],
             [
              0.6666666666666666,
              "#ed7953"
             ],
             [
              0.7777777777777778,
              "#fb9f3a"
             ],
             [
              0.8888888888888888,
              "#fdca26"
             ],
             [
              1,
              "#f0f921"
             ]
            ],
            "type": "heatmapgl"
           }
          ],
          "histogram": [
           {
            "marker": {
             "pattern": {
              "fillmode": "overlay",
              "size": 10,
              "solidity": 0.2
             }
            },
            "type": "histogram"
           }
          ],
          "histogram2d": [
           {
            "colorbar": {
             "outlinewidth": 0,
             "ticks": ""
            },
            "colorscale": [
             [
              0,
              "#0d0887"
             ],
             [
              0.1111111111111111,
              "#46039f"
             ],
             [
              0.2222222222222222,
              "#7201a8"
             ],
             [
              0.3333333333333333,
              "#9c179e"
             ],
             [
              0.4444444444444444,
              "#bd3786"
             ],
             [
              0.5555555555555556,
              "#d8576b"
             ],
             [
              0.6666666666666666,
              "#ed7953"
             ],
             [
              0.7777777777777778,
              "#fb9f3a"
             ],
             [
              0.8888888888888888,
              "#fdca26"
             ],
             [
              1,
              "#f0f921"
             ]
            ],
            "type": "histogram2d"
           }
          ],
          "histogram2dcontour": [
           {
            "colorbar": {
             "outlinewidth": 0,
             "ticks": ""
            },
            "colorscale": [
             [
              0,
              "#0d0887"
             ],
             [
              0.1111111111111111,
              "#46039f"
             ],
             [
              0.2222222222222222,
              "#7201a8"
             ],
             [
              0.3333333333333333,
              "#9c179e"
             ],
             [
              0.4444444444444444,
              "#bd3786"
             ],
             [
              0.5555555555555556,
              "#d8576b"
             ],
             [
              0.6666666666666666,
              "#ed7953"
             ],
             [
              0.7777777777777778,
              "#fb9f3a"
             ],
             [
              0.8888888888888888,
              "#fdca26"
             ],
             [
              1,
              "#f0f921"
             ]
            ],
            "type": "histogram2dcontour"
           }
          ],
          "mesh3d": [
           {
            "colorbar": {
             "outlinewidth": 0,
             "ticks": ""
            },
            "type": "mesh3d"
           }
          ],
          "parcoords": [
           {
            "line": {
             "colorbar": {
              "outlinewidth": 0,
              "ticks": ""
             }
            },
            "type": "parcoords"
           }
          ],
          "pie": [
           {
            "automargin": true,
            "type": "pie"
           }
          ],
          "scatter": [
           {
            "fillpattern": {
             "fillmode": "overlay",
             "size": 10,
             "solidity": 0.2
            },
            "type": "scatter"
           }
          ],
          "scatter3d": [
           {
            "line": {
             "colorbar": {
              "outlinewidth": 0,
              "ticks": ""
             }
            },
            "marker": {
             "colorbar": {
              "outlinewidth": 0,
              "ticks": ""
             }
            },
            "type": "scatter3d"
           }
          ],
          "scattercarpet": [
           {
            "marker": {
             "colorbar": {
              "outlinewidth": 0,
              "ticks": ""
             }
            },
            "type": "scattercarpet"
           }
          ],
          "scattergeo": [
           {
            "marker": {
             "colorbar": {
              "outlinewidth": 0,
              "ticks": ""
             }
            },
            "type": "scattergeo"
           }
          ],
          "scattergl": [
           {
            "marker": {
             "colorbar": {
              "outlinewidth": 0,
              "ticks": ""
             }
            },
            "type": "scattergl"
           }
          ],
          "scattermapbox": [
           {
            "marker": {
             "colorbar": {
              "outlinewidth": 0,
              "ticks": ""
             }
            },
            "type": "scattermapbox"
           }
          ],
          "scatterpolar": [
           {
            "marker": {
             "colorbar": {
              "outlinewidth": 0,
              "ticks": ""
             }
            },
            "type": "scatterpolar"
           }
          ],
          "scatterpolargl": [
           {
            "marker": {
             "colorbar": {
              "outlinewidth": 0,
              "ticks": ""
             }
            },
            "type": "scatterpolargl"
           }
          ],
          "scatterternary": [
           {
            "marker": {
             "colorbar": {
              "outlinewidth": 0,
              "ticks": ""
             }
            },
            "type": "scatterternary"
           }
          ],
          "surface": [
           {
            "colorbar": {
             "outlinewidth": 0,
             "ticks": ""
            },
            "colorscale": [
             [
              0,
              "#0d0887"
             ],
             [
              0.1111111111111111,
              "#46039f"
             ],
             [
              0.2222222222222222,
              "#7201a8"
             ],
             [
              0.3333333333333333,
              "#9c179e"
             ],
             [
              0.4444444444444444,
              "#bd3786"
             ],
             [
              0.5555555555555556,
              "#d8576b"
             ],
             [
              0.6666666666666666,
              "#ed7953"
             ],
             [
              0.7777777777777778,
              "#fb9f3a"
             ],
             [
              0.8888888888888888,
              "#fdca26"
             ],
             [
              1,
              "#f0f921"
             ]
            ],
            "type": "surface"
           }
          ],
          "table": [
           {
            "cells": {
             "fill": {
              "color": "#EBF0F8"
             },
             "line": {
              "color": "white"
             }
            },
            "header": {
             "fill": {
              "color": "#C8D4E3"
             },
             "line": {
              "color": "white"
             }
            },
            "type": "table"
           }
          ]
         },
         "layout": {
          "annotationdefaults": {
           "arrowcolor": "#2a3f5f",
           "arrowhead": 0,
           "arrowwidth": 1
          },
          "autotypenumbers": "strict",
          "coloraxis": {
           "colorbar": {
            "outlinewidth": 0,
            "ticks": ""
           }
          },
          "colorscale": {
           "diverging": [
            [
             0,
             "#8e0152"
            ],
            [
             0.1,
             "#c51b7d"
            ],
            [
             0.2,
             "#de77ae"
            ],
            [
             0.3,
             "#f1b6da"
            ],
            [
             0.4,
             "#fde0ef"
            ],
            [
             0.5,
             "#f7f7f7"
            ],
            [
             0.6,
             "#e6f5d0"
            ],
            [
             0.7,
             "#b8e186"
            ],
            [
             0.8,
             "#7fbc41"
            ],
            [
             0.9,
             "#4d9221"
            ],
            [
             1,
             "#276419"
            ]
           ],
           "sequential": [
            [
             0,
             "#0d0887"
            ],
            [
             0.1111111111111111,
             "#46039f"
            ],
            [
             0.2222222222222222,
             "#7201a8"
            ],
            [
             0.3333333333333333,
             "#9c179e"
            ],
            [
             0.4444444444444444,
             "#bd3786"
            ],
            [
             0.5555555555555556,
             "#d8576b"
            ],
            [
             0.6666666666666666,
             "#ed7953"
            ],
            [
             0.7777777777777778,
             "#fb9f3a"
            ],
            [
             0.8888888888888888,
             "#fdca26"
            ],
            [
             1,
             "#f0f921"
            ]
           ],
           "sequentialminus": [
            [
             0,
             "#0d0887"
            ],
            [
             0.1111111111111111,
             "#46039f"
            ],
            [
             0.2222222222222222,
             "#7201a8"
            ],
            [
             0.3333333333333333,
             "#9c179e"
            ],
            [
             0.4444444444444444,
             "#bd3786"
            ],
            [
             0.5555555555555556,
             "#d8576b"
            ],
            [
             0.6666666666666666,
             "#ed7953"
            ],
            [
             0.7777777777777778,
             "#fb9f3a"
            ],
            [
             0.8888888888888888,
             "#fdca26"
            ],
            [
             1,
             "#f0f921"
            ]
           ]
          },
          "colorway": [
           "#636efa",
           "#EF553B",
           "#00cc96",
           "#ab63fa",
           "#FFA15A",
           "#19d3f3",
           "#FF6692",
           "#B6E880",
           "#FF97FF",
           "#FECB52"
          ],
          "font": {
           "color": "#2a3f5f"
          },
          "geo": {
           "bgcolor": "white",
           "lakecolor": "white",
           "landcolor": "#E5ECF6",
           "showlakes": true,
           "showland": true,
           "subunitcolor": "white"
          },
          "hoverlabel": {
           "align": "left"
          },
          "hovermode": "closest",
          "mapbox": {
           "style": "light"
          },
          "paper_bgcolor": "white",
          "plot_bgcolor": "#E5ECF6",
          "polar": {
           "angularaxis": {
            "gridcolor": "white",
            "linecolor": "white",
            "ticks": ""
           },
           "bgcolor": "#E5ECF6",
           "radialaxis": {
            "gridcolor": "white",
            "linecolor": "white",
            "ticks": ""
           }
          },
          "scene": {
           "xaxis": {
            "backgroundcolor": "#E5ECF6",
            "gridcolor": "white",
            "gridwidth": 2,
            "linecolor": "white",
            "showbackground": true,
            "ticks": "",
            "zerolinecolor": "white"
           },
           "yaxis": {
            "backgroundcolor": "#E5ECF6",
            "gridcolor": "white",
            "gridwidth": 2,
            "linecolor": "white",
            "showbackground": true,
            "ticks": "",
            "zerolinecolor": "white"
           },
           "zaxis": {
            "backgroundcolor": "#E5ECF6",
            "gridcolor": "white",
            "gridwidth": 2,
            "linecolor": "white",
            "showbackground": true,
            "ticks": "",
            "zerolinecolor": "white"
           }
          },
          "shapedefaults": {
           "line": {
            "color": "#2a3f5f"
           }
          },
          "ternary": {
           "aaxis": {
            "gridcolor": "white",
            "linecolor": "white",
            "ticks": ""
           },
           "baxis": {
            "gridcolor": "white",
            "linecolor": "white",
            "ticks": ""
           },
           "bgcolor": "#E5ECF6",
           "caxis": {
            "gridcolor": "white",
            "linecolor": "white",
            "ticks": ""
           }
          },
          "title": {
           "x": 0.05
          },
          "xaxis": {
           "automargin": true,
           "gridcolor": "white",
           "linecolor": "white",
           "ticks": "",
           "title": {
            "standoff": 15
           },
           "zerolinecolor": "white",
           "zerolinewidth": 2
          },
          "yaxis": {
           "automargin": true,
           "gridcolor": "white",
           "linecolor": "white",
           "ticks": "",
           "title": {
            "standoff": 15
           },
           "zerolinecolor": "white",
           "zerolinewidth": 2
          }
         }
        },
        "title": {
         "text": "Hospital Length of Stay Distribution (Seed410_thr0.77_perc0.2)"
        },
        "xaxis": {
         "anchor": "y",
         "domain": [
          0,
          1
         ],
         "title": {
          "text": "hospital_length_of_stay"
         }
        },
        "xaxis2": {
         "anchor": "y2",
         "domain": [
          0,
          1
         ],
         "matches": "x",
         "showgrid": true,
         "showticklabels": false
        },
        "yaxis": {
         "anchor": "x",
         "domain": [
          0,
          0.8316
         ],
         "title": {
          "text": "density"
         }
        },
        "yaxis2": {
         "anchor": "x2",
         "domain": [
          0.8416,
          1
         ],
         "matches": "y2",
         "showgrid": false,
         "showline": false,
         "showticklabels": false,
         "ticks": ""
        }
       }
      },
      "text/html": [
       "<div>                            <div id=\"464eeffd-6623-4d31-9b8e-87415c6dfd71\" class=\"plotly-graph-div\" style=\"height:525px; width:100%;\"></div>            <script type=\"text/javascript\">                require([\"plotly\"], function(Plotly) {                    window.PLOTLYENV=window.PLOTLYENV || {};                                    if (document.getElementById(\"464eeffd-6623-4d31-9b8e-87415c6dfd71\")) {                    Plotly.newPlot(                        \"464eeffd-6623-4d31-9b8e-87415c6dfd71\",                        [{\"alignmentgroup\":\"True\",\"bingroup\":\"x\",\"histnorm\":\"density\",\"hovertemplate\":\"hospital_length_of_stay=%{x}<br>density=%{y}<extra></extra>\",\"legendgroup\":\"\",\"marker\":{\"color\":\"#636efa\",\"pattern\":{\"shape\":\"\"},\"line\":{\"color\":\"black\",\"width\":1}},\"name\":\"\",\"nbinsx\":10,\"offsetgroup\":\"\",\"orientation\":\"v\",\"showlegend\":false,\"x\":[18.0,10.0,6.0,15.0,8.0,3.0,6.0,12.0,4.0,12.0,18.0,15.0,9.0,5.0,10.0,13.0,1.0,8.0,9.0,2.0,3.0,7.0,5.0,12.0,12.0,8.0,21.0,3.0,3.0,10.0,10.0,18.0,16.0,4.0,5.0,5.0,17.0,9.0,8.0,10.0,8.0,3.0,13.0,2.0,7.0,1.0,20.0,11.0,14.0,9.0,11.0,15.0,10.0,9.0,6.0,9.0,21.0,3.0,4.0,5.0,8.0,10.0,19.0,16.0,8.0,3.0,6.0,7.0,6.0,19.0,21.0,3.0,5.0,22.0,10.0,5.0,16.0,8.0,6.0,2.0,10.0,8.0,10.0,6.0,11.0,8.0,28.5,28.5,28.5,28.5,28.5,32.5,29.5,32.5,32.5,29.5,25.0,30.5,30.5,25.0,30.5,30.5,46.5,46.5,46.5,30.5,26.0,26.0,28.0,26.0,28.0,31.5,31.5,31.5,31.5,31.5,29.0,41.0,29.0,29.0,41.0,33.0,37.0,37.0,37.0,37.0,25.5,25.0,25.5,25.5,25.0,25.0,25.0,25.0,25.5,25.0,32.0,32.0,32.0,32.0,32.0,34.0,33.5,33.5,33.5,34.0,25.5,25.5,25.5,25.5,25.5,27.67343107284978,31.09499951731414,28.5,35.18118715751916,28.5,31.5,31.5,31.5,31.5,31.5,33.0,29.0,33.0,29.0,29.0,26.5,26.5,26.5,26.5,36.0,26.5,28.0,28.0,26.5,28.0,29.0,36.0,36.0,29.0,36.0,31.5,31.0,31.0,31.5,31.0,55.0,32.0,55.0,55.0,32.0,35.5,35.5,33.0,35.5,35.5,33.5,36.0,36.0,33.5,36.0,31.0,31.0,29.0,31.0,31.0,35.0,35.0,28.5,28.5,28.5,35.0,52.0,35.0,35.0,52.0,30.0,31.0,31.0,30.0,30.0,33.5,33.5,33.5,33.5,33.5,35.0,37.5,35.0,37.5,35.0,29.0,45.0,45.0,45.0,29.0,37.0,37.0,37.0,41.0,41.0,42.5,34.5,42.5,42.5,42.5,33.5,31.5,31.5,33.5,31.5,36.0,36.0,36.0,36.0,36.0,36.5,36.0,36.5,36.0,36.0,43.5,43.5,37.5,43.5,37.5,36.5,32.5,36.5,32.5,36.5,29.5,38.0,29.5,38.0,38.0,38.5,38.5,38.5,38.5,38.5,37.5,37.5,44.0,37.5,37.5,33.87984300171956,34.1334333284758,28.54169031977654,32.85097518959083,34.14629080938175,39.5,35.0,39.5,39.5,35.0,40.0,40.0,40.0,40.0,40.0,30.5,53.0,53.0,53.0,53.0,36.0,39.0,39.0,36.0,39.0,36.0,36.0,39.0,36.0,39.0,38.5,31.5,38.5,38.5,38.5,38.5,31.5,31.5,31.5,38.5,38.5,38.5,38.5,38.5,38.5,31.5,31.5,31.5,31.5,31.5,33.0,35.0,33.0,33.0,35.0,39.0,39.0,39.0,39.0,39.0,38.0,41.5,38.0,38.0,41.5,33.0,33.0,33.0,45.0,33.0,37.5,37.5,33.5,33.5,37.5,61.5,41.5,41.5,61.5,61.5,41.5,41.5,38.5,41.5,38.5,41.5,34.0,41.5,34.0,34.0,62.0,62.0,62.0,42.5,42.5,40.0,38.0,38.0,40.0,38.0,52.0,52.0,38.5,52.0,52.0,36.0,34.0,36.0,36.0,36.0,37.0,37.0,37.0,37.0,37.0,39.5,44.0,39.5,44.0,44.0,47.5,47.5,67.0,47.5,67.0,58.0,58.0,41.0,41.0,41.0,48.0,41.5,48.0,41.5,41.5,41.5,58.0,41.5,41.5,58.0,52.0,50.5,50.5,52.0,50.5,53.0,53.0,53.0,46.5,53.0,53.0,53.0,56.0,53.0,56.0,62.0,62.0,62.0,62.0,61.5,24.0,24.0,24.0,24.0,24.0,25.0,25.0,25.0,25.0,25.0,25.0,26.0,26.0,26.0,27.0,27.0,28.0,28.0,28.0,29.0,29.0,29.0,30.0,30.0,31.0,32.0,32.0,33.0,33.0,33.0,33.0,33.0,34.0,34.0,34.0,34.0,34.0,35.0,35.0,36.0,36.0,37.0,37.0,37.0,38.0,38.0,38.0,38.0,39.0,39.0,39.0,40.0,41.0,41.0,42.0,42.0,42.0,42.0,43.0,43.0,44.0,44.0,49.0,52.0,53.0,57.0,58.0,59.0,60.0,69.0,72.0,81.0],\"xaxis\":\"x\",\"yaxis\":\"y\",\"type\":\"histogram\"},{\"alignmentgroup\":\"True\",\"hovertemplate\":\"hospital_length_of_stay=%{x}<extra></extra>\",\"legendgroup\":\"\",\"marker\":{\"color\":\"#636efa\",\"line\":{\"color\":\"black\",\"width\":1}},\"name\":\"\",\"notched\":true,\"offsetgroup\":\"\",\"showlegend\":false,\"x\":[18.0,10.0,6.0,15.0,8.0,3.0,6.0,12.0,4.0,12.0,18.0,15.0,9.0,5.0,10.0,13.0,1.0,8.0,9.0,2.0,3.0,7.0,5.0,12.0,12.0,8.0,21.0,3.0,3.0,10.0,10.0,18.0,16.0,4.0,5.0,5.0,17.0,9.0,8.0,10.0,8.0,3.0,13.0,2.0,7.0,1.0,20.0,11.0,14.0,9.0,11.0,15.0,10.0,9.0,6.0,9.0,21.0,3.0,4.0,5.0,8.0,10.0,19.0,16.0,8.0,3.0,6.0,7.0,6.0,19.0,21.0,3.0,5.0,22.0,10.0,5.0,16.0,8.0,6.0,2.0,10.0,8.0,10.0,6.0,11.0,8.0,28.5,28.5,28.5,28.5,28.5,32.5,29.5,32.5,32.5,29.5,25.0,30.5,30.5,25.0,30.5,30.5,46.5,46.5,46.5,30.5,26.0,26.0,28.0,26.0,28.0,31.5,31.5,31.5,31.5,31.5,29.0,41.0,29.0,29.0,41.0,33.0,37.0,37.0,37.0,37.0,25.5,25.0,25.5,25.5,25.0,25.0,25.0,25.0,25.5,25.0,32.0,32.0,32.0,32.0,32.0,34.0,33.5,33.5,33.5,34.0,25.5,25.5,25.5,25.5,25.5,27.67343107284978,31.09499951731414,28.5,35.18118715751916,28.5,31.5,31.5,31.5,31.5,31.5,33.0,29.0,33.0,29.0,29.0,26.5,26.5,26.5,26.5,36.0,26.5,28.0,28.0,26.5,28.0,29.0,36.0,36.0,29.0,36.0,31.5,31.0,31.0,31.5,31.0,55.0,32.0,55.0,55.0,32.0,35.5,35.5,33.0,35.5,35.5,33.5,36.0,36.0,33.5,36.0,31.0,31.0,29.0,31.0,31.0,35.0,35.0,28.5,28.5,28.5,35.0,52.0,35.0,35.0,52.0,30.0,31.0,31.0,30.0,30.0,33.5,33.5,33.5,33.5,33.5,35.0,37.5,35.0,37.5,35.0,29.0,45.0,45.0,45.0,29.0,37.0,37.0,37.0,41.0,41.0,42.5,34.5,42.5,42.5,42.5,33.5,31.5,31.5,33.5,31.5,36.0,36.0,36.0,36.0,36.0,36.5,36.0,36.5,36.0,36.0,43.5,43.5,37.5,43.5,37.5,36.5,32.5,36.5,32.5,36.5,29.5,38.0,29.5,38.0,38.0,38.5,38.5,38.5,38.5,38.5,37.5,37.5,44.0,37.5,37.5,33.87984300171956,34.1334333284758,28.54169031977654,32.85097518959083,34.14629080938175,39.5,35.0,39.5,39.5,35.0,40.0,40.0,40.0,40.0,40.0,30.5,53.0,53.0,53.0,53.0,36.0,39.0,39.0,36.0,39.0,36.0,36.0,39.0,36.0,39.0,38.5,31.5,38.5,38.5,38.5,38.5,31.5,31.5,31.5,38.5,38.5,38.5,38.5,38.5,38.5,31.5,31.5,31.5,31.5,31.5,33.0,35.0,33.0,33.0,35.0,39.0,39.0,39.0,39.0,39.0,38.0,41.5,38.0,38.0,41.5,33.0,33.0,33.0,45.0,33.0,37.5,37.5,33.5,33.5,37.5,61.5,41.5,41.5,61.5,61.5,41.5,41.5,38.5,41.5,38.5,41.5,34.0,41.5,34.0,34.0,62.0,62.0,62.0,42.5,42.5,40.0,38.0,38.0,40.0,38.0,52.0,52.0,38.5,52.0,52.0,36.0,34.0,36.0,36.0,36.0,37.0,37.0,37.0,37.0,37.0,39.5,44.0,39.5,44.0,44.0,47.5,47.5,67.0,47.5,67.0,58.0,58.0,41.0,41.0,41.0,48.0,41.5,48.0,41.5,41.5,41.5,58.0,41.5,41.5,58.0,52.0,50.5,50.5,52.0,50.5,53.0,53.0,53.0,46.5,53.0,53.0,53.0,56.0,53.0,56.0,62.0,62.0,62.0,62.0,61.5,24.0,24.0,24.0,24.0,24.0,25.0,25.0,25.0,25.0,25.0,25.0,26.0,26.0,26.0,27.0,27.0,28.0,28.0,28.0,29.0,29.0,29.0,30.0,30.0,31.0,32.0,32.0,33.0,33.0,33.0,33.0,33.0,34.0,34.0,34.0,34.0,34.0,35.0,35.0,36.0,36.0,37.0,37.0,37.0,38.0,38.0,38.0,38.0,39.0,39.0,39.0,40.0,41.0,41.0,42.0,42.0,42.0,42.0,43.0,43.0,44.0,44.0,49.0,52.0,53.0,57.0,58.0,59.0,60.0,69.0,72.0,81.0],\"xaxis\":\"x2\",\"yaxis\":\"y2\",\"type\":\"box\"}],                        {\"template\":{\"data\":{\"histogram2dcontour\":[{\"type\":\"histogram2dcontour\",\"colorbar\":{\"outlinewidth\":0,\"ticks\":\"\"},\"colorscale\":[[0.0,\"#0d0887\"],[0.1111111111111111,\"#46039f\"],[0.2222222222222222,\"#7201a8\"],[0.3333333333333333,\"#9c179e\"],[0.4444444444444444,\"#bd3786\"],[0.5555555555555556,\"#d8576b\"],[0.6666666666666666,\"#ed7953\"],[0.7777777777777778,\"#fb9f3a\"],[0.8888888888888888,\"#fdca26\"],[1.0,\"#f0f921\"]]}],\"choropleth\":[{\"type\":\"choropleth\",\"colorbar\":{\"outlinewidth\":0,\"ticks\":\"\"}}],\"histogram2d\":[{\"type\":\"histogram2d\",\"colorbar\":{\"outlinewidth\":0,\"ticks\":\"\"},\"colorscale\":[[0.0,\"#0d0887\"],[0.1111111111111111,\"#46039f\"],[0.2222222222222222,\"#7201a8\"],[0.3333333333333333,\"#9c179e\"],[0.4444444444444444,\"#bd3786\"],[0.5555555555555556,\"#d8576b\"],[0.6666666666666666,\"#ed7953\"],[0.7777777777777778,\"#fb9f3a\"],[0.8888888888888888,\"#fdca26\"],[1.0,\"#f0f921\"]]}],\"heatmap\":[{\"type\":\"heatmap\",\"colorbar\":{\"outlinewidth\":0,\"ticks\":\"\"},\"colorscale\":[[0.0,\"#0d0887\"],[0.1111111111111111,\"#46039f\"],[0.2222222222222222,\"#7201a8\"],[0.3333333333333333,\"#9c179e\"],[0.4444444444444444,\"#bd3786\"],[0.5555555555555556,\"#d8576b\"],[0.6666666666666666,\"#ed7953\"],[0.7777777777777778,\"#fb9f3a\"],[0.8888888888888888,\"#fdca26\"],[1.0,\"#f0f921\"]]}],\"heatmapgl\":[{\"type\":\"heatmapgl\",\"colorbar\":{\"outlinewidth\":0,\"ticks\":\"\"},\"colorscale\":[[0.0,\"#0d0887\"],[0.1111111111111111,\"#46039f\"],[0.2222222222222222,\"#7201a8\"],[0.3333333333333333,\"#9c179e\"],[0.4444444444444444,\"#bd3786\"],[0.5555555555555556,\"#d8576b\"],[0.6666666666666666,\"#ed7953\"],[0.7777777777777778,\"#fb9f3a\"],[0.8888888888888888,\"#fdca26\"],[1.0,\"#f0f921\"]]}],\"contourcarpet\":[{\"type\":\"contourcarpet\",\"colorbar\":{\"outlinewidth\":0,\"ticks\":\"\"}}],\"contour\":[{\"type\":\"contour\",\"colorbar\":{\"outlinewidth\":0,\"ticks\":\"\"},\"colorscale\":[[0.0,\"#0d0887\"],[0.1111111111111111,\"#46039f\"],[0.2222222222222222,\"#7201a8\"],[0.3333333333333333,\"#9c179e\"],[0.4444444444444444,\"#bd3786\"],[0.5555555555555556,\"#d8576b\"],[0.6666666666666666,\"#ed7953\"],[0.7777777777777778,\"#fb9f3a\"],[0.8888888888888888,\"#fdca26\"],[1.0,\"#f0f921\"]]}],\"surface\":[{\"type\":\"surface\",\"colorbar\":{\"outlinewidth\":0,\"ticks\":\"\"},\"colorscale\":[[0.0,\"#0d0887\"],[0.1111111111111111,\"#46039f\"],[0.2222222222222222,\"#7201a8\"],[0.3333333333333333,\"#9c179e\"],[0.4444444444444444,\"#bd3786\"],[0.5555555555555556,\"#d8576b\"],[0.6666666666666666,\"#ed7953\"],[0.7777777777777778,\"#fb9f3a\"],[0.8888888888888888,\"#fdca26\"],[1.0,\"#f0f921\"]]}],\"mesh3d\":[{\"type\":\"mesh3d\",\"colorbar\":{\"outlinewidth\":0,\"ticks\":\"\"}}],\"scatter\":[{\"fillpattern\":{\"fillmode\":\"overlay\",\"size\":10,\"solidity\":0.2},\"type\":\"scatter\"}],\"parcoords\":[{\"type\":\"parcoords\",\"line\":{\"colorbar\":{\"outlinewidth\":0,\"ticks\":\"\"}}}],\"scatterpolargl\":[{\"type\":\"scatterpolargl\",\"marker\":{\"colorbar\":{\"outlinewidth\":0,\"ticks\":\"\"}}}],\"bar\":[{\"error_x\":{\"color\":\"#2a3f5f\"},\"error_y\":{\"color\":\"#2a3f5f\"},\"marker\":{\"line\":{\"color\":\"#E5ECF6\",\"width\":0.5},\"pattern\":{\"fillmode\":\"overlay\",\"size\":10,\"solidity\":0.2}},\"type\":\"bar\"}],\"scattergeo\":[{\"type\":\"scattergeo\",\"marker\":{\"colorbar\":{\"outlinewidth\":0,\"ticks\":\"\"}}}],\"scatterpolar\":[{\"type\":\"scatterpolar\",\"marker\":{\"colorbar\":{\"outlinewidth\":0,\"ticks\":\"\"}}}],\"histogram\":[{\"marker\":{\"pattern\":{\"fillmode\":\"overlay\",\"size\":10,\"solidity\":0.2}},\"type\":\"histogram\"}],\"scattergl\":[{\"type\":\"scattergl\",\"marker\":{\"colorbar\":{\"outlinewidth\":0,\"ticks\":\"\"}}}],\"scatter3d\":[{\"type\":\"scatter3d\",\"line\":{\"colorbar\":{\"outlinewidth\":0,\"ticks\":\"\"}},\"marker\":{\"colorbar\":{\"outlinewidth\":0,\"ticks\":\"\"}}}],\"scattermapbox\":[{\"type\":\"scattermapbox\",\"marker\":{\"colorbar\":{\"outlinewidth\":0,\"ticks\":\"\"}}}],\"scatterternary\":[{\"type\":\"scatterternary\",\"marker\":{\"colorbar\":{\"outlinewidth\":0,\"ticks\":\"\"}}}],\"scattercarpet\":[{\"type\":\"scattercarpet\",\"marker\":{\"colorbar\":{\"outlinewidth\":0,\"ticks\":\"\"}}}],\"carpet\":[{\"aaxis\":{\"endlinecolor\":\"#2a3f5f\",\"gridcolor\":\"white\",\"linecolor\":\"white\",\"minorgridcolor\":\"white\",\"startlinecolor\":\"#2a3f5f\"},\"baxis\":{\"endlinecolor\":\"#2a3f5f\",\"gridcolor\":\"white\",\"linecolor\":\"white\",\"minorgridcolor\":\"white\",\"startlinecolor\":\"#2a3f5f\"},\"type\":\"carpet\"}],\"table\":[{\"cells\":{\"fill\":{\"color\":\"#EBF0F8\"},\"line\":{\"color\":\"white\"}},\"header\":{\"fill\":{\"color\":\"#C8D4E3\"},\"line\":{\"color\":\"white\"}},\"type\":\"table\"}],\"barpolar\":[{\"marker\":{\"line\":{\"color\":\"#E5ECF6\",\"width\":0.5},\"pattern\":{\"fillmode\":\"overlay\",\"size\":10,\"solidity\":0.2}},\"type\":\"barpolar\"}],\"pie\":[{\"automargin\":true,\"type\":\"pie\"}]},\"layout\":{\"autotypenumbers\":\"strict\",\"colorway\":[\"#636efa\",\"#EF553B\",\"#00cc96\",\"#ab63fa\",\"#FFA15A\",\"#19d3f3\",\"#FF6692\",\"#B6E880\",\"#FF97FF\",\"#FECB52\"],\"font\":{\"color\":\"#2a3f5f\"},\"hovermode\":\"closest\",\"hoverlabel\":{\"align\":\"left\"},\"paper_bgcolor\":\"white\",\"plot_bgcolor\":\"#E5ECF6\",\"polar\":{\"bgcolor\":\"#E5ECF6\",\"angularaxis\":{\"gridcolor\":\"white\",\"linecolor\":\"white\",\"ticks\":\"\"},\"radialaxis\":{\"gridcolor\":\"white\",\"linecolor\":\"white\",\"ticks\":\"\"}},\"ternary\":{\"bgcolor\":\"#E5ECF6\",\"aaxis\":{\"gridcolor\":\"white\",\"linecolor\":\"white\",\"ticks\":\"\"},\"baxis\":{\"gridcolor\":\"white\",\"linecolor\":\"white\",\"ticks\":\"\"},\"caxis\":{\"gridcolor\":\"white\",\"linecolor\":\"white\",\"ticks\":\"\"}},\"coloraxis\":{\"colorbar\":{\"outlinewidth\":0,\"ticks\":\"\"}},\"colorscale\":{\"sequential\":[[0.0,\"#0d0887\"],[0.1111111111111111,\"#46039f\"],[0.2222222222222222,\"#7201a8\"],[0.3333333333333333,\"#9c179e\"],[0.4444444444444444,\"#bd3786\"],[0.5555555555555556,\"#d8576b\"],[0.6666666666666666,\"#ed7953\"],[0.7777777777777778,\"#fb9f3a\"],[0.8888888888888888,\"#fdca26\"],[1.0,\"#f0f921\"]],\"sequentialminus\":[[0.0,\"#0d0887\"],[0.1111111111111111,\"#46039f\"],[0.2222222222222222,\"#7201a8\"],[0.3333333333333333,\"#9c179e\"],[0.4444444444444444,\"#bd3786\"],[0.5555555555555556,\"#d8576b\"],[0.6666666666666666,\"#ed7953\"],[0.7777777777777778,\"#fb9f3a\"],[0.8888888888888888,\"#fdca26\"],[1.0,\"#f0f921\"]],\"diverging\":[[0,\"#8e0152\"],[0.1,\"#c51b7d\"],[0.2,\"#de77ae\"],[0.3,\"#f1b6da\"],[0.4,\"#fde0ef\"],[0.5,\"#f7f7f7\"],[0.6,\"#e6f5d0\"],[0.7,\"#b8e186\"],[0.8,\"#7fbc41\"],[0.9,\"#4d9221\"],[1,\"#276419\"]]},\"xaxis\":{\"gridcolor\":\"white\",\"linecolor\":\"white\",\"ticks\":\"\",\"title\":{\"standoff\":15},\"zerolinecolor\":\"white\",\"automargin\":true,\"zerolinewidth\":2},\"yaxis\":{\"gridcolor\":\"white\",\"linecolor\":\"white\",\"ticks\":\"\",\"title\":{\"standoff\":15},\"zerolinecolor\":\"white\",\"automargin\":true,\"zerolinewidth\":2},\"scene\":{\"xaxis\":{\"backgroundcolor\":\"#E5ECF6\",\"gridcolor\":\"white\",\"linecolor\":\"white\",\"showbackground\":true,\"ticks\":\"\",\"zerolinecolor\":\"white\",\"gridwidth\":2},\"yaxis\":{\"backgroundcolor\":\"#E5ECF6\",\"gridcolor\":\"white\",\"linecolor\":\"white\",\"showbackground\":true,\"ticks\":\"\",\"zerolinecolor\":\"white\",\"gridwidth\":2},\"zaxis\":{\"backgroundcolor\":\"#E5ECF6\",\"gridcolor\":\"white\",\"linecolor\":\"white\",\"showbackground\":true,\"ticks\":\"\",\"zerolinecolor\":\"white\",\"gridwidth\":2}},\"shapedefaults\":{\"line\":{\"color\":\"#2a3f5f\"}},\"annotationdefaults\":{\"arrowcolor\":\"#2a3f5f\",\"arrowhead\":0,\"arrowwidth\":1},\"geo\":{\"bgcolor\":\"white\",\"landcolor\":\"#E5ECF6\",\"subunitcolor\":\"white\",\"showland\":true,\"showlakes\":true,\"lakecolor\":\"white\"},\"title\":{\"x\":0.05},\"mapbox\":{\"style\":\"light\"}}},\"xaxis\":{\"anchor\":\"y\",\"domain\":[0.0,1.0],\"title\":{\"text\":\"hospital_length_of_stay\"}},\"yaxis\":{\"anchor\":\"x\",\"domain\":[0.0,0.8316],\"title\":{\"text\":\"density\"}},\"xaxis2\":{\"anchor\":\"y2\",\"domain\":[0.0,1.0],\"matches\":\"x\",\"showticklabels\":false,\"showgrid\":true},\"yaxis2\":{\"anchor\":\"x2\",\"domain\":[0.8416,1.0],\"matches\":\"y2\",\"showticklabels\":false,\"showline\":false,\"ticks\":\"\",\"showgrid\":false},\"legend\":{\"tracegroupgap\":0},\"title\":{\"text\":\"Hospital Length of Stay Distribution (Seed410_thr0.77_perc0.2)\"},\"barmode\":\"relative\"},                        {\"responsive\": true}                    ).then(function(){\n",
       "                            \n",
       "var gd = document.getElementById('464eeffd-6623-4d31-9b8e-87415c6dfd71');\n",
       "var x = new MutationObserver(function (mutations, observer) {{\n",
       "        var display = window.getComputedStyle(gd).display;\n",
       "        if (!display || display === 'none') {{\n",
       "            console.log([gd, 'removed!']);\n",
       "            Plotly.purge(gd);\n",
       "            observer.disconnect();\n",
       "        }}\n",
       "}});\n",
       "\n",
       "// Listen for the removal of the full notebook cells\n",
       "var notebookContainer = gd.closest('#notebook-container');\n",
       "if (notebookContainer) {{\n",
       "    x.observe(notebookContainer, {childList: true});\n",
       "}}\n",
       "\n",
       "// Listen for the clearing of the current output cell\n",
       "var outputEl = gd.closest('.output');\n",
       "if (outputEl) {{\n",
       "    x.observe(outputEl, {childList: true});\n",
       "}}\n",
       "\n",
       "                        })                };                });            </script>        </div>"
      ]
     },
     "metadata": {},
     "output_type": "display_data"
    },
    {
     "data": {
      "application/vnd.plotly.v1+json": {
       "config": {
        "plotlyServerURL": "https://plot.ly"
       },
       "data": [
        {
         "alignmentgroup": "True",
         "bingroup": "x",
         "histnorm": "density",
         "hovertemplate": "hospital_length_of_stay=%{x}<br>density=%{y}<extra></extra>",
         "legendgroup": "",
         "marker": {
          "color": "#636efa",
          "line": {
           "color": "black",
           "width": 1
          },
          "pattern": {
           "shape": ""
          }
         },
         "name": "",
         "nbinsx": 10,
         "offsetgroup": "",
         "orientation": "v",
         "showlegend": false,
         "type": "histogram",
         "x": [
          9,
          5,
          2,
          9,
          16,
          6,
          7,
          19,
          8,
          6,
          4,
          18,
          3,
          12,
          7,
          23,
          8,
          4,
          6,
          7,
          9,
          11,
          3,
          8,
          3,
          13,
          8,
          5,
          11,
          1,
          5,
          13,
          4,
          7,
          6,
          8,
          11,
          2,
          3,
          10,
          7,
          4,
          3,
          14,
          3,
          9,
          17,
          6,
          6,
          15,
          9,
          5,
          13,
          3,
          13,
          7,
          3,
          2,
          6,
          7,
          11,
          3,
          7,
          5,
          10,
          10,
          10,
          6,
          5,
          3,
          3,
          10,
          3,
          10,
          10,
          3,
          3,
          6,
          13,
          15,
          11,
          8,
          20,
          4,
          5,
          2,
          28.5,
          28.5,
          40.5,
          40.5,
          28.5,
          32.5,
          32.5,
          29.5,
          29.5,
          29.5,
          25,
          25,
          30.5,
          25,
          25,
          46.5,
          46.5,
          30.5,
          46.5,
          30.5,
          26,
          28,
          26,
          28,
          26,
          31.5,
          31.5,
          31.5,
          31.5,
          31.5,
          29,
          29,
          41,
          41,
          29,
          33,
          37,
          37,
          33,
          33,
          25.5,
          25.5,
          25.5,
          25.5,
          25,
          25.5,
          25,
          25,
          25,
          25.5,
          32,
          32,
          32,
          28,
          32,
          34,
          34,
          33.5,
          33.5,
          33.5,
          25.5,
          25.5,
          25.5,
          25.5,
          25.5,
          26.7470925222151,
          28.5,
          34.93942152848467,
          29.01935421302915,
          35.52220367500558,
          39.5,
          39.5,
          31.5,
          39.5,
          39.5,
          29,
          29,
          29,
          33,
          29,
          36,
          36,
          26.5,
          36,
          26.5,
          26.5,
          26.5,
          26.5,
          28,
          28,
          29,
          36,
          36,
          36,
          36,
          31,
          31.5,
          31,
          31,
          31,
          55,
          32,
          55,
          32,
          55,
          33,
          35.5,
          35.5,
          33,
          35.5,
          33.5,
          36,
          33.5,
          36,
          33.5,
          29,
          29,
          29,
          29,
          31,
          35,
          35,
          28.5,
          28.5,
          35,
          52,
          52,
          52,
          52,
          52,
          31,
          31,
          31,
          31,
          30,
          33.5,
          33.5,
          33.5,
          33.5,
          33.5,
          37.5,
          37.5,
          37.5,
          35,
          35,
          45,
          45,
          29,
          45,
          45,
          37,
          37,
          41,
          41,
          41,
          34.5,
          34.5,
          34.5,
          34.5,
          42.5,
          31.5,
          31.5,
          31.5,
          31.5,
          31.5,
          36,
          36,
          36,
          36,
          36,
          36,
          36,
          36,
          36,
          36,
          37.5,
          43.5,
          43.5,
          37.5,
          43.5,
          36.5,
          32.5,
          36.5,
          36.5,
          32.5,
          38,
          29.5,
          29.5,
          29.5,
          38,
          38.5,
          38.5,
          38.5,
          38.5,
          38.5,
          37.5,
          37.5,
          37.5,
          37.5,
          44,
          28.78672617161646,
          32.85094860382378,
          33.49859962612391,
          34.00532568129711,
          31.58643984608352,
          35,
          35,
          35,
          39.5,
          39.5,
          40,
          40,
          40,
          33,
          33,
          53,
          30.5,
          53,
          30.5,
          53,
          36,
          36,
          39,
          39,
          39,
          39,
          39,
          39,
          36,
          39,
          38.5,
          31.5,
          38.5,
          31.5,
          31.5,
          31.5,
          38.5,
          31.5,
          38.5,
          31.5,
          38.5,
          38.5,
          38.5,
          38.5,
          38.5,
          37.5,
          31.5,
          37.5,
          37.5,
          31.5,
          33,
          33,
          35,
          35,
          35,
          39,
          39,
          39,
          39,
          39,
          41.5,
          41.5,
          41.5,
          41.5,
          41.5,
          33,
          33,
          33,
          33,
          33,
          33.5,
          37.5,
          33.5,
          33.5,
          37.5,
          41.5,
          41.5,
          41.5,
          61.5,
          41.5,
          41.5,
          38.5,
          38.5,
          38.5,
          38.5,
          41.5,
          41.5,
          34,
          34,
          34,
          62,
          62,
          42.5,
          42.5,
          42.5,
          40,
          40,
          38,
          40,
          40,
          52,
          38.5,
          52,
          52,
          52,
          34,
          36,
          34,
          36,
          34,
          37,
          37,
          45,
          37,
          45,
          39.5,
          39.5,
          44,
          39.5,
          44,
          47.5,
          67,
          67,
          47.5,
          47.5,
          41,
          58,
          58,
          41,
          41,
          41.5,
          41.5,
          41.5,
          48,
          48,
          58,
          58,
          58,
          41.5,
          58,
          50.5,
          52,
          52,
          50.5,
          50.5,
          53,
          53,
          53,
          53,
          53,
          56,
          56,
          56,
          56,
          53,
          61.5,
          62,
          61.5,
          62,
          62,
          24,
          24,
          24,
          24,
          24,
          25,
          25,
          25,
          25,
          25,
          25,
          26,
          26,
          26,
          27,
          27,
          28,
          28,
          28,
          29,
          29,
          29,
          30,
          30,
          31,
          32,
          32,
          33,
          33,
          33,
          33,
          33,
          34,
          34,
          34,
          34,
          34,
          35,
          35,
          36,
          36,
          37,
          37,
          37,
          38,
          38,
          38,
          38,
          39,
          39,
          39,
          40,
          41,
          41,
          42,
          42,
          42,
          42,
          43,
          43,
          44,
          44,
          49,
          52,
          53,
          57,
          58,
          59,
          60,
          69,
          72,
          81
         ],
         "xaxis": "x",
         "yaxis": "y"
        },
        {
         "alignmentgroup": "True",
         "hovertemplate": "hospital_length_of_stay=%{x}<extra></extra>",
         "legendgroup": "",
         "marker": {
          "color": "#636efa",
          "line": {
           "color": "black",
           "width": 1
          }
         },
         "name": "",
         "notched": true,
         "offsetgroup": "",
         "showlegend": false,
         "type": "box",
         "x": [
          9,
          5,
          2,
          9,
          16,
          6,
          7,
          19,
          8,
          6,
          4,
          18,
          3,
          12,
          7,
          23,
          8,
          4,
          6,
          7,
          9,
          11,
          3,
          8,
          3,
          13,
          8,
          5,
          11,
          1,
          5,
          13,
          4,
          7,
          6,
          8,
          11,
          2,
          3,
          10,
          7,
          4,
          3,
          14,
          3,
          9,
          17,
          6,
          6,
          15,
          9,
          5,
          13,
          3,
          13,
          7,
          3,
          2,
          6,
          7,
          11,
          3,
          7,
          5,
          10,
          10,
          10,
          6,
          5,
          3,
          3,
          10,
          3,
          10,
          10,
          3,
          3,
          6,
          13,
          15,
          11,
          8,
          20,
          4,
          5,
          2,
          28.5,
          28.5,
          40.5,
          40.5,
          28.5,
          32.5,
          32.5,
          29.5,
          29.5,
          29.5,
          25,
          25,
          30.5,
          25,
          25,
          46.5,
          46.5,
          30.5,
          46.5,
          30.5,
          26,
          28,
          26,
          28,
          26,
          31.5,
          31.5,
          31.5,
          31.5,
          31.5,
          29,
          29,
          41,
          41,
          29,
          33,
          37,
          37,
          33,
          33,
          25.5,
          25.5,
          25.5,
          25.5,
          25,
          25.5,
          25,
          25,
          25,
          25.5,
          32,
          32,
          32,
          28,
          32,
          34,
          34,
          33.5,
          33.5,
          33.5,
          25.5,
          25.5,
          25.5,
          25.5,
          25.5,
          26.7470925222151,
          28.5,
          34.93942152848467,
          29.01935421302915,
          35.52220367500558,
          39.5,
          39.5,
          31.5,
          39.5,
          39.5,
          29,
          29,
          29,
          33,
          29,
          36,
          36,
          26.5,
          36,
          26.5,
          26.5,
          26.5,
          26.5,
          28,
          28,
          29,
          36,
          36,
          36,
          36,
          31,
          31.5,
          31,
          31,
          31,
          55,
          32,
          55,
          32,
          55,
          33,
          35.5,
          35.5,
          33,
          35.5,
          33.5,
          36,
          33.5,
          36,
          33.5,
          29,
          29,
          29,
          29,
          31,
          35,
          35,
          28.5,
          28.5,
          35,
          52,
          52,
          52,
          52,
          52,
          31,
          31,
          31,
          31,
          30,
          33.5,
          33.5,
          33.5,
          33.5,
          33.5,
          37.5,
          37.5,
          37.5,
          35,
          35,
          45,
          45,
          29,
          45,
          45,
          37,
          37,
          41,
          41,
          41,
          34.5,
          34.5,
          34.5,
          34.5,
          42.5,
          31.5,
          31.5,
          31.5,
          31.5,
          31.5,
          36,
          36,
          36,
          36,
          36,
          36,
          36,
          36,
          36,
          36,
          37.5,
          43.5,
          43.5,
          37.5,
          43.5,
          36.5,
          32.5,
          36.5,
          36.5,
          32.5,
          38,
          29.5,
          29.5,
          29.5,
          38,
          38.5,
          38.5,
          38.5,
          38.5,
          38.5,
          37.5,
          37.5,
          37.5,
          37.5,
          44,
          28.78672617161646,
          32.85094860382378,
          33.49859962612391,
          34.00532568129711,
          31.58643984608352,
          35,
          35,
          35,
          39.5,
          39.5,
          40,
          40,
          40,
          33,
          33,
          53,
          30.5,
          53,
          30.5,
          53,
          36,
          36,
          39,
          39,
          39,
          39,
          39,
          39,
          36,
          39,
          38.5,
          31.5,
          38.5,
          31.5,
          31.5,
          31.5,
          38.5,
          31.5,
          38.5,
          31.5,
          38.5,
          38.5,
          38.5,
          38.5,
          38.5,
          37.5,
          31.5,
          37.5,
          37.5,
          31.5,
          33,
          33,
          35,
          35,
          35,
          39,
          39,
          39,
          39,
          39,
          41.5,
          41.5,
          41.5,
          41.5,
          41.5,
          33,
          33,
          33,
          33,
          33,
          33.5,
          37.5,
          33.5,
          33.5,
          37.5,
          41.5,
          41.5,
          41.5,
          61.5,
          41.5,
          41.5,
          38.5,
          38.5,
          38.5,
          38.5,
          41.5,
          41.5,
          34,
          34,
          34,
          62,
          62,
          42.5,
          42.5,
          42.5,
          40,
          40,
          38,
          40,
          40,
          52,
          38.5,
          52,
          52,
          52,
          34,
          36,
          34,
          36,
          34,
          37,
          37,
          45,
          37,
          45,
          39.5,
          39.5,
          44,
          39.5,
          44,
          47.5,
          67,
          67,
          47.5,
          47.5,
          41,
          58,
          58,
          41,
          41,
          41.5,
          41.5,
          41.5,
          48,
          48,
          58,
          58,
          58,
          41.5,
          58,
          50.5,
          52,
          52,
          50.5,
          50.5,
          53,
          53,
          53,
          53,
          53,
          56,
          56,
          56,
          56,
          53,
          61.5,
          62,
          61.5,
          62,
          62,
          24,
          24,
          24,
          24,
          24,
          25,
          25,
          25,
          25,
          25,
          25,
          26,
          26,
          26,
          27,
          27,
          28,
          28,
          28,
          29,
          29,
          29,
          30,
          30,
          31,
          32,
          32,
          33,
          33,
          33,
          33,
          33,
          34,
          34,
          34,
          34,
          34,
          35,
          35,
          36,
          36,
          37,
          37,
          37,
          38,
          38,
          38,
          38,
          39,
          39,
          39,
          40,
          41,
          41,
          42,
          42,
          42,
          42,
          43,
          43,
          44,
          44,
          49,
          52,
          53,
          57,
          58,
          59,
          60,
          69,
          72,
          81
         ],
         "xaxis": "x2",
         "yaxis": "y2"
        }
       ],
       "layout": {
        "barmode": "relative",
        "legend": {
         "tracegroupgap": 0
        },
        "template": {
         "data": {
          "bar": [
           {
            "error_x": {
             "color": "#2a3f5f"
            },
            "error_y": {
             "color": "#2a3f5f"
            },
            "marker": {
             "line": {
              "color": "#E5ECF6",
              "width": 0.5
             },
             "pattern": {
              "fillmode": "overlay",
              "size": 10,
              "solidity": 0.2
             }
            },
            "type": "bar"
           }
          ],
          "barpolar": [
           {
            "marker": {
             "line": {
              "color": "#E5ECF6",
              "width": 0.5
             },
             "pattern": {
              "fillmode": "overlay",
              "size": 10,
              "solidity": 0.2
             }
            },
            "type": "barpolar"
           }
          ],
          "carpet": [
           {
            "aaxis": {
             "endlinecolor": "#2a3f5f",
             "gridcolor": "white",
             "linecolor": "white",
             "minorgridcolor": "white",
             "startlinecolor": "#2a3f5f"
            },
            "baxis": {
             "endlinecolor": "#2a3f5f",
             "gridcolor": "white",
             "linecolor": "white",
             "minorgridcolor": "white",
             "startlinecolor": "#2a3f5f"
            },
            "type": "carpet"
           }
          ],
          "choropleth": [
           {
            "colorbar": {
             "outlinewidth": 0,
             "ticks": ""
            },
            "type": "choropleth"
           }
          ],
          "contour": [
           {
            "colorbar": {
             "outlinewidth": 0,
             "ticks": ""
            },
            "colorscale": [
             [
              0,
              "#0d0887"
             ],
             [
              0.1111111111111111,
              "#46039f"
             ],
             [
              0.2222222222222222,
              "#7201a8"
             ],
             [
              0.3333333333333333,
              "#9c179e"
             ],
             [
              0.4444444444444444,
              "#bd3786"
             ],
             [
              0.5555555555555556,
              "#d8576b"
             ],
             [
              0.6666666666666666,
              "#ed7953"
             ],
             [
              0.7777777777777778,
              "#fb9f3a"
             ],
             [
              0.8888888888888888,
              "#fdca26"
             ],
             [
              1,
              "#f0f921"
             ]
            ],
            "type": "contour"
           }
          ],
          "contourcarpet": [
           {
            "colorbar": {
             "outlinewidth": 0,
             "ticks": ""
            },
            "type": "contourcarpet"
           }
          ],
          "heatmap": [
           {
            "colorbar": {
             "outlinewidth": 0,
             "ticks": ""
            },
            "colorscale": [
             [
              0,
              "#0d0887"
             ],
             [
              0.1111111111111111,
              "#46039f"
             ],
             [
              0.2222222222222222,
              "#7201a8"
             ],
             [
              0.3333333333333333,
              "#9c179e"
             ],
             [
              0.4444444444444444,
              "#bd3786"
             ],
             [
              0.5555555555555556,
              "#d8576b"
             ],
             [
              0.6666666666666666,
              "#ed7953"
             ],
             [
              0.7777777777777778,
              "#fb9f3a"
             ],
             [
              0.8888888888888888,
              "#fdca26"
             ],
             [
              1,
              "#f0f921"
             ]
            ],
            "type": "heatmap"
           }
          ],
          "heatmapgl": [
           {
            "colorbar": {
             "outlinewidth": 0,
             "ticks": ""
            },
            "colorscale": [
             [
              0,
              "#0d0887"
             ],
             [
              0.1111111111111111,
              "#46039f"
             ],
             [
              0.2222222222222222,
              "#7201a8"
             ],
             [
              0.3333333333333333,
              "#9c179e"
             ],
             [
              0.4444444444444444,
              "#bd3786"
             ],
             [
              0.5555555555555556,
              "#d8576b"
             ],
             [
              0.6666666666666666,
              "#ed7953"
             ],
             [
              0.7777777777777778,
              "#fb9f3a"
             ],
             [
              0.8888888888888888,
              "#fdca26"
             ],
             [
              1,
              "#f0f921"
             ]
            ],
            "type": "heatmapgl"
           }
          ],
          "histogram": [
           {
            "marker": {
             "pattern": {
              "fillmode": "overlay",
              "size": 10,
              "solidity": 0.2
             }
            },
            "type": "histogram"
           }
          ],
          "histogram2d": [
           {
            "colorbar": {
             "outlinewidth": 0,
             "ticks": ""
            },
            "colorscale": [
             [
              0,
              "#0d0887"
             ],
             [
              0.1111111111111111,
              "#46039f"
             ],
             [
              0.2222222222222222,
              "#7201a8"
             ],
             [
              0.3333333333333333,
              "#9c179e"
             ],
             [
              0.4444444444444444,
              "#bd3786"
             ],
             [
              0.5555555555555556,
              "#d8576b"
             ],
             [
              0.6666666666666666,
              "#ed7953"
             ],
             [
              0.7777777777777778,
              "#fb9f3a"
             ],
             [
              0.8888888888888888,
              "#fdca26"
             ],
             [
              1,
              "#f0f921"
             ]
            ],
            "type": "histogram2d"
           }
          ],
          "histogram2dcontour": [
           {
            "colorbar": {
             "outlinewidth": 0,
             "ticks": ""
            },
            "colorscale": [
             [
              0,
              "#0d0887"
             ],
             [
              0.1111111111111111,
              "#46039f"
             ],
             [
              0.2222222222222222,
              "#7201a8"
             ],
             [
              0.3333333333333333,
              "#9c179e"
             ],
             [
              0.4444444444444444,
              "#bd3786"
             ],
             [
              0.5555555555555556,
              "#d8576b"
             ],
             [
              0.6666666666666666,
              "#ed7953"
             ],
             [
              0.7777777777777778,
              "#fb9f3a"
             ],
             [
              0.8888888888888888,
              "#fdca26"
             ],
             [
              1,
              "#f0f921"
             ]
            ],
            "type": "histogram2dcontour"
           }
          ],
          "mesh3d": [
           {
            "colorbar": {
             "outlinewidth": 0,
             "ticks": ""
            },
            "type": "mesh3d"
           }
          ],
          "parcoords": [
           {
            "line": {
             "colorbar": {
              "outlinewidth": 0,
              "ticks": ""
             }
            },
            "type": "parcoords"
           }
          ],
          "pie": [
           {
            "automargin": true,
            "type": "pie"
           }
          ],
          "scatter": [
           {
            "fillpattern": {
             "fillmode": "overlay",
             "size": 10,
             "solidity": 0.2
            },
            "type": "scatter"
           }
          ],
          "scatter3d": [
           {
            "line": {
             "colorbar": {
              "outlinewidth": 0,
              "ticks": ""
             }
            },
            "marker": {
             "colorbar": {
              "outlinewidth": 0,
              "ticks": ""
             }
            },
            "type": "scatter3d"
           }
          ],
          "scattercarpet": [
           {
            "marker": {
             "colorbar": {
              "outlinewidth": 0,
              "ticks": ""
             }
            },
            "type": "scattercarpet"
           }
          ],
          "scattergeo": [
           {
            "marker": {
             "colorbar": {
              "outlinewidth": 0,
              "ticks": ""
             }
            },
            "type": "scattergeo"
           }
          ],
          "scattergl": [
           {
            "marker": {
             "colorbar": {
              "outlinewidth": 0,
              "ticks": ""
             }
            },
            "type": "scattergl"
           }
          ],
          "scattermapbox": [
           {
            "marker": {
             "colorbar": {
              "outlinewidth": 0,
              "ticks": ""
             }
            },
            "type": "scattermapbox"
           }
          ],
          "scatterpolar": [
           {
            "marker": {
             "colorbar": {
              "outlinewidth": 0,
              "ticks": ""
             }
            },
            "type": "scatterpolar"
           }
          ],
          "scatterpolargl": [
           {
            "marker": {
             "colorbar": {
              "outlinewidth": 0,
              "ticks": ""
             }
            },
            "type": "scatterpolargl"
           }
          ],
          "scatterternary": [
           {
            "marker": {
             "colorbar": {
              "outlinewidth": 0,
              "ticks": ""
             }
            },
            "type": "scatterternary"
           }
          ],
          "surface": [
           {
            "colorbar": {
             "outlinewidth": 0,
             "ticks": ""
            },
            "colorscale": [
             [
              0,
              "#0d0887"
             ],
             [
              0.1111111111111111,
              "#46039f"
             ],
             [
              0.2222222222222222,
              "#7201a8"
             ],
             [
              0.3333333333333333,
              "#9c179e"
             ],
             [
              0.4444444444444444,
              "#bd3786"
             ],
             [
              0.5555555555555556,
              "#d8576b"
             ],
             [
              0.6666666666666666,
              "#ed7953"
             ],
             [
              0.7777777777777778,
              "#fb9f3a"
             ],
             [
              0.8888888888888888,
              "#fdca26"
             ],
             [
              1,
              "#f0f921"
             ]
            ],
            "type": "surface"
           }
          ],
          "table": [
           {
            "cells": {
             "fill": {
              "color": "#EBF0F8"
             },
             "line": {
              "color": "white"
             }
            },
            "header": {
             "fill": {
              "color": "#C8D4E3"
             },
             "line": {
              "color": "white"
             }
            },
            "type": "table"
           }
          ]
         },
         "layout": {
          "annotationdefaults": {
           "arrowcolor": "#2a3f5f",
           "arrowhead": 0,
           "arrowwidth": 1
          },
          "autotypenumbers": "strict",
          "coloraxis": {
           "colorbar": {
            "outlinewidth": 0,
            "ticks": ""
           }
          },
          "colorscale": {
           "diverging": [
            [
             0,
             "#8e0152"
            ],
            [
             0.1,
             "#c51b7d"
            ],
            [
             0.2,
             "#de77ae"
            ],
            [
             0.3,
             "#f1b6da"
            ],
            [
             0.4,
             "#fde0ef"
            ],
            [
             0.5,
             "#f7f7f7"
            ],
            [
             0.6,
             "#e6f5d0"
            ],
            [
             0.7,
             "#b8e186"
            ],
            [
             0.8,
             "#7fbc41"
            ],
            [
             0.9,
             "#4d9221"
            ],
            [
             1,
             "#276419"
            ]
           ],
           "sequential": [
            [
             0,
             "#0d0887"
            ],
            [
             0.1111111111111111,
             "#46039f"
            ],
            [
             0.2222222222222222,
             "#7201a8"
            ],
            [
             0.3333333333333333,
             "#9c179e"
            ],
            [
             0.4444444444444444,
             "#bd3786"
            ],
            [
             0.5555555555555556,
             "#d8576b"
            ],
            [
             0.6666666666666666,
             "#ed7953"
            ],
            [
             0.7777777777777778,
             "#fb9f3a"
            ],
            [
             0.8888888888888888,
             "#fdca26"
            ],
            [
             1,
             "#f0f921"
            ]
           ],
           "sequentialminus": [
            [
             0,
             "#0d0887"
            ],
            [
             0.1111111111111111,
             "#46039f"
            ],
            [
             0.2222222222222222,
             "#7201a8"
            ],
            [
             0.3333333333333333,
             "#9c179e"
            ],
            [
             0.4444444444444444,
             "#bd3786"
            ],
            [
             0.5555555555555556,
             "#d8576b"
            ],
            [
             0.6666666666666666,
             "#ed7953"
            ],
            [
             0.7777777777777778,
             "#fb9f3a"
            ],
            [
             0.8888888888888888,
             "#fdca26"
            ],
            [
             1,
             "#f0f921"
            ]
           ]
          },
          "colorway": [
           "#636efa",
           "#EF553B",
           "#00cc96",
           "#ab63fa",
           "#FFA15A",
           "#19d3f3",
           "#FF6692",
           "#B6E880",
           "#FF97FF",
           "#FECB52"
          ],
          "font": {
           "color": "#2a3f5f"
          },
          "geo": {
           "bgcolor": "white",
           "lakecolor": "white",
           "landcolor": "#E5ECF6",
           "showlakes": true,
           "showland": true,
           "subunitcolor": "white"
          },
          "hoverlabel": {
           "align": "left"
          },
          "hovermode": "closest",
          "mapbox": {
           "style": "light"
          },
          "paper_bgcolor": "white",
          "plot_bgcolor": "#E5ECF6",
          "polar": {
           "angularaxis": {
            "gridcolor": "white",
            "linecolor": "white",
            "ticks": ""
           },
           "bgcolor": "#E5ECF6",
           "radialaxis": {
            "gridcolor": "white",
            "linecolor": "white",
            "ticks": ""
           }
          },
          "scene": {
           "xaxis": {
            "backgroundcolor": "#E5ECF6",
            "gridcolor": "white",
            "gridwidth": 2,
            "linecolor": "white",
            "showbackground": true,
            "ticks": "",
            "zerolinecolor": "white"
           },
           "yaxis": {
            "backgroundcolor": "#E5ECF6",
            "gridcolor": "white",
            "gridwidth": 2,
            "linecolor": "white",
            "showbackground": true,
            "ticks": "",
            "zerolinecolor": "white"
           },
           "zaxis": {
            "backgroundcolor": "#E5ECF6",
            "gridcolor": "white",
            "gridwidth": 2,
            "linecolor": "white",
            "showbackground": true,
            "ticks": "",
            "zerolinecolor": "white"
           }
          },
          "shapedefaults": {
           "line": {
            "color": "#2a3f5f"
           }
          },
          "ternary": {
           "aaxis": {
            "gridcolor": "white",
            "linecolor": "white",
            "ticks": ""
           },
           "baxis": {
            "gridcolor": "white",
            "linecolor": "white",
            "ticks": ""
           },
           "bgcolor": "#E5ECF6",
           "caxis": {
            "gridcolor": "white",
            "linecolor": "white",
            "ticks": ""
           }
          },
          "title": {
           "x": 0.05
          },
          "xaxis": {
           "automargin": true,
           "gridcolor": "white",
           "linecolor": "white",
           "ticks": "",
           "title": {
            "standoff": 15
           },
           "zerolinecolor": "white",
           "zerolinewidth": 2
          },
          "yaxis": {
           "automargin": true,
           "gridcolor": "white",
           "linecolor": "white",
           "ticks": "",
           "title": {
            "standoff": 15
           },
           "zerolinecolor": "white",
           "zerolinewidth": 2
          }
         }
        },
        "title": {
         "text": "Hospital Length of Stay Distribution (Seed527_thr0.77_perc0.2)"
        },
        "xaxis": {
         "anchor": "y",
         "domain": [
          0,
          1
         ],
         "title": {
          "text": "hospital_length_of_stay"
         }
        },
        "xaxis2": {
         "anchor": "y2",
         "domain": [
          0,
          1
         ],
         "matches": "x",
         "showgrid": true,
         "showticklabels": false
        },
        "yaxis": {
         "anchor": "x",
         "domain": [
          0,
          0.8316
         ],
         "title": {
          "text": "density"
         }
        },
        "yaxis2": {
         "anchor": "x2",
         "domain": [
          0.8416,
          1
         ],
         "matches": "y2",
         "showgrid": false,
         "showline": false,
         "showticklabels": false,
         "ticks": ""
        }
       }
      },
      "text/html": [
       "<div>                            <div id=\"a382cf08-fb07-45bd-9bea-75ef917ef29e\" class=\"plotly-graph-div\" style=\"height:525px; width:100%;\"></div>            <script type=\"text/javascript\">                require([\"plotly\"], function(Plotly) {                    window.PLOTLYENV=window.PLOTLYENV || {};                                    if (document.getElementById(\"a382cf08-fb07-45bd-9bea-75ef917ef29e\")) {                    Plotly.newPlot(                        \"a382cf08-fb07-45bd-9bea-75ef917ef29e\",                        [{\"alignmentgroup\":\"True\",\"bingroup\":\"x\",\"histnorm\":\"density\",\"hovertemplate\":\"hospital_length_of_stay=%{x}<br>density=%{y}<extra></extra>\",\"legendgroup\":\"\",\"marker\":{\"color\":\"#636efa\",\"pattern\":{\"shape\":\"\"},\"line\":{\"color\":\"black\",\"width\":1}},\"name\":\"\",\"nbinsx\":10,\"offsetgroup\":\"\",\"orientation\":\"v\",\"showlegend\":false,\"x\":[9.0,5.0,2.0,9.0,16.0,6.0,7.0,19.0,8.0,6.0,4.0,18.0,3.0,12.0,7.0,23.0,8.0,4.0,6.0,7.0,9.0,11.0,3.0,8.0,3.0,13.0,8.0,5.0,11.0,1.0,5.0,13.0,4.0,7.0,6.0,8.0,11.0,2.0,3.0,10.0,7.0,4.0,3.0,14.0,3.0,9.0,17.0,6.0,6.0,15.0,9.0,5.0,13.0,3.0,13.0,7.0,3.0,2.0,6.0,7.0,11.0,3.0,7.0,5.0,10.0,10.0,10.0,6.0,5.0,3.0,3.0,10.0,3.0,10.0,10.0,3.0,3.0,6.0,13.0,15.0,11.0,8.0,20.0,4.0,5.0,2.0,28.5,28.5,40.5,40.5,28.5,32.5,32.5,29.5,29.5,29.5,25.0,25.0,30.5,25.0,25.0,46.5,46.5,30.5,46.5,30.5,26.0,28.0,26.0,28.0,26.0,31.5,31.5,31.5,31.5,31.5,29.0,29.0,41.0,41.0,29.0,33.0,37.0,37.0,33.0,33.0,25.5,25.5,25.5,25.5,25.0,25.5,25.0,25.0,25.0,25.5,32.0,32.0,32.0,28.0,32.0,34.0,34.0,33.5,33.5,33.5,25.5,25.5,25.5,25.5,25.5,26.7470925222151,28.5,34.93942152848467,29.01935421302915,35.52220367500558,39.5,39.5,31.5,39.5,39.5,29.0,29.0,29.0,33.0,29.0,36.0,36.0,26.5,36.0,26.5,26.5,26.5,26.5,28.0,28.0,29.0,36.0,36.0,36.0,36.0,31.0,31.5,31.0,31.0,31.0,55.0,32.0,55.0,32.0,55.0,33.0,35.5,35.5,33.0,35.5,33.5,36.0,33.5,36.0,33.5,29.0,29.0,29.0,29.0,31.0,35.0,35.0,28.5,28.5,35.0,52.0,52.0,52.0,52.0,52.0,31.0,31.0,31.0,31.0,30.0,33.5,33.5,33.5,33.5,33.5,37.5,37.5,37.5,35.0,35.0,45.0,45.0,29.0,45.0,45.0,37.0,37.0,41.0,41.0,41.0,34.5,34.5,34.5,34.5,42.5,31.5,31.5,31.5,31.5,31.5,36.0,36.0,36.0,36.0,36.0,36.0,36.0,36.0,36.0,36.0,37.5,43.5,43.5,37.5,43.5,36.5,32.5,36.5,36.5,32.5,38.0,29.5,29.5,29.5,38.0,38.5,38.5,38.5,38.5,38.5,37.5,37.5,37.5,37.5,44.0,28.78672617161646,32.85094860382378,33.49859962612391,34.00532568129711,31.58643984608352,35.0,35.0,35.0,39.5,39.5,40.0,40.0,40.0,33.0,33.0,53.0,30.5,53.0,30.5,53.0,36.0,36.0,39.0,39.0,39.0,39.0,39.0,39.0,36.0,39.0,38.5,31.5,38.5,31.5,31.5,31.5,38.5,31.5,38.5,31.5,38.5,38.5,38.5,38.5,38.5,37.5,31.5,37.5,37.5,31.5,33.0,33.0,35.0,35.0,35.0,39.0,39.0,39.0,39.0,39.0,41.5,41.5,41.5,41.5,41.5,33.0,33.0,33.0,33.0,33.0,33.5,37.5,33.5,33.5,37.5,41.5,41.5,41.5,61.5,41.5,41.5,38.5,38.5,38.5,38.5,41.5,41.5,34.0,34.0,34.0,62.0,62.0,42.5,42.5,42.5,40.0,40.0,38.0,40.0,40.0,52.0,38.5,52.0,52.0,52.0,34.0,36.0,34.0,36.0,34.0,37.0,37.0,45.0,37.0,45.0,39.5,39.5,44.0,39.5,44.0,47.5,67.0,67.0,47.5,47.5,41.0,58.0,58.0,41.0,41.0,41.5,41.5,41.5,48.0,48.0,58.0,58.0,58.0,41.5,58.0,50.5,52.0,52.0,50.5,50.5,53.0,53.0,53.0,53.0,53.0,56.0,56.0,56.0,56.0,53.0,61.5,62.0,61.5,62.0,62.0,24.0,24.0,24.0,24.0,24.0,25.0,25.0,25.0,25.0,25.0,25.0,26.0,26.0,26.0,27.0,27.0,28.0,28.0,28.0,29.0,29.0,29.0,30.0,30.0,31.0,32.0,32.0,33.0,33.0,33.0,33.0,33.0,34.0,34.0,34.0,34.0,34.0,35.0,35.0,36.0,36.0,37.0,37.0,37.0,38.0,38.0,38.0,38.0,39.0,39.0,39.0,40.0,41.0,41.0,42.0,42.0,42.0,42.0,43.0,43.0,44.0,44.0,49.0,52.0,53.0,57.0,58.0,59.0,60.0,69.0,72.0,81.0],\"xaxis\":\"x\",\"yaxis\":\"y\",\"type\":\"histogram\"},{\"alignmentgroup\":\"True\",\"hovertemplate\":\"hospital_length_of_stay=%{x}<extra></extra>\",\"legendgroup\":\"\",\"marker\":{\"color\":\"#636efa\",\"line\":{\"color\":\"black\",\"width\":1}},\"name\":\"\",\"notched\":true,\"offsetgroup\":\"\",\"showlegend\":false,\"x\":[9.0,5.0,2.0,9.0,16.0,6.0,7.0,19.0,8.0,6.0,4.0,18.0,3.0,12.0,7.0,23.0,8.0,4.0,6.0,7.0,9.0,11.0,3.0,8.0,3.0,13.0,8.0,5.0,11.0,1.0,5.0,13.0,4.0,7.0,6.0,8.0,11.0,2.0,3.0,10.0,7.0,4.0,3.0,14.0,3.0,9.0,17.0,6.0,6.0,15.0,9.0,5.0,13.0,3.0,13.0,7.0,3.0,2.0,6.0,7.0,11.0,3.0,7.0,5.0,10.0,10.0,10.0,6.0,5.0,3.0,3.0,10.0,3.0,10.0,10.0,3.0,3.0,6.0,13.0,15.0,11.0,8.0,20.0,4.0,5.0,2.0,28.5,28.5,40.5,40.5,28.5,32.5,32.5,29.5,29.5,29.5,25.0,25.0,30.5,25.0,25.0,46.5,46.5,30.5,46.5,30.5,26.0,28.0,26.0,28.0,26.0,31.5,31.5,31.5,31.5,31.5,29.0,29.0,41.0,41.0,29.0,33.0,37.0,37.0,33.0,33.0,25.5,25.5,25.5,25.5,25.0,25.5,25.0,25.0,25.0,25.5,32.0,32.0,32.0,28.0,32.0,34.0,34.0,33.5,33.5,33.5,25.5,25.5,25.5,25.5,25.5,26.7470925222151,28.5,34.93942152848467,29.01935421302915,35.52220367500558,39.5,39.5,31.5,39.5,39.5,29.0,29.0,29.0,33.0,29.0,36.0,36.0,26.5,36.0,26.5,26.5,26.5,26.5,28.0,28.0,29.0,36.0,36.0,36.0,36.0,31.0,31.5,31.0,31.0,31.0,55.0,32.0,55.0,32.0,55.0,33.0,35.5,35.5,33.0,35.5,33.5,36.0,33.5,36.0,33.5,29.0,29.0,29.0,29.0,31.0,35.0,35.0,28.5,28.5,35.0,52.0,52.0,52.0,52.0,52.0,31.0,31.0,31.0,31.0,30.0,33.5,33.5,33.5,33.5,33.5,37.5,37.5,37.5,35.0,35.0,45.0,45.0,29.0,45.0,45.0,37.0,37.0,41.0,41.0,41.0,34.5,34.5,34.5,34.5,42.5,31.5,31.5,31.5,31.5,31.5,36.0,36.0,36.0,36.0,36.0,36.0,36.0,36.0,36.0,36.0,37.5,43.5,43.5,37.5,43.5,36.5,32.5,36.5,36.5,32.5,38.0,29.5,29.5,29.5,38.0,38.5,38.5,38.5,38.5,38.5,37.5,37.5,37.5,37.5,44.0,28.78672617161646,32.85094860382378,33.49859962612391,34.00532568129711,31.58643984608352,35.0,35.0,35.0,39.5,39.5,40.0,40.0,40.0,33.0,33.0,53.0,30.5,53.0,30.5,53.0,36.0,36.0,39.0,39.0,39.0,39.0,39.0,39.0,36.0,39.0,38.5,31.5,38.5,31.5,31.5,31.5,38.5,31.5,38.5,31.5,38.5,38.5,38.5,38.5,38.5,37.5,31.5,37.5,37.5,31.5,33.0,33.0,35.0,35.0,35.0,39.0,39.0,39.0,39.0,39.0,41.5,41.5,41.5,41.5,41.5,33.0,33.0,33.0,33.0,33.0,33.5,37.5,33.5,33.5,37.5,41.5,41.5,41.5,61.5,41.5,41.5,38.5,38.5,38.5,38.5,41.5,41.5,34.0,34.0,34.0,62.0,62.0,42.5,42.5,42.5,40.0,40.0,38.0,40.0,40.0,52.0,38.5,52.0,52.0,52.0,34.0,36.0,34.0,36.0,34.0,37.0,37.0,45.0,37.0,45.0,39.5,39.5,44.0,39.5,44.0,47.5,67.0,67.0,47.5,47.5,41.0,58.0,58.0,41.0,41.0,41.5,41.5,41.5,48.0,48.0,58.0,58.0,58.0,41.5,58.0,50.5,52.0,52.0,50.5,50.5,53.0,53.0,53.0,53.0,53.0,56.0,56.0,56.0,56.0,53.0,61.5,62.0,61.5,62.0,62.0,24.0,24.0,24.0,24.0,24.0,25.0,25.0,25.0,25.0,25.0,25.0,26.0,26.0,26.0,27.0,27.0,28.0,28.0,28.0,29.0,29.0,29.0,30.0,30.0,31.0,32.0,32.0,33.0,33.0,33.0,33.0,33.0,34.0,34.0,34.0,34.0,34.0,35.0,35.0,36.0,36.0,37.0,37.0,37.0,38.0,38.0,38.0,38.0,39.0,39.0,39.0,40.0,41.0,41.0,42.0,42.0,42.0,42.0,43.0,43.0,44.0,44.0,49.0,52.0,53.0,57.0,58.0,59.0,60.0,69.0,72.0,81.0],\"xaxis\":\"x2\",\"yaxis\":\"y2\",\"type\":\"box\"}],                        {\"template\":{\"data\":{\"histogram2dcontour\":[{\"type\":\"histogram2dcontour\",\"colorbar\":{\"outlinewidth\":0,\"ticks\":\"\"},\"colorscale\":[[0.0,\"#0d0887\"],[0.1111111111111111,\"#46039f\"],[0.2222222222222222,\"#7201a8\"],[0.3333333333333333,\"#9c179e\"],[0.4444444444444444,\"#bd3786\"],[0.5555555555555556,\"#d8576b\"],[0.6666666666666666,\"#ed7953\"],[0.7777777777777778,\"#fb9f3a\"],[0.8888888888888888,\"#fdca26\"],[1.0,\"#f0f921\"]]}],\"choropleth\":[{\"type\":\"choropleth\",\"colorbar\":{\"outlinewidth\":0,\"ticks\":\"\"}}],\"histogram2d\":[{\"type\":\"histogram2d\",\"colorbar\":{\"outlinewidth\":0,\"ticks\":\"\"},\"colorscale\":[[0.0,\"#0d0887\"],[0.1111111111111111,\"#46039f\"],[0.2222222222222222,\"#7201a8\"],[0.3333333333333333,\"#9c179e\"],[0.4444444444444444,\"#bd3786\"],[0.5555555555555556,\"#d8576b\"],[0.6666666666666666,\"#ed7953\"],[0.7777777777777778,\"#fb9f3a\"],[0.8888888888888888,\"#fdca26\"],[1.0,\"#f0f921\"]]}],\"heatmap\":[{\"type\":\"heatmap\",\"colorbar\":{\"outlinewidth\":0,\"ticks\":\"\"},\"colorscale\":[[0.0,\"#0d0887\"],[0.1111111111111111,\"#46039f\"],[0.2222222222222222,\"#7201a8\"],[0.3333333333333333,\"#9c179e\"],[0.4444444444444444,\"#bd3786\"],[0.5555555555555556,\"#d8576b\"],[0.6666666666666666,\"#ed7953\"],[0.7777777777777778,\"#fb9f3a\"],[0.8888888888888888,\"#fdca26\"],[1.0,\"#f0f921\"]]}],\"heatmapgl\":[{\"type\":\"heatmapgl\",\"colorbar\":{\"outlinewidth\":0,\"ticks\":\"\"},\"colorscale\":[[0.0,\"#0d0887\"],[0.1111111111111111,\"#46039f\"],[0.2222222222222222,\"#7201a8\"],[0.3333333333333333,\"#9c179e\"],[0.4444444444444444,\"#bd3786\"],[0.5555555555555556,\"#d8576b\"],[0.6666666666666666,\"#ed7953\"],[0.7777777777777778,\"#fb9f3a\"],[0.8888888888888888,\"#fdca26\"],[1.0,\"#f0f921\"]]}],\"contourcarpet\":[{\"type\":\"contourcarpet\",\"colorbar\":{\"outlinewidth\":0,\"ticks\":\"\"}}],\"contour\":[{\"type\":\"contour\",\"colorbar\":{\"outlinewidth\":0,\"ticks\":\"\"},\"colorscale\":[[0.0,\"#0d0887\"],[0.1111111111111111,\"#46039f\"],[0.2222222222222222,\"#7201a8\"],[0.3333333333333333,\"#9c179e\"],[0.4444444444444444,\"#bd3786\"],[0.5555555555555556,\"#d8576b\"],[0.6666666666666666,\"#ed7953\"],[0.7777777777777778,\"#fb9f3a\"],[0.8888888888888888,\"#fdca26\"],[1.0,\"#f0f921\"]]}],\"surface\":[{\"type\":\"surface\",\"colorbar\":{\"outlinewidth\":0,\"ticks\":\"\"},\"colorscale\":[[0.0,\"#0d0887\"],[0.1111111111111111,\"#46039f\"],[0.2222222222222222,\"#7201a8\"],[0.3333333333333333,\"#9c179e\"],[0.4444444444444444,\"#bd3786\"],[0.5555555555555556,\"#d8576b\"],[0.6666666666666666,\"#ed7953\"],[0.7777777777777778,\"#fb9f3a\"],[0.8888888888888888,\"#fdca26\"],[1.0,\"#f0f921\"]]}],\"mesh3d\":[{\"type\":\"mesh3d\",\"colorbar\":{\"outlinewidth\":0,\"ticks\":\"\"}}],\"scatter\":[{\"fillpattern\":{\"fillmode\":\"overlay\",\"size\":10,\"solidity\":0.2},\"type\":\"scatter\"}],\"parcoords\":[{\"type\":\"parcoords\",\"line\":{\"colorbar\":{\"outlinewidth\":0,\"ticks\":\"\"}}}],\"scatterpolargl\":[{\"type\":\"scatterpolargl\",\"marker\":{\"colorbar\":{\"outlinewidth\":0,\"ticks\":\"\"}}}],\"bar\":[{\"error_x\":{\"color\":\"#2a3f5f\"},\"error_y\":{\"color\":\"#2a3f5f\"},\"marker\":{\"line\":{\"color\":\"#E5ECF6\",\"width\":0.5},\"pattern\":{\"fillmode\":\"overlay\",\"size\":10,\"solidity\":0.2}},\"type\":\"bar\"}],\"scattergeo\":[{\"type\":\"scattergeo\",\"marker\":{\"colorbar\":{\"outlinewidth\":0,\"ticks\":\"\"}}}],\"scatterpolar\":[{\"type\":\"scatterpolar\",\"marker\":{\"colorbar\":{\"outlinewidth\":0,\"ticks\":\"\"}}}],\"histogram\":[{\"marker\":{\"pattern\":{\"fillmode\":\"overlay\",\"size\":10,\"solidity\":0.2}},\"type\":\"histogram\"}],\"scattergl\":[{\"type\":\"scattergl\",\"marker\":{\"colorbar\":{\"outlinewidth\":0,\"ticks\":\"\"}}}],\"scatter3d\":[{\"type\":\"scatter3d\",\"line\":{\"colorbar\":{\"outlinewidth\":0,\"ticks\":\"\"}},\"marker\":{\"colorbar\":{\"outlinewidth\":0,\"ticks\":\"\"}}}],\"scattermapbox\":[{\"type\":\"scattermapbox\",\"marker\":{\"colorbar\":{\"outlinewidth\":0,\"ticks\":\"\"}}}],\"scatterternary\":[{\"type\":\"scatterternary\",\"marker\":{\"colorbar\":{\"outlinewidth\":0,\"ticks\":\"\"}}}],\"scattercarpet\":[{\"type\":\"scattercarpet\",\"marker\":{\"colorbar\":{\"outlinewidth\":0,\"ticks\":\"\"}}}],\"carpet\":[{\"aaxis\":{\"endlinecolor\":\"#2a3f5f\",\"gridcolor\":\"white\",\"linecolor\":\"white\",\"minorgridcolor\":\"white\",\"startlinecolor\":\"#2a3f5f\"},\"baxis\":{\"endlinecolor\":\"#2a3f5f\",\"gridcolor\":\"white\",\"linecolor\":\"white\",\"minorgridcolor\":\"white\",\"startlinecolor\":\"#2a3f5f\"},\"type\":\"carpet\"}],\"table\":[{\"cells\":{\"fill\":{\"color\":\"#EBF0F8\"},\"line\":{\"color\":\"white\"}},\"header\":{\"fill\":{\"color\":\"#C8D4E3\"},\"line\":{\"color\":\"white\"}},\"type\":\"table\"}],\"barpolar\":[{\"marker\":{\"line\":{\"color\":\"#E5ECF6\",\"width\":0.5},\"pattern\":{\"fillmode\":\"overlay\",\"size\":10,\"solidity\":0.2}},\"type\":\"barpolar\"}],\"pie\":[{\"automargin\":true,\"type\":\"pie\"}]},\"layout\":{\"autotypenumbers\":\"strict\",\"colorway\":[\"#636efa\",\"#EF553B\",\"#00cc96\",\"#ab63fa\",\"#FFA15A\",\"#19d3f3\",\"#FF6692\",\"#B6E880\",\"#FF97FF\",\"#FECB52\"],\"font\":{\"color\":\"#2a3f5f\"},\"hovermode\":\"closest\",\"hoverlabel\":{\"align\":\"left\"},\"paper_bgcolor\":\"white\",\"plot_bgcolor\":\"#E5ECF6\",\"polar\":{\"bgcolor\":\"#E5ECF6\",\"angularaxis\":{\"gridcolor\":\"white\",\"linecolor\":\"white\",\"ticks\":\"\"},\"radialaxis\":{\"gridcolor\":\"white\",\"linecolor\":\"white\",\"ticks\":\"\"}},\"ternary\":{\"bgcolor\":\"#E5ECF6\",\"aaxis\":{\"gridcolor\":\"white\",\"linecolor\":\"white\",\"ticks\":\"\"},\"baxis\":{\"gridcolor\":\"white\",\"linecolor\":\"white\",\"ticks\":\"\"},\"caxis\":{\"gridcolor\":\"white\",\"linecolor\":\"white\",\"ticks\":\"\"}},\"coloraxis\":{\"colorbar\":{\"outlinewidth\":0,\"ticks\":\"\"}},\"colorscale\":{\"sequential\":[[0.0,\"#0d0887\"],[0.1111111111111111,\"#46039f\"],[0.2222222222222222,\"#7201a8\"],[0.3333333333333333,\"#9c179e\"],[0.4444444444444444,\"#bd3786\"],[0.5555555555555556,\"#d8576b\"],[0.6666666666666666,\"#ed7953\"],[0.7777777777777778,\"#fb9f3a\"],[0.8888888888888888,\"#fdca26\"],[1.0,\"#f0f921\"]],\"sequentialminus\":[[0.0,\"#0d0887\"],[0.1111111111111111,\"#46039f\"],[0.2222222222222222,\"#7201a8\"],[0.3333333333333333,\"#9c179e\"],[0.4444444444444444,\"#bd3786\"],[0.5555555555555556,\"#d8576b\"],[0.6666666666666666,\"#ed7953\"],[0.7777777777777778,\"#fb9f3a\"],[0.8888888888888888,\"#fdca26\"],[1.0,\"#f0f921\"]],\"diverging\":[[0,\"#8e0152\"],[0.1,\"#c51b7d\"],[0.2,\"#de77ae\"],[0.3,\"#f1b6da\"],[0.4,\"#fde0ef\"],[0.5,\"#f7f7f7\"],[0.6,\"#e6f5d0\"],[0.7,\"#b8e186\"],[0.8,\"#7fbc41\"],[0.9,\"#4d9221\"],[1,\"#276419\"]]},\"xaxis\":{\"gridcolor\":\"white\",\"linecolor\":\"white\",\"ticks\":\"\",\"title\":{\"standoff\":15},\"zerolinecolor\":\"white\",\"automargin\":true,\"zerolinewidth\":2},\"yaxis\":{\"gridcolor\":\"white\",\"linecolor\":\"white\",\"ticks\":\"\",\"title\":{\"standoff\":15},\"zerolinecolor\":\"white\",\"automargin\":true,\"zerolinewidth\":2},\"scene\":{\"xaxis\":{\"backgroundcolor\":\"#E5ECF6\",\"gridcolor\":\"white\",\"linecolor\":\"white\",\"showbackground\":true,\"ticks\":\"\",\"zerolinecolor\":\"white\",\"gridwidth\":2},\"yaxis\":{\"backgroundcolor\":\"#E5ECF6\",\"gridcolor\":\"white\",\"linecolor\":\"white\",\"showbackground\":true,\"ticks\":\"\",\"zerolinecolor\":\"white\",\"gridwidth\":2},\"zaxis\":{\"backgroundcolor\":\"#E5ECF6\",\"gridcolor\":\"white\",\"linecolor\":\"white\",\"showbackground\":true,\"ticks\":\"\",\"zerolinecolor\":\"white\",\"gridwidth\":2}},\"shapedefaults\":{\"line\":{\"color\":\"#2a3f5f\"}},\"annotationdefaults\":{\"arrowcolor\":\"#2a3f5f\",\"arrowhead\":0,\"arrowwidth\":1},\"geo\":{\"bgcolor\":\"white\",\"landcolor\":\"#E5ECF6\",\"subunitcolor\":\"white\",\"showland\":true,\"showlakes\":true,\"lakecolor\":\"white\"},\"title\":{\"x\":0.05},\"mapbox\":{\"style\":\"light\"}}},\"xaxis\":{\"anchor\":\"y\",\"domain\":[0.0,1.0],\"title\":{\"text\":\"hospital_length_of_stay\"}},\"yaxis\":{\"anchor\":\"x\",\"domain\":[0.0,0.8316],\"title\":{\"text\":\"density\"}},\"xaxis2\":{\"anchor\":\"y2\",\"domain\":[0.0,1.0],\"matches\":\"x\",\"showticklabels\":false,\"showgrid\":true},\"yaxis2\":{\"anchor\":\"x2\",\"domain\":[0.8416,1.0],\"matches\":\"y2\",\"showticklabels\":false,\"showline\":false,\"ticks\":\"\",\"showgrid\":false},\"legend\":{\"tracegroupgap\":0},\"title\":{\"text\":\"Hospital Length of Stay Distribution (Seed527_thr0.77_perc0.2)\"},\"barmode\":\"relative\"},                        {\"responsive\": true}                    ).then(function(){\n",
       "                            \n",
       "var gd = document.getElementById('a382cf08-fb07-45bd-9bea-75ef917ef29e');\n",
       "var x = new MutationObserver(function (mutations, observer) {{\n",
       "        var display = window.getComputedStyle(gd).display;\n",
       "        if (!display || display === 'none') {{\n",
       "            console.log([gd, 'removed!']);\n",
       "            Plotly.purge(gd);\n",
       "            observer.disconnect();\n",
       "        }}\n",
       "}});\n",
       "\n",
       "// Listen for the removal of the full notebook cells\n",
       "var notebookContainer = gd.closest('#notebook-container');\n",
       "if (notebookContainer) {{\n",
       "    x.observe(notebookContainer, {childList: true});\n",
       "}}\n",
       "\n",
       "// Listen for the clearing of the current output cell\n",
       "var outputEl = gd.closest('.output');\n",
       "if (outputEl) {{\n",
       "    x.observe(outputEl, {childList: true});\n",
       "}}\n",
       "\n",
       "                        })                };                });            </script>        </div>"
      ]
     },
     "metadata": {},
     "output_type": "display_data"
    },
    {
     "data": {
      "application/vnd.plotly.v1+json": {
       "config": {
        "plotlyServerURL": "https://plot.ly"
       },
       "data": [
        {
         "alignmentgroup": "True",
         "bingroup": "x",
         "histnorm": "density",
         "hovertemplate": "hospital_length_of_stay=%{x}<br>density=%{y}<extra></extra>",
         "legendgroup": "",
         "marker": {
          "color": "#636efa",
          "line": {
           "color": "black",
           "width": 1
          },
          "pattern": {
           "shape": ""
          }
         },
         "name": "",
         "nbinsx": 10,
         "offsetgroup": "",
         "orientation": "v",
         "showlegend": false,
         "type": "histogram",
         "x": [
          5,
          9,
          2,
          6,
          9,
          2,
          15,
          6,
          9,
          9,
          6,
          6,
          4,
          7,
          4,
          9,
          13,
          13,
          5,
          5,
          10,
          5,
          1,
          6,
          20,
          3,
          1,
          7,
          4,
          7,
          3,
          3,
          21,
          3,
          3,
          19,
          6,
          1,
          12,
          8,
          12,
          12,
          13,
          12,
          11,
          22,
          10,
          8,
          5,
          5,
          22,
          8,
          16,
          2,
          15,
          3,
          4,
          4,
          11,
          4,
          19,
          3,
          7,
          2,
          11,
          2,
          5,
          8,
          5,
          8,
          4,
          4,
          8,
          5,
          6,
          4,
          7,
          7,
          8,
          16,
          3,
          12,
          12,
          3,
          8,
          6,
          40.5,
          40.5,
          28.5,
          40.5,
          40.5,
          32.5,
          32.5,
          29.5,
          29.5,
          32.5,
          25,
          25,
          30.5,
          30.5,
          25,
          46.5,
          30.5,
          46.5,
          30.5,
          30.5,
          28,
          26,
          26,
          26,
          26,
          31.5,
          31.5,
          31.5,
          31.5,
          31.5,
          29,
          41,
          41,
          29,
          29,
          33,
          33,
          33,
          33,
          37,
          25.5,
          25,
          25.5,
          25,
          25,
          25.5,
          25,
          25.5,
          25,
          25,
          32,
          28,
          28,
          32,
          32,
          34,
          33.5,
          33.5,
          34,
          34,
          25.5,
          25.5,
          25.5,
          25.5,
          25.5,
          28.5,
          28.26561020826921,
          28.5,
          31.24305799975991,
          27.57568657305092,
          39.5,
          39.5,
          39.5,
          31.5,
          31.5,
          33,
          29,
          33,
          33,
          33,
          36,
          36,
          26.5,
          26.5,
          26.5,
          26.5,
          28,
          28,
          28,
          26.5,
          36,
          36,
          36,
          36,
          29,
          31.5,
          31.5,
          31,
          31,
          31,
          55,
          55,
          32,
          32,
          32,
          33,
          35.5,
          35.5,
          35.5,
          33,
          33.5,
          36,
          33.5,
          36,
          33.5,
          31,
          31,
          29,
          29,
          29,
          28.5,
          28.5,
          35,
          28.5,
          35,
          52,
          52,
          52,
          52,
          35,
          31,
          31,
          30,
          30,
          31,
          33.5,
          33.5,
          33.5,
          33.5,
          33.5,
          35,
          35,
          35,
          35,
          35,
          29,
          29,
          45,
          29,
          29,
          41,
          41,
          41,
          37,
          37,
          34.5,
          42.5,
          34.5,
          42.5,
          42.5,
          31.5,
          31.5,
          31.5,
          33.5,
          33.5,
          36,
          36,
          36,
          36,
          36,
          36.5,
          36.5,
          36,
          36.5,
          36.5,
          43.5,
          43.5,
          43.5,
          43.5,
          43.5,
          36.5,
          36.5,
          32.5,
          32.5,
          36.5,
          38,
          38,
          38,
          29.5,
          29.5,
          38.5,
          38.5,
          38.5,
          38.5,
          38.5,
          44,
          37.5,
          37.5,
          37.5,
          37.5,
          31.63411657698452,
          35.29014524212107,
          33.83910960191861,
          34.77308814320713,
          32.46105297957547,
          39.5,
          35,
          35,
          39.5,
          35,
          40,
          33,
          40,
          33,
          40,
          30.5,
          53,
          30.5,
          53,
          30.5,
          39,
          36,
          36,
          36,
          36,
          39,
          36,
          39,
          39,
          39,
          31.5,
          31.5,
          38.5,
          38.5,
          38.5,
          31.5,
          31.5,
          31.5,
          38.5,
          31.5,
          38.5,
          38.5,
          38.5,
          38.5,
          38.5,
          31.5,
          31.5,
          37.5,
          31.5,
          37.5,
          33,
          33,
          35,
          33,
          33,
          39,
          39,
          39,
          39,
          39,
          38,
          38,
          38,
          38,
          38,
          45,
          45,
          45,
          33,
          33,
          37.5,
          33.5,
          33.5,
          33.5,
          37.5,
          61.5,
          61.5,
          61.5,
          61.5,
          41.5,
          41.5,
          41.5,
          38.5,
          38.5,
          38.5,
          34,
          41.5,
          41.5,
          41.5,
          41.5,
          42.5,
          62,
          42.5,
          62,
          62,
          40,
          40,
          38,
          38,
          38,
          38.5,
          38.5,
          52,
          52,
          38.5,
          36,
          34,
          36,
          36,
          34,
          45,
          37,
          45,
          37,
          45,
          44,
          39.5,
          44,
          39.5,
          44,
          67,
          47.5,
          67,
          47.5,
          47.5,
          41,
          41,
          41,
          58,
          58,
          48,
          41.5,
          48,
          48,
          48,
          41.5,
          58,
          58,
          41.5,
          41.5,
          50.5,
          50.5,
          50.5,
          52,
          50.5,
          46.5,
          46.5,
          53,
          53,
          46.5,
          56,
          53,
          53,
          53,
          53,
          61.5,
          61.5,
          62,
          62,
          62,
          24,
          24,
          24,
          24,
          24,
          25,
          25,
          25,
          25,
          25,
          25,
          26,
          26,
          26,
          27,
          27,
          28,
          28,
          28,
          29,
          29,
          29,
          30,
          30,
          31,
          32,
          32,
          33,
          33,
          33,
          33,
          33,
          34,
          34,
          34,
          34,
          34,
          35,
          35,
          36,
          36,
          37,
          37,
          37,
          38,
          38,
          38,
          38,
          39,
          39,
          39,
          40,
          41,
          41,
          42,
          42,
          42,
          42,
          43,
          43,
          44,
          44,
          49,
          52,
          53,
          57,
          58,
          59,
          60,
          69,
          72,
          81
         ],
         "xaxis": "x",
         "yaxis": "y"
        },
        {
         "alignmentgroup": "True",
         "hovertemplate": "hospital_length_of_stay=%{x}<extra></extra>",
         "legendgroup": "",
         "marker": {
          "color": "#636efa",
          "line": {
           "color": "black",
           "width": 1
          }
         },
         "name": "",
         "notched": true,
         "offsetgroup": "",
         "showlegend": false,
         "type": "box",
         "x": [
          5,
          9,
          2,
          6,
          9,
          2,
          15,
          6,
          9,
          9,
          6,
          6,
          4,
          7,
          4,
          9,
          13,
          13,
          5,
          5,
          10,
          5,
          1,
          6,
          20,
          3,
          1,
          7,
          4,
          7,
          3,
          3,
          21,
          3,
          3,
          19,
          6,
          1,
          12,
          8,
          12,
          12,
          13,
          12,
          11,
          22,
          10,
          8,
          5,
          5,
          22,
          8,
          16,
          2,
          15,
          3,
          4,
          4,
          11,
          4,
          19,
          3,
          7,
          2,
          11,
          2,
          5,
          8,
          5,
          8,
          4,
          4,
          8,
          5,
          6,
          4,
          7,
          7,
          8,
          16,
          3,
          12,
          12,
          3,
          8,
          6,
          40.5,
          40.5,
          28.5,
          40.5,
          40.5,
          32.5,
          32.5,
          29.5,
          29.5,
          32.5,
          25,
          25,
          30.5,
          30.5,
          25,
          46.5,
          30.5,
          46.5,
          30.5,
          30.5,
          28,
          26,
          26,
          26,
          26,
          31.5,
          31.5,
          31.5,
          31.5,
          31.5,
          29,
          41,
          41,
          29,
          29,
          33,
          33,
          33,
          33,
          37,
          25.5,
          25,
          25.5,
          25,
          25,
          25.5,
          25,
          25.5,
          25,
          25,
          32,
          28,
          28,
          32,
          32,
          34,
          33.5,
          33.5,
          34,
          34,
          25.5,
          25.5,
          25.5,
          25.5,
          25.5,
          28.5,
          28.26561020826921,
          28.5,
          31.24305799975991,
          27.57568657305092,
          39.5,
          39.5,
          39.5,
          31.5,
          31.5,
          33,
          29,
          33,
          33,
          33,
          36,
          36,
          26.5,
          26.5,
          26.5,
          26.5,
          28,
          28,
          28,
          26.5,
          36,
          36,
          36,
          36,
          29,
          31.5,
          31.5,
          31,
          31,
          31,
          55,
          55,
          32,
          32,
          32,
          33,
          35.5,
          35.5,
          35.5,
          33,
          33.5,
          36,
          33.5,
          36,
          33.5,
          31,
          31,
          29,
          29,
          29,
          28.5,
          28.5,
          35,
          28.5,
          35,
          52,
          52,
          52,
          52,
          35,
          31,
          31,
          30,
          30,
          31,
          33.5,
          33.5,
          33.5,
          33.5,
          33.5,
          35,
          35,
          35,
          35,
          35,
          29,
          29,
          45,
          29,
          29,
          41,
          41,
          41,
          37,
          37,
          34.5,
          42.5,
          34.5,
          42.5,
          42.5,
          31.5,
          31.5,
          31.5,
          33.5,
          33.5,
          36,
          36,
          36,
          36,
          36,
          36.5,
          36.5,
          36,
          36.5,
          36.5,
          43.5,
          43.5,
          43.5,
          43.5,
          43.5,
          36.5,
          36.5,
          32.5,
          32.5,
          36.5,
          38,
          38,
          38,
          29.5,
          29.5,
          38.5,
          38.5,
          38.5,
          38.5,
          38.5,
          44,
          37.5,
          37.5,
          37.5,
          37.5,
          31.63411657698452,
          35.29014524212107,
          33.83910960191861,
          34.77308814320713,
          32.46105297957547,
          39.5,
          35,
          35,
          39.5,
          35,
          40,
          33,
          40,
          33,
          40,
          30.5,
          53,
          30.5,
          53,
          30.5,
          39,
          36,
          36,
          36,
          36,
          39,
          36,
          39,
          39,
          39,
          31.5,
          31.5,
          38.5,
          38.5,
          38.5,
          31.5,
          31.5,
          31.5,
          38.5,
          31.5,
          38.5,
          38.5,
          38.5,
          38.5,
          38.5,
          31.5,
          31.5,
          37.5,
          31.5,
          37.5,
          33,
          33,
          35,
          33,
          33,
          39,
          39,
          39,
          39,
          39,
          38,
          38,
          38,
          38,
          38,
          45,
          45,
          45,
          33,
          33,
          37.5,
          33.5,
          33.5,
          33.5,
          37.5,
          61.5,
          61.5,
          61.5,
          61.5,
          41.5,
          41.5,
          41.5,
          38.5,
          38.5,
          38.5,
          34,
          41.5,
          41.5,
          41.5,
          41.5,
          42.5,
          62,
          42.5,
          62,
          62,
          40,
          40,
          38,
          38,
          38,
          38.5,
          38.5,
          52,
          52,
          38.5,
          36,
          34,
          36,
          36,
          34,
          45,
          37,
          45,
          37,
          45,
          44,
          39.5,
          44,
          39.5,
          44,
          67,
          47.5,
          67,
          47.5,
          47.5,
          41,
          41,
          41,
          58,
          58,
          48,
          41.5,
          48,
          48,
          48,
          41.5,
          58,
          58,
          41.5,
          41.5,
          50.5,
          50.5,
          50.5,
          52,
          50.5,
          46.5,
          46.5,
          53,
          53,
          46.5,
          56,
          53,
          53,
          53,
          53,
          61.5,
          61.5,
          62,
          62,
          62,
          24,
          24,
          24,
          24,
          24,
          25,
          25,
          25,
          25,
          25,
          25,
          26,
          26,
          26,
          27,
          27,
          28,
          28,
          28,
          29,
          29,
          29,
          30,
          30,
          31,
          32,
          32,
          33,
          33,
          33,
          33,
          33,
          34,
          34,
          34,
          34,
          34,
          35,
          35,
          36,
          36,
          37,
          37,
          37,
          38,
          38,
          38,
          38,
          39,
          39,
          39,
          40,
          41,
          41,
          42,
          42,
          42,
          42,
          43,
          43,
          44,
          44,
          49,
          52,
          53,
          57,
          58,
          59,
          60,
          69,
          72,
          81
         ],
         "xaxis": "x2",
         "yaxis": "y2"
        }
       ],
       "layout": {
        "barmode": "relative",
        "legend": {
         "tracegroupgap": 0
        },
        "template": {
         "data": {
          "bar": [
           {
            "error_x": {
             "color": "#2a3f5f"
            },
            "error_y": {
             "color": "#2a3f5f"
            },
            "marker": {
             "line": {
              "color": "#E5ECF6",
              "width": 0.5
             },
             "pattern": {
              "fillmode": "overlay",
              "size": 10,
              "solidity": 0.2
             }
            },
            "type": "bar"
           }
          ],
          "barpolar": [
           {
            "marker": {
             "line": {
              "color": "#E5ECF6",
              "width": 0.5
             },
             "pattern": {
              "fillmode": "overlay",
              "size": 10,
              "solidity": 0.2
             }
            },
            "type": "barpolar"
           }
          ],
          "carpet": [
           {
            "aaxis": {
             "endlinecolor": "#2a3f5f",
             "gridcolor": "white",
             "linecolor": "white",
             "minorgridcolor": "white",
             "startlinecolor": "#2a3f5f"
            },
            "baxis": {
             "endlinecolor": "#2a3f5f",
             "gridcolor": "white",
             "linecolor": "white",
             "minorgridcolor": "white",
             "startlinecolor": "#2a3f5f"
            },
            "type": "carpet"
           }
          ],
          "choropleth": [
           {
            "colorbar": {
             "outlinewidth": 0,
             "ticks": ""
            },
            "type": "choropleth"
           }
          ],
          "contour": [
           {
            "colorbar": {
             "outlinewidth": 0,
             "ticks": ""
            },
            "colorscale": [
             [
              0,
              "#0d0887"
             ],
             [
              0.1111111111111111,
              "#46039f"
             ],
             [
              0.2222222222222222,
              "#7201a8"
             ],
             [
              0.3333333333333333,
              "#9c179e"
             ],
             [
              0.4444444444444444,
              "#bd3786"
             ],
             [
              0.5555555555555556,
              "#d8576b"
             ],
             [
              0.6666666666666666,
              "#ed7953"
             ],
             [
              0.7777777777777778,
              "#fb9f3a"
             ],
             [
              0.8888888888888888,
              "#fdca26"
             ],
             [
              1,
              "#f0f921"
             ]
            ],
            "type": "contour"
           }
          ],
          "contourcarpet": [
           {
            "colorbar": {
             "outlinewidth": 0,
             "ticks": ""
            },
            "type": "contourcarpet"
           }
          ],
          "heatmap": [
           {
            "colorbar": {
             "outlinewidth": 0,
             "ticks": ""
            },
            "colorscale": [
             [
              0,
              "#0d0887"
             ],
             [
              0.1111111111111111,
              "#46039f"
             ],
             [
              0.2222222222222222,
              "#7201a8"
             ],
             [
              0.3333333333333333,
              "#9c179e"
             ],
             [
              0.4444444444444444,
              "#bd3786"
             ],
             [
              0.5555555555555556,
              "#d8576b"
             ],
             [
              0.6666666666666666,
              "#ed7953"
             ],
             [
              0.7777777777777778,
              "#fb9f3a"
             ],
             [
              0.8888888888888888,
              "#fdca26"
             ],
             [
              1,
              "#f0f921"
             ]
            ],
            "type": "heatmap"
           }
          ],
          "heatmapgl": [
           {
            "colorbar": {
             "outlinewidth": 0,
             "ticks": ""
            },
            "colorscale": [
             [
              0,
              "#0d0887"
             ],
             [
              0.1111111111111111,
              "#46039f"
             ],
             [
              0.2222222222222222,
              "#7201a8"
             ],
             [
              0.3333333333333333,
              "#9c179e"
             ],
             [
              0.4444444444444444,
              "#bd3786"
             ],
             [
              0.5555555555555556,
              "#d8576b"
             ],
             [
              0.6666666666666666,
              "#ed7953"
             ],
             [
              0.7777777777777778,
              "#fb9f3a"
             ],
             [
              0.8888888888888888,
              "#fdca26"
             ],
             [
              1,
              "#f0f921"
             ]
            ],
            "type": "heatmapgl"
           }
          ],
          "histogram": [
           {
            "marker": {
             "pattern": {
              "fillmode": "overlay",
              "size": 10,
              "solidity": 0.2
             }
            },
            "type": "histogram"
           }
          ],
          "histogram2d": [
           {
            "colorbar": {
             "outlinewidth": 0,
             "ticks": ""
            },
            "colorscale": [
             [
              0,
              "#0d0887"
             ],
             [
              0.1111111111111111,
              "#46039f"
             ],
             [
              0.2222222222222222,
              "#7201a8"
             ],
             [
              0.3333333333333333,
              "#9c179e"
             ],
             [
              0.4444444444444444,
              "#bd3786"
             ],
             [
              0.5555555555555556,
              "#d8576b"
             ],
             [
              0.6666666666666666,
              "#ed7953"
             ],
             [
              0.7777777777777778,
              "#fb9f3a"
             ],
             [
              0.8888888888888888,
              "#fdca26"
             ],
             [
              1,
              "#f0f921"
             ]
            ],
            "type": "histogram2d"
           }
          ],
          "histogram2dcontour": [
           {
            "colorbar": {
             "outlinewidth": 0,
             "ticks": ""
            },
            "colorscale": [
             [
              0,
              "#0d0887"
             ],
             [
              0.1111111111111111,
              "#46039f"
             ],
             [
              0.2222222222222222,
              "#7201a8"
             ],
             [
              0.3333333333333333,
              "#9c179e"
             ],
             [
              0.4444444444444444,
              "#bd3786"
             ],
             [
              0.5555555555555556,
              "#d8576b"
             ],
             [
              0.6666666666666666,
              "#ed7953"
             ],
             [
              0.7777777777777778,
              "#fb9f3a"
             ],
             [
              0.8888888888888888,
              "#fdca26"
             ],
             [
              1,
              "#f0f921"
             ]
            ],
            "type": "histogram2dcontour"
           }
          ],
          "mesh3d": [
           {
            "colorbar": {
             "outlinewidth": 0,
             "ticks": ""
            },
            "type": "mesh3d"
           }
          ],
          "parcoords": [
           {
            "line": {
             "colorbar": {
              "outlinewidth": 0,
              "ticks": ""
             }
            },
            "type": "parcoords"
           }
          ],
          "pie": [
           {
            "automargin": true,
            "type": "pie"
           }
          ],
          "scatter": [
           {
            "fillpattern": {
             "fillmode": "overlay",
             "size": 10,
             "solidity": 0.2
            },
            "type": "scatter"
           }
          ],
          "scatter3d": [
           {
            "line": {
             "colorbar": {
              "outlinewidth": 0,
              "ticks": ""
             }
            },
            "marker": {
             "colorbar": {
              "outlinewidth": 0,
              "ticks": ""
             }
            },
            "type": "scatter3d"
           }
          ],
          "scattercarpet": [
           {
            "marker": {
             "colorbar": {
              "outlinewidth": 0,
              "ticks": ""
             }
            },
            "type": "scattercarpet"
           }
          ],
          "scattergeo": [
           {
            "marker": {
             "colorbar": {
              "outlinewidth": 0,
              "ticks": ""
             }
            },
            "type": "scattergeo"
           }
          ],
          "scattergl": [
           {
            "marker": {
             "colorbar": {
              "outlinewidth": 0,
              "ticks": ""
             }
            },
            "type": "scattergl"
           }
          ],
          "scattermapbox": [
           {
            "marker": {
             "colorbar": {
              "outlinewidth": 0,
              "ticks": ""
             }
            },
            "type": "scattermapbox"
           }
          ],
          "scatterpolar": [
           {
            "marker": {
             "colorbar": {
              "outlinewidth": 0,
              "ticks": ""
             }
            },
            "type": "scatterpolar"
           }
          ],
          "scatterpolargl": [
           {
            "marker": {
             "colorbar": {
              "outlinewidth": 0,
              "ticks": ""
             }
            },
            "type": "scatterpolargl"
           }
          ],
          "scatterternary": [
           {
            "marker": {
             "colorbar": {
              "outlinewidth": 0,
              "ticks": ""
             }
            },
            "type": "scatterternary"
           }
          ],
          "surface": [
           {
            "colorbar": {
             "outlinewidth": 0,
             "ticks": ""
            },
            "colorscale": [
             [
              0,
              "#0d0887"
             ],
             [
              0.1111111111111111,
              "#46039f"
             ],
             [
              0.2222222222222222,
              "#7201a8"
             ],
             [
              0.3333333333333333,
              "#9c179e"
             ],
             [
              0.4444444444444444,
              "#bd3786"
             ],
             [
              0.5555555555555556,
              "#d8576b"
             ],
             [
              0.6666666666666666,
              "#ed7953"
             ],
             [
              0.7777777777777778,
              "#fb9f3a"
             ],
             [
              0.8888888888888888,
              "#fdca26"
             ],
             [
              1,
              "#f0f921"
             ]
            ],
            "type": "surface"
           }
          ],
          "table": [
           {
            "cells": {
             "fill": {
              "color": "#EBF0F8"
             },
             "line": {
              "color": "white"
             }
            },
            "header": {
             "fill": {
              "color": "#C8D4E3"
             },
             "line": {
              "color": "white"
             }
            },
            "type": "table"
           }
          ]
         },
         "layout": {
          "annotationdefaults": {
           "arrowcolor": "#2a3f5f",
           "arrowhead": 0,
           "arrowwidth": 1
          },
          "autotypenumbers": "strict",
          "coloraxis": {
           "colorbar": {
            "outlinewidth": 0,
            "ticks": ""
           }
          },
          "colorscale": {
           "diverging": [
            [
             0,
             "#8e0152"
            ],
            [
             0.1,
             "#c51b7d"
            ],
            [
             0.2,
             "#de77ae"
            ],
            [
             0.3,
             "#f1b6da"
            ],
            [
             0.4,
             "#fde0ef"
            ],
            [
             0.5,
             "#f7f7f7"
            ],
            [
             0.6,
             "#e6f5d0"
            ],
            [
             0.7,
             "#b8e186"
            ],
            [
             0.8,
             "#7fbc41"
            ],
            [
             0.9,
             "#4d9221"
            ],
            [
             1,
             "#276419"
            ]
           ],
           "sequential": [
            [
             0,
             "#0d0887"
            ],
            [
             0.1111111111111111,
             "#46039f"
            ],
            [
             0.2222222222222222,
             "#7201a8"
            ],
            [
             0.3333333333333333,
             "#9c179e"
            ],
            [
             0.4444444444444444,
             "#bd3786"
            ],
            [
             0.5555555555555556,
             "#d8576b"
            ],
            [
             0.6666666666666666,
             "#ed7953"
            ],
            [
             0.7777777777777778,
             "#fb9f3a"
            ],
            [
             0.8888888888888888,
             "#fdca26"
            ],
            [
             1,
             "#f0f921"
            ]
           ],
           "sequentialminus": [
            [
             0,
             "#0d0887"
            ],
            [
             0.1111111111111111,
             "#46039f"
            ],
            [
             0.2222222222222222,
             "#7201a8"
            ],
            [
             0.3333333333333333,
             "#9c179e"
            ],
            [
             0.4444444444444444,
             "#bd3786"
            ],
            [
             0.5555555555555556,
             "#d8576b"
            ],
            [
             0.6666666666666666,
             "#ed7953"
            ],
            [
             0.7777777777777778,
             "#fb9f3a"
            ],
            [
             0.8888888888888888,
             "#fdca26"
            ],
            [
             1,
             "#f0f921"
            ]
           ]
          },
          "colorway": [
           "#636efa",
           "#EF553B",
           "#00cc96",
           "#ab63fa",
           "#FFA15A",
           "#19d3f3",
           "#FF6692",
           "#B6E880",
           "#FF97FF",
           "#FECB52"
          ],
          "font": {
           "color": "#2a3f5f"
          },
          "geo": {
           "bgcolor": "white",
           "lakecolor": "white",
           "landcolor": "#E5ECF6",
           "showlakes": true,
           "showland": true,
           "subunitcolor": "white"
          },
          "hoverlabel": {
           "align": "left"
          },
          "hovermode": "closest",
          "mapbox": {
           "style": "light"
          },
          "paper_bgcolor": "white",
          "plot_bgcolor": "#E5ECF6",
          "polar": {
           "angularaxis": {
            "gridcolor": "white",
            "linecolor": "white",
            "ticks": ""
           },
           "bgcolor": "#E5ECF6",
           "radialaxis": {
            "gridcolor": "white",
            "linecolor": "white",
            "ticks": ""
           }
          },
          "scene": {
           "xaxis": {
            "backgroundcolor": "#E5ECF6",
            "gridcolor": "white",
            "gridwidth": 2,
            "linecolor": "white",
            "showbackground": true,
            "ticks": "",
            "zerolinecolor": "white"
           },
           "yaxis": {
            "backgroundcolor": "#E5ECF6",
            "gridcolor": "white",
            "gridwidth": 2,
            "linecolor": "white",
            "showbackground": true,
            "ticks": "",
            "zerolinecolor": "white"
           },
           "zaxis": {
            "backgroundcolor": "#E5ECF6",
            "gridcolor": "white",
            "gridwidth": 2,
            "linecolor": "white",
            "showbackground": true,
            "ticks": "",
            "zerolinecolor": "white"
           }
          },
          "shapedefaults": {
           "line": {
            "color": "#2a3f5f"
           }
          },
          "ternary": {
           "aaxis": {
            "gridcolor": "white",
            "linecolor": "white",
            "ticks": ""
           },
           "baxis": {
            "gridcolor": "white",
            "linecolor": "white",
            "ticks": ""
           },
           "bgcolor": "#E5ECF6",
           "caxis": {
            "gridcolor": "white",
            "linecolor": "white",
            "ticks": ""
           }
          },
          "title": {
           "x": 0.05
          },
          "xaxis": {
           "automargin": true,
           "gridcolor": "white",
           "linecolor": "white",
           "ticks": "",
           "title": {
            "standoff": 15
           },
           "zerolinecolor": "white",
           "zerolinewidth": 2
          },
          "yaxis": {
           "automargin": true,
           "gridcolor": "white",
           "linecolor": "white",
           "ticks": "",
           "title": {
            "standoff": 15
           },
           "zerolinecolor": "white",
           "zerolinewidth": 2
          }
         }
        },
        "title": {
         "text": "Hospital Length of Stay Distribution (Seed222_thr0.77_perc0.2)"
        },
        "xaxis": {
         "anchor": "y",
         "domain": [
          0,
          1
         ],
         "title": {
          "text": "hospital_length_of_stay"
         }
        },
        "xaxis2": {
         "anchor": "y2",
         "domain": [
          0,
          1
         ],
         "matches": "x",
         "showgrid": true,
         "showticklabels": false
        },
        "yaxis": {
         "anchor": "x",
         "domain": [
          0,
          0.8316
         ],
         "title": {
          "text": "density"
         }
        },
        "yaxis2": {
         "anchor": "x2",
         "domain": [
          0.8416,
          1
         ],
         "matches": "y2",
         "showgrid": false,
         "showline": false,
         "showticklabels": false,
         "ticks": ""
        }
       }
      },
      "text/html": [
       "<div>                            <div id=\"232bf74f-01cf-4aff-826d-f2aadfd879e7\" class=\"plotly-graph-div\" style=\"height:525px; width:100%;\"></div>            <script type=\"text/javascript\">                require([\"plotly\"], function(Plotly) {                    window.PLOTLYENV=window.PLOTLYENV || {};                                    if (document.getElementById(\"232bf74f-01cf-4aff-826d-f2aadfd879e7\")) {                    Plotly.newPlot(                        \"232bf74f-01cf-4aff-826d-f2aadfd879e7\",                        [{\"alignmentgroup\":\"True\",\"bingroup\":\"x\",\"histnorm\":\"density\",\"hovertemplate\":\"hospital_length_of_stay=%{x}<br>density=%{y}<extra></extra>\",\"legendgroup\":\"\",\"marker\":{\"color\":\"#636efa\",\"pattern\":{\"shape\":\"\"},\"line\":{\"color\":\"black\",\"width\":1}},\"name\":\"\",\"nbinsx\":10,\"offsetgroup\":\"\",\"orientation\":\"v\",\"showlegend\":false,\"x\":[5.0,9.0,2.0,6.0,9.0,2.0,15.0,6.0,9.0,9.0,6.0,6.0,4.0,7.0,4.0,9.0,13.0,13.0,5.0,5.0,10.0,5.0,1.0,6.0,20.0,3.0,1.0,7.0,4.0,7.0,3.0,3.0,21.0,3.0,3.0,19.0,6.0,1.0,12.0,8.0,12.0,12.0,13.0,12.0,11.0,22.0,10.0,8.0,5.0,5.0,22.0,8.0,16.0,2.0,15.0,3.0,4.0,4.0,11.0,4.0,19.0,3.0,7.0,2.0,11.0,2.0,5.0,8.0,5.0,8.0,4.0,4.0,8.0,5.0,6.0,4.0,7.0,7.0,8.0,16.0,3.0,12.0,12.0,3.0,8.0,6.0,40.5,40.5,28.5,40.5,40.5,32.5,32.5,29.5,29.5,32.5,25.0,25.0,30.5,30.5,25.0,46.5,30.5,46.5,30.5,30.5,28.0,26.0,26.0,26.0,26.0,31.5,31.5,31.5,31.5,31.5,29.0,41.0,41.0,29.0,29.0,33.0,33.0,33.0,33.0,37.0,25.5,25.0,25.5,25.0,25.0,25.5,25.0,25.5,25.0,25.0,32.0,28.0,28.0,32.0,32.0,34.0,33.5,33.5,34.0,34.0,25.5,25.5,25.5,25.5,25.5,28.5,28.26561020826921,28.5,31.24305799975991,27.57568657305092,39.5,39.5,39.5,31.5,31.5,33.0,29.0,33.0,33.0,33.0,36.0,36.0,26.5,26.5,26.5,26.5,28.0,28.0,28.0,26.5,36.0,36.0,36.0,36.0,29.0,31.5,31.5,31.0,31.0,31.0,55.0,55.0,32.0,32.0,32.0,33.0,35.5,35.5,35.5,33.0,33.5,36.0,33.5,36.0,33.5,31.0,31.0,29.0,29.0,29.0,28.5,28.5,35.0,28.5,35.0,52.0,52.0,52.0,52.0,35.0,31.0,31.0,30.0,30.0,31.0,33.5,33.5,33.5,33.5,33.5,35.0,35.0,35.0,35.0,35.0,29.0,29.0,45.0,29.0,29.0,41.0,41.0,41.0,37.0,37.0,34.5,42.5,34.5,42.5,42.5,31.5,31.5,31.5,33.5,33.5,36.0,36.0,36.0,36.0,36.0,36.5,36.5,36.0,36.5,36.5,43.5,43.5,43.5,43.5,43.5,36.5,36.5,32.5,32.5,36.5,38.0,38.0,38.0,29.5,29.5,38.5,38.5,38.5,38.5,38.5,44.0,37.5,37.5,37.5,37.5,31.63411657698452,35.29014524212107,33.83910960191861,34.77308814320713,32.46105297957547,39.5,35.0,35.0,39.5,35.0,40.0,33.0,40.0,33.0,40.0,30.5,53.0,30.5,53.0,30.5,39.0,36.0,36.0,36.0,36.0,39.0,36.0,39.0,39.0,39.0,31.5,31.5,38.5,38.5,38.5,31.5,31.5,31.5,38.5,31.5,38.5,38.5,38.5,38.5,38.5,31.5,31.5,37.5,31.5,37.5,33.0,33.0,35.0,33.0,33.0,39.0,39.0,39.0,39.0,39.0,38.0,38.0,38.0,38.0,38.0,45.0,45.0,45.0,33.0,33.0,37.5,33.5,33.5,33.5,37.5,61.5,61.5,61.5,61.5,41.5,41.5,41.5,38.5,38.5,38.5,34.0,41.5,41.5,41.5,41.5,42.5,62.0,42.5,62.0,62.0,40.0,40.0,38.0,38.0,38.0,38.5,38.5,52.0,52.0,38.5,36.0,34.0,36.0,36.0,34.0,45.0,37.0,45.0,37.0,45.0,44.0,39.5,44.0,39.5,44.0,67.0,47.5,67.0,47.5,47.5,41.0,41.0,41.0,58.0,58.0,48.0,41.5,48.0,48.0,48.0,41.5,58.0,58.0,41.5,41.5,50.5,50.5,50.5,52.0,50.5,46.5,46.5,53.0,53.0,46.5,56.0,53.0,53.0,53.0,53.0,61.5,61.5,62.0,62.0,62.0,24.0,24.0,24.0,24.0,24.0,25.0,25.0,25.0,25.0,25.0,25.0,26.0,26.0,26.0,27.0,27.0,28.0,28.0,28.0,29.0,29.0,29.0,30.0,30.0,31.0,32.0,32.0,33.0,33.0,33.0,33.0,33.0,34.0,34.0,34.0,34.0,34.0,35.0,35.0,36.0,36.0,37.0,37.0,37.0,38.0,38.0,38.0,38.0,39.0,39.0,39.0,40.0,41.0,41.0,42.0,42.0,42.0,42.0,43.0,43.0,44.0,44.0,49.0,52.0,53.0,57.0,58.0,59.0,60.0,69.0,72.0,81.0],\"xaxis\":\"x\",\"yaxis\":\"y\",\"type\":\"histogram\"},{\"alignmentgroup\":\"True\",\"hovertemplate\":\"hospital_length_of_stay=%{x}<extra></extra>\",\"legendgroup\":\"\",\"marker\":{\"color\":\"#636efa\",\"line\":{\"color\":\"black\",\"width\":1}},\"name\":\"\",\"notched\":true,\"offsetgroup\":\"\",\"showlegend\":false,\"x\":[5.0,9.0,2.0,6.0,9.0,2.0,15.0,6.0,9.0,9.0,6.0,6.0,4.0,7.0,4.0,9.0,13.0,13.0,5.0,5.0,10.0,5.0,1.0,6.0,20.0,3.0,1.0,7.0,4.0,7.0,3.0,3.0,21.0,3.0,3.0,19.0,6.0,1.0,12.0,8.0,12.0,12.0,13.0,12.0,11.0,22.0,10.0,8.0,5.0,5.0,22.0,8.0,16.0,2.0,15.0,3.0,4.0,4.0,11.0,4.0,19.0,3.0,7.0,2.0,11.0,2.0,5.0,8.0,5.0,8.0,4.0,4.0,8.0,5.0,6.0,4.0,7.0,7.0,8.0,16.0,3.0,12.0,12.0,3.0,8.0,6.0,40.5,40.5,28.5,40.5,40.5,32.5,32.5,29.5,29.5,32.5,25.0,25.0,30.5,30.5,25.0,46.5,30.5,46.5,30.5,30.5,28.0,26.0,26.0,26.0,26.0,31.5,31.5,31.5,31.5,31.5,29.0,41.0,41.0,29.0,29.0,33.0,33.0,33.0,33.0,37.0,25.5,25.0,25.5,25.0,25.0,25.5,25.0,25.5,25.0,25.0,32.0,28.0,28.0,32.0,32.0,34.0,33.5,33.5,34.0,34.0,25.5,25.5,25.5,25.5,25.5,28.5,28.26561020826921,28.5,31.24305799975991,27.57568657305092,39.5,39.5,39.5,31.5,31.5,33.0,29.0,33.0,33.0,33.0,36.0,36.0,26.5,26.5,26.5,26.5,28.0,28.0,28.0,26.5,36.0,36.0,36.0,36.0,29.0,31.5,31.5,31.0,31.0,31.0,55.0,55.0,32.0,32.0,32.0,33.0,35.5,35.5,35.5,33.0,33.5,36.0,33.5,36.0,33.5,31.0,31.0,29.0,29.0,29.0,28.5,28.5,35.0,28.5,35.0,52.0,52.0,52.0,52.0,35.0,31.0,31.0,30.0,30.0,31.0,33.5,33.5,33.5,33.5,33.5,35.0,35.0,35.0,35.0,35.0,29.0,29.0,45.0,29.0,29.0,41.0,41.0,41.0,37.0,37.0,34.5,42.5,34.5,42.5,42.5,31.5,31.5,31.5,33.5,33.5,36.0,36.0,36.0,36.0,36.0,36.5,36.5,36.0,36.5,36.5,43.5,43.5,43.5,43.5,43.5,36.5,36.5,32.5,32.5,36.5,38.0,38.0,38.0,29.5,29.5,38.5,38.5,38.5,38.5,38.5,44.0,37.5,37.5,37.5,37.5,31.63411657698452,35.29014524212107,33.83910960191861,34.77308814320713,32.46105297957547,39.5,35.0,35.0,39.5,35.0,40.0,33.0,40.0,33.0,40.0,30.5,53.0,30.5,53.0,30.5,39.0,36.0,36.0,36.0,36.0,39.0,36.0,39.0,39.0,39.0,31.5,31.5,38.5,38.5,38.5,31.5,31.5,31.5,38.5,31.5,38.5,38.5,38.5,38.5,38.5,31.5,31.5,37.5,31.5,37.5,33.0,33.0,35.0,33.0,33.0,39.0,39.0,39.0,39.0,39.0,38.0,38.0,38.0,38.0,38.0,45.0,45.0,45.0,33.0,33.0,37.5,33.5,33.5,33.5,37.5,61.5,61.5,61.5,61.5,41.5,41.5,41.5,38.5,38.5,38.5,34.0,41.5,41.5,41.5,41.5,42.5,62.0,42.5,62.0,62.0,40.0,40.0,38.0,38.0,38.0,38.5,38.5,52.0,52.0,38.5,36.0,34.0,36.0,36.0,34.0,45.0,37.0,45.0,37.0,45.0,44.0,39.5,44.0,39.5,44.0,67.0,47.5,67.0,47.5,47.5,41.0,41.0,41.0,58.0,58.0,48.0,41.5,48.0,48.0,48.0,41.5,58.0,58.0,41.5,41.5,50.5,50.5,50.5,52.0,50.5,46.5,46.5,53.0,53.0,46.5,56.0,53.0,53.0,53.0,53.0,61.5,61.5,62.0,62.0,62.0,24.0,24.0,24.0,24.0,24.0,25.0,25.0,25.0,25.0,25.0,25.0,26.0,26.0,26.0,27.0,27.0,28.0,28.0,28.0,29.0,29.0,29.0,30.0,30.0,31.0,32.0,32.0,33.0,33.0,33.0,33.0,33.0,34.0,34.0,34.0,34.0,34.0,35.0,35.0,36.0,36.0,37.0,37.0,37.0,38.0,38.0,38.0,38.0,39.0,39.0,39.0,40.0,41.0,41.0,42.0,42.0,42.0,42.0,43.0,43.0,44.0,44.0,49.0,52.0,53.0,57.0,58.0,59.0,60.0,69.0,72.0,81.0],\"xaxis\":\"x2\",\"yaxis\":\"y2\",\"type\":\"box\"}],                        {\"template\":{\"data\":{\"histogram2dcontour\":[{\"type\":\"histogram2dcontour\",\"colorbar\":{\"outlinewidth\":0,\"ticks\":\"\"},\"colorscale\":[[0.0,\"#0d0887\"],[0.1111111111111111,\"#46039f\"],[0.2222222222222222,\"#7201a8\"],[0.3333333333333333,\"#9c179e\"],[0.4444444444444444,\"#bd3786\"],[0.5555555555555556,\"#d8576b\"],[0.6666666666666666,\"#ed7953\"],[0.7777777777777778,\"#fb9f3a\"],[0.8888888888888888,\"#fdca26\"],[1.0,\"#f0f921\"]]}],\"choropleth\":[{\"type\":\"choropleth\",\"colorbar\":{\"outlinewidth\":0,\"ticks\":\"\"}}],\"histogram2d\":[{\"type\":\"histogram2d\",\"colorbar\":{\"outlinewidth\":0,\"ticks\":\"\"},\"colorscale\":[[0.0,\"#0d0887\"],[0.1111111111111111,\"#46039f\"],[0.2222222222222222,\"#7201a8\"],[0.3333333333333333,\"#9c179e\"],[0.4444444444444444,\"#bd3786\"],[0.5555555555555556,\"#d8576b\"],[0.6666666666666666,\"#ed7953\"],[0.7777777777777778,\"#fb9f3a\"],[0.8888888888888888,\"#fdca26\"],[1.0,\"#f0f921\"]]}],\"heatmap\":[{\"type\":\"heatmap\",\"colorbar\":{\"outlinewidth\":0,\"ticks\":\"\"},\"colorscale\":[[0.0,\"#0d0887\"],[0.1111111111111111,\"#46039f\"],[0.2222222222222222,\"#7201a8\"],[0.3333333333333333,\"#9c179e\"],[0.4444444444444444,\"#bd3786\"],[0.5555555555555556,\"#d8576b\"],[0.6666666666666666,\"#ed7953\"],[0.7777777777777778,\"#fb9f3a\"],[0.8888888888888888,\"#fdca26\"],[1.0,\"#f0f921\"]]}],\"heatmapgl\":[{\"type\":\"heatmapgl\",\"colorbar\":{\"outlinewidth\":0,\"ticks\":\"\"},\"colorscale\":[[0.0,\"#0d0887\"],[0.1111111111111111,\"#46039f\"],[0.2222222222222222,\"#7201a8\"],[0.3333333333333333,\"#9c179e\"],[0.4444444444444444,\"#bd3786\"],[0.5555555555555556,\"#d8576b\"],[0.6666666666666666,\"#ed7953\"],[0.7777777777777778,\"#fb9f3a\"],[0.8888888888888888,\"#fdca26\"],[1.0,\"#f0f921\"]]}],\"contourcarpet\":[{\"type\":\"contourcarpet\",\"colorbar\":{\"outlinewidth\":0,\"ticks\":\"\"}}],\"contour\":[{\"type\":\"contour\",\"colorbar\":{\"outlinewidth\":0,\"ticks\":\"\"},\"colorscale\":[[0.0,\"#0d0887\"],[0.1111111111111111,\"#46039f\"],[0.2222222222222222,\"#7201a8\"],[0.3333333333333333,\"#9c179e\"],[0.4444444444444444,\"#bd3786\"],[0.5555555555555556,\"#d8576b\"],[0.6666666666666666,\"#ed7953\"],[0.7777777777777778,\"#fb9f3a\"],[0.8888888888888888,\"#fdca26\"],[1.0,\"#f0f921\"]]}],\"surface\":[{\"type\":\"surface\",\"colorbar\":{\"outlinewidth\":0,\"ticks\":\"\"},\"colorscale\":[[0.0,\"#0d0887\"],[0.1111111111111111,\"#46039f\"],[0.2222222222222222,\"#7201a8\"],[0.3333333333333333,\"#9c179e\"],[0.4444444444444444,\"#bd3786\"],[0.5555555555555556,\"#d8576b\"],[0.6666666666666666,\"#ed7953\"],[0.7777777777777778,\"#fb9f3a\"],[0.8888888888888888,\"#fdca26\"],[1.0,\"#f0f921\"]]}],\"mesh3d\":[{\"type\":\"mesh3d\",\"colorbar\":{\"outlinewidth\":0,\"ticks\":\"\"}}],\"scatter\":[{\"fillpattern\":{\"fillmode\":\"overlay\",\"size\":10,\"solidity\":0.2},\"type\":\"scatter\"}],\"parcoords\":[{\"type\":\"parcoords\",\"line\":{\"colorbar\":{\"outlinewidth\":0,\"ticks\":\"\"}}}],\"scatterpolargl\":[{\"type\":\"scatterpolargl\",\"marker\":{\"colorbar\":{\"outlinewidth\":0,\"ticks\":\"\"}}}],\"bar\":[{\"error_x\":{\"color\":\"#2a3f5f\"},\"error_y\":{\"color\":\"#2a3f5f\"},\"marker\":{\"line\":{\"color\":\"#E5ECF6\",\"width\":0.5},\"pattern\":{\"fillmode\":\"overlay\",\"size\":10,\"solidity\":0.2}},\"type\":\"bar\"}],\"scattergeo\":[{\"type\":\"scattergeo\",\"marker\":{\"colorbar\":{\"outlinewidth\":0,\"ticks\":\"\"}}}],\"scatterpolar\":[{\"type\":\"scatterpolar\",\"marker\":{\"colorbar\":{\"outlinewidth\":0,\"ticks\":\"\"}}}],\"histogram\":[{\"marker\":{\"pattern\":{\"fillmode\":\"overlay\",\"size\":10,\"solidity\":0.2}},\"type\":\"histogram\"}],\"scattergl\":[{\"type\":\"scattergl\",\"marker\":{\"colorbar\":{\"outlinewidth\":0,\"ticks\":\"\"}}}],\"scatter3d\":[{\"type\":\"scatter3d\",\"line\":{\"colorbar\":{\"outlinewidth\":0,\"ticks\":\"\"}},\"marker\":{\"colorbar\":{\"outlinewidth\":0,\"ticks\":\"\"}}}],\"scattermapbox\":[{\"type\":\"scattermapbox\",\"marker\":{\"colorbar\":{\"outlinewidth\":0,\"ticks\":\"\"}}}],\"scatterternary\":[{\"type\":\"scatterternary\",\"marker\":{\"colorbar\":{\"outlinewidth\":0,\"ticks\":\"\"}}}],\"scattercarpet\":[{\"type\":\"scattercarpet\",\"marker\":{\"colorbar\":{\"outlinewidth\":0,\"ticks\":\"\"}}}],\"carpet\":[{\"aaxis\":{\"endlinecolor\":\"#2a3f5f\",\"gridcolor\":\"white\",\"linecolor\":\"white\",\"minorgridcolor\":\"white\",\"startlinecolor\":\"#2a3f5f\"},\"baxis\":{\"endlinecolor\":\"#2a3f5f\",\"gridcolor\":\"white\",\"linecolor\":\"white\",\"minorgridcolor\":\"white\",\"startlinecolor\":\"#2a3f5f\"},\"type\":\"carpet\"}],\"table\":[{\"cells\":{\"fill\":{\"color\":\"#EBF0F8\"},\"line\":{\"color\":\"white\"}},\"header\":{\"fill\":{\"color\":\"#C8D4E3\"},\"line\":{\"color\":\"white\"}},\"type\":\"table\"}],\"barpolar\":[{\"marker\":{\"line\":{\"color\":\"#E5ECF6\",\"width\":0.5},\"pattern\":{\"fillmode\":\"overlay\",\"size\":10,\"solidity\":0.2}},\"type\":\"barpolar\"}],\"pie\":[{\"automargin\":true,\"type\":\"pie\"}]},\"layout\":{\"autotypenumbers\":\"strict\",\"colorway\":[\"#636efa\",\"#EF553B\",\"#00cc96\",\"#ab63fa\",\"#FFA15A\",\"#19d3f3\",\"#FF6692\",\"#B6E880\",\"#FF97FF\",\"#FECB52\"],\"font\":{\"color\":\"#2a3f5f\"},\"hovermode\":\"closest\",\"hoverlabel\":{\"align\":\"left\"},\"paper_bgcolor\":\"white\",\"plot_bgcolor\":\"#E5ECF6\",\"polar\":{\"bgcolor\":\"#E5ECF6\",\"angularaxis\":{\"gridcolor\":\"white\",\"linecolor\":\"white\",\"ticks\":\"\"},\"radialaxis\":{\"gridcolor\":\"white\",\"linecolor\":\"white\",\"ticks\":\"\"}},\"ternary\":{\"bgcolor\":\"#E5ECF6\",\"aaxis\":{\"gridcolor\":\"white\",\"linecolor\":\"white\",\"ticks\":\"\"},\"baxis\":{\"gridcolor\":\"white\",\"linecolor\":\"white\",\"ticks\":\"\"},\"caxis\":{\"gridcolor\":\"white\",\"linecolor\":\"white\",\"ticks\":\"\"}},\"coloraxis\":{\"colorbar\":{\"outlinewidth\":0,\"ticks\":\"\"}},\"colorscale\":{\"sequential\":[[0.0,\"#0d0887\"],[0.1111111111111111,\"#46039f\"],[0.2222222222222222,\"#7201a8\"],[0.3333333333333333,\"#9c179e\"],[0.4444444444444444,\"#bd3786\"],[0.5555555555555556,\"#d8576b\"],[0.6666666666666666,\"#ed7953\"],[0.7777777777777778,\"#fb9f3a\"],[0.8888888888888888,\"#fdca26\"],[1.0,\"#f0f921\"]],\"sequentialminus\":[[0.0,\"#0d0887\"],[0.1111111111111111,\"#46039f\"],[0.2222222222222222,\"#7201a8\"],[0.3333333333333333,\"#9c179e\"],[0.4444444444444444,\"#bd3786\"],[0.5555555555555556,\"#d8576b\"],[0.6666666666666666,\"#ed7953\"],[0.7777777777777778,\"#fb9f3a\"],[0.8888888888888888,\"#fdca26\"],[1.0,\"#f0f921\"]],\"diverging\":[[0,\"#8e0152\"],[0.1,\"#c51b7d\"],[0.2,\"#de77ae\"],[0.3,\"#f1b6da\"],[0.4,\"#fde0ef\"],[0.5,\"#f7f7f7\"],[0.6,\"#e6f5d0\"],[0.7,\"#b8e186\"],[0.8,\"#7fbc41\"],[0.9,\"#4d9221\"],[1,\"#276419\"]]},\"xaxis\":{\"gridcolor\":\"white\",\"linecolor\":\"white\",\"ticks\":\"\",\"title\":{\"standoff\":15},\"zerolinecolor\":\"white\",\"automargin\":true,\"zerolinewidth\":2},\"yaxis\":{\"gridcolor\":\"white\",\"linecolor\":\"white\",\"ticks\":\"\",\"title\":{\"standoff\":15},\"zerolinecolor\":\"white\",\"automargin\":true,\"zerolinewidth\":2},\"scene\":{\"xaxis\":{\"backgroundcolor\":\"#E5ECF6\",\"gridcolor\":\"white\",\"linecolor\":\"white\",\"showbackground\":true,\"ticks\":\"\",\"zerolinecolor\":\"white\",\"gridwidth\":2},\"yaxis\":{\"backgroundcolor\":\"#E5ECF6\",\"gridcolor\":\"white\",\"linecolor\":\"white\",\"showbackground\":true,\"ticks\":\"\",\"zerolinecolor\":\"white\",\"gridwidth\":2},\"zaxis\":{\"backgroundcolor\":\"#E5ECF6\",\"gridcolor\":\"white\",\"linecolor\":\"white\",\"showbackground\":true,\"ticks\":\"\",\"zerolinecolor\":\"white\",\"gridwidth\":2}},\"shapedefaults\":{\"line\":{\"color\":\"#2a3f5f\"}},\"annotationdefaults\":{\"arrowcolor\":\"#2a3f5f\",\"arrowhead\":0,\"arrowwidth\":1},\"geo\":{\"bgcolor\":\"white\",\"landcolor\":\"#E5ECF6\",\"subunitcolor\":\"white\",\"showland\":true,\"showlakes\":true,\"lakecolor\":\"white\"},\"title\":{\"x\":0.05},\"mapbox\":{\"style\":\"light\"}}},\"xaxis\":{\"anchor\":\"y\",\"domain\":[0.0,1.0],\"title\":{\"text\":\"hospital_length_of_stay\"}},\"yaxis\":{\"anchor\":\"x\",\"domain\":[0.0,0.8316],\"title\":{\"text\":\"density\"}},\"xaxis2\":{\"anchor\":\"y2\",\"domain\":[0.0,1.0],\"matches\":\"x\",\"showticklabels\":false,\"showgrid\":true},\"yaxis2\":{\"anchor\":\"x2\",\"domain\":[0.8416,1.0],\"matches\":\"y2\",\"showticklabels\":false,\"showline\":false,\"ticks\":\"\",\"showgrid\":false},\"legend\":{\"tracegroupgap\":0},\"title\":{\"text\":\"Hospital Length of Stay Distribution (Seed222_thr0.77_perc0.2)\"},\"barmode\":\"relative\"},                        {\"responsive\": true}                    ).then(function(){\n",
       "                            \n",
       "var gd = document.getElementById('232bf74f-01cf-4aff-826d-f2aadfd879e7');\n",
       "var x = new MutationObserver(function (mutations, observer) {{\n",
       "        var display = window.getComputedStyle(gd).display;\n",
       "        if (!display || display === 'none') {{\n",
       "            console.log([gd, 'removed!']);\n",
       "            Plotly.purge(gd);\n",
       "            observer.disconnect();\n",
       "        }}\n",
       "}});\n",
       "\n",
       "// Listen for the removal of the full notebook cells\n",
       "var notebookContainer = gd.closest('#notebook-container');\n",
       "if (notebookContainer) {{\n",
       "    x.observe(notebookContainer, {childList: true});\n",
       "}}\n",
       "\n",
       "// Listen for the clearing of the current output cell\n",
       "var outputEl = gd.closest('.output');\n",
       "if (outputEl) {{\n",
       "    x.observe(outputEl, {childList: true});\n",
       "}}\n",
       "\n",
       "                        })                };                });            </script>        </div>"
      ]
     },
     "metadata": {},
     "output_type": "display_data"
    },
    {
     "data": {
      "application/vnd.plotly.v1+json": {
       "config": {
        "plotlyServerURL": "https://plot.ly"
       },
       "data": [
        {
         "alignmentgroup": "True",
         "bingroup": "x",
         "histnorm": "density",
         "hovertemplate": "hospital_length_of_stay=%{x}<br>density=%{y}<extra></extra>",
         "legendgroup": "",
         "marker": {
          "color": "#636efa",
          "line": {
           "color": "black",
           "width": 1
          },
          "pattern": {
           "shape": ""
          }
         },
         "name": "",
         "nbinsx": 10,
         "offsetgroup": "",
         "orientation": "v",
         "showlegend": false,
         "type": "histogram",
         "x": [
          13,
          11,
          4,
          13,
          9,
          19,
          8,
          4,
          5,
          8,
          13,
          8,
          3,
          9,
          8,
          8,
          2,
          7,
          23,
          6,
          8,
          2,
          17,
          7,
          4,
          8,
          7,
          5,
          9,
          10,
          15,
          22,
          6,
          4,
          9,
          10,
          11,
          18,
          19,
          8,
          2,
          4,
          4,
          2,
          3,
          7,
          3,
          10,
          17,
          16,
          5,
          13,
          3,
          3,
          2,
          8,
          8,
          14,
          4,
          2,
          8,
          3,
          8,
          8,
          13,
          10,
          3,
          5,
          2,
          15,
          1,
          14,
          19,
          7,
          2,
          21,
          8,
          10,
          21,
          2,
          3,
          12,
          7,
          10,
          8,
          10,
          28.5,
          28.5,
          40.5,
          28.5,
          28.5,
          29.5,
          29.5,
          29.5,
          32.5,
          29.5,
          30.5,
          25,
          30.5,
          30.5,
          25,
          30.5,
          46.5,
          46.5,
          30.5,
          30.5,
          28,
          28,
          28,
          26,
          28,
          31.5,
          31.5,
          31.5,
          31.5,
          31.5,
          29,
          41,
          41,
          29,
          41,
          37,
          37,
          37,
          37,
          33,
          25,
          25,
          25,
          25,
          25.5,
          25.5,
          25.5,
          25,
          25.5,
          25,
          32,
          32,
          32,
          32,
          32,
          33.5,
          34,
          33.5,
          34,
          33.5,
          25.5,
          25.5,
          25.5,
          25.5,
          25.5,
          28.5,
          28.5,
          29.46536610042676,
          33.76403645286337,
          28.5,
          31.5,
          39.5,
          31.5,
          31.5,
          39.5,
          33,
          33,
          29,
          29,
          29,
          26.5,
          26.5,
          26.5,
          26.5,
          36,
          26.5,
          28,
          28,
          28,
          28,
          29,
          29,
          36,
          29,
          29,
          31.5,
          31,
          31,
          31,
          31.5,
          55,
          32,
          55,
          55,
          32,
          33,
          33,
          35.5,
          33,
          33,
          36,
          36,
          36,
          36,
          36,
          29,
          31,
          29,
          29,
          31,
          35,
          28.5,
          28.5,
          28.5,
          35,
          52,
          52,
          35,
          35,
          52,
          31,
          30,
          31,
          30,
          30,
          33.5,
          33.5,
          33.5,
          33.5,
          33.5,
          37.5,
          35,
          35,
          35,
          37.5,
          45,
          45,
          29,
          45,
          45,
          37,
          37,
          37,
          37,
          37,
          34.5,
          34.5,
          34.5,
          42.5,
          42.5,
          33.5,
          33.5,
          31.5,
          31.5,
          33.5,
          36,
          36,
          36,
          36,
          36,
          36,
          36.5,
          36,
          36.5,
          36.5,
          43.5,
          37.5,
          37.5,
          43.5,
          43.5,
          36.5,
          36.5,
          32.5,
          32.5,
          36.5,
          29.5,
          29.5,
          29.5,
          29.5,
          29.5,
          38.5,
          38.5,
          38.5,
          38.5,
          38.5,
          37.5,
          37.5,
          37.5,
          37.5,
          37.5,
          35.1829185851384,
          27.00640282500535,
          32.29536083433777,
          30.40373642370105,
          35.78213859256357,
          39.5,
          39.5,
          35,
          35,
          39.5,
          33,
          40,
          40,
          33,
          33,
          30.5,
          30.5,
          30.5,
          30.5,
          30.5,
          36,
          36,
          36,
          39,
          39,
          36,
          36,
          39,
          39,
          36,
          38.5,
          38.5,
          31.5,
          31.5,
          31.5,
          38.5,
          38.5,
          38.5,
          38.5,
          31.5,
          38.5,
          38.5,
          38.5,
          38.5,
          38.5,
          31.5,
          37.5,
          31.5,
          31.5,
          31.5,
          33,
          33,
          33,
          35,
          35,
          39,
          39,
          39,
          39,
          39,
          38,
          38,
          38,
          41.5,
          41.5,
          45,
          33,
          33,
          33,
          33,
          37.5,
          33.5,
          33.5,
          33.5,
          33.5,
          61.5,
          61.5,
          61.5,
          41.5,
          61.5,
          38.5,
          41.5,
          41.5,
          38.5,
          41.5,
          34,
          41.5,
          34,
          34,
          41.5,
          62,
          42.5,
          62,
          62,
          62,
          40,
          38,
          38,
          40,
          40,
          38.5,
          52,
          38.5,
          52,
          52,
          34,
          36,
          36,
          34,
          34,
          37,
          37,
          37,
          37,
          37,
          39.5,
          44,
          44,
          39.5,
          39.5,
          47.5,
          47.5,
          47.5,
          67,
          67,
          58,
          58,
          41,
          58,
          58,
          41.5,
          41.5,
          48,
          48,
          48,
          41.5,
          58,
          58,
          41.5,
          58,
          50.5,
          50.5,
          52,
          52,
          52,
          46.5,
          53,
          53,
          46.5,
          53,
          56,
          56,
          56,
          56,
          53,
          62,
          62,
          61.5,
          61.5,
          62,
          24,
          24,
          24,
          24,
          24,
          25,
          25,
          25,
          25,
          25,
          25,
          26,
          26,
          26,
          27,
          27,
          28,
          28,
          28,
          29,
          29,
          29,
          30,
          30,
          31,
          32,
          32,
          33,
          33,
          33,
          33,
          33,
          34,
          34,
          34,
          34,
          34,
          35,
          35,
          36,
          36,
          37,
          37,
          37,
          38,
          38,
          38,
          38,
          39,
          39,
          39,
          40,
          41,
          41,
          42,
          42,
          42,
          42,
          43,
          43,
          44,
          44,
          49,
          52,
          53,
          57,
          58,
          59,
          60,
          69,
          72,
          81
         ],
         "xaxis": "x",
         "yaxis": "y"
        },
        {
         "alignmentgroup": "True",
         "hovertemplate": "hospital_length_of_stay=%{x}<extra></extra>",
         "legendgroup": "",
         "marker": {
          "color": "#636efa",
          "line": {
           "color": "black",
           "width": 1
          }
         },
         "name": "",
         "notched": true,
         "offsetgroup": "",
         "showlegend": false,
         "type": "box",
         "x": [
          13,
          11,
          4,
          13,
          9,
          19,
          8,
          4,
          5,
          8,
          13,
          8,
          3,
          9,
          8,
          8,
          2,
          7,
          23,
          6,
          8,
          2,
          17,
          7,
          4,
          8,
          7,
          5,
          9,
          10,
          15,
          22,
          6,
          4,
          9,
          10,
          11,
          18,
          19,
          8,
          2,
          4,
          4,
          2,
          3,
          7,
          3,
          10,
          17,
          16,
          5,
          13,
          3,
          3,
          2,
          8,
          8,
          14,
          4,
          2,
          8,
          3,
          8,
          8,
          13,
          10,
          3,
          5,
          2,
          15,
          1,
          14,
          19,
          7,
          2,
          21,
          8,
          10,
          21,
          2,
          3,
          12,
          7,
          10,
          8,
          10,
          28.5,
          28.5,
          40.5,
          28.5,
          28.5,
          29.5,
          29.5,
          29.5,
          32.5,
          29.5,
          30.5,
          25,
          30.5,
          30.5,
          25,
          30.5,
          46.5,
          46.5,
          30.5,
          30.5,
          28,
          28,
          28,
          26,
          28,
          31.5,
          31.5,
          31.5,
          31.5,
          31.5,
          29,
          41,
          41,
          29,
          41,
          37,
          37,
          37,
          37,
          33,
          25,
          25,
          25,
          25,
          25.5,
          25.5,
          25.5,
          25,
          25.5,
          25,
          32,
          32,
          32,
          32,
          32,
          33.5,
          34,
          33.5,
          34,
          33.5,
          25.5,
          25.5,
          25.5,
          25.5,
          25.5,
          28.5,
          28.5,
          29.46536610042676,
          33.76403645286337,
          28.5,
          31.5,
          39.5,
          31.5,
          31.5,
          39.5,
          33,
          33,
          29,
          29,
          29,
          26.5,
          26.5,
          26.5,
          26.5,
          36,
          26.5,
          28,
          28,
          28,
          28,
          29,
          29,
          36,
          29,
          29,
          31.5,
          31,
          31,
          31,
          31.5,
          55,
          32,
          55,
          55,
          32,
          33,
          33,
          35.5,
          33,
          33,
          36,
          36,
          36,
          36,
          36,
          29,
          31,
          29,
          29,
          31,
          35,
          28.5,
          28.5,
          28.5,
          35,
          52,
          52,
          35,
          35,
          52,
          31,
          30,
          31,
          30,
          30,
          33.5,
          33.5,
          33.5,
          33.5,
          33.5,
          37.5,
          35,
          35,
          35,
          37.5,
          45,
          45,
          29,
          45,
          45,
          37,
          37,
          37,
          37,
          37,
          34.5,
          34.5,
          34.5,
          42.5,
          42.5,
          33.5,
          33.5,
          31.5,
          31.5,
          33.5,
          36,
          36,
          36,
          36,
          36,
          36,
          36.5,
          36,
          36.5,
          36.5,
          43.5,
          37.5,
          37.5,
          43.5,
          43.5,
          36.5,
          36.5,
          32.5,
          32.5,
          36.5,
          29.5,
          29.5,
          29.5,
          29.5,
          29.5,
          38.5,
          38.5,
          38.5,
          38.5,
          38.5,
          37.5,
          37.5,
          37.5,
          37.5,
          37.5,
          35.1829185851384,
          27.00640282500535,
          32.29536083433777,
          30.40373642370105,
          35.78213859256357,
          39.5,
          39.5,
          35,
          35,
          39.5,
          33,
          40,
          40,
          33,
          33,
          30.5,
          30.5,
          30.5,
          30.5,
          30.5,
          36,
          36,
          36,
          39,
          39,
          36,
          36,
          39,
          39,
          36,
          38.5,
          38.5,
          31.5,
          31.5,
          31.5,
          38.5,
          38.5,
          38.5,
          38.5,
          31.5,
          38.5,
          38.5,
          38.5,
          38.5,
          38.5,
          31.5,
          37.5,
          31.5,
          31.5,
          31.5,
          33,
          33,
          33,
          35,
          35,
          39,
          39,
          39,
          39,
          39,
          38,
          38,
          38,
          41.5,
          41.5,
          45,
          33,
          33,
          33,
          33,
          37.5,
          33.5,
          33.5,
          33.5,
          33.5,
          61.5,
          61.5,
          61.5,
          41.5,
          61.5,
          38.5,
          41.5,
          41.5,
          38.5,
          41.5,
          34,
          41.5,
          34,
          34,
          41.5,
          62,
          42.5,
          62,
          62,
          62,
          40,
          38,
          38,
          40,
          40,
          38.5,
          52,
          38.5,
          52,
          52,
          34,
          36,
          36,
          34,
          34,
          37,
          37,
          37,
          37,
          37,
          39.5,
          44,
          44,
          39.5,
          39.5,
          47.5,
          47.5,
          47.5,
          67,
          67,
          58,
          58,
          41,
          58,
          58,
          41.5,
          41.5,
          48,
          48,
          48,
          41.5,
          58,
          58,
          41.5,
          58,
          50.5,
          50.5,
          52,
          52,
          52,
          46.5,
          53,
          53,
          46.5,
          53,
          56,
          56,
          56,
          56,
          53,
          62,
          62,
          61.5,
          61.5,
          62,
          24,
          24,
          24,
          24,
          24,
          25,
          25,
          25,
          25,
          25,
          25,
          26,
          26,
          26,
          27,
          27,
          28,
          28,
          28,
          29,
          29,
          29,
          30,
          30,
          31,
          32,
          32,
          33,
          33,
          33,
          33,
          33,
          34,
          34,
          34,
          34,
          34,
          35,
          35,
          36,
          36,
          37,
          37,
          37,
          38,
          38,
          38,
          38,
          39,
          39,
          39,
          40,
          41,
          41,
          42,
          42,
          42,
          42,
          43,
          43,
          44,
          44,
          49,
          52,
          53,
          57,
          58,
          59,
          60,
          69,
          72,
          81
         ],
         "xaxis": "x2",
         "yaxis": "y2"
        }
       ],
       "layout": {
        "barmode": "relative",
        "legend": {
         "tracegroupgap": 0
        },
        "template": {
         "data": {
          "bar": [
           {
            "error_x": {
             "color": "#2a3f5f"
            },
            "error_y": {
             "color": "#2a3f5f"
            },
            "marker": {
             "line": {
              "color": "#E5ECF6",
              "width": 0.5
             },
             "pattern": {
              "fillmode": "overlay",
              "size": 10,
              "solidity": 0.2
             }
            },
            "type": "bar"
           }
          ],
          "barpolar": [
           {
            "marker": {
             "line": {
              "color": "#E5ECF6",
              "width": 0.5
             },
             "pattern": {
              "fillmode": "overlay",
              "size": 10,
              "solidity": 0.2
             }
            },
            "type": "barpolar"
           }
          ],
          "carpet": [
           {
            "aaxis": {
             "endlinecolor": "#2a3f5f",
             "gridcolor": "white",
             "linecolor": "white",
             "minorgridcolor": "white",
             "startlinecolor": "#2a3f5f"
            },
            "baxis": {
             "endlinecolor": "#2a3f5f",
             "gridcolor": "white",
             "linecolor": "white",
             "minorgridcolor": "white",
             "startlinecolor": "#2a3f5f"
            },
            "type": "carpet"
           }
          ],
          "choropleth": [
           {
            "colorbar": {
             "outlinewidth": 0,
             "ticks": ""
            },
            "type": "choropleth"
           }
          ],
          "contour": [
           {
            "colorbar": {
             "outlinewidth": 0,
             "ticks": ""
            },
            "colorscale": [
             [
              0,
              "#0d0887"
             ],
             [
              0.1111111111111111,
              "#46039f"
             ],
             [
              0.2222222222222222,
              "#7201a8"
             ],
             [
              0.3333333333333333,
              "#9c179e"
             ],
             [
              0.4444444444444444,
              "#bd3786"
             ],
             [
              0.5555555555555556,
              "#d8576b"
             ],
             [
              0.6666666666666666,
              "#ed7953"
             ],
             [
              0.7777777777777778,
              "#fb9f3a"
             ],
             [
              0.8888888888888888,
              "#fdca26"
             ],
             [
              1,
              "#f0f921"
             ]
            ],
            "type": "contour"
           }
          ],
          "contourcarpet": [
           {
            "colorbar": {
             "outlinewidth": 0,
             "ticks": ""
            },
            "type": "contourcarpet"
           }
          ],
          "heatmap": [
           {
            "colorbar": {
             "outlinewidth": 0,
             "ticks": ""
            },
            "colorscale": [
             [
              0,
              "#0d0887"
             ],
             [
              0.1111111111111111,
              "#46039f"
             ],
             [
              0.2222222222222222,
              "#7201a8"
             ],
             [
              0.3333333333333333,
              "#9c179e"
             ],
             [
              0.4444444444444444,
              "#bd3786"
             ],
             [
              0.5555555555555556,
              "#d8576b"
             ],
             [
              0.6666666666666666,
              "#ed7953"
             ],
             [
              0.7777777777777778,
              "#fb9f3a"
             ],
             [
              0.8888888888888888,
              "#fdca26"
             ],
             [
              1,
              "#f0f921"
             ]
            ],
            "type": "heatmap"
           }
          ],
          "heatmapgl": [
           {
            "colorbar": {
             "outlinewidth": 0,
             "ticks": ""
            },
            "colorscale": [
             [
              0,
              "#0d0887"
             ],
             [
              0.1111111111111111,
              "#46039f"
             ],
             [
              0.2222222222222222,
              "#7201a8"
             ],
             [
              0.3333333333333333,
              "#9c179e"
             ],
             [
              0.4444444444444444,
              "#bd3786"
             ],
             [
              0.5555555555555556,
              "#d8576b"
             ],
             [
              0.6666666666666666,
              "#ed7953"
             ],
             [
              0.7777777777777778,
              "#fb9f3a"
             ],
             [
              0.8888888888888888,
              "#fdca26"
             ],
             [
              1,
              "#f0f921"
             ]
            ],
            "type": "heatmapgl"
           }
          ],
          "histogram": [
           {
            "marker": {
             "pattern": {
              "fillmode": "overlay",
              "size": 10,
              "solidity": 0.2
             }
            },
            "type": "histogram"
           }
          ],
          "histogram2d": [
           {
            "colorbar": {
             "outlinewidth": 0,
             "ticks": ""
            },
            "colorscale": [
             [
              0,
              "#0d0887"
             ],
             [
              0.1111111111111111,
              "#46039f"
             ],
             [
              0.2222222222222222,
              "#7201a8"
             ],
             [
              0.3333333333333333,
              "#9c179e"
             ],
             [
              0.4444444444444444,
              "#bd3786"
             ],
             [
              0.5555555555555556,
              "#d8576b"
             ],
             [
              0.6666666666666666,
              "#ed7953"
             ],
             [
              0.7777777777777778,
              "#fb9f3a"
             ],
             [
              0.8888888888888888,
              "#fdca26"
             ],
             [
              1,
              "#f0f921"
             ]
            ],
            "type": "histogram2d"
           }
          ],
          "histogram2dcontour": [
           {
            "colorbar": {
             "outlinewidth": 0,
             "ticks": ""
            },
            "colorscale": [
             [
              0,
              "#0d0887"
             ],
             [
              0.1111111111111111,
              "#46039f"
             ],
             [
              0.2222222222222222,
              "#7201a8"
             ],
             [
              0.3333333333333333,
              "#9c179e"
             ],
             [
              0.4444444444444444,
              "#bd3786"
             ],
             [
              0.5555555555555556,
              "#d8576b"
             ],
             [
              0.6666666666666666,
              "#ed7953"
             ],
             [
              0.7777777777777778,
              "#fb9f3a"
             ],
             [
              0.8888888888888888,
              "#fdca26"
             ],
             [
              1,
              "#f0f921"
             ]
            ],
            "type": "histogram2dcontour"
           }
          ],
          "mesh3d": [
           {
            "colorbar": {
             "outlinewidth": 0,
             "ticks": ""
            },
            "type": "mesh3d"
           }
          ],
          "parcoords": [
           {
            "line": {
             "colorbar": {
              "outlinewidth": 0,
              "ticks": ""
             }
            },
            "type": "parcoords"
           }
          ],
          "pie": [
           {
            "automargin": true,
            "type": "pie"
           }
          ],
          "scatter": [
           {
            "fillpattern": {
             "fillmode": "overlay",
             "size": 10,
             "solidity": 0.2
            },
            "type": "scatter"
           }
          ],
          "scatter3d": [
           {
            "line": {
             "colorbar": {
              "outlinewidth": 0,
              "ticks": ""
             }
            },
            "marker": {
             "colorbar": {
              "outlinewidth": 0,
              "ticks": ""
             }
            },
            "type": "scatter3d"
           }
          ],
          "scattercarpet": [
           {
            "marker": {
             "colorbar": {
              "outlinewidth": 0,
              "ticks": ""
             }
            },
            "type": "scattercarpet"
           }
          ],
          "scattergeo": [
           {
            "marker": {
             "colorbar": {
              "outlinewidth": 0,
              "ticks": ""
             }
            },
            "type": "scattergeo"
           }
          ],
          "scattergl": [
           {
            "marker": {
             "colorbar": {
              "outlinewidth": 0,
              "ticks": ""
             }
            },
            "type": "scattergl"
           }
          ],
          "scattermapbox": [
           {
            "marker": {
             "colorbar": {
              "outlinewidth": 0,
              "ticks": ""
             }
            },
            "type": "scattermapbox"
           }
          ],
          "scatterpolar": [
           {
            "marker": {
             "colorbar": {
              "outlinewidth": 0,
              "ticks": ""
             }
            },
            "type": "scatterpolar"
           }
          ],
          "scatterpolargl": [
           {
            "marker": {
             "colorbar": {
              "outlinewidth": 0,
              "ticks": ""
             }
            },
            "type": "scatterpolargl"
           }
          ],
          "scatterternary": [
           {
            "marker": {
             "colorbar": {
              "outlinewidth": 0,
              "ticks": ""
             }
            },
            "type": "scatterternary"
           }
          ],
          "surface": [
           {
            "colorbar": {
             "outlinewidth": 0,
             "ticks": ""
            },
            "colorscale": [
             [
              0,
              "#0d0887"
             ],
             [
              0.1111111111111111,
              "#46039f"
             ],
             [
              0.2222222222222222,
              "#7201a8"
             ],
             [
              0.3333333333333333,
              "#9c179e"
             ],
             [
              0.4444444444444444,
              "#bd3786"
             ],
             [
              0.5555555555555556,
              "#d8576b"
             ],
             [
              0.6666666666666666,
              "#ed7953"
             ],
             [
              0.7777777777777778,
              "#fb9f3a"
             ],
             [
              0.8888888888888888,
              "#fdca26"
             ],
             [
              1,
              "#f0f921"
             ]
            ],
            "type": "surface"
           }
          ],
          "table": [
           {
            "cells": {
             "fill": {
              "color": "#EBF0F8"
             },
             "line": {
              "color": "white"
             }
            },
            "header": {
             "fill": {
              "color": "#C8D4E3"
             },
             "line": {
              "color": "white"
             }
            },
            "type": "table"
           }
          ]
         },
         "layout": {
          "annotationdefaults": {
           "arrowcolor": "#2a3f5f",
           "arrowhead": 0,
           "arrowwidth": 1
          },
          "autotypenumbers": "strict",
          "coloraxis": {
           "colorbar": {
            "outlinewidth": 0,
            "ticks": ""
           }
          },
          "colorscale": {
           "diverging": [
            [
             0,
             "#8e0152"
            ],
            [
             0.1,
             "#c51b7d"
            ],
            [
             0.2,
             "#de77ae"
            ],
            [
             0.3,
             "#f1b6da"
            ],
            [
             0.4,
             "#fde0ef"
            ],
            [
             0.5,
             "#f7f7f7"
            ],
            [
             0.6,
             "#e6f5d0"
            ],
            [
             0.7,
             "#b8e186"
            ],
            [
             0.8,
             "#7fbc41"
            ],
            [
             0.9,
             "#4d9221"
            ],
            [
             1,
             "#276419"
            ]
           ],
           "sequential": [
            [
             0,
             "#0d0887"
            ],
            [
             0.1111111111111111,
             "#46039f"
            ],
            [
             0.2222222222222222,
             "#7201a8"
            ],
            [
             0.3333333333333333,
             "#9c179e"
            ],
            [
             0.4444444444444444,
             "#bd3786"
            ],
            [
             0.5555555555555556,
             "#d8576b"
            ],
            [
             0.6666666666666666,
             "#ed7953"
            ],
            [
             0.7777777777777778,
             "#fb9f3a"
            ],
            [
             0.8888888888888888,
             "#fdca26"
            ],
            [
             1,
             "#f0f921"
            ]
           ],
           "sequentialminus": [
            [
             0,
             "#0d0887"
            ],
            [
             0.1111111111111111,
             "#46039f"
            ],
            [
             0.2222222222222222,
             "#7201a8"
            ],
            [
             0.3333333333333333,
             "#9c179e"
            ],
            [
             0.4444444444444444,
             "#bd3786"
            ],
            [
             0.5555555555555556,
             "#d8576b"
            ],
            [
             0.6666666666666666,
             "#ed7953"
            ],
            [
             0.7777777777777778,
             "#fb9f3a"
            ],
            [
             0.8888888888888888,
             "#fdca26"
            ],
            [
             1,
             "#f0f921"
            ]
           ]
          },
          "colorway": [
           "#636efa",
           "#EF553B",
           "#00cc96",
           "#ab63fa",
           "#FFA15A",
           "#19d3f3",
           "#FF6692",
           "#B6E880",
           "#FF97FF",
           "#FECB52"
          ],
          "font": {
           "color": "#2a3f5f"
          },
          "geo": {
           "bgcolor": "white",
           "lakecolor": "white",
           "landcolor": "#E5ECF6",
           "showlakes": true,
           "showland": true,
           "subunitcolor": "white"
          },
          "hoverlabel": {
           "align": "left"
          },
          "hovermode": "closest",
          "mapbox": {
           "style": "light"
          },
          "paper_bgcolor": "white",
          "plot_bgcolor": "#E5ECF6",
          "polar": {
           "angularaxis": {
            "gridcolor": "white",
            "linecolor": "white",
            "ticks": ""
           },
           "bgcolor": "#E5ECF6",
           "radialaxis": {
            "gridcolor": "white",
            "linecolor": "white",
            "ticks": ""
           }
          },
          "scene": {
           "xaxis": {
            "backgroundcolor": "#E5ECF6",
            "gridcolor": "white",
            "gridwidth": 2,
            "linecolor": "white",
            "showbackground": true,
            "ticks": "",
            "zerolinecolor": "white"
           },
           "yaxis": {
            "backgroundcolor": "#E5ECF6",
            "gridcolor": "white",
            "gridwidth": 2,
            "linecolor": "white",
            "showbackground": true,
            "ticks": "",
            "zerolinecolor": "white"
           },
           "zaxis": {
            "backgroundcolor": "#E5ECF6",
            "gridcolor": "white",
            "gridwidth": 2,
            "linecolor": "white",
            "showbackground": true,
            "ticks": "",
            "zerolinecolor": "white"
           }
          },
          "shapedefaults": {
           "line": {
            "color": "#2a3f5f"
           }
          },
          "ternary": {
           "aaxis": {
            "gridcolor": "white",
            "linecolor": "white",
            "ticks": ""
           },
           "baxis": {
            "gridcolor": "white",
            "linecolor": "white",
            "ticks": ""
           },
           "bgcolor": "#E5ECF6",
           "caxis": {
            "gridcolor": "white",
            "linecolor": "white",
            "ticks": ""
           }
          },
          "title": {
           "x": 0.05
          },
          "xaxis": {
           "automargin": true,
           "gridcolor": "white",
           "linecolor": "white",
           "ticks": "",
           "title": {
            "standoff": 15
           },
           "zerolinecolor": "white",
           "zerolinewidth": 2
          },
          "yaxis": {
           "automargin": true,
           "gridcolor": "white",
           "linecolor": "white",
           "ticks": "",
           "title": {
            "standoff": 15
           },
           "zerolinecolor": "white",
           "zerolinewidth": 2
          }
         }
        },
        "title": {
         "text": "Hospital Length of Stay Distribution (Seed326_thr0.77_perc0.2)"
        },
        "xaxis": {
         "anchor": "y",
         "domain": [
          0,
          1
         ],
         "title": {
          "text": "hospital_length_of_stay"
         }
        },
        "xaxis2": {
         "anchor": "y2",
         "domain": [
          0,
          1
         ],
         "matches": "x",
         "showgrid": true,
         "showticklabels": false
        },
        "yaxis": {
         "anchor": "x",
         "domain": [
          0,
          0.8316
         ],
         "title": {
          "text": "density"
         }
        },
        "yaxis2": {
         "anchor": "x2",
         "domain": [
          0.8416,
          1
         ],
         "matches": "y2",
         "showgrid": false,
         "showline": false,
         "showticklabels": false,
         "ticks": ""
        }
       }
      },
      "text/html": [
       "<div>                            <div id=\"c3e774d9-f054-453a-9c6a-ffd543a5a87a\" class=\"plotly-graph-div\" style=\"height:525px; width:100%;\"></div>            <script type=\"text/javascript\">                require([\"plotly\"], function(Plotly) {                    window.PLOTLYENV=window.PLOTLYENV || {};                                    if (document.getElementById(\"c3e774d9-f054-453a-9c6a-ffd543a5a87a\")) {                    Plotly.newPlot(                        \"c3e774d9-f054-453a-9c6a-ffd543a5a87a\",                        [{\"alignmentgroup\":\"True\",\"bingroup\":\"x\",\"histnorm\":\"density\",\"hovertemplate\":\"hospital_length_of_stay=%{x}<br>density=%{y}<extra></extra>\",\"legendgroup\":\"\",\"marker\":{\"color\":\"#636efa\",\"pattern\":{\"shape\":\"\"},\"line\":{\"color\":\"black\",\"width\":1}},\"name\":\"\",\"nbinsx\":10,\"offsetgroup\":\"\",\"orientation\":\"v\",\"showlegend\":false,\"x\":[13.0,11.0,4.0,13.0,9.0,19.0,8.0,4.0,5.0,8.0,13.0,8.0,3.0,9.0,8.0,8.0,2.0,7.0,23.0,6.0,8.0,2.0,17.0,7.0,4.0,8.0,7.0,5.0,9.0,10.0,15.0,22.0,6.0,4.0,9.0,10.0,11.0,18.0,19.0,8.0,2.0,4.0,4.0,2.0,3.0,7.0,3.0,10.0,17.0,16.0,5.0,13.0,3.0,3.0,2.0,8.0,8.0,14.0,4.0,2.0,8.0,3.0,8.0,8.0,13.0,10.0,3.0,5.0,2.0,15.0,1.0,14.0,19.0,7.0,2.0,21.0,8.0,10.0,21.0,2.0,3.0,12.0,7.0,10.0,8.0,10.0,28.5,28.5,40.5,28.5,28.5,29.5,29.5,29.5,32.5,29.5,30.5,25.0,30.5,30.5,25.0,30.5,46.5,46.5,30.5,30.5,28.0,28.0,28.0,26.0,28.0,31.5,31.5,31.5,31.5,31.5,29.0,41.0,41.0,29.0,41.0,37.0,37.0,37.0,37.0,33.0,25.0,25.0,25.0,25.0,25.5,25.5,25.5,25.0,25.5,25.0,32.0,32.0,32.0,32.0,32.0,33.5,34.0,33.5,34.0,33.5,25.5,25.5,25.5,25.5,25.5,28.5,28.5,29.46536610042676,33.76403645286337,28.5,31.5,39.5,31.5,31.5,39.5,33.0,33.0,29.0,29.0,29.0,26.5,26.5,26.5,26.5,36.0,26.5,28.0,28.0,28.0,28.0,29.0,29.0,36.0,29.0,29.0,31.5,31.0,31.0,31.0,31.5,55.0,32.0,55.0,55.0,32.0,33.0,33.0,35.5,33.0,33.0,36.0,36.0,36.0,36.0,36.0,29.0,31.0,29.0,29.0,31.0,35.0,28.5,28.5,28.5,35.0,52.0,52.0,35.0,35.0,52.0,31.0,30.0,31.0,30.0,30.0,33.5,33.5,33.5,33.5,33.5,37.5,35.0,35.0,35.0,37.5,45.0,45.0,29.0,45.0,45.0,37.0,37.0,37.0,37.0,37.0,34.5,34.5,34.5,42.5,42.5,33.5,33.5,31.5,31.5,33.5,36.0,36.0,36.0,36.0,36.0,36.0,36.5,36.0,36.5,36.5,43.5,37.5,37.5,43.5,43.5,36.5,36.5,32.5,32.5,36.5,29.5,29.5,29.5,29.5,29.5,38.5,38.5,38.5,38.5,38.5,37.5,37.5,37.5,37.5,37.5,35.1829185851384,27.00640282500535,32.29536083433777,30.40373642370105,35.78213859256357,39.5,39.5,35.0,35.0,39.5,33.0,40.0,40.0,33.0,33.0,30.5,30.5,30.5,30.5,30.5,36.0,36.0,36.0,39.0,39.0,36.0,36.0,39.0,39.0,36.0,38.5,38.5,31.5,31.5,31.5,38.5,38.5,38.5,38.5,31.5,38.5,38.5,38.5,38.5,38.5,31.5,37.5,31.5,31.5,31.5,33.0,33.0,33.0,35.0,35.0,39.0,39.0,39.0,39.0,39.0,38.0,38.0,38.0,41.5,41.5,45.0,33.0,33.0,33.0,33.0,37.5,33.5,33.5,33.5,33.5,61.5,61.5,61.5,41.5,61.5,38.5,41.5,41.5,38.5,41.5,34.0,41.5,34.0,34.0,41.5,62.0,42.5,62.0,62.0,62.0,40.0,38.0,38.0,40.0,40.0,38.5,52.0,38.5,52.0,52.0,34.0,36.0,36.0,34.0,34.0,37.0,37.0,37.0,37.0,37.0,39.5,44.0,44.0,39.5,39.5,47.5,47.5,47.5,67.0,67.0,58.0,58.0,41.0,58.0,58.0,41.5,41.5,48.0,48.0,48.0,41.5,58.0,58.0,41.5,58.0,50.5,50.5,52.0,52.0,52.0,46.5,53.0,53.0,46.5,53.0,56.0,56.0,56.0,56.0,53.0,62.0,62.0,61.5,61.5,62.0,24.0,24.0,24.0,24.0,24.0,25.0,25.0,25.0,25.0,25.0,25.0,26.0,26.0,26.0,27.0,27.0,28.0,28.0,28.0,29.0,29.0,29.0,30.0,30.0,31.0,32.0,32.0,33.0,33.0,33.0,33.0,33.0,34.0,34.0,34.0,34.0,34.0,35.0,35.0,36.0,36.0,37.0,37.0,37.0,38.0,38.0,38.0,38.0,39.0,39.0,39.0,40.0,41.0,41.0,42.0,42.0,42.0,42.0,43.0,43.0,44.0,44.0,49.0,52.0,53.0,57.0,58.0,59.0,60.0,69.0,72.0,81.0],\"xaxis\":\"x\",\"yaxis\":\"y\",\"type\":\"histogram\"},{\"alignmentgroup\":\"True\",\"hovertemplate\":\"hospital_length_of_stay=%{x}<extra></extra>\",\"legendgroup\":\"\",\"marker\":{\"color\":\"#636efa\",\"line\":{\"color\":\"black\",\"width\":1}},\"name\":\"\",\"notched\":true,\"offsetgroup\":\"\",\"showlegend\":false,\"x\":[13.0,11.0,4.0,13.0,9.0,19.0,8.0,4.0,5.0,8.0,13.0,8.0,3.0,9.0,8.0,8.0,2.0,7.0,23.0,6.0,8.0,2.0,17.0,7.0,4.0,8.0,7.0,5.0,9.0,10.0,15.0,22.0,6.0,4.0,9.0,10.0,11.0,18.0,19.0,8.0,2.0,4.0,4.0,2.0,3.0,7.0,3.0,10.0,17.0,16.0,5.0,13.0,3.0,3.0,2.0,8.0,8.0,14.0,4.0,2.0,8.0,3.0,8.0,8.0,13.0,10.0,3.0,5.0,2.0,15.0,1.0,14.0,19.0,7.0,2.0,21.0,8.0,10.0,21.0,2.0,3.0,12.0,7.0,10.0,8.0,10.0,28.5,28.5,40.5,28.5,28.5,29.5,29.5,29.5,32.5,29.5,30.5,25.0,30.5,30.5,25.0,30.5,46.5,46.5,30.5,30.5,28.0,28.0,28.0,26.0,28.0,31.5,31.5,31.5,31.5,31.5,29.0,41.0,41.0,29.0,41.0,37.0,37.0,37.0,37.0,33.0,25.0,25.0,25.0,25.0,25.5,25.5,25.5,25.0,25.5,25.0,32.0,32.0,32.0,32.0,32.0,33.5,34.0,33.5,34.0,33.5,25.5,25.5,25.5,25.5,25.5,28.5,28.5,29.46536610042676,33.76403645286337,28.5,31.5,39.5,31.5,31.5,39.5,33.0,33.0,29.0,29.0,29.0,26.5,26.5,26.5,26.5,36.0,26.5,28.0,28.0,28.0,28.0,29.0,29.0,36.0,29.0,29.0,31.5,31.0,31.0,31.0,31.5,55.0,32.0,55.0,55.0,32.0,33.0,33.0,35.5,33.0,33.0,36.0,36.0,36.0,36.0,36.0,29.0,31.0,29.0,29.0,31.0,35.0,28.5,28.5,28.5,35.0,52.0,52.0,35.0,35.0,52.0,31.0,30.0,31.0,30.0,30.0,33.5,33.5,33.5,33.5,33.5,37.5,35.0,35.0,35.0,37.5,45.0,45.0,29.0,45.0,45.0,37.0,37.0,37.0,37.0,37.0,34.5,34.5,34.5,42.5,42.5,33.5,33.5,31.5,31.5,33.5,36.0,36.0,36.0,36.0,36.0,36.0,36.5,36.0,36.5,36.5,43.5,37.5,37.5,43.5,43.5,36.5,36.5,32.5,32.5,36.5,29.5,29.5,29.5,29.5,29.5,38.5,38.5,38.5,38.5,38.5,37.5,37.5,37.5,37.5,37.5,35.1829185851384,27.00640282500535,32.29536083433777,30.40373642370105,35.78213859256357,39.5,39.5,35.0,35.0,39.5,33.0,40.0,40.0,33.0,33.0,30.5,30.5,30.5,30.5,30.5,36.0,36.0,36.0,39.0,39.0,36.0,36.0,39.0,39.0,36.0,38.5,38.5,31.5,31.5,31.5,38.5,38.5,38.5,38.5,31.5,38.5,38.5,38.5,38.5,38.5,31.5,37.5,31.5,31.5,31.5,33.0,33.0,33.0,35.0,35.0,39.0,39.0,39.0,39.0,39.0,38.0,38.0,38.0,41.5,41.5,45.0,33.0,33.0,33.0,33.0,37.5,33.5,33.5,33.5,33.5,61.5,61.5,61.5,41.5,61.5,38.5,41.5,41.5,38.5,41.5,34.0,41.5,34.0,34.0,41.5,62.0,42.5,62.0,62.0,62.0,40.0,38.0,38.0,40.0,40.0,38.5,52.0,38.5,52.0,52.0,34.0,36.0,36.0,34.0,34.0,37.0,37.0,37.0,37.0,37.0,39.5,44.0,44.0,39.5,39.5,47.5,47.5,47.5,67.0,67.0,58.0,58.0,41.0,58.0,58.0,41.5,41.5,48.0,48.0,48.0,41.5,58.0,58.0,41.5,58.0,50.5,50.5,52.0,52.0,52.0,46.5,53.0,53.0,46.5,53.0,56.0,56.0,56.0,56.0,53.0,62.0,62.0,61.5,61.5,62.0,24.0,24.0,24.0,24.0,24.0,25.0,25.0,25.0,25.0,25.0,25.0,26.0,26.0,26.0,27.0,27.0,28.0,28.0,28.0,29.0,29.0,29.0,30.0,30.0,31.0,32.0,32.0,33.0,33.0,33.0,33.0,33.0,34.0,34.0,34.0,34.0,34.0,35.0,35.0,36.0,36.0,37.0,37.0,37.0,38.0,38.0,38.0,38.0,39.0,39.0,39.0,40.0,41.0,41.0,42.0,42.0,42.0,42.0,43.0,43.0,44.0,44.0,49.0,52.0,53.0,57.0,58.0,59.0,60.0,69.0,72.0,81.0],\"xaxis\":\"x2\",\"yaxis\":\"y2\",\"type\":\"box\"}],                        {\"template\":{\"data\":{\"histogram2dcontour\":[{\"type\":\"histogram2dcontour\",\"colorbar\":{\"outlinewidth\":0,\"ticks\":\"\"},\"colorscale\":[[0.0,\"#0d0887\"],[0.1111111111111111,\"#46039f\"],[0.2222222222222222,\"#7201a8\"],[0.3333333333333333,\"#9c179e\"],[0.4444444444444444,\"#bd3786\"],[0.5555555555555556,\"#d8576b\"],[0.6666666666666666,\"#ed7953\"],[0.7777777777777778,\"#fb9f3a\"],[0.8888888888888888,\"#fdca26\"],[1.0,\"#f0f921\"]]}],\"choropleth\":[{\"type\":\"choropleth\",\"colorbar\":{\"outlinewidth\":0,\"ticks\":\"\"}}],\"histogram2d\":[{\"type\":\"histogram2d\",\"colorbar\":{\"outlinewidth\":0,\"ticks\":\"\"},\"colorscale\":[[0.0,\"#0d0887\"],[0.1111111111111111,\"#46039f\"],[0.2222222222222222,\"#7201a8\"],[0.3333333333333333,\"#9c179e\"],[0.4444444444444444,\"#bd3786\"],[0.5555555555555556,\"#d8576b\"],[0.6666666666666666,\"#ed7953\"],[0.7777777777777778,\"#fb9f3a\"],[0.8888888888888888,\"#fdca26\"],[1.0,\"#f0f921\"]]}],\"heatmap\":[{\"type\":\"heatmap\",\"colorbar\":{\"outlinewidth\":0,\"ticks\":\"\"},\"colorscale\":[[0.0,\"#0d0887\"],[0.1111111111111111,\"#46039f\"],[0.2222222222222222,\"#7201a8\"],[0.3333333333333333,\"#9c179e\"],[0.4444444444444444,\"#bd3786\"],[0.5555555555555556,\"#d8576b\"],[0.6666666666666666,\"#ed7953\"],[0.7777777777777778,\"#fb9f3a\"],[0.8888888888888888,\"#fdca26\"],[1.0,\"#f0f921\"]]}],\"heatmapgl\":[{\"type\":\"heatmapgl\",\"colorbar\":{\"outlinewidth\":0,\"ticks\":\"\"},\"colorscale\":[[0.0,\"#0d0887\"],[0.1111111111111111,\"#46039f\"],[0.2222222222222222,\"#7201a8\"],[0.3333333333333333,\"#9c179e\"],[0.4444444444444444,\"#bd3786\"],[0.5555555555555556,\"#d8576b\"],[0.6666666666666666,\"#ed7953\"],[0.7777777777777778,\"#fb9f3a\"],[0.8888888888888888,\"#fdca26\"],[1.0,\"#f0f921\"]]}],\"contourcarpet\":[{\"type\":\"contourcarpet\",\"colorbar\":{\"outlinewidth\":0,\"ticks\":\"\"}}],\"contour\":[{\"type\":\"contour\",\"colorbar\":{\"outlinewidth\":0,\"ticks\":\"\"},\"colorscale\":[[0.0,\"#0d0887\"],[0.1111111111111111,\"#46039f\"],[0.2222222222222222,\"#7201a8\"],[0.3333333333333333,\"#9c179e\"],[0.4444444444444444,\"#bd3786\"],[0.5555555555555556,\"#d8576b\"],[0.6666666666666666,\"#ed7953\"],[0.7777777777777778,\"#fb9f3a\"],[0.8888888888888888,\"#fdca26\"],[1.0,\"#f0f921\"]]}],\"surface\":[{\"type\":\"surface\",\"colorbar\":{\"outlinewidth\":0,\"ticks\":\"\"},\"colorscale\":[[0.0,\"#0d0887\"],[0.1111111111111111,\"#46039f\"],[0.2222222222222222,\"#7201a8\"],[0.3333333333333333,\"#9c179e\"],[0.4444444444444444,\"#bd3786\"],[0.5555555555555556,\"#d8576b\"],[0.6666666666666666,\"#ed7953\"],[0.7777777777777778,\"#fb9f3a\"],[0.8888888888888888,\"#fdca26\"],[1.0,\"#f0f921\"]]}],\"mesh3d\":[{\"type\":\"mesh3d\",\"colorbar\":{\"outlinewidth\":0,\"ticks\":\"\"}}],\"scatter\":[{\"fillpattern\":{\"fillmode\":\"overlay\",\"size\":10,\"solidity\":0.2},\"type\":\"scatter\"}],\"parcoords\":[{\"type\":\"parcoords\",\"line\":{\"colorbar\":{\"outlinewidth\":0,\"ticks\":\"\"}}}],\"scatterpolargl\":[{\"type\":\"scatterpolargl\",\"marker\":{\"colorbar\":{\"outlinewidth\":0,\"ticks\":\"\"}}}],\"bar\":[{\"error_x\":{\"color\":\"#2a3f5f\"},\"error_y\":{\"color\":\"#2a3f5f\"},\"marker\":{\"line\":{\"color\":\"#E5ECF6\",\"width\":0.5},\"pattern\":{\"fillmode\":\"overlay\",\"size\":10,\"solidity\":0.2}},\"type\":\"bar\"}],\"scattergeo\":[{\"type\":\"scattergeo\",\"marker\":{\"colorbar\":{\"outlinewidth\":0,\"ticks\":\"\"}}}],\"scatterpolar\":[{\"type\":\"scatterpolar\",\"marker\":{\"colorbar\":{\"outlinewidth\":0,\"ticks\":\"\"}}}],\"histogram\":[{\"marker\":{\"pattern\":{\"fillmode\":\"overlay\",\"size\":10,\"solidity\":0.2}},\"type\":\"histogram\"}],\"scattergl\":[{\"type\":\"scattergl\",\"marker\":{\"colorbar\":{\"outlinewidth\":0,\"ticks\":\"\"}}}],\"scatter3d\":[{\"type\":\"scatter3d\",\"line\":{\"colorbar\":{\"outlinewidth\":0,\"ticks\":\"\"}},\"marker\":{\"colorbar\":{\"outlinewidth\":0,\"ticks\":\"\"}}}],\"scattermapbox\":[{\"type\":\"scattermapbox\",\"marker\":{\"colorbar\":{\"outlinewidth\":0,\"ticks\":\"\"}}}],\"scatterternary\":[{\"type\":\"scatterternary\",\"marker\":{\"colorbar\":{\"outlinewidth\":0,\"ticks\":\"\"}}}],\"scattercarpet\":[{\"type\":\"scattercarpet\",\"marker\":{\"colorbar\":{\"outlinewidth\":0,\"ticks\":\"\"}}}],\"carpet\":[{\"aaxis\":{\"endlinecolor\":\"#2a3f5f\",\"gridcolor\":\"white\",\"linecolor\":\"white\",\"minorgridcolor\":\"white\",\"startlinecolor\":\"#2a3f5f\"},\"baxis\":{\"endlinecolor\":\"#2a3f5f\",\"gridcolor\":\"white\",\"linecolor\":\"white\",\"minorgridcolor\":\"white\",\"startlinecolor\":\"#2a3f5f\"},\"type\":\"carpet\"}],\"table\":[{\"cells\":{\"fill\":{\"color\":\"#EBF0F8\"},\"line\":{\"color\":\"white\"}},\"header\":{\"fill\":{\"color\":\"#C8D4E3\"},\"line\":{\"color\":\"white\"}},\"type\":\"table\"}],\"barpolar\":[{\"marker\":{\"line\":{\"color\":\"#E5ECF6\",\"width\":0.5},\"pattern\":{\"fillmode\":\"overlay\",\"size\":10,\"solidity\":0.2}},\"type\":\"barpolar\"}],\"pie\":[{\"automargin\":true,\"type\":\"pie\"}]},\"layout\":{\"autotypenumbers\":\"strict\",\"colorway\":[\"#636efa\",\"#EF553B\",\"#00cc96\",\"#ab63fa\",\"#FFA15A\",\"#19d3f3\",\"#FF6692\",\"#B6E880\",\"#FF97FF\",\"#FECB52\"],\"font\":{\"color\":\"#2a3f5f\"},\"hovermode\":\"closest\",\"hoverlabel\":{\"align\":\"left\"},\"paper_bgcolor\":\"white\",\"plot_bgcolor\":\"#E5ECF6\",\"polar\":{\"bgcolor\":\"#E5ECF6\",\"angularaxis\":{\"gridcolor\":\"white\",\"linecolor\":\"white\",\"ticks\":\"\"},\"radialaxis\":{\"gridcolor\":\"white\",\"linecolor\":\"white\",\"ticks\":\"\"}},\"ternary\":{\"bgcolor\":\"#E5ECF6\",\"aaxis\":{\"gridcolor\":\"white\",\"linecolor\":\"white\",\"ticks\":\"\"},\"baxis\":{\"gridcolor\":\"white\",\"linecolor\":\"white\",\"ticks\":\"\"},\"caxis\":{\"gridcolor\":\"white\",\"linecolor\":\"white\",\"ticks\":\"\"}},\"coloraxis\":{\"colorbar\":{\"outlinewidth\":0,\"ticks\":\"\"}},\"colorscale\":{\"sequential\":[[0.0,\"#0d0887\"],[0.1111111111111111,\"#46039f\"],[0.2222222222222222,\"#7201a8\"],[0.3333333333333333,\"#9c179e\"],[0.4444444444444444,\"#bd3786\"],[0.5555555555555556,\"#d8576b\"],[0.6666666666666666,\"#ed7953\"],[0.7777777777777778,\"#fb9f3a\"],[0.8888888888888888,\"#fdca26\"],[1.0,\"#f0f921\"]],\"sequentialminus\":[[0.0,\"#0d0887\"],[0.1111111111111111,\"#46039f\"],[0.2222222222222222,\"#7201a8\"],[0.3333333333333333,\"#9c179e\"],[0.4444444444444444,\"#bd3786\"],[0.5555555555555556,\"#d8576b\"],[0.6666666666666666,\"#ed7953\"],[0.7777777777777778,\"#fb9f3a\"],[0.8888888888888888,\"#fdca26\"],[1.0,\"#f0f921\"]],\"diverging\":[[0,\"#8e0152\"],[0.1,\"#c51b7d\"],[0.2,\"#de77ae\"],[0.3,\"#f1b6da\"],[0.4,\"#fde0ef\"],[0.5,\"#f7f7f7\"],[0.6,\"#e6f5d0\"],[0.7,\"#b8e186\"],[0.8,\"#7fbc41\"],[0.9,\"#4d9221\"],[1,\"#276419\"]]},\"xaxis\":{\"gridcolor\":\"white\",\"linecolor\":\"white\",\"ticks\":\"\",\"title\":{\"standoff\":15},\"zerolinecolor\":\"white\",\"automargin\":true,\"zerolinewidth\":2},\"yaxis\":{\"gridcolor\":\"white\",\"linecolor\":\"white\",\"ticks\":\"\",\"title\":{\"standoff\":15},\"zerolinecolor\":\"white\",\"automargin\":true,\"zerolinewidth\":2},\"scene\":{\"xaxis\":{\"backgroundcolor\":\"#E5ECF6\",\"gridcolor\":\"white\",\"linecolor\":\"white\",\"showbackground\":true,\"ticks\":\"\",\"zerolinecolor\":\"white\",\"gridwidth\":2},\"yaxis\":{\"backgroundcolor\":\"#E5ECF6\",\"gridcolor\":\"white\",\"linecolor\":\"white\",\"showbackground\":true,\"ticks\":\"\",\"zerolinecolor\":\"white\",\"gridwidth\":2},\"zaxis\":{\"backgroundcolor\":\"#E5ECF6\",\"gridcolor\":\"white\",\"linecolor\":\"white\",\"showbackground\":true,\"ticks\":\"\",\"zerolinecolor\":\"white\",\"gridwidth\":2}},\"shapedefaults\":{\"line\":{\"color\":\"#2a3f5f\"}},\"annotationdefaults\":{\"arrowcolor\":\"#2a3f5f\",\"arrowhead\":0,\"arrowwidth\":1},\"geo\":{\"bgcolor\":\"white\",\"landcolor\":\"#E5ECF6\",\"subunitcolor\":\"white\",\"showland\":true,\"showlakes\":true,\"lakecolor\":\"white\"},\"title\":{\"x\":0.05},\"mapbox\":{\"style\":\"light\"}}},\"xaxis\":{\"anchor\":\"y\",\"domain\":[0.0,1.0],\"title\":{\"text\":\"hospital_length_of_stay\"}},\"yaxis\":{\"anchor\":\"x\",\"domain\":[0.0,0.8316],\"title\":{\"text\":\"density\"}},\"xaxis2\":{\"anchor\":\"y2\",\"domain\":[0.0,1.0],\"matches\":\"x\",\"showticklabels\":false,\"showgrid\":true},\"yaxis2\":{\"anchor\":\"x2\",\"domain\":[0.8416,1.0],\"matches\":\"y2\",\"showticklabels\":false,\"showline\":false,\"ticks\":\"\",\"showgrid\":false},\"legend\":{\"tracegroupgap\":0},\"title\":{\"text\":\"Hospital Length of Stay Distribution (Seed326_thr0.77_perc0.2)\"},\"barmode\":\"relative\"},                        {\"responsive\": true}                    ).then(function(){\n",
       "                            \n",
       "var gd = document.getElementById('c3e774d9-f054-453a-9c6a-ffd543a5a87a');\n",
       "var x = new MutationObserver(function (mutations, observer) {{\n",
       "        var display = window.getComputedStyle(gd).display;\n",
       "        if (!display || display === 'none') {{\n",
       "            console.log([gd, 'removed!']);\n",
       "            Plotly.purge(gd);\n",
       "            observer.disconnect();\n",
       "        }}\n",
       "}});\n",
       "\n",
       "// Listen for the removal of the full notebook cells\n",
       "var notebookContainer = gd.closest('#notebook-container');\n",
       "if (notebookContainer) {{\n",
       "    x.observe(notebookContainer, {childList: true});\n",
       "}}\n",
       "\n",
       "// Listen for the clearing of the current output cell\n",
       "var outputEl = gd.closest('.output');\n",
       "if (outputEl) {{\n",
       "    x.observe(outputEl, {childList: true});\n",
       "}}\n",
       "\n",
       "                        })                };                });            </script>        </div>"
      ]
     },
     "metadata": {},
     "output_type": "display_data"
    },
    {
     "data": {
      "application/vnd.plotly.v1+json": {
       "config": {
        "plotlyServerURL": "https://plot.ly"
       },
       "data": [
        {
         "alignmentgroup": "True",
         "bingroup": "x",
         "histnorm": "density",
         "hovertemplate": "hospital_length_of_stay=%{x}<br>density=%{y}<extra></extra>",
         "legendgroup": "",
         "marker": {
          "color": "#636efa",
          "line": {
           "color": "black",
           "width": 1
          },
          "pattern": {
           "shape": ""
          }
         },
         "name": "",
         "nbinsx": 10,
         "offsetgroup": "",
         "orientation": "v",
         "showlegend": false,
         "type": "histogram",
         "x": [
          1,
          13,
          9,
          17,
          5,
          10,
          1,
          6,
          16,
          2,
          3,
          10,
          10,
          9,
          2,
          5,
          11,
          7,
          22,
          6,
          16,
          7,
          8,
          2,
          13,
          13,
          16,
          14,
          7,
          3,
          8,
          3,
          17,
          6,
          15,
          10,
          11,
          8,
          9,
          7,
          8,
          2,
          9,
          12,
          3,
          17,
          20,
          3,
          13,
          19,
          4,
          7,
          12,
          5,
          5,
          3,
          6,
          8,
          14,
          6,
          7,
          9,
          9,
          5,
          18,
          6,
          15,
          3,
          19,
          5,
          7,
          4,
          21,
          7,
          7,
          7,
          2,
          3,
          3,
          5,
          4,
          10,
          2,
          7,
          2,
          8,
          40.5,
          28.5,
          40.5,
          40.5,
          40.5,
          32.5,
          32.5,
          32.5,
          29.5,
          32.5,
          30.5,
          30.5,
          25,
          30.5,
          25,
          46.5,
          30.5,
          30.5,
          46.5,
          30.5,
          28,
          28,
          26,
          28,
          28,
          31.5,
          31.5,
          31.5,
          31.5,
          31.5,
          41,
          41,
          41,
          41,
          29,
          37,
          33,
          33,
          33,
          37,
          25,
          25,
          25,
          25.5,
          25.5,
          25.5,
          25,
          25.5,
          25.5,
          25,
          32,
          28,
          32,
          28,
          28,
          33.5,
          33.5,
          33.5,
          34,
          34,
          25.5,
          25.5,
          25.5,
          25.5,
          25.5,
          32.23734717722982,
          28.5,
          28.5,
          28.5,
          28.5,
          31.5,
          39.5,
          31.5,
          31.5,
          31.5,
          33,
          33,
          29,
          29,
          33,
          26.5,
          26.5,
          26.5,
          36,
          36,
          26.5,
          28,
          28,
          28,
          26.5,
          29,
          36,
          29,
          29,
          29,
          31.5,
          31,
          31,
          31.5,
          31.5,
          55,
          32,
          32,
          55,
          32,
          35.5,
          35.5,
          33,
          33,
          33,
          33.5,
          33.5,
          33.5,
          36,
          36,
          31,
          31,
          29,
          31,
          29,
          28.5,
          35,
          35,
          28.5,
          28.5,
          35,
          52,
          35,
          35,
          35,
          31,
          31,
          31,
          31,
          31,
          33.5,
          33.5,
          33.5,
          33.5,
          33.5,
          35,
          37.5,
          35,
          37.5,
          35,
          29,
          29,
          29,
          45,
          45,
          37,
          37,
          37,
          41,
          41,
          34.5,
          42.5,
          34.5,
          34.5,
          42.5,
          31.5,
          31.5,
          33.5,
          33.5,
          31.5,
          36,
          36,
          36,
          36,
          36,
          36.5,
          36.5,
          36.5,
          36,
          36.5,
          43.5,
          37.5,
          37.5,
          37.5,
          37.5,
          32.5,
          32.5,
          36.5,
          36.5,
          32.5,
          29.5,
          38,
          38,
          38,
          38,
          38.5,
          38.5,
          38.5,
          38.5,
          38.5,
          37.5,
          44,
          37.5,
          37.5,
          37.5,
          31.08964109933004,
          32.7922638123855,
          33.69455211469904,
          28.9019416263327,
          35.46365457260981,
          35,
          39.5,
          39.5,
          35,
          39.5,
          40,
          40,
          40,
          40,
          33,
          30.5,
          53,
          30.5,
          30.5,
          30.5,
          36,
          39,
          36,
          39,
          36,
          39,
          39,
          39,
          39,
          36,
          38.5,
          38.5,
          31.5,
          38.5,
          38.5,
          31.5,
          31.5,
          31.5,
          38.5,
          31.5,
          38.5,
          38.5,
          38.5,
          38.5,
          38.5,
          37.5,
          37.5,
          37.5,
          37.5,
          31.5,
          35,
          35,
          33,
          35,
          35,
          39,
          39,
          39,
          39,
          39,
          41.5,
          38,
          38,
          38,
          41.5,
          45,
          33,
          45,
          45,
          33,
          33.5,
          33.5,
          37.5,
          37.5,
          33.5,
          61.5,
          61.5,
          41.5,
          41.5,
          41.5,
          41.5,
          38.5,
          41.5,
          41.5,
          41.5,
          41.5,
          41.5,
          41.5,
          34,
          34,
          42.5,
          42.5,
          62,
          62,
          42.5,
          38,
          40,
          38,
          40,
          40,
          38.5,
          52,
          38.5,
          52,
          38.5,
          36,
          36,
          36,
          34,
          34,
          37,
          37,
          37,
          45,
          37,
          44,
          39.5,
          44,
          39.5,
          39.5,
          67,
          67,
          47.5,
          47.5,
          67,
          41,
          41,
          58,
          58,
          41,
          48,
          48,
          48,
          41.5,
          48,
          58,
          41.5,
          58,
          58,
          58,
          52,
          50.5,
          52,
          52,
          52,
          46.5,
          53,
          53,
          46.5,
          53,
          56,
          56,
          56,
          53,
          53,
          62,
          62,
          62,
          61.5,
          62,
          24,
          24,
          24,
          24,
          24,
          25,
          25,
          25,
          25,
          25,
          25,
          26,
          26,
          26,
          27,
          27,
          28,
          28,
          28,
          29,
          29,
          29,
          30,
          30,
          31,
          32,
          32,
          33,
          33,
          33,
          33,
          33,
          34,
          34,
          34,
          34,
          34,
          35,
          35,
          36,
          36,
          37,
          37,
          37,
          38,
          38,
          38,
          38,
          39,
          39,
          39,
          40,
          41,
          41,
          42,
          42,
          42,
          42,
          43,
          43,
          44,
          44,
          49,
          52,
          53,
          57,
          58,
          59,
          60,
          69,
          72,
          81
         ],
         "xaxis": "x",
         "yaxis": "y"
        },
        {
         "alignmentgroup": "True",
         "hovertemplate": "hospital_length_of_stay=%{x}<extra></extra>",
         "legendgroup": "",
         "marker": {
          "color": "#636efa",
          "line": {
           "color": "black",
           "width": 1
          }
         },
         "name": "",
         "notched": true,
         "offsetgroup": "",
         "showlegend": false,
         "type": "box",
         "x": [
          1,
          13,
          9,
          17,
          5,
          10,
          1,
          6,
          16,
          2,
          3,
          10,
          10,
          9,
          2,
          5,
          11,
          7,
          22,
          6,
          16,
          7,
          8,
          2,
          13,
          13,
          16,
          14,
          7,
          3,
          8,
          3,
          17,
          6,
          15,
          10,
          11,
          8,
          9,
          7,
          8,
          2,
          9,
          12,
          3,
          17,
          20,
          3,
          13,
          19,
          4,
          7,
          12,
          5,
          5,
          3,
          6,
          8,
          14,
          6,
          7,
          9,
          9,
          5,
          18,
          6,
          15,
          3,
          19,
          5,
          7,
          4,
          21,
          7,
          7,
          7,
          2,
          3,
          3,
          5,
          4,
          10,
          2,
          7,
          2,
          8,
          40.5,
          28.5,
          40.5,
          40.5,
          40.5,
          32.5,
          32.5,
          32.5,
          29.5,
          32.5,
          30.5,
          30.5,
          25,
          30.5,
          25,
          46.5,
          30.5,
          30.5,
          46.5,
          30.5,
          28,
          28,
          26,
          28,
          28,
          31.5,
          31.5,
          31.5,
          31.5,
          31.5,
          41,
          41,
          41,
          41,
          29,
          37,
          33,
          33,
          33,
          37,
          25,
          25,
          25,
          25.5,
          25.5,
          25.5,
          25,
          25.5,
          25.5,
          25,
          32,
          28,
          32,
          28,
          28,
          33.5,
          33.5,
          33.5,
          34,
          34,
          25.5,
          25.5,
          25.5,
          25.5,
          25.5,
          32.23734717722982,
          28.5,
          28.5,
          28.5,
          28.5,
          31.5,
          39.5,
          31.5,
          31.5,
          31.5,
          33,
          33,
          29,
          29,
          33,
          26.5,
          26.5,
          26.5,
          36,
          36,
          26.5,
          28,
          28,
          28,
          26.5,
          29,
          36,
          29,
          29,
          29,
          31.5,
          31,
          31,
          31.5,
          31.5,
          55,
          32,
          32,
          55,
          32,
          35.5,
          35.5,
          33,
          33,
          33,
          33.5,
          33.5,
          33.5,
          36,
          36,
          31,
          31,
          29,
          31,
          29,
          28.5,
          35,
          35,
          28.5,
          28.5,
          35,
          52,
          35,
          35,
          35,
          31,
          31,
          31,
          31,
          31,
          33.5,
          33.5,
          33.5,
          33.5,
          33.5,
          35,
          37.5,
          35,
          37.5,
          35,
          29,
          29,
          29,
          45,
          45,
          37,
          37,
          37,
          41,
          41,
          34.5,
          42.5,
          34.5,
          34.5,
          42.5,
          31.5,
          31.5,
          33.5,
          33.5,
          31.5,
          36,
          36,
          36,
          36,
          36,
          36.5,
          36.5,
          36.5,
          36,
          36.5,
          43.5,
          37.5,
          37.5,
          37.5,
          37.5,
          32.5,
          32.5,
          36.5,
          36.5,
          32.5,
          29.5,
          38,
          38,
          38,
          38,
          38.5,
          38.5,
          38.5,
          38.5,
          38.5,
          37.5,
          44,
          37.5,
          37.5,
          37.5,
          31.08964109933004,
          32.7922638123855,
          33.69455211469904,
          28.9019416263327,
          35.46365457260981,
          35,
          39.5,
          39.5,
          35,
          39.5,
          40,
          40,
          40,
          40,
          33,
          30.5,
          53,
          30.5,
          30.5,
          30.5,
          36,
          39,
          36,
          39,
          36,
          39,
          39,
          39,
          39,
          36,
          38.5,
          38.5,
          31.5,
          38.5,
          38.5,
          31.5,
          31.5,
          31.5,
          38.5,
          31.5,
          38.5,
          38.5,
          38.5,
          38.5,
          38.5,
          37.5,
          37.5,
          37.5,
          37.5,
          31.5,
          35,
          35,
          33,
          35,
          35,
          39,
          39,
          39,
          39,
          39,
          41.5,
          38,
          38,
          38,
          41.5,
          45,
          33,
          45,
          45,
          33,
          33.5,
          33.5,
          37.5,
          37.5,
          33.5,
          61.5,
          61.5,
          41.5,
          41.5,
          41.5,
          41.5,
          38.5,
          41.5,
          41.5,
          41.5,
          41.5,
          41.5,
          41.5,
          34,
          34,
          42.5,
          42.5,
          62,
          62,
          42.5,
          38,
          40,
          38,
          40,
          40,
          38.5,
          52,
          38.5,
          52,
          38.5,
          36,
          36,
          36,
          34,
          34,
          37,
          37,
          37,
          45,
          37,
          44,
          39.5,
          44,
          39.5,
          39.5,
          67,
          67,
          47.5,
          47.5,
          67,
          41,
          41,
          58,
          58,
          41,
          48,
          48,
          48,
          41.5,
          48,
          58,
          41.5,
          58,
          58,
          58,
          52,
          50.5,
          52,
          52,
          52,
          46.5,
          53,
          53,
          46.5,
          53,
          56,
          56,
          56,
          53,
          53,
          62,
          62,
          62,
          61.5,
          62,
          24,
          24,
          24,
          24,
          24,
          25,
          25,
          25,
          25,
          25,
          25,
          26,
          26,
          26,
          27,
          27,
          28,
          28,
          28,
          29,
          29,
          29,
          30,
          30,
          31,
          32,
          32,
          33,
          33,
          33,
          33,
          33,
          34,
          34,
          34,
          34,
          34,
          35,
          35,
          36,
          36,
          37,
          37,
          37,
          38,
          38,
          38,
          38,
          39,
          39,
          39,
          40,
          41,
          41,
          42,
          42,
          42,
          42,
          43,
          43,
          44,
          44,
          49,
          52,
          53,
          57,
          58,
          59,
          60,
          69,
          72,
          81
         ],
         "xaxis": "x2",
         "yaxis": "y2"
        }
       ],
       "layout": {
        "barmode": "relative",
        "legend": {
         "tracegroupgap": 0
        },
        "template": {
         "data": {
          "bar": [
           {
            "error_x": {
             "color": "#2a3f5f"
            },
            "error_y": {
             "color": "#2a3f5f"
            },
            "marker": {
             "line": {
              "color": "#E5ECF6",
              "width": 0.5
             },
             "pattern": {
              "fillmode": "overlay",
              "size": 10,
              "solidity": 0.2
             }
            },
            "type": "bar"
           }
          ],
          "barpolar": [
           {
            "marker": {
             "line": {
              "color": "#E5ECF6",
              "width": 0.5
             },
             "pattern": {
              "fillmode": "overlay",
              "size": 10,
              "solidity": 0.2
             }
            },
            "type": "barpolar"
           }
          ],
          "carpet": [
           {
            "aaxis": {
             "endlinecolor": "#2a3f5f",
             "gridcolor": "white",
             "linecolor": "white",
             "minorgridcolor": "white",
             "startlinecolor": "#2a3f5f"
            },
            "baxis": {
             "endlinecolor": "#2a3f5f",
             "gridcolor": "white",
             "linecolor": "white",
             "minorgridcolor": "white",
             "startlinecolor": "#2a3f5f"
            },
            "type": "carpet"
           }
          ],
          "choropleth": [
           {
            "colorbar": {
             "outlinewidth": 0,
             "ticks": ""
            },
            "type": "choropleth"
           }
          ],
          "contour": [
           {
            "colorbar": {
             "outlinewidth": 0,
             "ticks": ""
            },
            "colorscale": [
             [
              0,
              "#0d0887"
             ],
             [
              0.1111111111111111,
              "#46039f"
             ],
             [
              0.2222222222222222,
              "#7201a8"
             ],
             [
              0.3333333333333333,
              "#9c179e"
             ],
             [
              0.4444444444444444,
              "#bd3786"
             ],
             [
              0.5555555555555556,
              "#d8576b"
             ],
             [
              0.6666666666666666,
              "#ed7953"
             ],
             [
              0.7777777777777778,
              "#fb9f3a"
             ],
             [
              0.8888888888888888,
              "#fdca26"
             ],
             [
              1,
              "#f0f921"
             ]
            ],
            "type": "contour"
           }
          ],
          "contourcarpet": [
           {
            "colorbar": {
             "outlinewidth": 0,
             "ticks": ""
            },
            "type": "contourcarpet"
           }
          ],
          "heatmap": [
           {
            "colorbar": {
             "outlinewidth": 0,
             "ticks": ""
            },
            "colorscale": [
             [
              0,
              "#0d0887"
             ],
             [
              0.1111111111111111,
              "#46039f"
             ],
             [
              0.2222222222222222,
              "#7201a8"
             ],
             [
              0.3333333333333333,
              "#9c179e"
             ],
             [
              0.4444444444444444,
              "#bd3786"
             ],
             [
              0.5555555555555556,
              "#d8576b"
             ],
             [
              0.6666666666666666,
              "#ed7953"
             ],
             [
              0.7777777777777778,
              "#fb9f3a"
             ],
             [
              0.8888888888888888,
              "#fdca26"
             ],
             [
              1,
              "#f0f921"
             ]
            ],
            "type": "heatmap"
           }
          ],
          "heatmapgl": [
           {
            "colorbar": {
             "outlinewidth": 0,
             "ticks": ""
            },
            "colorscale": [
             [
              0,
              "#0d0887"
             ],
             [
              0.1111111111111111,
              "#46039f"
             ],
             [
              0.2222222222222222,
              "#7201a8"
             ],
             [
              0.3333333333333333,
              "#9c179e"
             ],
             [
              0.4444444444444444,
              "#bd3786"
             ],
             [
              0.5555555555555556,
              "#d8576b"
             ],
             [
              0.6666666666666666,
              "#ed7953"
             ],
             [
              0.7777777777777778,
              "#fb9f3a"
             ],
             [
              0.8888888888888888,
              "#fdca26"
             ],
             [
              1,
              "#f0f921"
             ]
            ],
            "type": "heatmapgl"
           }
          ],
          "histogram": [
           {
            "marker": {
             "pattern": {
              "fillmode": "overlay",
              "size": 10,
              "solidity": 0.2
             }
            },
            "type": "histogram"
           }
          ],
          "histogram2d": [
           {
            "colorbar": {
             "outlinewidth": 0,
             "ticks": ""
            },
            "colorscale": [
             [
              0,
              "#0d0887"
             ],
             [
              0.1111111111111111,
              "#46039f"
             ],
             [
              0.2222222222222222,
              "#7201a8"
             ],
             [
              0.3333333333333333,
              "#9c179e"
             ],
             [
              0.4444444444444444,
              "#bd3786"
             ],
             [
              0.5555555555555556,
              "#d8576b"
             ],
             [
              0.6666666666666666,
              "#ed7953"
             ],
             [
              0.7777777777777778,
              "#fb9f3a"
             ],
             [
              0.8888888888888888,
              "#fdca26"
             ],
             [
              1,
              "#f0f921"
             ]
            ],
            "type": "histogram2d"
           }
          ],
          "histogram2dcontour": [
           {
            "colorbar": {
             "outlinewidth": 0,
             "ticks": ""
            },
            "colorscale": [
             [
              0,
              "#0d0887"
             ],
             [
              0.1111111111111111,
              "#46039f"
             ],
             [
              0.2222222222222222,
              "#7201a8"
             ],
             [
              0.3333333333333333,
              "#9c179e"
             ],
             [
              0.4444444444444444,
              "#bd3786"
             ],
             [
              0.5555555555555556,
              "#d8576b"
             ],
             [
              0.6666666666666666,
              "#ed7953"
             ],
             [
              0.7777777777777778,
              "#fb9f3a"
             ],
             [
              0.8888888888888888,
              "#fdca26"
             ],
             [
              1,
              "#f0f921"
             ]
            ],
            "type": "histogram2dcontour"
           }
          ],
          "mesh3d": [
           {
            "colorbar": {
             "outlinewidth": 0,
             "ticks": ""
            },
            "type": "mesh3d"
           }
          ],
          "parcoords": [
           {
            "line": {
             "colorbar": {
              "outlinewidth": 0,
              "ticks": ""
             }
            },
            "type": "parcoords"
           }
          ],
          "pie": [
           {
            "automargin": true,
            "type": "pie"
           }
          ],
          "scatter": [
           {
            "fillpattern": {
             "fillmode": "overlay",
             "size": 10,
             "solidity": 0.2
            },
            "type": "scatter"
           }
          ],
          "scatter3d": [
           {
            "line": {
             "colorbar": {
              "outlinewidth": 0,
              "ticks": ""
             }
            },
            "marker": {
             "colorbar": {
              "outlinewidth": 0,
              "ticks": ""
             }
            },
            "type": "scatter3d"
           }
          ],
          "scattercarpet": [
           {
            "marker": {
             "colorbar": {
              "outlinewidth": 0,
              "ticks": ""
             }
            },
            "type": "scattercarpet"
           }
          ],
          "scattergeo": [
           {
            "marker": {
             "colorbar": {
              "outlinewidth": 0,
              "ticks": ""
             }
            },
            "type": "scattergeo"
           }
          ],
          "scattergl": [
           {
            "marker": {
             "colorbar": {
              "outlinewidth": 0,
              "ticks": ""
             }
            },
            "type": "scattergl"
           }
          ],
          "scattermapbox": [
           {
            "marker": {
             "colorbar": {
              "outlinewidth": 0,
              "ticks": ""
             }
            },
            "type": "scattermapbox"
           }
          ],
          "scatterpolar": [
           {
            "marker": {
             "colorbar": {
              "outlinewidth": 0,
              "ticks": ""
             }
            },
            "type": "scatterpolar"
           }
          ],
          "scatterpolargl": [
           {
            "marker": {
             "colorbar": {
              "outlinewidth": 0,
              "ticks": ""
             }
            },
            "type": "scatterpolargl"
           }
          ],
          "scatterternary": [
           {
            "marker": {
             "colorbar": {
              "outlinewidth": 0,
              "ticks": ""
             }
            },
            "type": "scatterternary"
           }
          ],
          "surface": [
           {
            "colorbar": {
             "outlinewidth": 0,
             "ticks": ""
            },
            "colorscale": [
             [
              0,
              "#0d0887"
             ],
             [
              0.1111111111111111,
              "#46039f"
             ],
             [
              0.2222222222222222,
              "#7201a8"
             ],
             [
              0.3333333333333333,
              "#9c179e"
             ],
             [
              0.4444444444444444,
              "#bd3786"
             ],
             [
              0.5555555555555556,
              "#d8576b"
             ],
             [
              0.6666666666666666,
              "#ed7953"
             ],
             [
              0.7777777777777778,
              "#fb9f3a"
             ],
             [
              0.8888888888888888,
              "#fdca26"
             ],
             [
              1,
              "#f0f921"
             ]
            ],
            "type": "surface"
           }
          ],
          "table": [
           {
            "cells": {
             "fill": {
              "color": "#EBF0F8"
             },
             "line": {
              "color": "white"
             }
            },
            "header": {
             "fill": {
              "color": "#C8D4E3"
             },
             "line": {
              "color": "white"
             }
            },
            "type": "table"
           }
          ]
         },
         "layout": {
          "annotationdefaults": {
           "arrowcolor": "#2a3f5f",
           "arrowhead": 0,
           "arrowwidth": 1
          },
          "autotypenumbers": "strict",
          "coloraxis": {
           "colorbar": {
            "outlinewidth": 0,
            "ticks": ""
           }
          },
          "colorscale": {
           "diverging": [
            [
             0,
             "#8e0152"
            ],
            [
             0.1,
             "#c51b7d"
            ],
            [
             0.2,
             "#de77ae"
            ],
            [
             0.3,
             "#f1b6da"
            ],
            [
             0.4,
             "#fde0ef"
            ],
            [
             0.5,
             "#f7f7f7"
            ],
            [
             0.6,
             "#e6f5d0"
            ],
            [
             0.7,
             "#b8e186"
            ],
            [
             0.8,
             "#7fbc41"
            ],
            [
             0.9,
             "#4d9221"
            ],
            [
             1,
             "#276419"
            ]
           ],
           "sequential": [
            [
             0,
             "#0d0887"
            ],
            [
             0.1111111111111111,
             "#46039f"
            ],
            [
             0.2222222222222222,
             "#7201a8"
            ],
            [
             0.3333333333333333,
             "#9c179e"
            ],
            [
             0.4444444444444444,
             "#bd3786"
            ],
            [
             0.5555555555555556,
             "#d8576b"
            ],
            [
             0.6666666666666666,
             "#ed7953"
            ],
            [
             0.7777777777777778,
             "#fb9f3a"
            ],
            [
             0.8888888888888888,
             "#fdca26"
            ],
            [
             1,
             "#f0f921"
            ]
           ],
           "sequentialminus": [
            [
             0,
             "#0d0887"
            ],
            [
             0.1111111111111111,
             "#46039f"
            ],
            [
             0.2222222222222222,
             "#7201a8"
            ],
            [
             0.3333333333333333,
             "#9c179e"
            ],
            [
             0.4444444444444444,
             "#bd3786"
            ],
            [
             0.5555555555555556,
             "#d8576b"
            ],
            [
             0.6666666666666666,
             "#ed7953"
            ],
            [
             0.7777777777777778,
             "#fb9f3a"
            ],
            [
             0.8888888888888888,
             "#fdca26"
            ],
            [
             1,
             "#f0f921"
            ]
           ]
          },
          "colorway": [
           "#636efa",
           "#EF553B",
           "#00cc96",
           "#ab63fa",
           "#FFA15A",
           "#19d3f3",
           "#FF6692",
           "#B6E880",
           "#FF97FF",
           "#FECB52"
          ],
          "font": {
           "color": "#2a3f5f"
          },
          "geo": {
           "bgcolor": "white",
           "lakecolor": "white",
           "landcolor": "#E5ECF6",
           "showlakes": true,
           "showland": true,
           "subunitcolor": "white"
          },
          "hoverlabel": {
           "align": "left"
          },
          "hovermode": "closest",
          "mapbox": {
           "style": "light"
          },
          "paper_bgcolor": "white",
          "plot_bgcolor": "#E5ECF6",
          "polar": {
           "angularaxis": {
            "gridcolor": "white",
            "linecolor": "white",
            "ticks": ""
           },
           "bgcolor": "#E5ECF6",
           "radialaxis": {
            "gridcolor": "white",
            "linecolor": "white",
            "ticks": ""
           }
          },
          "scene": {
           "xaxis": {
            "backgroundcolor": "#E5ECF6",
            "gridcolor": "white",
            "gridwidth": 2,
            "linecolor": "white",
            "showbackground": true,
            "ticks": "",
            "zerolinecolor": "white"
           },
           "yaxis": {
            "backgroundcolor": "#E5ECF6",
            "gridcolor": "white",
            "gridwidth": 2,
            "linecolor": "white",
            "showbackground": true,
            "ticks": "",
            "zerolinecolor": "white"
           },
           "zaxis": {
            "backgroundcolor": "#E5ECF6",
            "gridcolor": "white",
            "gridwidth": 2,
            "linecolor": "white",
            "showbackground": true,
            "ticks": "",
            "zerolinecolor": "white"
           }
          },
          "shapedefaults": {
           "line": {
            "color": "#2a3f5f"
           }
          },
          "ternary": {
           "aaxis": {
            "gridcolor": "white",
            "linecolor": "white",
            "ticks": ""
           },
           "baxis": {
            "gridcolor": "white",
            "linecolor": "white",
            "ticks": ""
           },
           "bgcolor": "#E5ECF6",
           "caxis": {
            "gridcolor": "white",
            "linecolor": "white",
            "ticks": ""
           }
          },
          "title": {
           "x": 0.05
          },
          "xaxis": {
           "automargin": true,
           "gridcolor": "white",
           "linecolor": "white",
           "ticks": "",
           "title": {
            "standoff": 15
           },
           "zerolinecolor": "white",
           "zerolinewidth": 2
          },
          "yaxis": {
           "automargin": true,
           "gridcolor": "white",
           "linecolor": "white",
           "ticks": "",
           "title": {
            "standoff": 15
           },
           "zerolinecolor": "white",
           "zerolinewidth": 2
          }
         }
        },
        "title": {
         "text": "Hospital Length of Stay Distribution (Seed832_thr0.77_perc0.2)"
        },
        "xaxis": {
         "anchor": "y",
         "domain": [
          0,
          1
         ],
         "title": {
          "text": "hospital_length_of_stay"
         }
        },
        "xaxis2": {
         "anchor": "y2",
         "domain": [
          0,
          1
         ],
         "matches": "x",
         "showgrid": true,
         "showticklabels": false
        },
        "yaxis": {
         "anchor": "x",
         "domain": [
          0,
          0.8316
         ],
         "title": {
          "text": "density"
         }
        },
        "yaxis2": {
         "anchor": "x2",
         "domain": [
          0.8416,
          1
         ],
         "matches": "y2",
         "showgrid": false,
         "showline": false,
         "showticklabels": false,
         "ticks": ""
        }
       }
      },
      "text/html": [
       "<div>                            <div id=\"5fbb6935-ba16-4874-98ec-e54d6873a8d0\" class=\"plotly-graph-div\" style=\"height:525px; width:100%;\"></div>            <script type=\"text/javascript\">                require([\"plotly\"], function(Plotly) {                    window.PLOTLYENV=window.PLOTLYENV || {};                                    if (document.getElementById(\"5fbb6935-ba16-4874-98ec-e54d6873a8d0\")) {                    Plotly.newPlot(                        \"5fbb6935-ba16-4874-98ec-e54d6873a8d0\",                        [{\"alignmentgroup\":\"True\",\"bingroup\":\"x\",\"histnorm\":\"density\",\"hovertemplate\":\"hospital_length_of_stay=%{x}<br>density=%{y}<extra></extra>\",\"legendgroup\":\"\",\"marker\":{\"color\":\"#636efa\",\"pattern\":{\"shape\":\"\"},\"line\":{\"color\":\"black\",\"width\":1}},\"name\":\"\",\"nbinsx\":10,\"offsetgroup\":\"\",\"orientation\":\"v\",\"showlegend\":false,\"x\":[1.0,13.0,9.0,17.0,5.0,10.0,1.0,6.0,16.0,2.0,3.0,10.0,10.0,9.0,2.0,5.0,11.0,7.0,22.0,6.0,16.0,7.0,8.0,2.0,13.0,13.0,16.0,14.0,7.0,3.0,8.0,3.0,17.0,6.0,15.0,10.0,11.0,8.0,9.0,7.0,8.0,2.0,9.0,12.0,3.0,17.0,20.0,3.0,13.0,19.0,4.0,7.0,12.0,5.0,5.0,3.0,6.0,8.0,14.0,6.0,7.0,9.0,9.0,5.0,18.0,6.0,15.0,3.0,19.0,5.0,7.0,4.0,21.0,7.0,7.0,7.0,2.0,3.0,3.0,5.0,4.0,10.0,2.0,7.0,2.0,8.0,40.5,28.5,40.5,40.5,40.5,32.5,32.5,32.5,29.5,32.5,30.5,30.5,25.0,30.5,25.0,46.5,30.5,30.5,46.5,30.5,28.0,28.0,26.0,28.0,28.0,31.5,31.5,31.5,31.5,31.5,41.0,41.0,41.0,41.0,29.0,37.0,33.0,33.0,33.0,37.0,25.0,25.0,25.0,25.5,25.5,25.5,25.0,25.5,25.5,25.0,32.0,28.0,32.0,28.0,28.0,33.5,33.5,33.5,34.0,34.0,25.5,25.5,25.5,25.5,25.5,32.23734717722982,28.5,28.5,28.5,28.5,31.5,39.5,31.5,31.5,31.5,33.0,33.0,29.0,29.0,33.0,26.5,26.5,26.5,36.0,36.0,26.5,28.0,28.0,28.0,26.5,29.0,36.0,29.0,29.0,29.0,31.5,31.0,31.0,31.5,31.5,55.0,32.0,32.0,55.0,32.0,35.5,35.5,33.0,33.0,33.0,33.5,33.5,33.5,36.0,36.0,31.0,31.0,29.0,31.0,29.0,28.5,35.0,35.0,28.5,28.5,35.0,52.0,35.0,35.0,35.0,31.0,31.0,31.0,31.0,31.0,33.5,33.5,33.5,33.5,33.5,35.0,37.5,35.0,37.5,35.0,29.0,29.0,29.0,45.0,45.0,37.0,37.0,37.0,41.0,41.0,34.5,42.5,34.5,34.5,42.5,31.5,31.5,33.5,33.5,31.5,36.0,36.0,36.0,36.0,36.0,36.5,36.5,36.5,36.0,36.5,43.5,37.5,37.5,37.5,37.5,32.5,32.5,36.5,36.5,32.5,29.5,38.0,38.0,38.0,38.0,38.5,38.5,38.5,38.5,38.5,37.5,44.0,37.5,37.5,37.5,31.08964109933004,32.7922638123855,33.69455211469904,28.9019416263327,35.46365457260981,35.0,39.5,39.5,35.0,39.5,40.0,40.0,40.0,40.0,33.0,30.5,53.0,30.5,30.5,30.5,36.0,39.0,36.0,39.0,36.0,39.0,39.0,39.0,39.0,36.0,38.5,38.5,31.5,38.5,38.5,31.5,31.5,31.5,38.5,31.5,38.5,38.5,38.5,38.5,38.5,37.5,37.5,37.5,37.5,31.5,35.0,35.0,33.0,35.0,35.0,39.0,39.0,39.0,39.0,39.0,41.5,38.0,38.0,38.0,41.5,45.0,33.0,45.0,45.0,33.0,33.5,33.5,37.5,37.5,33.5,61.5,61.5,41.5,41.5,41.5,41.5,38.5,41.5,41.5,41.5,41.5,41.5,41.5,34.0,34.0,42.5,42.5,62.0,62.0,42.5,38.0,40.0,38.0,40.0,40.0,38.5,52.0,38.5,52.0,38.5,36.0,36.0,36.0,34.0,34.0,37.0,37.0,37.0,45.0,37.0,44.0,39.5,44.0,39.5,39.5,67.0,67.0,47.5,47.5,67.0,41.0,41.0,58.0,58.0,41.0,48.0,48.0,48.0,41.5,48.0,58.0,41.5,58.0,58.0,58.0,52.0,50.5,52.0,52.0,52.0,46.5,53.0,53.0,46.5,53.0,56.0,56.0,56.0,53.0,53.0,62.0,62.0,62.0,61.5,62.0,24.0,24.0,24.0,24.0,24.0,25.0,25.0,25.0,25.0,25.0,25.0,26.0,26.0,26.0,27.0,27.0,28.0,28.0,28.0,29.0,29.0,29.0,30.0,30.0,31.0,32.0,32.0,33.0,33.0,33.0,33.0,33.0,34.0,34.0,34.0,34.0,34.0,35.0,35.0,36.0,36.0,37.0,37.0,37.0,38.0,38.0,38.0,38.0,39.0,39.0,39.0,40.0,41.0,41.0,42.0,42.0,42.0,42.0,43.0,43.0,44.0,44.0,49.0,52.0,53.0,57.0,58.0,59.0,60.0,69.0,72.0,81.0],\"xaxis\":\"x\",\"yaxis\":\"y\",\"type\":\"histogram\"},{\"alignmentgroup\":\"True\",\"hovertemplate\":\"hospital_length_of_stay=%{x}<extra></extra>\",\"legendgroup\":\"\",\"marker\":{\"color\":\"#636efa\",\"line\":{\"color\":\"black\",\"width\":1}},\"name\":\"\",\"notched\":true,\"offsetgroup\":\"\",\"showlegend\":false,\"x\":[1.0,13.0,9.0,17.0,5.0,10.0,1.0,6.0,16.0,2.0,3.0,10.0,10.0,9.0,2.0,5.0,11.0,7.0,22.0,6.0,16.0,7.0,8.0,2.0,13.0,13.0,16.0,14.0,7.0,3.0,8.0,3.0,17.0,6.0,15.0,10.0,11.0,8.0,9.0,7.0,8.0,2.0,9.0,12.0,3.0,17.0,20.0,3.0,13.0,19.0,4.0,7.0,12.0,5.0,5.0,3.0,6.0,8.0,14.0,6.0,7.0,9.0,9.0,5.0,18.0,6.0,15.0,3.0,19.0,5.0,7.0,4.0,21.0,7.0,7.0,7.0,2.0,3.0,3.0,5.0,4.0,10.0,2.0,7.0,2.0,8.0,40.5,28.5,40.5,40.5,40.5,32.5,32.5,32.5,29.5,32.5,30.5,30.5,25.0,30.5,25.0,46.5,30.5,30.5,46.5,30.5,28.0,28.0,26.0,28.0,28.0,31.5,31.5,31.5,31.5,31.5,41.0,41.0,41.0,41.0,29.0,37.0,33.0,33.0,33.0,37.0,25.0,25.0,25.0,25.5,25.5,25.5,25.0,25.5,25.5,25.0,32.0,28.0,32.0,28.0,28.0,33.5,33.5,33.5,34.0,34.0,25.5,25.5,25.5,25.5,25.5,32.23734717722982,28.5,28.5,28.5,28.5,31.5,39.5,31.5,31.5,31.5,33.0,33.0,29.0,29.0,33.0,26.5,26.5,26.5,36.0,36.0,26.5,28.0,28.0,28.0,26.5,29.0,36.0,29.0,29.0,29.0,31.5,31.0,31.0,31.5,31.5,55.0,32.0,32.0,55.0,32.0,35.5,35.5,33.0,33.0,33.0,33.5,33.5,33.5,36.0,36.0,31.0,31.0,29.0,31.0,29.0,28.5,35.0,35.0,28.5,28.5,35.0,52.0,35.0,35.0,35.0,31.0,31.0,31.0,31.0,31.0,33.5,33.5,33.5,33.5,33.5,35.0,37.5,35.0,37.5,35.0,29.0,29.0,29.0,45.0,45.0,37.0,37.0,37.0,41.0,41.0,34.5,42.5,34.5,34.5,42.5,31.5,31.5,33.5,33.5,31.5,36.0,36.0,36.0,36.0,36.0,36.5,36.5,36.5,36.0,36.5,43.5,37.5,37.5,37.5,37.5,32.5,32.5,36.5,36.5,32.5,29.5,38.0,38.0,38.0,38.0,38.5,38.5,38.5,38.5,38.5,37.5,44.0,37.5,37.5,37.5,31.08964109933004,32.7922638123855,33.69455211469904,28.9019416263327,35.46365457260981,35.0,39.5,39.5,35.0,39.5,40.0,40.0,40.0,40.0,33.0,30.5,53.0,30.5,30.5,30.5,36.0,39.0,36.0,39.0,36.0,39.0,39.0,39.0,39.0,36.0,38.5,38.5,31.5,38.5,38.5,31.5,31.5,31.5,38.5,31.5,38.5,38.5,38.5,38.5,38.5,37.5,37.5,37.5,37.5,31.5,35.0,35.0,33.0,35.0,35.0,39.0,39.0,39.0,39.0,39.0,41.5,38.0,38.0,38.0,41.5,45.0,33.0,45.0,45.0,33.0,33.5,33.5,37.5,37.5,33.5,61.5,61.5,41.5,41.5,41.5,41.5,38.5,41.5,41.5,41.5,41.5,41.5,41.5,34.0,34.0,42.5,42.5,62.0,62.0,42.5,38.0,40.0,38.0,40.0,40.0,38.5,52.0,38.5,52.0,38.5,36.0,36.0,36.0,34.0,34.0,37.0,37.0,37.0,45.0,37.0,44.0,39.5,44.0,39.5,39.5,67.0,67.0,47.5,47.5,67.0,41.0,41.0,58.0,58.0,41.0,48.0,48.0,48.0,41.5,48.0,58.0,41.5,58.0,58.0,58.0,52.0,50.5,52.0,52.0,52.0,46.5,53.0,53.0,46.5,53.0,56.0,56.0,56.0,53.0,53.0,62.0,62.0,62.0,61.5,62.0,24.0,24.0,24.0,24.0,24.0,25.0,25.0,25.0,25.0,25.0,25.0,26.0,26.0,26.0,27.0,27.0,28.0,28.0,28.0,29.0,29.0,29.0,30.0,30.0,31.0,32.0,32.0,33.0,33.0,33.0,33.0,33.0,34.0,34.0,34.0,34.0,34.0,35.0,35.0,36.0,36.0,37.0,37.0,37.0,38.0,38.0,38.0,38.0,39.0,39.0,39.0,40.0,41.0,41.0,42.0,42.0,42.0,42.0,43.0,43.0,44.0,44.0,49.0,52.0,53.0,57.0,58.0,59.0,60.0,69.0,72.0,81.0],\"xaxis\":\"x2\",\"yaxis\":\"y2\",\"type\":\"box\"}],                        {\"template\":{\"data\":{\"histogram2dcontour\":[{\"type\":\"histogram2dcontour\",\"colorbar\":{\"outlinewidth\":0,\"ticks\":\"\"},\"colorscale\":[[0.0,\"#0d0887\"],[0.1111111111111111,\"#46039f\"],[0.2222222222222222,\"#7201a8\"],[0.3333333333333333,\"#9c179e\"],[0.4444444444444444,\"#bd3786\"],[0.5555555555555556,\"#d8576b\"],[0.6666666666666666,\"#ed7953\"],[0.7777777777777778,\"#fb9f3a\"],[0.8888888888888888,\"#fdca26\"],[1.0,\"#f0f921\"]]}],\"choropleth\":[{\"type\":\"choropleth\",\"colorbar\":{\"outlinewidth\":0,\"ticks\":\"\"}}],\"histogram2d\":[{\"type\":\"histogram2d\",\"colorbar\":{\"outlinewidth\":0,\"ticks\":\"\"},\"colorscale\":[[0.0,\"#0d0887\"],[0.1111111111111111,\"#46039f\"],[0.2222222222222222,\"#7201a8\"],[0.3333333333333333,\"#9c179e\"],[0.4444444444444444,\"#bd3786\"],[0.5555555555555556,\"#d8576b\"],[0.6666666666666666,\"#ed7953\"],[0.7777777777777778,\"#fb9f3a\"],[0.8888888888888888,\"#fdca26\"],[1.0,\"#f0f921\"]]}],\"heatmap\":[{\"type\":\"heatmap\",\"colorbar\":{\"outlinewidth\":0,\"ticks\":\"\"},\"colorscale\":[[0.0,\"#0d0887\"],[0.1111111111111111,\"#46039f\"],[0.2222222222222222,\"#7201a8\"],[0.3333333333333333,\"#9c179e\"],[0.4444444444444444,\"#bd3786\"],[0.5555555555555556,\"#d8576b\"],[0.6666666666666666,\"#ed7953\"],[0.7777777777777778,\"#fb9f3a\"],[0.8888888888888888,\"#fdca26\"],[1.0,\"#f0f921\"]]}],\"heatmapgl\":[{\"type\":\"heatmapgl\",\"colorbar\":{\"outlinewidth\":0,\"ticks\":\"\"},\"colorscale\":[[0.0,\"#0d0887\"],[0.1111111111111111,\"#46039f\"],[0.2222222222222222,\"#7201a8\"],[0.3333333333333333,\"#9c179e\"],[0.4444444444444444,\"#bd3786\"],[0.5555555555555556,\"#d8576b\"],[0.6666666666666666,\"#ed7953\"],[0.7777777777777778,\"#fb9f3a\"],[0.8888888888888888,\"#fdca26\"],[1.0,\"#f0f921\"]]}],\"contourcarpet\":[{\"type\":\"contourcarpet\",\"colorbar\":{\"outlinewidth\":0,\"ticks\":\"\"}}],\"contour\":[{\"type\":\"contour\",\"colorbar\":{\"outlinewidth\":0,\"ticks\":\"\"},\"colorscale\":[[0.0,\"#0d0887\"],[0.1111111111111111,\"#46039f\"],[0.2222222222222222,\"#7201a8\"],[0.3333333333333333,\"#9c179e\"],[0.4444444444444444,\"#bd3786\"],[0.5555555555555556,\"#d8576b\"],[0.6666666666666666,\"#ed7953\"],[0.7777777777777778,\"#fb9f3a\"],[0.8888888888888888,\"#fdca26\"],[1.0,\"#f0f921\"]]}],\"surface\":[{\"type\":\"surface\",\"colorbar\":{\"outlinewidth\":0,\"ticks\":\"\"},\"colorscale\":[[0.0,\"#0d0887\"],[0.1111111111111111,\"#46039f\"],[0.2222222222222222,\"#7201a8\"],[0.3333333333333333,\"#9c179e\"],[0.4444444444444444,\"#bd3786\"],[0.5555555555555556,\"#d8576b\"],[0.6666666666666666,\"#ed7953\"],[0.7777777777777778,\"#fb9f3a\"],[0.8888888888888888,\"#fdca26\"],[1.0,\"#f0f921\"]]}],\"mesh3d\":[{\"type\":\"mesh3d\",\"colorbar\":{\"outlinewidth\":0,\"ticks\":\"\"}}],\"scatter\":[{\"fillpattern\":{\"fillmode\":\"overlay\",\"size\":10,\"solidity\":0.2},\"type\":\"scatter\"}],\"parcoords\":[{\"type\":\"parcoords\",\"line\":{\"colorbar\":{\"outlinewidth\":0,\"ticks\":\"\"}}}],\"scatterpolargl\":[{\"type\":\"scatterpolargl\",\"marker\":{\"colorbar\":{\"outlinewidth\":0,\"ticks\":\"\"}}}],\"bar\":[{\"error_x\":{\"color\":\"#2a3f5f\"},\"error_y\":{\"color\":\"#2a3f5f\"},\"marker\":{\"line\":{\"color\":\"#E5ECF6\",\"width\":0.5},\"pattern\":{\"fillmode\":\"overlay\",\"size\":10,\"solidity\":0.2}},\"type\":\"bar\"}],\"scattergeo\":[{\"type\":\"scattergeo\",\"marker\":{\"colorbar\":{\"outlinewidth\":0,\"ticks\":\"\"}}}],\"scatterpolar\":[{\"type\":\"scatterpolar\",\"marker\":{\"colorbar\":{\"outlinewidth\":0,\"ticks\":\"\"}}}],\"histogram\":[{\"marker\":{\"pattern\":{\"fillmode\":\"overlay\",\"size\":10,\"solidity\":0.2}},\"type\":\"histogram\"}],\"scattergl\":[{\"type\":\"scattergl\",\"marker\":{\"colorbar\":{\"outlinewidth\":0,\"ticks\":\"\"}}}],\"scatter3d\":[{\"type\":\"scatter3d\",\"line\":{\"colorbar\":{\"outlinewidth\":0,\"ticks\":\"\"}},\"marker\":{\"colorbar\":{\"outlinewidth\":0,\"ticks\":\"\"}}}],\"scattermapbox\":[{\"type\":\"scattermapbox\",\"marker\":{\"colorbar\":{\"outlinewidth\":0,\"ticks\":\"\"}}}],\"scatterternary\":[{\"type\":\"scatterternary\",\"marker\":{\"colorbar\":{\"outlinewidth\":0,\"ticks\":\"\"}}}],\"scattercarpet\":[{\"type\":\"scattercarpet\",\"marker\":{\"colorbar\":{\"outlinewidth\":0,\"ticks\":\"\"}}}],\"carpet\":[{\"aaxis\":{\"endlinecolor\":\"#2a3f5f\",\"gridcolor\":\"white\",\"linecolor\":\"white\",\"minorgridcolor\":\"white\",\"startlinecolor\":\"#2a3f5f\"},\"baxis\":{\"endlinecolor\":\"#2a3f5f\",\"gridcolor\":\"white\",\"linecolor\":\"white\",\"minorgridcolor\":\"white\",\"startlinecolor\":\"#2a3f5f\"},\"type\":\"carpet\"}],\"table\":[{\"cells\":{\"fill\":{\"color\":\"#EBF0F8\"},\"line\":{\"color\":\"white\"}},\"header\":{\"fill\":{\"color\":\"#C8D4E3\"},\"line\":{\"color\":\"white\"}},\"type\":\"table\"}],\"barpolar\":[{\"marker\":{\"line\":{\"color\":\"#E5ECF6\",\"width\":0.5},\"pattern\":{\"fillmode\":\"overlay\",\"size\":10,\"solidity\":0.2}},\"type\":\"barpolar\"}],\"pie\":[{\"automargin\":true,\"type\":\"pie\"}]},\"layout\":{\"autotypenumbers\":\"strict\",\"colorway\":[\"#636efa\",\"#EF553B\",\"#00cc96\",\"#ab63fa\",\"#FFA15A\",\"#19d3f3\",\"#FF6692\",\"#B6E880\",\"#FF97FF\",\"#FECB52\"],\"font\":{\"color\":\"#2a3f5f\"},\"hovermode\":\"closest\",\"hoverlabel\":{\"align\":\"left\"},\"paper_bgcolor\":\"white\",\"plot_bgcolor\":\"#E5ECF6\",\"polar\":{\"bgcolor\":\"#E5ECF6\",\"angularaxis\":{\"gridcolor\":\"white\",\"linecolor\":\"white\",\"ticks\":\"\"},\"radialaxis\":{\"gridcolor\":\"white\",\"linecolor\":\"white\",\"ticks\":\"\"}},\"ternary\":{\"bgcolor\":\"#E5ECF6\",\"aaxis\":{\"gridcolor\":\"white\",\"linecolor\":\"white\",\"ticks\":\"\"},\"baxis\":{\"gridcolor\":\"white\",\"linecolor\":\"white\",\"ticks\":\"\"},\"caxis\":{\"gridcolor\":\"white\",\"linecolor\":\"white\",\"ticks\":\"\"}},\"coloraxis\":{\"colorbar\":{\"outlinewidth\":0,\"ticks\":\"\"}},\"colorscale\":{\"sequential\":[[0.0,\"#0d0887\"],[0.1111111111111111,\"#46039f\"],[0.2222222222222222,\"#7201a8\"],[0.3333333333333333,\"#9c179e\"],[0.4444444444444444,\"#bd3786\"],[0.5555555555555556,\"#d8576b\"],[0.6666666666666666,\"#ed7953\"],[0.7777777777777778,\"#fb9f3a\"],[0.8888888888888888,\"#fdca26\"],[1.0,\"#f0f921\"]],\"sequentialminus\":[[0.0,\"#0d0887\"],[0.1111111111111111,\"#46039f\"],[0.2222222222222222,\"#7201a8\"],[0.3333333333333333,\"#9c179e\"],[0.4444444444444444,\"#bd3786\"],[0.5555555555555556,\"#d8576b\"],[0.6666666666666666,\"#ed7953\"],[0.7777777777777778,\"#fb9f3a\"],[0.8888888888888888,\"#fdca26\"],[1.0,\"#f0f921\"]],\"diverging\":[[0,\"#8e0152\"],[0.1,\"#c51b7d\"],[0.2,\"#de77ae\"],[0.3,\"#f1b6da\"],[0.4,\"#fde0ef\"],[0.5,\"#f7f7f7\"],[0.6,\"#e6f5d0\"],[0.7,\"#b8e186\"],[0.8,\"#7fbc41\"],[0.9,\"#4d9221\"],[1,\"#276419\"]]},\"xaxis\":{\"gridcolor\":\"white\",\"linecolor\":\"white\",\"ticks\":\"\",\"title\":{\"standoff\":15},\"zerolinecolor\":\"white\",\"automargin\":true,\"zerolinewidth\":2},\"yaxis\":{\"gridcolor\":\"white\",\"linecolor\":\"white\",\"ticks\":\"\",\"title\":{\"standoff\":15},\"zerolinecolor\":\"white\",\"automargin\":true,\"zerolinewidth\":2},\"scene\":{\"xaxis\":{\"backgroundcolor\":\"#E5ECF6\",\"gridcolor\":\"white\",\"linecolor\":\"white\",\"showbackground\":true,\"ticks\":\"\",\"zerolinecolor\":\"white\",\"gridwidth\":2},\"yaxis\":{\"backgroundcolor\":\"#E5ECF6\",\"gridcolor\":\"white\",\"linecolor\":\"white\",\"showbackground\":true,\"ticks\":\"\",\"zerolinecolor\":\"white\",\"gridwidth\":2},\"zaxis\":{\"backgroundcolor\":\"#E5ECF6\",\"gridcolor\":\"white\",\"linecolor\":\"white\",\"showbackground\":true,\"ticks\":\"\",\"zerolinecolor\":\"white\",\"gridwidth\":2}},\"shapedefaults\":{\"line\":{\"color\":\"#2a3f5f\"}},\"annotationdefaults\":{\"arrowcolor\":\"#2a3f5f\",\"arrowhead\":0,\"arrowwidth\":1},\"geo\":{\"bgcolor\":\"white\",\"landcolor\":\"#E5ECF6\",\"subunitcolor\":\"white\",\"showland\":true,\"showlakes\":true,\"lakecolor\":\"white\"},\"title\":{\"x\":0.05},\"mapbox\":{\"style\":\"light\"}}},\"xaxis\":{\"anchor\":\"y\",\"domain\":[0.0,1.0],\"title\":{\"text\":\"hospital_length_of_stay\"}},\"yaxis\":{\"anchor\":\"x\",\"domain\":[0.0,0.8316],\"title\":{\"text\":\"density\"}},\"xaxis2\":{\"anchor\":\"y2\",\"domain\":[0.0,1.0],\"matches\":\"x\",\"showticklabels\":false,\"showgrid\":true},\"yaxis2\":{\"anchor\":\"x2\",\"domain\":[0.8416,1.0],\"matches\":\"y2\",\"showticklabels\":false,\"showline\":false,\"ticks\":\"\",\"showgrid\":false},\"legend\":{\"tracegroupgap\":0},\"title\":{\"text\":\"Hospital Length of Stay Distribution (Seed832_thr0.77_perc0.2)\"},\"barmode\":\"relative\"},                        {\"responsive\": true}                    ).then(function(){\n",
       "                            \n",
       "var gd = document.getElementById('5fbb6935-ba16-4874-98ec-e54d6873a8d0');\n",
       "var x = new MutationObserver(function (mutations, observer) {{\n",
       "        var display = window.getComputedStyle(gd).display;\n",
       "        if (!display || display === 'none') {{\n",
       "            console.log([gd, 'removed!']);\n",
       "            Plotly.purge(gd);\n",
       "            observer.disconnect();\n",
       "        }}\n",
       "}});\n",
       "\n",
       "// Listen for the removal of the full notebook cells\n",
       "var notebookContainer = gd.closest('#notebook-container');\n",
       "if (notebookContainer) {{\n",
       "    x.observe(notebookContainer, {childList: true});\n",
       "}}\n",
       "\n",
       "// Listen for the clearing of the current output cell\n",
       "var outputEl = gd.closest('.output');\n",
       "if (outputEl) {{\n",
       "    x.observe(outputEl, {childList: true});\n",
       "}}\n",
       "\n",
       "                        })                };                });            </script>        </div>"
      ]
     },
     "metadata": {},
     "output_type": "display_data"
    }
   ],
   "source": [
    "import plotly.express as px\n",
    "\n",
    "def plot_distribution(dataframe, column_name, description=None):\n",
    "    try:\n",
    "        # Create a Plotly distribution plot with black borders\n",
    "        fig = px.histogram(dataframe, x=column_name, nbins=10, marginal=\"box\", \n",
    "                           title=f\"Distribution of {column_name}\" if description is None else description, \n",
    "                           histnorm='density')\n",
    "\n",
    "        # Customize the histogram bars to add black borders\n",
    "        fig.update_traces(marker=dict(line=dict(color='black', width=1)))\n",
    "\n",
    "        # Show the plot\n",
    "        fig.show()\n",
    "    except Exception as e:\n",
    "        print(f\"An error occurred: {e}\")\n",
    "\n",
    "# Call the function to plot the distribution with a custom description\n",
    "plot_distribution(df, 'hospital_length_of_stay', \"Hospital Length of Stay Distribution (Original Dataset)\")\n",
    "plot_distribution(df1, 'hospital_length_of_stay', \"Hospital Length of Stay Distribution (Seed410_thr0.77_perc0.2)\")\n",
    "plot_distribution(df2, 'hospital_length_of_stay', \"Hospital Length of Stay Distribution (Seed527_thr0.77_perc0.2)\")\n",
    "plot_distribution(df3, 'hospital_length_of_stay', \"Hospital Length of Stay Distribution (Seed222_thr0.77_perc0.2)\")\n",
    "plot_distribution(df4, 'hospital_length_of_stay', \"Hospital Length of Stay Distribution (Seed326_thr0.77_perc0.2)\")\n",
    "plot_distribution(df5, 'hospital_length_of_stay', \"Hospital Length of Stay Distribution (Seed832_thr0.77_perc0.2)\")"
   ]
  },
  {
   "cell_type": "markdown",
   "id": "0d8a68b3",
   "metadata": {},
   "source": [
    "### Function to bin the dataset and find the columns that do not have 0 as values in all the rows"
   ]
  },
  {
   "cell_type": "code",
   "execution_count": 122,
   "id": "b6d3ca98",
   "metadata": {},
   "outputs": [],
   "source": [
    "def bin_hlos_and_create_summary_df(df):\n",
    "    \"\"\"\n",
    "    Creates separate DataFrames based on specific bins for the 'hospital_length_of_stay' column,\n",
    "    removes columns with all zeros, and returns a DataFrame summarizing the column names for each bin.\n",
    "\n",
    "    Parameters:\n",
    "    df (pd.DataFrame): The input DataFrame containing 'hospital_length_of_stay' column.\n",
    "\n",
    "    Returns:\n",
    "    pd.DataFrame: A DataFrame summarizing the column names for each bin.\n",
    "    \"\"\"\n",
    "    # Creating DataFrames for each bin\n",
    "    df_10_20 = df[(df['hospital_length_of_stay'] >= 10) & (df['hospital_length_of_stay'] < 20)]\n",
    "    df_20_30 = df[(df['hospital_length_of_stay'] >= 20) & (df['hospital_length_of_stay'] < 30)]\n",
    "    df_30_40 = df[(df['hospital_length_of_stay'] >= 30) & (df['hospital_length_of_stay'] < 40)]\n",
    "    df_40_50 = df[(df['hospital_length_of_stay'] >= 40) & (df['hospital_length_of_stay'] < 50)]\n",
    "    df_50_60 = df[(df['hospital_length_of_stay'] >= 50) & (df['hospital_length_of_stay'] < 60)]\n",
    "    df_60_70 = df[(df['hospital_length_of_stay'] >= 60) & (df['hospital_length_of_stay'] < 70)]\n",
    "    df_70_80 = df[(df['hospital_length_of_stay'] >= 70) & (df['hospital_length_of_stay'] < 80)]\n",
    "\n",
    "    # Removing columns with all zeros for each DataFrame\n",
    "    df_10_20 = df_10_20.loc[:, (df_10_20 != 0).any()]\n",
    "    df_20_30 = df_20_30.loc[:, (df_20_30 != 0).any()]\n",
    "    df_30_40 = df_30_40.loc[:, (df_30_40 != 0).any()]\n",
    "    df_40_50 = df_40_50.loc[:, (df_40_50 != 0).any()]\n",
    "    df_50_60 = df_50_60.loc[:, (df_50_60 != 0).any()]\n",
    "    df_60_70 = df_60_70.loc[:, (df_60_70 != 0).any()]\n",
    "    df_70_80 = df_70_80.loc[:, (df_70_80 != 0).any()]\n",
    "\n",
    "    # Creating a summary DataFrame for column names\n",
    "    summary_data = {\n",
    "        'Bin': ['10-20', '20-30', '30-40', '40-50', '50-60', '60-70', '70-80'],\n",
    "        'Names': [\n",
    "            df_10_20.columns.tolist(),\n",
    "            df_20_30.columns.tolist(),\n",
    "            df_30_40.columns.tolist(),\n",
    "            df_40_50.columns.tolist(),\n",
    "            df_50_60.columns.tolist(),\n",
    "            df_60_70.columns.tolist(),\n",
    "            df_70_80.columns.tolist()\n",
    "        ]\n",
    "    }\n",
    "    \n",
    "    summary_df = pd.DataFrame(summary_data)\n",
    "\n",
    "    return summary_df"
   ]
  },
  {
   "cell_type": "code",
   "execution_count": 123,
   "id": "ac343785",
   "metadata": {},
   "outputs": [],
   "source": [
    "# Create the summary DataFrame\n",
    "summary_df = bin_hlos_and_create_summary_df(df)\n",
    "summary_df1 = bin_hlos_and_create_summary_df(df1)\n",
    "summary_df2 = bin_hlos_and_create_summary_df(df2)\n",
    "summary_df3 = bin_hlos_and_create_summary_df(df3)\n",
    "summary_df4 = bin_hlos_and_create_summary_df(df4)\n",
    "summary_df5 = bin_hlos_and_create_summary_df(df5)"
   ]
  },
  {
   "cell_type": "code",
   "execution_count": 124,
   "id": "0be47c86",
   "metadata": {},
   "outputs": [
    {
     "data": {
      "text/html": [
       "<div>\n",
       "<style scoped>\n",
       "    .dataframe tbody tr th:only-of-type {\n",
       "        vertical-align: middle;\n",
       "    }\n",
       "\n",
       "    .dataframe tbody tr th {\n",
       "        vertical-align: top;\n",
       "    }\n",
       "\n",
       "    .dataframe thead th {\n",
       "        text-align: right;\n",
       "    }\n",
       "</style>\n",
       "<table border=\"1\" class=\"dataframe\">\n",
       "  <thead>\n",
       "    <tr style=\"text-align: right;\">\n",
       "      <th></th>\n",
       "      <th>Bin</th>\n",
       "      <th>Names</th>\n",
       "    </tr>\n",
       "  </thead>\n",
       "  <tbody>\n",
       "    <tr>\n",
       "      <th>0</th>\n",
       "      <td>10-20</td>\n",
       "      <td>[id, hospital_length_of_stay, age, sex, height...</td>\n",
       "    </tr>\n",
       "    <tr>\n",
       "      <th>1</th>\n",
       "      <td>20-30</td>\n",
       "      <td>[id, hospital_length_of_stay, age, sex, height...</td>\n",
       "    </tr>\n",
       "    <tr>\n",
       "      <th>2</th>\n",
       "      <td>30-40</td>\n",
       "      <td>[id, hospital_length_of_stay, age, sex, height...</td>\n",
       "    </tr>\n",
       "    <tr>\n",
       "      <th>3</th>\n",
       "      <td>40-50</td>\n",
       "      <td>[id, hospital_length_of_stay, age, sex, height...</td>\n",
       "    </tr>\n",
       "    <tr>\n",
       "      <th>4</th>\n",
       "      <td>50-60</td>\n",
       "      <td>[id, hospital_length_of_stay, age, sex, height...</td>\n",
       "    </tr>\n",
       "    <tr>\n",
       "      <th>5</th>\n",
       "      <td>60-70</td>\n",
       "      <td>[id, hospital_length_of_stay, age, sex, height...</td>\n",
       "    </tr>\n",
       "    <tr>\n",
       "      <th>6</th>\n",
       "      <td>70-80</td>\n",
       "      <td>[id, hospital_length_of_stay, age, sex, height...</td>\n",
       "    </tr>\n",
       "  </tbody>\n",
       "</table>\n",
       "</div>"
      ],
      "text/plain": [
       "     Bin                                              Names\n",
       "0  10-20  [id, hospital_length_of_stay, age, sex, height...\n",
       "1  20-30  [id, hospital_length_of_stay, age, sex, height...\n",
       "2  30-40  [id, hospital_length_of_stay, age, sex, height...\n",
       "3  40-50  [id, hospital_length_of_stay, age, sex, height...\n",
       "4  50-60  [id, hospital_length_of_stay, age, sex, height...\n",
       "5  60-70  [id, hospital_length_of_stay, age, sex, height...\n",
       "6  70-80  [id, hospital_length_of_stay, age, sex, height..."
      ]
     },
     "execution_count": 124,
     "metadata": {},
     "output_type": "execute_result"
    }
   ],
   "source": [
    "summary_df"
   ]
  },
  {
   "cell_type": "markdown",
   "id": "8a9f86ef",
   "metadata": {},
   "source": [
    "### Figuring out the different column names"
   ]
  },
  {
   "cell_type": "code",
   "execution_count": 125,
   "id": "92574169",
   "metadata": {},
   "outputs": [],
   "source": [
    "# Define the personal values based on the first 9 columns\n",
    "personal = df_count_values[:9]\n",
    "\n",
    "# Initialize lists for the categories\n",
    "comorbidities = []\n",
    "reason_for_admit = []\n",
    "medications = []\n",
    "\n",
    "# Classify comorbidities\n",
    "for value in df_count_values[7:]:\n",
    "    if value.startswith(\"reason_\"):\n",
    "        break  # Stop if we reach the first 'reason_' column\n",
    "    else:\n",
    "        comorbidities.append(value)  # Append to comorbidities\n",
    "\n",
    "# Filter columns to classify reason for admit and medications\n",
    "filtered_df_count_values = [\n",
    "    value for value in df_count_values if value not in comorbidities and value not in personal\n",
    "]\n",
    "\n",
    "# Populate reason_for_admit and medications lists\n",
    "for value in filtered_df_count_values:\n",
    "    if value.startswith(\"reason_\"):\n",
    "        reason_for_admit.append(value)\n",
    "    else:\n",
    "        medications.append(value)"
   ]
  },
  {
   "cell_type": "markdown",
   "id": "23833553",
   "metadata": {},
   "source": [
    "### Function to find the number of feature types for each bins, personal, medications, reason for admit or comorbidities"
   ]
  },
  {
   "cell_type": "code",
   "execution_count": 126,
   "id": "1039198f",
   "metadata": {},
   "outputs": [
    {
     "data": {
      "text/html": [
       "<div>\n",
       "<style scoped>\n",
       "    .dataframe tbody tr th:only-of-type {\n",
       "        vertical-align: middle;\n",
       "    }\n",
       "\n",
       "    .dataframe tbody tr th {\n",
       "        vertical-align: top;\n",
       "    }\n",
       "\n",
       "    .dataframe thead th {\n",
       "        text-align: right;\n",
       "    }\n",
       "</style>\n",
       "<table border=\"1\" class=\"dataframe\">\n",
       "  <thead>\n",
       "    <tr style=\"text-align: right;\">\n",
       "      <th></th>\n",
       "      <th>Bin</th>\n",
       "      <th>Names</th>\n",
       "      <th>Counts_Personal</th>\n",
       "      <th>Counts_Comorbidities</th>\n",
       "      <th>Counts_Reason_Admit</th>\n",
       "      <th>Counts_Medications</th>\n",
       "    </tr>\n",
       "  </thead>\n",
       "  <tbody>\n",
       "    <tr>\n",
       "      <th>0</th>\n",
       "      <td>10-20</td>\n",
       "      <td>[id, hospital_length_of_stay, age, sex, height...</td>\n",
       "      <td>9</td>\n",
       "      <td>18</td>\n",
       "      <td>15</td>\n",
       "      <td>345</td>\n",
       "    </tr>\n",
       "    <tr>\n",
       "      <th>1</th>\n",
       "      <td>20-30</td>\n",
       "      <td>[id, hospital_length_of_stay, age, sex, height...</td>\n",
       "      <td>9</td>\n",
       "      <td>16</td>\n",
       "      <td>8</td>\n",
       "      <td>162</td>\n",
       "    </tr>\n",
       "    <tr>\n",
       "      <th>2</th>\n",
       "      <td>30-40</td>\n",
       "      <td>[id, hospital_length_of_stay, age, sex, height...</td>\n",
       "      <td>9</td>\n",
       "      <td>16</td>\n",
       "      <td>8</td>\n",
       "      <td>142</td>\n",
       "    </tr>\n",
       "    <tr>\n",
       "      <th>3</th>\n",
       "      <td>40-50</td>\n",
       "      <td>[id, hospital_length_of_stay, age, sex, height...</td>\n",
       "      <td>9</td>\n",
       "      <td>13</td>\n",
       "      <td>3</td>\n",
       "      <td>59</td>\n",
       "    </tr>\n",
       "    <tr>\n",
       "      <th>4</th>\n",
       "      <td>50-60</td>\n",
       "      <td>[id, hospital_length_of_stay, age, sex, height...</td>\n",
       "      <td>8</td>\n",
       "      <td>12</td>\n",
       "      <td>4</td>\n",
       "      <td>31</td>\n",
       "    </tr>\n",
       "    <tr>\n",
       "      <th>5</th>\n",
       "      <td>60-70</td>\n",
       "      <td>[id, hospital_length_of_stay, age, sex, height...</td>\n",
       "      <td>9</td>\n",
       "      <td>5</td>\n",
       "      <td>2</td>\n",
       "      <td>8</td>\n",
       "    </tr>\n",
       "    <tr>\n",
       "      <th>6</th>\n",
       "      <td>70-80</td>\n",
       "      <td>[id, hospital_length_of_stay, age, sex, height...</td>\n",
       "      <td>8</td>\n",
       "      <td>4</td>\n",
       "      <td>1</td>\n",
       "      <td>4</td>\n",
       "    </tr>\n",
       "  </tbody>\n",
       "</table>\n",
       "</div>"
      ],
      "text/plain": [
       "     Bin                                              Names  Counts_Personal  \\\n",
       "0  10-20  [id, hospital_length_of_stay, age, sex, height...                9   \n",
       "1  20-30  [id, hospital_length_of_stay, age, sex, height...                9   \n",
       "2  30-40  [id, hospital_length_of_stay, age, sex, height...                9   \n",
       "3  40-50  [id, hospital_length_of_stay, age, sex, height...                9   \n",
       "4  50-60  [id, hospital_length_of_stay, age, sex, height...                8   \n",
       "5  60-70  [id, hospital_length_of_stay, age, sex, height...                9   \n",
       "6  70-80  [id, hospital_length_of_stay, age, sex, height...                8   \n",
       "\n",
       "   Counts_Comorbidities  Counts_Reason_Admit  Counts_Medications  \n",
       "0                    18                   15                 345  \n",
       "1                    16                    8                 162  \n",
       "2                    16                    8                 142  \n",
       "3                    13                    3                  59  \n",
       "4                    12                    4                  31  \n",
       "5                     5                    2                   8  \n",
       "6                     4                    1                   4  "
      ]
     },
     "execution_count": 126,
     "metadata": {},
     "output_type": "execute_result"
    }
   ],
   "source": [
    "import pandas as pd\n",
    "\n",
    "def check_value(df):\n",
    "    \"\"\"\n",
    "    This function checks which values from various lists are present\n",
    "    in the 'Names' column of the DataFrame and counts their occurrences.\n",
    "    It adds new columns to the DataFrame for each category.\n",
    "\n",
    "    Parameters:\n",
    "    df (pd.DataFrame): Input DataFrame containing a 'Names' column.\n",
    "\n",
    "    Returns:\n",
    "    pd.DataFrame: Updated DataFrame with new count columns.\n",
    "    \"\"\"\n",
    "    # Initialize lists for counts\n",
    "    counts_personal = []\n",
    "    counts_comorbidities = []\n",
    "    counts_reason_admit = []\n",
    "    counts_medications = []\n",
    "\n",
    "    # Check each name in the 'Names' column\n",
    "    for name in df['Names']:\n",
    "        # Count for personal\n",
    "        counts_p = sum(1 for value in personal if value in name)\n",
    "        counts_personal.append(counts_p)\n",
    "\n",
    "        # Count for comorbidities\n",
    "        counts_c = sum(1 for value in comorbidities if value in name)\n",
    "        counts_comorbidities.append(counts_c)\n",
    "\n",
    "        # Count for reason for admit\n",
    "        counts_r = sum(1 for value in reason_for_admit if value in name)\n",
    "        counts_reason_admit.append(counts_r)\n",
    "\n",
    "        # Count for medications\n",
    "        counts_m = sum(1 for value in medications if value in name)\n",
    "        counts_medications.append(counts_m)\n",
    "\n",
    "    # Add new count columns to the DataFrame\n",
    "    df['Counts_Personal'] = counts_personal\n",
    "    df['Counts_Comorbidities'] = counts_comorbidities\n",
    "    df['Counts_Reason_Admit'] = counts_reason_admit\n",
    "    df['Counts_Medications'] = counts_medications\n",
    "\n",
    "    return df\n",
    "\n",
    "# Check values and update DataFrame\n",
    "updated_df = check_value(summary_df)\n",
    "\n",
    "updated_df"
   ]
  },
  {
   "cell_type": "code",
   "execution_count": 127,
   "id": "fd2e194d",
   "metadata": {},
   "outputs": [],
   "source": [
    "# Check values and get counts\n",
    "updated_df1 = check_value(summary_df1)\n",
    "updated_df2 = check_value(summary_df2)\n",
    "updated_df3 = check_value(summary_df3)\n",
    "updated_df4 = check_value(summary_df4)\n",
    "updated_df5 = check_value(summary_df5)"
   ]
  },
  {
   "cell_type": "code",
   "execution_count": 134,
   "id": "67bb43c2",
   "metadata": {},
   "outputs": [
    {
     "data": {
      "text/html": [
       "<div>\n",
       "<style scoped>\n",
       "    .dataframe tbody tr th:only-of-type {\n",
       "        vertical-align: middle;\n",
       "    }\n",
       "\n",
       "    .dataframe tbody tr th {\n",
       "        vertical-align: top;\n",
       "    }\n",
       "\n",
       "    .dataframe thead th {\n",
       "        text-align: right;\n",
       "    }\n",
       "</style>\n",
       "<table border=\"1\" class=\"dataframe\">\n",
       "  <thead>\n",
       "    <tr style=\"text-align: right;\">\n",
       "      <th></th>\n",
       "      <th>Bin</th>\n",
       "      <th>Names</th>\n",
       "      <th>Counts_Personal</th>\n",
       "      <th>Counts_Comorbidities</th>\n",
       "      <th>Counts_Reason_Admit</th>\n",
       "      <th>Counts_Medications</th>\n",
       "    </tr>\n",
       "  </thead>\n",
       "  <tbody>\n",
       "    <tr>\n",
       "      <th>0</th>\n",
       "      <td>10-20</td>\n",
       "      <td>[id, hospital_length_of_stay, age, sex, height...</td>\n",
       "      <td>9</td>\n",
       "      <td>13</td>\n",
       "      <td>8</td>\n",
       "      <td>100</td>\n",
       "    </tr>\n",
       "    <tr>\n",
       "      <th>1</th>\n",
       "      <td>20-30</td>\n",
       "      <td>[id, hospital_length_of_stay, age, sex, height...</td>\n",
       "      <td>9</td>\n",
       "      <td>16</td>\n",
       "      <td>10</td>\n",
       "      <td>123</td>\n",
       "    </tr>\n",
       "    <tr>\n",
       "      <th>2</th>\n",
       "      <td>30-40</td>\n",
       "      <td>[id, hospital_length_of_stay, age, sex, height...</td>\n",
       "      <td>9</td>\n",
       "      <td>18</td>\n",
       "      <td>10</td>\n",
       "      <td>214</td>\n",
       "    </tr>\n",
       "    <tr>\n",
       "      <th>3</th>\n",
       "      <td>40-50</td>\n",
       "      <td>[id, hospital_length_of_stay, age, sex, height...</td>\n",
       "      <td>9</td>\n",
       "      <td>17</td>\n",
       "      <td>9</td>\n",
       "      <td>116</td>\n",
       "    </tr>\n",
       "    <tr>\n",
       "      <th>4</th>\n",
       "      <td>50-60</td>\n",
       "      <td>[id, hospital_length_of_stay, age, sex, height...</td>\n",
       "      <td>9</td>\n",
       "      <td>14</td>\n",
       "      <td>8</td>\n",
       "      <td>55</td>\n",
       "    </tr>\n",
       "    <tr>\n",
       "      <th>5</th>\n",
       "      <td>60-70</td>\n",
       "      <td>[id, hospital_length_of_stay, age, sex, height...</td>\n",
       "      <td>9</td>\n",
       "      <td>10</td>\n",
       "      <td>4</td>\n",
       "      <td>23</td>\n",
       "    </tr>\n",
       "    <tr>\n",
       "      <th>6</th>\n",
       "      <td>70-80</td>\n",
       "      <td>[id, hospital_length_of_stay, age, sex, height...</td>\n",
       "      <td>8</td>\n",
       "      <td>4</td>\n",
       "      <td>1</td>\n",
       "      <td>4</td>\n",
       "    </tr>\n",
       "  </tbody>\n",
       "</table>\n",
       "</div>"
      ],
      "text/plain": [
       "     Bin                                              Names  Counts_Personal  \\\n",
       "0  10-20  [id, hospital_length_of_stay, age, sex, height...                9   \n",
       "1  20-30  [id, hospital_length_of_stay, age, sex, height...                9   \n",
       "2  30-40  [id, hospital_length_of_stay, age, sex, height...                9   \n",
       "3  40-50  [id, hospital_length_of_stay, age, sex, height...                9   \n",
       "4  50-60  [id, hospital_length_of_stay, age, sex, height...                9   \n",
       "5  60-70  [id, hospital_length_of_stay, age, sex, height...                9   \n",
       "6  70-80  [id, hospital_length_of_stay, age, sex, height...                8   \n",
       "\n",
       "   Counts_Comorbidities  Counts_Reason_Admit  Counts_Medications  \n",
       "0                    13                    8                 100  \n",
       "1                    16                   10                 123  \n",
       "2                    18                   10                 214  \n",
       "3                    17                    9                 116  \n",
       "4                    14                    8                  55  \n",
       "5                    10                    4                  23  \n",
       "6                     4                    1                   4  "
      ]
     },
     "execution_count": 134,
     "metadata": {},
     "output_type": "execute_result"
    }
   ],
   "source": [
    "updated_df5"
   ]
  },
  {
   "cell_type": "code",
   "execution_count": null,
   "id": "41dd1551",
   "metadata": {},
   "outputs": [],
   "source": []
  }
 ],
 "metadata": {
  "kernelspec": {
   "display_name": "Python 3 (ipykernel)",
   "language": "python",
   "name": "python3"
  },
  "language_info": {
   "codemirror_mode": {
    "name": "ipython",
    "version": 3
   },
   "file_extension": ".py",
   "mimetype": "text/x-python",
   "name": "python",
   "nbconvert_exporter": "python",
   "pygments_lexer": "ipython3",
   "version": "3.11.5"
  }
 },
 "nbformat": 4,
 "nbformat_minor": 5
}
