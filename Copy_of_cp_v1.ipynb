{
  "nbformat": 4,
  "nbformat_minor": 0,
  "metadata": {
    "colab": {
      "provenance": [],
      "include_colab_link": true
    },
    "kernelspec": {
      "name": "python3",
      "display_name": "Python 3"
    },
    "language_info": {
      "name": "python"
    }
  },
  "cells": [
    {
      "cell_type": "markdown",
      "metadata": {
        "id": "view-in-github",
        "colab_type": "text"
      },
      "source": [
        "<a href=\"https://colab.research.google.com/github/Haimonti/CarePathways/blob/main/Copy_of_cp_v1.ipynb\" target=\"_parent\"><img src=\"https://colab.research.google.com/assets/colab-badge.svg\" alt=\"Open In Colab\"/></a>"
      ]
    },
    {
      "cell_type": "code",
      "execution_count": null,
      "metadata": {
        "colab": {
          "base_uri": "https://localhost:8080/"
        },
        "id": "qrnBDOO8SCty",
        "outputId": "4ea5157e-3b8c-4315-95fa-767bf3f5ac65"
      },
      "outputs": [
        {
          "output_type": "stream",
          "name": "stdout",
          "text": [
            "Looking in links: https://data.dgl.ai/wheels/repo.html\n",
            "Collecting dgl\n",
            "  Downloading dgl-1.1.2-cp310-cp310-manylinux1_x86_64.whl (6.0 MB)\n",
            "\u001b[2K     \u001b[90m━━━━━━━━━━━━━━━━━━━━━━━━━━━━━━━━━━━━━━━━\u001b[0m \u001b[32m6.0/6.0 MB\u001b[0m \u001b[31m13.5 MB/s\u001b[0m eta \u001b[36m0:00:00\u001b[0m\n",
            "\u001b[?25hRequirement already satisfied: numpy>=1.14.0 in /usr/local/lib/python3.10/dist-packages (from dgl) (1.23.5)\n",
            "Requirement already satisfied: scipy>=1.1.0 in /usr/local/lib/python3.10/dist-packages (from dgl) (1.10.1)\n",
            "Requirement already satisfied: networkx>=2.1 in /usr/local/lib/python3.10/dist-packages (from dgl) (3.1)\n",
            "Requirement already satisfied: requests>=2.19.0 in /usr/local/lib/python3.10/dist-packages (from dgl) (2.31.0)\n",
            "Requirement already satisfied: tqdm in /usr/local/lib/python3.10/dist-packages (from dgl) (4.66.1)\n",
            "Requirement already satisfied: psutil>=5.8.0 in /usr/local/lib/python3.10/dist-packages (from dgl) (5.9.5)\n",
            "Requirement already satisfied: charset-normalizer<4,>=2 in /usr/local/lib/python3.10/dist-packages (from requests>=2.19.0->dgl) (3.2.0)\n",
            "Requirement already satisfied: idna<4,>=2.5 in /usr/local/lib/python3.10/dist-packages (from requests>=2.19.0->dgl) (3.4)\n",
            "Requirement already satisfied: urllib3<3,>=1.21.1 in /usr/local/lib/python3.10/dist-packages (from requests>=2.19.0->dgl) (2.0.4)\n",
            "Requirement already satisfied: certifi>=2017.4.17 in /usr/local/lib/python3.10/dist-packages (from requests>=2.19.0->dgl) (2023.7.22)\n",
            "Installing collected packages: dgl\n",
            "Successfully installed dgl-1.1.2\n"
          ]
        }
      ],
      "source": [
        "pip install  dgl -f https://data.dgl.ai/wheels/repo.html"
      ]
    },
    {
      "cell_type": "code",
      "source": [
        "pip install optuna"
      ],
      "metadata": {
        "colab": {
          "base_uri": "https://localhost:8080/"
        },
        "id": "pug_o26VIMoJ",
        "outputId": "7b077573-11b6-4259-d705-0ab70af877fb"
      },
      "execution_count": null,
      "outputs": [
        {
          "output_type": "stream",
          "name": "stdout",
          "text": [
            "Collecting optuna\n",
            "  Downloading optuna-3.3.0-py3-none-any.whl (404 kB)\n",
            "\u001b[2K     \u001b[90m━━━━━━━━━━━━━━━━━━━━━━━━━━━━━━━━━━━━━━━\u001b[0m \u001b[32m404.2/404.2 kB\u001b[0m \u001b[31m4.7 MB/s\u001b[0m eta \u001b[36m0:00:00\u001b[0m\n",
            "\u001b[?25hCollecting alembic>=1.5.0 (from optuna)\n",
            "  Downloading alembic-1.12.0-py3-none-any.whl (226 kB)\n",
            "\u001b[2K     \u001b[90m━━━━━━━━━━━━━━━━━━━━━━━━━━━━━━━━━━━━━━\u001b[0m \u001b[32m226.0/226.0 kB\u001b[0m \u001b[31m12.2 MB/s\u001b[0m eta \u001b[36m0:00:00\u001b[0m\n",
            "\u001b[?25hCollecting cmaes>=0.10.0 (from optuna)\n",
            "  Downloading cmaes-0.10.0-py3-none-any.whl (29 kB)\n",
            "Collecting colorlog (from optuna)\n",
            "  Downloading colorlog-6.7.0-py2.py3-none-any.whl (11 kB)\n",
            "Requirement already satisfied: numpy in /usr/local/lib/python3.10/dist-packages (from optuna) (1.23.5)\n",
            "Requirement already satisfied: packaging>=20.0 in /usr/local/lib/python3.10/dist-packages (from optuna) (23.1)\n",
            "Requirement already satisfied: sqlalchemy>=1.3.0 in /usr/local/lib/python3.10/dist-packages (from optuna) (2.0.20)\n",
            "Requirement already satisfied: tqdm in /usr/local/lib/python3.10/dist-packages (from optuna) (4.66.1)\n",
            "Requirement already satisfied: PyYAML in /usr/local/lib/python3.10/dist-packages (from optuna) (6.0.1)\n",
            "Collecting Mako (from alembic>=1.5.0->optuna)\n",
            "  Downloading Mako-1.2.4-py3-none-any.whl (78 kB)\n",
            "\u001b[2K     \u001b[90m━━━━━━━━━━━━━━━━━━━━━━━━━━━━━━━━━━━━━━━━\u001b[0m \u001b[32m78.7/78.7 kB\u001b[0m \u001b[31m8.5 MB/s\u001b[0m eta \u001b[36m0:00:00\u001b[0m\n",
            "\u001b[?25hRequirement already satisfied: typing-extensions>=4 in /usr/local/lib/python3.10/dist-packages (from alembic>=1.5.0->optuna) (4.7.1)\n",
            "Requirement already satisfied: greenlet!=0.4.17 in /usr/local/lib/python3.10/dist-packages (from sqlalchemy>=1.3.0->optuna) (2.0.2)\n",
            "Requirement already satisfied: MarkupSafe>=0.9.2 in /usr/local/lib/python3.10/dist-packages (from Mako->alembic>=1.5.0->optuna) (2.1.3)\n",
            "Installing collected packages: Mako, colorlog, cmaes, alembic, optuna\n",
            "Successfully installed Mako-1.2.4 alembic-1.12.0 cmaes-0.10.0 colorlog-6.7.0 optuna-3.3.0\n"
          ]
        }
      ]
    },
    {
      "cell_type": "code",
      "source": [
        "pip install  dglgo -f https://data.dgl.ai/wheels-test/repo.html"
      ],
      "metadata": {
        "colab": {
          "base_uri": "https://localhost:8080/"
        },
        "id": "tuUSapAfSkZS",
        "outputId": "40a54a6b-e986-4356-e5c6-b49117b55f82"
      },
      "execution_count": null,
      "outputs": [
        {
          "output_type": "stream",
          "name": "stdout",
          "text": [
            "Looking in links: https://data.dgl.ai/wheels-test/repo.html\n",
            "Collecting dglgo\n",
            "  Downloading dglgo-0.0.2-py3-none-any.whl (63 kB)\n",
            "\u001b[2K     \u001b[90m━━━━━━━━━━━━━━━━━━━━━━━━━━━━━━━━━━━━━━━\u001b[0m \u001b[32m63.5/63.5 kB\u001b[0m \u001b[31m522.6 kB/s\u001b[0m eta \u001b[36m0:00:00\u001b[0m\n",
            "\u001b[?25hRequirement already satisfied: typer>=0.4.0 in /usr/local/lib/python3.10/dist-packages (from dglgo) (0.9.0)\n",
            "Collecting isort>=5.10.1 (from dglgo)\n",
            "  Downloading isort-5.12.0-py3-none-any.whl (91 kB)\n",
            "\u001b[2K     \u001b[90m━━━━━━━━━━━━━━━━━━━━━━━━━━━━━━━━━━━━━━━━\u001b[0m \u001b[32m91.2/91.2 kB\u001b[0m \u001b[31m3.1 MB/s\u001b[0m eta \u001b[36m0:00:00\u001b[0m\n",
            "\u001b[?25hCollecting autopep8>=1.6.0 (from dglgo)\n",
            "  Downloading autopep8-2.0.4-py2.py3-none-any.whl (45 kB)\n",
            "\u001b[2K     \u001b[90m━━━━━━━━━━━━━━━━━━━━━━━━━━━━━━━━━━━━━━━━\u001b[0m \u001b[32m45.3/45.3 kB\u001b[0m \u001b[31m3.8 MB/s\u001b[0m eta \u001b[36m0:00:00\u001b[0m\n",
            "\u001b[?25hCollecting numpydoc>=1.1.0 (from dglgo)\n",
            "  Downloading numpydoc-1.5.0-py3-none-any.whl (52 kB)\n",
            "\u001b[2K     \u001b[90m━━━━━━━━━━━━━━━━━━━━━━━━━━━━━━━━━━━━━━━━\u001b[0m \u001b[32m52.4/52.4 kB\u001b[0m \u001b[31m5.2 MB/s\u001b[0m eta \u001b[36m0:00:00\u001b[0m\n",
            "\u001b[?25hRequirement already satisfied: pydantic>=1.9.0 in /usr/local/lib/python3.10/dist-packages (from dglgo) (2.3.0)\n",
            "Collecting ruamel.yaml>=0.17.20 (from dglgo)\n",
            "  Downloading ruamel.yaml-0.17.32-py3-none-any.whl (112 kB)\n",
            "\u001b[2K     \u001b[90m━━━━━━━━━━━━━━━━━━━━━━━━━━━━━━━━━━━━━━━\u001b[0m \u001b[32m112.2/112.2 kB\u001b[0m \u001b[31m5.1 MB/s\u001b[0m eta \u001b[36m0:00:00\u001b[0m\n",
            "\u001b[?25hRequirement already satisfied: PyYAML>=5.1 in /usr/local/lib/python3.10/dist-packages (from dglgo) (6.0.1)\n",
            "Collecting ogb>=1.3.3 (from dglgo)\n",
            "  Downloading ogb-1.3.6-py3-none-any.whl (78 kB)\n",
            "\u001b[2K     \u001b[90m━━━━━━━━━━━━━━━━━━━━━━━━━━━━━━━━━━━━━━━━\u001b[0m \u001b[32m78.8/78.8 kB\u001b[0m \u001b[31m5.4 MB/s\u001b[0m eta \u001b[36m0:00:00\u001b[0m\n",
            "\u001b[?25hCollecting rdkit-pypi (from dglgo)\n",
            "  Downloading rdkit_pypi-2022.9.5-cp310-cp310-manylinux_2_17_x86_64.manylinux2014_x86_64.whl (29.4 MB)\n",
            "\u001b[2K     \u001b[90m━━━━━━━━━━━━━━━━━━━━━━━━━━━━━━━━━━━━━━━━\u001b[0m \u001b[32m29.4/29.4 MB\u001b[0m \u001b[31m31.6 MB/s\u001b[0m eta \u001b[36m0:00:00\u001b[0m\n",
            "\u001b[?25hRequirement already satisfied: scikit-learn>=0.20.0 in /usr/local/lib/python3.10/dist-packages (from dglgo) (1.2.2)\n",
            "Collecting pycodestyle>=2.10.0 (from autopep8>=1.6.0->dglgo)\n",
            "  Downloading pycodestyle-2.11.0-py2.py3-none-any.whl (31 kB)\n",
            "Requirement already satisfied: tomli in /usr/local/lib/python3.10/dist-packages (from autopep8>=1.6.0->dglgo) (2.0.1)\n",
            "Requirement already satisfied: sphinx>=4.2 in /usr/local/lib/python3.10/dist-packages (from numpydoc>=1.1.0->dglgo) (5.0.2)\n",
            "Requirement already satisfied: Jinja2>=2.10 in /usr/local/lib/python3.10/dist-packages (from numpydoc>=1.1.0->dglgo) (3.1.2)\n",
            "Requirement already satisfied: torch>=1.6.0 in /usr/local/lib/python3.10/dist-packages (from ogb>=1.3.3->dglgo) (2.0.1+cu118)\n",
            "Requirement already satisfied: numpy>=1.16.0 in /usr/local/lib/python3.10/dist-packages (from ogb>=1.3.3->dglgo) (1.23.5)\n",
            "Requirement already satisfied: tqdm>=4.29.0 in /usr/local/lib/python3.10/dist-packages (from ogb>=1.3.3->dglgo) (4.66.1)\n",
            "Requirement already satisfied: pandas>=0.24.0 in /usr/local/lib/python3.10/dist-packages (from ogb>=1.3.3->dglgo) (1.5.3)\n",
            "Requirement already satisfied: six>=1.12.0 in /usr/local/lib/python3.10/dist-packages (from ogb>=1.3.3->dglgo) (1.16.0)\n",
            "Requirement already satisfied: urllib3>=1.24.0 in /usr/local/lib/python3.10/dist-packages (from ogb>=1.3.3->dglgo) (2.0.4)\n",
            "Collecting outdated>=0.2.0 (from ogb>=1.3.3->dglgo)\n",
            "  Downloading outdated-0.2.2-py2.py3-none-any.whl (7.5 kB)\n",
            "Requirement already satisfied: annotated-types>=0.4.0 in /usr/local/lib/python3.10/dist-packages (from pydantic>=1.9.0->dglgo) (0.5.0)\n",
            "Requirement already satisfied: pydantic-core==2.6.3 in /usr/local/lib/python3.10/dist-packages (from pydantic>=1.9.0->dglgo) (2.6.3)\n",
            "Requirement already satisfied: typing-extensions>=4.6.1 in /usr/local/lib/python3.10/dist-packages (from pydantic>=1.9.0->dglgo) (4.7.1)\n",
            "Collecting ruamel.yaml.clib>=0.2.7 (from ruamel.yaml>=0.17.20->dglgo)\n",
            "  Downloading ruamel.yaml.clib-0.2.7-cp310-cp310-manylinux_2_17_x86_64.manylinux2014_x86_64.manylinux_2_24_x86_64.whl (485 kB)\n",
            "\u001b[2K     \u001b[90m━━━━━━━━━━━━━━━━━━━━━━━━━━━━━━━━━━━━━━\u001b[0m \u001b[32m485.6/485.6 kB\u001b[0m \u001b[31m36.5 MB/s\u001b[0m eta \u001b[36m0:00:00\u001b[0m\n",
            "\u001b[?25hRequirement already satisfied: scipy>=1.3.2 in /usr/local/lib/python3.10/dist-packages (from scikit-learn>=0.20.0->dglgo) (1.10.1)\n",
            "Requirement already satisfied: joblib>=1.1.1 in /usr/local/lib/python3.10/dist-packages (from scikit-learn>=0.20.0->dglgo) (1.3.2)\n",
            "Requirement already satisfied: threadpoolctl>=2.0.0 in /usr/local/lib/python3.10/dist-packages (from scikit-learn>=0.20.0->dglgo) (3.2.0)\n",
            "Requirement already satisfied: click<9.0.0,>=7.1.1 in /usr/local/lib/python3.10/dist-packages (from typer>=0.4.0->dglgo) (8.1.7)\n",
            "Requirement already satisfied: Pillow in /usr/local/lib/python3.10/dist-packages (from rdkit-pypi->dglgo) (9.4.0)\n",
            "Requirement already satisfied: MarkupSafe>=2.0 in /usr/local/lib/python3.10/dist-packages (from Jinja2>=2.10->numpydoc>=1.1.0->dglgo) (2.1.3)\n",
            "Requirement already satisfied: setuptools>=44 in /usr/local/lib/python3.10/dist-packages (from outdated>=0.2.0->ogb>=1.3.3->dglgo) (67.7.2)\n",
            "Collecting littleutils (from outdated>=0.2.0->ogb>=1.3.3->dglgo)\n",
            "  Downloading littleutils-0.2.2.tar.gz (6.6 kB)\n",
            "  Preparing metadata (setup.py) ... \u001b[?25l\u001b[?25hdone\n",
            "Requirement already satisfied: requests in /usr/local/lib/python3.10/dist-packages (from outdated>=0.2.0->ogb>=1.3.3->dglgo) (2.31.0)\n",
            "Requirement already satisfied: python-dateutil>=2.8.1 in /usr/local/lib/python3.10/dist-packages (from pandas>=0.24.0->ogb>=1.3.3->dglgo) (2.8.2)\n",
            "Requirement already satisfied: pytz>=2020.1 in /usr/local/lib/python3.10/dist-packages (from pandas>=0.24.0->ogb>=1.3.3->dglgo) (2023.3.post1)\n",
            "Requirement already satisfied: sphinxcontrib-applehelp in /usr/local/lib/python3.10/dist-packages (from sphinx>=4.2->numpydoc>=1.1.0->dglgo) (1.0.7)\n",
            "Requirement already satisfied: sphinxcontrib-devhelp in /usr/local/lib/python3.10/dist-packages (from sphinx>=4.2->numpydoc>=1.1.0->dglgo) (1.0.5)\n",
            "Requirement already satisfied: sphinxcontrib-jsmath in /usr/local/lib/python3.10/dist-packages (from sphinx>=4.2->numpydoc>=1.1.0->dglgo) (1.0.1)\n",
            "Requirement already satisfied: sphinxcontrib-htmlhelp>=2.0.0 in /usr/local/lib/python3.10/dist-packages (from sphinx>=4.2->numpydoc>=1.1.0->dglgo) (2.0.4)\n",
            "Requirement already satisfied: sphinxcontrib-serializinghtml>=1.1.5 in /usr/local/lib/python3.10/dist-packages (from sphinx>=4.2->numpydoc>=1.1.0->dglgo) (1.1.9)\n",
            "Requirement already satisfied: sphinxcontrib-qthelp in /usr/local/lib/python3.10/dist-packages (from sphinx>=4.2->numpydoc>=1.1.0->dglgo) (1.0.6)\n",
            "Requirement already satisfied: Pygments>=2.0 in /usr/local/lib/python3.10/dist-packages (from sphinx>=4.2->numpydoc>=1.1.0->dglgo) (2.16.1)\n",
            "Requirement already satisfied: docutils<0.19,>=0.14 in /usr/local/lib/python3.10/dist-packages (from sphinx>=4.2->numpydoc>=1.1.0->dglgo) (0.18.1)\n",
            "Requirement already satisfied: snowballstemmer>=1.1 in /usr/local/lib/python3.10/dist-packages (from sphinx>=4.2->numpydoc>=1.1.0->dglgo) (2.2.0)\n",
            "Requirement already satisfied: babel>=1.3 in /usr/local/lib/python3.10/dist-packages (from sphinx>=4.2->numpydoc>=1.1.0->dglgo) (2.12.1)\n",
            "Requirement already satisfied: alabaster<0.8,>=0.7 in /usr/local/lib/python3.10/dist-packages (from sphinx>=4.2->numpydoc>=1.1.0->dglgo) (0.7.13)\n",
            "Requirement already satisfied: imagesize in /usr/local/lib/python3.10/dist-packages (from sphinx>=4.2->numpydoc>=1.1.0->dglgo) (1.4.1)\n",
            "Requirement already satisfied: packaging in /usr/local/lib/python3.10/dist-packages (from sphinx>=4.2->numpydoc>=1.1.0->dglgo) (23.1)\n",
            "Requirement already satisfied: filelock in /usr/local/lib/python3.10/dist-packages (from torch>=1.6.0->ogb>=1.3.3->dglgo) (3.12.3)\n",
            "Requirement already satisfied: sympy in /usr/local/lib/python3.10/dist-packages (from torch>=1.6.0->ogb>=1.3.3->dglgo) (1.12)\n",
            "Requirement already satisfied: networkx in /usr/local/lib/python3.10/dist-packages (from torch>=1.6.0->ogb>=1.3.3->dglgo) (3.1)\n",
            "Requirement already satisfied: triton==2.0.0 in /usr/local/lib/python3.10/dist-packages (from torch>=1.6.0->ogb>=1.3.3->dglgo) (2.0.0)\n",
            "Requirement already satisfied: cmake in /usr/local/lib/python3.10/dist-packages (from triton==2.0.0->torch>=1.6.0->ogb>=1.3.3->dglgo) (3.27.2)\n",
            "Requirement already satisfied: lit in /usr/local/lib/python3.10/dist-packages (from triton==2.0.0->torch>=1.6.0->ogb>=1.3.3->dglgo) (16.0.6)\n",
            "Requirement already satisfied: charset-normalizer<4,>=2 in /usr/local/lib/python3.10/dist-packages (from requests->outdated>=0.2.0->ogb>=1.3.3->dglgo) (3.2.0)\n",
            "Requirement already satisfied: idna<4,>=2.5 in /usr/local/lib/python3.10/dist-packages (from requests->outdated>=0.2.0->ogb>=1.3.3->dglgo) (3.4)\n",
            "Requirement already satisfied: certifi>=2017.4.17 in /usr/local/lib/python3.10/dist-packages (from requests->outdated>=0.2.0->ogb>=1.3.3->dglgo) (2023.7.22)\n",
            "Requirement already satisfied: mpmath>=0.19 in /usr/local/lib/python3.10/dist-packages (from sympy->torch>=1.6.0->ogb>=1.3.3->dglgo) (1.3.0)\n",
            "Building wheels for collected packages: littleutils\n",
            "  Building wheel for littleutils (setup.py) ... \u001b[?25l\u001b[?25hdone\n",
            "  Created wheel for littleutils: filename=littleutils-0.2.2-py3-none-any.whl size=7028 sha256=7f8e5999fcc6c79edd63f639a214af9d20d45d16576032c7af8c5bcae55afbf9\n",
            "  Stored in directory: /root/.cache/pip/wheels/3d/fe/b0/27a9892da57472e538c7452a721a9cf463cc03cf7379889266\n",
            "Successfully built littleutils\n",
            "Installing collected packages: littleutils, ruamel.yaml.clib, rdkit-pypi, pycodestyle, isort, ruamel.yaml, outdated, autopep8, ogb, numpydoc, dglgo\n",
            "Successfully installed autopep8-2.0.4 dglgo-0.0.2 isort-5.12.0 littleutils-0.2.2 numpydoc-1.5.0 ogb-1.3.6 outdated-0.2.2 pycodestyle-2.11.0 rdkit-pypi-2022.9.5 ruamel.yaml-0.17.32 ruamel.yaml.clib-0.2.7\n"
          ]
        }
      ]
    },
    {
      "cell_type": "code",
      "source": [
        "import optuna\n",
        "from optuna.trial import TrialState"
      ],
      "metadata": {
        "id": "xXuTdbVFIURp"
      },
      "execution_count": null,
      "outputs": []
    },
    {
      "cell_type": "code",
      "source": [
        "import numpy as np"
      ],
      "metadata": {
        "id": "rZRxfuIkk5C1"
      },
      "execution_count": null,
      "outputs": []
    },
    {
      "cell_type": "code",
      "source": [
        "import pandas as pd\n",
        "from google.colab import drive\n",
        "drive.mount('/content/drive')\n",
        "df = pd.read_csv(\"/content/drive/MyDrive/healthcare_gnn/someTest.csv\")\n",
        "df.shape"
      ],
      "metadata": {
        "colab": {
          "base_uri": "https://localhost:8080/"
        },
        "id": "oOTtSN15C0ys",
        "outputId": "9e72b60d-d3a8-4686-802a-7cc963d8e883"
      },
      "execution_count": null,
      "outputs": [
        {
          "output_type": "stream",
          "name": "stdout",
          "text": [
            "Mounted at /content/drive\n"
          ]
        },
        {
          "output_type": "execute_result",
          "data": {
            "text/plain": [
              "(145598, 3)"
            ]
          },
          "metadata": {},
          "execution_count": 9
        }
      ]
    },
    {
      "cell_type": "code",
      "source": [
        "import os\n",
        "\n",
        "os.environ[\"DGLBACKEND\"] = \"pytorch\"\n",
        "import dgl\n",
        "import dgl.data\n",
        "from dgl.data import DGLDataset\n",
        "from dgl.data import CSVDataset\n",
        "import torch\n",
        "import torch.nn as nn\n",
        "import torch.nn.functional as F\n",
        "\n",
        "import pandas as pd\n",
        "from google.colab import drive\n",
        "drive.mount('/content/drive')\n",
        "\n",
        "class CarePathwaysDataset(DGLDataset):\n",
        "\n",
        "        def __init__(self):\n",
        "          super().__init__(name=\"care_pthways\")\n",
        "\n",
        "        def process(self):\n",
        "          nodes_data = pd.read_csv(\"/content/drive/MyDrive/healthcare_gnn/pt_pathways-v4.csv\")\n",
        "          print(nodes_data.shape)\n",
        "          #Attribute names\n",
        "          print(nodes_data.columns)\n",
        "          node_feat = nodes_data.drop(['id','Mean HLOS'], axis=1)\n",
        "          print(f\"Node Features Dimension {node_feat.shape}\")\n",
        "          tsr_feat = torch. tensor(node_feat.values)\n",
        "          torch.save(tsr_feat, 'data.pt')\n",
        "\n",
        "          edges_data = pd.read_csv(\"/content/drive/MyDrive/healthcare_gnn/someTest.csv\")\n",
        "          #node_features = torch.from_numpy(nodes_data[\"age\"].to_numpy())\n",
        "          node_features = tsr_feat\n",
        "          node_labels = torch.from_numpy(nodes_data[\"Mean HLOS\"].astype(float).to_numpy())\n",
        "          edge_features = torch.from_numpy(edges_data[\"Weight\"].to_numpy())\n",
        "          edges_src = torch.from_numpy(edges_data[\"Src\"].to_numpy())\n",
        "          edges_dst = torch.from_numpy(edges_data[\"Dst\"].to_numpy())\n",
        "\n",
        "          self.graph = dgl.graph((edges_src, edges_dst),num_nodes=nodes_data.shape[0])\n",
        "          self.graph.ndata[\"feat\"] = node_features\n",
        "          self.graph.ndata[\"label\"] = node_labels\n",
        "          self.graph.edata[\"weight\"] = edge_features\n",
        "\n",
        "           # If your dataset is a node classification dataset, you will need to assign\n",
        "          # masks indicating whether a node belongs to training, validation, and test set.\n",
        "          n_nodes = nodes_data.shape[0]\n",
        "          n_train = int(n_nodes * 0.6)\n",
        "          #train_inst = pd.read_csv(\"/content/drive/MyDrive/CarePathways/ptTrainInd.csv\")\n",
        "          n_val = int(n_nodes * 0.2)\n",
        "          #val_inst = pd.read_csv(\"/content/drive/MyDrive/CarePathways/ptValidInd.csv\")\n",
        "          n_test = 100\n",
        "          #test_inst = pd.read_csv(\"/content/drive/MyDrive/CarePathways/ptTestInd.csv\")\n",
        "          train_mask = torch.zeros(n_nodes, dtype=torch.int)\n",
        "          val_mask = torch.zeros(n_nodes, dtype=torch.int)\n",
        "          test_mask = torch.zeros(n_nodes, dtype=torch.int)\n",
        "          train_mask[:n_train] = int(1)\n",
        "          val_mask[n_train : n_train + n_val] = int(1)\n",
        "          test_mask[n_train + n_val :] = int(1)\n",
        "          self.graph.ndata[\"train_mask\"] = train_mask\n",
        "          self.graph.ndata[\"val_mask\"] = val_mask\n",
        "          self.graph.ndata[\"test_mask\"] = test_mask\n",
        "\n",
        "        def __getitem__(self, i):\n",
        "          return self.graph\n",
        "\n",
        "        def __len__(self):\n",
        "          return 1\n",
        "\n",
        "dataset = CarePathwaysDataset()\n",
        "g = dataset[0]\n",
        "print(g)\n",
        "\n",
        "# Gather statistics from the graph\n",
        "print(f\"Number of nodes {g.num_nodes}\")\n",
        "print(f\"Number of edges {g.num_edges}\")\n",
        "#print(f\"Average node degree {g.num_edges / g.num_nodes}\")\n",
        "#print(f\"Number of training nodes {train_mask.shape}\")\n"
      ],
      "metadata": {
        "colab": {
          "base_uri": "https://localhost:8080/"
        },
        "id": "rgez3juQC8uB",
        "outputId": "9cf51139-66f0-4120-a7de-76d94dcaa165"
      },
      "execution_count": null,
      "outputs": [
        {
          "output_type": "stream",
          "name": "stdout",
          "text": [
            "Drive already mounted at /content/drive; to attempt to forcibly remount, call drive.mount(\"/content/drive\", force_remount=True).\n",
            "(508, 45)\n",
            "Index(['id', 'admission_disposition', 'age', 'sex', 'Hypertension',\n",
            "       'Chronic cardiac disease (not hypertension)', 'N/A', 'Diabetes',\n",
            "       'History of cancer [now in remission]', 'Other', 'Kidney disease',\n",
            "       'Obesity', 'Asthma', 'Rheumatologic disorder',\n",
            "       'Dementia [any etiology]', 'Chronic pulmonary (lung) disease',\n",
            "       'Pregnancy', 'Stroke', 'Cancer [active only]', 'Liver disease',\n",
            "       'Chronic renal', 'Chronic neurological disorder', 'Hematological',\n",
            "       'reason_for_admission_ARDS (adult respiratory distress syndrome) [J80]',\n",
            "       'reason_for_admission_Acquired respiratory distress syndrome [J80]',\n",
            "       'reason_for_admission_COVID-19 [U07.1]',\n",
            "       'reason_for_admission_COVID-19 determined by clinical diagnostic criteria [U07.2]',\n",
            "       'reason_for_admission_COVID-19 virus infection [U07.1]',\n",
            "       'reason_for_admission_COVID-19 with multiple comorbidities [U07.1]',\n",
            "       'reason_for_admission_Coronavirus infection [B34.2]',\n",
            "       'reason_for_admission_Cough [R05]',\n",
            "       'reason_for_admission_Febrile respiratory illness [J98.9, R50.9]',\n",
            "       'reason_for_admission_Fever of unknown origin [R50.9]',\n",
            "       'reason_for_admission_Hypoxemia [R09.0]',\n",
            "       'reason_for_admission_Hypoxia [R09.0]',\n",
            "       'reason_for_admission_Pneumonia [J18.9]',\n",
            "       'reason_for_admission_Pneumonia due to 2019-nCoV [U07.1, J12.8]',\n",
            "       'reason_for_admission_Pneumonia due to COVID-19 virus [U07.1, J12.8]',\n",
            "       'reason_for_admission_Respiratory distress [R06.0]',\n",
            "       'reason_for_admission_Respiratory failure [J96.99]',\n",
            "       'reason_for_admission_Respiratory tract infection [J98.8]',\n",
            "       'reason_for_admission_Shortness of breath [R06.0]',\n",
            "       'reason_for_admission_Shortness of breath with exposure to COVID-19 virus [R06.0, U07.2]',\n",
            "       'reason_for_admission_Suspected COVID-19 virus infection [U07.2]',\n",
            "       'Mean HLOS'],\n",
            "      dtype='object')\n",
            "Node Features Dimension (508, 43)\n",
            "Graph(num_nodes=508, num_edges=145598,\n",
            "      ndata_schemes={'feat': Scheme(shape=(43,), dtype=torch.int64), 'label': Scheme(shape=(), dtype=torch.float64), 'train_mask': Scheme(shape=(), dtype=torch.int32), 'val_mask': Scheme(shape=(), dtype=torch.int32), 'test_mask': Scheme(shape=(), dtype=torch.int32)}\n",
            "      edata_schemes={'weight': Scheme(shape=(), dtype=torch.float64)})\n",
            "Number of nodes <bound method DGLGraph.num_nodes of Graph(num_nodes=508, num_edges=145598,\n",
            "      ndata_schemes={'feat': Scheme(shape=(43,), dtype=torch.int64), 'label': Scheme(shape=(), dtype=torch.float64), 'train_mask': Scheme(shape=(), dtype=torch.int32), 'val_mask': Scheme(shape=(), dtype=torch.int32), 'test_mask': Scheme(shape=(), dtype=torch.int32)}\n",
            "      edata_schemes={'weight': Scheme(shape=(), dtype=torch.float64)})>\n",
            "Number of edges <bound method DGLGraph.num_edges of Graph(num_nodes=508, num_edges=145598,\n",
            "      ndata_schemes={'feat': Scheme(shape=(43,), dtype=torch.int64), 'label': Scheme(shape=(), dtype=torch.float64), 'train_mask': Scheme(shape=(), dtype=torch.int32), 'val_mask': Scheme(shape=(), dtype=torch.int32), 'test_mask': Scheme(shape=(), dtype=torch.int32)}\n",
            "      edata_schemes={'weight': Scheme(shape=(), dtype=torch.float64)})>\n"
          ]
        }
      ]
    },
    {
      "cell_type": "code",
      "source": [
        "nodes_data = pd.read_csv(\"/content/drive/MyDrive/healthcare_gnn/pt_pathways-v4_reg.csv\")\n",
        "nodes_data['Unnamed: 0']"
      ],
      "metadata": {
        "colab": {
          "base_uri": "https://localhost:8080/"
        },
        "id": "NvJn0KyylZk2",
        "outputId": "bba6b31b-e1ca-4512-dfe9-d4c6c5ca2625"
      },
      "execution_count": null,
      "outputs": [
        {
          "output_type": "execute_result",
          "data": {
            "text/plain": [
              "0        0\n",
              "1        1\n",
              "2        2\n",
              "3        3\n",
              "4        4\n",
              "      ... \n",
              "503    503\n",
              "504    504\n",
              "505    505\n",
              "506    506\n",
              "507    507\n",
              "Name: Unnamed: 0, Length: 508, dtype: int64"
            ]
          },
          "metadata": {},
          "execution_count": 20
        }
      ]
    },
    {
      "cell_type": "code",
      "source": [
        "class CarePathwaysDataset_reg(DGLDataset):\n",
        "\n",
        "        def __init__(self):\n",
        "          super().__init__(name=\"care_pthways\")\n",
        "\n",
        "        def process(self):\n",
        "          nodes_data = pd.read_csv(\"/content/drive/MyDrive/healthcare_gnn/pt_pathways-v4_reg.csv\")\n",
        "          print(nodes_data.shape)\n",
        "          #Attribute names\n",
        "          print(nodes_data.columns)\n",
        "          node_feat = nodes_data.drop(['id','Hospital LOS', 'Std Dev','Unnamed: 0','comorbidities_other','Mean HLOS'], axis=1) #LOS and std dev\n",
        "          print(f\"Node Features Dimension {node_feat.shape}\")\n",
        "          tsr_feat = torch. tensor(node_feat.values)\n",
        "          torch.save(tsr_feat, 'data.pt')\n",
        "\n",
        "          edges_data = pd.read_csv(\"/content/drive/MyDrive/healthcare_gnn/someTest.csv\")\n",
        "          #node_features = torch.from_numpy(nodes_data[\"age\"].to_numpy())\n",
        "          node_features = tsr_feat\n",
        "          node_labels = torch.from_numpy(nodes_data[\"Hospital LOS\"].astype(float).to_numpy()) #LOS\n",
        "          edge_features = torch.from_numpy(edges_data[\"Weight\"].to_numpy())\n",
        "          edges_src = torch.from_numpy(edges_data[\"Src\"].to_numpy())\n",
        "          edges_dst = torch.from_numpy(edges_data[\"Dst\"].to_numpy())\n",
        "\n",
        "          self.graph = dgl.graph((edges_src, edges_dst),num_nodes=nodes_data.shape[0])\n",
        "          self.graph.ndata[\"feat\"] = node_features\n",
        "          self.graph.ndata[\"label\"] = node_labels\n",
        "          self.graph.edata[\"weight\"] = edge_features\n",
        "\n",
        "           # If your dataset is a node classification dataset, you will need to assign\n",
        "          # masks indicating whether a node belongs to training, validation, and test set.\n",
        "          n_nodes = nodes_data.shape[0]\n",
        "          n_train = int(n_nodes * 0.6)\n",
        "          #train_inst = pd.read_csv(\"/content/drive/MyDrive/CarePathways/ptTrainInd.csv\")\n",
        "          n_val = int(n_nodes * 0.2)\n",
        "          #val_inst = pd.read_csv(\"/content/drive/MyDrive/CarePathways/ptValidInd.csv\")\n",
        "          n_test = 100\n",
        "          #test_inst = pd.read_csv(\"/content/drive/MyDrive/CarePathways/ptTestInd.csv\")\n",
        "\n",
        "          train_mask = torch.zeros(n_nodes, dtype=torch.int)\n",
        "          val_mask = torch.zeros(n_nodes, dtype=torch.int)\n",
        "          test_mask = torch.zeros(n_nodes, dtype=torch.int)\n",
        "          train_mask[:n_train] = int(1)\n",
        "          val_mask[n_train : n_train + n_val] = int(1)\n",
        "          test_mask[n_train + n_val :] = int(1)\n",
        "          self.graph.ndata[\"train_mask\"] = node_labels[:n_train]       #train_mask\n",
        "          self.graph.ndata[\"val_mask\"] =   node_labels[n_train : n_train + n_val]      #val_mask\n",
        "          self.graph.ndata[\"test_mask\"] =  node_labels[n_train + n_val :]    #test_mask\n",
        "\n",
        "        def __getitem__(self, i):\n",
        "          return self.graph\n",
        "\n",
        "        def __len__(self):\n",
        "          return 1\n",
        "dataset_reg = CarePathwaysDataset_reg()\n",
        "gg = dataset_reg[0]\n",
        "print(gg)\n",
        "\n",
        "# Gather statistics from the graph\n",
        "print(f\"Number of nodes {gg.num_nodes}\")\n",
        "print(f\"Number of edges {gg.num_edges}\")\n",
        "#print(f\"Average node degree {g.num_edges / g.num_nodes}\")\n",
        "#print(f\"Number of training nodes {train_mask.shape}\")"
      ],
      "metadata": {
        "id": "CcsbtLPZo5cK",
        "colab": {
          "base_uri": "https://localhost:8080/"
        },
        "outputId": "67bd18aa-096c-4cbc-b761-65e38f79943a"
      },
      "execution_count": null,
      "outputs": [
        {
          "output_type": "stream",
          "name": "stdout",
          "text": [
            "(508, 55)\n",
            "Index(['Unnamed: 0', 'id', 'admission_disposition', 'age', 'sex',\n",
            "       'Hospital LOS', 'Std Dev', 'Hypertension',\n",
            "       'Chronic cardiac disease (not hypertension)', 'N/A', 'Diabetes',\n",
            "       'History of cancer [now in remission]', 'Other', 'Kidney disease',\n",
            "       'Obesity', 'Asthma', 'Rheumatologic disorder',\n",
            "       'Dementia [any etiology]', 'Chronic pulmonary (lung) disease',\n",
            "       'Pregnancy', 'Stroke', 'Cancer [active only]', 'Liver disease',\n",
            "       'Chronic renal', 'Chronic neurological disorder', 'Hematological',\n",
            "       'comorbidities_other', 'Mean HLOS',\n",
            "       'reason_for_admission_ARDS (adult respiratory distress syndrome) [J80]',\n",
            "       'reason_for_admission_Acquired respiratory distress syndrome [J80]',\n",
            "       'reason_for_admission_Atypical pneumonia [J18.9]',\n",
            "       'reason_for_admission_COVID-19 [U07.1]',\n",
            "       'reason_for_admission_COVID-19 determined by clinical diagnostic criteria [U07.2]',\n",
            "       'reason_for_admission_COVID-19 virus infection [U07.1]',\n",
            "       'reason_for_admission_COVID-19 with multiple comorbidities [U07.1]',\n",
            "       'reason_for_admission_Coronavirus infection [B34.2]',\n",
            "       'reason_for_admission_Cough [R05]',\n",
            "       'reason_for_admission_Febrile respiratory illness [J98.9, R50.9]',\n",
            "       'reason_for_admission_Fever [R50.9]',\n",
            "       'reason_for_admission_Fever of unknown origin [R50.9]',\n",
            "       'reason_for_admission_Hypoxemia [R09.0]',\n",
            "       'reason_for_admission_Hypoxia [R09.0]',\n",
            "       'reason_for_admission_Hypoxic [R09.0]',\n",
            "       'reason_for_admission_Myalgia [M79.19]',\n",
            "       'reason_for_admission_Pneumonia [J18.9]',\n",
            "       'reason_for_admission_Pneumonia due to 2019-nCoV [U07.1, J12.8]',\n",
            "       'reason_for_admission_Pneumonia due to COVID-19 virus [U07.1, J12.8]',\n",
            "       'reason_for_admission_Respiratory distress [R06.0]',\n",
            "       'reason_for_admission_Respiratory failure [J96.99]',\n",
            "       'reason_for_admission_Respiratory tract infection [J98.8]',\n",
            "       'reason_for_admission_Shortness of breath [R06.0]',\n",
            "       'reason_for_admission_Shortness of breath with exposure to COVID-19 virus [R06.0, U07.2]',\n",
            "       'reason_for_admission_Suspected COVID-19 virus infection [U07.2]',\n",
            "       'reason_for_admission_Tachypnea [R06.8]',\n",
            "       'reason_for_admission_Viral pneumonia [J12.9]'],\n",
            "      dtype='object')\n",
            "Node Features Dimension (508, 49)\n",
            "Graph(num_nodes=508, num_edges=145598,\n",
            "      ndata_schemes={'feat': Scheme(shape=(49,), dtype=torch.int64), 'label': Scheme(shape=(), dtype=torch.float64), 'train_mask': Scheme(shape=(), dtype=torch.int32), 'val_mask': Scheme(shape=(), dtype=torch.int32), 'test_mask': Scheme(shape=(), dtype=torch.int32)}\n",
            "      edata_schemes={'weight': Scheme(shape=(), dtype=torch.float64)})\n",
            "Number of nodes <bound method DGLGraph.num_nodes of Graph(num_nodes=508, num_edges=145598,\n",
            "      ndata_schemes={'feat': Scheme(shape=(49,), dtype=torch.int64), 'label': Scheme(shape=(), dtype=torch.float64), 'train_mask': Scheme(shape=(), dtype=torch.int32), 'val_mask': Scheme(shape=(), dtype=torch.int32), 'test_mask': Scheme(shape=(), dtype=torch.int32)}\n",
            "      edata_schemes={'weight': Scheme(shape=(), dtype=torch.float64)})>\n",
            "Number of edges <bound method DGLGraph.num_edges of Graph(num_nodes=508, num_edges=145598,\n",
            "      ndata_schemes={'feat': Scheme(shape=(49,), dtype=torch.int64), 'label': Scheme(shape=(), dtype=torch.float64), 'train_mask': Scheme(shape=(), dtype=torch.int32), 'val_mask': Scheme(shape=(), dtype=torch.int32), 'test_mask': Scheme(shape=(), dtype=torch.int32)}\n",
            "      edata_schemes={'weight': Scheme(shape=(), dtype=torch.float64)})>\n"
          ]
        }
      ]
    },
    {
      "cell_type": "code",
      "source": [
        "gg.ndata['label'][gg.ndata['test_mask']]"
      ],
      "metadata": {
        "colab": {
          "base_uri": "https://localhost:8080/"
        },
        "id": "XEU-b-5MwAkf",
        "outputId": "ec5abe34-070a-43eb-f5f7-2aa65e92f652"
      },
      "execution_count": null,
      "outputs": [
        {
          "output_type": "execute_result",
          "data": {
            "text/plain": [
              "tensor([21., 21., 21., 21., 21., 21., 21., 21., 21., 21., 21., 21., 21., 21.,\n",
              "        21., 21., 21., 21., 21., 21., 21., 21., 21., 21., 21., 21., 21., 21.,\n",
              "        21., 21., 21., 21., 21., 21., 21., 21., 21., 21., 21., 21., 21., 21.,\n",
              "        21., 21., 21., 21., 21., 21., 21., 21., 21., 21., 21., 21., 21., 21.,\n",
              "        21., 21., 21., 21., 21., 21., 21., 21., 21., 21., 21., 21., 21., 21.,\n",
              "        21., 21., 21., 21., 21., 21., 21., 21., 21., 21., 21., 21., 21., 21.,\n",
              "        21., 21., 21., 21., 21., 21., 21., 21., 21., 21., 21., 21., 21., 21.,\n",
              "        21., 21., 21., 21., 21., 21., 21., 21., 21., 21., 21., 21., 21., 21.,\n",
              "        21., 21., 21., 21., 21., 21., 21., 21., 21., 21., 21., 21., 21., 21.,\n",
              "        21., 21., 21., 21., 21., 21., 21., 21., 21., 21., 21., 21., 21., 21.,\n",
              "        21., 21., 21., 21., 21., 21., 21., 21., 21., 21., 21., 21., 21., 21.,\n",
              "        21., 21., 21., 21., 21., 21., 21., 21., 21., 21., 21., 21., 21., 21.,\n",
              "        21., 21., 21., 21., 21., 21., 21., 21., 21., 21., 21., 21., 21., 21.,\n",
              "        21., 21., 21., 21., 21., 21., 21., 21., 21., 21., 21., 21., 21., 21.,\n",
              "        21., 21., 21., 21., 21., 21., 21., 21., 21., 21., 21., 21., 21., 21.,\n",
              "        21., 21., 21., 21., 21., 21., 21., 21., 21., 21., 21., 21., 21., 21.,\n",
              "        21., 21., 21., 21., 21., 21., 21., 21., 21., 21., 21., 21., 21., 21.,\n",
              "        21., 21., 21., 21., 21., 21., 21., 21., 21., 21., 21., 21., 21., 21.,\n",
              "        21., 21., 21., 21., 21., 21., 21., 21., 21., 21., 21., 21., 21., 21.,\n",
              "        21., 21., 21., 21., 21., 21., 21., 21., 21., 21., 21., 21., 21., 21.,\n",
              "        21., 21., 21., 21., 21., 21., 21., 21., 21., 21., 21., 21., 21., 21.,\n",
              "        21., 21., 21., 21., 21., 21., 21., 21., 21., 21., 21., 21., 21., 21.,\n",
              "        21., 21., 21., 21., 21., 21., 21., 21., 21., 21., 21., 21., 21., 21.,\n",
              "        21., 21., 21., 21., 21., 21., 21., 21., 21., 21., 21., 21., 21., 21.,\n",
              "        21., 21., 21., 21., 21., 21., 21., 21., 21., 21., 21., 21., 21., 21.,\n",
              "        21., 21., 21., 21., 21., 21., 21., 21., 21., 21., 21., 21., 21., 21.,\n",
              "        21., 21., 21., 21., 21., 21., 21., 21., 21., 21., 21., 21., 21., 21.,\n",
              "        21., 21., 21., 21., 21., 21., 21., 21., 21., 21., 21., 21., 21., 21.,\n",
              "        21., 21., 21., 21., 21., 21., 21., 21., 21., 21., 21., 21., 21.,  5.,\n",
              "         5.,  5.,  5.,  5.,  5.,  5.,  5.,  5.,  5.,  5.,  5.,  5.,  5.,  5.,\n",
              "         5.,  5.,  5.,  5.,  5.,  5.,  5.,  5.,  5.,  5.,  5.,  5.,  5.,  5.,\n",
              "         5.,  5.,  5.,  5.,  5.,  5.,  5.,  5.,  5.,  5.,  5.,  5.,  5.,  5.,\n",
              "         5.,  5.,  5.,  5.,  5.,  5.,  5.,  5.,  5.,  5.,  5.,  5.,  5.,  5.,\n",
              "         5.,  5.,  5.,  5.,  5.,  5.,  5.,  5.,  5.,  5.,  5.,  5.,  5.,  5.,\n",
              "         5.,  5.,  5.,  5.,  5.,  5.,  5.,  5.,  5.,  5.,  5.,  5.,  5.,  5.,\n",
              "         5.,  5.,  5.,  5.,  5.,  5.,  5.,  5.,  5.,  5.,  5.,  5.,  5.,  5.,\n",
              "         5.,  5.,  5.,  5.], dtype=torch.float64)"
            ]
          },
          "metadata": {},
          "execution_count": 64
        }
      ]
    },
    {
      "cell_type": "code",
      "source": [
        "# Training a Multilayer Perceptron (MLP)\n",
        "import torch\n",
        "from torch.nn import Linear\n",
        "import torch.nn.functional as F\n",
        "\n",
        "class MLP(torch.nn.Module):\n",
        "  def __init__(self, hidden_channels):\n",
        "      super().__init__()\n",
        "      #torch.manual.seed(12113)\n",
        "      self.lin1 = Linear(43, hidden_channels)\n",
        "      self.lin2 = Linear(hidden_channels, 2)\n",
        "\n",
        "  def forward(self,x):\n",
        "      x = self.lin1(x)\n",
        "      #x = x.relu()\n",
        "      x = x.sigmoid()\n",
        "      x = self.lin2(x)\n",
        "      return x\n",
        "\n",
        "#train_data_sz = 422\n",
        "#modelMLP = MLP(train_data_sz, hidden_channels=16)\n",
        "#print(modelMLP)"
      ],
      "metadata": {
        "id": "vkzEEoW98F97"
      },
      "execution_count": null,
      "outputs": []
    },
    {
      "cell_type": "code",
      "source": [
        "import numpy as np\n",
        "import torch\n",
        "from torch.nn import Linear\n",
        "\n",
        "import pandas as pd\n",
        "from google.colab import drive\n",
        "drive.mount('/content/drive')\n",
        "\n",
        "#No GNNs involved -- simply run MLP on the data\n",
        "nodes_data = pd.read_csv(\"/content/drive/MyDrive/healthcare_gnn/pt_pathways-v4.csv\")\n",
        "#print(nodes_data.shape)\n",
        "#Attribute names\n",
        "#print(nodes_data.columns)\n",
        "node_feat = nodes_data.drop(['id','Mean HLOS'], axis=1)\n",
        "print(f\"Node features dimension: {node_feat.shape}\")\n",
        "tsr_feat = torch.tensor(node_feat.values)\n",
        "tsr_feat = tsr_feat.to(torch.float32)\n",
        "labels = torch.from_numpy(nodes_data[\"Mean HLOS\"].astype(float).to_numpy())\n",
        "\n",
        "#Split the data into train and test\n",
        "n_data_sz = nodes_data.shape[0]\n",
        "msk = np.random.rand(n_data_sz) < 0.8\n",
        "#print(f\"Mask {msk}\")\n",
        "nodes_data_train = tsr_feat[msk]\n",
        "print(f\"Size of training data {nodes_data_train.shape}\")\n",
        "nodes_data_test = tsr_feat[~msk]\n",
        "print(f\"Size of test data {nodes_data_test.shape}\")\n",
        "\n",
        "modelMLP = MLP(hidden_channels=16)\n",
        "print(f\"Model is: {modelMLP}\")\n",
        "#mdl = Linear(node_feat.shape[1], 2, bias=False)\n",
        "#Define loss criterion\n",
        "criterion = torch.nn.CrossEntropyLoss()\n",
        "#Define optimizer\n",
        "optimizer = torch.optim.Adam(modelMLP.parameters(), lr=0.01, weight_decay=5e-4)\n",
        "\n",
        "def train():\n",
        "       optimizer.zero_grad()\n",
        "       #print(f\"Data type of model weight {mdl.weight.dtype}\")\n",
        "       #print(f\"Dimension of model weight - first {modelMLP.lin1.weight.shape}\")\n",
        "       #print(f\"Dimension of model weight - sec {modelMLP.lin2.weight.shape}\")\n",
        "       #print(f\"Data type of the features {nodes_data_train.dtype}\")\n",
        "       #out = mdl(nodes_data_train)\n",
        "       out = modelMLP(nodes_data_train)\n",
        "       #print(out.size())\n",
        "       #print(out.dtype)\n",
        "       #print(labels[msk].dtype)\n",
        "       #Check out the actual predictions\n",
        "       #print(f\"What is out? {out}\")\n",
        "\n",
        "       #Assume model is built on the entire dataset\n",
        "       loss = criterion(out,labels[msk].to(torch.long))\n",
        "       #print(f\"Loss is {loss}\")\n",
        "       #val_loss = criterion(out[\"val_mask\"],labels[\"val_mask\"])\n",
        "       loss.backward()\n",
        "       optimizer.step()\n",
        "       return loss\n",
        "\n",
        "def test():\n",
        "      #mdl.eval()\n",
        "      modelMLP.eval()\n",
        "      #outMLP = mdl(nodes_data_test)\n",
        "      outMLP = modelMLP(nodes_data_test)\n",
        "      pred = outMLP.argmax(dim=1)\n",
        "      test_correct = pred == labels[~msk]\n",
        "      test_acc = int(test_correct.sum()) / int(nodes_data_test.shape[0])\n",
        "      return test_acc\n",
        "\n",
        "for epoch in range (1, 10):\n",
        "     loss_tr = train()\n",
        "     test_acc = test()\n",
        "     print(f\"Epoch: {epoch: 1d}, Loss: {loss_tr: 0.4f}, Test Acc. {test_acc: 0.4f}\")\n"
      ],
      "metadata": {
        "colab": {
          "base_uri": "https://localhost:8080/"
        },
        "id": "Hbh7WvVJCziR",
        "outputId": "4dae90c4-2b03-4222-a232-7e3e3b718032"
      },
      "execution_count": null,
      "outputs": [
        {
          "output_type": "stream",
          "name": "stdout",
          "text": [
            "Drive already mounted at /content/drive; to attempt to forcibly remount, call drive.mount(\"/content/drive\", force_remount=True).\n",
            "Node features dimension: (508, 43)\n",
            "Size of training data torch.Size([394, 43])\n",
            "Size of test data torch.Size([114, 43])\n",
            "Model is: MLP(\n",
            "  (lin1): Linear(in_features=43, out_features=16, bias=True)\n",
            "  (lin2): Linear(in_features=16, out_features=2, bias=True)\n",
            ")\n",
            "Epoch:  1, Loss:  0.6238, Test Acc.  0.7105\n",
            "Epoch:  2, Loss:  0.6195, Test Acc.  0.7105\n",
            "Epoch:  3, Loss:  0.6189, Test Acc.  0.7105\n",
            "Epoch:  4, Loss:  0.6167, Test Acc.  0.7105\n",
            "Epoch:  5, Loss:  0.6136, Test Acc.  0.7105\n",
            "Epoch:  6, Loss:  0.6108, Test Acc.  0.7105\n",
            "Epoch:  7, Loss:  0.6086, Test Acc.  0.7105\n",
            "Epoch:  8, Loss:  0.6069, Test Acc.  0.7105\n",
            "Epoch:  9, Loss:  0.6052, Test Acc.  0.7105\n"
          ]
        }
      ]
    },
    {
      "cell_type": "code",
      "source": [
        "from dgl.nn import GraphConv\n",
        "\n",
        "class GCN(nn.Module):\n",
        "    def __init__(self, in_feats, h_feats, num_classes):\n",
        "        super(GCN, self).__init__()\n",
        "        self.conv1 = GraphConv(in_feats, h_feats)\n",
        "        self.conv2 = GraphConv(h_feats, num_classes)\n",
        "\n",
        "    def forward(self, g, in_feat):\n",
        "        h = self.conv1(g, in_feat)\n",
        "        h = F.relu(h) #relu\n",
        "        h = self.conv2(g, h)\n",
        "        #m=nn.Linear(h.shape[1],h.shape[1]) #for regression\n",
        "        #h=m(h)\n",
        "        return h\n",
        "\n",
        "# Create the model with given dimensions\n",
        "print(g.ndata[\"feat\"].shape)\n",
        "model = GCN(g.ndata[\"feat\"].shape[1], 32, 2)\n",
        "print(model)"
      ],
      "metadata": {
        "colab": {
          "base_uri": "https://localhost:8080/"
        },
        "id": "7MNY5S6FJrH5",
        "outputId": "cf0e5b8e-7637-44e0-8b96-7d4fd28b191f"
      },
      "execution_count": null,
      "outputs": [
        {
          "output_type": "stream",
          "name": "stdout",
          "text": [
            "torch.Size([508, 43])\n",
            "GCN(\n",
            "  (conv1): GraphConv(in=43, out=32, normalization=both, activation=None)\n",
            "  (conv2): GraphConv(in=32, out=2, normalization=both, activation=None)\n",
            ")\n"
          ]
        }
      ]
    },
    {
      "cell_type": "code",
      "source": [
        "def train(g, model):\n",
        "      #Select the Adam optimizer for no apparent reason\n",
        "      optimizer = torch.optim.Adam(model.parameters(), lr=0.01)\n",
        "      best_val_acc = 0\n",
        "      best_test_acc = 0\n",
        "\n",
        "      features = g.ndata[\"feat\"]\n",
        "      print(f\"Features are: {features}\")\n",
        "      labels = g.ndata[\"label\"]\n",
        "      #print(f\"Labels are: {labels}\")\n",
        "      train_mask = g.ndata[\"train_mask\"]\n",
        "      #print(f\"Train_mask {train_mask}\")\n",
        "      val_mask = g.ndata[\"val_mask\"]\n",
        "      test_mask = g.ndata[\"test_mask\"]\n",
        "\n",
        "      for e in range(50):\n",
        "        # Forward\n",
        "        logits = model(g, features)\n",
        "        #print(f\"Prediction is {logits}\")\n",
        "        # Compute prediction\n",
        "        #logits=g.ndata[\"feat\"]\n",
        "        pred = logits.argmax(dim=1) #change it to = logits\n",
        "        #print(pred[train_mask])\n",
        "        #print(f\"Prediction is {pred}\")\n",
        "\n",
        "        # Compute loss\n",
        "        # Note that you should only compute the losses of the nodes in the training set.\n",
        "        #print(f\"Data type {logits[train_mask].dtype}\")\n",
        "        #print(f\"Data type {labels[train_mask].dtype}\")\n",
        "        loss = F.cross_entropy(logits[train_mask], labels[train_mask].to(torch.long))\n",
        "        #print(f\"Loss is {loss}\")\n",
        "\n",
        "        # Compute accuracy on training/validation/test #change it to mse\n",
        "        train_acc = (pred[train_mask] == labels[train_mask]).float().mean()\n",
        "        val_acc = (pred[val_mask] == labels[val_mask]).float().mean()\n",
        "        test_acc = (pred[test_mask] == labels[test_mask]).float().mean()\n",
        "\n",
        "        # Save the best validation accuracy and the corresponding test accuracy.\n",
        "        if best_val_acc < val_acc:\n",
        "            best_val_acc = val_acc\n",
        "            best_test_acc = test_acc\n",
        "\n",
        "        # Backward\n",
        "        optimizer.zero_grad()\n",
        "        loss.backward()\n",
        "        optimizer.step()\n",
        "\n",
        "        if e % 5 == 0:\n",
        "            print(\n",
        "                f\"In epoch {e}, loss: {loss:.3f}, val acc: {val_acc:.3f} (best {best_val_acc:.3f}), test acc: {test_acc:.3f} (best {best_test_acc:.3f})\"\n",
        "            )\n",
        "\n",
        "\n",
        "# Create the model with given dimensions\n",
        "model = GCN(43,10, 2)\n",
        "#print(model)\n",
        "train(g,model)"
      ],
      "metadata": {
        "colab": {
          "base_uri": "https://localhost:8080/"
        },
        "id": "kyL061l6KDwa",
        "outputId": "34c78790-a0c8-45fd-bce7-ca1a4c8c4245"
      },
      "execution_count": null,
      "outputs": [
        {
          "output_type": "stream",
          "name": "stdout",
          "text": [
            "Features are: tensor([[ 1, 74,  1,  ...,  0,  0,  0],\n",
            "        [ 1, 61,  0,  ...,  0,  0,  0],\n",
            "        [ 1, 58,  0,  ...,  0,  0,  0],\n",
            "        ...,\n",
            "        [ 1, 74,  1,  ...,  0,  0,  0],\n",
            "        [ 1, 48,  0,  ...,  0,  0,  0],\n",
            "        [ 1, 73,  1,  ...,  0,  0,  0]])\n",
            "In epoch 0, loss: 8.955, val acc: 0.199 (best 0.199), test acc: 0.203 (best 0.203)\n",
            "In epoch 5, loss: 2.393, val acc: 0.199 (best 0.199), test acc: 0.203 (best 0.203)\n",
            "In epoch 10, loss: 2.536, val acc: 0.801 (best 0.801), test acc: 0.797 (best 0.797)\n",
            "In epoch 15, loss: 0.722, val acc: 0.801 (best 0.801), test acc: 0.797 (best 0.797)\n",
            "In epoch 20, loss: 1.410, val acc: 0.199 (best 0.801), test acc: 0.203 (best 0.797)\n",
            "In epoch 25, loss: 0.672, val acc: 1.000 (best 1.000), test acc: 1.000 (best 1.000)\n",
            "In epoch 30, loss: 0.847, val acc: 0.801 (best 1.000), test acc: 0.797 (best 1.000)\n",
            "In epoch 35, loss: 0.805, val acc: 0.199 (best 1.000), test acc: 0.203 (best 1.000)\n",
            "In epoch 40, loss: 0.657, val acc: 0.199 (best 1.000), test acc: 0.203 (best 1.000)\n",
            "In epoch 45, loss: 0.682, val acc: 0.801 (best 1.000), test acc: 0.797 (best 1.000)\n"
          ]
        }
      ]
    },
    {
      "cell_type": "code",
      "source": [
        "#best_pred_array=[]\n",
        "def train_reg(g, model):\n",
        "      #Select the Adam optimizer for no apparent reaspon\n",
        "      optimizer = torch.optim.Adam(model.parameters(), lr=0.01)\n",
        "      best_val_acc = np.inf\n",
        "      best_test_acc = np.inf\n",
        "      best_pred_array=[]\n",
        "\n",
        "      features = g.ndata[\"feat\"]\n",
        "      print(f\"Features are: {features}\")\n",
        "      labels = g.ndata[\"label\"]  #change it to length of stay\n",
        "\n",
        "      #print(f\"Labels are: {labels}\")\n",
        "      n_nodes = nodes_data.shape[0]\n",
        "      n_train = int(n_nodes * 0.6)\n",
        "      n_val = int(n_nodes * 0.2)\n",
        "      n_test = 100\n",
        "      train_mask = labels[:n_train]\n",
        "      #print(f\"Train_mask {train_mask}\")\n",
        "      val_mask = labels[n_train : n_train + n_val]\n",
        "      test_mask = labels[n_train + n_val :]\n",
        "\n",
        "      for e in range(50): #50\n",
        "        # Forward\n",
        "        logits = model(g, features)\n",
        "        #print(f\"Prediction is {logits}\")\n",
        "        # Compute prediction\n",
        "        #logits=g.ndata[\"feat\"]\n",
        "        pred = logits #logits.argmax(dim=1)\n",
        "        #print(pred[train_mask])\n",
        "        #print(f\"Prediction is {pred}\")\n",
        "\n",
        "        # Compute loss\n",
        "        # Note that you should only compute the losses of the nodes in the training set.\n",
        "        #print(f\"Data type {logits[train_mask].dtype}\")\n",
        "        #print(f\"Data type {labels[train_mask].dtype}\")\n",
        "\n",
        "        #loss = F.cross_entropy(logits[train_mask], labels[train_mask].to(torch.long))\n",
        "        logits=logits.flatten()\n",
        "        maeloss=torch.nn.L1Loss()\n",
        "        loss=maeloss(logits[:n_train], train_mask.to(torch.long))\n",
        "        #print(logits[train_mask])\n",
        "        #print(labels[train_mask])\n",
        "        #print(f\"Loss is {loss}\")\n",
        "\n",
        "        # Compute accuracy on training/validation/test\n",
        "        train_acc = ((pred[:n_train] - train_mask).float()**2).mean() #(pred[train_mask] == labels[train_mask]).float().mean()\n",
        "        val_acc = ((pred[n_train : n_train + n_val] - val_mask).float()**2).mean() #(pred[val_mask] == labels[val_mask]).float().mean()\n",
        "        test_acc = ((pred[n_train + n_val :] - test_mask).float()**2).mean() #(pred[test_mask] == labels[test_mask]).float().mean()\n",
        "\n",
        "        # Save the best validation accuracy and the corresponding test accuracy.\n",
        "        if best_val_acc > val_acc: #if the MSE is smaller\n",
        "            best_val_acc = val_acc\n",
        "            best_test_acc = test_acc\n",
        "            best_pred_array=pred[n_train + n_val :]\n",
        "\n",
        "        # Backward\n",
        "        optimizer.zero_grad()\n",
        "        loss.backward()\n",
        "        optimizer.step()\n",
        "\n",
        "        if e % 5 == 0:\n",
        "            print(\n",
        "                f\"In epoch {e}, loss: {loss:.3f}, val acc: {val_acc:.3f} (best {best_val_acc:.3f}), test acc: {test_acc:.3f} (best {best_test_acc:.3f})\"\n",
        "            )\n",
        "      return best_pred_array\n",
        "\n",
        "\n",
        "# Create the model with given dimensions\n",
        "model_reg = GCN(gg.ndata[\"feat\"].shape[1],10, 1)\n",
        "#print(model)\n",
        "b=train_reg(gg,model_reg)"
      ],
      "metadata": {
        "id": "pkOsUA8IdJQ8",
        "colab": {
          "base_uri": "https://localhost:8080/"
        },
        "outputId": "5c07796a-e737-4578-d81f-72ce1dde36c9"
      },
      "execution_count": null,
      "outputs": [
        {
          "output_type": "stream",
          "name": "stdout",
          "text": [
            "Features are: tensor([[ 1, 74,  1,  ...,  0,  0,  0],\n",
            "        [ 1, 61,  0,  ...,  0,  0,  0],\n",
            "        [ 1, 58,  0,  ...,  0,  0,  0],\n",
            "        ...,\n",
            "        [ 1, 74,  1,  ...,  0,  0,  0],\n",
            "        [ 1, 48,  0,  ...,  0,  0,  0],\n",
            "        [ 1, 73,  1,  ...,  0,  0,  0]])\n",
            "In epoch 0, loss: 9.059, val acc: 260.779 (best 260.779), test acc: 124.294 (best 124.294)\n",
            "In epoch 5, loss: 7.585, val acc: 176.503 (best 176.503), test acc: 82.736 (best 82.736)\n",
            "In epoch 10, loss: 7.787, val acc: 167.762 (best 166.793), test acc: 83.197 (best 83.503)\n",
            "In epoch 15, loss: 7.522, val acc: 183.538 (best 166.793), test acc: 84.051 (best 83.503)\n",
            "In epoch 20, loss: 7.604, val acc: 197.733 (best 166.793), test acc: 88.910 (best 83.503)\n",
            "In epoch 25, loss: 7.532, val acc: 189.346 (best 166.793), test acc: 85.764 (best 83.503)\n",
            "In epoch 30, loss: 7.549, val acc: 179.753 (best 166.793), test acc: 83.223 (best 83.503)\n",
            "In epoch 35, loss: 7.521, val acc: 183.657 (best 166.793), test acc: 84.087 (best 83.503)\n",
            "In epoch 40, loss: 7.531, val acc: 189.295 (best 166.793), test acc: 85.752 (best 83.503)\n",
            "In epoch 45, loss: 7.518, val acc: 184.847 (best 166.793), test acc: 84.406 (best 83.503)\n"
          ]
        }
      ]
    },
    {
      "cell_type": "code",
      "source": [
        "len(gg.ndata['label'])"
      ],
      "metadata": {
        "colab": {
          "base_uri": "https://localhost:8080/"
        },
        "id": "AJiXaLOQqYHh",
        "outputId": "a480a4dd-5a58-4554-ffb0-04a2e987fde9"
      },
      "execution_count": null,
      "outputs": [
        {
          "output_type": "execute_result",
          "data": {
            "text/plain": [
              "508"
            ]
          },
          "metadata": {},
          "execution_count": 77
        }
      ]
    },
    {
      "cell_type": "code",
      "source": [
        "b.flatten()"
      ],
      "metadata": {
        "colab": {
          "base_uri": "https://localhost:8080/"
        },
        "id": "zNEKeI2M4qu7",
        "outputId": "d61a91d4-5251-44c1-c4ce-60a0f5e2dc5e"
      },
      "execution_count": null,
      "outputs": [
        {
          "output_type": "execute_result",
          "data": {
            "text/plain": [
              "tensor([10.6490, 11.1356, 12.6123, 13.6021, 13.0533, 11.1356,  5.5421, 14.9048,\n",
              "        10.3443, 14.0721,  9.6797, 11.0858, 13.8120, 14.2992, 14.9020, 13.8722,\n",
              "         7.1134, 14.9020, 14.7286, 14.0721, 14.2992, 12.6123, 11.1356, 10.6490,\n",
              "        13.3184, 14.7191, 11.9227, 13.9637, 14.5996, 14.9048, 14.0721, 15.1905,\n",
              "        12.3659, 13.6021, 11.8768, 12.4450, 12.8042, 15.0928, 12.8042, 14.7286,\n",
              "        14.9020, 14.2992, 14.5996, 11.0858, 14.6867, 14.7219, 10.6490, 11.2912,\n",
              "        14.5996, 14.7286, 14.7192, 12.9109, 14.5996, 12.4450, 14.9020,  7.3560,\n",
              "        14.7191, 14.9048, 15.1201, 14.7219, 13.3184, 15.1201, 15.1801, 11.1356,\n",
              "        14.5990, 14.7191, 13.0532, 13.5653, 15.1201, 14.5996, 10.7089, 12.6123,\n",
              "         3.6736, 15.1588, 11.1356, 13.5653, 14.6037, 13.5653, 14.0721, 12.9109,\n",
              "        14.6354, 13.1444,  6.3876, 14.7481, 14.2992, 14.7286, 14.9048, 13.3184,\n",
              "         9.3715, 15.1801, 13.3184, 11.0858, 15.1801, 13.9637, 14.9020, 12.6123,\n",
              "        14.6354, 12.4272, 15.1801, 14.5760, 15.1801, 10.6152, 15.0928],\n",
              "       grad_fn=<ReshapeAliasBackward0>)"
            ]
          },
          "metadata": {},
          "execution_count": 114
        }
      ]
    },
    {
      "cell_type": "code",
      "source": [
        "gg.ndata['label'][405:]"
      ],
      "metadata": {
        "colab": {
          "base_uri": "https://localhost:8080/"
        },
        "id": "J2I17KuN3rvR",
        "outputId": "ce902545-13a7-410b-9c34-7743ea753f9c"
      },
      "execution_count": null,
      "outputs": [
        {
          "output_type": "execute_result",
          "data": {
            "text/plain": [
              "tensor([28.,  6., 10.,  1.,  9., 13.,  8.,  7., 13., 44.,  4.,  5.,  4.,  9.,\n",
              "        17., 14.,  7., 28., 17.,  9.,  5., 30.,  8.,  8.,  2.,  5.,  5., 32.,\n",
              "         4., 24.,  3.,  8., 10.,  4.,  3., 13.,  3., 10., 27.,  8.,  2.,  9.,\n",
              "        39., 11., 25.,  3.,  8., 10., 34., 14., 31.,  4., 10.,  7.,  6.,  3.,\n",
              "         5.,  9.,  6.,  4.,  6.,  6.,  6., 10., 36.,  3.,  6.,  4.,  4., 26.,\n",
              "         7.,  4.,  3.,  7., 10.,  8., 11.,  5., 14.,  7.,  8.,  8.,  7.,  7.,\n",
              "         9., 12., 21.,  4.,  3.,  9.,  5., 10., 12., 18., 11.,  2.,  4.,  2.,\n",
              "        13., 19.,  9.,  7.,  5.], dtype=torch.float64)"
            ]
          },
          "metadata": {},
          "execution_count": 85
        }
      ]
    },
    {
      "cell_type": "code",
      "source": [
        "import matplotlib.pyplot as plt"
      ],
      "metadata": {
        "id": "iCLsky024akl"
      },
      "execution_count": null,
      "outputs": []
    },
    {
      "cell_type": "code",
      "source": [
        "plt.scatter(gg.ndata['label'][405:].detach().numpy(), b.flatten().detach().numpy())\n",
        "plt.ylabel(\"pred\")\n",
        "plt.xlabel(\"actual\")\n",
        "plt.show()"
      ],
      "metadata": {
        "colab": {
          "base_uri": "https://localhost:8080/",
          "height": 449
        },
        "id": "tuzGxzVj5STn",
        "outputId": "f8b96662-337b-4f75-dc3f-049305f68ff7"
      },
      "execution_count": null,
      "outputs": [
        {
          "output_type": "display_data",
          "data": {
            "text/plain": [
              "<Figure size 640x480 with 1 Axes>"
            ],
            "image/png": "[encoded data removed]"
          },
          "metadata": {}
        }
      ]
    },
    {
      "cell_type": "code",
      "source": [
        "plt.scatter(gg.ndata['label'][405:].detach().numpy(),gg.ndata['label'][405:].detach().numpy()- b.flatten().detach().numpy())\n",
        "plt.ylabel(\"residual\")\n",
        "plt.xlabel(\"actual\")\n",
        "plt.show()"
      ],
      "metadata": {
        "colab": {
          "base_uri": "https://localhost:8080/",
          "height": 449
        },
        "id": "8r09zbgmSbTm",
        "outputId": "c2d68c5c-1cde-4f86-c793-b71527cf103d"
      },
      "execution_count": null,
      "outputs": [
        {
          "output_type": "display_data",
          "data": {
            "text/plain": [
              "<Figure size 640x480 with 1 Axes>"
            ],
            "image/png": "[encoded data removed]"
          },
          "metadata": {}
        }
      ]
    },
    {
      "cell_type": "code",
      "source": [
        "#set up the regression model\n",
        "#difference between hop and neighbors\n",
        "def objective(trial):\n",
        "\n",
        "\n",
        "\n",
        "  num_layers=trial.suggest_int(\"num_layer\", 1,3)\n",
        "  hidden_size=trial.suggest_int(\"hidden_size\",16,512)\n",
        "  dropout=trial.suggest_uniform(\"dropout\",0.1,0.5)\n",
        "  lr=trial.suggest_loguniform(\"learning_rate\",1e-5,5e-1)\n",
        "  optimizer_name=trial.suggest_categorical(\"optimizer\", [\"Adam\", \"RMSprop\", \"SGD\"])\n",
        "  best_val_acc = 0\n",
        "  best_test_acc = 0\n",
        "  optimizer = getattr(torch.optim, optimizer_name)(model.parameters(), lr=lr)\n",
        "  features = g.ndata[\"feat\"]\n",
        "  labels = g.ndata[\"label\"]\n",
        "      #print(f\"Labels are: {labels}\")\n",
        "  train_mask = g.ndata[\"train_mask\"]\n",
        "      #print(f\"Train_mask {train_mask}\")\n",
        "  val_mask = g.ndata[\"val_mask\"]\n",
        "  test_mask = g.ndata[\"test_mask\"]\n",
        "  for e in range(50):\n",
        "        # Forward\n",
        "        logits = model(g, features)\n",
        "        #print(f\"Prediction is {logits}\")\n",
        "        # Compute prediction\n",
        "        #logits=g.ndata[\"feat\"]\n",
        "        pred = logits.argmax(dim=1)\n",
        "        #print(pred[train_mask])\n",
        "        #print(f\"Prediction is {pred}\")\n",
        "\n",
        "        # Compute loss\n",
        "        # Note that you should only compute the losses of the nodes in the training set.\n",
        "        #print(f\"Data type {logits[train_mask].dtype}\")\n",
        "        #print(f\"Data type {labels[train_mask].dtype}\")\n",
        "        loss = F.cross_entropy(logits[train_mask], labels[train_mask].to(torch.long))\n",
        "        #print(f\"Loss is {loss}\")\n",
        "\n",
        "        # Compute accuracy on training/validation/test\n",
        "        train_acc = (pred[train_mask] == labels[train_mask]).float().mean()\n",
        "        val_acc = (pred[val_mask] == labels[val_mask]).float().mean()\n",
        "        test_acc = (pred[test_mask] == labels[test_mask]).float().mean()\n",
        "        trial.report(test_acc, e)\n",
        "        if trial.should_prune():\n",
        "          raise optuna.exceptions.TrialPruned()\n",
        "study = optuna.create_study(direction=\"maximize\")\n",
        "study.optimize(objective, n_trials=100, timeout=600)\n",
        "\n",
        "pruned_trials = study.get_trials(deepcopy=False, states=[TrialState.PRUNED])\n",
        "complete_trials = study.get_trials(deepcopy=False, states=[TrialState.COMPLETE])\n",
        "\n",
        "print(\"Study statistics: \")\n",
        "print(\"  Number of finished trials: \", len(study.trials))\n",
        "print(\"  Number of pruned trials: \", len(pruned_trials))\n",
        "print(\"  Number of complete trials: \", len(complete_trials))\n",
        "\n",
        "print(\"Best trial:\")\n",
        "trial = study.best_trial\n",
        "\n",
        "print(\"  Value: \", trial.value)\n",
        "\n",
        "for key, value in trial.params.items():\n",
        "        print(\"    {}: {}\".format(key, value))\n",
        "model = GCN(43,10, 2)\n",
        "#print(model)\n",
        "objective(g,model)"
      ],
      "metadata": {
        "id": "hJUK2_cSPxFr",
        "colab": {
          "base_uri": "https://localhost:8080/",
          "height": 512
        },
        "outputId": "20397717-0e82-4a0f-c253-79535589e8c0"
      },
      "execution_count": null,
      "outputs": [
        {
          "output_type": "stream",
          "name": "stderr",
          "text": [
            "[I 2023-09-01 06:00:20,181] A new study created in memory with name: no-name-5f925152-c991-421c-9015-540fe9cf647b\n",
            "[W 2023-09-01 06:00:20,187] Trial 0 failed with parameters: {} because of the following error: TypeError(\"objective() missing 2 required positional arguments: 'model' and 'trial'\").\n",
            "Traceback (most recent call last):\n",
            "  File \"/usr/local/lib/python3.10/dist-packages/optuna/study/_optimize.py\", line 200, in _run_trial\n",
            "    value_or_values = func(trial)\n",
            "TypeError: objective() missing 2 required positional arguments: 'model' and 'trial'\n",
            "[W 2023-09-01 06:00:20,190] Trial 0 failed with value None.\n"
          ]
        },
        {
          "output_type": "error",
          "ename": "TypeError",
          "evalue": "ignored",
          "traceback": [
            "\u001b[0;31m---------------------------------------------------------------------------\u001b[0m",
            "\u001b[0;31mTypeError\u001b[0m                                 Traceback (most recent call last)",
            "\u001b[0;32m<ipython-input-15-af81de79ee6b>\u001b[0m in \u001b[0;36m<cell line: 45>\u001b[0;34m()\u001b[0m\n\u001b[1;32m     43\u001b[0m           \u001b[0;32mraise\u001b[0m \u001b[0moptuna\u001b[0m\u001b[0;34m.\u001b[0m\u001b[0mexceptions\u001b[0m\u001b[0;34m.\u001b[0m\u001b[0mTrialPruned\u001b[0m\u001b[0;34m(\u001b[0m\u001b[0;34m)\u001b[0m\u001b[0;34m\u001b[0m\u001b[0;34m\u001b[0m\u001b[0m\n\u001b[1;32m     44\u001b[0m \u001b[0mstudy\u001b[0m \u001b[0;34m=\u001b[0m \u001b[0moptuna\u001b[0m\u001b[0;34m.\u001b[0m\u001b[0mcreate_study\u001b[0m\u001b[0;34m(\u001b[0m\u001b[0mdirection\u001b[0m\u001b[0;34m=\u001b[0m\u001b[0;34m\"maximize\"\u001b[0m\u001b[0;34m)\u001b[0m\u001b[0;34m\u001b[0m\u001b[0;34m\u001b[0m\u001b[0m\n\u001b[0;32m---> 45\u001b[0;31m \u001b[0mstudy\u001b[0m\u001b[0;34m.\u001b[0m\u001b[0moptimize\u001b[0m\u001b[0;34m(\u001b[0m\u001b[0mobjective\u001b[0m\u001b[0;34m,\u001b[0m \u001b[0mn_trials\u001b[0m\u001b[0;34m=\u001b[0m\u001b[0;36m100\u001b[0m\u001b[0;34m,\u001b[0m \u001b[0mtimeout\u001b[0m\u001b[0;34m=\u001b[0m\u001b[0;36m600\u001b[0m\u001b[0;34m)\u001b[0m\u001b[0;34m\u001b[0m\u001b[0;34m\u001b[0m\u001b[0m\n\u001b[0m\u001b[1;32m     46\u001b[0m \u001b[0;34m\u001b[0m\u001b[0m\n\u001b[1;32m     47\u001b[0m \u001b[0mpruned_trials\u001b[0m \u001b[0;34m=\u001b[0m \u001b[0mstudy\u001b[0m\u001b[0;34m.\u001b[0m\u001b[0mget_trials\u001b[0m\u001b[0;34m(\u001b[0m\u001b[0mdeepcopy\u001b[0m\u001b[0;34m=\u001b[0m\u001b[0;32mFalse\u001b[0m\u001b[0;34m,\u001b[0m \u001b[0mstates\u001b[0m\u001b[0;34m=\u001b[0m\u001b[0;34m[\u001b[0m\u001b[0mTrialState\u001b[0m\u001b[0;34m.\u001b[0m\u001b[0mPRUNED\u001b[0m\u001b[0;34m]\u001b[0m\u001b[0;34m)\u001b[0m\u001b[0;34m\u001b[0m\u001b[0;34m\u001b[0m\u001b[0m\n",
            "\u001b[0;32m/usr/local/lib/python3.10/dist-packages/optuna/study/study.py\u001b[0m in \u001b[0;36moptimize\u001b[0;34m(self, func, n_trials, timeout, n_jobs, catch, callbacks, gc_after_trial, show_progress_bar)\u001b[0m\n\u001b[1;32m    440\u001b[0m                 \u001b[0mIf\u001b[0m \u001b[0mnested\u001b[0m \u001b[0minvocation\u001b[0m \u001b[0mof\u001b[0m \u001b[0mthis\u001b[0m \u001b[0mmethod\u001b[0m \u001b[0moccurs\u001b[0m\u001b[0;34m.\u001b[0m\u001b[0;34m\u001b[0m\u001b[0;34m\u001b[0m\u001b[0m\n\u001b[1;32m    441\u001b[0m         \"\"\"\n\u001b[0;32m--> 442\u001b[0;31m         _optimize(\n\u001b[0m\u001b[1;32m    443\u001b[0m             \u001b[0mstudy\u001b[0m\u001b[0;34m=\u001b[0m\u001b[0mself\u001b[0m\u001b[0;34m,\u001b[0m\u001b[0;34m\u001b[0m\u001b[0;34m\u001b[0m\u001b[0m\n\u001b[1;32m    444\u001b[0m             \u001b[0mfunc\u001b[0m\u001b[0;34m=\u001b[0m\u001b[0mfunc\u001b[0m\u001b[0;34m,\u001b[0m\u001b[0;34m\u001b[0m\u001b[0;34m\u001b[0m\u001b[0m\n",
            "\u001b[0;32m/usr/local/lib/python3.10/dist-packages/optuna/study/_optimize.py\u001b[0m in \u001b[0;36m_optimize\u001b[0;34m(study, func, n_trials, timeout, n_jobs, catch, callbacks, gc_after_trial, show_progress_bar)\u001b[0m\n\u001b[1;32m     64\u001b[0m     \u001b[0;32mtry\u001b[0m\u001b[0;34m:\u001b[0m\u001b[0;34m\u001b[0m\u001b[0;34m\u001b[0m\u001b[0m\n\u001b[1;32m     65\u001b[0m         \u001b[0;32mif\u001b[0m \u001b[0mn_jobs\u001b[0m \u001b[0;34m==\u001b[0m \u001b[0;36m1\u001b[0m\u001b[0;34m:\u001b[0m\u001b[0;34m\u001b[0m\u001b[0;34m\u001b[0m\u001b[0m\n\u001b[0;32m---> 66\u001b[0;31m             _optimize_sequential(\n\u001b[0m\u001b[1;32m     67\u001b[0m                 \u001b[0mstudy\u001b[0m\u001b[0;34m,\u001b[0m\u001b[0;34m\u001b[0m\u001b[0;34m\u001b[0m\u001b[0m\n\u001b[1;32m     68\u001b[0m                 \u001b[0mfunc\u001b[0m\u001b[0;34m,\u001b[0m\u001b[0;34m\u001b[0m\u001b[0;34m\u001b[0m\u001b[0m\n",
            "\u001b[0;32m/usr/local/lib/python3.10/dist-packages/optuna/study/_optimize.py\u001b[0m in \u001b[0;36m_optimize_sequential\u001b[0;34m(study, func, n_trials, timeout, catch, callbacks, gc_after_trial, reseed_sampler_rng, time_start, progress_bar)\u001b[0m\n\u001b[1;32m    161\u001b[0m \u001b[0;34m\u001b[0m\u001b[0m\n\u001b[1;32m    162\u001b[0m         \u001b[0;32mtry\u001b[0m\u001b[0;34m:\u001b[0m\u001b[0;34m\u001b[0m\u001b[0;34m\u001b[0m\u001b[0m\n\u001b[0;32m--> 163\u001b[0;31m             \u001b[0mfrozen_trial\u001b[0m \u001b[0;34m=\u001b[0m \u001b[0m_run_trial\u001b[0m\u001b[0;34m(\u001b[0m\u001b[0mstudy\u001b[0m\u001b[0;34m,\u001b[0m \u001b[0mfunc\u001b[0m\u001b[0;34m,\u001b[0m \u001b[0mcatch\u001b[0m\u001b[0;34m)\u001b[0m\u001b[0;34m\u001b[0m\u001b[0;34m\u001b[0m\u001b[0m\n\u001b[0m\u001b[1;32m    164\u001b[0m         \u001b[0;32mfinally\u001b[0m\u001b[0;34m:\u001b[0m\u001b[0;34m\u001b[0m\u001b[0;34m\u001b[0m\u001b[0m\n\u001b[1;32m    165\u001b[0m             \u001b[0;31m# The following line mitigates memory problems that can be occurred in some\u001b[0m\u001b[0;34m\u001b[0m\u001b[0;34m\u001b[0m\u001b[0m\n",
            "\u001b[0;32m/usr/local/lib/python3.10/dist-packages/optuna/study/_optimize.py\u001b[0m in \u001b[0;36m_run_trial\u001b[0;34m(study, func, catch)\u001b[0m\n\u001b[1;32m    249\u001b[0m         \u001b[0;32mand\u001b[0m \u001b[0;32mnot\u001b[0m \u001b[0misinstance\u001b[0m\u001b[0;34m(\u001b[0m\u001b[0mfunc_err\u001b[0m\u001b[0;34m,\u001b[0m \u001b[0mcatch\u001b[0m\u001b[0;34m)\u001b[0m\u001b[0;34m\u001b[0m\u001b[0;34m\u001b[0m\u001b[0m\n\u001b[1;32m    250\u001b[0m     ):\n\u001b[0;32m--> 251\u001b[0;31m         \u001b[0;32mraise\u001b[0m \u001b[0mfunc_err\u001b[0m\u001b[0;34m\u001b[0m\u001b[0;34m\u001b[0m\u001b[0m\n\u001b[0m\u001b[1;32m    252\u001b[0m     \u001b[0;32mreturn\u001b[0m \u001b[0mfrozen_trial\u001b[0m\u001b[0;34m\u001b[0m\u001b[0;34m\u001b[0m\u001b[0m\n\u001b[1;32m    253\u001b[0m \u001b[0;34m\u001b[0m\u001b[0m\n",
            "\u001b[0;32m/usr/local/lib/python3.10/dist-packages/optuna/study/_optimize.py\u001b[0m in \u001b[0;36m_run_trial\u001b[0;34m(study, func, catch)\u001b[0m\n\u001b[1;32m    198\u001b[0m     \u001b[0;32mwith\u001b[0m \u001b[0mget_heartbeat_thread\u001b[0m\u001b[0;34m(\u001b[0m\u001b[0mtrial\u001b[0m\u001b[0;34m.\u001b[0m\u001b[0m_trial_id\u001b[0m\u001b[0;34m,\u001b[0m \u001b[0mstudy\u001b[0m\u001b[0;34m.\u001b[0m\u001b[0m_storage\u001b[0m\u001b[0;34m)\u001b[0m\u001b[0;34m:\u001b[0m\u001b[0;34m\u001b[0m\u001b[0;34m\u001b[0m\u001b[0m\n\u001b[1;32m    199\u001b[0m         \u001b[0;32mtry\u001b[0m\u001b[0;34m:\u001b[0m\u001b[0;34m\u001b[0m\u001b[0;34m\u001b[0m\u001b[0m\n\u001b[0;32m--> 200\u001b[0;31m             \u001b[0mvalue_or_values\u001b[0m \u001b[0;34m=\u001b[0m \u001b[0mfunc\u001b[0m\u001b[0;34m(\u001b[0m\u001b[0mtrial\u001b[0m\u001b[0;34m)\u001b[0m\u001b[0;34m\u001b[0m\u001b[0;34m\u001b[0m\u001b[0m\n\u001b[0m\u001b[1;32m    201\u001b[0m         \u001b[0;32mexcept\u001b[0m \u001b[0mexceptions\u001b[0m\u001b[0;34m.\u001b[0m\u001b[0mTrialPruned\u001b[0m \u001b[0;32mas\u001b[0m \u001b[0me\u001b[0m\u001b[0;34m:\u001b[0m\u001b[0;34m\u001b[0m\u001b[0;34m\u001b[0m\u001b[0m\n\u001b[1;32m    202\u001b[0m             \u001b[0;31m# TODO(mamu): Handle multi-objective cases.\u001b[0m\u001b[0;34m\u001b[0m\u001b[0;34m\u001b[0m\u001b[0m\n",
            "\u001b[0;31mTypeError\u001b[0m: objective() missing 2 required positional arguments: 'model' and 'trial'"
          ]
        }
      ]
    },
    {
      "cell_type": "code",
      "source": [
        "param={\n",
        "    \"num_layers\":trial.suggest_int(\"num_layer\", 1,3),\n",
        "      \"hidden_size\": trial.suggest_int(\"hidden_size\",16,512),\n",
        "      \"dropout\": trial.suggest_uniform(\"dropout\",0.1,0.5),\n",
        "      \"learning_rate\": trial.suggest_loguniform(\"learning_rate\",1e-5,5e-1),\n",
        "      \"optimizer_name\" : trial.suggest_categorical(\"optimizer\", [\"Adam\", \"RMSprop\", \"SGD\"])\n",
        "}"
      ],
      "metadata": {
        "id": "dSfMBhg7NVnW"
      },
      "execution_count": null,
      "outputs": []
    }
  ]
}