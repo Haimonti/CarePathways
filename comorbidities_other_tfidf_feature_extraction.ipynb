{
 "cells": [
  {
   "attachments": {},
   "cell_type": "markdown",
   "metadata": {},
   "source": [
    "## TF-IDF Feature Extraction"
   ]
  },
  {
   "cell_type": "code",
   "execution_count": 5,
   "metadata": {},
   "outputs": [],
   "source": [
    "import pandas as pd\n",
    "import numpy as np\n",
    "from sklearn.feature_extraction.text import TfidfVectorizer\n",
    "import nltk\n",
    "from nltk.corpus import stopwords\n",
    "from nltk.tokenize import word_tokenize\n",
    "import re"
   ]
  },
  {
   "cell_type": "code",
   "execution_count": 6,
   "metadata": {},
   "outputs": [
    {
     "data": {
      "text/html": [
       "<div>\n",
       "<style scoped>\n",
       "    .dataframe tbody tr th:only-of-type {\n",
       "        vertical-align: middle;\n",
       "    }\n",
       "\n",
       "    .dataframe tbody tr th {\n",
       "        vertical-align: top;\n",
       "    }\n",
       "\n",
       "    .dataframe thead th {\n",
       "        text-align: right;\n",
       "    }\n",
       "</style>\n",
       "<table border=\"1\" class=\"dataframe\">\n",
       "  <thead>\n",
       "    <tr style=\"text-align: right;\">\n",
       "      <th></th>\n",
       "      <th>id</th>\n",
       "      <th>reason_for_admission</th>\n",
       "      <th>age</th>\n",
       "      <th>sex</th>\n",
       "      <th>ethnicity</th>\n",
       "      <th>ethnicity_other</th>\n",
       "      <th>height</th>\n",
       "      <th>weight</th>\n",
       "      <th>comorbidities</th>\n",
       "      <th>comorbidities_other</th>\n",
       "      <th>...</th>\n",
       "      <th>pao2</th>\n",
       "      <th>pao2_fio2</th>\n",
       "      <th>ph</th>\n",
       "      <th>high_senstivity_cardiac_troponin</th>\n",
       "      <th>esr</th>\n",
       "      <th>inr</th>\n",
       "      <th>ferritin</th>\n",
       "      <th>d_dimer</th>\n",
       "      <th>crp</th>\n",
       "      <th>hs_crp</th>\n",
       "    </tr>\n",
       "  </thead>\n",
       "  <tbody>\n",
       "    <tr>\n",
       "      <th>0</th>\n",
       "      <td>1</td>\n",
       "      <td>Fever [R50.9]</td>\n",
       "      <td>74</td>\n",
       "      <td>Male</td>\n",
       "      <td>\"[]\"</td>\n",
       "      <td>NaN</td>\n",
       "      <td>NaN</td>\n",
       "      <td>NaN</td>\n",
       "      <td>\"[\\\"Hypertension\\\",\\\"Diabetes\\\",\\\"Other\\\"]\"</td>\n",
       "      <td>GERD (gastroesophageal reflux disease), Dement...</td>\n",
       "      <td>...</td>\n",
       "      <td>NaN</td>\n",
       "      <td>NaN</td>\n",
       "      <td>NaN</td>\n",
       "      <td>NaN</td>\n",
       "      <td>NaN</td>\n",
       "      <td>1.1</td>\n",
       "      <td>NaN</td>\n",
       "      <td>NaN</td>\n",
       "      <td>223.0</td>\n",
       "      <td>NaN</td>\n",
       "    </tr>\n",
       "    <tr>\n",
       "      <th>1</th>\n",
       "      <td>2</td>\n",
       "      <td>Pneumonia [J18.9]</td>\n",
       "      <td>61</td>\n",
       "      <td>Female</td>\n",
       "      <td>\"[]\"</td>\n",
       "      <td>NaN</td>\n",
       "      <td>154.9</td>\n",
       "      <td>73.6</td>\n",
       "      <td>\"[\\\"Hypertension\\\",\\\"Other\\\"]\"</td>\n",
       "      <td>Closed fracture of fifth metatarsal bone, Dive...</td>\n",
       "      <td>...</td>\n",
       "      <td>NaN</td>\n",
       "      <td>NaN</td>\n",
       "      <td>NaN</td>\n",
       "      <td>NaN</td>\n",
       "      <td>NaN</td>\n",
       "      <td>1.0</td>\n",
       "      <td>NaN</td>\n",
       "      <td>2354</td>\n",
       "      <td>95.6</td>\n",
       "      <td>NaN</td>\n",
       "    </tr>\n",
       "    <tr>\n",
       "      <th>2</th>\n",
       "      <td>3</td>\n",
       "      <td>Pneumonia [J18.9]</td>\n",
       "      <td>58</td>\n",
       "      <td>Female</td>\n",
       "      <td>\"[]\"</td>\n",
       "      <td>NaN</td>\n",
       "      <td>NaN</td>\n",
       "      <td>NaN</td>\n",
       "      <td>\"[\\\"Hypertension\\\"]\"</td>\n",
       "      <td>NaN</td>\n",
       "      <td>...</td>\n",
       "      <td>NaN</td>\n",
       "      <td>NaN</td>\n",
       "      <td>NaN</td>\n",
       "      <td>NaN</td>\n",
       "      <td>NaN</td>\n",
       "      <td>NaN</td>\n",
       "      <td>NaN</td>\n",
       "      <td>NaN</td>\n",
       "      <td>NaN</td>\n",
       "      <td>NaN</td>\n",
       "    </tr>\n",
       "    <tr>\n",
       "      <th>3</th>\n",
       "      <td>4</td>\n",
       "      <td>Suspected COVID-19 virus infection [U07.2]</td>\n",
       "      <td>94</td>\n",
       "      <td>Male</td>\n",
       "      <td>\"[]\"</td>\n",
       "      <td>NaN</td>\n",
       "      <td>182.8</td>\n",
       "      <td>66.2</td>\n",
       "      <td>\"[\\\"Hypertension\\\",\\\"Other\\\"]\"</td>\n",
       "      <td>Parkinson's Disease, Back pain, Benign Prostat...</td>\n",
       "      <td>...</td>\n",
       "      <td>NaN</td>\n",
       "      <td>NaN</td>\n",
       "      <td>NaN</td>\n",
       "      <td>NaN</td>\n",
       "      <td>NaN</td>\n",
       "      <td>NaN</td>\n",
       "      <td>NaN</td>\n",
       "      <td>NaN</td>\n",
       "      <td>NaN</td>\n",
       "      <td>NaN</td>\n",
       "    </tr>\n",
       "    <tr>\n",
       "      <th>4</th>\n",
       "      <td>5</td>\n",
       "      <td>Febrile respiratory illness [J98.9, R50.9]</td>\n",
       "      <td>91</td>\n",
       "      <td>Male</td>\n",
       "      <td>\"[]\"</td>\n",
       "      <td>NaN</td>\n",
       "      <td>NaN</td>\n",
       "      <td>NaN</td>\n",
       "      <td>\"[\\\"Chronic cardiac disease (not hypertension)...</td>\n",
       "      <td>TAVI, Atrial fibrillation, Gastric Reflux, Pac...</td>\n",
       "      <td>...</td>\n",
       "      <td>NaN</td>\n",
       "      <td>NaN</td>\n",
       "      <td>NaN</td>\n",
       "      <td>NaN</td>\n",
       "      <td>NaN</td>\n",
       "      <td>NaN</td>\n",
       "      <td>NaN</td>\n",
       "      <td>NaN</td>\n",
       "      <td>NaN</td>\n",
       "      <td>NaN</td>\n",
       "    </tr>\n",
       "  </tbody>\n",
       "</table>\n",
       "<p>5 rows × 55 columns</p>\n",
       "</div>"
      ],
      "text/plain": [
       "   id                        reason_for_admission  age     sex ethnicity  \\\n",
       "0   1                               Fever [R50.9]   74    Male      \"[]\"   \n",
       "1   2                           Pneumonia [J18.9]   61  Female      \"[]\"   \n",
       "2   3                           Pneumonia [J18.9]   58  Female      \"[]\"   \n",
       "3   4  Suspected COVID-19 virus infection [U07.2]   94    Male      \"[]\"   \n",
       "4   5  Febrile respiratory illness [J98.9, R50.9]   91    Male      \"[]\"   \n",
       "\n",
       "   ethnicity_other  height  weight  \\\n",
       "0              NaN     NaN     NaN   \n",
       "1              NaN   154.9    73.6   \n",
       "2              NaN     NaN     NaN   \n",
       "3              NaN   182.8    66.2   \n",
       "4              NaN     NaN     NaN   \n",
       "\n",
       "                                       comorbidities  \\\n",
       "0        \"[\\\"Hypertension\\\",\\\"Diabetes\\\",\\\"Other\\\"]\"   \n",
       "1                     \"[\\\"Hypertension\\\",\\\"Other\\\"]\"   \n",
       "2                               \"[\\\"Hypertension\\\"]\"   \n",
       "3                     \"[\\\"Hypertension\\\",\\\"Other\\\"]\"   \n",
       "4  \"[\\\"Chronic cardiac disease (not hypertension)...   \n",
       "\n",
       "                                 comorbidities_other  ... pao2  pao2_fio2  ph  \\\n",
       "0  GERD (gastroesophageal reflux disease), Dement...  ...  NaN        NaN NaN   \n",
       "1  Closed fracture of fifth metatarsal bone, Dive...  ...  NaN        NaN NaN   \n",
       "2                                                NaN  ...  NaN        NaN NaN   \n",
       "3  Parkinson's Disease, Back pain, Benign Prostat...  ...  NaN        NaN NaN   \n",
       "4  TAVI, Atrial fibrillation, Gastric Reflux, Pac...  ...  NaN        NaN NaN   \n",
       "\n",
       "  high_senstivity_cardiac_troponin  esr  inr ferritin  d_dimer    crp  hs_crp  \n",
       "0                              NaN  NaN  1.1      NaN      NaN  223.0     NaN  \n",
       "1                              NaN  NaN  1.0      NaN     2354   95.6     NaN  \n",
       "2                              NaN  NaN  NaN      NaN      NaN    NaN     NaN  \n",
       "3                              NaN  NaN  NaN      NaN      NaN    NaN     NaN  \n",
       "4                              NaN  NaN  NaN      NaN      NaN    NaN     NaN  \n",
       "\n",
       "[5 rows x 55 columns]"
      ]
     },
     "execution_count": 6,
     "metadata": {},
     "output_type": "execute_result"
    }
   ],
   "source": [
    "# Load the data\n",
    "df = pd.read_excel('Canada_Hosp1_COVID_InpatientData.xlsx')\n",
    "df.head()"
   ]
  },
  {
   "cell_type": "code",
   "execution_count": 7,
   "metadata": {},
   "outputs": [
    {
     "name": "stderr",
     "output_type": "stream",
     "text": [
      "[nltk_data] Downloading package stopwords to /Users/sejal/nltk_data...\n",
      "[nltk_data]   Package stopwords is already up-to-date!\n"
     ]
    }
   ],
   "source": [
    "# Get the \"comorbidities_other\" column\n",
    "comorbidities = df['comorbidities_other']\n",
    "\n",
    "# Replace null values with empty strings\n",
    "comorbidities.fillna(\"\", inplace=True)\n",
    "\n",
    "# Initialize NLTK stopwords\n",
    "nltk.download('stopwords')\n",
    "stop_words = set(stopwords.words('english'))"
   ]
  },
  {
   "cell_type": "code",
   "execution_count": 8,
   "metadata": {},
   "outputs": [],
   "source": [
    "# Data cleaning function\n",
    "def clean_text(text):\n",
    "    # Remove special characters and digits\n",
    "    text = re.sub(r'[^a-zA-Z]', ' ', text)\n",
    "    # Convert to lowercase\n",
    "    text = text.lower()\n",
    "    # Tokenize the text\n",
    "    tokens = word_tokenize(text)\n",
    "    # Remove stop words\n",
    "    filtered_tokens = [word for word in tokens if word not in stop_words]\n",
    "    # Join the tokens back into a single string\n",
    "    cleaned_text = ' '.join(filtered_tokens)\n",
    "    return cleaned_text"
   ]
  },
  {
   "cell_type": "code",
   "execution_count": 9,
   "metadata": {},
   "outputs": [],
   "source": [
    "# Clean the comorbidities data\n",
    "cleaned_comorbidities = comorbidities.apply(clean_text)"
   ]
  },
  {
   "cell_type": "code",
   "execution_count": 10,
   "metadata": {},
   "outputs": [
    {
     "data": {
      "text/html": [
       "<style>#sk-container-id-1 {color: black;background-color: white;}#sk-container-id-1 pre{padding: 0;}#sk-container-id-1 div.sk-toggleable {background-color: white;}#sk-container-id-1 label.sk-toggleable__label {cursor: pointer;display: block;width: 100%;margin-bottom: 0;padding: 0.3em;box-sizing: border-box;text-align: center;}#sk-container-id-1 label.sk-toggleable__label-arrow:before {content: \"▸\";float: left;margin-right: 0.25em;color: #696969;}#sk-container-id-1 label.sk-toggleable__label-arrow:hover:before {color: black;}#sk-container-id-1 div.sk-estimator:hover label.sk-toggleable__label-arrow:before {color: black;}#sk-container-id-1 div.sk-toggleable__content {max-height: 0;max-width: 0;overflow: hidden;text-align: left;background-color: #f0f8ff;}#sk-container-id-1 div.sk-toggleable__content pre {margin: 0.2em;color: black;border-radius: 0.25em;background-color: #f0f8ff;}#sk-container-id-1 input.sk-toggleable__control:checked~div.sk-toggleable__content {max-height: 200px;max-width: 100%;overflow: auto;}#sk-container-id-1 input.sk-toggleable__control:checked~label.sk-toggleable__label-arrow:before {content: \"▾\";}#sk-container-id-1 div.sk-estimator input.sk-toggleable__control:checked~label.sk-toggleable__label {background-color: #d4ebff;}#sk-container-id-1 div.sk-label input.sk-toggleable__control:checked~label.sk-toggleable__label {background-color: #d4ebff;}#sk-container-id-1 input.sk-hidden--visually {border: 0;clip: rect(1px 1px 1px 1px);clip: rect(1px, 1px, 1px, 1px);height: 1px;margin: -1px;overflow: hidden;padding: 0;position: absolute;width: 1px;}#sk-container-id-1 div.sk-estimator {font-family: monospace;background-color: #f0f8ff;border: 1px dotted black;border-radius: 0.25em;box-sizing: border-box;margin-bottom: 0.5em;}#sk-container-id-1 div.sk-estimator:hover {background-color: #d4ebff;}#sk-container-id-1 div.sk-parallel-item::after {content: \"\";width: 100%;border-bottom: 1px solid gray;flex-grow: 1;}#sk-container-id-1 div.sk-label:hover label.sk-toggleable__label {background-color: #d4ebff;}#sk-container-id-1 div.sk-serial::before {content: \"\";position: absolute;border-left: 1px solid gray;box-sizing: border-box;top: 0;bottom: 0;left: 50%;z-index: 0;}#sk-container-id-1 div.sk-serial {display: flex;flex-direction: column;align-items: center;background-color: white;padding-right: 0.2em;padding-left: 0.2em;position: relative;}#sk-container-id-1 div.sk-item {position: relative;z-index: 1;}#sk-container-id-1 div.sk-parallel {display: flex;align-items: stretch;justify-content: center;background-color: white;position: relative;}#sk-container-id-1 div.sk-item::before, #sk-container-id-1 div.sk-parallel-item::before {content: \"\";position: absolute;border-left: 1px solid gray;box-sizing: border-box;top: 0;bottom: 0;left: 50%;z-index: -1;}#sk-container-id-1 div.sk-parallel-item {display: flex;flex-direction: column;z-index: 1;position: relative;background-color: white;}#sk-container-id-1 div.sk-parallel-item:first-child::after {align-self: flex-end;width: 50%;}#sk-container-id-1 div.sk-parallel-item:last-child::after {align-self: flex-start;width: 50%;}#sk-container-id-1 div.sk-parallel-item:only-child::after {width: 0;}#sk-container-id-1 div.sk-dashed-wrapped {border: 1px dashed gray;margin: 0 0.4em 0.5em 0.4em;box-sizing: border-box;padding-bottom: 0.4em;background-color: white;}#sk-container-id-1 div.sk-label label {font-family: monospace;font-weight: bold;display: inline-block;line-height: 1.2em;}#sk-container-id-1 div.sk-label-container {text-align: center;}#sk-container-id-1 div.sk-container {/* jupyter's `normalize.less` sets `[hidden] { display: none; }` but bootstrap.min.css set `[hidden] { display: none !important; }` so we also need the `!important` here to be able to override the default hidden behavior on the sphinx rendered scikit-learn.org. See: https://github.com/scikit-learn/scikit-learn/issues/21755 */display: inline-block !important;position: relative;}#sk-container-id-1 div.sk-text-repr-fallback {display: none;}</style><div id=\"sk-container-id-1\" class=\"sk-top-container\"><div class=\"sk-text-repr-fallback\"><pre>TfidfVectorizer(max_df=0.9, min_df=2, stop_words=&#x27;english&#x27;)</pre><b>In a Jupyter environment, please rerun this cell to show the HTML representation or trust the notebook. <br />On GitHub, the HTML representation is unable to render, please try loading this page with nbviewer.org.</b></div><div class=\"sk-container\" hidden><div class=\"sk-item\"><div class=\"sk-estimator sk-toggleable\"><input class=\"sk-toggleable__control sk-hidden--visually\" id=\"sk-estimator-id-1\" type=\"checkbox\" checked><label for=\"sk-estimator-id-1\" class=\"sk-toggleable__label sk-toggleable__label-arrow\">TfidfVectorizer</label><div class=\"sk-toggleable__content\"><pre>TfidfVectorizer(max_df=0.9, min_df=2, stop_words=&#x27;english&#x27;)</pre></div></div></div></div></div>"
      ],
      "text/plain": [
       "TfidfVectorizer(max_df=0.9, min_df=2, stop_words='english')"
      ]
     },
     "execution_count": 10,
     "metadata": {},
     "output_type": "execute_result"
    }
   ],
   "source": [
    "# Create a TfidfVectorizer object\n",
    "vectorizer = TfidfVectorizer(stop_words='english', min_df=2, max_df=0.9)\n",
    "\n",
    "# Fit the vectorizer to the cleaned data\n",
    "vectorizer.fit(cleaned_comorbidities)"
   ]
  },
  {
   "cell_type": "code",
   "execution_count": 11,
   "metadata": {},
   "outputs": [],
   "source": [
    "# Initialize a dictionary to store features for each patient id\n",
    "features_dict = {}\n",
    "\n",
    "# Extract features for each patient id\n",
    "for index, comorbidity in enumerate(cleaned_comorbidities):\n",
    "    id_column = df.at[index, 'id']\n",
    "    features = vectorizer.transform([comorbidity])\n",
    "    features_dict[id_column] = features.toarray().reshape(-1)"
   ]
  },
  {
   "cell_type": "code",
   "execution_count": 12,
   "metadata": {},
   "outputs": [],
   "source": [
    "# Create a DataFrame from the features dictionary\n",
    "features_df = pd.DataFrame.from_dict(features_dict, orient='index', columns=vectorizer.get_feature_names_out())\n",
    "\n",
    "# Rename the first column as 'id'\n",
    "features_df = features_df.rename(columns={'Unnamed: 0': 'id'})"
   ]
  },
  {
   "cell_type": "code",
   "execution_count": 13,
   "metadata": {},
   "outputs": [
    {
     "name": "stdout",
     "output_type": "stream",
     "text": [
      "aaa          0.001188\n",
      "abdominal    0.003625\n",
      "abnormal     0.002128\n",
      "absence      0.000822\n",
      "abuse        0.003531\n",
      "               ...   \n",
      "vessel       0.002309\n",
      "visual       0.001525\n",
      "vitamin      0.004516\n",
      "wall         0.002469\n",
      "years        0.001905\n",
      "Length: 436, dtype: float64\n",
      "cholesterol       0.068144\n",
      "dyslipidemia      0.067095\n",
      "high              0.065549\n",
      "disease           0.043965\n",
      "hyperlipidemia    0.033750\n",
      "                    ...   \n",
      "nonalcoholic      0.000816\n",
      "delirium          0.000776\n",
      "cataracts         0.000707\n",
      "reduced           0.000639\n",
      "echocardiogram    0.000528\n",
      "Length: 436, dtype: float64\n"
     ]
    }
   ],
   "source": [
    "# Sort the features based on their mean TF-IDF score\n",
    "sorted_features = features_df.mean().sort_values(ascending=False)\n",
    "print(features_df.mean())\n",
    "print(sorted_features)"
   ]
  },
  {
   "cell_type": "code",
   "execution_count": 14,
   "metadata": {},
   "outputs": [],
   "source": [
    "# Extract the top 50 features\n",
    "top_50_features = sorted_features[:50]"
   ]
  },
  {
   "cell_type": "code",
   "execution_count": 15,
   "metadata": {},
   "outputs": [],
   "source": [
    "# Create a DataFrame with only the top 50 features\n",
    "top_50_features_df = features_df[top_50_features.index]\n",
    "\n",
    "# Export the DataFrame to Excel\n",
    "top_50_features_df.to_csv('top_150_comorbidities_tfidf_features.csv', index_label='id')"
   ]
  }
 ],
 "metadata": {
  "kernelspec": {
   "display_name": ".venv",
   "language": "python",
   "name": "python3"
  },
  "language_info": {
   "codemirror_mode": {
    "name": "ipython",
    "version": 3
   },
   "file_extension": ".py",
   "mimetype": "text/x-python",
   "name": "python",
   "nbconvert_exporter": "python",
   "pygments_lexer": "ipython3",
   "version": "3.9.6"
  },
  "orig_nbformat": 4
 },
 "nbformat": 4,
 "nbformat_minor": 2
}
